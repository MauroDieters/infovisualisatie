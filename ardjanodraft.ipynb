{
 "cells": [
  {
   "cell_type": "code",
   "execution_count": 144,
   "metadata": {},
   "outputs": [],
   "source": [
    "import plotly.graph_objs as go\n",
    "import plotly.express as px\n",
    "import matplotlib as plt\n",
    "import pandas as pd\n",
    "import numpy as np\n",
    "import seaborn as sns\n",
    "from ipywidgets import interact, interactive, fixed, interact_manual\n",
    "from ipywidgets import GridspecLayout\n",
    "import ipywidgets as widgets"
   ]
  },
  {
   "cell_type": "code",
   "execution_count": 145,
   "metadata": {},
   "outputs": [],
   "source": [
    "layout = go.Layout(\n",
    "        font=dict(\n",
    "        family=\"\"\"\"Lato, \"Helvetica Neue\", Helvetica, Arial, \"Liberation Sans\", sans-serif\"\"\",\n",
    "        ),\n",
    "        title=dict(font=dict(size=24)),\n",
    "        newshape_label_padding=8,\n",
    "        margin_pad=5,\n",
    "        legend=dict(font=dict(size=14)),\n",
    "    )\n",
    "\n"
   ]
  },
  {
   "cell_type": "code",
   "execution_count": 146,
   "metadata": {},
   "outputs": [
    {
     "data": {
      "text/html": [
       "<div>\n",
       "<style scoped>\n",
       "    .dataframe tbody tr th:only-of-type {\n",
       "        vertical-align: middle;\n",
       "    }\n",
       "\n",
       "    .dataframe tbody tr th {\n",
       "        vertical-align: top;\n",
       "    }\n",
       "\n",
       "    .dataframe thead th {\n",
       "        text-align: right;\n",
       "    }\n",
       "</style>\n",
       "<table border=\"1\" class=\"dataframe\">\n",
       "  <thead>\n",
       "    <tr style=\"text-align: right;\">\n",
       "      <th></th>\n",
       "      <th>Product</th>\n",
       "      <th>Land Use Change</th>\n",
       "      <th>Feed</th>\n",
       "      <th>Farm</th>\n",
       "      <th>Processing</th>\n",
       "      <th>Transport</th>\n",
       "      <th>Packaging</th>\n",
       "      <th>Retail</th>\n",
       "      <th>Total</th>\n",
       "    </tr>\n",
       "  </thead>\n",
       "  <tbody>\n",
       "    <tr>\n",
       "      <th>0</th>\n",
       "      <td>Wheat &amp; Rye (Bread)</td>\n",
       "      <td>0.100</td>\n",
       "      <td>0.000</td>\n",
       "      <td>0.847</td>\n",
       "      <td>0.217</td>\n",
       "      <td>0.129</td>\n",
       "      <td>0.090</td>\n",
       "      <td>0.058</td>\n",
       "      <td>1.441</td>\n",
       "    </tr>\n",
       "    <tr>\n",
       "      <th>1</th>\n",
       "      <td>Maize (Meal)</td>\n",
       "      <td>0.315</td>\n",
       "      <td>0.000</td>\n",
       "      <td>0.475</td>\n",
       "      <td>0.052</td>\n",
       "      <td>0.060</td>\n",
       "      <td>0.060</td>\n",
       "      <td>0.026</td>\n",
       "      <td>0.988</td>\n",
       "    </tr>\n",
       "    <tr>\n",
       "      <th>2</th>\n",
       "      <td>Barley (Beer)</td>\n",
       "      <td>0.009</td>\n",
       "      <td>0.000</td>\n",
       "      <td>0.176</td>\n",
       "      <td>0.128</td>\n",
       "      <td>0.035</td>\n",
       "      <td>0.497</td>\n",
       "      <td>0.264</td>\n",
       "      <td>1.109</td>\n",
       "    </tr>\n",
       "    <tr>\n",
       "      <th>3</th>\n",
       "      <td>Oatmeal</td>\n",
       "      <td>0.001</td>\n",
       "      <td>0.000</td>\n",
       "      <td>1.370</td>\n",
       "      <td>0.042</td>\n",
       "      <td>0.067</td>\n",
       "      <td>0.066</td>\n",
       "      <td>0.029</td>\n",
       "      <td>1.575</td>\n",
       "    </tr>\n",
       "    <tr>\n",
       "      <th>4</th>\n",
       "      <td>Rice</td>\n",
       "      <td>-0.022</td>\n",
       "      <td>0.000</td>\n",
       "      <td>3.553</td>\n",
       "      <td>0.065</td>\n",
       "      <td>0.096</td>\n",
       "      <td>0.084</td>\n",
       "      <td>0.063</td>\n",
       "      <td>3.839</td>\n",
       "    </tr>\n",
       "    <tr>\n",
       "      <th>5</th>\n",
       "      <td>Potatoes</td>\n",
       "      <td>-0.001</td>\n",
       "      <td>0.000</td>\n",
       "      <td>0.193</td>\n",
       "      <td>0.000</td>\n",
       "      <td>0.094</td>\n",
       "      <td>0.045</td>\n",
       "      <td>0.039</td>\n",
       "      <td>0.370</td>\n",
       "    </tr>\n",
       "    <tr>\n",
       "      <th>6</th>\n",
       "      <td>Cassava</td>\n",
       "      <td>0.589</td>\n",
       "      <td>0.000</td>\n",
       "      <td>0.220</td>\n",
       "      <td>0.000</td>\n",
       "      <td>0.094</td>\n",
       "      <td>0.045</td>\n",
       "      <td>0.039</td>\n",
       "      <td>0.987</td>\n",
       "    </tr>\n",
       "    <tr>\n",
       "      <th>7</th>\n",
       "      <td>Cane Sugar</td>\n",
       "      <td>1.247</td>\n",
       "      <td>0.000</td>\n",
       "      <td>0.485</td>\n",
       "      <td>0.037</td>\n",
       "      <td>0.784</td>\n",
       "      <td>0.083</td>\n",
       "      <td>0.036</td>\n",
       "      <td>2.672</td>\n",
       "    </tr>\n",
       "    <tr>\n",
       "      <th>8</th>\n",
       "      <td>Beet Sugar</td>\n",
       "      <td>0.000</td>\n",
       "      <td>0.000</td>\n",
       "      <td>0.536</td>\n",
       "      <td>0.242</td>\n",
       "      <td>0.629</td>\n",
       "      <td>0.090</td>\n",
       "      <td>0.039</td>\n",
       "      <td>1.536</td>\n",
       "    </tr>\n",
       "    <tr>\n",
       "      <th>9</th>\n",
       "      <td>Other Pulses</td>\n",
       "      <td>0.033</td>\n",
       "      <td>0.000</td>\n",
       "      <td>1.089</td>\n",
       "      <td>0.000</td>\n",
       "      <td>0.096</td>\n",
       "      <td>0.353</td>\n",
       "      <td>0.039</td>\n",
       "      <td>1.610</td>\n",
       "    </tr>\n",
       "    <tr>\n",
       "      <th>10</th>\n",
       "      <td>Peas</td>\n",
       "      <td>0.000</td>\n",
       "      <td>0.000</td>\n",
       "      <td>0.717</td>\n",
       "      <td>0.000</td>\n",
       "      <td>0.095</td>\n",
       "      <td>0.045</td>\n",
       "      <td>0.039</td>\n",
       "      <td>0.896</td>\n",
       "    </tr>\n",
       "    <tr>\n",
       "      <th>11</th>\n",
       "      <td>Nuts</td>\n",
       "      <td>-2.052</td>\n",
       "      <td>0.000</td>\n",
       "      <td>2.126</td>\n",
       "      <td>0.032</td>\n",
       "      <td>0.067</td>\n",
       "      <td>0.078</td>\n",
       "      <td>0.027</td>\n",
       "      <td>0.278</td>\n",
       "    </tr>\n",
       "    <tr>\n",
       "      <th>12</th>\n",
       "      <td>Groundnuts</td>\n",
       "      <td>0.439</td>\n",
       "      <td>0.000</td>\n",
       "      <td>1.425</td>\n",
       "      <td>0.372</td>\n",
       "      <td>0.120</td>\n",
       "      <td>0.099</td>\n",
       "      <td>0.042</td>\n",
       "      <td>2.497</td>\n",
       "    </tr>\n",
       "    <tr>\n",
       "      <th>13</th>\n",
       "      <td>Soymilk</td>\n",
       "      <td>0.180</td>\n",
       "      <td>0.000</td>\n",
       "      <td>0.093</td>\n",
       "      <td>0.163</td>\n",
       "      <td>0.110</td>\n",
       "      <td>0.098</td>\n",
       "      <td>0.270</td>\n",
       "      <td>0.914</td>\n",
       "    </tr>\n",
       "    <tr>\n",
       "      <th>14</th>\n",
       "      <td>Tofu</td>\n",
       "      <td>0.958</td>\n",
       "      <td>0.000</td>\n",
       "      <td>0.495</td>\n",
       "      <td>0.794</td>\n",
       "      <td>0.177</td>\n",
       "      <td>0.177</td>\n",
       "      <td>0.270</td>\n",
       "      <td>2.871</td>\n",
       "    </tr>\n",
       "    <tr>\n",
       "      <th>15</th>\n",
       "      <td>Soybean Oil</td>\n",
       "      <td>3.096</td>\n",
       "      <td>0.000</td>\n",
       "      <td>1.519</td>\n",
       "      <td>0.311</td>\n",
       "      <td>0.299</td>\n",
       "      <td>0.849</td>\n",
       "      <td>0.043</td>\n",
       "      <td>6.117</td>\n",
       "    </tr>\n",
       "    <tr>\n",
       "      <th>16</th>\n",
       "      <td>Palm Oil</td>\n",
       "      <td>3.096</td>\n",
       "      <td>0.000</td>\n",
       "      <td>2.107</td>\n",
       "      <td>1.264</td>\n",
       "      <td>0.208</td>\n",
       "      <td>0.886</td>\n",
       "      <td>0.044</td>\n",
       "      <td>7.605</td>\n",
       "    </tr>\n",
       "    <tr>\n",
       "      <th>17</th>\n",
       "      <td>Sunflower Oil</td>\n",
       "      <td>0.133</td>\n",
       "      <td>0.000</td>\n",
       "      <td>2.148</td>\n",
       "      <td>0.229</td>\n",
       "      <td>0.201</td>\n",
       "      <td>0.853</td>\n",
       "      <td>0.043</td>\n",
       "      <td>3.607</td>\n",
       "    </tr>\n",
       "    <tr>\n",
       "      <th>18</th>\n",
       "      <td>Rapeseed Oil</td>\n",
       "      <td>0.212</td>\n",
       "      <td>0.000</td>\n",
       "      <td>2.343</td>\n",
       "      <td>0.193</td>\n",
       "      <td>0.190</td>\n",
       "      <td>0.844</td>\n",
       "      <td>0.046</td>\n",
       "      <td>3.828</td>\n",
       "    </tr>\n",
       "    <tr>\n",
       "      <th>19</th>\n",
       "      <td>Olive Oil</td>\n",
       "      <td>-0.377</td>\n",
       "      <td>0.000</td>\n",
       "      <td>4.272</td>\n",
       "      <td>0.660</td>\n",
       "      <td>0.482</td>\n",
       "      <td>0.861</td>\n",
       "      <td>0.046</td>\n",
       "      <td>5.944</td>\n",
       "    </tr>\n",
       "    <tr>\n",
       "      <th>20</th>\n",
       "      <td>Tomatoes</td>\n",
       "      <td>0.372</td>\n",
       "      <td>0.000</td>\n",
       "      <td>0.704</td>\n",
       "      <td>0.012</td>\n",
       "      <td>0.177</td>\n",
       "      <td>0.145</td>\n",
       "      <td>0.017</td>\n",
       "      <td>1.427</td>\n",
       "    </tr>\n",
       "    <tr>\n",
       "      <th>21</th>\n",
       "      <td>Onions &amp; Leeks</td>\n",
       "      <td>0.005</td>\n",
       "      <td>0.000</td>\n",
       "      <td>0.211</td>\n",
       "      <td>0.000</td>\n",
       "      <td>0.095</td>\n",
       "      <td>0.045</td>\n",
       "      <td>0.039</td>\n",
       "      <td>0.395</td>\n",
       "    </tr>\n",
       "    <tr>\n",
       "      <th>22</th>\n",
       "      <td>Root Vegetables</td>\n",
       "      <td>0.013</td>\n",
       "      <td>0.000</td>\n",
       "      <td>0.154</td>\n",
       "      <td>0.000</td>\n",
       "      <td>0.114</td>\n",
       "      <td>0.045</td>\n",
       "      <td>0.039</td>\n",
       "      <td>0.365</td>\n",
       "    </tr>\n",
       "    <tr>\n",
       "      <th>23</th>\n",
       "      <td>Brassicas</td>\n",
       "      <td>0.002</td>\n",
       "      <td>0.000</td>\n",
       "      <td>0.278</td>\n",
       "      <td>0.000</td>\n",
       "      <td>0.095</td>\n",
       "      <td>0.045</td>\n",
       "      <td>0.017</td>\n",
       "      <td>0.437</td>\n",
       "    </tr>\n",
       "    <tr>\n",
       "      <th>24</th>\n",
       "      <td>Other Vegetables</td>\n",
       "      <td>0.001</td>\n",
       "      <td>0.000</td>\n",
       "      <td>0.174</td>\n",
       "      <td>0.060</td>\n",
       "      <td>0.164</td>\n",
       "      <td>0.041</td>\n",
       "      <td>0.015</td>\n",
       "      <td>0.455</td>\n",
       "    </tr>\n",
       "    <tr>\n",
       "      <th>25</th>\n",
       "      <td>Citrus Fruit</td>\n",
       "      <td>-0.146</td>\n",
       "      <td>0.000</td>\n",
       "      <td>0.307</td>\n",
       "      <td>0.000</td>\n",
       "      <td>0.094</td>\n",
       "      <td>0.045</td>\n",
       "      <td>0.017</td>\n",
       "      <td>0.317</td>\n",
       "    </tr>\n",
       "    <tr>\n",
       "      <th>26</th>\n",
       "      <td>Bananas</td>\n",
       "      <td>-0.025</td>\n",
       "      <td>0.000</td>\n",
       "      <td>0.266</td>\n",
       "      <td>0.059</td>\n",
       "      <td>0.292</td>\n",
       "      <td>0.065</td>\n",
       "      <td>0.021</td>\n",
       "      <td>0.678</td>\n",
       "    </tr>\n",
       "    <tr>\n",
       "      <th>27</th>\n",
       "      <td>Apples</td>\n",
       "      <td>-0.029</td>\n",
       "      <td>0.000</td>\n",
       "      <td>0.225</td>\n",
       "      <td>0.004</td>\n",
       "      <td>0.096</td>\n",
       "      <td>0.044</td>\n",
       "      <td>0.017</td>\n",
       "      <td>0.357</td>\n",
       "    </tr>\n",
       "    <tr>\n",
       "      <th>28</th>\n",
       "      <td>Berries &amp; Grapes</td>\n",
       "      <td>0.025</td>\n",
       "      <td>0.000</td>\n",
       "      <td>0.722</td>\n",
       "      <td>0.000</td>\n",
       "      <td>0.238</td>\n",
       "      <td>0.212</td>\n",
       "      <td>0.017</td>\n",
       "      <td>1.214</td>\n",
       "    </tr>\n",
       "    <tr>\n",
       "      <th>29</th>\n",
       "      <td>Wine</td>\n",
       "      <td>-0.061</td>\n",
       "      <td>0.000</td>\n",
       "      <td>0.626</td>\n",
       "      <td>0.139</td>\n",
       "      <td>0.093</td>\n",
       "      <td>0.749</td>\n",
       "      <td>0.039</td>\n",
       "      <td>1.585</td>\n",
       "    </tr>\n",
       "    <tr>\n",
       "      <th>30</th>\n",
       "      <td>Other Fruit</td>\n",
       "      <td>0.126</td>\n",
       "      <td>0.000</td>\n",
       "      <td>0.369</td>\n",
       "      <td>0.015</td>\n",
       "      <td>0.182</td>\n",
       "      <td>0.042</td>\n",
       "      <td>0.016</td>\n",
       "      <td>0.750</td>\n",
       "    </tr>\n",
       "    <tr>\n",
       "      <th>31</th>\n",
       "      <td>Coffee</td>\n",
       "      <td>3.688</td>\n",
       "      <td>0.000</td>\n",
       "      <td>10.386</td>\n",
       "      <td>0.592</td>\n",
       "      <td>0.130</td>\n",
       "      <td>1.630</td>\n",
       "      <td>0.051</td>\n",
       "      <td>16.477</td>\n",
       "    </tr>\n",
       "    <tr>\n",
       "      <th>32</th>\n",
       "      <td>Dark Chocolate</td>\n",
       "      <td>14.308</td>\n",
       "      <td>0.000</td>\n",
       "      <td>3.706</td>\n",
       "      <td>0.185</td>\n",
       "      <td>0.061</td>\n",
       "      <td>0.400</td>\n",
       "      <td>0.021</td>\n",
       "      <td>18.681</td>\n",
       "    </tr>\n",
       "    <tr>\n",
       "      <th>33</th>\n",
       "      <td>Bovine Meat (beef herd)</td>\n",
       "      <td>16.278</td>\n",
       "      <td>1.878</td>\n",
       "      <td>39.388</td>\n",
       "      <td>1.269</td>\n",
       "      <td>0.346</td>\n",
       "      <td>0.247</td>\n",
       "      <td>0.164</td>\n",
       "      <td>59.570</td>\n",
       "    </tr>\n",
       "    <tr>\n",
       "      <th>34</th>\n",
       "      <td>Bovine Meat (dairy herd)</td>\n",
       "      <td>0.906</td>\n",
       "      <td>2.508</td>\n",
       "      <td>15.689</td>\n",
       "      <td>1.108</td>\n",
       "      <td>0.424</td>\n",
       "      <td>0.268</td>\n",
       "      <td>0.182</td>\n",
       "      <td>21.085</td>\n",
       "    </tr>\n",
       "    <tr>\n",
       "      <th>35</th>\n",
       "      <td>Lamb &amp; Mutton</td>\n",
       "      <td>0.468</td>\n",
       "      <td>2.370</td>\n",
       "      <td>19.508</td>\n",
       "      <td>1.111</td>\n",
       "      <td>0.490</td>\n",
       "      <td>0.251</td>\n",
       "      <td>0.217</td>\n",
       "      <td>24.415</td>\n",
       "    </tr>\n",
       "    <tr>\n",
       "      <th>36</th>\n",
       "      <td>Pig Meat</td>\n",
       "      <td>1.535</td>\n",
       "      <td>2.940</td>\n",
       "      <td>1.694</td>\n",
       "      <td>0.284</td>\n",
       "      <td>0.343</td>\n",
       "      <td>0.296</td>\n",
       "      <td>0.190</td>\n",
       "      <td>7.282</td>\n",
       "    </tr>\n",
       "    <tr>\n",
       "      <th>37</th>\n",
       "      <td>Poultry Meat</td>\n",
       "      <td>2.540</td>\n",
       "      <td>1.775</td>\n",
       "      <td>0.672</td>\n",
       "      <td>0.440</td>\n",
       "      <td>0.276</td>\n",
       "      <td>0.212</td>\n",
       "      <td>0.177</td>\n",
       "      <td>6.092</td>\n",
       "    </tr>\n",
       "    <tr>\n",
       "      <th>38</th>\n",
       "      <td>Milk</td>\n",
       "      <td>0.495</td>\n",
       "      <td>0.236</td>\n",
       "      <td>1.458</td>\n",
       "      <td>0.149</td>\n",
       "      <td>0.090</td>\n",
       "      <td>0.097</td>\n",
       "      <td>0.256</td>\n",
       "      <td>2.781</td>\n",
       "    </tr>\n",
       "    <tr>\n",
       "      <th>39</th>\n",
       "      <td>Cheese</td>\n",
       "      <td>4.455</td>\n",
       "      <td>2.346</td>\n",
       "      <td>13.059</td>\n",
       "      <td>0.738</td>\n",
       "      <td>0.138</td>\n",
       "      <td>0.172</td>\n",
       "      <td>0.332</td>\n",
       "      <td>21.240</td>\n",
       "    </tr>\n",
       "    <tr>\n",
       "      <th>40</th>\n",
       "      <td>Eggs</td>\n",
       "      <td>0.709</td>\n",
       "      <td>2.200</td>\n",
       "      <td>1.317</td>\n",
       "      <td>0.000</td>\n",
       "      <td>0.084</td>\n",
       "      <td>0.161</td>\n",
       "      <td>0.036</td>\n",
       "      <td>4.507</td>\n",
       "    </tr>\n",
       "    <tr>\n",
       "      <th>41</th>\n",
       "      <td>Fish (farmed)</td>\n",
       "      <td>0.534</td>\n",
       "      <td>0.819</td>\n",
       "      <td>3.598</td>\n",
       "      <td>0.020</td>\n",
       "      <td>0.111</td>\n",
       "      <td>0.061</td>\n",
       "      <td>0.040</td>\n",
       "      <td>5.183</td>\n",
       "    </tr>\n",
       "    <tr>\n",
       "      <th>42</th>\n",
       "      <td>Crustaceans (farmed)</td>\n",
       "      <td>0.206</td>\n",
       "      <td>2.510</td>\n",
       "      <td>8.379</td>\n",
       "      <td>0.000</td>\n",
       "      <td>0.206</td>\n",
       "      <td>0.334</td>\n",
       "      <td>0.219</td>\n",
       "      <td>11.854</td>\n",
       "    </tr>\n",
       "  </tbody>\n",
       "</table>\n",
       "</div>"
      ],
      "text/plain": [
       "                     Product  Land Use Change   Feed    Farm  Processing  \\\n",
       "0        Wheat & Rye (Bread)            0.100  0.000   0.847       0.217   \n",
       "1               Maize (Meal)            0.315  0.000   0.475       0.052   \n",
       "2              Barley (Beer)            0.009  0.000   0.176       0.128   \n",
       "3                    Oatmeal            0.001  0.000   1.370       0.042   \n",
       "4                       Rice           -0.022  0.000   3.553       0.065   \n",
       "5                   Potatoes           -0.001  0.000   0.193       0.000   \n",
       "6                    Cassava            0.589  0.000   0.220       0.000   \n",
       "7                 Cane Sugar            1.247  0.000   0.485       0.037   \n",
       "8                 Beet Sugar            0.000  0.000   0.536       0.242   \n",
       "9               Other Pulses            0.033  0.000   1.089       0.000   \n",
       "10                      Peas            0.000  0.000   0.717       0.000   \n",
       "11                      Nuts           -2.052  0.000   2.126       0.032   \n",
       "12                Groundnuts            0.439  0.000   1.425       0.372   \n",
       "13                   Soymilk            0.180  0.000   0.093       0.163   \n",
       "14                      Tofu            0.958  0.000   0.495       0.794   \n",
       "15               Soybean Oil            3.096  0.000   1.519       0.311   \n",
       "16                  Palm Oil            3.096  0.000   2.107       1.264   \n",
       "17             Sunflower Oil            0.133  0.000   2.148       0.229   \n",
       "18              Rapeseed Oil            0.212  0.000   2.343       0.193   \n",
       "19                 Olive Oil           -0.377  0.000   4.272       0.660   \n",
       "20                  Tomatoes            0.372  0.000   0.704       0.012   \n",
       "21            Onions & Leeks            0.005  0.000   0.211       0.000   \n",
       "22           Root Vegetables            0.013  0.000   0.154       0.000   \n",
       "23                 Brassicas            0.002  0.000   0.278       0.000   \n",
       "24          Other Vegetables            0.001  0.000   0.174       0.060   \n",
       "25              Citrus Fruit           -0.146  0.000   0.307       0.000   \n",
       "26                   Bananas           -0.025  0.000   0.266       0.059   \n",
       "27                    Apples           -0.029  0.000   0.225       0.004   \n",
       "28          Berries & Grapes            0.025  0.000   0.722       0.000   \n",
       "29                      Wine           -0.061  0.000   0.626       0.139   \n",
       "30               Other Fruit            0.126  0.000   0.369       0.015   \n",
       "31                    Coffee            3.688  0.000  10.386       0.592   \n",
       "32            Dark Chocolate           14.308  0.000   3.706       0.185   \n",
       "33   Bovine Meat (beef herd)           16.278  1.878  39.388       1.269   \n",
       "34  Bovine Meat (dairy herd)            0.906  2.508  15.689       1.108   \n",
       "35             Lamb & Mutton            0.468  2.370  19.508       1.111   \n",
       "36                  Pig Meat            1.535  2.940   1.694       0.284   \n",
       "37              Poultry Meat            2.540  1.775   0.672       0.440   \n",
       "38                      Milk            0.495  0.236   1.458       0.149   \n",
       "39                    Cheese            4.455  2.346  13.059       0.738   \n",
       "40                      Eggs            0.709  2.200   1.317       0.000   \n",
       "41             Fish (farmed)            0.534  0.819   3.598       0.020   \n",
       "42      Crustaceans (farmed)            0.206  2.510   8.379       0.000   \n",
       "\n",
       "    Transport  Packaging  Retail   Total  \n",
       "0       0.129      0.090   0.058   1.441  \n",
       "1       0.060      0.060   0.026   0.988  \n",
       "2       0.035      0.497   0.264   1.109  \n",
       "3       0.067      0.066   0.029   1.575  \n",
       "4       0.096      0.084   0.063   3.839  \n",
       "5       0.094      0.045   0.039   0.370  \n",
       "6       0.094      0.045   0.039   0.987  \n",
       "7       0.784      0.083   0.036   2.672  \n",
       "8       0.629      0.090   0.039   1.536  \n",
       "9       0.096      0.353   0.039   1.610  \n",
       "10      0.095      0.045   0.039   0.896  \n",
       "11      0.067      0.078   0.027   0.278  \n",
       "12      0.120      0.099   0.042   2.497  \n",
       "13      0.110      0.098   0.270   0.914  \n",
       "14      0.177      0.177   0.270   2.871  \n",
       "15      0.299      0.849   0.043   6.117  \n",
       "16      0.208      0.886   0.044   7.605  \n",
       "17      0.201      0.853   0.043   3.607  \n",
       "18      0.190      0.844   0.046   3.828  \n",
       "19      0.482      0.861   0.046   5.944  \n",
       "20      0.177      0.145   0.017   1.427  \n",
       "21      0.095      0.045   0.039   0.395  \n",
       "22      0.114      0.045   0.039   0.365  \n",
       "23      0.095      0.045   0.017   0.437  \n",
       "24      0.164      0.041   0.015   0.455  \n",
       "25      0.094      0.045   0.017   0.317  \n",
       "26      0.292      0.065   0.021   0.678  \n",
       "27      0.096      0.044   0.017   0.357  \n",
       "28      0.238      0.212   0.017   1.214  \n",
       "29      0.093      0.749   0.039   1.585  \n",
       "30      0.182      0.042   0.016   0.750  \n",
       "31      0.130      1.630   0.051  16.477  \n",
       "32      0.061      0.400   0.021  18.681  \n",
       "33      0.346      0.247   0.164  59.570  \n",
       "34      0.424      0.268   0.182  21.085  \n",
       "35      0.490      0.251   0.217  24.415  \n",
       "36      0.343      0.296   0.190   7.282  \n",
       "37      0.276      0.212   0.177   6.092  \n",
       "38      0.090      0.097   0.256   2.781  \n",
       "39      0.138      0.172   0.332  21.240  \n",
       "40      0.084      0.161   0.036   4.507  \n",
       "41      0.111      0.061   0.040   5.183  \n",
       "42      0.206      0.334   0.219  11.854  "
      ]
     },
     "metadata": {},
     "output_type": "display_data"
    },
    {
     "data": {
      "text/plain": [
       "11                        Nuts\n",
       "25                Citrus Fruit\n",
       "27                      Apples\n",
       "22             Root Vegetables\n",
       "5                     Potatoes\n",
       "21              Onions & Leeks\n",
       "23                   Brassicas\n",
       "24            Other Vegetables\n",
       "26                     Bananas\n",
       "30                 Other Fruit\n",
       "10                        Peas\n",
       "13                     Soymilk\n",
       "6                      Cassava\n",
       "1                 Maize (Meal)\n",
       "2                Barley (Beer)\n",
       "28            Berries & Grapes\n",
       "20                    Tomatoes\n",
       "0          Wheat & Rye (Bread)\n",
       "8                   Beet Sugar\n",
       "3                      Oatmeal\n",
       "29                        Wine\n",
       "9                 Other Pulses\n",
       "12                  Groundnuts\n",
       "7                   Cane Sugar\n",
       "38                        Milk\n",
       "14                        Tofu\n",
       "17               Sunflower Oil\n",
       "18                Rapeseed Oil\n",
       "4                         Rice\n",
       "40                        Eggs\n",
       "41               Fish (farmed)\n",
       "19                   Olive Oil\n",
       "37                Poultry Meat\n",
       "15                 Soybean Oil\n",
       "36                    Pig Meat\n",
       "16                    Palm Oil\n",
       "42        Crustaceans (farmed)\n",
       "31                      Coffee\n",
       "32              Dark Chocolate\n",
       "34    Bovine Meat (dairy herd)\n",
       "39                      Cheese\n",
       "35               Lamb & Mutton\n",
       "33     Bovine Meat (beef herd)\n",
       "Name: Product, dtype: object"
      ]
     },
     "metadata": {},
     "output_type": "display_data"
    }
   ],
   "source": [
    "import pandas as pd\n",
    "df_per_product = pd.read_excel('dataset1.xls', sheet_name=2, skiprows=2, nrows=70, usecols=\"A, F:L\")\n",
    "df_per_product = df_per_product.rename(columns={'LUC': 'Land Use Change', 'Packging': 'Packaging'})\n",
    "\n",
    "df = df_per_product[0:43].copy()\n",
    "df['Total'] = df.iloc[:, 1:].sum(axis=1)\n",
    "display(df)\n",
    "df = df.sort_values(by='Total')\n",
    "\n",
    "\n",
    "\n",
    "\n",
    "display(df.Product)\n",
    "\n",
    "df_melted = pd.melt(df, id_vars='Product', value_vars=['Land Use Change', 'Feed', 'Farm', 'Processing', 'Transport', 'Packaging', 'Retail'], var_name='Stage', value_name='Emissions')\n",
    "\n",
    "# Reshape the DataFrame into a \"long\" format\n",
    "df_melted = pd.melt(df, id_vars='Product', value_vars=['Land Use Change', 'Feed', 'Farm', 'Processing', 'Transport', 'Packaging', 'Retail'], var_name='Stage', value_name='Emissions')\n"
   ]
  },
  {
   "cell_type": "code",
   "execution_count": 157,
   "metadata": {},
   "outputs": [
    {
     "data": {
      "text/plain": [
       "11    15296\n",
       "Name: Amount produced, dtype: int64"
      ]
     },
     "metadata": {},
     "output_type": "display_data"
    },
    {
     "data": {
      "text/plain": [
       "11    0.278\n",
       "Name: Total, dtype: float64"
      ]
     },
     "metadata": {},
     "output_type": "display_data"
    },
    {
     "data": {
      "application/vnd.plotly.v1+json": {
       "config": {
        "plotlyServerURL": "https://plot.ly"
       },
       "data": [
        {
         "customdata": [
          [
           "Wheat & Rye (Bread)"
          ],
          [
           "Maize (Meal)"
          ],
          [
           "Barley (Beer)"
          ],
          [
           "Oatmeal"
          ],
          [
           "Rice"
          ],
          [
           "Potatoes"
          ],
          [
           "Cassava"
          ],
          [
           "Cane Sugar"
          ],
          [
           "Beet Sugar"
          ],
          [
           "Other Pulses"
          ],
          [
           "Peas"
          ],
          [
           "Nuts"
          ],
          [
           "Groundnuts"
          ],
          [
           "Soymilk"
          ],
          [
           "Tofu"
          ],
          [
           "Soybean Oil"
          ],
          [
           "Palm Oil"
          ],
          [
           "Sunflower Oil"
          ],
          [
           "Rapeseed Oil"
          ],
          [
           "Olive Oil"
          ],
          [
           "Tomatoes"
          ],
          [
           "Onions & Leeks"
          ],
          [
           "Root Vegetables"
          ],
          [
           "Brassicas"
          ],
          [
           "Other Vegetables"
          ],
          [
           "Citrus Fruit"
          ],
          [
           "Bananas"
          ],
          [
           "Apples"
          ],
          [
           "Berries & Grapes"
          ],
          [
           "Wine"
          ],
          [
           "Other Fruit"
          ],
          [
           "Coffee"
          ],
          [
           "Dark Chocolate"
          ]
         ],
         "hovertemplate": "Type=Crops<br>Amount produced=%{x}<br>Total=%{y}<br>Product=%{customdata[0]}<extra></extra>",
         "legendgroup": "Crops",
         "marker": {
          "color": "#636efa",
          "size": 10,
          "symbol": "circle"
         },
         "mode": "markers",
         "name": "Crops",
         "orientation": "v",
         "showlegend": true,
         "type": "scatter",
         "x": [
          482152,
          194554,
          206523,
          4463,
          397780,
          332343,
          173814,
          141702,
          34038,
          42765,
          6026,
          15296,
          11827,
          33318,
          11853,
          24148,
          16691,
          9554,
          10311,
          2997,
          148957,
          77927,
          35154,
          77045,
          654375,
          127923,
          128971,
          75781,
          67079,
          26013,
          210650,
          7778,
          4416
         ],
         "xaxis": "x",
         "y": [
          1.441,
          0.9880000000000002,
          1.109,
          1.575,
          3.8390000000000004,
          0.37,
          0.987,
          2.672,
          1.536,
          1.6099999999999999,
          0.896,
          0.27799999999999986,
          2.4970000000000003,
          0.914,
          2.871,
          6.117000000000001,
          7.605,
          3.607,
          3.828,
          5.944000000000001,
          1.427,
          0.39499999999999996,
          0.365,
          0.437,
          0.455,
          0.317,
          0.678,
          0.35700000000000004,
          1.214,
          1.5849999999999997,
          0.75,
          16.477,
          18.680999999999997
         ],
         "yaxis": "y"
        },
        {
         "customdata": [
          [
           "Bovine Meat (beef herd)"
          ],
          [
           "Bovine Meat (dairy herd)"
          ],
          [
           "Lamb & Mutton"
          ],
          [
           "Pig Meat"
          ],
          [
           "Poultry Meat"
          ]
         ],
         "hovertemplate": "Type=Meat<br>Amount produced=%{x}<br>Total=%{y}<br>Product=%{customdata[0]}<extra></extra>",
         "legendgroup": "Meat",
         "marker": {
          "color": "#EF553B",
          "size": 10,
          "symbol": "circle"
         },
         "mode": "markers",
         "name": "Meat",
         "orientation": "v",
         "showlegend": true,
         "type": "scatter",
         "x": [
          40571,
          31425,
          14195,
          112892,
          96439
         ],
         "xaxis": "x",
         "y": [
          59.56999999999999,
          21.085,
          24.415,
          7.282,
          6.091999999999999
         ],
         "yaxis": "y"
        },
        {
         "customdata": [
          [
           "Milk"
          ],
          [
           "Cheese"
          ],
          [
           "Eggs"
          ]
         ],
         "hovertemplate": "Type=Dairy<br>Amount produced=%{x}<br>Total=%{y}<br>Product=%{customdata[0]}<extra></extra>",
         "legendgroup": "Dairy",
         "marker": {
          "color": "#00cc96",
          "size": 10,
          "symbol": "circle"
         },
         "mode": "markers",
         "name": "Dairy",
         "orientation": "v",
         "showlegend": true,
         "type": "scatter",
         "x": [
          470267,
          21191,
          63489
         ],
         "xaxis": "x",
         "y": [
          2.7809999999999997,
          21.240000000000002,
          4.506999999999999
         ],
         "yaxis": "y"
        },
        {
         "customdata": [
          [
           "Fish (farmed)"
          ],
          [
           "Crustaceans (farmed)"
          ]
         ],
         "hovertemplate": "Type=Seafood<br>Amount produced=%{x}<br>Total=%{y}<br>Product=%{customdata[0]}<extra></extra>",
         "legendgroup": "Seafood",
         "marker": {
          "color": "#ab63fa",
          "size": 10,
          "symbol": "circle"
         },
         "mode": "markers",
         "name": "Seafood",
         "orientation": "v",
         "showlegend": true,
         "type": "scatter",
         "x": [
          45223,
          10633
         ],
         "xaxis": "x",
         "y": [
          5.182999999999999,
          11.853999999999997
         ],
         "yaxis": "y"
        }
       ],
       "layout": {
        "annotations": [
         {
          "showarrow": true,
          "text": "Nuts",
          "x": 4.184577874932025,
          "y": -0.5559552040819239
         }
        ],
        "legend": {
         "title": {
          "text": "Type"
         },
         "tracegroupgap": 0
        },
        "margin": {
         "t": 60
        },
        "template": {
         "data": {
          "bar": [
           {
            "error_x": {
             "color": "#2a3f5f"
            },
            "error_y": {
             "color": "#2a3f5f"
            },
            "marker": {
             "line": {
              "color": "#E5ECF6",
              "width": 0.5
             },
             "pattern": {
              "fillmode": "overlay",
              "size": 10,
              "solidity": 0.2
             }
            },
            "type": "bar"
           }
          ],
          "barpolar": [
           {
            "marker": {
             "line": {
              "color": "#E5ECF6",
              "width": 0.5
             },
             "pattern": {
              "fillmode": "overlay",
              "size": 10,
              "solidity": 0.2
             }
            },
            "type": "barpolar"
           }
          ],
          "carpet": [
           {
            "aaxis": {
             "endlinecolor": "#2a3f5f",
             "gridcolor": "white",
             "linecolor": "white",
             "minorgridcolor": "white",
             "startlinecolor": "#2a3f5f"
            },
            "baxis": {
             "endlinecolor": "#2a3f5f",
             "gridcolor": "white",
             "linecolor": "white",
             "minorgridcolor": "white",
             "startlinecolor": "#2a3f5f"
            },
            "type": "carpet"
           }
          ],
          "choropleth": [
           {
            "colorbar": {
             "outlinewidth": 0,
             "ticks": ""
            },
            "type": "choropleth"
           }
          ],
          "contour": [
           {
            "colorbar": {
             "outlinewidth": 0,
             "ticks": ""
            },
            "colorscale": [
             [
              0,
              "#0d0887"
             ],
             [
              0.1111111111111111,
              "#46039f"
             ],
             [
              0.2222222222222222,
              "#7201a8"
             ],
             [
              0.3333333333333333,
              "#9c179e"
             ],
             [
              0.4444444444444444,
              "#bd3786"
             ],
             [
              0.5555555555555556,
              "#d8576b"
             ],
             [
              0.6666666666666666,
              "#ed7953"
             ],
             [
              0.7777777777777778,
              "#fb9f3a"
             ],
             [
              0.8888888888888888,
              "#fdca26"
             ],
             [
              1,
              "#f0f921"
             ]
            ],
            "type": "contour"
           }
          ],
          "contourcarpet": [
           {
            "colorbar": {
             "outlinewidth": 0,
             "ticks": ""
            },
            "type": "contourcarpet"
           }
          ],
          "heatmap": [
           {
            "colorbar": {
             "outlinewidth": 0,
             "ticks": ""
            },
            "colorscale": [
             [
              0,
              "#0d0887"
             ],
             [
              0.1111111111111111,
              "#46039f"
             ],
             [
              0.2222222222222222,
              "#7201a8"
             ],
             [
              0.3333333333333333,
              "#9c179e"
             ],
             [
              0.4444444444444444,
              "#bd3786"
             ],
             [
              0.5555555555555556,
              "#d8576b"
             ],
             [
              0.6666666666666666,
              "#ed7953"
             ],
             [
              0.7777777777777778,
              "#fb9f3a"
             ],
             [
              0.8888888888888888,
              "#fdca26"
             ],
             [
              1,
              "#f0f921"
             ]
            ],
            "type": "heatmap"
           }
          ],
          "heatmapgl": [
           {
            "colorbar": {
             "outlinewidth": 0,
             "ticks": ""
            },
            "colorscale": [
             [
              0,
              "#0d0887"
             ],
             [
              0.1111111111111111,
              "#46039f"
             ],
             [
              0.2222222222222222,
              "#7201a8"
             ],
             [
              0.3333333333333333,
              "#9c179e"
             ],
             [
              0.4444444444444444,
              "#bd3786"
             ],
             [
              0.5555555555555556,
              "#d8576b"
             ],
             [
              0.6666666666666666,
              "#ed7953"
             ],
             [
              0.7777777777777778,
              "#fb9f3a"
             ],
             [
              0.8888888888888888,
              "#fdca26"
             ],
             [
              1,
              "#f0f921"
             ]
            ],
            "type": "heatmapgl"
           }
          ],
          "histogram": [
           {
            "marker": {
             "pattern": {
              "fillmode": "overlay",
              "size": 10,
              "solidity": 0.2
             }
            },
            "type": "histogram"
           }
          ],
          "histogram2d": [
           {
            "colorbar": {
             "outlinewidth": 0,
             "ticks": ""
            },
            "colorscale": [
             [
              0,
              "#0d0887"
             ],
             [
              0.1111111111111111,
              "#46039f"
             ],
             [
              0.2222222222222222,
              "#7201a8"
             ],
             [
              0.3333333333333333,
              "#9c179e"
             ],
             [
              0.4444444444444444,
              "#bd3786"
             ],
             [
              0.5555555555555556,
              "#d8576b"
             ],
             [
              0.6666666666666666,
              "#ed7953"
             ],
             [
              0.7777777777777778,
              "#fb9f3a"
             ],
             [
              0.8888888888888888,
              "#fdca26"
             ],
             [
              1,
              "#f0f921"
             ]
            ],
            "type": "histogram2d"
           }
          ],
          "histogram2dcontour": [
           {
            "colorbar": {
             "outlinewidth": 0,
             "ticks": ""
            },
            "colorscale": [
             [
              0,
              "#0d0887"
             ],
             [
              0.1111111111111111,
              "#46039f"
             ],
             [
              0.2222222222222222,
              "#7201a8"
             ],
             [
              0.3333333333333333,
              "#9c179e"
             ],
             [
              0.4444444444444444,
              "#bd3786"
             ],
             [
              0.5555555555555556,
              "#d8576b"
             ],
             [
              0.6666666666666666,
              "#ed7953"
             ],
             [
              0.7777777777777778,
              "#fb9f3a"
             ],
             [
              0.8888888888888888,
              "#fdca26"
             ],
             [
              1,
              "#f0f921"
             ]
            ],
            "type": "histogram2dcontour"
           }
          ],
          "mesh3d": [
           {
            "colorbar": {
             "outlinewidth": 0,
             "ticks": ""
            },
            "type": "mesh3d"
           }
          ],
          "parcoords": [
           {
            "line": {
             "colorbar": {
              "outlinewidth": 0,
              "ticks": ""
             }
            },
            "type": "parcoords"
           }
          ],
          "pie": [
           {
            "automargin": true,
            "type": "pie"
           }
          ],
          "scatter": [
           {
            "fillpattern": {
             "fillmode": "overlay",
             "size": 10,
             "solidity": 0.2
            },
            "type": "scatter"
           }
          ],
          "scatter3d": [
           {
            "line": {
             "colorbar": {
              "outlinewidth": 0,
              "ticks": ""
             }
            },
            "marker": {
             "colorbar": {
              "outlinewidth": 0,
              "ticks": ""
             }
            },
            "type": "scatter3d"
           }
          ],
          "scattercarpet": [
           {
            "marker": {
             "colorbar": {
              "outlinewidth": 0,
              "ticks": ""
             }
            },
            "type": "scattercarpet"
           }
          ],
          "scattergeo": [
           {
            "marker": {
             "colorbar": {
              "outlinewidth": 0,
              "ticks": ""
             }
            },
            "type": "scattergeo"
           }
          ],
          "scattergl": [
           {
            "marker": {
             "colorbar": {
              "outlinewidth": 0,
              "ticks": ""
             }
            },
            "type": "scattergl"
           }
          ],
          "scattermapbox": [
           {
            "marker": {
             "colorbar": {
              "outlinewidth": 0,
              "ticks": ""
             }
            },
            "type": "scattermapbox"
           }
          ],
          "scatterpolar": [
           {
            "marker": {
             "colorbar": {
              "outlinewidth": 0,
              "ticks": ""
             }
            },
            "type": "scatterpolar"
           }
          ],
          "scatterpolargl": [
           {
            "marker": {
             "colorbar": {
              "outlinewidth": 0,
              "ticks": ""
             }
            },
            "type": "scatterpolargl"
           }
          ],
          "scatterternary": [
           {
            "marker": {
             "colorbar": {
              "outlinewidth": 0,
              "ticks": ""
             }
            },
            "type": "scatterternary"
           }
          ],
          "surface": [
           {
            "colorbar": {
             "outlinewidth": 0,
             "ticks": ""
            },
            "colorscale": [
             [
              0,
              "#0d0887"
             ],
             [
              0.1111111111111111,
              "#46039f"
             ],
             [
              0.2222222222222222,
              "#7201a8"
             ],
             [
              0.3333333333333333,
              "#9c179e"
             ],
             [
              0.4444444444444444,
              "#bd3786"
             ],
             [
              0.5555555555555556,
              "#d8576b"
             ],
             [
              0.6666666666666666,
              "#ed7953"
             ],
             [
              0.7777777777777778,
              "#fb9f3a"
             ],
             [
              0.8888888888888888,
              "#fdca26"
             ],
             [
              1,
              "#f0f921"
             ]
            ],
            "type": "surface"
           }
          ],
          "table": [
           {
            "cells": {
             "fill": {
              "color": "#EBF0F8"
             },
             "line": {
              "color": "white"
             }
            },
            "header": {
             "fill": {
              "color": "#C8D4E3"
             },
             "line": {
              "color": "white"
             }
            },
            "type": "table"
           }
          ]
         },
         "layout": {
          "annotationdefaults": {
           "arrowcolor": "#2a3f5f",
           "arrowhead": 0,
           "arrowwidth": 1
          },
          "autotypenumbers": "strict",
          "coloraxis": {
           "colorbar": {
            "outlinewidth": 0,
            "ticks": ""
           }
          },
          "colorscale": {
           "diverging": [
            [
             0,
             "#8e0152"
            ],
            [
             0.1,
             "#c51b7d"
            ],
            [
             0.2,
             "#de77ae"
            ],
            [
             0.3,
             "#f1b6da"
            ],
            [
             0.4,
             "#fde0ef"
            ],
            [
             0.5,
             "#f7f7f7"
            ],
            [
             0.6,
             "#e6f5d0"
            ],
            [
             0.7,
             "#b8e186"
            ],
            [
             0.8,
             "#7fbc41"
            ],
            [
             0.9,
             "#4d9221"
            ],
            [
             1,
             "#276419"
            ]
           ],
           "sequential": [
            [
             0,
             "#0d0887"
            ],
            [
             0.1111111111111111,
             "#46039f"
            ],
            [
             0.2222222222222222,
             "#7201a8"
            ],
            [
             0.3333333333333333,
             "#9c179e"
            ],
            [
             0.4444444444444444,
             "#bd3786"
            ],
            [
             0.5555555555555556,
             "#d8576b"
            ],
            [
             0.6666666666666666,
             "#ed7953"
            ],
            [
             0.7777777777777778,
             "#fb9f3a"
            ],
            [
             0.8888888888888888,
             "#fdca26"
            ],
            [
             1,
             "#f0f921"
            ]
           ],
           "sequentialminus": [
            [
             0,
             "#0d0887"
            ],
            [
             0.1111111111111111,
             "#46039f"
            ],
            [
             0.2222222222222222,
             "#7201a8"
            ],
            [
             0.3333333333333333,
             "#9c179e"
            ],
            [
             0.4444444444444444,
             "#bd3786"
            ],
            [
             0.5555555555555556,
             "#d8576b"
            ],
            [
             0.6666666666666666,
             "#ed7953"
            ],
            [
             0.7777777777777778,
             "#fb9f3a"
            ],
            [
             0.8888888888888888,
             "#fdca26"
            ],
            [
             1,
             "#f0f921"
            ]
           ]
          },
          "colorway": [
           "#636efa",
           "#EF553B",
           "#00cc96",
           "#ab63fa",
           "#FFA15A",
           "#19d3f3",
           "#FF6692",
           "#B6E880",
           "#FF97FF",
           "#FECB52"
          ],
          "font": {
           "color": "#2a3f5f"
          },
          "geo": {
           "bgcolor": "white",
           "lakecolor": "white",
           "landcolor": "#E5ECF6",
           "showlakes": true,
           "showland": true,
           "subunitcolor": "white"
          },
          "hoverlabel": {
           "align": "left"
          },
          "hovermode": "closest",
          "mapbox": {
           "style": "light"
          },
          "paper_bgcolor": "white",
          "plot_bgcolor": "#E5ECF6",
          "polar": {
           "angularaxis": {
            "gridcolor": "white",
            "linecolor": "white",
            "ticks": ""
           },
           "bgcolor": "#E5ECF6",
           "radialaxis": {
            "gridcolor": "white",
            "linecolor": "white",
            "ticks": ""
           }
          },
          "scene": {
           "xaxis": {
            "backgroundcolor": "#E5ECF6",
            "gridcolor": "white",
            "gridwidth": 2,
            "linecolor": "white",
            "showbackground": true,
            "ticks": "",
            "zerolinecolor": "white"
           },
           "yaxis": {
            "backgroundcolor": "#E5ECF6",
            "gridcolor": "white",
            "gridwidth": 2,
            "linecolor": "white",
            "showbackground": true,
            "ticks": "",
            "zerolinecolor": "white"
           },
           "zaxis": {
            "backgroundcolor": "#E5ECF6",
            "gridcolor": "white",
            "gridwidth": 2,
            "linecolor": "white",
            "showbackground": true,
            "ticks": "",
            "zerolinecolor": "white"
           }
          },
          "shapedefaults": {
           "line": {
            "color": "#2a3f5f"
           }
          },
          "ternary": {
           "aaxis": {
            "gridcolor": "white",
            "linecolor": "white",
            "ticks": ""
           },
           "baxis": {
            "gridcolor": "white",
            "linecolor": "white",
            "ticks": ""
           },
           "bgcolor": "#E5ECF6",
           "caxis": {
            "gridcolor": "white",
            "linecolor": "white",
            "ticks": ""
           }
          },
          "title": {
           "x": 0.05
          },
          "xaxis": {
           "automargin": true,
           "gridcolor": "white",
           "linecolor": "white",
           "ticks": "",
           "title": {
            "standoff": 15
           },
           "zerolinecolor": "white",
           "zerolinewidth": 2
          },
          "yaxis": {
           "automargin": true,
           "gridcolor": "white",
           "linecolor": "white",
           "ticks": "",
           "title": {
            "standoff": 15
           },
           "zerolinecolor": "white",
           "zerolinewidth": 2
          }
         }
        },
        "width": 650,
        "xaxis": {
         "anchor": "y",
         "domain": [
          0,
          1
         ],
         "title": {
          "text": "Amount produced"
         },
         "type": "log"
        },
        "yaxis": {
         "anchor": "x",
         "domain": [
          0,
          1
         ],
         "title": {
          "text": "Total"
         }
        }
       }
      }
     },
     "metadata": {},
     "output_type": "display_data"
    }
   ],
   "source": [
    "df_cat = pd.read_excel('dataset1.xls', sheet_name=2, skiprows=2, nrows=43, usecols=\"A:B, F:L\")\n",
    "df_cat = df_cat.rename(columns={'LUC': 'Land Use Change', 'Packging': 'Packaging', \"Food and Waste ('000 t, 2009-11 avg.)\": 'Amount produced'})\n",
    "df_cat['Total'] = df_cat.iloc[:, 2:].sum(axis=1)\n",
    "df_cat['Total impact'] = df_cat.Total * df_cat['Amount produced']\n",
    "\n",
    "# def add_label(figure, )\n",
    "\n",
    "# assigns categories\n",
    "df_cat['Type'] = 'Crops'\n",
    "df_cat.loc[33:37, 'Type'] = 'Meat'\n",
    "df_cat.loc[38:40, 'Type'] = 'Dairy'\n",
    "df_cat.loc[41:42, 'Type'] = 'Seafood'\n",
    "\n",
    "\n",
    "display(df_cat.loc[df_cat['Product'] == 'Nuts', 'Amount produced'])\n",
    "display(df_cat.loc[df_cat['Product'] == 'Nuts', 'Total'])\n",
    "\n",
    "# display(df_cat)\n",
    "fig = px.scatter(\n",
    "    df_cat, \n",
    "    x=\"Amount produced\",\n",
    "    y=\"Total\",\n",
    "    color=\"Type\",\n",
    "    width=650,\n",
    "    log_x=True,\n",
    "    # log_y=True,\n",
    "    # size=\"Total impact\",\n",
    "    size_max=60,\n",
    "    hover_data=['Product'])\n",
    "\n",
    "fig.update_traces(marker_size=10)\n",
    "\n",
    "\n",
    "fig.add_annotation(\n",
    "    x=np.log10(df_cat.loc[df_cat['Product'] == 'Nuts', 'Amount produced'].iloc[0]),\n",
    "    y=np.log10(df_cat.loc[df_cat['Product'] == 'Nuts', 'Total'].iloc[0]),\n",
    "    text='Nuts',\n",
    "    showarrow=True,\n",
    ")\n",
    "\n",
    "fig.show()"
   ]
  },
  {
   "attachments": {},
   "cell_type": "markdown",
   "metadata": {},
   "source": [
    "Transport costs vary"
   ]
  },
  {
   "cell_type": "code",
   "execution_count": 148,
   "metadata": {},
   "outputs": [
    {
     "data": {
      "application/vnd.plotly.v1+json": {
       "config": {
        "plotlyServerURL": "https://plot.ly"
       },
       "data": [
        {
         "alignmentgroup": "True",
         "hovertemplate": "Transport=%{x}<br>Product=%{y}<extra></extra>",
         "legendgroup": "",
         "marker": {
          "color": "#636efa",
          "pattern": {
           "shape": ""
          }
         },
         "name": "",
         "offsetgroup": "",
         "orientation": "h",
         "showlegend": false,
         "textposition": "auto",
         "type": "bar",
         "x": [
          0.035,
          0.06,
          0.061,
          0.067,
          0.067,
          0.084,
          0.09,
          0.093,
          0.094,
          0.094,
          0.094,
          0.095,
          0.095,
          0.095,
          0.096,
          0.096,
          0.096,
          0.11,
          0.111,
          0.114,
          0.12,
          0.129,
          0.13,
          0.138,
          0.164,
          0.177,
          0.177,
          0.182,
          0.19,
          0.201,
          0.206,
          0.208,
          0.238,
          0.276,
          0.292,
          0.299,
          0.343,
          0.346,
          0.424,
          0.482,
          0.49,
          0.629,
          0.784
         ],
         "xaxis": "x",
         "y": [
          "Barley (Beer)",
          "Maize (Meal)",
          "Dark Chocolate",
          "Nuts",
          "Oatmeal",
          "Eggs",
          "Milk",
          "Wine",
          "Citrus Fruit",
          "Potatoes",
          "Cassava",
          "Onions & Leeks",
          "Brassicas",
          "Peas",
          "Rice",
          "Other Pulses",
          "Apples",
          "Soymilk",
          "Fish (farmed)",
          "Root Vegetables",
          "Groundnuts",
          "Wheat & Rye (Bread)",
          "Coffee",
          "Cheese",
          "Other Vegetables",
          "Tomatoes",
          "Tofu",
          "Other Fruit",
          "Rapeseed Oil",
          "Sunflower Oil",
          "Crustaceans (farmed)",
          "Palm Oil",
          "Berries & Grapes",
          "Poultry Meat",
          "Bananas",
          "Soybean Oil",
          "Pig Meat",
          "Bovine Meat (beef herd)",
          "Bovine Meat (dairy herd)",
          "Olive Oil",
          "Lamb & Mutton",
          "Beet Sugar",
          "Cane Sugar"
         ],
         "yaxis": "y"
        }
       ],
       "layout": {
        "barmode": "relative",
        "height": 800,
        "legend": {
         "tracegroupgap": 0
        },
        "template": {
         "data": {
          "bar": [
           {
            "error_x": {
             "color": "#2a3f5f"
            },
            "error_y": {
             "color": "#2a3f5f"
            },
            "marker": {
             "line": {
              "color": "#E5ECF6",
              "width": 0.5
             },
             "pattern": {
              "fillmode": "overlay",
              "size": 10,
              "solidity": 0.2
             }
            },
            "type": "bar"
           }
          ],
          "barpolar": [
           {
            "marker": {
             "line": {
              "color": "#E5ECF6",
              "width": 0.5
             },
             "pattern": {
              "fillmode": "overlay",
              "size": 10,
              "solidity": 0.2
             }
            },
            "type": "barpolar"
           }
          ],
          "carpet": [
           {
            "aaxis": {
             "endlinecolor": "#2a3f5f",
             "gridcolor": "white",
             "linecolor": "white",
             "minorgridcolor": "white",
             "startlinecolor": "#2a3f5f"
            },
            "baxis": {
             "endlinecolor": "#2a3f5f",
             "gridcolor": "white",
             "linecolor": "white",
             "minorgridcolor": "white",
             "startlinecolor": "#2a3f5f"
            },
            "type": "carpet"
           }
          ],
          "choropleth": [
           {
            "colorbar": {
             "outlinewidth": 0,
             "ticks": ""
            },
            "type": "choropleth"
           }
          ],
          "contour": [
           {
            "colorbar": {
             "outlinewidth": 0,
             "ticks": ""
            },
            "colorscale": [
             [
              0,
              "#0d0887"
             ],
             [
              0.1111111111111111,
              "#46039f"
             ],
             [
              0.2222222222222222,
              "#7201a8"
             ],
             [
              0.3333333333333333,
              "#9c179e"
             ],
             [
              0.4444444444444444,
              "#bd3786"
             ],
             [
              0.5555555555555556,
              "#d8576b"
             ],
             [
              0.6666666666666666,
              "#ed7953"
             ],
             [
              0.7777777777777778,
              "#fb9f3a"
             ],
             [
              0.8888888888888888,
              "#fdca26"
             ],
             [
              1,
              "#f0f921"
             ]
            ],
            "type": "contour"
           }
          ],
          "contourcarpet": [
           {
            "colorbar": {
             "outlinewidth": 0,
             "ticks": ""
            },
            "type": "contourcarpet"
           }
          ],
          "heatmap": [
           {
            "colorbar": {
             "outlinewidth": 0,
             "ticks": ""
            },
            "colorscale": [
             [
              0,
              "#0d0887"
             ],
             [
              0.1111111111111111,
              "#46039f"
             ],
             [
              0.2222222222222222,
              "#7201a8"
             ],
             [
              0.3333333333333333,
              "#9c179e"
             ],
             [
              0.4444444444444444,
              "#bd3786"
             ],
             [
              0.5555555555555556,
              "#d8576b"
             ],
             [
              0.6666666666666666,
              "#ed7953"
             ],
             [
              0.7777777777777778,
              "#fb9f3a"
             ],
             [
              0.8888888888888888,
              "#fdca26"
             ],
             [
              1,
              "#f0f921"
             ]
            ],
            "type": "heatmap"
           }
          ],
          "heatmapgl": [
           {
            "colorbar": {
             "outlinewidth": 0,
             "ticks": ""
            },
            "colorscale": [
             [
              0,
              "#0d0887"
             ],
             [
              0.1111111111111111,
              "#46039f"
             ],
             [
              0.2222222222222222,
              "#7201a8"
             ],
             [
              0.3333333333333333,
              "#9c179e"
             ],
             [
              0.4444444444444444,
              "#bd3786"
             ],
             [
              0.5555555555555556,
              "#d8576b"
             ],
             [
              0.6666666666666666,
              "#ed7953"
             ],
             [
              0.7777777777777778,
              "#fb9f3a"
             ],
             [
              0.8888888888888888,
              "#fdca26"
             ],
             [
              1,
              "#f0f921"
             ]
            ],
            "type": "heatmapgl"
           }
          ],
          "histogram": [
           {
            "marker": {
             "pattern": {
              "fillmode": "overlay",
              "size": 10,
              "solidity": 0.2
             }
            },
            "type": "histogram"
           }
          ],
          "histogram2d": [
           {
            "colorbar": {
             "outlinewidth": 0,
             "ticks": ""
            },
            "colorscale": [
             [
              0,
              "#0d0887"
             ],
             [
              0.1111111111111111,
              "#46039f"
             ],
             [
              0.2222222222222222,
              "#7201a8"
             ],
             [
              0.3333333333333333,
              "#9c179e"
             ],
             [
              0.4444444444444444,
              "#bd3786"
             ],
             [
              0.5555555555555556,
              "#d8576b"
             ],
             [
              0.6666666666666666,
              "#ed7953"
             ],
             [
              0.7777777777777778,
              "#fb9f3a"
             ],
             [
              0.8888888888888888,
              "#fdca26"
             ],
             [
              1,
              "#f0f921"
             ]
            ],
            "type": "histogram2d"
           }
          ],
          "histogram2dcontour": [
           {
            "colorbar": {
             "outlinewidth": 0,
             "ticks": ""
            },
            "colorscale": [
             [
              0,
              "#0d0887"
             ],
             [
              0.1111111111111111,
              "#46039f"
             ],
             [
              0.2222222222222222,
              "#7201a8"
             ],
             [
              0.3333333333333333,
              "#9c179e"
             ],
             [
              0.4444444444444444,
              "#bd3786"
             ],
             [
              0.5555555555555556,
              "#d8576b"
             ],
             [
              0.6666666666666666,
              "#ed7953"
             ],
             [
              0.7777777777777778,
              "#fb9f3a"
             ],
             [
              0.8888888888888888,
              "#fdca26"
             ],
             [
              1,
              "#f0f921"
             ]
            ],
            "type": "histogram2dcontour"
           }
          ],
          "mesh3d": [
           {
            "colorbar": {
             "outlinewidth": 0,
             "ticks": ""
            },
            "type": "mesh3d"
           }
          ],
          "parcoords": [
           {
            "line": {
             "colorbar": {
              "outlinewidth": 0,
              "ticks": ""
             }
            },
            "type": "parcoords"
           }
          ],
          "pie": [
           {
            "automargin": true,
            "type": "pie"
           }
          ],
          "scatter": [
           {
            "fillpattern": {
             "fillmode": "overlay",
             "size": 10,
             "solidity": 0.2
            },
            "type": "scatter"
           }
          ],
          "scatter3d": [
           {
            "line": {
             "colorbar": {
              "outlinewidth": 0,
              "ticks": ""
             }
            },
            "marker": {
             "colorbar": {
              "outlinewidth": 0,
              "ticks": ""
             }
            },
            "type": "scatter3d"
           }
          ],
          "scattercarpet": [
           {
            "marker": {
             "colorbar": {
              "outlinewidth": 0,
              "ticks": ""
             }
            },
            "type": "scattercarpet"
           }
          ],
          "scattergeo": [
           {
            "marker": {
             "colorbar": {
              "outlinewidth": 0,
              "ticks": ""
             }
            },
            "type": "scattergeo"
           }
          ],
          "scattergl": [
           {
            "marker": {
             "colorbar": {
              "outlinewidth": 0,
              "ticks": ""
             }
            },
            "type": "scattergl"
           }
          ],
          "scattermapbox": [
           {
            "marker": {
             "colorbar": {
              "outlinewidth": 0,
              "ticks": ""
             }
            },
            "type": "scattermapbox"
           }
          ],
          "scatterpolar": [
           {
            "marker": {
             "colorbar": {
              "outlinewidth": 0,
              "ticks": ""
             }
            },
            "type": "scatterpolar"
           }
          ],
          "scatterpolargl": [
           {
            "marker": {
             "colorbar": {
              "outlinewidth": 0,
              "ticks": ""
             }
            },
            "type": "scatterpolargl"
           }
          ],
          "scatterternary": [
           {
            "marker": {
             "colorbar": {
              "outlinewidth": 0,
              "ticks": ""
             }
            },
            "type": "scatterternary"
           }
          ],
          "surface": [
           {
            "colorbar": {
             "outlinewidth": 0,
             "ticks": ""
            },
            "colorscale": [
             [
              0,
              "#0d0887"
             ],
             [
              0.1111111111111111,
              "#46039f"
             ],
             [
              0.2222222222222222,
              "#7201a8"
             ],
             [
              0.3333333333333333,
              "#9c179e"
             ],
             [
              0.4444444444444444,
              "#bd3786"
             ],
             [
              0.5555555555555556,
              "#d8576b"
             ],
             [
              0.6666666666666666,
              "#ed7953"
             ],
             [
              0.7777777777777778,
              "#fb9f3a"
             ],
             [
              0.8888888888888888,
              "#fdca26"
             ],
             [
              1,
              "#f0f921"
             ]
            ],
            "type": "surface"
           }
          ],
          "table": [
           {
            "cells": {
             "fill": {
              "color": "#EBF0F8"
             },
             "line": {
              "color": "white"
             }
            },
            "header": {
             "fill": {
              "color": "#C8D4E3"
             },
             "line": {
              "color": "white"
             }
            },
            "type": "table"
           }
          ]
         },
         "layout": {
          "annotationdefaults": {
           "arrowcolor": "#2a3f5f",
           "arrowhead": 0,
           "arrowwidth": 1
          },
          "autotypenumbers": "strict",
          "coloraxis": {
           "colorbar": {
            "outlinewidth": 0,
            "ticks": ""
           }
          },
          "colorscale": {
           "diverging": [
            [
             0,
             "#8e0152"
            ],
            [
             0.1,
             "#c51b7d"
            ],
            [
             0.2,
             "#de77ae"
            ],
            [
             0.3,
             "#f1b6da"
            ],
            [
             0.4,
             "#fde0ef"
            ],
            [
             0.5,
             "#f7f7f7"
            ],
            [
             0.6,
             "#e6f5d0"
            ],
            [
             0.7,
             "#b8e186"
            ],
            [
             0.8,
             "#7fbc41"
            ],
            [
             0.9,
             "#4d9221"
            ],
            [
             1,
             "#276419"
            ]
           ],
           "sequential": [
            [
             0,
             "#0d0887"
            ],
            [
             0.1111111111111111,
             "#46039f"
            ],
            [
             0.2222222222222222,
             "#7201a8"
            ],
            [
             0.3333333333333333,
             "#9c179e"
            ],
            [
             0.4444444444444444,
             "#bd3786"
            ],
            [
             0.5555555555555556,
             "#d8576b"
            ],
            [
             0.6666666666666666,
             "#ed7953"
            ],
            [
             0.7777777777777778,
             "#fb9f3a"
            ],
            [
             0.8888888888888888,
             "#fdca26"
            ],
            [
             1,
             "#f0f921"
            ]
           ],
           "sequentialminus": [
            [
             0,
             "#0d0887"
            ],
            [
             0.1111111111111111,
             "#46039f"
            ],
            [
             0.2222222222222222,
             "#7201a8"
            ],
            [
             0.3333333333333333,
             "#9c179e"
            ],
            [
             0.4444444444444444,
             "#bd3786"
            ],
            [
             0.5555555555555556,
             "#d8576b"
            ],
            [
             0.6666666666666666,
             "#ed7953"
            ],
            [
             0.7777777777777778,
             "#fb9f3a"
            ],
            [
             0.8888888888888888,
             "#fdca26"
            ],
            [
             1,
             "#f0f921"
            ]
           ]
          },
          "colorway": [
           "#636efa",
           "#EF553B",
           "#00cc96",
           "#ab63fa",
           "#FFA15A",
           "#19d3f3",
           "#FF6692",
           "#B6E880",
           "#FF97FF",
           "#FECB52"
          ],
          "font": {
           "color": "#2a3f5f"
          },
          "geo": {
           "bgcolor": "white",
           "lakecolor": "white",
           "landcolor": "#E5ECF6",
           "showlakes": true,
           "showland": true,
           "subunitcolor": "white"
          },
          "hoverlabel": {
           "align": "left"
          },
          "hovermode": "closest",
          "mapbox": {
           "style": "light"
          },
          "paper_bgcolor": "white",
          "plot_bgcolor": "#E5ECF6",
          "polar": {
           "angularaxis": {
            "gridcolor": "white",
            "linecolor": "white",
            "ticks": ""
           },
           "bgcolor": "#E5ECF6",
           "radialaxis": {
            "gridcolor": "white",
            "linecolor": "white",
            "ticks": ""
           }
          },
          "scene": {
           "xaxis": {
            "backgroundcolor": "#E5ECF6",
            "gridcolor": "white",
            "gridwidth": 2,
            "linecolor": "white",
            "showbackground": true,
            "ticks": "",
            "zerolinecolor": "white"
           },
           "yaxis": {
            "backgroundcolor": "#E5ECF6",
            "gridcolor": "white",
            "gridwidth": 2,
            "linecolor": "white",
            "showbackground": true,
            "ticks": "",
            "zerolinecolor": "white"
           },
           "zaxis": {
            "backgroundcolor": "#E5ECF6",
            "gridcolor": "white",
            "gridwidth": 2,
            "linecolor": "white",
            "showbackground": true,
            "ticks": "",
            "zerolinecolor": "white"
           }
          },
          "shapedefaults": {
           "line": {
            "color": "#2a3f5f"
           }
          },
          "ternary": {
           "aaxis": {
            "gridcolor": "white",
            "linecolor": "white",
            "ticks": ""
           },
           "baxis": {
            "gridcolor": "white",
            "linecolor": "white",
            "ticks": ""
           },
           "bgcolor": "#E5ECF6",
           "caxis": {
            "gridcolor": "white",
            "linecolor": "white",
            "ticks": ""
           }
          },
          "title": {
           "x": 0.05
          },
          "xaxis": {
           "automargin": true,
           "gridcolor": "white",
           "linecolor": "white",
           "ticks": "",
           "title": {
            "standoff": 15
           },
           "zerolinecolor": "white",
           "zerolinewidth": 2
          },
          "yaxis": {
           "automargin": true,
           "gridcolor": "white",
           "linecolor": "white",
           "ticks": "",
           "title": {
            "standoff": 15
           },
           "zerolinecolor": "white",
           "zerolinewidth": 2
          }
         }
        },
        "title": {
         "text": "Transport emissions per product"
        },
        "xaxis": {
         "anchor": "y",
         "domain": [
          0,
          1
         ],
         "title": {
          "text": "Transport"
         }
        },
        "yaxis": {
         "anchor": "x",
         "domain": [
          0,
          1
         ],
         "title": {
          "text": "Product"
         }
        }
       }
      }
     },
     "metadata": {},
     "output_type": "display_data"
    }
   ],
   "source": [
    "df_transport = df.sort_values(by='Transport')\n",
    "\n",
    "fig1 = px.bar(df_transport,\n",
    "    y='Product',\n",
    "    x='Transport',\n",
    "    height=800,\n",
    "    title=\"Transport emissions per product\")\n",
    "\n",
    "fig1.show()"
   ]
  },
  {
   "attachments": {},
   "cell_type": "markdown",
   "metadata": {},
   "source": [
    "But mean little in the grand scheme of things"
   ]
  },
  {
   "cell_type": "code",
   "execution_count": 149,
   "metadata": {},
   "outputs": [
    {
     "name": "stdout",
     "output_type": "stream",
     "text": [
      "['#1f77b4', '#ff7f0e', '#2ca02c', '#d62728', '#9467bd', '#8c564b', '#e377c2', '#7f7f7f', '#bcbd22', '#17becf']\n"
     ]
    },
    {
     "data": {
      "application/vnd.plotly.v1+json": {
       "config": {
        "plotlyServerURL": "https://plot.ly"
       },
       "data": [
        {
         "alignmentgroup": "True",
         "hovertemplate": "Stage=Land Use Change<br>Emissions=%{x}<br>Product=%{y}<extra></extra>",
         "legendgroup": "Land Use Change",
         "marker": {
          "color": "#4C78A8",
          "pattern": {
           "shape": ""
          }
         },
         "name": "Land Use Change",
         "offsetgroup": "Land Use Change",
         "orientation": "h",
         "showlegend": true,
         "textposition": "auto",
         "type": "bar",
         "x": [
          -2.052,
          -0.146,
          -0.029,
          0.013,
          -0.001,
          0.005,
          0.002,
          0.001,
          -0.025,
          0.126,
          0,
          0.18,
          0.589,
          0.315,
          0.009,
          0.025,
          0.372,
          0.1,
          0,
          0.001,
          -0.061,
          0.033,
          0.439,
          1.247,
          0.495,
          0.958,
          0.133,
          0.212,
          -0.022,
          0.709,
          0.534,
          -0.377,
          2.54,
          3.096,
          1.535,
          3.096,
          0.206,
          3.688,
          14.308,
          0.906,
          4.455,
          0.468,
          16.278
         ],
         "xaxis": "x",
         "y": [
          "Nuts",
          "Citrus Fruit",
          "Apples",
          "Root Vegetables",
          "Potatoes",
          "Onions & Leeks",
          "Brassicas",
          "Other Vegetables",
          "Bananas",
          "Other Fruit",
          "Peas",
          "Soymilk",
          "Cassava",
          "Maize (Meal)",
          "Barley (Beer)",
          "Berries & Grapes",
          "Tomatoes",
          "Wheat & Rye (Bread)",
          "Beet Sugar",
          "Oatmeal",
          "Wine",
          "Other Pulses",
          "Groundnuts",
          "Cane Sugar",
          "Milk",
          "Tofu",
          "Sunflower Oil",
          "Rapeseed Oil",
          "Rice",
          "Eggs",
          "Fish (farmed)",
          "Olive Oil",
          "Poultry Meat",
          "Soybean Oil",
          "Pig Meat",
          "Palm Oil",
          "Crustaceans (farmed)",
          "Coffee",
          "Dark Chocolate",
          "Bovine Meat (dairy herd)",
          "Cheese",
          "Lamb & Mutton",
          "Bovine Meat (beef herd)"
         ],
         "yaxis": "y"
        },
        {
         "alignmentgroup": "True",
         "hovertemplate": "Stage=Feed<br>Emissions=%{x}<br>Product=%{y}<extra></extra>",
         "legendgroup": "Feed",
         "marker": {
          "color": "#F58518",
          "pattern": {
           "shape": ""
          }
         },
         "name": "Feed",
         "offsetgroup": "Feed",
         "orientation": "h",
         "showlegend": true,
         "textposition": "auto",
         "type": "bar",
         "x": [
          0,
          0,
          0,
          0,
          0,
          0,
          0,
          0,
          0,
          0,
          0,
          0,
          0,
          0,
          0,
          0,
          0,
          0,
          0,
          0,
          0,
          0,
          0,
          0,
          0.236,
          0,
          0,
          0,
          0,
          2.2,
          0.819,
          0,
          1.775,
          0,
          2.94,
          0,
          2.51,
          0,
          0,
          2.508,
          2.346,
          2.37,
          1.878
         ],
         "xaxis": "x",
         "y": [
          "Nuts",
          "Citrus Fruit",
          "Apples",
          "Root Vegetables",
          "Potatoes",
          "Onions & Leeks",
          "Brassicas",
          "Other Vegetables",
          "Bananas",
          "Other Fruit",
          "Peas",
          "Soymilk",
          "Cassava",
          "Maize (Meal)",
          "Barley (Beer)",
          "Berries & Grapes",
          "Tomatoes",
          "Wheat & Rye (Bread)",
          "Beet Sugar",
          "Oatmeal",
          "Wine",
          "Other Pulses",
          "Groundnuts",
          "Cane Sugar",
          "Milk",
          "Tofu",
          "Sunflower Oil",
          "Rapeseed Oil",
          "Rice",
          "Eggs",
          "Fish (farmed)",
          "Olive Oil",
          "Poultry Meat",
          "Soybean Oil",
          "Pig Meat",
          "Palm Oil",
          "Crustaceans (farmed)",
          "Coffee",
          "Dark Chocolate",
          "Bovine Meat (dairy herd)",
          "Cheese",
          "Lamb & Mutton",
          "Bovine Meat (beef herd)"
         ],
         "yaxis": "y"
        },
        {
         "alignmentgroup": "True",
         "hovertemplate": "Stage=Farm<br>Emissions=%{x}<br>Product=%{y}<extra></extra>",
         "legendgroup": "Farm",
         "marker": {
          "color": "#E45756",
          "pattern": {
           "shape": ""
          }
         },
         "name": "Farm",
         "offsetgroup": "Farm",
         "orientation": "h",
         "showlegend": true,
         "textposition": "auto",
         "type": "bar",
         "x": [
          2.126,
          0.307,
          0.225,
          0.154,
          0.193,
          0.211,
          0.278,
          0.174,
          0.266,
          0.369,
          0.717,
          0.093,
          0.22,
          0.475,
          0.176,
          0.722,
          0.704,
          0.847,
          0.536,
          1.37,
          0.626,
          1.089,
          1.425,
          0.485,
          1.458,
          0.495,
          2.148,
          2.343,
          3.553,
          1.317,
          3.598,
          4.272,
          0.672,
          1.519,
          1.694,
          2.107,
          8.379,
          10.386,
          3.706,
          15.689,
          13.059,
          19.508,
          39.388
         ],
         "xaxis": "x",
         "y": [
          "Nuts",
          "Citrus Fruit",
          "Apples",
          "Root Vegetables",
          "Potatoes",
          "Onions & Leeks",
          "Brassicas",
          "Other Vegetables",
          "Bananas",
          "Other Fruit",
          "Peas",
          "Soymilk",
          "Cassava",
          "Maize (Meal)",
          "Barley (Beer)",
          "Berries & Grapes",
          "Tomatoes",
          "Wheat & Rye (Bread)",
          "Beet Sugar",
          "Oatmeal",
          "Wine",
          "Other Pulses",
          "Groundnuts",
          "Cane Sugar",
          "Milk",
          "Tofu",
          "Sunflower Oil",
          "Rapeseed Oil",
          "Rice",
          "Eggs",
          "Fish (farmed)",
          "Olive Oil",
          "Poultry Meat",
          "Soybean Oil",
          "Pig Meat",
          "Palm Oil",
          "Crustaceans (farmed)",
          "Coffee",
          "Dark Chocolate",
          "Bovine Meat (dairy herd)",
          "Cheese",
          "Lamb & Mutton",
          "Bovine Meat (beef herd)"
         ],
         "yaxis": "y"
        },
        {
         "alignmentgroup": "True",
         "hovertemplate": "Stage=Processing<br>Emissions=%{x}<br>Product=%{y}<extra></extra>",
         "legendgroup": "Processing",
         "marker": {
          "color": "#72B7B2",
          "pattern": {
           "shape": ""
          }
         },
         "name": "Processing",
         "offsetgroup": "Processing",
         "orientation": "h",
         "showlegend": true,
         "textposition": "auto",
         "type": "bar",
         "x": [
          0.032,
          0,
          0.004,
          0,
          0,
          0,
          0,
          0.06,
          0.059,
          0.015,
          0,
          0.163,
          0,
          0.052,
          0.128,
          0,
          0.012,
          0.217,
          0.242,
          0.042,
          0.139,
          0,
          0.372,
          0.037,
          0.149,
          0.794,
          0.229,
          0.193,
          0.065,
          0,
          0.02,
          0.66,
          0.44,
          0.311,
          0.284,
          1.264,
          0,
          0.592,
          0.185,
          1.108,
          0.738,
          1.111,
          1.269
         ],
         "xaxis": "x",
         "y": [
          "Nuts",
          "Citrus Fruit",
          "Apples",
          "Root Vegetables",
          "Potatoes",
          "Onions & Leeks",
          "Brassicas",
          "Other Vegetables",
          "Bananas",
          "Other Fruit",
          "Peas",
          "Soymilk",
          "Cassava",
          "Maize (Meal)",
          "Barley (Beer)",
          "Berries & Grapes",
          "Tomatoes",
          "Wheat & Rye (Bread)",
          "Beet Sugar",
          "Oatmeal",
          "Wine",
          "Other Pulses",
          "Groundnuts",
          "Cane Sugar",
          "Milk",
          "Tofu",
          "Sunflower Oil",
          "Rapeseed Oil",
          "Rice",
          "Eggs",
          "Fish (farmed)",
          "Olive Oil",
          "Poultry Meat",
          "Soybean Oil",
          "Pig Meat",
          "Palm Oil",
          "Crustaceans (farmed)",
          "Coffee",
          "Dark Chocolate",
          "Bovine Meat (dairy herd)",
          "Cheese",
          "Lamb & Mutton",
          "Bovine Meat (beef herd)"
         ],
         "yaxis": "y"
        },
        {
         "alignmentgroup": "True",
         "hovertemplate": "Stage=Transport<br>Emissions=%{x}<br>Product=%{y}<extra></extra>",
         "legendgroup": "Transport",
         "marker": {
          "color": "#54A24B",
          "pattern": {
           "shape": ""
          }
         },
         "name": "Transport",
         "offsetgroup": "Transport",
         "opacity": 1,
         "orientation": "h",
         "showlegend": true,
         "textposition": "auto",
         "type": "bar",
         "x": [
          0.067,
          0.094,
          0.096,
          0.114,
          0.094,
          0.095,
          0.095,
          0.164,
          0.292,
          0.182,
          0.095,
          0.11,
          0.094,
          0.06,
          0.035,
          0.238,
          0.177,
          0.129,
          0.629,
          0.067,
          0.093,
          0.096,
          0.12,
          0.784,
          0.09,
          0.177,
          0.201,
          0.19,
          0.096,
          0.084,
          0.111,
          0.482,
          0.276,
          0.299,
          0.343,
          0.208,
          0.206,
          0.13,
          0.061,
          0.424,
          0.138,
          0.49,
          0.346
         ],
         "xaxis": "x",
         "y": [
          "Nuts",
          "Citrus Fruit",
          "Apples",
          "Root Vegetables",
          "Potatoes",
          "Onions & Leeks",
          "Brassicas",
          "Other Vegetables",
          "Bananas",
          "Other Fruit",
          "Peas",
          "Soymilk",
          "Cassava",
          "Maize (Meal)",
          "Barley (Beer)",
          "Berries & Grapes",
          "Tomatoes",
          "Wheat & Rye (Bread)",
          "Beet Sugar",
          "Oatmeal",
          "Wine",
          "Other Pulses",
          "Groundnuts",
          "Cane Sugar",
          "Milk",
          "Tofu",
          "Sunflower Oil",
          "Rapeseed Oil",
          "Rice",
          "Eggs",
          "Fish (farmed)",
          "Olive Oil",
          "Poultry Meat",
          "Soybean Oil",
          "Pig Meat",
          "Palm Oil",
          "Crustaceans (farmed)",
          "Coffee",
          "Dark Chocolate",
          "Bovine Meat (dairy herd)",
          "Cheese",
          "Lamb & Mutton",
          "Bovine Meat (beef herd)"
         ],
         "yaxis": "y"
        },
        {
         "alignmentgroup": "True",
         "hovertemplate": "Stage=Packaging<br>Emissions=%{x}<br>Product=%{y}<extra></extra>",
         "legendgroup": "Packaging",
         "marker": {
          "color": "#EECA3B",
          "pattern": {
           "shape": ""
          }
         },
         "name": "Packaging",
         "offsetgroup": "Packaging",
         "orientation": "h",
         "showlegend": true,
         "textposition": "auto",
         "type": "bar",
         "x": [
          0.078,
          0.045,
          0.044,
          0.045,
          0.045,
          0.045,
          0.045,
          0.041,
          0.065,
          0.042,
          0.045,
          0.098,
          0.045,
          0.06,
          0.497,
          0.212,
          0.145,
          0.09,
          0.09,
          0.066,
          0.749,
          0.353,
          0.099,
          0.083,
          0.097,
          0.177,
          0.853,
          0.844,
          0.084,
          0.161,
          0.061,
          0.861,
          0.212,
          0.849,
          0.296,
          0.886,
          0.334,
          1.63,
          0.4,
          0.268,
          0.172,
          0.251,
          0.247
         ],
         "xaxis": "x",
         "y": [
          "Nuts",
          "Citrus Fruit",
          "Apples",
          "Root Vegetables",
          "Potatoes",
          "Onions & Leeks",
          "Brassicas",
          "Other Vegetables",
          "Bananas",
          "Other Fruit",
          "Peas",
          "Soymilk",
          "Cassava",
          "Maize (Meal)",
          "Barley (Beer)",
          "Berries & Grapes",
          "Tomatoes",
          "Wheat & Rye (Bread)",
          "Beet Sugar",
          "Oatmeal",
          "Wine",
          "Other Pulses",
          "Groundnuts",
          "Cane Sugar",
          "Milk",
          "Tofu",
          "Sunflower Oil",
          "Rapeseed Oil",
          "Rice",
          "Eggs",
          "Fish (farmed)",
          "Olive Oil",
          "Poultry Meat",
          "Soybean Oil",
          "Pig Meat",
          "Palm Oil",
          "Crustaceans (farmed)",
          "Coffee",
          "Dark Chocolate",
          "Bovine Meat (dairy herd)",
          "Cheese",
          "Lamb & Mutton",
          "Bovine Meat (beef herd)"
         ],
         "yaxis": "y"
        },
        {
         "alignmentgroup": "True",
         "hovertemplate": "Stage=Retail<br>Emissions=%{x}<br>Product=%{y}<extra></extra>",
         "legendgroup": "Retail",
         "marker": {
          "color": "#B279A2",
          "pattern": {
           "shape": ""
          }
         },
         "name": "Retail",
         "offsetgroup": "Retail",
         "orientation": "h",
         "showlegend": true,
         "textposition": "auto",
         "type": "bar",
         "x": [
          0.027,
          0.017,
          0.017,
          0.039,
          0.039,
          0.039,
          0.017,
          0.015,
          0.021,
          0.016,
          0.039,
          0.27,
          0.039,
          0.026,
          0.264,
          0.017,
          0.017,
          0.058,
          0.039,
          0.029,
          0.039,
          0.039,
          0.042,
          0.036,
          0.256,
          0.27,
          0.043,
          0.046,
          0.063,
          0.036,
          0.04,
          0.046,
          0.177,
          0.043,
          0.19,
          0.044,
          0.219,
          0.051,
          0.021,
          0.182,
          0.332,
          0.217,
          0.164
         ],
         "xaxis": "x",
         "y": [
          "Nuts",
          "Citrus Fruit",
          "Apples",
          "Root Vegetables",
          "Potatoes",
          "Onions & Leeks",
          "Brassicas",
          "Other Vegetables",
          "Bananas",
          "Other Fruit",
          "Peas",
          "Soymilk",
          "Cassava",
          "Maize (Meal)",
          "Barley (Beer)",
          "Berries & Grapes",
          "Tomatoes",
          "Wheat & Rye (Bread)",
          "Beet Sugar",
          "Oatmeal",
          "Wine",
          "Other Pulses",
          "Groundnuts",
          "Cane Sugar",
          "Milk",
          "Tofu",
          "Sunflower Oil",
          "Rapeseed Oil",
          "Rice",
          "Eggs",
          "Fish (farmed)",
          "Olive Oil",
          "Poultry Meat",
          "Soybean Oil",
          "Pig Meat",
          "Palm Oil",
          "Crustaceans (farmed)",
          "Coffee",
          "Dark Chocolate",
          "Bovine Meat (dairy herd)",
          "Cheese",
          "Lamb & Mutton",
          "Bovine Meat (beef herd)"
         ],
         "yaxis": "y"
        },
        {
         "marker": {
          "color": "black",
          "size": 7,
          "symbol": "line-ns-open"
         },
         "mode": "markers",
         "name": "Total",
         "type": "scatter",
         "x": [
          0.27799999999999986,
          0.317,
          0.35700000000000004,
          0.365,
          0.37,
          0.39499999999999996,
          0.437,
          0.455,
          0.678,
          0.75,
          0.896,
          0.914,
          0.987,
          0.9880000000000002,
          1.109,
          1.214,
          1.427,
          1.441,
          1.536,
          1.575,
          1.5849999999999997,
          1.6099999999999999,
          2.4970000000000003,
          2.672,
          2.7809999999999997,
          2.871,
          3.607,
          3.828,
          3.8390000000000004,
          4.506999999999999,
          5.182999999999999,
          5.944000000000001,
          6.091999999999999,
          6.117000000000001,
          7.282,
          7.605,
          11.853999999999997,
          16.477,
          18.680999999999997,
          21.085,
          21.240000000000002,
          24.415,
          59.56999999999999
         ],
         "y": [
          "Nuts",
          "Citrus Fruit",
          "Apples",
          "Root Vegetables",
          "Potatoes",
          "Onions & Leeks",
          "Brassicas",
          "Other Vegetables",
          "Bananas",
          "Other Fruit",
          "Peas",
          "Soymilk",
          "Cassava",
          "Maize (Meal)",
          "Barley (Beer)",
          "Berries & Grapes",
          "Tomatoes",
          "Wheat & Rye (Bread)",
          "Beet Sugar",
          "Oatmeal",
          "Wine",
          "Other Pulses",
          "Groundnuts",
          "Cane Sugar",
          "Milk",
          "Tofu",
          "Sunflower Oil",
          "Rapeseed Oil",
          "Rice",
          "Eggs",
          "Fish (farmed)",
          "Olive Oil",
          "Poultry Meat",
          "Soybean Oil",
          "Pig Meat",
          "Palm Oil",
          "Crustaceans (farmed)",
          "Coffee",
          "Dark Chocolate",
          "Bovine Meat (dairy herd)",
          "Cheese",
          "Lamb & Mutton",
          "Bovine Meat (beef herd)"
         ]
        }
       ],
       "layout": {
        "barmode": "relative",
        "font": {
         "family": "\"Lato, \"Helvetica Neue\", Helvetica, Arial, \"Liberation Sans\", sans-serif"
        },
        "height": 800,
        "legend": {
         "font": {
          "size": 14
         },
         "orientation": "h",
         "title": {
          "text": "Stage"
         },
         "tracegroupgap": 0,
         "x": -0.06,
         "xanchor": "left",
         "y": 1.05,
         "yanchor": "top"
        },
        "margin": {
         "pad": 5
        },
        "newshape": {
         "label": {
          "padding": 8
         }
        },
        "template": {
         "data": {
          "bar": [
           {
            "error_x": {
             "color": "#2a3f5f"
            },
            "error_y": {
             "color": "#2a3f5f"
            },
            "marker": {
             "line": {
              "color": "#E5ECF6",
              "width": 0.5
             },
             "pattern": {
              "fillmode": "overlay",
              "size": 10,
              "solidity": 0.2
             }
            },
            "type": "bar"
           }
          ],
          "barpolar": [
           {
            "marker": {
             "line": {
              "color": "#E5ECF6",
              "width": 0.5
             },
             "pattern": {
              "fillmode": "overlay",
              "size": 10,
              "solidity": 0.2
             }
            },
            "type": "barpolar"
           }
          ],
          "carpet": [
           {
            "aaxis": {
             "endlinecolor": "#2a3f5f",
             "gridcolor": "white",
             "linecolor": "white",
             "minorgridcolor": "white",
             "startlinecolor": "#2a3f5f"
            },
            "baxis": {
             "endlinecolor": "#2a3f5f",
             "gridcolor": "white",
             "linecolor": "white",
             "minorgridcolor": "white",
             "startlinecolor": "#2a3f5f"
            },
            "type": "carpet"
           }
          ],
          "choropleth": [
           {
            "colorbar": {
             "outlinewidth": 0,
             "ticks": ""
            },
            "type": "choropleth"
           }
          ],
          "contour": [
           {
            "colorbar": {
             "outlinewidth": 0,
             "ticks": ""
            },
            "colorscale": [
             [
              0,
              "#0d0887"
             ],
             [
              0.1111111111111111,
              "#46039f"
             ],
             [
              0.2222222222222222,
              "#7201a8"
             ],
             [
              0.3333333333333333,
              "#9c179e"
             ],
             [
              0.4444444444444444,
              "#bd3786"
             ],
             [
              0.5555555555555556,
              "#d8576b"
             ],
             [
              0.6666666666666666,
              "#ed7953"
             ],
             [
              0.7777777777777778,
              "#fb9f3a"
             ],
             [
              0.8888888888888888,
              "#fdca26"
             ],
             [
              1,
              "#f0f921"
             ]
            ],
            "type": "contour"
           }
          ],
          "contourcarpet": [
           {
            "colorbar": {
             "outlinewidth": 0,
             "ticks": ""
            },
            "type": "contourcarpet"
           }
          ],
          "heatmap": [
           {
            "colorbar": {
             "outlinewidth": 0,
             "ticks": ""
            },
            "colorscale": [
             [
              0,
              "#0d0887"
             ],
             [
              0.1111111111111111,
              "#46039f"
             ],
             [
              0.2222222222222222,
              "#7201a8"
             ],
             [
              0.3333333333333333,
              "#9c179e"
             ],
             [
              0.4444444444444444,
              "#bd3786"
             ],
             [
              0.5555555555555556,
              "#d8576b"
             ],
             [
              0.6666666666666666,
              "#ed7953"
             ],
             [
              0.7777777777777778,
              "#fb9f3a"
             ],
             [
              0.8888888888888888,
              "#fdca26"
             ],
             [
              1,
              "#f0f921"
             ]
            ],
            "type": "heatmap"
           }
          ],
          "heatmapgl": [
           {
            "colorbar": {
             "outlinewidth": 0,
             "ticks": ""
            },
            "colorscale": [
             [
              0,
              "#0d0887"
             ],
             [
              0.1111111111111111,
              "#46039f"
             ],
             [
              0.2222222222222222,
              "#7201a8"
             ],
             [
              0.3333333333333333,
              "#9c179e"
             ],
             [
              0.4444444444444444,
              "#bd3786"
             ],
             [
              0.5555555555555556,
              "#d8576b"
             ],
             [
              0.6666666666666666,
              "#ed7953"
             ],
             [
              0.7777777777777778,
              "#fb9f3a"
             ],
             [
              0.8888888888888888,
              "#fdca26"
             ],
             [
              1,
              "#f0f921"
             ]
            ],
            "type": "heatmapgl"
           }
          ],
          "histogram": [
           {
            "marker": {
             "pattern": {
              "fillmode": "overlay",
              "size": 10,
              "solidity": 0.2
             }
            },
            "type": "histogram"
           }
          ],
          "histogram2d": [
           {
            "colorbar": {
             "outlinewidth": 0,
             "ticks": ""
            },
            "colorscale": [
             [
              0,
              "#0d0887"
             ],
             [
              0.1111111111111111,
              "#46039f"
             ],
             [
              0.2222222222222222,
              "#7201a8"
             ],
             [
              0.3333333333333333,
              "#9c179e"
             ],
             [
              0.4444444444444444,
              "#bd3786"
             ],
             [
              0.5555555555555556,
              "#d8576b"
             ],
             [
              0.6666666666666666,
              "#ed7953"
             ],
             [
              0.7777777777777778,
              "#fb9f3a"
             ],
             [
              0.8888888888888888,
              "#fdca26"
             ],
             [
              1,
              "#f0f921"
             ]
            ],
            "type": "histogram2d"
           }
          ],
          "histogram2dcontour": [
           {
            "colorbar": {
             "outlinewidth": 0,
             "ticks": ""
            },
            "colorscale": [
             [
              0,
              "#0d0887"
             ],
             [
              0.1111111111111111,
              "#46039f"
             ],
             [
              0.2222222222222222,
              "#7201a8"
             ],
             [
              0.3333333333333333,
              "#9c179e"
             ],
             [
              0.4444444444444444,
              "#bd3786"
             ],
             [
              0.5555555555555556,
              "#d8576b"
             ],
             [
              0.6666666666666666,
              "#ed7953"
             ],
             [
              0.7777777777777778,
              "#fb9f3a"
             ],
             [
              0.8888888888888888,
              "#fdca26"
             ],
             [
              1,
              "#f0f921"
             ]
            ],
            "type": "histogram2dcontour"
           }
          ],
          "mesh3d": [
           {
            "colorbar": {
             "outlinewidth": 0,
             "ticks": ""
            },
            "type": "mesh3d"
           }
          ],
          "parcoords": [
           {
            "line": {
             "colorbar": {
              "outlinewidth": 0,
              "ticks": ""
             }
            },
            "type": "parcoords"
           }
          ],
          "pie": [
           {
            "automargin": true,
            "type": "pie"
           }
          ],
          "scatter": [
           {
            "fillpattern": {
             "fillmode": "overlay",
             "size": 10,
             "solidity": 0.2
            },
            "type": "scatter"
           }
          ],
          "scatter3d": [
           {
            "line": {
             "colorbar": {
              "outlinewidth": 0,
              "ticks": ""
             }
            },
            "marker": {
             "colorbar": {
              "outlinewidth": 0,
              "ticks": ""
             }
            },
            "type": "scatter3d"
           }
          ],
          "scattercarpet": [
           {
            "marker": {
             "colorbar": {
              "outlinewidth": 0,
              "ticks": ""
             }
            },
            "type": "scattercarpet"
           }
          ],
          "scattergeo": [
           {
            "marker": {
             "colorbar": {
              "outlinewidth": 0,
              "ticks": ""
             }
            },
            "type": "scattergeo"
           }
          ],
          "scattergl": [
           {
            "marker": {
             "colorbar": {
              "outlinewidth": 0,
              "ticks": ""
             }
            },
            "type": "scattergl"
           }
          ],
          "scattermapbox": [
           {
            "marker": {
             "colorbar": {
              "outlinewidth": 0,
              "ticks": ""
             }
            },
            "type": "scattermapbox"
           }
          ],
          "scatterpolar": [
           {
            "marker": {
             "colorbar": {
              "outlinewidth": 0,
              "ticks": ""
             }
            },
            "type": "scatterpolar"
           }
          ],
          "scatterpolargl": [
           {
            "marker": {
             "colorbar": {
              "outlinewidth": 0,
              "ticks": ""
             }
            },
            "type": "scatterpolargl"
           }
          ],
          "scatterternary": [
           {
            "marker": {
             "colorbar": {
              "outlinewidth": 0,
              "ticks": ""
             }
            },
            "type": "scatterternary"
           }
          ],
          "surface": [
           {
            "colorbar": {
             "outlinewidth": 0,
             "ticks": ""
            },
            "colorscale": [
             [
              0,
              "#0d0887"
             ],
             [
              0.1111111111111111,
              "#46039f"
             ],
             [
              0.2222222222222222,
              "#7201a8"
             ],
             [
              0.3333333333333333,
              "#9c179e"
             ],
             [
              0.4444444444444444,
              "#bd3786"
             ],
             [
              0.5555555555555556,
              "#d8576b"
             ],
             [
              0.6666666666666666,
              "#ed7953"
             ],
             [
              0.7777777777777778,
              "#fb9f3a"
             ],
             [
              0.8888888888888888,
              "#fdca26"
             ],
             [
              1,
              "#f0f921"
             ]
            ],
            "type": "surface"
           }
          ],
          "table": [
           {
            "cells": {
             "fill": {
              "color": "#EBF0F8"
             },
             "line": {
              "color": "white"
             }
            },
            "header": {
             "fill": {
              "color": "#C8D4E3"
             },
             "line": {
              "color": "white"
             }
            },
            "type": "table"
           }
          ]
         },
         "layout": {
          "annotationdefaults": {
           "arrowcolor": "#2a3f5f",
           "arrowhead": 0,
           "arrowwidth": 1
          },
          "autotypenumbers": "strict",
          "coloraxis": {
           "colorbar": {
            "outlinewidth": 0,
            "ticks": ""
           }
          },
          "colorscale": {
           "diverging": [
            [
             0,
             "#8e0152"
            ],
            [
             0.1,
             "#c51b7d"
            ],
            [
             0.2,
             "#de77ae"
            ],
            [
             0.3,
             "#f1b6da"
            ],
            [
             0.4,
             "#fde0ef"
            ],
            [
             0.5,
             "#f7f7f7"
            ],
            [
             0.6,
             "#e6f5d0"
            ],
            [
             0.7,
             "#b8e186"
            ],
            [
             0.8,
             "#7fbc41"
            ],
            [
             0.9,
             "#4d9221"
            ],
            [
             1,
             "#276419"
            ]
           ],
           "sequential": [
            [
             0,
             "#0d0887"
            ],
            [
             0.1111111111111111,
             "#46039f"
            ],
            [
             0.2222222222222222,
             "#7201a8"
            ],
            [
             0.3333333333333333,
             "#9c179e"
            ],
            [
             0.4444444444444444,
             "#bd3786"
            ],
            [
             0.5555555555555556,
             "#d8576b"
            ],
            [
             0.6666666666666666,
             "#ed7953"
            ],
            [
             0.7777777777777778,
             "#fb9f3a"
            ],
            [
             0.8888888888888888,
             "#fdca26"
            ],
            [
             1,
             "#f0f921"
            ]
           ],
           "sequentialminus": [
            [
             0,
             "#0d0887"
            ],
            [
             0.1111111111111111,
             "#46039f"
            ],
            [
             0.2222222222222222,
             "#7201a8"
            ],
            [
             0.3333333333333333,
             "#9c179e"
            ],
            [
             0.4444444444444444,
             "#bd3786"
            ],
            [
             0.5555555555555556,
             "#d8576b"
            ],
            [
             0.6666666666666666,
             "#ed7953"
            ],
            [
             0.7777777777777778,
             "#fb9f3a"
            ],
            [
             0.8888888888888888,
             "#fdca26"
            ],
            [
             1,
             "#f0f921"
            ]
           ]
          },
          "colorway": [
           "#636efa",
           "#EF553B",
           "#00cc96",
           "#ab63fa",
           "#FFA15A",
           "#19d3f3",
           "#FF6692",
           "#B6E880",
           "#FF97FF",
           "#FECB52"
          ],
          "font": {
           "color": "#2a3f5f"
          },
          "geo": {
           "bgcolor": "white",
           "lakecolor": "white",
           "landcolor": "#E5ECF6",
           "showlakes": true,
           "showland": true,
           "subunitcolor": "white"
          },
          "hoverlabel": {
           "align": "left"
          },
          "hovermode": "closest",
          "mapbox": {
           "style": "light"
          },
          "paper_bgcolor": "white",
          "plot_bgcolor": "#E5ECF6",
          "polar": {
           "angularaxis": {
            "gridcolor": "white",
            "linecolor": "white",
            "ticks": ""
           },
           "bgcolor": "#E5ECF6",
           "radialaxis": {
            "gridcolor": "white",
            "linecolor": "white",
            "ticks": ""
           }
          },
          "scene": {
           "xaxis": {
            "backgroundcolor": "#E5ECF6",
            "gridcolor": "white",
            "gridwidth": 2,
            "linecolor": "white",
            "showbackground": true,
            "ticks": "",
            "zerolinecolor": "white"
           },
           "yaxis": {
            "backgroundcolor": "#E5ECF6",
            "gridcolor": "white",
            "gridwidth": 2,
            "linecolor": "white",
            "showbackground": true,
            "ticks": "",
            "zerolinecolor": "white"
           },
           "zaxis": {
            "backgroundcolor": "#E5ECF6",
            "gridcolor": "white",
            "gridwidth": 2,
            "linecolor": "white",
            "showbackground": true,
            "ticks": "",
            "zerolinecolor": "white"
           }
          },
          "shapedefaults": {
           "line": {
            "color": "#2a3f5f"
           }
          },
          "ternary": {
           "aaxis": {
            "gridcolor": "white",
            "linecolor": "white",
            "ticks": ""
           },
           "baxis": {
            "gridcolor": "white",
            "linecolor": "white",
            "ticks": ""
           },
           "bgcolor": "#E5ECF6",
           "caxis": {
            "gridcolor": "white",
            "linecolor": "white",
            "ticks": ""
           }
          },
          "title": {
           "x": 0.05
          },
          "xaxis": {
           "automargin": true,
           "gridcolor": "white",
           "linecolor": "white",
           "ticks": "",
           "title": {
            "standoff": 15
           },
           "zerolinecolor": "white",
           "zerolinewidth": 2
          },
          "yaxis": {
           "automargin": true,
           "gridcolor": "white",
           "linecolor": "white",
           "ticks": "",
           "title": {
            "standoff": 15
           },
           "zerolinecolor": "white",
           "zerolinewidth": 2
          }
         }
        },
        "title": {
         "font": {
          "size": 24
         },
         "text": "Greenhouse gas emissions per food type over the supply chain"
        },
        "width": 1000,
        "xaxis": {
         "anchor": "y",
         "domain": [
          0,
          1
         ],
         "title": {
          "text": "Emissions"
         }
        },
        "yaxis": {
         "anchor": "x",
         "domain": [
          0,
          1
         ],
         "title": {
          "text": "Product"
         }
        }
       }
      }
     },
     "metadata": {},
     "output_type": "display_data"
    }
   ],
   "source": [
    "\n",
    "standard_discrete = px.colors.qualitative.T10\n",
    "\n",
    "print(sns.color_palette(\"tab10\").as_hex())\n",
    "# Create a horizontal stacked bar plot using plotly.express\n",
    "fig = px.bar(df_melted,\n",
    "             y='Product',\n",
    "             x='Emissions',\n",
    "             color='Stage',\n",
    "             width=1000,\n",
    "             height=800,\n",
    "             color_discrete_sequence=standard_discrete,\n",
    "             title=\"Greenhouse gas emissions per food type over the supply chain\")\n",
    "\n",
    "fig.update_traces()\n",
    "\n",
    "fig.update_layout(barmode='relative')\n",
    "\n",
    "fig.add_scatter(y=df['Product'], x=df['Total'], mode='markers', name='Total', marker=dict(symbol='line-ns-open', color=\"black\", size=7))\n",
    "\n",
    "fig.update_layout(layout,        \n",
    "        legend=dict(\n",
    "        orientation=\"h\",\n",
    "        yanchor=\"top\",\n",
    "        y=1.05,\n",
    "        xanchor=\"left\",\n",
    "        x=-0.06,\n",
    "    )\n",
    "    )\n",
    "\n",
    "\n",
    "fig.update_traces(patch={\"opacity\": 1}, selector={\"legendgroup\": \"Transport\"})\n",
    "\n",
    "fig.show()\n",
    "\n",
    "\n"
   ]
  },
  {
   "cell_type": "code",
   "execution_count": 150,
   "metadata": {},
   "outputs": [
    {
     "name": "stdout",
     "output_type": "stream",
     "text": [
      "['#1f77b4', '#ff7f0e', '#2ca02c', '#d62728', '#9467bd', '#8c564b', '#e377c2', '#7f7f7f', '#bcbd22', '#17becf']\n"
     ]
    },
    {
     "data": {
      "application/vnd.plotly.v1+json": {
       "config": {
        "plotlyServerURL": "https://plot.ly"
       },
       "data": [
        {
         "alignmentgroup": "True",
         "hovertemplate": "Stage=Land Use Change<br>Emissions=%{x}<br>Product=%{y}<extra></extra>",
         "legendgroup": "Land Use Change",
         "marker": {
          "color": "#4C78A8",
          "pattern": {
           "shape": ""
          }
         },
         "name": "Land Use Change",
         "offsetgroup": "Land Use Change",
         "opacity": 0.1,
         "orientation": "h",
         "showlegend": true,
         "textposition": "auto",
         "type": "bar",
         "x": [
          -2.052,
          -0.146,
          -0.029,
          0.013,
          -0.001,
          0.005,
          0.002,
          0.001,
          -0.025,
          0.126,
          0,
          0.18,
          0.589,
          0.315,
          0.009,
          0.025,
          0.372,
          0.1,
          0,
          0.001,
          -0.061,
          0.033,
          0.439,
          1.247,
          0.495,
          0.958,
          0.133,
          0.212,
          -0.022,
          0.709,
          0.534,
          -0.377,
          2.54,
          3.096,
          1.535,
          3.096,
          0.206,
          3.688,
          14.308,
          0.906,
          4.455,
          0.468,
          16.278
         ],
         "xaxis": "x",
         "y": [
          "Nuts",
          "Citrus Fruit",
          "Apples",
          "Root Vegetables",
          "Potatoes",
          "Onions & Leeks",
          "Brassicas",
          "Other Vegetables",
          "Bananas",
          "Other Fruit",
          "Peas",
          "Soymilk",
          "Cassava",
          "Maize (Meal)",
          "Barley (Beer)",
          "Berries & Grapes",
          "Tomatoes",
          "Wheat & Rye (Bread)",
          "Beet Sugar",
          "Oatmeal",
          "Wine",
          "Other Pulses",
          "Groundnuts",
          "Cane Sugar",
          "Milk",
          "Tofu",
          "Sunflower Oil",
          "Rapeseed Oil",
          "Rice",
          "Eggs",
          "Fish (farmed)",
          "Olive Oil",
          "Poultry Meat",
          "Soybean Oil",
          "Pig Meat",
          "Palm Oil",
          "Crustaceans (farmed)",
          "Coffee",
          "Dark Chocolate",
          "Bovine Meat (dairy herd)",
          "Cheese",
          "Lamb & Mutton",
          "Bovine Meat (beef herd)"
         ],
         "yaxis": "y"
        },
        {
         "alignmentgroup": "True",
         "hovertemplate": "Stage=Feed<br>Emissions=%{x}<br>Product=%{y}<extra></extra>",
         "legendgroup": "Feed",
         "marker": {
          "color": "#F58518",
          "pattern": {
           "shape": ""
          }
         },
         "name": "Feed",
         "offsetgroup": "Feed",
         "opacity": 0.1,
         "orientation": "h",
         "showlegend": true,
         "textposition": "auto",
         "type": "bar",
         "x": [
          0,
          0,
          0,
          0,
          0,
          0,
          0,
          0,
          0,
          0,
          0,
          0,
          0,
          0,
          0,
          0,
          0,
          0,
          0,
          0,
          0,
          0,
          0,
          0,
          0.236,
          0,
          0,
          0,
          0,
          2.2,
          0.819,
          0,
          1.775,
          0,
          2.94,
          0,
          2.51,
          0,
          0,
          2.508,
          2.346,
          2.37,
          1.878
         ],
         "xaxis": "x",
         "y": [
          "Nuts",
          "Citrus Fruit",
          "Apples",
          "Root Vegetables",
          "Potatoes",
          "Onions & Leeks",
          "Brassicas",
          "Other Vegetables",
          "Bananas",
          "Other Fruit",
          "Peas",
          "Soymilk",
          "Cassava",
          "Maize (Meal)",
          "Barley (Beer)",
          "Berries & Grapes",
          "Tomatoes",
          "Wheat & Rye (Bread)",
          "Beet Sugar",
          "Oatmeal",
          "Wine",
          "Other Pulses",
          "Groundnuts",
          "Cane Sugar",
          "Milk",
          "Tofu",
          "Sunflower Oil",
          "Rapeseed Oil",
          "Rice",
          "Eggs",
          "Fish (farmed)",
          "Olive Oil",
          "Poultry Meat",
          "Soybean Oil",
          "Pig Meat",
          "Palm Oil",
          "Crustaceans (farmed)",
          "Coffee",
          "Dark Chocolate",
          "Bovine Meat (dairy herd)",
          "Cheese",
          "Lamb & Mutton",
          "Bovine Meat (beef herd)"
         ],
         "yaxis": "y"
        },
        {
         "alignmentgroup": "True",
         "hovertemplate": "Stage=Farm<br>Emissions=%{x}<br>Product=%{y}<extra></extra>",
         "legendgroup": "Farm",
         "marker": {
          "color": "#E45756",
          "pattern": {
           "shape": ""
          }
         },
         "name": "Farm",
         "offsetgroup": "Farm",
         "opacity": 0.1,
         "orientation": "h",
         "showlegend": true,
         "textposition": "auto",
         "type": "bar",
         "x": [
          2.126,
          0.307,
          0.225,
          0.154,
          0.193,
          0.211,
          0.278,
          0.174,
          0.266,
          0.369,
          0.717,
          0.093,
          0.22,
          0.475,
          0.176,
          0.722,
          0.704,
          0.847,
          0.536,
          1.37,
          0.626,
          1.089,
          1.425,
          0.485,
          1.458,
          0.495,
          2.148,
          2.343,
          3.553,
          1.317,
          3.598,
          4.272,
          0.672,
          1.519,
          1.694,
          2.107,
          8.379,
          10.386,
          3.706,
          15.689,
          13.059,
          19.508,
          39.388
         ],
         "xaxis": "x",
         "y": [
          "Nuts",
          "Citrus Fruit",
          "Apples",
          "Root Vegetables",
          "Potatoes",
          "Onions & Leeks",
          "Brassicas",
          "Other Vegetables",
          "Bananas",
          "Other Fruit",
          "Peas",
          "Soymilk",
          "Cassava",
          "Maize (Meal)",
          "Barley (Beer)",
          "Berries & Grapes",
          "Tomatoes",
          "Wheat & Rye (Bread)",
          "Beet Sugar",
          "Oatmeal",
          "Wine",
          "Other Pulses",
          "Groundnuts",
          "Cane Sugar",
          "Milk",
          "Tofu",
          "Sunflower Oil",
          "Rapeseed Oil",
          "Rice",
          "Eggs",
          "Fish (farmed)",
          "Olive Oil",
          "Poultry Meat",
          "Soybean Oil",
          "Pig Meat",
          "Palm Oil",
          "Crustaceans (farmed)",
          "Coffee",
          "Dark Chocolate",
          "Bovine Meat (dairy herd)",
          "Cheese",
          "Lamb & Mutton",
          "Bovine Meat (beef herd)"
         ],
         "yaxis": "y"
        },
        {
         "alignmentgroup": "True",
         "hovertemplate": "Stage=Processing<br>Emissions=%{x}<br>Product=%{y}<extra></extra>",
         "legendgroup": "Processing",
         "marker": {
          "color": "#72B7B2",
          "pattern": {
           "shape": ""
          }
         },
         "name": "Processing",
         "offsetgroup": "Processing",
         "opacity": 0.1,
         "orientation": "h",
         "showlegend": true,
         "textposition": "auto",
         "type": "bar",
         "x": [
          0.032,
          0,
          0.004,
          0,
          0,
          0,
          0,
          0.06,
          0.059,
          0.015,
          0,
          0.163,
          0,
          0.052,
          0.128,
          0,
          0.012,
          0.217,
          0.242,
          0.042,
          0.139,
          0,
          0.372,
          0.037,
          0.149,
          0.794,
          0.229,
          0.193,
          0.065,
          0,
          0.02,
          0.66,
          0.44,
          0.311,
          0.284,
          1.264,
          0,
          0.592,
          0.185,
          1.108,
          0.738,
          1.111,
          1.269
         ],
         "xaxis": "x",
         "y": [
          "Nuts",
          "Citrus Fruit",
          "Apples",
          "Root Vegetables",
          "Potatoes",
          "Onions & Leeks",
          "Brassicas",
          "Other Vegetables",
          "Bananas",
          "Other Fruit",
          "Peas",
          "Soymilk",
          "Cassava",
          "Maize (Meal)",
          "Barley (Beer)",
          "Berries & Grapes",
          "Tomatoes",
          "Wheat & Rye (Bread)",
          "Beet Sugar",
          "Oatmeal",
          "Wine",
          "Other Pulses",
          "Groundnuts",
          "Cane Sugar",
          "Milk",
          "Tofu",
          "Sunflower Oil",
          "Rapeseed Oil",
          "Rice",
          "Eggs",
          "Fish (farmed)",
          "Olive Oil",
          "Poultry Meat",
          "Soybean Oil",
          "Pig Meat",
          "Palm Oil",
          "Crustaceans (farmed)",
          "Coffee",
          "Dark Chocolate",
          "Bovine Meat (dairy herd)",
          "Cheese",
          "Lamb & Mutton",
          "Bovine Meat (beef herd)"
         ],
         "yaxis": "y"
        },
        {
         "alignmentgroup": "True",
         "hovertemplate": "Stage=Transport<br>Emissions=%{x}<br>Product=%{y}<extra></extra>",
         "legendgroup": "Transport",
         "marker": {
          "color": "#54A24B",
          "pattern": {
           "shape": ""
          }
         },
         "name": "Transport",
         "offsetgroup": "Transport",
         "opacity": 1,
         "orientation": "h",
         "showlegend": true,
         "textposition": "auto",
         "type": "bar",
         "width": 1,
         "x": [
          0.067,
          0.094,
          0.096,
          0.114,
          0.094,
          0.095,
          0.095,
          0.164,
          0.292,
          0.182,
          0.095,
          0.11,
          0.094,
          0.06,
          0.035,
          0.238,
          0.177,
          0.129,
          0.629,
          0.067,
          0.093,
          0.096,
          0.12,
          0.784,
          0.09,
          0.177,
          0.201,
          0.19,
          0.096,
          0.084,
          0.111,
          0.482,
          0.276,
          0.299,
          0.343,
          0.208,
          0.206,
          0.13,
          0.061,
          0.424,
          0.138,
          0.49,
          0.346
         ],
         "xaxis": "x",
         "y": [
          "Nuts",
          "Citrus Fruit",
          "Apples",
          "Root Vegetables",
          "Potatoes",
          "Onions & Leeks",
          "Brassicas",
          "Other Vegetables",
          "Bananas",
          "Other Fruit",
          "Peas",
          "Soymilk",
          "Cassava",
          "Maize (Meal)",
          "Barley (Beer)",
          "Berries & Grapes",
          "Tomatoes",
          "Wheat & Rye (Bread)",
          "Beet Sugar",
          "Oatmeal",
          "Wine",
          "Other Pulses",
          "Groundnuts",
          "Cane Sugar",
          "Milk",
          "Tofu",
          "Sunflower Oil",
          "Rapeseed Oil",
          "Rice",
          "Eggs",
          "Fish (farmed)",
          "Olive Oil",
          "Poultry Meat",
          "Soybean Oil",
          "Pig Meat",
          "Palm Oil",
          "Crustaceans (farmed)",
          "Coffee",
          "Dark Chocolate",
          "Bovine Meat (dairy herd)",
          "Cheese",
          "Lamb & Mutton",
          "Bovine Meat (beef herd)"
         ],
         "yaxis": "y"
        },
        {
         "alignmentgroup": "True",
         "hovertemplate": "Stage=Packaging<br>Emissions=%{x}<br>Product=%{y}<extra></extra>",
         "legendgroup": "Packaging",
         "marker": {
          "color": "#EECA3B",
          "pattern": {
           "shape": ""
          }
         },
         "name": "Packaging",
         "offsetgroup": "Packaging",
         "opacity": 0.1,
         "orientation": "h",
         "showlegend": true,
         "textposition": "auto",
         "type": "bar",
         "x": [
          0.078,
          0.045,
          0.044,
          0.045,
          0.045,
          0.045,
          0.045,
          0.041,
          0.065,
          0.042,
          0.045,
          0.098,
          0.045,
          0.06,
          0.497,
          0.212,
          0.145,
          0.09,
          0.09,
          0.066,
          0.749,
          0.353,
          0.099,
          0.083,
          0.097,
          0.177,
          0.853,
          0.844,
          0.084,
          0.161,
          0.061,
          0.861,
          0.212,
          0.849,
          0.296,
          0.886,
          0.334,
          1.63,
          0.4,
          0.268,
          0.172,
          0.251,
          0.247
         ],
         "xaxis": "x",
         "y": [
          "Nuts",
          "Citrus Fruit",
          "Apples",
          "Root Vegetables",
          "Potatoes",
          "Onions & Leeks",
          "Brassicas",
          "Other Vegetables",
          "Bananas",
          "Other Fruit",
          "Peas",
          "Soymilk",
          "Cassava",
          "Maize (Meal)",
          "Barley (Beer)",
          "Berries & Grapes",
          "Tomatoes",
          "Wheat & Rye (Bread)",
          "Beet Sugar",
          "Oatmeal",
          "Wine",
          "Other Pulses",
          "Groundnuts",
          "Cane Sugar",
          "Milk",
          "Tofu",
          "Sunflower Oil",
          "Rapeseed Oil",
          "Rice",
          "Eggs",
          "Fish (farmed)",
          "Olive Oil",
          "Poultry Meat",
          "Soybean Oil",
          "Pig Meat",
          "Palm Oil",
          "Crustaceans (farmed)",
          "Coffee",
          "Dark Chocolate",
          "Bovine Meat (dairy herd)",
          "Cheese",
          "Lamb & Mutton",
          "Bovine Meat (beef herd)"
         ],
         "yaxis": "y"
        },
        {
         "alignmentgroup": "True",
         "hovertemplate": "Stage=Retail<br>Emissions=%{x}<br>Product=%{y}<extra></extra>",
         "legendgroup": "Retail",
         "marker": {
          "color": "#B279A2",
          "pattern": {
           "shape": ""
          }
         },
         "name": "Retail",
         "offsetgroup": "Retail",
         "opacity": 0.1,
         "orientation": "h",
         "showlegend": true,
         "textposition": "auto",
         "type": "bar",
         "x": [
          0.027,
          0.017,
          0.017,
          0.039,
          0.039,
          0.039,
          0.017,
          0.015,
          0.021,
          0.016,
          0.039,
          0.27,
          0.039,
          0.026,
          0.264,
          0.017,
          0.017,
          0.058,
          0.039,
          0.029,
          0.039,
          0.039,
          0.042,
          0.036,
          0.256,
          0.27,
          0.043,
          0.046,
          0.063,
          0.036,
          0.04,
          0.046,
          0.177,
          0.043,
          0.19,
          0.044,
          0.219,
          0.051,
          0.021,
          0.182,
          0.332,
          0.217,
          0.164
         ],
         "xaxis": "x",
         "y": [
          "Nuts",
          "Citrus Fruit",
          "Apples",
          "Root Vegetables",
          "Potatoes",
          "Onions & Leeks",
          "Brassicas",
          "Other Vegetables",
          "Bananas",
          "Other Fruit",
          "Peas",
          "Soymilk",
          "Cassava",
          "Maize (Meal)",
          "Barley (Beer)",
          "Berries & Grapes",
          "Tomatoes",
          "Wheat & Rye (Bread)",
          "Beet Sugar",
          "Oatmeal",
          "Wine",
          "Other Pulses",
          "Groundnuts",
          "Cane Sugar",
          "Milk",
          "Tofu",
          "Sunflower Oil",
          "Rapeseed Oil",
          "Rice",
          "Eggs",
          "Fish (farmed)",
          "Olive Oil",
          "Poultry Meat",
          "Soybean Oil",
          "Pig Meat",
          "Palm Oil",
          "Crustaceans (farmed)",
          "Coffee",
          "Dark Chocolate",
          "Bovine Meat (dairy herd)",
          "Cheese",
          "Lamb & Mutton",
          "Bovine Meat (beef herd)"
         ],
         "yaxis": "y"
        }
       ],
       "layout": {
        "barmode": "relative",
        "font": {
         "family": "\"Lato, \"Helvetica Neue\", Helvetica, Arial, \"Liberation Sans\", sans-serif"
        },
        "height": 800,
        "legend": {
         "font": {
          "size": 14
         },
         "orientation": "h",
         "title": {
          "text": "Stage"
         },
         "tracegroupgap": 0,
         "x": -0.06,
         "xanchor": "left",
         "y": 1.05,
         "yanchor": "top"
        },
        "margin": {
         "pad": 5
        },
        "newshape": {
         "label": {
          "padding": 8
         }
        },
        "template": {
         "data": {
          "bar": [
           {
            "error_x": {
             "color": "#2a3f5f"
            },
            "error_y": {
             "color": "#2a3f5f"
            },
            "marker": {
             "line": {
              "color": "#E5ECF6",
              "width": 0.5
             },
             "pattern": {
              "fillmode": "overlay",
              "size": 10,
              "solidity": 0.2
             }
            },
            "type": "bar"
           }
          ],
          "barpolar": [
           {
            "marker": {
             "line": {
              "color": "#E5ECF6",
              "width": 0.5
             },
             "pattern": {
              "fillmode": "overlay",
              "size": 10,
              "solidity": 0.2
             }
            },
            "type": "barpolar"
           }
          ],
          "carpet": [
           {
            "aaxis": {
             "endlinecolor": "#2a3f5f",
             "gridcolor": "white",
             "linecolor": "white",
             "minorgridcolor": "white",
             "startlinecolor": "#2a3f5f"
            },
            "baxis": {
             "endlinecolor": "#2a3f5f",
             "gridcolor": "white",
             "linecolor": "white",
             "minorgridcolor": "white",
             "startlinecolor": "#2a3f5f"
            },
            "type": "carpet"
           }
          ],
          "choropleth": [
           {
            "colorbar": {
             "outlinewidth": 0,
             "ticks": ""
            },
            "type": "choropleth"
           }
          ],
          "contour": [
           {
            "colorbar": {
             "outlinewidth": 0,
             "ticks": ""
            },
            "colorscale": [
             [
              0,
              "#0d0887"
             ],
             [
              0.1111111111111111,
              "#46039f"
             ],
             [
              0.2222222222222222,
              "#7201a8"
             ],
             [
              0.3333333333333333,
              "#9c179e"
             ],
             [
              0.4444444444444444,
              "#bd3786"
             ],
             [
              0.5555555555555556,
              "#d8576b"
             ],
             [
              0.6666666666666666,
              "#ed7953"
             ],
             [
              0.7777777777777778,
              "#fb9f3a"
             ],
             [
              0.8888888888888888,
              "#fdca26"
             ],
             [
              1,
              "#f0f921"
             ]
            ],
            "type": "contour"
           }
          ],
          "contourcarpet": [
           {
            "colorbar": {
             "outlinewidth": 0,
             "ticks": ""
            },
            "type": "contourcarpet"
           }
          ],
          "heatmap": [
           {
            "colorbar": {
             "outlinewidth": 0,
             "ticks": ""
            },
            "colorscale": [
             [
              0,
              "#0d0887"
             ],
             [
              0.1111111111111111,
              "#46039f"
             ],
             [
              0.2222222222222222,
              "#7201a8"
             ],
             [
              0.3333333333333333,
              "#9c179e"
             ],
             [
              0.4444444444444444,
              "#bd3786"
             ],
             [
              0.5555555555555556,
              "#d8576b"
             ],
             [
              0.6666666666666666,
              "#ed7953"
             ],
             [
              0.7777777777777778,
              "#fb9f3a"
             ],
             [
              0.8888888888888888,
              "#fdca26"
             ],
             [
              1,
              "#f0f921"
             ]
            ],
            "type": "heatmap"
           }
          ],
          "heatmapgl": [
           {
            "colorbar": {
             "outlinewidth": 0,
             "ticks": ""
            },
            "colorscale": [
             [
              0,
              "#0d0887"
             ],
             [
              0.1111111111111111,
              "#46039f"
             ],
             [
              0.2222222222222222,
              "#7201a8"
             ],
             [
              0.3333333333333333,
              "#9c179e"
             ],
             [
              0.4444444444444444,
              "#bd3786"
             ],
             [
              0.5555555555555556,
              "#d8576b"
             ],
             [
              0.6666666666666666,
              "#ed7953"
             ],
             [
              0.7777777777777778,
              "#fb9f3a"
             ],
             [
              0.8888888888888888,
              "#fdca26"
             ],
             [
              1,
              "#f0f921"
             ]
            ],
            "type": "heatmapgl"
           }
          ],
          "histogram": [
           {
            "marker": {
             "pattern": {
              "fillmode": "overlay",
              "size": 10,
              "solidity": 0.2
             }
            },
            "type": "histogram"
           }
          ],
          "histogram2d": [
           {
            "colorbar": {
             "outlinewidth": 0,
             "ticks": ""
            },
            "colorscale": [
             [
              0,
              "#0d0887"
             ],
             [
              0.1111111111111111,
              "#46039f"
             ],
             [
              0.2222222222222222,
              "#7201a8"
             ],
             [
              0.3333333333333333,
              "#9c179e"
             ],
             [
              0.4444444444444444,
              "#bd3786"
             ],
             [
              0.5555555555555556,
              "#d8576b"
             ],
             [
              0.6666666666666666,
              "#ed7953"
             ],
             [
              0.7777777777777778,
              "#fb9f3a"
             ],
             [
              0.8888888888888888,
              "#fdca26"
             ],
             [
              1,
              "#f0f921"
             ]
            ],
            "type": "histogram2d"
           }
          ],
          "histogram2dcontour": [
           {
            "colorbar": {
             "outlinewidth": 0,
             "ticks": ""
            },
            "colorscale": [
             [
              0,
              "#0d0887"
             ],
             [
              0.1111111111111111,
              "#46039f"
             ],
             [
              0.2222222222222222,
              "#7201a8"
             ],
             [
              0.3333333333333333,
              "#9c179e"
             ],
             [
              0.4444444444444444,
              "#bd3786"
             ],
             [
              0.5555555555555556,
              "#d8576b"
             ],
             [
              0.6666666666666666,
              "#ed7953"
             ],
             [
              0.7777777777777778,
              "#fb9f3a"
             ],
             [
              0.8888888888888888,
              "#fdca26"
             ],
             [
              1,
              "#f0f921"
             ]
            ],
            "type": "histogram2dcontour"
           }
          ],
          "mesh3d": [
           {
            "colorbar": {
             "outlinewidth": 0,
             "ticks": ""
            },
            "type": "mesh3d"
           }
          ],
          "parcoords": [
           {
            "line": {
             "colorbar": {
              "outlinewidth": 0,
              "ticks": ""
             }
            },
            "type": "parcoords"
           }
          ],
          "pie": [
           {
            "automargin": true,
            "type": "pie"
           }
          ],
          "scatter": [
           {
            "fillpattern": {
             "fillmode": "overlay",
             "size": 10,
             "solidity": 0.2
            },
            "type": "scatter"
           }
          ],
          "scatter3d": [
           {
            "line": {
             "colorbar": {
              "outlinewidth": 0,
              "ticks": ""
             }
            },
            "marker": {
             "colorbar": {
              "outlinewidth": 0,
              "ticks": ""
             }
            },
            "type": "scatter3d"
           }
          ],
          "scattercarpet": [
           {
            "marker": {
             "colorbar": {
              "outlinewidth": 0,
              "ticks": ""
             }
            },
            "type": "scattercarpet"
           }
          ],
          "scattergeo": [
           {
            "marker": {
             "colorbar": {
              "outlinewidth": 0,
              "ticks": ""
             }
            },
            "type": "scattergeo"
           }
          ],
          "scattergl": [
           {
            "marker": {
             "colorbar": {
              "outlinewidth": 0,
              "ticks": ""
             }
            },
            "type": "scattergl"
           }
          ],
          "scattermapbox": [
           {
            "marker": {
             "colorbar": {
              "outlinewidth": 0,
              "ticks": ""
             }
            },
            "type": "scattermapbox"
           }
          ],
          "scatterpolar": [
           {
            "marker": {
             "colorbar": {
              "outlinewidth": 0,
              "ticks": ""
             }
            },
            "type": "scatterpolar"
           }
          ],
          "scatterpolargl": [
           {
            "marker": {
             "colorbar": {
              "outlinewidth": 0,
              "ticks": ""
             }
            },
            "type": "scatterpolargl"
           }
          ],
          "scatterternary": [
           {
            "marker": {
             "colorbar": {
              "outlinewidth": 0,
              "ticks": ""
             }
            },
            "type": "scatterternary"
           }
          ],
          "surface": [
           {
            "colorbar": {
             "outlinewidth": 0,
             "ticks": ""
            },
            "colorscale": [
             [
              0,
              "#0d0887"
             ],
             [
              0.1111111111111111,
              "#46039f"
             ],
             [
              0.2222222222222222,
              "#7201a8"
             ],
             [
              0.3333333333333333,
              "#9c179e"
             ],
             [
              0.4444444444444444,
              "#bd3786"
             ],
             [
              0.5555555555555556,
              "#d8576b"
             ],
             [
              0.6666666666666666,
              "#ed7953"
             ],
             [
              0.7777777777777778,
              "#fb9f3a"
             ],
             [
              0.8888888888888888,
              "#fdca26"
             ],
             [
              1,
              "#f0f921"
             ]
            ],
            "type": "surface"
           }
          ],
          "table": [
           {
            "cells": {
             "fill": {
              "color": "#EBF0F8"
             },
             "line": {
              "color": "white"
             }
            },
            "header": {
             "fill": {
              "color": "#C8D4E3"
             },
             "line": {
              "color": "white"
             }
            },
            "type": "table"
           }
          ]
         },
         "layout": {
          "annotationdefaults": {
           "arrowcolor": "#2a3f5f",
           "arrowhead": 0,
           "arrowwidth": 1
          },
          "autotypenumbers": "strict",
          "coloraxis": {
           "colorbar": {
            "outlinewidth": 0,
            "ticks": ""
           }
          },
          "colorscale": {
           "diverging": [
            [
             0,
             "#8e0152"
            ],
            [
             0.1,
             "#c51b7d"
            ],
            [
             0.2,
             "#de77ae"
            ],
            [
             0.3,
             "#f1b6da"
            ],
            [
             0.4,
             "#fde0ef"
            ],
            [
             0.5,
             "#f7f7f7"
            ],
            [
             0.6,
             "#e6f5d0"
            ],
            [
             0.7,
             "#b8e186"
            ],
            [
             0.8,
             "#7fbc41"
            ],
            [
             0.9,
             "#4d9221"
            ],
            [
             1,
             "#276419"
            ]
           ],
           "sequential": [
            [
             0,
             "#0d0887"
            ],
            [
             0.1111111111111111,
             "#46039f"
            ],
            [
             0.2222222222222222,
             "#7201a8"
            ],
            [
             0.3333333333333333,
             "#9c179e"
            ],
            [
             0.4444444444444444,
             "#bd3786"
            ],
            [
             0.5555555555555556,
             "#d8576b"
            ],
            [
             0.6666666666666666,
             "#ed7953"
            ],
            [
             0.7777777777777778,
             "#fb9f3a"
            ],
            [
             0.8888888888888888,
             "#fdca26"
            ],
            [
             1,
             "#f0f921"
            ]
           ],
           "sequentialminus": [
            [
             0,
             "#0d0887"
            ],
            [
             0.1111111111111111,
             "#46039f"
            ],
            [
             0.2222222222222222,
             "#7201a8"
            ],
            [
             0.3333333333333333,
             "#9c179e"
            ],
            [
             0.4444444444444444,
             "#bd3786"
            ],
            [
             0.5555555555555556,
             "#d8576b"
            ],
            [
             0.6666666666666666,
             "#ed7953"
            ],
            [
             0.7777777777777778,
             "#fb9f3a"
            ],
            [
             0.8888888888888888,
             "#fdca26"
            ],
            [
             1,
             "#f0f921"
            ]
           ]
          },
          "colorway": [
           "#636efa",
           "#EF553B",
           "#00cc96",
           "#ab63fa",
           "#FFA15A",
           "#19d3f3",
           "#FF6692",
           "#B6E880",
           "#FF97FF",
           "#FECB52"
          ],
          "font": {
           "color": "#2a3f5f"
          },
          "geo": {
           "bgcolor": "white",
           "lakecolor": "white",
           "landcolor": "#E5ECF6",
           "showlakes": true,
           "showland": true,
           "subunitcolor": "white"
          },
          "hoverlabel": {
           "align": "left"
          },
          "hovermode": "closest",
          "mapbox": {
           "style": "light"
          },
          "paper_bgcolor": "white",
          "plot_bgcolor": "#E5ECF6",
          "polar": {
           "angularaxis": {
            "gridcolor": "white",
            "linecolor": "white",
            "ticks": ""
           },
           "bgcolor": "#E5ECF6",
           "radialaxis": {
            "gridcolor": "white",
            "linecolor": "white",
            "ticks": ""
           }
          },
          "scene": {
           "xaxis": {
            "backgroundcolor": "#E5ECF6",
            "gridcolor": "white",
            "gridwidth": 2,
            "linecolor": "white",
            "showbackground": true,
            "ticks": "",
            "zerolinecolor": "white"
           },
           "yaxis": {
            "backgroundcolor": "#E5ECF6",
            "gridcolor": "white",
            "gridwidth": 2,
            "linecolor": "white",
            "showbackground": true,
            "ticks": "",
            "zerolinecolor": "white"
           },
           "zaxis": {
            "backgroundcolor": "#E5ECF6",
            "gridcolor": "white",
            "gridwidth": 2,
            "linecolor": "white",
            "showbackground": true,
            "ticks": "",
            "zerolinecolor": "white"
           }
          },
          "shapedefaults": {
           "line": {
            "color": "#2a3f5f"
           }
          },
          "ternary": {
           "aaxis": {
            "gridcolor": "white",
            "linecolor": "white",
            "ticks": ""
           },
           "baxis": {
            "gridcolor": "white",
            "linecolor": "white",
            "ticks": ""
           },
           "bgcolor": "#E5ECF6",
           "caxis": {
            "gridcolor": "white",
            "linecolor": "white",
            "ticks": ""
           }
          },
          "title": {
           "x": 0.05
          },
          "xaxis": {
           "automargin": true,
           "gridcolor": "white",
           "linecolor": "white",
           "ticks": "",
           "title": {
            "standoff": 15
           },
           "zerolinecolor": "white",
           "zerolinewidth": 2
          },
          "yaxis": {
           "automargin": true,
           "gridcolor": "white",
           "linecolor": "white",
           "ticks": "",
           "title": {
            "standoff": 15
           },
           "zerolinecolor": "white",
           "zerolinewidth": 2
          }
         }
        },
        "title": {
         "font": {
          "size": 24
         },
         "text": "Greenhouse gas emissions per food type over the supply chain"
        },
        "width": 1000,
        "xaxis": {
         "anchor": "y",
         "domain": [
          0,
          1
         ],
         "title": {
          "text": "Emissions"
         }
        },
        "yaxis": {
         "anchor": "x",
         "domain": [
          0,
          1
         ],
         "title": {
          "text": "Product"
         }
        }
       }
      }
     },
     "metadata": {},
     "output_type": "display_data"
    }
   ],
   "source": [
    "\n",
    "standard_discrete = px.colors.qualitative.T10\n",
    "\n",
    "print(sns.color_palette(\"tab10\").as_hex())\n",
    "# Create a horizontal stacked bar plot using plotly.express\n",
    "fig = px.bar(df_melted,\n",
    "             y='Product',\n",
    "             x='Emissions',\n",
    "             color='Stage',\n",
    "             width=1000,\n",
    "             height=800,\n",
    "             color_discrete_sequence=standard_discrete,\n",
    "             title=\"Greenhouse gas emissions per food type over the supply chain\")\n",
    "\n",
    "fig.update_traces(patch={\"opacity\": 0.1})\n",
    "\n",
    "fig.update_layout(barmode='relative')\n",
    "\n",
    "# fig.add_scatter(y=df['Product'], x=df['Total'], mode='markers', name='Total', marker=dict(symbol='line-ns-open', color=\"black\", size=7))\n",
    "\n",
    "fig.update_layout(layout,        \n",
    "        legend=dict(\n",
    "        orientation=\"h\",\n",
    "        yanchor=\"top\",\n",
    "        y=1.05,\n",
    "        xanchor=\"left\",\n",
    "        x=-0.06,\n",
    "    )\n",
    "    )\n",
    "\n",
    "\n",
    "fig.update_traces(patch={\"opacity\": 1}, width=1, selector={\"legendgroup\": \"Transport\"})\n",
    "\n",
    "fig.show()\n"
   ]
  },
  {
   "cell_type": "code",
   "execution_count": 151,
   "metadata": {},
   "outputs": [
    {
     "data": {
      "text/plain": [
       "Product            Food Total (M ha; Gg; km3)\n",
       "Land Use Change                    2379469.67\n",
       "Feed                              1098394.985\n",
       "Farm                              7463342.423\n",
       "Processing                         604297.515\n",
       "Transport                          801403.803\n",
       "Packaging                           626870.68\n",
       "Retail                             394202.635\n",
       "Name: 55, dtype: object"
      ]
     },
     "metadata": {},
     "output_type": "display_data"
    },
    {
     "data": {
      "application/vnd.plotly.v1+json": {
       "config": {
        "plotlyServerURL": "https://plot.ly"
       },
       "data": [
        {
         "domain": {
          "x": [
           0,
           1
          ],
          "y": [
           0,
           1
          ]
         },
         "hole": 0.3,
         "hovertemplate": "label=%{label}<br>value=%{value}<extra></extra>",
         "labels": [
          "Land Use Change",
          "Feed",
          "Farm",
          "Processing",
          "Transport",
          "Packaging",
          "Retail"
         ],
         "legendgroup": "",
         "marker": {
          "colors": [
           "#4C78A8",
           "#F58518",
           "#E45756",
           "#72B7B2",
           "#54A24B",
           "#EECA3B",
           "#B279A2",
           "#FF9DA6",
           "#9D755D",
           "#BAB0AC"
          ],
          "line": {
           "color": "#000000",
           "width": 2
          }
         },
         "name": "",
         "showlegend": false,
         "textinfo": "label+percent",
         "textposition": "outside",
         "type": "pie",
         "values": [
          2379469.6699999995,
          1098394.985,
          7463342.423,
          604297.5149999999,
          801403.8030000002,
          626870.6799999999,
          394202.63499999995
         ]
        }
       ],
       "layout": {
        "height": 600,
        "legend": {
         "tracegroupgap": 0
        },
        "template": {
         "data": {
          "bar": [
           {
            "error_x": {
             "color": "#2a3f5f"
            },
            "error_y": {
             "color": "#2a3f5f"
            },
            "marker": {
             "line": {
              "color": "#E5ECF6",
              "width": 0.5
             },
             "pattern": {
              "fillmode": "overlay",
              "size": 10,
              "solidity": 0.2
             }
            },
            "type": "bar"
           }
          ],
          "barpolar": [
           {
            "marker": {
             "line": {
              "color": "#E5ECF6",
              "width": 0.5
             },
             "pattern": {
              "fillmode": "overlay",
              "size": 10,
              "solidity": 0.2
             }
            },
            "type": "barpolar"
           }
          ],
          "carpet": [
           {
            "aaxis": {
             "endlinecolor": "#2a3f5f",
             "gridcolor": "white",
             "linecolor": "white",
             "minorgridcolor": "white",
             "startlinecolor": "#2a3f5f"
            },
            "baxis": {
             "endlinecolor": "#2a3f5f",
             "gridcolor": "white",
             "linecolor": "white",
             "minorgridcolor": "white",
             "startlinecolor": "#2a3f5f"
            },
            "type": "carpet"
           }
          ],
          "choropleth": [
           {
            "colorbar": {
             "outlinewidth": 0,
             "ticks": ""
            },
            "type": "choropleth"
           }
          ],
          "contour": [
           {
            "colorbar": {
             "outlinewidth": 0,
             "ticks": ""
            },
            "colorscale": [
             [
              0,
              "#0d0887"
             ],
             [
              0.1111111111111111,
              "#46039f"
             ],
             [
              0.2222222222222222,
              "#7201a8"
             ],
             [
              0.3333333333333333,
              "#9c179e"
             ],
             [
              0.4444444444444444,
              "#bd3786"
             ],
             [
              0.5555555555555556,
              "#d8576b"
             ],
             [
              0.6666666666666666,
              "#ed7953"
             ],
             [
              0.7777777777777778,
              "#fb9f3a"
             ],
             [
              0.8888888888888888,
              "#fdca26"
             ],
             [
              1,
              "#f0f921"
             ]
            ],
            "type": "contour"
           }
          ],
          "contourcarpet": [
           {
            "colorbar": {
             "outlinewidth": 0,
             "ticks": ""
            },
            "type": "contourcarpet"
           }
          ],
          "heatmap": [
           {
            "colorbar": {
             "outlinewidth": 0,
             "ticks": ""
            },
            "colorscale": [
             [
              0,
              "#0d0887"
             ],
             [
              0.1111111111111111,
              "#46039f"
             ],
             [
              0.2222222222222222,
              "#7201a8"
             ],
             [
              0.3333333333333333,
              "#9c179e"
             ],
             [
              0.4444444444444444,
              "#bd3786"
             ],
             [
              0.5555555555555556,
              "#d8576b"
             ],
             [
              0.6666666666666666,
              "#ed7953"
             ],
             [
              0.7777777777777778,
              "#fb9f3a"
             ],
             [
              0.8888888888888888,
              "#fdca26"
             ],
             [
              1,
              "#f0f921"
             ]
            ],
            "type": "heatmap"
           }
          ],
          "heatmapgl": [
           {
            "colorbar": {
             "outlinewidth": 0,
             "ticks": ""
            },
            "colorscale": [
             [
              0,
              "#0d0887"
             ],
             [
              0.1111111111111111,
              "#46039f"
             ],
             [
              0.2222222222222222,
              "#7201a8"
             ],
             [
              0.3333333333333333,
              "#9c179e"
             ],
             [
              0.4444444444444444,
              "#bd3786"
             ],
             [
              0.5555555555555556,
              "#d8576b"
             ],
             [
              0.6666666666666666,
              "#ed7953"
             ],
             [
              0.7777777777777778,
              "#fb9f3a"
             ],
             [
              0.8888888888888888,
              "#fdca26"
             ],
             [
              1,
              "#f0f921"
             ]
            ],
            "type": "heatmapgl"
           }
          ],
          "histogram": [
           {
            "marker": {
             "pattern": {
              "fillmode": "overlay",
              "size": 10,
              "solidity": 0.2
             }
            },
            "type": "histogram"
           }
          ],
          "histogram2d": [
           {
            "colorbar": {
             "outlinewidth": 0,
             "ticks": ""
            },
            "colorscale": [
             [
              0,
              "#0d0887"
             ],
             [
              0.1111111111111111,
              "#46039f"
             ],
             [
              0.2222222222222222,
              "#7201a8"
             ],
             [
              0.3333333333333333,
              "#9c179e"
             ],
             [
              0.4444444444444444,
              "#bd3786"
             ],
             [
              0.5555555555555556,
              "#d8576b"
             ],
             [
              0.6666666666666666,
              "#ed7953"
             ],
             [
              0.7777777777777778,
              "#fb9f3a"
             ],
             [
              0.8888888888888888,
              "#fdca26"
             ],
             [
              1,
              "#f0f921"
             ]
            ],
            "type": "histogram2d"
           }
          ],
          "histogram2dcontour": [
           {
            "colorbar": {
             "outlinewidth": 0,
             "ticks": ""
            },
            "colorscale": [
             [
              0,
              "#0d0887"
             ],
             [
              0.1111111111111111,
              "#46039f"
             ],
             [
              0.2222222222222222,
              "#7201a8"
             ],
             [
              0.3333333333333333,
              "#9c179e"
             ],
             [
              0.4444444444444444,
              "#bd3786"
             ],
             [
              0.5555555555555556,
              "#d8576b"
             ],
             [
              0.6666666666666666,
              "#ed7953"
             ],
             [
              0.7777777777777778,
              "#fb9f3a"
             ],
             [
              0.8888888888888888,
              "#fdca26"
             ],
             [
              1,
              "#f0f921"
             ]
            ],
            "type": "histogram2dcontour"
           }
          ],
          "mesh3d": [
           {
            "colorbar": {
             "outlinewidth": 0,
             "ticks": ""
            },
            "type": "mesh3d"
           }
          ],
          "parcoords": [
           {
            "line": {
             "colorbar": {
              "outlinewidth": 0,
              "ticks": ""
             }
            },
            "type": "parcoords"
           }
          ],
          "pie": [
           {
            "automargin": true,
            "type": "pie"
           }
          ],
          "scatter": [
           {
            "fillpattern": {
             "fillmode": "overlay",
             "size": 10,
             "solidity": 0.2
            },
            "type": "scatter"
           }
          ],
          "scatter3d": [
           {
            "line": {
             "colorbar": {
              "outlinewidth": 0,
              "ticks": ""
             }
            },
            "marker": {
             "colorbar": {
              "outlinewidth": 0,
              "ticks": ""
             }
            },
            "type": "scatter3d"
           }
          ],
          "scattercarpet": [
           {
            "marker": {
             "colorbar": {
              "outlinewidth": 0,
              "ticks": ""
             }
            },
            "type": "scattercarpet"
           }
          ],
          "scattergeo": [
           {
            "marker": {
             "colorbar": {
              "outlinewidth": 0,
              "ticks": ""
             }
            },
            "type": "scattergeo"
           }
          ],
          "scattergl": [
           {
            "marker": {
             "colorbar": {
              "outlinewidth": 0,
              "ticks": ""
             }
            },
            "type": "scattergl"
           }
          ],
          "scattermapbox": [
           {
            "marker": {
             "colorbar": {
              "outlinewidth": 0,
              "ticks": ""
             }
            },
            "type": "scattermapbox"
           }
          ],
          "scatterpolar": [
           {
            "marker": {
             "colorbar": {
              "outlinewidth": 0,
              "ticks": ""
             }
            },
            "type": "scatterpolar"
           }
          ],
          "scatterpolargl": [
           {
            "marker": {
             "colorbar": {
              "outlinewidth": 0,
              "ticks": ""
             }
            },
            "type": "scatterpolargl"
           }
          ],
          "scatterternary": [
           {
            "marker": {
             "colorbar": {
              "outlinewidth": 0,
              "ticks": ""
             }
            },
            "type": "scatterternary"
           }
          ],
          "surface": [
           {
            "colorbar": {
             "outlinewidth": 0,
             "ticks": ""
            },
            "colorscale": [
             [
              0,
              "#0d0887"
             ],
             [
              0.1111111111111111,
              "#46039f"
             ],
             [
              0.2222222222222222,
              "#7201a8"
             ],
             [
              0.3333333333333333,
              "#9c179e"
             ],
             [
              0.4444444444444444,
              "#bd3786"
             ],
             [
              0.5555555555555556,
              "#d8576b"
             ],
             [
              0.6666666666666666,
              "#ed7953"
             ],
             [
              0.7777777777777778,
              "#fb9f3a"
             ],
             [
              0.8888888888888888,
              "#fdca26"
             ],
             [
              1,
              "#f0f921"
             ]
            ],
            "type": "surface"
           }
          ],
          "table": [
           {
            "cells": {
             "fill": {
              "color": "#EBF0F8"
             },
             "line": {
              "color": "white"
             }
            },
            "header": {
             "fill": {
              "color": "#C8D4E3"
             },
             "line": {
              "color": "white"
             }
            },
            "type": "table"
           }
          ]
         },
         "layout": {
          "annotationdefaults": {
           "arrowcolor": "#2a3f5f",
           "arrowhead": 0,
           "arrowwidth": 1
          },
          "autotypenumbers": "strict",
          "coloraxis": {
           "colorbar": {
            "outlinewidth": 0,
            "ticks": ""
           }
          },
          "colorscale": {
           "diverging": [
            [
             0,
             "#8e0152"
            ],
            [
             0.1,
             "#c51b7d"
            ],
            [
             0.2,
             "#de77ae"
            ],
            [
             0.3,
             "#f1b6da"
            ],
            [
             0.4,
             "#fde0ef"
            ],
            [
             0.5,
             "#f7f7f7"
            ],
            [
             0.6,
             "#e6f5d0"
            ],
            [
             0.7,
             "#b8e186"
            ],
            [
             0.8,
             "#7fbc41"
            ],
            [
             0.9,
             "#4d9221"
            ],
            [
             1,
             "#276419"
            ]
           ],
           "sequential": [
            [
             0,
             "#0d0887"
            ],
            [
             0.1111111111111111,
             "#46039f"
            ],
            [
             0.2222222222222222,
             "#7201a8"
            ],
            [
             0.3333333333333333,
             "#9c179e"
            ],
            [
             0.4444444444444444,
             "#bd3786"
            ],
            [
             0.5555555555555556,
             "#d8576b"
            ],
            [
             0.6666666666666666,
             "#ed7953"
            ],
            [
             0.7777777777777778,
             "#fb9f3a"
            ],
            [
             0.8888888888888888,
             "#fdca26"
            ],
            [
             1,
             "#f0f921"
            ]
           ],
           "sequentialminus": [
            [
             0,
             "#0d0887"
            ],
            [
             0.1111111111111111,
             "#46039f"
            ],
            [
             0.2222222222222222,
             "#7201a8"
            ],
            [
             0.3333333333333333,
             "#9c179e"
            ],
            [
             0.4444444444444444,
             "#bd3786"
            ],
            [
             0.5555555555555556,
             "#d8576b"
            ],
            [
             0.6666666666666666,
             "#ed7953"
            ],
            [
             0.7777777777777778,
             "#fb9f3a"
            ],
            [
             0.8888888888888888,
             "#fdca26"
            ],
            [
             1,
             "#f0f921"
            ]
           ]
          },
          "colorway": [
           "#636efa",
           "#EF553B",
           "#00cc96",
           "#ab63fa",
           "#FFA15A",
           "#19d3f3",
           "#FF6692",
           "#B6E880",
           "#FF97FF",
           "#FECB52"
          ],
          "font": {
           "color": "#2a3f5f"
          },
          "geo": {
           "bgcolor": "white",
           "lakecolor": "white",
           "landcolor": "#E5ECF6",
           "showlakes": true,
           "showland": true,
           "subunitcolor": "white"
          },
          "hoverlabel": {
           "align": "left"
          },
          "hovermode": "closest",
          "mapbox": {
           "style": "light"
          },
          "paper_bgcolor": "white",
          "plot_bgcolor": "#E5ECF6",
          "polar": {
           "angularaxis": {
            "gridcolor": "white",
            "linecolor": "white",
            "ticks": ""
           },
           "bgcolor": "#E5ECF6",
           "radialaxis": {
            "gridcolor": "white",
            "linecolor": "white",
            "ticks": ""
           }
          },
          "scene": {
           "xaxis": {
            "backgroundcolor": "#E5ECF6",
            "gridcolor": "white",
            "gridwidth": 2,
            "linecolor": "white",
            "showbackground": true,
            "ticks": "",
            "zerolinecolor": "white"
           },
           "yaxis": {
            "backgroundcolor": "#E5ECF6",
            "gridcolor": "white",
            "gridwidth": 2,
            "linecolor": "white",
            "showbackground": true,
            "ticks": "",
            "zerolinecolor": "white"
           },
           "zaxis": {
            "backgroundcolor": "#E5ECF6",
            "gridcolor": "white",
            "gridwidth": 2,
            "linecolor": "white",
            "showbackground": true,
            "ticks": "",
            "zerolinecolor": "white"
           }
          },
          "shapedefaults": {
           "line": {
            "color": "#2a3f5f"
           }
          },
          "ternary": {
           "aaxis": {
            "gridcolor": "white",
            "linecolor": "white",
            "ticks": ""
           },
           "baxis": {
            "gridcolor": "white",
            "linecolor": "white",
            "ticks": ""
           },
           "bgcolor": "#E5ECF6",
           "caxis": {
            "gridcolor": "white",
            "linecolor": "white",
            "ticks": ""
           }
          },
          "title": {
           "x": 0.05
          },
          "xaxis": {
           "automargin": true,
           "gridcolor": "white",
           "linecolor": "white",
           "ticks": "",
           "title": {
            "standoff": 15
           },
           "zerolinecolor": "white",
           "zerolinewidth": 2
          },
          "yaxis": {
           "automargin": true,
           "gridcolor": "white",
           "linecolor": "white",
           "ticks": "",
           "title": {
            "standoff": 15
           },
           "zerolinecolor": "white",
           "zerolinewidth": 2
          }
         }
        },
        "title": {
         "text": "Percentage of total GHG emissions by part of supply chain"
        }
       }
      }
     },
     "metadata": {},
     "output_type": "display_data"
    }
   ],
   "source": [
    "df2 = df_per_product.iloc[55]\n",
    "display(df2)\n",
    "fig = px.pie(df2, values=df2.values[1:], names=df2.index[1:], hole=.3, height=600, title='Percentage of total GHG emissions by part of supply chain')\n",
    "fig.update_traces(textposition='outside', textinfo='label+percent', marker=dict(colors=standard_discrete, line=dict(color='#000000', width=2)), showlegend=False)\n",
    "fig.show()"
   ]
  }
 ],
 "metadata": {
  "kernelspec": {
   "display_name": "Python 3",
   "language": "python",
   "name": "python3"
  },
  "language_info": {
   "codemirror_mode": {
    "name": "ipython",
    "version": 3
   },
   "file_extension": ".py",
   "mimetype": "text/x-python",
   "name": "python",
   "nbconvert_exporter": "python",
   "pygments_lexer": "ipython3",
   "version": "3.11.3"
  },
  "orig_nbformat": 4
 },
 "nbformat": 4,
 "nbformat_minor": 2
}
