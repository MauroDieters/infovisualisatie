{
 "cells": [
  {
   "cell_type": "markdown",
   "id": "3b46ee32",
   "metadata": {},
   "source": [
    "# Food for thought: how to eat sustainably\n",
    "\n",
    "Student names: Ardjano Mark 14713926, Daan Huisman 14650797, Ivo de Brouwer 11045841, Mauro Dieters 14533391\n",
    "\n",
    "Team number: I2"
   ]
  },
  {
   "cell_type": "code",
   "execution_count": 2,
   "id": "e180382e",
   "metadata": {
    "tags": [
     "hide-input"
    ]
   },
   "outputs": [
    {
     "data": {
      "text/html": [
       "<img src=\"https://cdn.cbs.nl/images/3743526a303256676975626e61366c7a383931695a513d3d/900x450.jpg\" width=\"600\" height=\"300\"/>"
      ],
      "text/plain": [
       "<IPython.core.display.Image object>"
      ]
     },
     "metadata": {},
     "output_type": "display_data"
    },
    {
     "name": "stdout",
     "output_type": "stream",
     "text": [
      "© ANP / Robin Utrecht\n"
     ]
    }
   ],
   "source": [
    "# Load image from link\n",
    "url = 'https://cdn.cbs.nl/images/3743526a303256676975626e61366c7a383931695a513d3d/900x450.jpg'\n",
    "\n",
    "# Display image from URL with smaller size and subtitle\n",
    "from IPython.display import Image, display\n",
    "\n",
    "# Set the desired image width and height\n",
    "width = 600\n",
    "height = 300\n",
    "\n",
    "# Set the subtitle text\n",
    "subtitle = \"© ANP / Robin Utrecht\"\n",
    "\n",
    "# Create an Image instance with the URL\n",
    "image = Image(url=url, width=width, height=height)\n",
    "\n",
    "# Display the image and subtitle\n",
    "display(image)\n",
    "print(subtitle)"
   ]
  },
  {
   "cell_type": "markdown",
   "id": "7d5fce97-8e22-41ee-a19c-6c0f0fb2f08f",
   "metadata": {},
   "source": [
    "## Introduction"
   ]
  },
  {
   "cell_type": "markdown",
   "id": "7cf81853-c237-4df2-8ed4-9deae8423fb0",
   "metadata": {},
   "source": [
    "Our world is changing. Humans have dominated this planet and its resources since the Agricultural Revolution about 12,000 years ago, when hunter-gatherers exchanged their nomadic lifestyles for permanent settlements and farming.\n",
    "Since then, our population and our resource exploitation has increased precipitously. In recent years, the downside of our development is becoming ever more apparent.\n",
    "The reports from the United Nations’ Intergovernmental Panel on Climate Change are increasingly alarming. Their 2021 report found that human activity is changing the Earth’s climate in “unprecedented” ways, with some of the changes now inevitable and “irreversible”.[1] It would seem drastic change at both the societal and individual level is an immediate necessity.\n",
    "A significant piece of the puzzle is food. Recent estimates of the contribution of food emissions to worldwide greenhouse gas emissions range from one-quarter to one-third.[2] Moreover, agriculture takes up two third of our freshwater use and about half of the world’s habitable land.[3] It also causes severe acidification and eutrophication, which have caused the ongoing ‘nitrogen crisis’ in the Netherlands.\n",
    " In this data story, we explore how what we consume affects our environment. We hope it helps you make informed decisions about the food you eat.\n"
   ]
  },
  {
   "cell_type": "markdown",
   "id": "d9d4c934-c639-495f-a2bc-ed078e5659c3",
   "metadata": {},
   "source": [
    "## Dataset and Preprocessing"
   ]
  },
  {
   "cell_type": "markdown",
   "id": "850c1744-f4cc-4cc1-b0a7-9207c75837d8",
   "metadata": {},
   "source": [
    "The dataset we used can be downloaded from https://www.science.org/doi/10.1126/science.aaq0216. It is called 'aaq0216_datas1.xls'. The dataset encompasses variables such as land use (in m2), greenhouse gas emissions (in kg CO2-eq), eutrophication (in kg PO43-eq) and freshwater (in liters), for 43 different agricultural products. The dataset is an xls file containing multiple Excel sheets. \n",
    "\n",
    "To look at the global totals of Greenhouse gas emissions for each product, for example, we can look at the following dataframe:"
   ]
  },
  {
   "cell_type": "code",
   "execution_count": 3,
   "id": "a8e5f5cc",
   "metadata": {
    "tags": [
     "hide-input"
    ]
   },
   "outputs": [],
   "source": [
    "import plotly.graph_objs as go\n",
    "import plotly.express as px\n",
    "import matplotlib as plt\n",
    "import pandas as pd\n",
    "import numpy as np\n",
    "import seaborn as sns\n",
    "from plotly.subplots import make_subplots\n",
    "from ipywidgets import interact, interactive, fixed, interact_manual\n",
    "from ipywidgets import GridspecLayout\n",
    "import ipywidgets as widgets\n",
    "\n",
    "layout = go.Layout(\n",
    "        font=dict(\n",
    "        family=\"\"\"\"Lato, \"Helvetica Neue\", Helvetica, Arial, \"Liberation Sans\", sans-serif\"\"\",\n",
    "        ),\n",
    "        title=dict(font=dict(size=24)),\n",
    "        newshape_label_padding=8,\n",
    "        margin_pad=5,\n",
    "        legend=dict(font=dict(size=14)),\n",
    "    )\n",
    "\n",
    "df_ghg = pd.read_excel('dataset1.xls', sheet_name=2, skiprows=2, nrows=43, usecols=\"A, F:L\")\n",
    "df_ghg['Total'] = df_ghg[['LUC', 'Feed', 'Farm', 'Processing', 'Transport', 'Packging', 'Retail']].sum(axis=1)\n",
    "df_ghg.head()\n",
    "\n",
    "\n",
    "# helper functions \n",
    "\n",
    "def get_traceindex(category, fig):\n",
    "    for i, trace in enumerate(fig.data):\n",
    "        if trace.name == category:\n",
    "            return i\n",
    "    raise ValueError(f'No trace with name \"{category}\" found in figure')"
   ]
  },
  {
   "cell_type": "markdown",
   "id": "0a78c1b1",
   "metadata": {},
   "source": [
    "Here, we can see that the greenhouse gas emissions are divided into different stages of the production and distribution of the product. We added another column to see the total amount of greenhouse gas emissions, as that is often the most important metric to compare."
   ]
  },
  {
   "cell_type": "markdown",
   "id": "d5010a07-96a0-45a7-ba76-250a56053f62",
   "metadata": {},
   "source": [
    "## The type of food we consume is the most important factor"
   ]
  },
  {
   "cell_type": "markdown",
   "id": "1f26b1fd",
   "metadata": {},
   "source": [
    "Li Europan lingues es membres del sam familie. Lor separat existentie es un myth. Por scientie, musica, sport etc, litot Europa usa li sam vocabular. Li lingues differe solmen in li grammatica, li pronunciation e li plu commun vocabules. Omnicos directe al desirabilite de un nov lingua franca: On refusa continuar payar custosi traductores."
   ]
  },
  {
   "cell_type": "markdown",
   "id": "a43c3ae1-48d8-4663-8525-7d92fae83483",
   "metadata": {},
   "source": [
    "### Some food groups are thirstier than others"
   ]
  },
  {
   "cell_type": "markdown",
   "id": "a44acbb2-6dbc-4cb9-ba26-7ba3fb19af5d",
   "metadata": {},
   "source": [
    "Lorem ipsum dolor sit amet, consectetuer adipiscing elit. Aenean commodo ligula eget dolor. Aenean massa. Cum sociis natoque penatibus et magnis dis parturient montes, nascetur ridiculus mus. Donec quam felis, ultricies nec, pellentesque eu, pretium quis, sem. Nulla consequat massa quis enim. Donec pede justo, fringilla vel, aliquet nec, vulputate eget, arcu."
   ]
  },
  {
   "cell_type": "code",
   "execution_count": 20,
   "id": "5a242e18",
   "metadata": {
    "tags": [
     "hide-input"
    ]
   },
   "outputs": [
    {
     "data": {
      "application/vnd.plotly.v1+json": {
       "config": {
        "plotlyServerURL": "https://plot.ly"
       },
       "data": [
        {
         "marker": {
          "color": "darkblue"
         },
         "name": "starchy",
         "type": "bar",
         "width": 0.7,
         "x": [
          "Wheat & Rye (Bread)",
          "Maize (Meal)",
          "Barley (Beer)",
          "Oatmeal",
          "Rice",
          "Potatoes",
          "Cassava"
         ],
         "y": [
          567,
          120,
          15,
          302,
          1962,
          43,
          0
         ]
        },
        {
         "marker": {
          "color": "magenta"
         },
         "name": "sugars",
         "type": "bar",
         "width": 0.7,
         "x": [
          "Cane Sugar",
          "Beet Sugar",
          "Other Pulses"
         ],
         "y": [
          492,
          170,
          364
         ]
        },
        {
         "marker": {
          "color": "brown"
         },
         "name": "legume",
         "type": "bar",
         "width": 0.7,
         "x": [
          "Peas",
          "Nuts",
          "Groundnuts"
         ],
         "y": [
          353,
          1914,
          1431
         ]
        },
        {
         "marker": {
          "color": "purple"
         },
         "name": "vegan alt",
         "type": "bar",
         "width": 0.7,
         "x": [
          "Soymilk",
          "Tofu"
         ],
         "y": [
          26,
          139
         ]
        },
        {
         "marker": {
          "color": "black"
         },
         "name": "oils",
         "type": "bar",
         "width": 0.7,
         "x": [
          "Soybean Oil",
          "Palm Oil",
          "Sunflower Oil",
          "Rapeseed Oil",
          "Olive Oil"
         ],
         "y": [
          418,
          7,
          943,
          234,
          2322
         ]
        },
        {
         "marker": {
          "color": "green"
         },
         "name": "vegetables",
         "type": "bar",
         "width": 0.7,
         "x": [
          "Tomatoes",
          "Onions & Leeks",
          "Root Vegetables",
          "Brassicas",
          "Other Vegetables"
         ],
         "y": [
          235,
          11,
          23,
          97,
          83
         ]
        },
        {
         "marker": {
          "color": "orange"
         },
         "name": "fruits",
         "type": "bar",
         "width": 0.7,
         "x": [
          "Citrus Fruit",
          "Bananas",
          "Apples",
          "Berries & Grapes",
          "Wine",
          "Other Fruit"
         ],
         "y": [
          65,
          86,
          140,
          292,
          68,
          119
         ]
        },
        {
         "marker": {
          "color": "gold"
         },
         "name": "proc nuts",
         "type": "bar",
         "width": 0.7,
         "x": [
          "Coffee",
          "Dark Chocolate"
         ],
         "y": [
          14,
          209
         ]
        },
        {
         "marker": {
          "color": "red"
         },
         "name": "meat",
         "type": "bar",
         "width": 0.7,
         "x": [
          "Bovine Meat (beef herd)",
          "Bovine Meat (dairy herd)",
          "Lamb & Mutton",
          "Pig Meat",
          "Poultry Meat"
         ],
         "y": [
          871,
          1650,
          1082,
          1073,
          402
         ]
        },
        {
         "marker": {
          "color": "grey"
         },
         "name": "animal prod",
         "type": "bar",
         "width": 0.7,
         "x": [
          "Milk",
          "Cheese",
          "Eggs"
         ],
         "y": [
          533,
          4735,
          556
         ]
        },
        {
         "marker": {
          "color": "blue"
         },
         "name": "fish",
         "type": "bar",
         "width": 0.7,
         "x": [
          "Fish (farmed)",
          "Crustaceans (farmed)"
         ],
         "y": [
          1315,
          1394
         ]
        },
        {
         "marker": {
          "color": "darkblue"
         },
         "name": "starchy",
         "type": "bar",
         "visible": false,
         "width": 0.7,
         "x": [
          "Wheat & Rye (Bread)",
          "Maize (Meal)",
          "Barley (Beer)",
          "Oatmeal",
          "Rice",
          "Potatoes",
          "Cassava"
         ],
         "y": [
          28918,
          6007,
          604,
          11774,
          43275,
          2027,
          0
         ]
        },
        {
         "marker": {
          "color": "magenta"
         },
         "name": "sugars",
         "type": "bar",
         "visible": false,
         "width": 0.7,
         "x": [
          "Cane Sugar",
          "Beet Sugar",
          "Other Pulses"
         ],
         "y": [
          13096,
          7413,
          18670
         ]
        },
        {
         "marker": {
          "color": "brown"
         },
         "name": "legume",
         "type": "bar",
         "visible": false,
         "width": 0.7,
         "x": [
          "Peas",
          "Nuts",
          "Groundnuts"
         ],
         "y": [
          24856,
          106382,
          48147
         ]
        },
        {
         "marker": {
          "color": "purple"
         },
         "name": "vegan alt",
         "type": "bar",
         "visible": false,
         "width": 0.7,
         "x": [
          "Soymilk",
          "Tofu"
         ],
         "y": [
          894,
          4785
         ]
        },
        {
         "marker": {
          "color": "black"
         },
         "name": "oils",
         "type": "bar",
         "visible": false,
         "width": 0.7,
         "x": [
          "Soybean Oil",
          "Palm Oil",
          "Sunflower Oil",
          "Rapeseed Oil",
          "Olive Oil"
         ],
         "y": [
          15039,
          37,
          34064,
          10412,
          192719
         ]
        },
        {
         "marker": {
          "color": "green"
         },
         "name": "vegetables",
         "type": "bar",
         "visible": false,
         "width": 0.7,
         "x": [
          "Tomatoes",
          "Onions & Leeks",
          "Root Vegetables",
          "Brassicas",
          "Other Vegetables"
         ],
         "y": [
          4013,
          746,
          776,
          6878,
          3958
         ]
        },
        {
         "marker": {
          "color": "orange"
         },
         "name": "fruits",
         "type": "bar",
         "visible": false,
         "width": 0.7,
         "x": [
          "Citrus Fruit",
          "Bananas",
          "Apples",
          "Berries & Grapes",
          "Wine",
          "Other Fruit"
         ],
         "y": [
          3678,
          491,
          10007,
          15180,
          1003,
          7771
         ]
        },
        {
         "marker": {
          "color": "gold"
         },
         "name": "proc nuts",
         "type": "bar",
         "visible": false,
         "width": 0.7,
         "x": [
          "Coffee",
          "Dark Chocolate"
         ],
         "y": [
          182,
          1097
         ]
        },
        {
         "marker": {
          "color": "red"
         },
         "name": "meat",
         "type": "bar",
         "visible": false,
         "width": 0.7,
         "x": [
          "Bovine Meat (beef herd)",
          "Bovine Meat (dairy herd)",
          "Lamb & Mutton",
          "Pig Meat",
          "Poultry Meat"
         ],
         "y": [
          21163,
          75339,
          85193,
          40028,
          8828
         ]
        },
        {
         "marker": {
          "color": "grey"
         },
         "name": "animal prod",
         "type": "bar",
         "visible": false,
         "width": 0.7,
         "x": [
          "Milk",
          "Cheese",
          "Eggs"
         ],
         "y": [
          16951,
          155464,
          17315
         ]
        },
        {
         "marker": {
          "color": "blue"
         },
         "name": "fish",
         "type": "bar",
         "visible": false,
         "width": 0.7,
         "x": [
          "Fish (farmed)",
          "Crustaceans (farmed)"
         ],
         "y": [
          13691,
          50685
         ]
        }
       ],
       "layout": {
        "barmode": "group",
        "legend": {
         "bgcolor": "rgba(255, 255, 255, 0.7)",
         "bordercolor": "black",
         "borderwidth": 1,
         "font": {
          "color": "black",
          "family": "Arial",
          "size": 12
         },
         "title": {
          "text": "Legend"
         },
         "x": 1.1,
         "y": 1
        },
        "template": {
         "data": {
          "bar": [
           {
            "error_x": {
             "color": "#2a3f5f"
            },
            "error_y": {
             "color": "#2a3f5f"
            },
            "marker": {
             "line": {
              "color": "#E5ECF6",
              "width": 0.5
             },
             "pattern": {
              "fillmode": "overlay",
              "size": 10,
              "solidity": 0.2
             }
            },
            "type": "bar"
           }
          ],
          "barpolar": [
           {
            "marker": {
             "line": {
              "color": "#E5ECF6",
              "width": 0.5
             },
             "pattern": {
              "fillmode": "overlay",
              "size": 10,
              "solidity": 0.2
             }
            },
            "type": "barpolar"
           }
          ],
          "carpet": [
           {
            "aaxis": {
             "endlinecolor": "#2a3f5f",
             "gridcolor": "white",
             "linecolor": "white",
             "minorgridcolor": "white",
             "startlinecolor": "#2a3f5f"
            },
            "baxis": {
             "endlinecolor": "#2a3f5f",
             "gridcolor": "white",
             "linecolor": "white",
             "minorgridcolor": "white",
             "startlinecolor": "#2a3f5f"
            },
            "type": "carpet"
           }
          ],
          "choropleth": [
           {
            "colorbar": {
             "outlinewidth": 0,
             "ticks": ""
            },
            "type": "choropleth"
           }
          ],
          "contour": [
           {
            "colorbar": {
             "outlinewidth": 0,
             "ticks": ""
            },
            "colorscale": [
             [
              0,
              "#0d0887"
             ],
             [
              0.1111111111111111,
              "#46039f"
             ],
             [
              0.2222222222222222,
              "#7201a8"
             ],
             [
              0.3333333333333333,
              "#9c179e"
             ],
             [
              0.4444444444444444,
              "#bd3786"
             ],
             [
              0.5555555555555556,
              "#d8576b"
             ],
             [
              0.6666666666666666,
              "#ed7953"
             ],
             [
              0.7777777777777778,
              "#fb9f3a"
             ],
             [
              0.8888888888888888,
              "#fdca26"
             ],
             [
              1,
              "#f0f921"
             ]
            ],
            "type": "contour"
           }
          ],
          "contourcarpet": [
           {
            "colorbar": {
             "outlinewidth": 0,
             "ticks": ""
            },
            "type": "contourcarpet"
           }
          ],
          "heatmap": [
           {
            "colorbar": {
             "outlinewidth": 0,
             "ticks": ""
            },
            "colorscale": [
             [
              0,
              "#0d0887"
             ],
             [
              0.1111111111111111,
              "#46039f"
             ],
             [
              0.2222222222222222,
              "#7201a8"
             ],
             [
              0.3333333333333333,
              "#9c179e"
             ],
             [
              0.4444444444444444,
              "#bd3786"
             ],
             [
              0.5555555555555556,
              "#d8576b"
             ],
             [
              0.6666666666666666,
              "#ed7953"
             ],
             [
              0.7777777777777778,
              "#fb9f3a"
             ],
             [
              0.8888888888888888,
              "#fdca26"
             ],
             [
              1,
              "#f0f921"
             ]
            ],
            "type": "heatmap"
           }
          ],
          "heatmapgl": [
           {
            "colorbar": {
             "outlinewidth": 0,
             "ticks": ""
            },
            "colorscale": [
             [
              0,
              "#0d0887"
             ],
             [
              0.1111111111111111,
              "#46039f"
             ],
             [
              0.2222222222222222,
              "#7201a8"
             ],
             [
              0.3333333333333333,
              "#9c179e"
             ],
             [
              0.4444444444444444,
              "#bd3786"
             ],
             [
              0.5555555555555556,
              "#d8576b"
             ],
             [
              0.6666666666666666,
              "#ed7953"
             ],
             [
              0.7777777777777778,
              "#fb9f3a"
             ],
             [
              0.8888888888888888,
              "#fdca26"
             ],
             [
              1,
              "#f0f921"
             ]
            ],
            "type": "heatmapgl"
           }
          ],
          "histogram": [
           {
            "marker": {
             "pattern": {
              "fillmode": "overlay",
              "size": 10,
              "solidity": 0.2
             }
            },
            "type": "histogram"
           }
          ],
          "histogram2d": [
           {
            "colorbar": {
             "outlinewidth": 0,
             "ticks": ""
            },
            "colorscale": [
             [
              0,
              "#0d0887"
             ],
             [
              0.1111111111111111,
              "#46039f"
             ],
             [
              0.2222222222222222,
              "#7201a8"
             ],
             [
              0.3333333333333333,
              "#9c179e"
             ],
             [
              0.4444444444444444,
              "#bd3786"
             ],
             [
              0.5555555555555556,
              "#d8576b"
             ],
             [
              0.6666666666666666,
              "#ed7953"
             ],
             [
              0.7777777777777778,
              "#fb9f3a"
             ],
             [
              0.8888888888888888,
              "#fdca26"
             ],
             [
              1,
              "#f0f921"
             ]
            ],
            "type": "histogram2d"
           }
          ],
          "histogram2dcontour": [
           {
            "colorbar": {
             "outlinewidth": 0,
             "ticks": ""
            },
            "colorscale": [
             [
              0,
              "#0d0887"
             ],
             [
              0.1111111111111111,
              "#46039f"
             ],
             [
              0.2222222222222222,
              "#7201a8"
             ],
             [
              0.3333333333333333,
              "#9c179e"
             ],
             [
              0.4444444444444444,
              "#bd3786"
             ],
             [
              0.5555555555555556,
              "#d8576b"
             ],
             [
              0.6666666666666666,
              "#ed7953"
             ],
             [
              0.7777777777777778,
              "#fb9f3a"
             ],
             [
              0.8888888888888888,
              "#fdca26"
             ],
             [
              1,
              "#f0f921"
             ]
            ],
            "type": "histogram2dcontour"
           }
          ],
          "mesh3d": [
           {
            "colorbar": {
             "outlinewidth": 0,
             "ticks": ""
            },
            "type": "mesh3d"
           }
          ],
          "parcoords": [
           {
            "line": {
             "colorbar": {
              "outlinewidth": 0,
              "ticks": ""
             }
            },
            "type": "parcoords"
           }
          ],
          "pie": [
           {
            "automargin": true,
            "type": "pie"
           }
          ],
          "scatter": [
           {
            "fillpattern": {
             "fillmode": "overlay",
             "size": 10,
             "solidity": 0.2
            },
            "type": "scatter"
           }
          ],
          "scatter3d": [
           {
            "line": {
             "colorbar": {
              "outlinewidth": 0,
              "ticks": ""
             }
            },
            "marker": {
             "colorbar": {
              "outlinewidth": 0,
              "ticks": ""
             }
            },
            "type": "scatter3d"
           }
          ],
          "scattercarpet": [
           {
            "marker": {
             "colorbar": {
              "outlinewidth": 0,
              "ticks": ""
             }
            },
            "type": "scattercarpet"
           }
          ],
          "scattergeo": [
           {
            "marker": {
             "colorbar": {
              "outlinewidth": 0,
              "ticks": ""
             }
            },
            "type": "scattergeo"
           }
          ],
          "scattergl": [
           {
            "marker": {
             "colorbar": {
              "outlinewidth": 0,
              "ticks": ""
             }
            },
            "type": "scattergl"
           }
          ],
          "scattermapbox": [
           {
            "marker": {
             "colorbar": {
              "outlinewidth": 0,
              "ticks": ""
             }
            },
            "type": "scattermapbox"
           }
          ],
          "scatterpolar": [
           {
            "marker": {
             "colorbar": {
              "outlinewidth": 0,
              "ticks": ""
             }
            },
            "type": "scatterpolar"
           }
          ],
          "scatterpolargl": [
           {
            "marker": {
             "colorbar": {
              "outlinewidth": 0,
              "ticks": ""
             }
            },
            "type": "scatterpolargl"
           }
          ],
          "scatterternary": [
           {
            "marker": {
             "colorbar": {
              "outlinewidth": 0,
              "ticks": ""
             }
            },
            "type": "scatterternary"
           }
          ],
          "surface": [
           {
            "colorbar": {
             "outlinewidth": 0,
             "ticks": ""
            },
            "colorscale": [
             [
              0,
              "#0d0887"
             ],
             [
              0.1111111111111111,
              "#46039f"
             ],
             [
              0.2222222222222222,
              "#7201a8"
             ],
             [
              0.3333333333333333,
              "#9c179e"
             ],
             [
              0.4444444444444444,
              "#bd3786"
             ],
             [
              0.5555555555555556,
              "#d8576b"
             ],
             [
              0.6666666666666666,
              "#ed7953"
             ],
             [
              0.7777777777777778,
              "#fb9f3a"
             ],
             [
              0.8888888888888888,
              "#fdca26"
             ],
             [
              1,
              "#f0f921"
             ]
            ],
            "type": "surface"
           }
          ],
          "table": [
           {
            "cells": {
             "fill": {
              "color": "#EBF0F8"
             },
             "line": {
              "color": "white"
             }
            },
            "header": {
             "fill": {
              "color": "#C8D4E3"
             },
             "line": {
              "color": "white"
             }
            },
            "type": "table"
           }
          ]
         },
         "layout": {
          "annotationdefaults": {
           "arrowcolor": "#2a3f5f",
           "arrowhead": 0,
           "arrowwidth": 1
          },
          "autotypenumbers": "strict",
          "coloraxis": {
           "colorbar": {
            "outlinewidth": 0,
            "ticks": ""
           }
          },
          "colorscale": {
           "diverging": [
            [
             0,
             "#8e0152"
            ],
            [
             0.1,
             "#c51b7d"
            ],
            [
             0.2,
             "#de77ae"
            ],
            [
             0.3,
             "#f1b6da"
            ],
            [
             0.4,
             "#fde0ef"
            ],
            [
             0.5,
             "#f7f7f7"
            ],
            [
             0.6,
             "#e6f5d0"
            ],
            [
             0.7,
             "#b8e186"
            ],
            [
             0.8,
             "#7fbc41"
            ],
            [
             0.9,
             "#4d9221"
            ],
            [
             1,
             "#276419"
            ]
           ],
           "sequential": [
            [
             0,
             "#0d0887"
            ],
            [
             0.1111111111111111,
             "#46039f"
            ],
            [
             0.2222222222222222,
             "#7201a8"
            ],
            [
             0.3333333333333333,
             "#9c179e"
            ],
            [
             0.4444444444444444,
             "#bd3786"
            ],
            [
             0.5555555555555556,
             "#d8576b"
            ],
            [
             0.6666666666666666,
             "#ed7953"
            ],
            [
             0.7777777777777778,
             "#fb9f3a"
            ],
            [
             0.8888888888888888,
             "#fdca26"
            ],
            [
             1,
             "#f0f921"
            ]
           ],
           "sequentialminus": [
            [
             0,
             "#0d0887"
            ],
            [
             0.1111111111111111,
             "#46039f"
            ],
            [
             0.2222222222222222,
             "#7201a8"
            ],
            [
             0.3333333333333333,
             "#9c179e"
            ],
            [
             0.4444444444444444,
             "#bd3786"
            ],
            [
             0.5555555555555556,
             "#d8576b"
            ],
            [
             0.6666666666666666,
             "#ed7953"
            ],
            [
             0.7777777777777778,
             "#fb9f3a"
            ],
            [
             0.8888888888888888,
             "#fdca26"
            ],
            [
             1,
             "#f0f921"
            ]
           ]
          },
          "colorway": [
           "#636efa",
           "#EF553B",
           "#00cc96",
           "#ab63fa",
           "#FFA15A",
           "#19d3f3",
           "#FF6692",
           "#B6E880",
           "#FF97FF",
           "#FECB52"
          ],
          "font": {
           "color": "#2a3f5f"
          },
          "geo": {
           "bgcolor": "white",
           "lakecolor": "white",
           "landcolor": "#E5ECF6",
           "showlakes": true,
           "showland": true,
           "subunitcolor": "white"
          },
          "hoverlabel": {
           "align": "left"
          },
          "hovermode": "closest",
          "mapbox": {
           "style": "light"
          },
          "paper_bgcolor": "white",
          "plot_bgcolor": "#E5ECF6",
          "polar": {
           "angularaxis": {
            "gridcolor": "white",
            "linecolor": "white",
            "ticks": ""
           },
           "bgcolor": "#E5ECF6",
           "radialaxis": {
            "gridcolor": "white",
            "linecolor": "white",
            "ticks": ""
           }
          },
          "scene": {
           "xaxis": {
            "backgroundcolor": "#E5ECF6",
            "gridcolor": "white",
            "gridwidth": 2,
            "linecolor": "white",
            "showbackground": true,
            "ticks": "",
            "zerolinecolor": "white"
           },
           "yaxis": {
            "backgroundcolor": "#E5ECF6",
            "gridcolor": "white",
            "gridwidth": 2,
            "linecolor": "white",
            "showbackground": true,
            "ticks": "",
            "zerolinecolor": "white"
           },
           "zaxis": {
            "backgroundcolor": "#E5ECF6",
            "gridcolor": "white",
            "gridwidth": 2,
            "linecolor": "white",
            "showbackground": true,
            "ticks": "",
            "zerolinecolor": "white"
           }
          },
          "shapedefaults": {
           "line": {
            "color": "#2a3f5f"
           }
          },
          "ternary": {
           "aaxis": {
            "gridcolor": "white",
            "linecolor": "white",
            "ticks": ""
           },
           "baxis": {
            "gridcolor": "white",
            "linecolor": "white",
            "ticks": ""
           },
           "bgcolor": "#E5ECF6",
           "caxis": {
            "gridcolor": "white",
            "linecolor": "white",
            "ticks": ""
           }
          },
          "title": {
           "x": 0.05
          },
          "xaxis": {
           "automargin": true,
           "gridcolor": "white",
           "linecolor": "white",
           "ticks": "",
           "title": {
            "standoff": 15
           },
           "zerolinecolor": "white",
           "zerolinewidth": 2
          },
          "yaxis": {
           "automargin": true,
           "gridcolor": "white",
           "linecolor": "white",
           "ticks": "",
           "title": {
            "standoff": 15
           },
           "zerolinecolor": "white",
           "zerolinewidth": 2
          }
         }
        },
        "title": {
         "text": "Average Freshwater Withdrawals (L)",
         "x": 0.5
        },
        "updatemenus": [
         {
          "active": 0,
          "buttons": [
           {
            "args": [
             {
              "visible": [
               true,
               true,
               true,
               true,
               true,
               true,
               true,
               true,
               true,
               true,
               true,
               false,
               false,
               false,
               false,
               false,
               false,
               false,
               false,
               false,
               false,
               false
              ]
             },
             {
              "title.text": "Total Freshwater Usage (L)"
             }
            ],
            "label": "Total fresh water",
            "method": "update"
           },
           {
            "args": [
             {
              "visible": [
               false,
               false,
               false,
               false,
               false,
               false,
               false,
               false,
               false,
               false,
               false,
               true,
               true,
               true,
               true,
               true,
               true,
               true,
               true,
               true,
               true,
               true
              ]
             },
             {
              "title.text": "Total stresswater usage(L/eq"
             }
            ],
            "label": "Liters per Fixture unit",
            "method": "update"
           }
          ],
          "x": 0.1,
          "y": 1.2
         }
        ]
       }
      }
     },
     "metadata": {},
     "output_type": "display_data"
    }
   ],
   "source": [
    "df_land = pd.read_excel('dataset1.xls', sheet_name=2, skiprows=2,nrows=43)\n",
    "names= ['starchy', 'sugars', 'legume', 'vegan alt', 'oils', 'vegetables', 'fruits','proc nuts', 'meat', 'animal prod', 'fish']\n",
    "colors = ['darkblue', 'magenta', 'brown', 'purple', 'black', 'green', 'orange','gold', 'red', 'grey', 'blue']\n",
    "types = [\n",
    "list(df_land['Product'][:7]),\n",
    "list(df_land['Product'][7:10]),\n",
    "list(df_land['Product'][10:13]),\n",
    "list(df_land['Product'][13:15]),\n",
    "list(df_land['Product'][15:20]),\n",
    "list(df_land['Product'][20:25]),\n",
    "list(df_land['Product'][25:31]),\n",
    "list(df_land['Product'][31:33]),\n",
    "list(df_land['Product'][33:38]),\n",
    "list(df_land['Product'][38:41]),\n",
    "list(df_land['Product'][41:])]\n",
    "values = [\n",
    "list(df_land['Total.2'][:7]),\n",
    "list(df_land['Total.2'][7:10]),\n",
    "list(df_land['Total.2'][10:13]),\n",
    "list(df_land['Total.2'][13:15]),\n",
    "list(df_land['Total.2'][15:20]),\n",
    "list(df_land['Total.2'][20:25]),\n",
    "list(df_land['Total.2'][25:31]),\n",
    "list(df_land['Total.2'][31:33]),\n",
    "list(df_land['Total.2'][33:38]),\n",
    "list(df_land['Total.2'][38:41]),\n",
    "list(df_land['Total.2'][41:])]\n",
    "types1 = [\n",
    "list(df_land['Product'][:7]),\n",
    "list(df_land['Product'][7:10]),\n",
    "list(df_land['Product'][10:13]),\n",
    "list(df_land['Product'][13:15]),\n",
    "list(df_land['Product'][15:20]),\n",
    "list(df_land['Product'][20:25]),\n",
    "list(df_land['Product'][25:31]),\n",
    "list(df_land['Product'][31:33]),\n",
    "list(df_land['Product'][33:38]),\n",
    "list(df_land['Product'][38:41]),\n",
    "list(df_land['Product'][41:])]\n",
    "values1 = [\n",
    "list(df_land['Total.3'][:7]),\n",
    "list(df_land['Total.3'][7:10]),\n",
    "list(df_land['Total.3'][10:13]),\n",
    "list(df_land['Total.3'][13:15]),\n",
    "list(df_land['Total.3'][15:20]),\n",
    "list(df_land['Total.3'][20:25]),\n",
    "list(df_land['Total.3'][25:31]),\n",
    "list(df_land['Total.3'][31:33]),\n",
    "list(df_land['Total.3'][33:38]),\n",
    "list(df_land['Total.3'][38:41]),\n",
    "list(df_land['Total.3'][41:])]\n",
    "\n",
    "\n",
    "trace1 = go.Bar(\n",
    "    x=types[0],\n",
    "    y=values[0],\n",
    "    name=names[0],\n",
    "    marker=dict(color=colors[0]),\n",
    "    width=0.7\n",
    ")\n",
    "trace2 = go.Bar(\n",
    "    x=types[1],\n",
    "    y=values[1],\n",
    "    name=names[1],\n",
    "    marker=dict(color=colors[1]),\n",
    "    width=0.7\n",
    ")\n",
    "trace3 = go.Bar(\n",
    "    x=types[2],\n",
    "    y=values[2],\n",
    "    name=names[2],\n",
    "    marker=dict(color=colors[2]),\n",
    "    width=0.7\n",
    ")\n",
    "trace4 = go.Bar(\n",
    "    x=types[3],\n",
    "    y=values[3],\n",
    "    name=names[3],\n",
    "    marker=dict(color=colors[3]),\n",
    "    width=0.7\n",
    ")\n",
    "trace5 = go.Bar(\n",
    "    x=types[4],\n",
    "    y=values[4],\n",
    "    name=names[4],\n",
    "    marker=dict(color=colors[4]),\n",
    "    width=0.7\n",
    ")\n",
    "trace6 = go.Bar(\n",
    "    x=types[5],\n",
    "    y=values[5],\n",
    "    name=names[5],\n",
    "    marker=dict(color=colors[5]),\n",
    "    width=0.7\n",
    ")\n",
    "trace7 = go.Bar(\n",
    "    x=types[6],\n",
    "    y=values[6],\n",
    "    name=names[6],\n",
    "    marker=dict(color=colors[6]),\n",
    "    width=0.7\n",
    ")\n",
    "trace8 = go.Bar(\n",
    "    x=types[7],\n",
    "    y=values[7],\n",
    "    name=names[7],\n",
    "    marker=dict(color=colors[7]),\n",
    "    width=0.7\n",
    ")\n",
    "trace9 = go.Bar(\n",
    "    x=types[8],\n",
    "    y=values[8],\n",
    "    name=names[8],\n",
    "    marker=dict(color=colors[8]),\n",
    "    width=0.7\n",
    ")\n",
    "trace10 = go.Bar(\n",
    "    x=types[9],\n",
    "    y=values[9],\n",
    "    name=names[9],\n",
    "    marker=dict(color=colors[9]),\n",
    "    width=0.7\n",
    ")\n",
    "trace11 = go.Bar(\n",
    "    x=types[10],\n",
    "    y=values[10],\n",
    "    name=names[10],\n",
    "    marker=dict(color=colors[10]),\n",
    "    width=0.7\n",
    ")\n",
    "trace12 = go.Bar(\n",
    "    x=types1[0],\n",
    "    y=values1[0],\n",
    "    name=names[0],\n",
    "    marker=dict(color=colors[0]),\n",
    "    width=0.7,\n",
    "    visible=False  \n",
    ")\n",
    "\n",
    "trace13 = go.Bar(\n",
    "    x=types1[1],\n",
    "    y=values1[1],\n",
    "    name=names[1],\n",
    "    marker=dict(color=colors[1]),\n",
    "    width=0.7,\n",
    "    visible=False  \n",
    ")\n",
    "\n",
    "trace14 = go.Bar(\n",
    "    x=types1[2],\n",
    "    y=values1[2],\n",
    "    name=names[2],\n",
    "    marker=dict(color=colors[2]),\n",
    "    width=0.7,\n",
    "    visible=False  \n",
    ")\n",
    "\n",
    "trace15 = go.Bar(\n",
    "    x=types1[3],\n",
    "    y=values1[3],\n",
    "    name=names[3],\n",
    "    marker=dict(color=colors[3]),\n",
    "    width=0.7,\n",
    "    visible=False  \n",
    ")\n",
    "\n",
    "trace16 = go.Bar(\n",
    "    x=types1[4],\n",
    "    y=values1[4],\n",
    "    name=names[4],\n",
    "    marker=dict(color=colors[4]),\n",
    "    width=0.7,\n",
    "    visible=False  \n",
    ")\n",
    "\n",
    "trace17 = go.Bar(\n",
    "    x=types1[5],\n",
    "    y=values1[5],\n",
    "    name=names[5],\n",
    "    marker=dict(color=colors[5]),\n",
    "    width=0.7,\n",
    "    visible=False  \n",
    ")\n",
    "\n",
    "trace18 = go.Bar(\n",
    "    x=types1[6],\n",
    "    y=values1[6],\n",
    "    name=names[6],\n",
    "    marker=dict(color=colors[6]),\n",
    "    width=0.7,\n",
    "    visible=False  \n",
    ")\n",
    "\n",
    "trace19 = go.Bar(\n",
    "    x=types1[7],\n",
    "    y=values1[7],\n",
    "    name=names[7],\n",
    "    marker=dict(color=colors[7]),\n",
    "    width=0.7,\n",
    "    visible=False  \n",
    ")\n",
    "\n",
    "trace20 = go.Bar(\n",
    "    x=types1[8],\n",
    "    y=values1[8],\n",
    "    name=names[8],\n",
    "    marker=dict(color=colors[8]),\n",
    "    width=0.7,\n",
    "    visible=False  \n",
    ")\n",
    "\n",
    "trace21 = go.Bar(\n",
    "    x=types1[9],\n",
    "    y=values1[9],\n",
    "    name=names[9],\n",
    "    marker=dict(color=colors[9]),\n",
    "    width=0.7,\n",
    "    visible=False  \n",
    ")\n",
    "\n",
    "trace22 = go.Bar(\n",
    "    x=types1[10],\n",
    "    y=values1[10],\n",
    "    name=names[10],\n",
    "    marker=dict(color=colors[10]),\n",
    "    width=0.7,\n",
    "    visible=False  \n",
    ")\n",
    "\n",
    "\n",
    "\n",
    "update_menus = [\n",
    "    dict(\n",
    "        buttons=[\n",
    "            dict(\n",
    "                label=\"Total fresh water\",\n",
    "                method=\"update\",\n",
    "                args=[\n",
    "                    {\"visible\": [True] * 11 + [False] * 11},\n",
    "                    {'title.text': 'Total Freshwater Usage (L)'}\n",
    "                ]\n",
    "            ),\n",
    "            dict(\n",
    "                label=\"Liters per Fixture unit\",\n",
    "                method=\"update\",\n",
    "                args=[\n",
    "                    {\"visible\": [False] * 11 + [True] * 11},\n",
    "                    {'title.text': 'Total stresswater usage(L/eq'}\n",
    "                ]\n",
    "            )\n",
    "        ],\n",
    "        active=0,\n",
    "        y=1.2,\n",
    "        x=0.1\n",
    "    )\n",
    "]\n",
    "\n",
    "layout1 = go.Layout(\n",
    "    title='Average Freshwater Withdrawals (L)',\n",
    "    title_x=0.5,\n",
    "    barmode='group',\n",
    "    legend=dict(\n",
    "        title='Legend',\n",
    "        x=1.1,\n",
    "        y=1.0,\n",
    "        bgcolor='rgba(255, 255, 255, 0.7)',\n",
    "        bordercolor='black',\n",
    "        borderwidth=1,\n",
    "        font=dict(\n",
    "            family='Arial',\n",
    "            size=12,\n",
    "            color='black'\n",
    "        )\n",
    "    ),\n",
    "    updatemenus=update_menus, \n",
    ")\n",
    "\n",
    "data = [trace1, trace2, trace3, trace4, trace5, trace6, trace7, trace8, trace9, trace10, trace11,\n",
    "          trace12, trace13, trace14, trace15, trace16, trace17, trace18, trace19, trace20, trace21, trace22]\n",
    "fig = go.Figure(data=data, layout=layout1)\n",
    "fig.show()"
   ]
  },
  {
   "cell_type": "markdown",
   "id": "f07d4a62-ad4f-4fd3-84ad-3540363a03fb",
   "metadata": {},
   "source": [
    "> *Figure 1: Amount of freshwater withdrawals per nutritional units.*"
   ]
  },
  {
   "cell_type": "markdown",
   "id": "d42bd1f8",
   "metadata": {},
   "source": [
    "In figure 1 you can see the different amount of liters water used per nutritional unit. In the figure you can also see that nuts and cheese use alot of water for the amount of nutritions that they give when eating them. Most of the meat substitutes are made from wheat, soy and different kinds of fungi (https://www.milieucentraal.nl/eten-en-drinken/milieubewust-eten/vleesvervangers/). The figure shows that there is a substantial difference between amount of water used for the different kinds of meat and the water usage from wheat and soymilk. This shows that there is also a large difference in the amount of water used between meat and plant based products. "
   ]
  },
  {
   "cell_type": "markdown",
   "id": "e0a5e8f3-eed9-4965-a85d-05a296514ca0",
   "metadata": {},
   "source": [
    "### Vegan is better"
   ]
  },
  {
   "cell_type": "markdown",
   "id": "bb01e374",
   "metadata": {},
   "source": [
    "* Overall meat is the biggest contributor to a large ecological footprint\n",
    "* Lamb & mutton are the overall biggest contributer\n",
    "* The non-vegan products have an ecological foot print that is several times larger then the vegan products"
   ]
  },
  {
   "cell_type": "code",
   "execution_count": null,
   "id": "7de76f3d",
   "metadata": {
    "tags": [
     "hide-input"
    ]
   },
   "outputs": [
    {
     "data": {
      "application/vnd.plotly.v1+json": {
       "config": {
        "plotlyServerURL": "https://plot.ly"
       },
       "data": [
        {
         "marker": {
          "color": [
           "darkgreen",
           "darkred"
          ]
         },
         "name": "Land use",
         "type": "bar",
         "x": [
          "Vegan",
          "Non-vegan"
         ],
         "xaxis": "x",
         "y": [
          240.06,
          886.38
         ],
         "yaxis": "y"
        },
        {
         "marker": {
          "color": [
           "darkgreen",
           "darkred"
          ]
         },
         "name": "GHG emission",
         "type": "bar",
         "x": [
          "Vegan",
          "Non-vegan"
         ],
         "xaxis": "x2",
         "y": [
          136.08,
          271.25999999999993
         ],
         "yaxis": "y2"
        },
        {
         "marker": {
          "color": [
           "darkgreen",
           "darkred"
          ]
         },
         "name": "Acidification",
         "type": "bar",
         "x": [
          "Vegan",
          "Non-vegan"
         ],
         "xaxis": "x3",
         "y": [
          133.32,
          237.76999999999998
         ],
         "yaxis": "y3"
        },
        {
         "marker": {
          "color": [
           "darkgreen",
           "darkred"
          ]
         },
         "name": "Eutrophication",
         "type": "bar",
         "x": [
          "Vegan",
          "Non-vegan"
         ],
         "xaxis": "x4",
         "y": [
          530.22,
          1509.3300000000002
         ],
         "yaxis": "y4"
        },
        {
         "marker": {
          "color": [
           "darkgreen",
           "darkred"
          ]
         },
         "name": "Fresh Water Withdrawal",
         "type": "bar",
         "x": [
          "Vegan",
          "Non-vegan"
         ],
         "xaxis": "x5",
         "y": [
          498.98999999999995,
          1501.28
         ],
         "yaxis": "y5"
        },
        {
         "marker": {
          "color": [
           "darkgreen",
           "darkred"
          ]
         },
         "name": "Stress Water Use",
         "type": "bar",
         "x": [
          "Vegan",
          "Non-vegan"
         ],
         "xaxis": "x6",
         "y": [
          16904.2,
          23079.100000000002
         ],
         "yaxis": "y6"
        }
       ],
       "layout": {
        "height": 800,
        "showlegend": false,
        "template": {
         "data": {
          "bar": [
           {
            "error_x": {
             "color": "#2a3f5f"
            },
            "error_y": {
             "color": "#2a3f5f"
            },
            "marker": {
             "line": {
              "color": "#E5ECF6",
              "width": 0.5
             },
             "pattern": {
              "fillmode": "overlay",
              "size": 10,
              "solidity": 0.2
             }
            },
            "type": "bar"
           }
          ],
          "barpolar": [
           {
            "marker": {
             "line": {
              "color": "#E5ECF6",
              "width": 0.5
             },
             "pattern": {
              "fillmode": "overlay",
              "size": 10,
              "solidity": 0.2
             }
            },
            "type": "barpolar"
           }
          ],
          "carpet": [
           {
            "aaxis": {
             "endlinecolor": "#2a3f5f",
             "gridcolor": "white",
             "linecolor": "white",
             "minorgridcolor": "white",
             "startlinecolor": "#2a3f5f"
            },
            "baxis": {
             "endlinecolor": "#2a3f5f",
             "gridcolor": "white",
             "linecolor": "white",
             "minorgridcolor": "white",
             "startlinecolor": "#2a3f5f"
            },
            "type": "carpet"
           }
          ],
          "choropleth": [
           {
            "colorbar": {
             "outlinewidth": 0,
             "ticks": ""
            },
            "type": "choropleth"
           }
          ],
          "contour": [
           {
            "colorbar": {
             "outlinewidth": 0,
             "ticks": ""
            },
            "colorscale": [
             [
              0,
              "#0d0887"
             ],
             [
              0.1111111111111111,
              "#46039f"
             ],
             [
              0.2222222222222222,
              "#7201a8"
             ],
             [
              0.3333333333333333,
              "#9c179e"
             ],
             [
              0.4444444444444444,
              "#bd3786"
             ],
             [
              0.5555555555555556,
              "#d8576b"
             ],
             [
              0.6666666666666666,
              "#ed7953"
             ],
             [
              0.7777777777777778,
              "#fb9f3a"
             ],
             [
              0.8888888888888888,
              "#fdca26"
             ],
             [
              1,
              "#f0f921"
             ]
            ],
            "type": "contour"
           }
          ],
          "contourcarpet": [
           {
            "colorbar": {
             "outlinewidth": 0,
             "ticks": ""
            },
            "type": "contourcarpet"
           }
          ],
          "heatmap": [
           {
            "colorbar": {
             "outlinewidth": 0,
             "ticks": ""
            },
            "colorscale": [
             [
              0,
              "#0d0887"
             ],
             [
              0.1111111111111111,
              "#46039f"
             ],
             [
              0.2222222222222222,
              "#7201a8"
             ],
             [
              0.3333333333333333,
              "#9c179e"
             ],
             [
              0.4444444444444444,
              "#bd3786"
             ],
             [
              0.5555555555555556,
              "#d8576b"
             ],
             [
              0.6666666666666666,
              "#ed7953"
             ],
             [
              0.7777777777777778,
              "#fb9f3a"
             ],
             [
              0.8888888888888888,
              "#fdca26"
             ],
             [
              1,
              "#f0f921"
             ]
            ],
            "type": "heatmap"
           }
          ],
          "heatmapgl": [
           {
            "colorbar": {
             "outlinewidth": 0,
             "ticks": ""
            },
            "colorscale": [
             [
              0,
              "#0d0887"
             ],
             [
              0.1111111111111111,
              "#46039f"
             ],
             [
              0.2222222222222222,
              "#7201a8"
             ],
             [
              0.3333333333333333,
              "#9c179e"
             ],
             [
              0.4444444444444444,
              "#bd3786"
             ],
             [
              0.5555555555555556,
              "#d8576b"
             ],
             [
              0.6666666666666666,
              "#ed7953"
             ],
             [
              0.7777777777777778,
              "#fb9f3a"
             ],
             [
              0.8888888888888888,
              "#fdca26"
             ],
             [
              1,
              "#f0f921"
             ]
            ],
            "type": "heatmapgl"
           }
          ],
          "histogram": [
           {
            "marker": {
             "pattern": {
              "fillmode": "overlay",
              "size": 10,
              "solidity": 0.2
             }
            },
            "type": "histogram"
           }
          ],
          "histogram2d": [
           {
            "colorbar": {
             "outlinewidth": 0,
             "ticks": ""
            },
            "colorscale": [
             [
              0,
              "#0d0887"
             ],
             [
              0.1111111111111111,
              "#46039f"
             ],
             [
              0.2222222222222222,
              "#7201a8"
             ],
             [
              0.3333333333333333,
              "#9c179e"
             ],
             [
              0.4444444444444444,
              "#bd3786"
             ],
             [
              0.5555555555555556,
              "#d8576b"
             ],
             [
              0.6666666666666666,
              "#ed7953"
             ],
             [
              0.7777777777777778,
              "#fb9f3a"
             ],
             [
              0.8888888888888888,
              "#fdca26"
             ],
             [
              1,
              "#f0f921"
             ]
            ],
            "type": "histogram2d"
           }
          ],
          "histogram2dcontour": [
           {
            "colorbar": {
             "outlinewidth": 0,
             "ticks": ""
            },
            "colorscale": [
             [
              0,
              "#0d0887"
             ],
             [
              0.1111111111111111,
              "#46039f"
             ],
             [
              0.2222222222222222,
              "#7201a8"
             ],
             [
              0.3333333333333333,
              "#9c179e"
             ],
             [
              0.4444444444444444,
              "#bd3786"
             ],
             [
              0.5555555555555556,
              "#d8576b"
             ],
             [
              0.6666666666666666,
              "#ed7953"
             ],
             [
              0.7777777777777778,
              "#fb9f3a"
             ],
             [
              0.8888888888888888,
              "#fdca26"
             ],
             [
              1,
              "#f0f921"
             ]
            ],
            "type": "histogram2dcontour"
           }
          ],
          "mesh3d": [
           {
            "colorbar": {
             "outlinewidth": 0,
             "ticks": ""
            },
            "type": "mesh3d"
           }
          ],
          "parcoords": [
           {
            "line": {
             "colorbar": {
              "outlinewidth": 0,
              "ticks": ""
             }
            },
            "type": "parcoords"
           }
          ],
          "pie": [
           {
            "automargin": true,
            "type": "pie"
           }
          ],
          "scatter": [
           {
            "fillpattern": {
             "fillmode": "overlay",
             "size": 10,
             "solidity": 0.2
            },
            "type": "scatter"
           }
          ],
          "scatter3d": [
           {
            "line": {
             "colorbar": {
              "outlinewidth": 0,
              "ticks": ""
             }
            },
            "marker": {
             "colorbar": {
              "outlinewidth": 0,
              "ticks": ""
             }
            },
            "type": "scatter3d"
           }
          ],
          "scattercarpet": [
           {
            "marker": {
             "colorbar": {
              "outlinewidth": 0,
              "ticks": ""
             }
            },
            "type": "scattercarpet"
           }
          ],
          "scattergeo": [
           {
            "marker": {
             "colorbar": {
              "outlinewidth": 0,
              "ticks": ""
             }
            },
            "type": "scattergeo"
           }
          ],
          "scattergl": [
           {
            "marker": {
             "colorbar": {
              "outlinewidth": 0,
              "ticks": ""
             }
            },
            "type": "scattergl"
           }
          ],
          "scattermapbox": [
           {
            "marker": {
             "colorbar": {
              "outlinewidth": 0,
              "ticks": ""
             }
            },
            "type": "scattermapbox"
           }
          ],
          "scatterpolar": [
           {
            "marker": {
             "colorbar": {
              "outlinewidth": 0,
              "ticks": ""
             }
            },
            "type": "scatterpolar"
           }
          ],
          "scatterpolargl": [
           {
            "marker": {
             "colorbar": {
              "outlinewidth": 0,
              "ticks": ""
             }
            },
            "type": "scatterpolargl"
           }
          ],
          "scatterternary": [
           {
            "marker": {
             "colorbar": {
              "outlinewidth": 0,
              "ticks": ""
             }
            },
            "type": "scatterternary"
           }
          ],
          "surface": [
           {
            "colorbar": {
             "outlinewidth": 0,
             "ticks": ""
            },
            "colorscale": [
             [
              0,
              "#0d0887"
             ],
             [
              0.1111111111111111,
              "#46039f"
             ],
             [
              0.2222222222222222,
              "#7201a8"
             ],
             [
              0.3333333333333333,
              "#9c179e"
             ],
             [
              0.4444444444444444,
              "#bd3786"
             ],
             [
              0.5555555555555556,
              "#d8576b"
             ],
             [
              0.6666666666666666,
              "#ed7953"
             ],
             [
              0.7777777777777778,
              "#fb9f3a"
             ],
             [
              0.8888888888888888,
              "#fdca26"
             ],
             [
              1,
              "#f0f921"
             ]
            ],
            "type": "surface"
           }
          ],
          "table": [
           {
            "cells": {
             "fill": {
              "color": "#EBF0F8"
             },
             "line": {
              "color": "white"
             }
            },
            "header": {
             "fill": {
              "color": "#C8D4E3"
             },
             "line": {
              "color": "white"
             }
            },
            "type": "table"
           }
          ]
         },
         "layout": {
          "annotationdefaults": {
           "arrowcolor": "#2a3f5f",
           "arrowhead": 0,
           "arrowwidth": 1
          },
          "autotypenumbers": "strict",
          "coloraxis": {
           "colorbar": {
            "outlinewidth": 0,
            "ticks": ""
           }
          },
          "colorscale": {
           "diverging": [
            [
             0,
             "#8e0152"
            ],
            [
             0.1,
             "#c51b7d"
            ],
            [
             0.2,
             "#de77ae"
            ],
            [
             0.3,
             "#f1b6da"
            ],
            [
             0.4,
             "#fde0ef"
            ],
            [
             0.5,
             "#f7f7f7"
            ],
            [
             0.6,
             "#e6f5d0"
            ],
            [
             0.7,
             "#b8e186"
            ],
            [
             0.8,
             "#7fbc41"
            ],
            [
             0.9,
             "#4d9221"
            ],
            [
             1,
             "#276419"
            ]
           ],
           "sequential": [
            [
             0,
             "#0d0887"
            ],
            [
             0.1111111111111111,
             "#46039f"
            ],
            [
             0.2222222222222222,
             "#7201a8"
            ],
            [
             0.3333333333333333,
             "#9c179e"
            ],
            [
             0.4444444444444444,
             "#bd3786"
            ],
            [
             0.5555555555555556,
             "#d8576b"
            ],
            [
             0.6666666666666666,
             "#ed7953"
            ],
            [
             0.7777777777777778,
             "#fb9f3a"
            ],
            [
             0.8888888888888888,
             "#fdca26"
            ],
            [
             1,
             "#f0f921"
            ]
           ],
           "sequentialminus": [
            [
             0,
             "#0d0887"
            ],
            [
             0.1111111111111111,
             "#46039f"
            ],
            [
             0.2222222222222222,
             "#7201a8"
            ],
            [
             0.3333333333333333,
             "#9c179e"
            ],
            [
             0.4444444444444444,
             "#bd3786"
            ],
            [
             0.5555555555555556,
             "#d8576b"
            ],
            [
             0.6666666666666666,
             "#ed7953"
            ],
            [
             0.7777777777777778,
             "#fb9f3a"
            ],
            [
             0.8888888888888888,
             "#fdca26"
            ],
            [
             1,
             "#f0f921"
            ]
           ]
          },
          "colorway": [
           "#636efa",
           "#EF553B",
           "#00cc96",
           "#ab63fa",
           "#FFA15A",
           "#19d3f3",
           "#FF6692",
           "#B6E880",
           "#FF97FF",
           "#FECB52"
          ],
          "font": {
           "color": "#2a3f5f"
          },
          "geo": {
           "bgcolor": "white",
           "lakecolor": "white",
           "landcolor": "#E5ECF6",
           "showlakes": true,
           "showland": true,
           "subunitcolor": "white"
          },
          "hoverlabel": {
           "align": "left"
          },
          "hovermode": "closest",
          "mapbox": {
           "style": "light"
          },
          "paper_bgcolor": "white",
          "plot_bgcolor": "#E5ECF6",
          "polar": {
           "angularaxis": {
            "gridcolor": "white",
            "linecolor": "white",
            "ticks": ""
           },
           "bgcolor": "#E5ECF6",
           "radialaxis": {
            "gridcolor": "white",
            "linecolor": "white",
            "ticks": ""
           }
          },
          "scene": {
           "xaxis": {
            "backgroundcolor": "#E5ECF6",
            "gridcolor": "white",
            "gridwidth": 2,
            "linecolor": "white",
            "showbackground": true,
            "ticks": "",
            "zerolinecolor": "white"
           },
           "yaxis": {
            "backgroundcolor": "#E5ECF6",
            "gridcolor": "white",
            "gridwidth": 2,
            "linecolor": "white",
            "showbackground": true,
            "ticks": "",
            "zerolinecolor": "white"
           },
           "zaxis": {
            "backgroundcolor": "#E5ECF6",
            "gridcolor": "white",
            "gridwidth": 2,
            "linecolor": "white",
            "showbackground": true,
            "ticks": "",
            "zerolinecolor": "white"
           }
          },
          "shapedefaults": {
           "line": {
            "color": "#2a3f5f"
           }
          },
          "ternary": {
           "aaxis": {
            "gridcolor": "white",
            "linecolor": "white",
            "ticks": ""
           },
           "baxis": {
            "gridcolor": "white",
            "linecolor": "white",
            "ticks": ""
           },
           "bgcolor": "#E5ECF6",
           "caxis": {
            "gridcolor": "white",
            "linecolor": "white",
            "ticks": ""
           }
          },
          "title": {
           "x": 0.05
          },
          "xaxis": {
           "automargin": true,
           "gridcolor": "white",
           "linecolor": "white",
           "ticks": "",
           "title": {
            "standoff": 15
           },
           "zerolinecolor": "white",
           "zerolinewidth": 2
          },
          "yaxis": {
           "automargin": true,
           "gridcolor": "white",
           "linecolor": "white",
           "ticks": "",
           "title": {
            "standoff": 15
           },
           "zerolinecolor": "white",
           "zerolinewidth": 2
          }
         }
        },
        "title": {
         "text": "Vegan vs Non-Vegan",
         "x": 0.5
        },
        "width": 1200,
        "xaxis": {
         "anchor": "y",
         "domain": [
          0,
          0.2888888888888889
         ],
         "title": {
          "text": "Land use"
         }
        },
        "xaxis2": {
         "anchor": "y2",
         "domain": [
          0.35555555555555557,
          0.6444444444444445
         ],
         "title": {
          "text": "GHG emission"
         }
        },
        "xaxis3": {
         "anchor": "y3",
         "domain": [
          0.7111111111111111,
          1
         ],
         "title": {
          "text": "Acidification"
         }
        },
        "xaxis4": {
         "anchor": "y4",
         "domain": [
          0,
          0.2888888888888889
         ],
         "title": {
          "text": "Eutrophication"
         }
        },
        "xaxis5": {
         "anchor": "y5",
         "domain": [
          0.35555555555555557,
          0.6444444444444445
         ],
         "title": {
          "text": "Fresh Water Withdrawal"
         }
        },
        "xaxis6": {
         "anchor": "y6",
         "domain": [
          0.7111111111111111,
          1
         ],
         "title": {
          "text": "Stress Water Use"
         }
        },
        "yaxis": {
         "anchor": "x",
         "domain": [
          0.6000000000000001,
          1
         ],
         "title": {
          "text": "(m2/FU)"
         }
        },
        "yaxis2": {
         "anchor": "x2",
         "domain": [
          0.6000000000000001,
          1
         ],
         "title": {
          "text": "(kg CO2eq/FU)"
         }
        },
        "yaxis3": {
         "anchor": "x3",
         "domain": [
          0.6000000000000001,
          1
         ],
         "title": {
          "text": "(kg CO2eq/FU)"
         }
        },
        "yaxis4": {
         "anchor": "x4",
         "domain": [
          0,
          0.4
         ],
         "title": {
          "text": "(g SO2eq/FU)"
         }
        },
        "yaxis5": {
         "anchor": "x5",
         "domain": [
          0,
          0.4
         ],
         "title": {
          "text": "(g PO43-eq/FU)"
         }
        },
        "yaxis6": {
         "anchor": "x6",
         "domain": [
          0,
          0.4
         ],
         "title": {
          "text": "(L/FU)"
         }
        }
       }
      },
      "text/html": [
       "<div>                            <div id=\"5fe34d75-7822-4dad-8082-d79a1b9b7b2e\" class=\"plotly-graph-div\" style=\"height:800px; width:1200px;\"></div>            <script type=\"text/javascript\">                require([\"plotly\"], function(Plotly) {                    window.PLOTLYENV=window.PLOTLYENV || {};                                    if (document.getElementById(\"5fe34d75-7822-4dad-8082-d79a1b9b7b2e\")) {                    Plotly.newPlot(                        \"5fe34d75-7822-4dad-8082-d79a1b9b7b2e\",                        [{\"marker\":{\"color\":[\"darkgreen\",\"darkred\"]},\"name\":\"Land use\",\"x\":[\"Vegan\",\"Non-vegan\"],\"y\":[240.06,886.38],\"type\":\"bar\",\"xaxis\":\"x\",\"yaxis\":\"y\"},{\"marker\":{\"color\":[\"darkgreen\",\"darkred\"]},\"name\":\"GHG emission\",\"x\":[\"Vegan\",\"Non-vegan\"],\"y\":[136.08,271.25999999999993],\"type\":\"bar\",\"xaxis\":\"x2\",\"yaxis\":\"y2\"},{\"marker\":{\"color\":[\"darkgreen\",\"darkred\"]},\"name\":\"Acidification\",\"x\":[\"Vegan\",\"Non-vegan\"],\"y\":[133.32,237.76999999999998],\"type\":\"bar\",\"xaxis\":\"x3\",\"yaxis\":\"y3\"},{\"marker\":{\"color\":[\"darkgreen\",\"darkred\"]},\"name\":\"Eutrophication\",\"x\":[\"Vegan\",\"Non-vegan\"],\"y\":[530.22,1509.3300000000002],\"type\":\"bar\",\"xaxis\":\"x4\",\"yaxis\":\"y4\"},{\"marker\":{\"color\":[\"darkgreen\",\"darkred\"]},\"name\":\"Fresh Water Withdrawal\",\"x\":[\"Vegan\",\"Non-vegan\"],\"y\":[498.98999999999995,1501.28],\"type\":\"bar\",\"xaxis\":\"x5\",\"yaxis\":\"y5\"},{\"marker\":{\"color\":[\"darkgreen\",\"darkred\"]},\"name\":\"Stress Water Use\",\"x\":[\"Vegan\",\"Non-vegan\"],\"y\":[16904.2,23079.100000000002],\"type\":\"bar\",\"xaxis\":\"x6\",\"yaxis\":\"y6\"}],                        {\"template\":{\"data\":{\"histogram2dcontour\":[{\"type\":\"histogram2dcontour\",\"colorbar\":{\"outlinewidth\":0,\"ticks\":\"\"},\"colorscale\":[[0.0,\"#0d0887\"],[0.1111111111111111,\"#46039f\"],[0.2222222222222222,\"#7201a8\"],[0.3333333333333333,\"#9c179e\"],[0.4444444444444444,\"#bd3786\"],[0.5555555555555556,\"#d8576b\"],[0.6666666666666666,\"#ed7953\"],[0.7777777777777778,\"#fb9f3a\"],[0.8888888888888888,\"#fdca26\"],[1.0,\"#f0f921\"]]}],\"choropleth\":[{\"type\":\"choropleth\",\"colorbar\":{\"outlinewidth\":0,\"ticks\":\"\"}}],\"histogram2d\":[{\"type\":\"histogram2d\",\"colorbar\":{\"outlinewidth\":0,\"ticks\":\"\"},\"colorscale\":[[0.0,\"#0d0887\"],[0.1111111111111111,\"#46039f\"],[0.2222222222222222,\"#7201a8\"],[0.3333333333333333,\"#9c179e\"],[0.4444444444444444,\"#bd3786\"],[0.5555555555555556,\"#d8576b\"],[0.6666666666666666,\"#ed7953\"],[0.7777777777777778,\"#fb9f3a\"],[0.8888888888888888,\"#fdca26\"],[1.0,\"#f0f921\"]]}],\"heatmap\":[{\"type\":\"heatmap\",\"colorbar\":{\"outlinewidth\":0,\"ticks\":\"\"},\"colorscale\":[[0.0,\"#0d0887\"],[0.1111111111111111,\"#46039f\"],[0.2222222222222222,\"#7201a8\"],[0.3333333333333333,\"#9c179e\"],[0.4444444444444444,\"#bd3786\"],[0.5555555555555556,\"#d8576b\"],[0.6666666666666666,\"#ed7953\"],[0.7777777777777778,\"#fb9f3a\"],[0.8888888888888888,\"#fdca26\"],[1.0,\"#f0f921\"]]}],\"heatmapgl\":[{\"type\":\"heatmapgl\",\"colorbar\":{\"outlinewidth\":0,\"ticks\":\"\"},\"colorscale\":[[0.0,\"#0d0887\"],[0.1111111111111111,\"#46039f\"],[0.2222222222222222,\"#7201a8\"],[0.3333333333333333,\"#9c179e\"],[0.4444444444444444,\"#bd3786\"],[0.5555555555555556,\"#d8576b\"],[0.6666666666666666,\"#ed7953\"],[0.7777777777777778,\"#fb9f3a\"],[0.8888888888888888,\"#fdca26\"],[1.0,\"#f0f921\"]]}],\"contourcarpet\":[{\"type\":\"contourcarpet\",\"colorbar\":{\"outlinewidth\":0,\"ticks\":\"\"}}],\"contour\":[{\"type\":\"contour\",\"colorbar\":{\"outlinewidth\":0,\"ticks\":\"\"},\"colorscale\":[[0.0,\"#0d0887\"],[0.1111111111111111,\"#46039f\"],[0.2222222222222222,\"#7201a8\"],[0.3333333333333333,\"#9c179e\"],[0.4444444444444444,\"#bd3786\"],[0.5555555555555556,\"#d8576b\"],[0.6666666666666666,\"#ed7953\"],[0.7777777777777778,\"#fb9f3a\"],[0.8888888888888888,\"#fdca26\"],[1.0,\"#f0f921\"]]}],\"surface\":[{\"type\":\"surface\",\"colorbar\":{\"outlinewidth\":0,\"ticks\":\"\"},\"colorscale\":[[0.0,\"#0d0887\"],[0.1111111111111111,\"#46039f\"],[0.2222222222222222,\"#7201a8\"],[0.3333333333333333,\"#9c179e\"],[0.4444444444444444,\"#bd3786\"],[0.5555555555555556,\"#d8576b\"],[0.6666666666666666,\"#ed7953\"],[0.7777777777777778,\"#fb9f3a\"],[0.8888888888888888,\"#fdca26\"],[1.0,\"#f0f921\"]]}],\"mesh3d\":[{\"type\":\"mesh3d\",\"colorbar\":{\"outlinewidth\":0,\"ticks\":\"\"}}],\"scatter\":[{\"fillpattern\":{\"fillmode\":\"overlay\",\"size\":10,\"solidity\":0.2},\"type\":\"scatter\"}],\"parcoords\":[{\"type\":\"parcoords\",\"line\":{\"colorbar\":{\"outlinewidth\":0,\"ticks\":\"\"}}}],\"scatterpolargl\":[{\"type\":\"scatterpolargl\",\"marker\":{\"colorbar\":{\"outlinewidth\":0,\"ticks\":\"\"}}}],\"bar\":[{\"error_x\":{\"color\":\"#2a3f5f\"},\"error_y\":{\"color\":\"#2a3f5f\"},\"marker\":{\"line\":{\"color\":\"#E5ECF6\",\"width\":0.5},\"pattern\":{\"fillmode\":\"overlay\",\"size\":10,\"solidity\":0.2}},\"type\":\"bar\"}],\"scattergeo\":[{\"type\":\"scattergeo\",\"marker\":{\"colorbar\":{\"outlinewidth\":0,\"ticks\":\"\"}}}],\"scatterpolar\":[{\"type\":\"scatterpolar\",\"marker\":{\"colorbar\":{\"outlinewidth\":0,\"ticks\":\"\"}}}],\"histogram\":[{\"marker\":{\"pattern\":{\"fillmode\":\"overlay\",\"size\":10,\"solidity\":0.2}},\"type\":\"histogram\"}],\"scattergl\":[{\"type\":\"scattergl\",\"marker\":{\"colorbar\":{\"outlinewidth\":0,\"ticks\":\"\"}}}],\"scatter3d\":[{\"type\":\"scatter3d\",\"line\":{\"colorbar\":{\"outlinewidth\":0,\"ticks\":\"\"}},\"marker\":{\"colorbar\":{\"outlinewidth\":0,\"ticks\":\"\"}}}],\"scattermapbox\":[{\"type\":\"scattermapbox\",\"marker\":{\"colorbar\":{\"outlinewidth\":0,\"ticks\":\"\"}}}],\"scatterternary\":[{\"type\":\"scatterternary\",\"marker\":{\"colorbar\":{\"outlinewidth\":0,\"ticks\":\"\"}}}],\"scattercarpet\":[{\"type\":\"scattercarpet\",\"marker\":{\"colorbar\":{\"outlinewidth\":0,\"ticks\":\"\"}}}],\"carpet\":[{\"aaxis\":{\"endlinecolor\":\"#2a3f5f\",\"gridcolor\":\"white\",\"linecolor\":\"white\",\"minorgridcolor\":\"white\",\"startlinecolor\":\"#2a3f5f\"},\"baxis\":{\"endlinecolor\":\"#2a3f5f\",\"gridcolor\":\"white\",\"linecolor\":\"white\",\"minorgridcolor\":\"white\",\"startlinecolor\":\"#2a3f5f\"},\"type\":\"carpet\"}],\"table\":[{\"cells\":{\"fill\":{\"color\":\"#EBF0F8\"},\"line\":{\"color\":\"white\"}},\"header\":{\"fill\":{\"color\":\"#C8D4E3\"},\"line\":{\"color\":\"white\"}},\"type\":\"table\"}],\"barpolar\":[{\"marker\":{\"line\":{\"color\":\"#E5ECF6\",\"width\":0.5},\"pattern\":{\"fillmode\":\"overlay\",\"size\":10,\"solidity\":0.2}},\"type\":\"barpolar\"}],\"pie\":[{\"automargin\":true,\"type\":\"pie\"}]},\"layout\":{\"autotypenumbers\":\"strict\",\"colorway\":[\"#636efa\",\"#EF553B\",\"#00cc96\",\"#ab63fa\",\"#FFA15A\",\"#19d3f3\",\"#FF6692\",\"#B6E880\",\"#FF97FF\",\"#FECB52\"],\"font\":{\"color\":\"#2a3f5f\"},\"hovermode\":\"closest\",\"hoverlabel\":{\"align\":\"left\"},\"paper_bgcolor\":\"white\",\"plot_bgcolor\":\"#E5ECF6\",\"polar\":{\"bgcolor\":\"#E5ECF6\",\"angularaxis\":{\"gridcolor\":\"white\",\"linecolor\":\"white\",\"ticks\":\"\"},\"radialaxis\":{\"gridcolor\":\"white\",\"linecolor\":\"white\",\"ticks\":\"\"}},\"ternary\":{\"bgcolor\":\"#E5ECF6\",\"aaxis\":{\"gridcolor\":\"white\",\"linecolor\":\"white\",\"ticks\":\"\"},\"baxis\":{\"gridcolor\":\"white\",\"linecolor\":\"white\",\"ticks\":\"\"},\"caxis\":{\"gridcolor\":\"white\",\"linecolor\":\"white\",\"ticks\":\"\"}},\"coloraxis\":{\"colorbar\":{\"outlinewidth\":0,\"ticks\":\"\"}},\"colorscale\":{\"sequential\":[[0.0,\"#0d0887\"],[0.1111111111111111,\"#46039f\"],[0.2222222222222222,\"#7201a8\"],[0.3333333333333333,\"#9c179e\"],[0.4444444444444444,\"#bd3786\"],[0.5555555555555556,\"#d8576b\"],[0.6666666666666666,\"#ed7953\"],[0.7777777777777778,\"#fb9f3a\"],[0.8888888888888888,\"#fdca26\"],[1.0,\"#f0f921\"]],\"sequentialminus\":[[0.0,\"#0d0887\"],[0.1111111111111111,\"#46039f\"],[0.2222222222222222,\"#7201a8\"],[0.3333333333333333,\"#9c179e\"],[0.4444444444444444,\"#bd3786\"],[0.5555555555555556,\"#d8576b\"],[0.6666666666666666,\"#ed7953\"],[0.7777777777777778,\"#fb9f3a\"],[0.8888888888888888,\"#fdca26\"],[1.0,\"#f0f921\"]],\"diverging\":[[0,\"#8e0152\"],[0.1,\"#c51b7d\"],[0.2,\"#de77ae\"],[0.3,\"#f1b6da\"],[0.4,\"#fde0ef\"],[0.5,\"#f7f7f7\"],[0.6,\"#e6f5d0\"],[0.7,\"#b8e186\"],[0.8,\"#7fbc41\"],[0.9,\"#4d9221\"],[1,\"#276419\"]]},\"xaxis\":{\"gridcolor\":\"white\",\"linecolor\":\"white\",\"ticks\":\"\",\"title\":{\"standoff\":15},\"zerolinecolor\":\"white\",\"automargin\":true,\"zerolinewidth\":2},\"yaxis\":{\"gridcolor\":\"white\",\"linecolor\":\"white\",\"ticks\":\"\",\"title\":{\"standoff\":15},\"zerolinecolor\":\"white\",\"automargin\":true,\"zerolinewidth\":2},\"scene\":{\"xaxis\":{\"backgroundcolor\":\"#E5ECF6\",\"gridcolor\":\"white\",\"linecolor\":\"white\",\"showbackground\":true,\"ticks\":\"\",\"zerolinecolor\":\"white\",\"gridwidth\":2},\"yaxis\":{\"backgroundcolor\":\"#E5ECF6\",\"gridcolor\":\"white\",\"linecolor\":\"white\",\"showbackground\":true,\"ticks\":\"\",\"zerolinecolor\":\"white\",\"gridwidth\":2},\"zaxis\":{\"backgroundcolor\":\"#E5ECF6\",\"gridcolor\":\"white\",\"linecolor\":\"white\",\"showbackground\":true,\"ticks\":\"\",\"zerolinecolor\":\"white\",\"gridwidth\":2}},\"shapedefaults\":{\"line\":{\"color\":\"#2a3f5f\"}},\"annotationdefaults\":{\"arrowcolor\":\"#2a3f5f\",\"arrowhead\":0,\"arrowwidth\":1},\"geo\":{\"bgcolor\":\"white\",\"landcolor\":\"#E5ECF6\",\"subunitcolor\":\"white\",\"showland\":true,\"showlakes\":true,\"lakecolor\":\"white\"},\"title\":{\"x\":0.05},\"mapbox\":{\"style\":\"light\"}}},\"xaxis\":{\"anchor\":\"y\",\"domain\":[0.0,0.2888888888888889],\"title\":{\"text\":\"Land use\"}},\"yaxis\":{\"anchor\":\"x\",\"domain\":[0.6000000000000001,1.0],\"title\":{\"text\":\"(m2\\u002fFU)\"}},\"xaxis2\":{\"anchor\":\"y2\",\"domain\":[0.35555555555555557,0.6444444444444445],\"title\":{\"text\":\"GHG emission\"}},\"yaxis2\":{\"anchor\":\"x2\",\"domain\":[0.6000000000000001,1.0],\"title\":{\"text\":\"(kg CO2eq\\u002fFU)\"}},\"xaxis3\":{\"anchor\":\"y3\",\"domain\":[0.7111111111111111,1.0],\"title\":{\"text\":\"Acidification\"}},\"yaxis3\":{\"anchor\":\"x3\",\"domain\":[0.6000000000000001,1.0],\"title\":{\"text\":\"(kg CO2eq\\u002fFU)\"}},\"xaxis4\":{\"anchor\":\"y4\",\"domain\":[0.0,0.2888888888888889],\"title\":{\"text\":\"Eutrophication\"}},\"yaxis4\":{\"anchor\":\"x4\",\"domain\":[0.0,0.4],\"title\":{\"text\":\"(g SO2eq\\u002fFU)\"}},\"xaxis5\":{\"anchor\":\"y5\",\"domain\":[0.35555555555555557,0.6444444444444445],\"title\":{\"text\":\"Fresh Water Withdrawal\"}},\"yaxis5\":{\"anchor\":\"x5\",\"domain\":[0.0,0.4],\"title\":{\"text\":\"(g PO43-eq\\u002fFU)\"}},\"xaxis6\":{\"anchor\":\"y6\",\"domain\":[0.7111111111111111,1.0],\"title\":{\"text\":\"Stress Water Use\"}},\"yaxis6\":{\"anchor\":\"x6\",\"domain\":[0.0,0.4],\"title\":{\"text\":\"(L\\u002fFU)\"}},\"title\":{\"text\":\"Vegan vs Non-Vegan\",\"x\":0.5},\"width\":1200,\"height\":800,\"showlegend\":false},                        {\"responsive\": true}                    ).then(function(){\n",
       "                            \n",
       "var gd = document.getElementById('5fe34d75-7822-4dad-8082-d79a1b9b7b2e');\n",
       "var x = new MutationObserver(function (mutations, observer) {{\n",
       "        var display = window.getComputedStyle(gd).display;\n",
       "        if (!display || display === 'none') {{\n",
       "            console.log([gd, 'removed!']);\n",
       "            Plotly.purge(gd);\n",
       "            observer.disconnect();\n",
       "        }}\n",
       "}});\n",
       "\n",
       "// Listen for the removal of the full notebook cells\n",
       "var notebookContainer = gd.closest('#notebook-container');\n",
       "if (notebookContainer) {{\n",
       "    x.observe(notebookContainer, {childList: true});\n",
       "}}\n",
       "\n",
       "// Listen for the clearing of the current output cell\n",
       "var outputEl = gd.closest('.output');\n",
       "if (outputEl) {{\n",
       "    x.observe(outputEl, {childList: true});\n",
       "}}\n",
       "\n",
       "                        })                };                });            </script>        </div>"
      ]
     },
     "metadata": {},
     "output_type": "display_data"
    }
   ],
   "source": [
    "#Mauro\n",
    "non_vegan_products = ['Barley (Beer)','Cane Sugar','Milk','Cheese','Eggs','Fish (farmed)','Crustaceans (farmed)','Bovine Meat (beef herd)','Bovine Meat (dairy herd)','Lamb & Mutton','Pig Meat','Poultry Meat']\n",
    "meat_products = ['Bovine Meat (beef herd)', 'Bovine Meat (dairy herd)', 'Lamb & Mutton', 'Pig Meat','Poultry Meat','Fish (farmed)','Crustaceans (farmed)']\n",
    "dairy_products = ['Milk','Cheese','Eggs']\n",
    "other_non_vegan_products = ['Cane Sugar','Crustaceans (farmed)','Barley (Beer)']\n",
    "\n",
    "df_all_products = pd.read_excel(\"dataset1.xls\", sheet_name=\"Results - Retail Weight\", skiprows=2,nrows=43, index_col=None, na_values=[\"NA\"])\n",
    "\n",
    "#non vegan products\n",
    "non_vegan = df_all_products[\"Product\"].isin(non_vegan_products)\n",
    "meat = df_all_products[\"Product\"].isin(meat_products)\n",
    "dairy = df_all_products[\"Product\"].isin(dairy_products)\n",
    "other_non_vegan = df_all_products[\"Product\"].isin(other_non_vegan_products)\n",
    "\n",
    "df_non_vegan_products = df_all_products[non_vegan]\n",
    "df_meat_products = df_all_products[meat]\n",
    "df_dairy_products = df_all_products[dairy]\n",
    "df_other_non_vegan_products = df_all_products[other_non_vegan]\n",
    "\n",
    "#non vegan\n",
    "df_non_vegan_products_land_use = df_non_vegan_products.iloc[:, [0, 3]]\n",
    "df_non_vegan_products_ghg_2013 = df_non_vegan_products.iloc[:, [0, 9]]\n",
    "df_non_vegan_products_ghg_2007 = df_non_vegan_products.iloc[:, [0, 15]]\n",
    "df_non_vegan_products_acid = df_non_vegan_products.iloc[:, [0, 21]]\n",
    "df_non_vegan_products_eutro = df_non_vegan_products.iloc[:, [0, 27]]\n",
    "df_non_vegan_products_fresh_water_withdraw = df_non_vegan_products.iloc[:, [0, 33]]\n",
    "df_non_vegan_products_stress_water_use = df_non_vegan_products.iloc[:, [0, 39]]\n",
    "\n",
    "#meat products\n",
    "df_meat_products_land_use = df_meat_products.iloc[:, [0, 3]]\n",
    "df_meat_products_ghg_2013 = df_meat_products.iloc[:, [0, 9]]\n",
    "df_meat_products_ghg_2007 = df_meat_products.iloc[:, [0, 15]]\n",
    "df_meat_products_acid = df_meat_products.iloc[:, [0, 21]]\n",
    "df_meat_products_eutro = df_meat_products.iloc[:, [0, 27]]\n",
    "df_meat_products_fresh_water_withdraw = df_meat_products.iloc[:, [0, 33]]\n",
    "df_meat_products_stress_water_use = df_meat_products.iloc[:, [0, 39]]\n",
    "#dairy\n",
    "df_dairy_products_land_use = df_dairy_products.iloc[:, [0, 3]]\n",
    "df_dairy_products_ghg_2013 = df_dairy_products.iloc[:, [0, 9]]\n",
    "df_dairy_products_ghg_2007 = df_dairy_products.iloc[:, [0, 15]]\n",
    "df_dairy_products_acid = df_dairy_products.iloc[:, [0, 21]]\n",
    "df_dairy_products_eutro = df_dairy_products.iloc[:, [0, 27]]\n",
    "df_dairy_products_fresh_water_withdraw = df_dairy_products.iloc[:, [0, 33]]\n",
    "df_dairy_products_stress_water_use = df_dairy_products.iloc[:, [0, 39]]\n",
    "\n",
    "#other non vegan\n",
    "df_other_non_vegan_products_land_use = df_other_non_vegan_products.iloc[:, [0, 3]]\n",
    "df_other_non_vegan_products_ghg_2013 = df_other_non_vegan_products.iloc[:, [0, 9]]\n",
    "df_other_non_vegan_products_ghg_2007 = df_other_non_vegan_products.iloc[:, [0, 15]]\n",
    "df_other_non_vegan_products_acid = df_other_non_vegan_products.iloc[:, [0, 21]]\n",
    "df_other_non_vegan_products_eutro = df_other_non_vegan_products.iloc[:, [0, 27]]\n",
    "df_other_non_vegan_products_fresh_water_withdraw = df_other_non_vegan_products.iloc[:, [0, 33]]\n",
    "df_other_non_vegan_products_stress_water_use = df_other_non_vegan_products.iloc[:, [0, 39]]\n",
    "\n",
    "\n",
    "#vegan products\n",
    "grains_products = ['Wheat & Rye (Bread)', 'Maize (Meal)', 'Oatmeal', 'Rice']\n",
    "vegetables_products = ['Potatoes', 'Cassava', 'Tomatoes', 'Onions & Leeks', 'Root Vegetables', 'Brassicas', 'Other Vegetables']\n",
    "fruits_products = ['Citrus Fruit', 'Bananas', 'Apples', 'Berries & Grapes', 'Other Fruit']\n",
    "legumes_products = ['Other Pulses', 'Peas', 'Nuts', 'Groundnuts']\n",
    "plant_based_alternatives_products = ['Soymilk', 'Tofu']\n",
    "oils_products = ['Soybean Oil', 'Sunflower Oil', 'Olive Oil']\n",
    "others_products = ['Coffee', 'Dark Chocolate']\n",
    "\n",
    "vegan = ~df_all_products['Product'].isin(non_vegan_products)\n",
    "grains = df_all_products[\"Product\"].isin(grains_products)\n",
    "vegetables = df_all_products[\"Product\"].isin(vegetables_products)\n",
    "fruits = df_all_products[\"Product\"].isin(fruits_products)\n",
    "legumes = df_all_products[\"Product\"].isin(legumes_products)\n",
    "plant_based_alternatives = df_all_products[\"Product\"].isin(plant_based_alternatives_products)\n",
    "oils = df_all_products[\"Product\"].isin(oils_products)\n",
    "others = df_all_products[\"Product\"].isin(others_products)\n",
    "\n",
    "\n",
    "df_vegan_products = df_all_products[vegan]\n",
    "df_grains_products = df_all_products[grains]\n",
    "df_vegetables_products = df_all_products[vegetables]\n",
    "df_fruits_products = df_all_products[fruits]\n",
    "df_legumes_products = df_all_products[legumes]\n",
    "df_plant_based_alternatives_products = df_all_products[plant_based_alternatives]\n",
    "df_oils_products = df_all_products[oils]\n",
    "df_others_products = df_all_products[others]\n",
    "\n",
    "#vegan\n",
    "df_vegan_products_land_use = df_vegan_products.iloc[:, [0, 3]]\n",
    "df_vegan_products_ghg_2013 = df_vegan_products.iloc[:, [0, 9]]\n",
    "df_vegan_products_ghg_2007 = df_vegan_products.iloc[:, [0, 15]]\n",
    "df_vegan_products_acid = df_vegan_products.iloc[:, [0, 21]]\n",
    "df_vegan_products_eutro = df_vegan_products.iloc[:, [0, 27]]\n",
    "df_vegan_products_fresh_water_withdraw = df_vegan_products.iloc[:, [0, 33]]\n",
    "df_vegan_products_stress_water_use = df_vegan_products.iloc[:, [0, 39]]\n",
    "\n",
    "# Define the data for the bar plots\n",
    "categories = ['Land use', 'GHG emission', 'Acidification', 'Eutrophication', 'Fresh Water Withdrawal', 'Stress Water Use']\n",
    "vegan_values = [df_vegan_products_land_use[\"Mean\"].sum(),\n",
    "                df_vegan_products_ghg_2013[\"Mean.1\"].sum(),\n",
    "                df_vegan_products_ghg_2007[\"Mean.2\"].sum(),\n",
    "                df_vegan_products_acid[\"Mean.3\"].sum(),\n",
    "                df_vegan_products_eutro[\"Mean.4\"].sum(),\n",
    "                df_vegan_products_fresh_water_withdraw[\"Mean.5\"].sum(),\n",
    "                df_vegan_products_stress_water_use[\"Mean.6\"].sum()]\n",
    "non_vegan_values = [df_non_vegan_products_land_use[\"Mean\"].sum(),\n",
    "                    df_non_vegan_products_ghg_2013[\"Mean.1\"].sum(),\n",
    "                    df_non_vegan_products_ghg_2007[\"Mean.2\"].sum(),\n",
    "                    df_non_vegan_products_acid[\"Mean.3\"].sum(),\n",
    "                    df_non_vegan_products_eutro[\"Mean.4\"].sum(),\n",
    "                    df_non_vegan_products_fresh_water_withdraw[\"Mean.5\"].sum(),\n",
    "                    df_non_vegan_products_stress_water_use[\"Mean.6\"].sum()]\n",
    "yaxvalues = ['(m2/FU)', '(kg CO2eq/FU)', '(kg CO2eq/FU)', '(g SO2eq/FU)', '(g PO43-eq/FU)', '(L/FU)', '(L/FU)']\n",
    "\n",
    "\n",
    "labels = [\"\", \"Non-vegan\", \"Vegan\"] + list(df_non_vegan_products[\"Product\"]) + list(df_vegan_products[\"Product\"])\n",
    "parents = [\"\", \"\", \"\"] + [\"Non-vegan\"] * len(df_non_vegan_products) + [\"Vegan\"] * len(df_vegan_products)\n",
    "\n",
    "# Creating the figure\n",
    "specs_list1 = []\n",
    "for i in range(3):\n",
    "    specs_list1.append({'type': 'bar'})\n",
    "specs_list = [specs_list1, specs_list1]\n",
    "\n",
    "fig = make_subplots(rows=2, cols=3, specs=specs_list, vertical_spacing=0.2)\n",
    "\n",
    "# Creating and adding the bar plots to the figure\n",
    "i = 0\n",
    "for category, vegan_value, non_vegan_value in zip(categories, vegan_values, non_vegan_values):\n",
    "    i += 1\n",
    "    if i < 4:\n",
    "        fig.add_trace(go.Bar(\n",
    "            x=['Vegan', 'Non-vegan'],\n",
    "            y=[vegan_value, non_vegan_value],\n",
    "            name=category,\n",
    "            marker_color=['darkgreen', 'darkred']\n",
    "        ), row=1, col=categories.index(category) + 1)\n",
    "        fig.update_xaxes(title_text=category, row=1, col=categories.index(category) + 1)\n",
    "        fig.update_yaxes(title_text=yaxvalues[categories.index(category)], row=1, col=categories.index(category) + 1)\n",
    "    else:\n",
    "        fig.add_trace(go.Bar(\n",
    "            x=['Vegan', 'Non-vegan'],\n",
    "            y=[vegan_value, non_vegan_value],\n",
    "            name=category,\n",
    "            marker_color=['darkgreen', 'darkred']\n",
    "        ), row=2, col=categories.index(category) - 2)\n",
    "\n",
    "        fig.update_xaxes(title_text=category, row=2, col=categories.index(category) - 2)\n",
    "        fig.update_yaxes(title_text=yaxvalues[categories.index(category)], row=2, col=categories.index(category) - 2)\n",
    "\n",
    "fig.update_layout(width = 1200, height=800,showlegend=False, title='Vegan vs Non-Vegan', title_x=0.5)\n",
    "fig.show()"
   ]
  },
  {
   "cell_type": "markdown",
   "id": "dbf82375-b2e8-4a22-b5a9-2c45b960d08a",
   "metadata": {},
   "source": [
    "> *Figure 2: Bar plots of vegan vs. non-vegan emissions.*"
   ]
  },
  {
   "cell_type": "markdown",
   "id": "c0bcecf9-e17c-477a-a229-55277d48fe64",
   "metadata": {},
   "source": [
    "These figures show the significant difference in land use and greenhouse gas emissions between vegan and non-vegan products. In all cases, square meters per fixture unit is used for land use, kg CO2 equivalent per fixture unit is used for GHG emissions.\n",
    "\n",
    "The figures are meant to support the perspective that the type of food matters more than the sourcing; we need to evaluate what\n",
    "it is we eat, not necessarily where it’s from."
   ]
  },
  {
   "cell_type": "markdown",
   "id": "b1aa5765",
   "metadata": {},
   "source": [
    "Lorem ipsum dolor sit amet, consectetuer adipiscing elit. Aenean commodo ligula eget dolor. Aenean massa. Cum sociis natoque penatibus et magnis dis parturient montes, nascetur ridiculus mus. Donec quam felis, ultricies nec, pellentesque eu, pretium quis, sem. Nulla consequat massa quis enim. Donec pede justo, fringilla vel, aliquet nec, vulputate eget, arcu."
   ]
  },
  {
   "cell_type": "code",
   "execution_count": null,
   "id": "ea402ec2",
   "metadata": {},
   "outputs": [
    {
     "data": {
      "application/vnd.plotly.v1+json": {
       "config": {
        "plotlyServerURL": "https://plot.ly"
       },
       "data": [
        {
         "dimensions": [
          {
           "categoryarray": [
            "Vegan",
            "Non-vegan"
           ],
           "categoryorder": "array",
           "label": "Vegan",
           "ticktext": [
            "Yes",
            "No"
           ],
           "values": [
            "Vegan",
            "Vegan",
            "Vegan",
            "Vegan",
            "Vegan",
            "Vegan",
            "Vegan",
            "Vegan",
            "Vegan",
            "Vegan",
            "Vegan",
            "Vegan",
            "Vegan",
            "Vegan",
            "Vegan",
            "Vegan",
            "Vegan",
            "Vegan",
            "Vegan",
            "Vegan",
            "Vegan",
            "Vegan",
            "Vegan",
            "Vegan",
            "Vegan",
            "Vegan",
            "Vegan",
            "Vegan",
            "Vegan",
            "Vegan",
            "Vegan",
            "Vegan",
            "Vegan",
            "Non-vegan",
            "Non-vegan",
            "Non-vegan",
            "Non-vegan",
            "Non-vegan",
            "Non-vegan",
            "Non-vegan",
            "Non-vegan",
            "Non-vegan",
            "Non-vegan"
           ]
          },
          {
           "categoryarray": [
            0,
            1,
            2,
            3
           ],
           "categoryorder": "array",
           "label": "Type",
           "ticktext": [
            "Crops",
            "Seafood",
            "Dairy",
            "Meat"
           ],
           "values": [
            0,
            0,
            0,
            0,
            0,
            0,
            0,
            0,
            0,
            0,
            0,
            0,
            0,
            0,
            0,
            0,
            0,
            0,
            0,
            0,
            0,
            0,
            0,
            0,
            0,
            0,
            0,
            0,
            0,
            0,
            0,
            0,
            0,
            2,
            2,
            2,
            2,
            2,
            3,
            3,
            3,
            1,
            1
           ]
          },
          {
           "categoryarray": [
            "low",
            "medium",
            "high"
           ],
           "categoryorder": "array",
           "label": "Land Use",
           "values": [
            "medium",
            "medium",
            "low",
            "medium",
            "medium",
            "low",
            "low",
            "medium",
            "low",
            "high",
            "medium",
            "medium",
            "medium",
            "low",
            "medium",
            "high",
            "medium",
            "high",
            "high",
            "high",
            "low",
            "low",
            "low",
            "low",
            "low",
            "low",
            "low",
            "low",
            "medium",
            "medium",
            "low",
            "high",
            "high",
            "high",
            "high",
            "high",
            "high",
            "high",
            "high",
            "high",
            "medium",
            "medium",
            "low"
           ]
          },
          {
           "categoryarray": [
            "low",
            "medium",
            "high"
           ],
           "categoryorder": "array",
           "label": "Eutrophication",
           "values": [
            "medium",
            "low",
            "low",
            "medium",
            "high",
            "low",
            "low",
            "medium",
            "low",
            "medium",
            "medium",
            "medium",
            "medium",
            "low",
            "medium",
            "medium",
            "medium",
            "high",
            "medium",
            "high",
            "medium",
            "low",
            "low",
            "low",
            "low",
            "low",
            "low",
            "low",
            "medium",
            "low",
            "low",
            "high",
            "high",
            "high",
            "high",
            "high",
            "high",
            "high",
            "medium",
            "high",
            "high",
            "high",
            "high"
           ]
          },
          {
           "categoryarray": [
            "low",
            "medium",
            "high"
           ],
           "categoryorder": "array",
           "label": "Freshwater Use",
           "values": [
            "high",
            "low",
            "low",
            "medium",
            "high",
            "low",
            "low",
            "medium",
            "medium",
            "medium",
            "medium",
            "high",
            "high",
            "low",
            "medium",
            "medium",
            "low",
            "high",
            "medium",
            "high",
            "medium",
            "low",
            "low",
            "low",
            "low",
            "low",
            "low",
            "medium",
            "medium",
            "low",
            "low",
            "low",
            "medium",
            "high",
            "high",
            "high",
            "high",
            "medium",
            "medium",
            "high",
            "high",
            "high",
            "high"
           ]
          },
          {
           "categoryarray": [
            "low",
            "medium",
            "high"
           ],
           "categoryorder": "array",
           "label": "Stress-weighted",
           "values": [
            "high",
            "medium",
            "low",
            "medium",
            "high",
            "low",
            "low",
            "medium",
            "medium",
            "high",
            "high",
            "high",
            "high",
            "low",
            "low",
            "medium",
            "low",
            "high",
            "medium",
            "high",
            "low",
            "low",
            "low",
            "medium",
            "low",
            "low",
            "low",
            "medium",
            "medium",
            "low",
            "medium",
            "low",
            "low",
            "high",
            "high",
            "high",
            "high",
            "medium",
            "medium",
            "high",
            "medium",
            "medium",
            "high"
           ]
          },
          {
           "categoryarray": [
            "low",
            "medium",
            "high"
           ],
           "categoryorder": "array",
           "label": "GHG Emissions",
           "values": [
            "medium",
            "low",
            "low",
            "medium",
            "medium",
            "low",
            "low",
            "medium",
            "medium",
            "medium",
            "low",
            "low",
            "medium",
            "low",
            "medium",
            "high",
            "high",
            "medium",
            "medium",
            "high",
            "medium",
            "low",
            "low",
            "low",
            "low",
            "low",
            "low",
            "low",
            "medium",
            "medium",
            "low",
            "high",
            "high",
            "high",
            "high",
            "high",
            "high",
            "high",
            "medium",
            "high",
            "high",
            "high",
            "high"
           ]
          }
         ],
         "line": {
          "color": [
           0,
           0,
           0,
           0,
           0,
           0,
           0,
           0,
           0,
           0,
           0,
           0,
           0,
           0,
           0,
           0,
           0,
           0,
           0,
           0,
           0,
           0,
           0,
           0,
           0,
           0,
           0,
           0,
           0,
           0,
           0,
           0,
           0,
           2,
           2,
           2,
           2,
           2,
           3,
           3,
           3,
           1,
           1
          ],
          "colorscale": [
           [
            0,
            "#35A85A"
           ],
           [
            0.33,
            "#1092d1"
           ],
           [
            0.66,
            "#fd9a04"
           ],
           [
            1,
            "#ff1a0d"
           ]
          ]
         },
         "type": "parcats"
        }
       ],
       "layout": {
        "template": {
         "data": {
          "bar": [
           {
            "error_x": {
             "color": "#2a3f5f"
            },
            "error_y": {
             "color": "#2a3f5f"
            },
            "marker": {
             "line": {
              "color": "#E5ECF6",
              "width": 0.5
             },
             "pattern": {
              "fillmode": "overlay",
              "size": 10,
              "solidity": 0.2
             }
            },
            "type": "bar"
           }
          ],
          "barpolar": [
           {
            "marker": {
             "line": {
              "color": "#E5ECF6",
              "width": 0.5
             },
             "pattern": {
              "fillmode": "overlay",
              "size": 10,
              "solidity": 0.2
             }
            },
            "type": "barpolar"
           }
          ],
          "carpet": [
           {
            "aaxis": {
             "endlinecolor": "#2a3f5f",
             "gridcolor": "white",
             "linecolor": "white",
             "minorgridcolor": "white",
             "startlinecolor": "#2a3f5f"
            },
            "baxis": {
             "endlinecolor": "#2a3f5f",
             "gridcolor": "white",
             "linecolor": "white",
             "minorgridcolor": "white",
             "startlinecolor": "#2a3f5f"
            },
            "type": "carpet"
           }
          ],
          "choropleth": [
           {
            "colorbar": {
             "outlinewidth": 0,
             "ticks": ""
            },
            "type": "choropleth"
           }
          ],
          "contour": [
           {
            "colorbar": {
             "outlinewidth": 0,
             "ticks": ""
            },
            "colorscale": [
             [
              0,
              "#0d0887"
             ],
             [
              0.1111111111111111,
              "#46039f"
             ],
             [
              0.2222222222222222,
              "#7201a8"
             ],
             [
              0.3333333333333333,
              "#9c179e"
             ],
             [
              0.4444444444444444,
              "#bd3786"
             ],
             [
              0.5555555555555556,
              "#d8576b"
             ],
             [
              0.6666666666666666,
              "#ed7953"
             ],
             [
              0.7777777777777778,
              "#fb9f3a"
             ],
             [
              0.8888888888888888,
              "#fdca26"
             ],
             [
              1,
              "#f0f921"
             ]
            ],
            "type": "contour"
           }
          ],
          "contourcarpet": [
           {
            "colorbar": {
             "outlinewidth": 0,
             "ticks": ""
            },
            "type": "contourcarpet"
           }
          ],
          "heatmap": [
           {
            "colorbar": {
             "outlinewidth": 0,
             "ticks": ""
            },
            "colorscale": [
             [
              0,
              "#0d0887"
             ],
             [
              0.1111111111111111,
              "#46039f"
             ],
             [
              0.2222222222222222,
              "#7201a8"
             ],
             [
              0.3333333333333333,
              "#9c179e"
             ],
             [
              0.4444444444444444,
              "#bd3786"
             ],
             [
              0.5555555555555556,
              "#d8576b"
             ],
             [
              0.6666666666666666,
              "#ed7953"
             ],
             [
              0.7777777777777778,
              "#fb9f3a"
             ],
             [
              0.8888888888888888,
              "#fdca26"
             ],
             [
              1,
              "#f0f921"
             ]
            ],
            "type": "heatmap"
           }
          ],
          "heatmapgl": [
           {
            "colorbar": {
             "outlinewidth": 0,
             "ticks": ""
            },
            "colorscale": [
             [
              0,
              "#0d0887"
             ],
             [
              0.1111111111111111,
              "#46039f"
             ],
             [
              0.2222222222222222,
              "#7201a8"
             ],
             [
              0.3333333333333333,
              "#9c179e"
             ],
             [
              0.4444444444444444,
              "#bd3786"
             ],
             [
              0.5555555555555556,
              "#d8576b"
             ],
             [
              0.6666666666666666,
              "#ed7953"
             ],
             [
              0.7777777777777778,
              "#fb9f3a"
             ],
             [
              0.8888888888888888,
              "#fdca26"
             ],
             [
              1,
              "#f0f921"
             ]
            ],
            "type": "heatmapgl"
           }
          ],
          "histogram": [
           {
            "marker": {
             "pattern": {
              "fillmode": "overlay",
              "size": 10,
              "solidity": 0.2
             }
            },
            "type": "histogram"
           }
          ],
          "histogram2d": [
           {
            "colorbar": {
             "outlinewidth": 0,
             "ticks": ""
            },
            "colorscale": [
             [
              0,
              "#0d0887"
             ],
             [
              0.1111111111111111,
              "#46039f"
             ],
             [
              0.2222222222222222,
              "#7201a8"
             ],
             [
              0.3333333333333333,
              "#9c179e"
             ],
             [
              0.4444444444444444,
              "#bd3786"
             ],
             [
              0.5555555555555556,
              "#d8576b"
             ],
             [
              0.6666666666666666,
              "#ed7953"
             ],
             [
              0.7777777777777778,
              "#fb9f3a"
             ],
             [
              0.8888888888888888,
              "#fdca26"
             ],
             [
              1,
              "#f0f921"
             ]
            ],
            "type": "histogram2d"
           }
          ],
          "histogram2dcontour": [
           {
            "colorbar": {
             "outlinewidth": 0,
             "ticks": ""
            },
            "colorscale": [
             [
              0,
              "#0d0887"
             ],
             [
              0.1111111111111111,
              "#46039f"
             ],
             [
              0.2222222222222222,
              "#7201a8"
             ],
             [
              0.3333333333333333,
              "#9c179e"
             ],
             [
              0.4444444444444444,
              "#bd3786"
             ],
             [
              0.5555555555555556,
              "#d8576b"
             ],
             [
              0.6666666666666666,
              "#ed7953"
             ],
             [
              0.7777777777777778,
              "#fb9f3a"
             ],
             [
              0.8888888888888888,
              "#fdca26"
             ],
             [
              1,
              "#f0f921"
             ]
            ],
            "type": "histogram2dcontour"
           }
          ],
          "mesh3d": [
           {
            "colorbar": {
             "outlinewidth": 0,
             "ticks": ""
            },
            "type": "mesh3d"
           }
          ],
          "parcoords": [
           {
            "line": {
             "colorbar": {
              "outlinewidth": 0,
              "ticks": ""
             }
            },
            "type": "parcoords"
           }
          ],
          "pie": [
           {
            "automargin": true,
            "type": "pie"
           }
          ],
          "scatter": [
           {
            "fillpattern": {
             "fillmode": "overlay",
             "size": 10,
             "solidity": 0.2
            },
            "type": "scatter"
           }
          ],
          "scatter3d": [
           {
            "line": {
             "colorbar": {
              "outlinewidth": 0,
              "ticks": ""
             }
            },
            "marker": {
             "colorbar": {
              "outlinewidth": 0,
              "ticks": ""
             }
            },
            "type": "scatter3d"
           }
          ],
          "scattercarpet": [
           {
            "marker": {
             "colorbar": {
              "outlinewidth": 0,
              "ticks": ""
             }
            },
            "type": "scattercarpet"
           }
          ],
          "scattergeo": [
           {
            "marker": {
             "colorbar": {
              "outlinewidth": 0,
              "ticks": ""
             }
            },
            "type": "scattergeo"
           }
          ],
          "scattergl": [
           {
            "marker": {
             "colorbar": {
              "outlinewidth": 0,
              "ticks": ""
             }
            },
            "type": "scattergl"
           }
          ],
          "scattermapbox": [
           {
            "marker": {
             "colorbar": {
              "outlinewidth": 0,
              "ticks": ""
             }
            },
            "type": "scattermapbox"
           }
          ],
          "scatterpolar": [
           {
            "marker": {
             "colorbar": {
              "outlinewidth": 0,
              "ticks": ""
             }
            },
            "type": "scatterpolar"
           }
          ],
          "scatterpolargl": [
           {
            "marker": {
             "colorbar": {
              "outlinewidth": 0,
              "ticks": ""
             }
            },
            "type": "scatterpolargl"
           }
          ],
          "scatterternary": [
           {
            "marker": {
             "colorbar": {
              "outlinewidth": 0,
              "ticks": ""
             }
            },
            "type": "scatterternary"
           }
          ],
          "surface": [
           {
            "colorbar": {
             "outlinewidth": 0,
             "ticks": ""
            },
            "colorscale": [
             [
              0,
              "#0d0887"
             ],
             [
              0.1111111111111111,
              "#46039f"
             ],
             [
              0.2222222222222222,
              "#7201a8"
             ],
             [
              0.3333333333333333,
              "#9c179e"
             ],
             [
              0.4444444444444444,
              "#bd3786"
             ],
             [
              0.5555555555555556,
              "#d8576b"
             ],
             [
              0.6666666666666666,
              "#ed7953"
             ],
             [
              0.7777777777777778,
              "#fb9f3a"
             ],
             [
              0.8888888888888888,
              "#fdca26"
             ],
             [
              1,
              "#f0f921"
             ]
            ],
            "type": "surface"
           }
          ],
          "table": [
           {
            "cells": {
             "fill": {
              "color": "#EBF0F8"
             },
             "line": {
              "color": "white"
             }
            },
            "header": {
             "fill": {
              "color": "#C8D4E3"
             },
             "line": {
              "color": "white"
             }
            },
            "type": "table"
           }
          ]
         },
         "layout": {
          "annotationdefaults": {
           "arrowcolor": "#2a3f5f",
           "arrowhead": 0,
           "arrowwidth": 1
          },
          "autotypenumbers": "strict",
          "coloraxis": {
           "colorbar": {
            "outlinewidth": 0,
            "ticks": ""
           }
          },
          "colorscale": {
           "diverging": [
            [
             0,
             "#8e0152"
            ],
            [
             0.1,
             "#c51b7d"
            ],
            [
             0.2,
             "#de77ae"
            ],
            [
             0.3,
             "#f1b6da"
            ],
            [
             0.4,
             "#fde0ef"
            ],
            [
             0.5,
             "#f7f7f7"
            ],
            [
             0.6,
             "#e6f5d0"
            ],
            [
             0.7,
             "#b8e186"
            ],
            [
             0.8,
             "#7fbc41"
            ],
            [
             0.9,
             "#4d9221"
            ],
            [
             1,
             "#276419"
            ]
           ],
           "sequential": [
            [
             0,
             "#0d0887"
            ],
            [
             0.1111111111111111,
             "#46039f"
            ],
            [
             0.2222222222222222,
             "#7201a8"
            ],
            [
             0.3333333333333333,
             "#9c179e"
            ],
            [
             0.4444444444444444,
             "#bd3786"
            ],
            [
             0.5555555555555556,
             "#d8576b"
            ],
            [
             0.6666666666666666,
             "#ed7953"
            ],
            [
             0.7777777777777778,
             "#fb9f3a"
            ],
            [
             0.8888888888888888,
             "#fdca26"
            ],
            [
             1,
             "#f0f921"
            ]
           ],
           "sequentialminus": [
            [
             0,
             "#0d0887"
            ],
            [
             0.1111111111111111,
             "#46039f"
            ],
            [
             0.2222222222222222,
             "#7201a8"
            ],
            [
             0.3333333333333333,
             "#9c179e"
            ],
            [
             0.4444444444444444,
             "#bd3786"
            ],
            [
             0.5555555555555556,
             "#d8576b"
            ],
            [
             0.6666666666666666,
             "#ed7953"
            ],
            [
             0.7777777777777778,
             "#fb9f3a"
            ],
            [
             0.8888888888888888,
             "#fdca26"
            ],
            [
             1,
             "#f0f921"
            ]
           ]
          },
          "colorway": [
           "#636efa",
           "#EF553B",
           "#00cc96",
           "#ab63fa",
           "#FFA15A",
           "#19d3f3",
           "#FF6692",
           "#B6E880",
           "#FF97FF",
           "#FECB52"
          ],
          "font": {
           "color": "#2a3f5f"
          },
          "geo": {
           "bgcolor": "white",
           "lakecolor": "white",
           "landcolor": "#E5ECF6",
           "showlakes": true,
           "showland": true,
           "subunitcolor": "white"
          },
          "hoverlabel": {
           "align": "left"
          },
          "hovermode": "closest",
          "mapbox": {
           "style": "light"
          },
          "paper_bgcolor": "white",
          "plot_bgcolor": "#E5ECF6",
          "polar": {
           "angularaxis": {
            "gridcolor": "white",
            "linecolor": "white",
            "ticks": ""
           },
           "bgcolor": "#E5ECF6",
           "radialaxis": {
            "gridcolor": "white",
            "linecolor": "white",
            "ticks": ""
           }
          },
          "scene": {
           "xaxis": {
            "backgroundcolor": "#E5ECF6",
            "gridcolor": "white",
            "gridwidth": 2,
            "linecolor": "white",
            "showbackground": true,
            "ticks": "",
            "zerolinecolor": "white"
           },
           "yaxis": {
            "backgroundcolor": "#E5ECF6",
            "gridcolor": "white",
            "gridwidth": 2,
            "linecolor": "white",
            "showbackground": true,
            "ticks": "",
            "zerolinecolor": "white"
           },
           "zaxis": {
            "backgroundcolor": "#E5ECF6",
            "gridcolor": "white",
            "gridwidth": 2,
            "linecolor": "white",
            "showbackground": true,
            "ticks": "",
            "zerolinecolor": "white"
           }
          },
          "shapedefaults": {
           "line": {
            "color": "#2a3f5f"
           }
          },
          "ternary": {
           "aaxis": {
            "gridcolor": "white",
            "linecolor": "white",
            "ticks": ""
           },
           "baxis": {
            "gridcolor": "white",
            "linecolor": "white",
            "ticks": ""
           },
           "bgcolor": "#E5ECF6",
           "caxis": {
            "gridcolor": "white",
            "linecolor": "white",
            "ticks": ""
           }
          },
          "title": {
           "x": 0.05
          },
          "xaxis": {
           "automargin": true,
           "gridcolor": "white",
           "linecolor": "white",
           "ticks": "",
           "title": {
            "standoff": 15
           },
           "zerolinecolor": "white",
           "zerolinewidth": 2
          },
          "yaxis": {
           "automargin": true,
           "gridcolor": "white",
           "linecolor": "white",
           "ticks": "",
           "title": {
            "standoff": 15
           },
           "zerolinecolor": "white",
           "zerolinewidth": 2
          }
         }
        },
        "title": {
         "text": "Analysis of Environmental Factors"
        }
       }
      },
      "text/html": [
       "<div>                            <div id=\"d01c7f30-c3fd-4af6-bb20-63cfb1abb67f\" class=\"plotly-graph-div\" style=\"height:525px; width:100%;\"></div>            <script type=\"text/javascript\">                require([\"plotly\"], function(Plotly) {                    window.PLOTLYENV=window.PLOTLYENV || {};                                    if (document.getElementById(\"d01c7f30-c3fd-4af6-bb20-63cfb1abb67f\")) {                    Plotly.newPlot(                        \"d01c7f30-c3fd-4af6-bb20-63cfb1abb67f\",                        [{\"dimensions\":[{\"categoryarray\":[\"Vegan\",\"Non-vegan\"],\"categoryorder\":\"array\",\"label\":\"Vegan\",\"ticktext\":[\"Yes\",\"No\"],\"values\":[\"Vegan\",\"Vegan\",\"Vegan\",\"Vegan\",\"Vegan\",\"Vegan\",\"Vegan\",\"Vegan\",\"Vegan\",\"Vegan\",\"Vegan\",\"Vegan\",\"Vegan\",\"Vegan\",\"Vegan\",\"Vegan\",\"Vegan\",\"Vegan\",\"Vegan\",\"Vegan\",\"Vegan\",\"Vegan\",\"Vegan\",\"Vegan\",\"Vegan\",\"Vegan\",\"Vegan\",\"Vegan\",\"Vegan\",\"Vegan\",\"Vegan\",\"Vegan\",\"Vegan\",\"Non-vegan\",\"Non-vegan\",\"Non-vegan\",\"Non-vegan\",\"Non-vegan\",\"Non-vegan\",\"Non-vegan\",\"Non-vegan\",\"Non-vegan\",\"Non-vegan\"]},{\"categoryarray\":[0,1,2,3],\"categoryorder\":\"array\",\"label\":\"Type\",\"ticktext\":[\"Crops\",\"Seafood\",\"Dairy\",\"Meat\"],\"values\":[0,0,0,0,0,0,0,0,0,0,0,0,0,0,0,0,0,0,0,0,0,0,0,0,0,0,0,0,0,0,0,0,0,2,2,2,2,2,3,3,3,1,1]},{\"categoryarray\":[\"low\",\"medium\",\"high\"],\"categoryorder\":\"array\",\"label\":\"Land Use\",\"values\":[\"medium\",\"medium\",\"low\",\"medium\",\"medium\",\"low\",\"low\",\"medium\",\"low\",\"high\",\"medium\",\"medium\",\"medium\",\"low\",\"medium\",\"high\",\"medium\",\"high\",\"high\",\"high\",\"low\",\"low\",\"low\",\"low\",\"low\",\"low\",\"low\",\"low\",\"medium\",\"medium\",\"low\",\"high\",\"high\",\"high\",\"high\",\"high\",\"high\",\"high\",\"high\",\"high\",\"medium\",\"medium\",\"low\"]},{\"categoryarray\":[\"low\",\"medium\",\"high\"],\"categoryorder\":\"array\",\"label\":\"Eutrophication\",\"values\":[\"medium\",\"low\",\"low\",\"medium\",\"high\",\"low\",\"low\",\"medium\",\"low\",\"medium\",\"medium\",\"medium\",\"medium\",\"low\",\"medium\",\"medium\",\"medium\",\"high\",\"medium\",\"high\",\"medium\",\"low\",\"low\",\"low\",\"low\",\"low\",\"low\",\"low\",\"medium\",\"low\",\"low\",\"high\",\"high\",\"high\",\"high\",\"high\",\"high\",\"high\",\"medium\",\"high\",\"high\",\"high\",\"high\"]},{\"categoryarray\":[\"low\",\"medium\",\"high\"],\"categoryorder\":\"array\",\"label\":\"Freshwater Use\",\"values\":[\"high\",\"low\",\"low\",\"medium\",\"high\",\"low\",\"low\",\"medium\",\"medium\",\"medium\",\"medium\",\"high\",\"high\",\"low\",\"medium\",\"medium\",\"low\",\"high\",\"medium\",\"high\",\"medium\",\"low\",\"low\",\"low\",\"low\",\"low\",\"low\",\"medium\",\"medium\",\"low\",\"low\",\"low\",\"medium\",\"high\",\"high\",\"high\",\"high\",\"medium\",\"medium\",\"high\",\"high\",\"high\",\"high\"]},{\"categoryarray\":[\"low\",\"medium\",\"high\"],\"categoryorder\":\"array\",\"label\":\"Stress-weighted\",\"values\":[\"high\",\"medium\",\"low\",\"medium\",\"high\",\"low\",\"low\",\"medium\",\"medium\",\"high\",\"high\",\"high\",\"high\",\"low\",\"low\",\"medium\",\"low\",\"high\",\"medium\",\"high\",\"low\",\"low\",\"low\",\"medium\",\"low\",\"low\",\"low\",\"medium\",\"medium\",\"low\",\"medium\",\"low\",\"low\",\"high\",\"high\",\"high\",\"high\",\"medium\",\"medium\",\"high\",\"medium\",\"medium\",\"high\"]},{\"categoryarray\":[\"low\",\"medium\",\"high\"],\"categoryorder\":\"array\",\"label\":\"GHG Emissions\",\"values\":[\"medium\",\"low\",\"low\",\"medium\",\"medium\",\"low\",\"low\",\"medium\",\"medium\",\"medium\",\"low\",\"low\",\"medium\",\"low\",\"medium\",\"high\",\"high\",\"medium\",\"medium\",\"high\",\"medium\",\"low\",\"low\",\"low\",\"low\",\"low\",\"low\",\"low\",\"medium\",\"medium\",\"low\",\"high\",\"high\",\"high\",\"high\",\"high\",\"high\",\"high\",\"medium\",\"high\",\"high\",\"high\",\"high\"]}],\"line\":{\"color\":[0,0,0,0,0,0,0,0,0,0,0,0,0,0,0,0,0,0,0,0,0,0,0,0,0,0,0,0,0,0,0,0,0,2,2,2,2,2,3,3,3,1,1],\"colorscale\":[[0,\"#35A85A\"],[0.33,\"#1092d1\"],[0.66,\"#fd9a04\"],[1,\"#ff1a0d\"]]},\"type\":\"parcats\"}],                        {\"template\":{\"data\":{\"histogram2dcontour\":[{\"type\":\"histogram2dcontour\",\"colorbar\":{\"outlinewidth\":0,\"ticks\":\"\"},\"colorscale\":[[0.0,\"#0d0887\"],[0.1111111111111111,\"#46039f\"],[0.2222222222222222,\"#7201a8\"],[0.3333333333333333,\"#9c179e\"],[0.4444444444444444,\"#bd3786\"],[0.5555555555555556,\"#d8576b\"],[0.6666666666666666,\"#ed7953\"],[0.7777777777777778,\"#fb9f3a\"],[0.8888888888888888,\"#fdca26\"],[1.0,\"#f0f921\"]]}],\"choropleth\":[{\"type\":\"choropleth\",\"colorbar\":{\"outlinewidth\":0,\"ticks\":\"\"}}],\"histogram2d\":[{\"type\":\"histogram2d\",\"colorbar\":{\"outlinewidth\":0,\"ticks\":\"\"},\"colorscale\":[[0.0,\"#0d0887\"],[0.1111111111111111,\"#46039f\"],[0.2222222222222222,\"#7201a8\"],[0.3333333333333333,\"#9c179e\"],[0.4444444444444444,\"#bd3786\"],[0.5555555555555556,\"#d8576b\"],[0.6666666666666666,\"#ed7953\"],[0.7777777777777778,\"#fb9f3a\"],[0.8888888888888888,\"#fdca26\"],[1.0,\"#f0f921\"]]}],\"heatmap\":[{\"type\":\"heatmap\",\"colorbar\":{\"outlinewidth\":0,\"ticks\":\"\"},\"colorscale\":[[0.0,\"#0d0887\"],[0.1111111111111111,\"#46039f\"],[0.2222222222222222,\"#7201a8\"],[0.3333333333333333,\"#9c179e\"],[0.4444444444444444,\"#bd3786\"],[0.5555555555555556,\"#d8576b\"],[0.6666666666666666,\"#ed7953\"],[0.7777777777777778,\"#fb9f3a\"],[0.8888888888888888,\"#fdca26\"],[1.0,\"#f0f921\"]]}],\"heatmapgl\":[{\"type\":\"heatmapgl\",\"colorbar\":{\"outlinewidth\":0,\"ticks\":\"\"},\"colorscale\":[[0.0,\"#0d0887\"],[0.1111111111111111,\"#46039f\"],[0.2222222222222222,\"#7201a8\"],[0.3333333333333333,\"#9c179e\"],[0.4444444444444444,\"#bd3786\"],[0.5555555555555556,\"#d8576b\"],[0.6666666666666666,\"#ed7953\"],[0.7777777777777778,\"#fb9f3a\"],[0.8888888888888888,\"#fdca26\"],[1.0,\"#f0f921\"]]}],\"contourcarpet\":[{\"type\":\"contourcarpet\",\"colorbar\":{\"outlinewidth\":0,\"ticks\":\"\"}}],\"contour\":[{\"type\":\"contour\",\"colorbar\":{\"outlinewidth\":0,\"ticks\":\"\"},\"colorscale\":[[0.0,\"#0d0887\"],[0.1111111111111111,\"#46039f\"],[0.2222222222222222,\"#7201a8\"],[0.3333333333333333,\"#9c179e\"],[0.4444444444444444,\"#bd3786\"],[0.5555555555555556,\"#d8576b\"],[0.6666666666666666,\"#ed7953\"],[0.7777777777777778,\"#fb9f3a\"],[0.8888888888888888,\"#fdca26\"],[1.0,\"#f0f921\"]]}],\"surface\":[{\"type\":\"surface\",\"colorbar\":{\"outlinewidth\":0,\"ticks\":\"\"},\"colorscale\":[[0.0,\"#0d0887\"],[0.1111111111111111,\"#46039f\"],[0.2222222222222222,\"#7201a8\"],[0.3333333333333333,\"#9c179e\"],[0.4444444444444444,\"#bd3786\"],[0.5555555555555556,\"#d8576b\"],[0.6666666666666666,\"#ed7953\"],[0.7777777777777778,\"#fb9f3a\"],[0.8888888888888888,\"#fdca26\"],[1.0,\"#f0f921\"]]}],\"mesh3d\":[{\"type\":\"mesh3d\",\"colorbar\":{\"outlinewidth\":0,\"ticks\":\"\"}}],\"scatter\":[{\"fillpattern\":{\"fillmode\":\"overlay\",\"size\":10,\"solidity\":0.2},\"type\":\"scatter\"}],\"parcoords\":[{\"type\":\"parcoords\",\"line\":{\"colorbar\":{\"outlinewidth\":0,\"ticks\":\"\"}}}],\"scatterpolargl\":[{\"type\":\"scatterpolargl\",\"marker\":{\"colorbar\":{\"outlinewidth\":0,\"ticks\":\"\"}}}],\"bar\":[{\"error_x\":{\"color\":\"#2a3f5f\"},\"error_y\":{\"color\":\"#2a3f5f\"},\"marker\":{\"line\":{\"color\":\"#E5ECF6\",\"width\":0.5},\"pattern\":{\"fillmode\":\"overlay\",\"size\":10,\"solidity\":0.2}},\"type\":\"bar\"}],\"scattergeo\":[{\"type\":\"scattergeo\",\"marker\":{\"colorbar\":{\"outlinewidth\":0,\"ticks\":\"\"}}}],\"scatterpolar\":[{\"type\":\"scatterpolar\",\"marker\":{\"colorbar\":{\"outlinewidth\":0,\"ticks\":\"\"}}}],\"histogram\":[{\"marker\":{\"pattern\":{\"fillmode\":\"overlay\",\"size\":10,\"solidity\":0.2}},\"type\":\"histogram\"}],\"scattergl\":[{\"type\":\"scattergl\",\"marker\":{\"colorbar\":{\"outlinewidth\":0,\"ticks\":\"\"}}}],\"scatter3d\":[{\"type\":\"scatter3d\",\"line\":{\"colorbar\":{\"outlinewidth\":0,\"ticks\":\"\"}},\"marker\":{\"colorbar\":{\"outlinewidth\":0,\"ticks\":\"\"}}}],\"scattermapbox\":[{\"type\":\"scattermapbox\",\"marker\":{\"colorbar\":{\"outlinewidth\":0,\"ticks\":\"\"}}}],\"scatterternary\":[{\"type\":\"scatterternary\",\"marker\":{\"colorbar\":{\"outlinewidth\":0,\"ticks\":\"\"}}}],\"scattercarpet\":[{\"type\":\"scattercarpet\",\"marker\":{\"colorbar\":{\"outlinewidth\":0,\"ticks\":\"\"}}}],\"carpet\":[{\"aaxis\":{\"endlinecolor\":\"#2a3f5f\",\"gridcolor\":\"white\",\"linecolor\":\"white\",\"minorgridcolor\":\"white\",\"startlinecolor\":\"#2a3f5f\"},\"baxis\":{\"endlinecolor\":\"#2a3f5f\",\"gridcolor\":\"white\",\"linecolor\":\"white\",\"minorgridcolor\":\"white\",\"startlinecolor\":\"#2a3f5f\"},\"type\":\"carpet\"}],\"table\":[{\"cells\":{\"fill\":{\"color\":\"#EBF0F8\"},\"line\":{\"color\":\"white\"}},\"header\":{\"fill\":{\"color\":\"#C8D4E3\"},\"line\":{\"color\":\"white\"}},\"type\":\"table\"}],\"barpolar\":[{\"marker\":{\"line\":{\"color\":\"#E5ECF6\",\"width\":0.5},\"pattern\":{\"fillmode\":\"overlay\",\"size\":10,\"solidity\":0.2}},\"type\":\"barpolar\"}],\"pie\":[{\"automargin\":true,\"type\":\"pie\"}]},\"layout\":{\"autotypenumbers\":\"strict\",\"colorway\":[\"#636efa\",\"#EF553B\",\"#00cc96\",\"#ab63fa\",\"#FFA15A\",\"#19d3f3\",\"#FF6692\",\"#B6E880\",\"#FF97FF\",\"#FECB52\"],\"font\":{\"color\":\"#2a3f5f\"},\"hovermode\":\"closest\",\"hoverlabel\":{\"align\":\"left\"},\"paper_bgcolor\":\"white\",\"plot_bgcolor\":\"#E5ECF6\",\"polar\":{\"bgcolor\":\"#E5ECF6\",\"angularaxis\":{\"gridcolor\":\"white\",\"linecolor\":\"white\",\"ticks\":\"\"},\"radialaxis\":{\"gridcolor\":\"white\",\"linecolor\":\"white\",\"ticks\":\"\"}},\"ternary\":{\"bgcolor\":\"#E5ECF6\",\"aaxis\":{\"gridcolor\":\"white\",\"linecolor\":\"white\",\"ticks\":\"\"},\"baxis\":{\"gridcolor\":\"white\",\"linecolor\":\"white\",\"ticks\":\"\"},\"caxis\":{\"gridcolor\":\"white\",\"linecolor\":\"white\",\"ticks\":\"\"}},\"coloraxis\":{\"colorbar\":{\"outlinewidth\":0,\"ticks\":\"\"}},\"colorscale\":{\"sequential\":[[0.0,\"#0d0887\"],[0.1111111111111111,\"#46039f\"],[0.2222222222222222,\"#7201a8\"],[0.3333333333333333,\"#9c179e\"],[0.4444444444444444,\"#bd3786\"],[0.5555555555555556,\"#d8576b\"],[0.6666666666666666,\"#ed7953\"],[0.7777777777777778,\"#fb9f3a\"],[0.8888888888888888,\"#fdca26\"],[1.0,\"#f0f921\"]],\"sequentialminus\":[[0.0,\"#0d0887\"],[0.1111111111111111,\"#46039f\"],[0.2222222222222222,\"#7201a8\"],[0.3333333333333333,\"#9c179e\"],[0.4444444444444444,\"#bd3786\"],[0.5555555555555556,\"#d8576b\"],[0.6666666666666666,\"#ed7953\"],[0.7777777777777778,\"#fb9f3a\"],[0.8888888888888888,\"#fdca26\"],[1.0,\"#f0f921\"]],\"diverging\":[[0,\"#8e0152\"],[0.1,\"#c51b7d\"],[0.2,\"#de77ae\"],[0.3,\"#f1b6da\"],[0.4,\"#fde0ef\"],[0.5,\"#f7f7f7\"],[0.6,\"#e6f5d0\"],[0.7,\"#b8e186\"],[0.8,\"#7fbc41\"],[0.9,\"#4d9221\"],[1,\"#276419\"]]},\"xaxis\":{\"gridcolor\":\"white\",\"linecolor\":\"white\",\"ticks\":\"\",\"title\":{\"standoff\":15},\"zerolinecolor\":\"white\",\"automargin\":true,\"zerolinewidth\":2},\"yaxis\":{\"gridcolor\":\"white\",\"linecolor\":\"white\",\"ticks\":\"\",\"title\":{\"standoff\":15},\"zerolinecolor\":\"white\",\"automargin\":true,\"zerolinewidth\":2},\"scene\":{\"xaxis\":{\"backgroundcolor\":\"#E5ECF6\",\"gridcolor\":\"white\",\"linecolor\":\"white\",\"showbackground\":true,\"ticks\":\"\",\"zerolinecolor\":\"white\",\"gridwidth\":2},\"yaxis\":{\"backgroundcolor\":\"#E5ECF6\",\"gridcolor\":\"white\",\"linecolor\":\"white\",\"showbackground\":true,\"ticks\":\"\",\"zerolinecolor\":\"white\",\"gridwidth\":2},\"zaxis\":{\"backgroundcolor\":\"#E5ECF6\",\"gridcolor\":\"white\",\"linecolor\":\"white\",\"showbackground\":true,\"ticks\":\"\",\"zerolinecolor\":\"white\",\"gridwidth\":2}},\"shapedefaults\":{\"line\":{\"color\":\"#2a3f5f\"}},\"annotationdefaults\":{\"arrowcolor\":\"#2a3f5f\",\"arrowhead\":0,\"arrowwidth\":1},\"geo\":{\"bgcolor\":\"white\",\"landcolor\":\"#E5ECF6\",\"subunitcolor\":\"white\",\"showland\":true,\"showlakes\":true,\"lakecolor\":\"white\"},\"title\":{\"x\":0.05},\"mapbox\":{\"style\":\"light\"}}},\"title\":{\"text\":\"Analysis of Environmental Factors\"}},                        {\"responsive\": true}                    ).then(function(){\n",
       "                            \n",
       "var gd = document.getElementById('d01c7f30-c3fd-4af6-bb20-63cfb1abb67f');\n",
       "var x = new MutationObserver(function (mutations, observer) {{\n",
       "        var display = window.getComputedStyle(gd).display;\n",
       "        if (!display || display === 'none') {{\n",
       "            console.log([gd, 'removed!']);\n",
       "            Plotly.purge(gd);\n",
       "            observer.disconnect();\n",
       "        }}\n",
       "}});\n",
       "\n",
       "// Listen for the removal of the full notebook cells\n",
       "var notebookContainer = gd.closest('#notebook-container');\n",
       "if (notebookContainer) {{\n",
       "    x.observe(notebookContainer, {childList: true});\n",
       "}}\n",
       "\n",
       "// Listen for the clearing of the current output cell\n",
       "var outputEl = gd.closest('.output');\n",
       "if (outputEl) {{\n",
       "    x.observe(outputEl, {childList: true});\n",
       "}}\n",
       "\n",
       "                        })                };                });            </script>        </div>"
      ]
     },
     "metadata": {},
     "output_type": "display_data"
    }
   ],
   "source": [
    "df_land = pd.read_excel('dataset1.xls', sheet_name=2, skiprows=2, nrows=43, usecols=\"A, C:E\")\n",
    "df_land['Total'] = df_land[['Arable', 'Fallow', 'Perm Past']].sum(axis=1)\n",
    "\n",
    "df_ghg = pd.read_excel('dataset1.xls', sheet_name=2, skiprows=2, nrows=43, usecols=\"A, F:L\")\n",
    "df_ghg['Total'] = df_ghg[['LUC', 'Feed', 'Farm', 'Processing', 'Transport', 'Packging', 'Retail']].sum(axis=1)\n",
    "\n",
    "df_eutr = pd.read_excel('dataset1.xls', sheet_name=2, skiprows=2, nrows=43, usecols=\"A, N\")\n",
    "df_eutr.rename(columns={\"Total.1\": \"Total\"}, inplace=True)\n",
    "\n",
    "df_fresh = pd.read_excel('dataset1.xls', sheet_name=2, skiprows=2, nrows=43, usecols=\"A, O\")\n",
    "df_fresh.rename(columns={\"Total.2\": \"Total\"}, inplace=True)\n",
    "\n",
    "df_stress = pd.read_excel('dataset1.xls', sheet_name=2, skiprows=2, nrows=43, usecols=\"A, P\")\n",
    "df_stress.rename(columns={\"Total.3\": \"Total\"}, inplace=True)\n",
    "\n",
    "crop_color = '#35A85A'\n",
    "meat_color = '#ff1a0d'\n",
    "dairy_color = '#fd9a04'\n",
    "seafood_color = '#1092d1'\n",
    "\n",
    "\n",
    "# Combine the dataframes into a single dataframe\n",
    "df_combined = pd.concat([df_land['Total'], df_ghg['Total'], df_eutr['Total'], df_fresh['Total'], df_stress['Total']], axis=1)\n",
    "df_combined.columns = ['Land Use', 'GHG Emissions', 'Eutrophication', 'Freshwater Use', 'Stress-weighted Water Use']\n",
    "\n",
    "# Define custom colors for GHG Emissions\n",
    "df_combined[df_combined.columns] = df_combined[df_combined.columns].apply(lambda x: pd.qcut(x, q=3, labels=['low', 'medium', 'high']))\n",
    "# color_mapping = {'low': 'lightsteelblue', 'medium': 'mediumseagreen', 'high': 'salmon'}\n",
    "# colors = [color_mapping[category] for category in df_combined['GHG Emissions']]\n",
    "\n",
    "# assigns categories\n",
    "df_combined['Type'] = 0\n",
    "df_combined.loc[33:37, 'Type'] = 2\n",
    "df_combined.loc[38:40, 'Type'] = 3\n",
    "df_combined.loc[41:42, 'Type'] = 1\n",
    "\n",
    "df_combined['Class'] = 'Vegan'\n",
    "df_combined.loc[33:42, 'Class'] = 'Non-vegan'\n",
    "\n",
    "colorscale = [[0, crop_color], [0.33, seafood_color], [0.66, dairy_color], [1, meat_color]];\n",
    "colors = df_combined['Type'];\n",
    "\n",
    "highlighted = ['Olive Oil', 'Bovine Meat (beef herd)', 'Cheese', 'Lamb & Mutton', 'Dark Chocolate', 'Fish (farmed)', 'Eggs', 'Poultry Meat', 'Milk', 'Potatoes', 'Milk', 'Rice', 'Soymilk', 'Nuts', 'Bananas', 'Apples']\n",
    "\n",
    "\n",
    "# Create Parallel categories plot\n",
    "dimensions = [\n",
    "    go.parcats.Dimension(values=df_combined['Class'], label='Vegan', categoryorder='array', categoryarray=['Vegan', 'Non-vegan'], ticktext=['Yes', 'No']),\n",
    "    go.parcats.Dimension(values=df_combined['Type'], label='Type', categoryorder='array', categoryarray=[0, 1, 2, 3], ticktext=['Crops', 'Seafood', 'Dairy', 'Meat']),\n",
    "    go.parcats.Dimension(values=df_combined['Land Use'], label='Land Use', categoryorder='array', categoryarray=['low', 'medium', 'high']),\n",
    "    go.parcats.Dimension(values=df_combined['Eutrophication'], label='Eutrophication', categoryorder='array', categoryarray=['low', 'medium', 'high']),\n",
    "    go.parcats.Dimension(values=df_combined['Freshwater Use'], label='Freshwater Use', categoryorder='array', categoryarray=['low', 'medium', 'high']),\n",
    "    go.parcats.Dimension(values=df_combined['Stress-weighted Water Use'], label='Stress-weighted', categoryorder='array', categoryarray=['low', 'medium', 'high']),\n",
    "    go.parcats.Dimension(values=df_combined['GHG Emissions'], label='GHG Emissions', categoryorder='array', categoryarray=['low', 'medium', 'high'])\n",
    "]\n",
    "\n",
    "parcats_trace = go.Parcats(dimensions=dimensions, line={'color': colors, 'colorscale':colorscale})\n",
    "\n",
    "fig = go.Figure(data=parcats_trace)\n",
    "fig.update_layout(title='Analysis of Environmental Factors')\n",
    "fig.show()\n"
   ]
  },
  {
   "cell_type": "markdown",
   "id": "07b06cf4",
   "metadata": {},
   "source": [
    "> *Figure 3: Parallel categories plot of vegan vs. non-vegan emissions.*"
   ]
  },
  {
   "cell_type": "markdown",
   "id": "71be698e",
   "metadata": {},
   "source": [
    "Lorem ipsum dolor sit amet, consectetuer adipiscing elit. Aenean commodo ligula eget dolor. Aenean massa. Cum sociis natoque penatibus et magnis dis parturient montes, nascetur ridiculus mus. Donec quam felis, ultricies nec, pellentesque eu, pretium quis, sem. Nulla consequat massa quis enim. Donec pede justo, fringilla vel, aliquet nec, vulputate eget, arcu."
   ]
  },
  {
   "cell_type": "markdown",
   "id": "e1ec4c90-ccd9-4940-9a0e-18799c438ef5",
   "metadata": {},
   "source": [
    "## We need to grow food locally"
   ]
  },
  {
   "cell_type": "markdown",
   "id": "005e94a9",
   "metadata": {},
   "source": [
    "Lorem ipsum dolor sit amet, consectetuer adipiscing elit. Aenean commodo ligula eget dolor. Aenean massa. Cum sociis natoque penatibus et magnis dis parturient montes, nascetur ridiculus mus. Donec quam felis, ultricies nec, pellentesque eu, pretium quis, sem. Nulla consequat massa quis enim. Donec pede justo, fringilla vel, aliquet nec, vulputate eget, arcu."
   ]
  },
  {
   "cell_type": "markdown",
   "id": "4a3eacb4-4812-474a-9900-71e2ac33cb5f",
   "metadata": {},
   "source": [
    "### Transport emissions are crippling"
   ]
  },
  {
   "cell_type": "markdown",
   "id": "62b3848e-5c37-482c-a584-c7c2a02a1e95",
   "metadata": {},
   "source": [
    "Phasellus viverra nulla ut metus varius laoreet. Quisque rutrum. Aenean imperdiet. Etiam ultricies nisi vel augue. Curabitur ullamcorper ultricies nisi. Nam eget dui. Etiam rhoncus. Maecenas tempus, tellus eget condimentum rhoncus, sem quam semper libero, sit amet adipiscing sem neque sed ipsum. Nam quam nunc, blandit vel, luctus pulvinar, hendrerit id, lorem. Maecenas nec odio et ante tincidunt tempus. Donec vitae sapien ut libero venenatis faucibus. Nullam quis ante. Etiam sit amet orci eget eros faucibus tincidunt. Duis leo. Sed fringilla mauris sit amet nibh. Donec sodales sagittis magna. Sed consequat, leo eget bibendum sodales, augue velit cursus nunc."
   ]
  },
  {
   "cell_type": "code",
   "execution_count": null,
   "id": "982ff45f",
   "metadata": {
    "tags": [
     "hide-input"
    ]
   },
   "outputs": [
    {
     "data": {
      "application/vnd.plotly.v1+json": {
       "config": {
        "plotlyServerURL": "https://plot.ly"
       },
       "data": [
        {
         "customdata": [
          [
           "Wheat & Rye (Bread)"
          ],
          [
           "Maize (Meal)"
          ],
          [
           "Barley (Beer)"
          ],
          [
           "Oatmeal"
          ],
          [
           "Rice"
          ],
          [
           "Potatoes"
          ],
          [
           "Cassava"
          ],
          [
           "Cane Sugar"
          ],
          [
           "Beet Sugar"
          ],
          [
           "Other Pulses"
          ],
          [
           "Peas"
          ],
          [
           "Nuts"
          ],
          [
           "Groundnuts"
          ],
          [
           "Soymilk"
          ],
          [
           "Tofu"
          ],
          [
           "Soybean Oil"
          ],
          [
           "Palm Oil"
          ],
          [
           "Sunflower Oil"
          ],
          [
           "Rapeseed Oil"
          ],
          [
           "Olive Oil"
          ],
          [
           "Tomatoes"
          ],
          [
           "Onions & Leeks"
          ],
          [
           "Root Vegetables"
          ],
          [
           "Brassicas"
          ],
          [
           "Other Vegetables"
          ],
          [
           "Citrus Fruit"
          ],
          [
           "Bananas"
          ],
          [
           "Apples"
          ],
          [
           "Berries & Grapes"
          ],
          [
           "Wine"
          ],
          [
           "Other Fruit"
          ],
          [
           "Coffee"
          ],
          [
           "Dark Chocolate"
          ],
          [
           "Bovine Meat (beef herd)"
          ],
          [
           "Bovine Meat (dairy herd)"
          ],
          [
           "Lamb & Mutton"
          ],
          [
           "Pig Meat"
          ],
          [
           "Poultry Meat"
          ],
          [
           "Milk"
          ],
          [
           "Cheese"
          ],
          [
           "Eggs"
          ],
          [
           "Fish (farmed)"
          ],
          [
           "Crustaceans (farmed)"
          ]
         ],
         "hoverinfo": "name+x+y",
         "hovertemplate": "Amount produced=%{x}<br>Total=%{y}<br>Product=%{customdata[0]}<extra></extra>",
         "legendgroup": "",
         "marker": {
          "color": [
           0,
           0,
           0,
           0,
           0,
           0,
           0,
           0,
           0,
           0,
           0,
           0,
           0,
           0,
           0,
           0,
           0,
           0,
           0,
           0,
           0,
           0,
           0,
           0,
           0,
           0,
           0,
           0,
           0,
           0,
           0,
           0,
           0,
           2,
           2,
           2,
           2,
           2,
           1,
           1,
           1,
           3,
           3
          ],
          "colorscale": [
           [
            0,
            "#35A85A"
           ],
           [
            0.33,
            "#fd9a04"
           ],
           [
            0.66,
            "#ff1a0d"
           ],
           [
            1,
            "#1092d1"
           ]
          ],
          "opacity": [
           0.35,
           0.35,
           0.35,
           0.35,
           0.8,
           0.8,
           0.35,
           0.35,
           0.35,
           0.35,
           0.35,
           0.8,
           0.35,
           0.8,
           0.35,
           0.35,
           0.35,
           0.35,
           0.35,
           0.8,
           0.35,
           0.35,
           0.35,
           0.35,
           0.35,
           0.35,
           0.8,
           0.8,
           0.35,
           0.35,
           0.35,
           0.35,
           0.8,
           0.8,
           0.35,
           0.8,
           0.35,
           0.8,
           0.8,
           0.8,
           0.8,
           0.8,
           0.8
          ],
          "size": 10,
          "symbol": "circle"
         },
         "mode": "markers+text",
         "name": "",
         "orientation": "v",
         "showlegend": false,
         "text": [
          null,
          null,
          null,
          null,
          "Rice",
          "Potatoes",
          null,
          null,
          null,
          null,
          null,
          "Nuts",
          null,
          "Soymilk",
          null,
          null,
          null,
          null,
          null,
          "Olive Oil",
          null,
          null,
          null,
          null,
          null,
          null,
          "Bananas",
          "Apples",
          null,
          null,
          null,
          null,
          "Dark Chocolate",
          "Bovine Meat (beef herd)",
          null,
          "Lamb & Mutton",
          null,
          "Poultry Meat",
          "Milk",
          "Cheese",
          "Eggs",
          "Fish (farmed)",
          "Crustaceans (farmed)"
         ],
         "textfont": {
          "size": 12
         },
         "textposition": "top center",
         "type": "scatter",
         "x": [
          482152,
          194554,
          206523,
          4463,
          397780,
          332343,
          173814,
          141702,
          34038,
          42765,
          6026,
          15296,
          11827,
          33318,
          11853,
          24148,
          16691,
          9554,
          10311,
          2997,
          148957,
          77927,
          35154,
          77045,
          654375,
          127923,
          128971,
          75781,
          67079,
          26013,
          210650,
          7778,
          4416,
          40571,
          31425,
          14195,
          112892,
          96439,
          470267,
          21191,
          63489,
          45223,
          10633
         ],
         "xaxis": "x",
         "y": [
          1.441,
          0.9880000000000002,
          1.109,
          1.575,
          3.8390000000000004,
          0.37,
          0.987,
          2.672,
          1.536,
          1.6099999999999999,
          0.896,
          0.27799999999999986,
          2.4970000000000003,
          0.914,
          2.871,
          6.117000000000001,
          7.605,
          3.607,
          3.828,
          5.944000000000001,
          1.427,
          0.39499999999999996,
          0.365,
          0.437,
          0.455,
          0.317,
          0.678,
          0.35700000000000004,
          1.214,
          1.5849999999999997,
          0.75,
          16.477,
          18.680999999999997,
          59.56999999999999,
          21.085,
          24.415,
          7.282,
          6.091999999999999,
          2.7809999999999997,
          21.240000000000002,
          4.506999999999999,
          5.182999999999999,
          11.853999999999997
         ],
         "yaxis": "y"
        },
        {
         "marker": {
          "color": "#35A85A",
          "size": 10
         },
         "mode": "markers",
         "name": "Crops",
         "showlegend": true,
         "type": "scatter",
         "x": [
          null
         ],
         "y": [
          null
         ]
        },
        {
         "marker": {
          "color": "#1092d1",
          "size": 10
         },
         "mode": "markers",
         "name": "Seafood",
         "showlegend": true,
         "type": "scatter",
         "x": [
          null
         ],
         "y": [
          null
         ]
        },
        {
         "marker": {
          "color": "#fd9a04",
          "size": 10
         },
         "mode": "markers",
         "name": "Dairy",
         "showlegend": true,
         "type": "scatter",
         "x": [
          null
         ],
         "y": [
          null
         ]
        },
        {
         "marker": {
          "color": "#ff1a0d",
          "size": 10
         },
         "mode": "markers",
         "name": "Meat",
         "showlegend": true,
         "type": "scatter",
         "x": [
          null
         ],
         "y": [
          null
         ]
        }
       ],
       "layout": {
        "height": 500,
        "legend": {
         "tracegroupgap": 0
        },
        "template": {
         "data": {
          "bar": [
           {
            "error_x": {
             "color": "#2a3f5f"
            },
            "error_y": {
             "color": "#2a3f5f"
            },
            "marker": {
             "line": {
              "color": "#E5ECF6",
              "width": 0.5
             },
             "pattern": {
              "fillmode": "overlay",
              "size": 10,
              "solidity": 0.2
             }
            },
            "type": "bar"
           }
          ],
          "barpolar": [
           {
            "marker": {
             "line": {
              "color": "#E5ECF6",
              "width": 0.5
             },
             "pattern": {
              "fillmode": "overlay",
              "size": 10,
              "solidity": 0.2
             }
            },
            "type": "barpolar"
           }
          ],
          "carpet": [
           {
            "aaxis": {
             "endlinecolor": "#2a3f5f",
             "gridcolor": "white",
             "linecolor": "white",
             "minorgridcolor": "white",
             "startlinecolor": "#2a3f5f"
            },
            "baxis": {
             "endlinecolor": "#2a3f5f",
             "gridcolor": "white",
             "linecolor": "white",
             "minorgridcolor": "white",
             "startlinecolor": "#2a3f5f"
            },
            "type": "carpet"
           }
          ],
          "choropleth": [
           {
            "colorbar": {
             "outlinewidth": 0,
             "ticks": ""
            },
            "type": "choropleth"
           }
          ],
          "contour": [
           {
            "colorbar": {
             "outlinewidth": 0,
             "ticks": ""
            },
            "colorscale": [
             [
              0,
              "#0d0887"
             ],
             [
              0.1111111111111111,
              "#46039f"
             ],
             [
              0.2222222222222222,
              "#7201a8"
             ],
             [
              0.3333333333333333,
              "#9c179e"
             ],
             [
              0.4444444444444444,
              "#bd3786"
             ],
             [
              0.5555555555555556,
              "#d8576b"
             ],
             [
              0.6666666666666666,
              "#ed7953"
             ],
             [
              0.7777777777777778,
              "#fb9f3a"
             ],
             [
              0.8888888888888888,
              "#fdca26"
             ],
             [
              1,
              "#f0f921"
             ]
            ],
            "type": "contour"
           }
          ],
          "contourcarpet": [
           {
            "colorbar": {
             "outlinewidth": 0,
             "ticks": ""
            },
            "type": "contourcarpet"
           }
          ],
          "heatmap": [
           {
            "colorbar": {
             "outlinewidth": 0,
             "ticks": ""
            },
            "colorscale": [
             [
              0,
              "#0d0887"
             ],
             [
              0.1111111111111111,
              "#46039f"
             ],
             [
              0.2222222222222222,
              "#7201a8"
             ],
             [
              0.3333333333333333,
              "#9c179e"
             ],
             [
              0.4444444444444444,
              "#bd3786"
             ],
             [
              0.5555555555555556,
              "#d8576b"
             ],
             [
              0.6666666666666666,
              "#ed7953"
             ],
             [
              0.7777777777777778,
              "#fb9f3a"
             ],
             [
              0.8888888888888888,
              "#fdca26"
             ],
             [
              1,
              "#f0f921"
             ]
            ],
            "type": "heatmap"
           }
          ],
          "heatmapgl": [
           {
            "colorbar": {
             "outlinewidth": 0,
             "ticks": ""
            },
            "colorscale": [
             [
              0,
              "#0d0887"
             ],
             [
              0.1111111111111111,
              "#46039f"
             ],
             [
              0.2222222222222222,
              "#7201a8"
             ],
             [
              0.3333333333333333,
              "#9c179e"
             ],
             [
              0.4444444444444444,
              "#bd3786"
             ],
             [
              0.5555555555555556,
              "#d8576b"
             ],
             [
              0.6666666666666666,
              "#ed7953"
             ],
             [
              0.7777777777777778,
              "#fb9f3a"
             ],
             [
              0.8888888888888888,
              "#fdca26"
             ],
             [
              1,
              "#f0f921"
             ]
            ],
            "type": "heatmapgl"
           }
          ],
          "histogram": [
           {
            "marker": {
             "pattern": {
              "fillmode": "overlay",
              "size": 10,
              "solidity": 0.2
             }
            },
            "type": "histogram"
           }
          ],
          "histogram2d": [
           {
            "colorbar": {
             "outlinewidth": 0,
             "ticks": ""
            },
            "colorscale": [
             [
              0,
              "#0d0887"
             ],
             [
              0.1111111111111111,
              "#46039f"
             ],
             [
              0.2222222222222222,
              "#7201a8"
             ],
             [
              0.3333333333333333,
              "#9c179e"
             ],
             [
              0.4444444444444444,
              "#bd3786"
             ],
             [
              0.5555555555555556,
              "#d8576b"
             ],
             [
              0.6666666666666666,
              "#ed7953"
             ],
             [
              0.7777777777777778,
              "#fb9f3a"
             ],
             [
              0.8888888888888888,
              "#fdca26"
             ],
             [
              1,
              "#f0f921"
             ]
            ],
            "type": "histogram2d"
           }
          ],
          "histogram2dcontour": [
           {
            "colorbar": {
             "outlinewidth": 0,
             "ticks": ""
            },
            "colorscale": [
             [
              0,
              "#0d0887"
             ],
             [
              0.1111111111111111,
              "#46039f"
             ],
             [
              0.2222222222222222,
              "#7201a8"
             ],
             [
              0.3333333333333333,
              "#9c179e"
             ],
             [
              0.4444444444444444,
              "#bd3786"
             ],
             [
              0.5555555555555556,
              "#d8576b"
             ],
             [
              0.6666666666666666,
              "#ed7953"
             ],
             [
              0.7777777777777778,
              "#fb9f3a"
             ],
             [
              0.8888888888888888,
              "#fdca26"
             ],
             [
              1,
              "#f0f921"
             ]
            ],
            "type": "histogram2dcontour"
           }
          ],
          "mesh3d": [
           {
            "colorbar": {
             "outlinewidth": 0,
             "ticks": ""
            },
            "type": "mesh3d"
           }
          ],
          "parcoords": [
           {
            "line": {
             "colorbar": {
              "outlinewidth": 0,
              "ticks": ""
             }
            },
            "type": "parcoords"
           }
          ],
          "pie": [
           {
            "automargin": true,
            "type": "pie"
           }
          ],
          "scatter": [
           {
            "fillpattern": {
             "fillmode": "overlay",
             "size": 10,
             "solidity": 0.2
            },
            "type": "scatter"
           }
          ],
          "scatter3d": [
           {
            "line": {
             "colorbar": {
              "outlinewidth": 0,
              "ticks": ""
             }
            },
            "marker": {
             "colorbar": {
              "outlinewidth": 0,
              "ticks": ""
             }
            },
            "type": "scatter3d"
           }
          ],
          "scattercarpet": [
           {
            "marker": {
             "colorbar": {
              "outlinewidth": 0,
              "ticks": ""
             }
            },
            "type": "scattercarpet"
           }
          ],
          "scattergeo": [
           {
            "marker": {
             "colorbar": {
              "outlinewidth": 0,
              "ticks": ""
             }
            },
            "type": "scattergeo"
           }
          ],
          "scattergl": [
           {
            "marker": {
             "colorbar": {
              "outlinewidth": 0,
              "ticks": ""
             }
            },
            "type": "scattergl"
           }
          ],
          "scattermapbox": [
           {
            "marker": {
             "colorbar": {
              "outlinewidth": 0,
              "ticks": ""
             }
            },
            "type": "scattermapbox"
           }
          ],
          "scatterpolar": [
           {
            "marker": {
             "colorbar": {
              "outlinewidth": 0,
              "ticks": ""
             }
            },
            "type": "scatterpolar"
           }
          ],
          "scatterpolargl": [
           {
            "marker": {
             "colorbar": {
              "outlinewidth": 0,
              "ticks": ""
             }
            },
            "type": "scatterpolargl"
           }
          ],
          "scatterternary": [
           {
            "marker": {
             "colorbar": {
              "outlinewidth": 0,
              "ticks": ""
             }
            },
            "type": "scatterternary"
           }
          ],
          "surface": [
           {
            "colorbar": {
             "outlinewidth": 0,
             "ticks": ""
            },
            "colorscale": [
             [
              0,
              "#0d0887"
             ],
             [
              0.1111111111111111,
              "#46039f"
             ],
             [
              0.2222222222222222,
              "#7201a8"
             ],
             [
              0.3333333333333333,
              "#9c179e"
             ],
             [
              0.4444444444444444,
              "#bd3786"
             ],
             [
              0.5555555555555556,
              "#d8576b"
             ],
             [
              0.6666666666666666,
              "#ed7953"
             ],
             [
              0.7777777777777778,
              "#fb9f3a"
             ],
             [
              0.8888888888888888,
              "#fdca26"
             ],
             [
              1,
              "#f0f921"
             ]
            ],
            "type": "surface"
           }
          ],
          "table": [
           {
            "cells": {
             "fill": {
              "color": "#EBF0F8"
             },
             "line": {
              "color": "white"
             }
            },
            "header": {
             "fill": {
              "color": "#C8D4E3"
             },
             "line": {
              "color": "white"
             }
            },
            "type": "table"
           }
          ]
         },
         "layout": {
          "annotationdefaults": {
           "arrowcolor": "#2a3f5f",
           "arrowhead": 0,
           "arrowwidth": 1
          },
          "autotypenumbers": "strict",
          "coloraxis": {
           "colorbar": {
            "outlinewidth": 0,
            "ticks": ""
           }
          },
          "colorscale": {
           "diverging": [
            [
             0,
             "#8e0152"
            ],
            [
             0.1,
             "#c51b7d"
            ],
            [
             0.2,
             "#de77ae"
            ],
            [
             0.3,
             "#f1b6da"
            ],
            [
             0.4,
             "#fde0ef"
            ],
            [
             0.5,
             "#f7f7f7"
            ],
            [
             0.6,
             "#e6f5d0"
            ],
            [
             0.7,
             "#b8e186"
            ],
            [
             0.8,
             "#7fbc41"
            ],
            [
             0.9,
             "#4d9221"
            ],
            [
             1,
             "#276419"
            ]
           ],
           "sequential": [
            [
             0,
             "#0d0887"
            ],
            [
             0.1111111111111111,
             "#46039f"
            ],
            [
             0.2222222222222222,
             "#7201a8"
            ],
            [
             0.3333333333333333,
             "#9c179e"
            ],
            [
             0.4444444444444444,
             "#bd3786"
            ],
            [
             0.5555555555555556,
             "#d8576b"
            ],
            [
             0.6666666666666666,
             "#ed7953"
            ],
            [
             0.7777777777777778,
             "#fb9f3a"
            ],
            [
             0.8888888888888888,
             "#fdca26"
            ],
            [
             1,
             "#f0f921"
            ]
           ],
           "sequentialminus": [
            [
             0,
             "#0d0887"
            ],
            [
             0.1111111111111111,
             "#46039f"
            ],
            [
             0.2222222222222222,
             "#7201a8"
            ],
            [
             0.3333333333333333,
             "#9c179e"
            ],
            [
             0.4444444444444444,
             "#bd3786"
            ],
            [
             0.5555555555555556,
             "#d8576b"
            ],
            [
             0.6666666666666666,
             "#ed7953"
            ],
            [
             0.7777777777777778,
             "#fb9f3a"
            ],
            [
             0.8888888888888888,
             "#fdca26"
            ],
            [
             1,
             "#f0f921"
            ]
           ]
          },
          "colorway": [
           "#636efa",
           "#EF553B",
           "#00cc96",
           "#ab63fa",
           "#FFA15A",
           "#19d3f3",
           "#FF6692",
           "#B6E880",
           "#FF97FF",
           "#FECB52"
          ],
          "font": {
           "color": "#2a3f5f"
          },
          "geo": {
           "bgcolor": "white",
           "lakecolor": "white",
           "landcolor": "#E5ECF6",
           "showlakes": true,
           "showland": true,
           "subunitcolor": "white"
          },
          "hoverlabel": {
           "align": "left"
          },
          "hovermode": "closest",
          "mapbox": {
           "style": "light"
          },
          "paper_bgcolor": "white",
          "plot_bgcolor": "#E5ECF6",
          "polar": {
           "angularaxis": {
            "gridcolor": "white",
            "linecolor": "white",
            "ticks": ""
           },
           "bgcolor": "#E5ECF6",
           "radialaxis": {
            "gridcolor": "white",
            "linecolor": "white",
            "ticks": ""
           }
          },
          "scene": {
           "xaxis": {
            "backgroundcolor": "#E5ECF6",
            "gridcolor": "white",
            "gridwidth": 2,
            "linecolor": "white",
            "showbackground": true,
            "ticks": "",
            "zerolinecolor": "white"
           },
           "yaxis": {
            "backgroundcolor": "#E5ECF6",
            "gridcolor": "white",
            "gridwidth": 2,
            "linecolor": "white",
            "showbackground": true,
            "ticks": "",
            "zerolinecolor": "white"
           },
           "zaxis": {
            "backgroundcolor": "#E5ECF6",
            "gridcolor": "white",
            "gridwidth": 2,
            "linecolor": "white",
            "showbackground": true,
            "ticks": "",
            "zerolinecolor": "white"
           }
          },
          "shapedefaults": {
           "line": {
            "color": "#2a3f5f"
           }
          },
          "ternary": {
           "aaxis": {
            "gridcolor": "white",
            "linecolor": "white",
            "ticks": ""
           },
           "baxis": {
            "gridcolor": "white",
            "linecolor": "white",
            "ticks": ""
           },
           "bgcolor": "#E5ECF6",
           "caxis": {
            "gridcolor": "white",
            "linecolor": "white",
            "ticks": ""
           }
          },
          "title": {
           "x": 0.05
          },
          "xaxis": {
           "automargin": true,
           "gridcolor": "white",
           "linecolor": "white",
           "ticks": "",
           "title": {
            "standoff": 15
           },
           "zerolinecolor": "white",
           "zerolinewidth": 2
          },
          "yaxis": {
           "automargin": true,
           "gridcolor": "white",
           "linecolor": "white",
           "ticks": "",
           "title": {
            "standoff": 15
           },
           "zerolinecolor": "white",
           "zerolinewidth": 2
          }
         }
        },
        "title": {
         "text": "GHG impact and global production",
         "x": 0.5
        },
        "updatemenus": [
         {
          "buttons": [
           {
            "args": [
             {
              "y": [
               [
                1.441,
                0.9880000000000002,
                1.109,
                1.575,
                3.8390000000000004,
                0.37,
                0.987,
                2.672,
                1.536,
                1.6099999999999999,
                0.896,
                0.27799999999999986,
                2.4970000000000003,
                0.914,
                2.871,
                6.117000000000001,
                7.605,
                3.607,
                3.828,
                5.944000000000001,
                1.427,
                0.39499999999999996,
                0.365,
                0.437,
                0.455,
                0.317,
                0.678,
                0.35700000000000004,
                1.214,
                1.5849999999999997,
                0.75,
                16.477,
                18.680999999999997,
                59.56999999999999,
                21.085,
                24.415,
                7.282,
                6.091999999999999,
                2.7809999999999997,
                21.240000000000002,
                4.506999999999999,
                5.182999999999999,
                11.853999999999997
               ]
              ]
             },
             {
              "yaxis": {
               "title": {
                "text": "Total emissions"
               }
              }
             }
            ],
            "label": "Total emissions",
            "method": "update"
           },
           {
            "args": [
             {
              "y": [
               [
                0.01209,
                0.00673,
                0.00612,
                0.00697,
                0.02357,
                0.00323,
                0.00298,
                0.01537,
                0.01076,
                0.01913,
                0.00759,
                0.01904,
                0.01792,
                0.0025,
                0.00625,
                0.0157,
                0.01832,
                0.02735,
                0.0288,
                0.04108,
                0.01143,
                0.00304,
                0.00253,
                0.00686,
                0.00531,
                0.00306,
                0.00469,
                0.00291,
                0.00989,
                0.01128,
                0.00438,
                0.04608,
                0.01659,
                0.18929,
                0.20946,
                0.08726,
                0.08265,
                0.06439,
                0.01766,
                0.14894,
                0.05182,
                0.025,
                0.05977
               ]
              ]
             },
             {
              "yaxis": {
               "title": {
                "text": "Acidification"
               }
              }
             }
            ],
            "label": "Acidification",
            "method": "update"
           },
           {
            "args": [
             {
              "y": [
               [
                0.00706,
                0.00226,
                0.00211,
                0.00705,
                0.02972,
                0.00255,
                0.00056,
                0.0136,
                0.00437,
                0.01501,
                0.00683,
                0.0088,
                0.01117,
                0.00097,
                0.00553,
                0.01123,
                0.01089,
                0.05061,
                0.01939,
                0.04024,
                0.00481,
                0.0023,
                0.00132,
                0.00414,
                0.00186,
                0.00157,
                0.00225,
                0.00115,
                0.00531,
                0.00402,
                0.00179,
                0.0602,
                0.03061,
                0.17747,
                0.20883,
                0.05965,
                0.04416,
                0.02957,
                0.00934,
                0.08875,
                0.02102,
                0.09207,
                0.09787
               ]
              ]
             },
             {
              "yaxis": {
               "title": {
                "text": "Eutrophication"
               }
              }
             }
            ],
            "label": "Eutrophication",
            "method": "update"
           },
           {
            "args": [
             {
              "y": [
               [
                567,
                120,
                15,
                302,
                1962,
                43,
                0,
                492,
                170,
                364,
                353,
                1914,
                1431,
                26,
                139,
                418,
                7,
                943,
                234,
                2322,
                235,
                11,
                23,
                97,
                83,
                65,
                86,
                140,
                292,
                68,
                119,
                14,
                209,
                871,
                1650,
                1082,
                1073,
                402,
                533,
                4735,
                556,
                1315,
                1394
               ]
              ]
             },
             {
              "yaxis": {
               "title": {
                "text": "Freshwater"
               }
              }
             }
            ],
            "label": "Freshwater",
            "method": "update"
           },
           {
            "args": [
             {
              "y": [
               [
                28918,
                6007,
                604,
                11774,
                43275,
                2027,
                0,
                13096,
                7413,
                18670,
                24856,
                106382,
                48147,
                894,
                4785,
                15039,
                37,
                34064,
                10412,
                192719,
                4013,
                746,
                776,
                6878,
                3958,
                3678,
                491,
                10007,
                15180,
                1003,
                7771,
                182,
                1097,
                21163,
                75339,
                85193,
                40028,
                8828,
                16951,
                155464,
                17315,
                13691,
                50685
               ]
              ]
             },
             {
              "yaxis": {
               "title": {
                "text": "Stress-weighted water usage"
               }
              }
             }
            ],
            "label": "Stress-weighted water usage",
            "method": "update"
           }
          ],
          "x": 0,
          "y": 1.2
         }
        ],
        "xaxis": {
         "anchor": "y",
         "domain": [
          0,
          1
         ],
         "title": {
          "text": "Global production (tonnes)"
         },
         "type": "log"
        },
        "yaxis": {
         "anchor": "x",
         "domain": [
          0,
          1
         ],
         "title": {
          "text": "Emissions (kg CO2eq / kg)"
         }
        }
       }
      },
      "text/html": [
       "<div>                            <div id=\"7b053a14-3173-4302-a1e9-3be86f3f9a14\" class=\"plotly-graph-div\" style=\"height:500px; width:100%;\"></div>            <script type=\"text/javascript\">                require([\"plotly\"], function(Plotly) {                    window.PLOTLYENV=window.PLOTLYENV || {};                                    if (document.getElementById(\"7b053a14-3173-4302-a1e9-3be86f3f9a14\")) {                    Plotly.newPlot(                        \"7b053a14-3173-4302-a1e9-3be86f3f9a14\",                        [{\"customdata\":[[\"Wheat & Rye (Bread)\"],[\"Maize (Meal)\"],[\"Barley (Beer)\"],[\"Oatmeal\"],[\"Rice\"],[\"Potatoes\"],[\"Cassava\"],[\"Cane Sugar\"],[\"Beet Sugar\"],[\"Other Pulses\"],[\"Peas\"],[\"Nuts\"],[\"Groundnuts\"],[\"Soymilk\"],[\"Tofu\"],[\"Soybean Oil\"],[\"Palm Oil\"],[\"Sunflower Oil\"],[\"Rapeseed Oil\"],[\"Olive Oil\"],[\"Tomatoes\"],[\"Onions & Leeks\"],[\"Root Vegetables\"],[\"Brassicas\"],[\"Other Vegetables\"],[\"Citrus Fruit\"],[\"Bananas\"],[\"Apples\"],[\"Berries & Grapes\"],[\"Wine\"],[\"Other Fruit\"],[\"Coffee\"],[\"Dark Chocolate\"],[\"Bovine Meat (beef herd)\"],[\"Bovine Meat (dairy herd)\"],[\"Lamb & Mutton\"],[\"Pig Meat\"],[\"Poultry Meat\"],[\"Milk\"],[\"Cheese\"],[\"Eggs\"],[\"Fish (farmed)\"],[\"Crustaceans (farmed)\"]],\"hovertemplate\":\"Amount produced=%{x}\\u003cbr\\u003eTotal=%{y}\\u003cbr\\u003eProduct=%{customdata[0]}\\u003cextra\\u003e\\u003c\\u002fextra\\u003e\",\"legendgroup\":\"\",\"marker\":{\"color\":[0,0,0,0,0,0,0,0,0,0,0,0,0,0,0,0,0,0,0,0,0,0,0,0,0,0,0,0,0,0,0,0,0,2,2,2,2,2,1,1,1,3,3],\"symbol\":\"circle\",\"colorscale\":[[0,\"#35A85A\"],[0.33,\"#fd9a04\"],[0.66,\"#ff1a0d\"],[1,\"#1092d1\"]],\"opacity\":[0.35,0.35,0.35,0.35,0.8,0.8,0.35,0.35,0.35,0.35,0.35,0.8,0.35,0.8,0.35,0.35,0.35,0.35,0.35,0.8,0.35,0.35,0.35,0.35,0.35,0.35,0.8,0.8,0.35,0.35,0.35,0.35,0.8,0.8,0.35,0.8,0.35,0.8,0.8,0.8,0.8,0.8,0.8],\"size\":10},\"mode\":\"markers+text\",\"name\":\"\",\"orientation\":\"v\",\"showlegend\":false,\"text\":[null,null,null,null,\"Rice\",\"Potatoes\",null,null,null,null,null,\"Nuts\",null,\"Soymilk\",null,null,null,null,null,\"Olive Oil\",null,null,null,null,null,null,\"Bananas\",\"Apples\",null,null,null,null,\"Dark Chocolate\",\"Bovine Meat (beef herd)\",null,\"Lamb & Mutton\",null,\"Poultry Meat\",\"Milk\",\"Cheese\",\"Eggs\",\"Fish (farmed)\",\"Crustaceans (farmed)\"],\"x\":[482152,194554,206523,4463,397780,332343,173814,141702,34038,42765,6026,15296,11827,33318,11853,24148,16691,9554,10311,2997,148957,77927,35154,77045,654375,127923,128971,75781,67079,26013,210650,7778,4416,40571,31425,14195,112892,96439,470267,21191,63489,45223,10633],\"xaxis\":\"x\",\"y\":[1.441,0.9880000000000002,1.109,1.575,3.8390000000000004,0.37,0.987,2.672,1.536,1.6099999999999999,0.896,0.27799999999999986,2.4970000000000003,0.914,2.871,6.117000000000001,7.605,3.607,3.828,5.944000000000001,1.427,0.39499999999999996,0.365,0.437,0.455,0.317,0.678,0.35700000000000004,1.214,1.5849999999999997,0.75,16.477,18.680999999999997,59.56999999999999,21.085,24.415,7.282,6.091999999999999,2.7809999999999997,21.240000000000002,4.506999999999999,5.182999999999999,11.853999999999997],\"yaxis\":\"y\",\"type\":\"scatter\",\"textfont\":{\"size\":12},\"hoverinfo\":\"name+x+y\",\"textposition\":\"top center\"},{\"marker\":{\"color\":\"#35A85A\",\"size\":10},\"mode\":\"markers\",\"name\":\"Crops\",\"showlegend\":true,\"x\":[null],\"y\":[null],\"type\":\"scatter\"},{\"marker\":{\"color\":\"#1092d1\",\"size\":10},\"mode\":\"markers\",\"name\":\"Seafood\",\"showlegend\":true,\"x\":[null],\"y\":[null],\"type\":\"scatter\"},{\"marker\":{\"color\":\"#fd9a04\",\"size\":10},\"mode\":\"markers\",\"name\":\"Dairy\",\"showlegend\":true,\"x\":[null],\"y\":[null],\"type\":\"scatter\"},{\"marker\":{\"color\":\"#ff1a0d\",\"size\":10},\"mode\":\"markers\",\"name\":\"Meat\",\"showlegend\":true,\"x\":[null],\"y\":[null],\"type\":\"scatter\"}],                        {\"template\":{\"data\":{\"histogram2dcontour\":[{\"type\":\"histogram2dcontour\",\"colorbar\":{\"outlinewidth\":0,\"ticks\":\"\"},\"colorscale\":[[0.0,\"#0d0887\"],[0.1111111111111111,\"#46039f\"],[0.2222222222222222,\"#7201a8\"],[0.3333333333333333,\"#9c179e\"],[0.4444444444444444,\"#bd3786\"],[0.5555555555555556,\"#d8576b\"],[0.6666666666666666,\"#ed7953\"],[0.7777777777777778,\"#fb9f3a\"],[0.8888888888888888,\"#fdca26\"],[1.0,\"#f0f921\"]]}],\"choropleth\":[{\"type\":\"choropleth\",\"colorbar\":{\"outlinewidth\":0,\"ticks\":\"\"}}],\"histogram2d\":[{\"type\":\"histogram2d\",\"colorbar\":{\"outlinewidth\":0,\"ticks\":\"\"},\"colorscale\":[[0.0,\"#0d0887\"],[0.1111111111111111,\"#46039f\"],[0.2222222222222222,\"#7201a8\"],[0.3333333333333333,\"#9c179e\"],[0.4444444444444444,\"#bd3786\"],[0.5555555555555556,\"#d8576b\"],[0.6666666666666666,\"#ed7953\"],[0.7777777777777778,\"#fb9f3a\"],[0.8888888888888888,\"#fdca26\"],[1.0,\"#f0f921\"]]}],\"heatmap\":[{\"type\":\"heatmap\",\"colorbar\":{\"outlinewidth\":0,\"ticks\":\"\"},\"colorscale\":[[0.0,\"#0d0887\"],[0.1111111111111111,\"#46039f\"],[0.2222222222222222,\"#7201a8\"],[0.3333333333333333,\"#9c179e\"],[0.4444444444444444,\"#bd3786\"],[0.5555555555555556,\"#d8576b\"],[0.6666666666666666,\"#ed7953\"],[0.7777777777777778,\"#fb9f3a\"],[0.8888888888888888,\"#fdca26\"],[1.0,\"#f0f921\"]]}],\"heatmapgl\":[{\"type\":\"heatmapgl\",\"colorbar\":{\"outlinewidth\":0,\"ticks\":\"\"},\"colorscale\":[[0.0,\"#0d0887\"],[0.1111111111111111,\"#46039f\"],[0.2222222222222222,\"#7201a8\"],[0.3333333333333333,\"#9c179e\"],[0.4444444444444444,\"#bd3786\"],[0.5555555555555556,\"#d8576b\"],[0.6666666666666666,\"#ed7953\"],[0.7777777777777778,\"#fb9f3a\"],[0.8888888888888888,\"#fdca26\"],[1.0,\"#f0f921\"]]}],\"contourcarpet\":[{\"type\":\"contourcarpet\",\"colorbar\":{\"outlinewidth\":0,\"ticks\":\"\"}}],\"contour\":[{\"type\":\"contour\",\"colorbar\":{\"outlinewidth\":0,\"ticks\":\"\"},\"colorscale\":[[0.0,\"#0d0887\"],[0.1111111111111111,\"#46039f\"],[0.2222222222222222,\"#7201a8\"],[0.3333333333333333,\"#9c179e\"],[0.4444444444444444,\"#bd3786\"],[0.5555555555555556,\"#d8576b\"],[0.6666666666666666,\"#ed7953\"],[0.7777777777777778,\"#fb9f3a\"],[0.8888888888888888,\"#fdca26\"],[1.0,\"#f0f921\"]]}],\"surface\":[{\"type\":\"surface\",\"colorbar\":{\"outlinewidth\":0,\"ticks\":\"\"},\"colorscale\":[[0.0,\"#0d0887\"],[0.1111111111111111,\"#46039f\"],[0.2222222222222222,\"#7201a8\"],[0.3333333333333333,\"#9c179e\"],[0.4444444444444444,\"#bd3786\"],[0.5555555555555556,\"#d8576b\"],[0.6666666666666666,\"#ed7953\"],[0.7777777777777778,\"#fb9f3a\"],[0.8888888888888888,\"#fdca26\"],[1.0,\"#f0f921\"]]}],\"mesh3d\":[{\"type\":\"mesh3d\",\"colorbar\":{\"outlinewidth\":0,\"ticks\":\"\"}}],\"scatter\":[{\"fillpattern\":{\"fillmode\":\"overlay\",\"size\":10,\"solidity\":0.2},\"type\":\"scatter\"}],\"parcoords\":[{\"type\":\"parcoords\",\"line\":{\"colorbar\":{\"outlinewidth\":0,\"ticks\":\"\"}}}],\"scatterpolargl\":[{\"type\":\"scatterpolargl\",\"marker\":{\"colorbar\":{\"outlinewidth\":0,\"ticks\":\"\"}}}],\"bar\":[{\"error_x\":{\"color\":\"#2a3f5f\"},\"error_y\":{\"color\":\"#2a3f5f\"},\"marker\":{\"line\":{\"color\":\"#E5ECF6\",\"width\":0.5},\"pattern\":{\"fillmode\":\"overlay\",\"size\":10,\"solidity\":0.2}},\"type\":\"bar\"}],\"scattergeo\":[{\"type\":\"scattergeo\",\"marker\":{\"colorbar\":{\"outlinewidth\":0,\"ticks\":\"\"}}}],\"scatterpolar\":[{\"type\":\"scatterpolar\",\"marker\":{\"colorbar\":{\"outlinewidth\":0,\"ticks\":\"\"}}}],\"histogram\":[{\"marker\":{\"pattern\":{\"fillmode\":\"overlay\",\"size\":10,\"solidity\":0.2}},\"type\":\"histogram\"}],\"scattergl\":[{\"type\":\"scattergl\",\"marker\":{\"colorbar\":{\"outlinewidth\":0,\"ticks\":\"\"}}}],\"scatter3d\":[{\"type\":\"scatter3d\",\"line\":{\"colorbar\":{\"outlinewidth\":0,\"ticks\":\"\"}},\"marker\":{\"colorbar\":{\"outlinewidth\":0,\"ticks\":\"\"}}}],\"scattermapbox\":[{\"type\":\"scattermapbox\",\"marker\":{\"colorbar\":{\"outlinewidth\":0,\"ticks\":\"\"}}}],\"scatterternary\":[{\"type\":\"scatterternary\",\"marker\":{\"colorbar\":{\"outlinewidth\":0,\"ticks\":\"\"}}}],\"scattercarpet\":[{\"type\":\"scattercarpet\",\"marker\":{\"colorbar\":{\"outlinewidth\":0,\"ticks\":\"\"}}}],\"carpet\":[{\"aaxis\":{\"endlinecolor\":\"#2a3f5f\",\"gridcolor\":\"white\",\"linecolor\":\"white\",\"minorgridcolor\":\"white\",\"startlinecolor\":\"#2a3f5f\"},\"baxis\":{\"endlinecolor\":\"#2a3f5f\",\"gridcolor\":\"white\",\"linecolor\":\"white\",\"minorgridcolor\":\"white\",\"startlinecolor\":\"#2a3f5f\"},\"type\":\"carpet\"}],\"table\":[{\"cells\":{\"fill\":{\"color\":\"#EBF0F8\"},\"line\":{\"color\":\"white\"}},\"header\":{\"fill\":{\"color\":\"#C8D4E3\"},\"line\":{\"color\":\"white\"}},\"type\":\"table\"}],\"barpolar\":[{\"marker\":{\"line\":{\"color\":\"#E5ECF6\",\"width\":0.5},\"pattern\":{\"fillmode\":\"overlay\",\"size\":10,\"solidity\":0.2}},\"type\":\"barpolar\"}],\"pie\":[{\"automargin\":true,\"type\":\"pie\"}]},\"layout\":{\"autotypenumbers\":\"strict\",\"colorway\":[\"#636efa\",\"#EF553B\",\"#00cc96\",\"#ab63fa\",\"#FFA15A\",\"#19d3f3\",\"#FF6692\",\"#B6E880\",\"#FF97FF\",\"#FECB52\"],\"font\":{\"color\":\"#2a3f5f\"},\"hovermode\":\"closest\",\"hoverlabel\":{\"align\":\"left\"},\"paper_bgcolor\":\"white\",\"plot_bgcolor\":\"#E5ECF6\",\"polar\":{\"bgcolor\":\"#E5ECF6\",\"angularaxis\":{\"gridcolor\":\"white\",\"linecolor\":\"white\",\"ticks\":\"\"},\"radialaxis\":{\"gridcolor\":\"white\",\"linecolor\":\"white\",\"ticks\":\"\"}},\"ternary\":{\"bgcolor\":\"#E5ECF6\",\"aaxis\":{\"gridcolor\":\"white\",\"linecolor\":\"white\",\"ticks\":\"\"},\"baxis\":{\"gridcolor\":\"white\",\"linecolor\":\"white\",\"ticks\":\"\"},\"caxis\":{\"gridcolor\":\"white\",\"linecolor\":\"white\",\"ticks\":\"\"}},\"coloraxis\":{\"colorbar\":{\"outlinewidth\":0,\"ticks\":\"\"}},\"colorscale\":{\"sequential\":[[0.0,\"#0d0887\"],[0.1111111111111111,\"#46039f\"],[0.2222222222222222,\"#7201a8\"],[0.3333333333333333,\"#9c179e\"],[0.4444444444444444,\"#bd3786\"],[0.5555555555555556,\"#d8576b\"],[0.6666666666666666,\"#ed7953\"],[0.7777777777777778,\"#fb9f3a\"],[0.8888888888888888,\"#fdca26\"],[1.0,\"#f0f921\"]],\"sequentialminus\":[[0.0,\"#0d0887\"],[0.1111111111111111,\"#46039f\"],[0.2222222222222222,\"#7201a8\"],[0.3333333333333333,\"#9c179e\"],[0.4444444444444444,\"#bd3786\"],[0.5555555555555556,\"#d8576b\"],[0.6666666666666666,\"#ed7953\"],[0.7777777777777778,\"#fb9f3a\"],[0.8888888888888888,\"#fdca26\"],[1.0,\"#f0f921\"]],\"diverging\":[[0,\"#8e0152\"],[0.1,\"#c51b7d\"],[0.2,\"#de77ae\"],[0.3,\"#f1b6da\"],[0.4,\"#fde0ef\"],[0.5,\"#f7f7f7\"],[0.6,\"#e6f5d0\"],[0.7,\"#b8e186\"],[0.8,\"#7fbc41\"],[0.9,\"#4d9221\"],[1,\"#276419\"]]},\"xaxis\":{\"gridcolor\":\"white\",\"linecolor\":\"white\",\"ticks\":\"\",\"title\":{\"standoff\":15},\"zerolinecolor\":\"white\",\"automargin\":true,\"zerolinewidth\":2},\"yaxis\":{\"gridcolor\":\"white\",\"linecolor\":\"white\",\"ticks\":\"\",\"title\":{\"standoff\":15},\"zerolinecolor\":\"white\",\"automargin\":true,\"zerolinewidth\":2},\"scene\":{\"xaxis\":{\"backgroundcolor\":\"#E5ECF6\",\"gridcolor\":\"white\",\"linecolor\":\"white\",\"showbackground\":true,\"ticks\":\"\",\"zerolinecolor\":\"white\",\"gridwidth\":2},\"yaxis\":{\"backgroundcolor\":\"#E5ECF6\",\"gridcolor\":\"white\",\"linecolor\":\"white\",\"showbackground\":true,\"ticks\":\"\",\"zerolinecolor\":\"white\",\"gridwidth\":2},\"zaxis\":{\"backgroundcolor\":\"#E5ECF6\",\"gridcolor\":\"white\",\"linecolor\":\"white\",\"showbackground\":true,\"ticks\":\"\",\"zerolinecolor\":\"white\",\"gridwidth\":2}},\"shapedefaults\":{\"line\":{\"color\":\"#2a3f5f\"}},\"annotationdefaults\":{\"arrowcolor\":\"#2a3f5f\",\"arrowhead\":0,\"arrowwidth\":1},\"geo\":{\"bgcolor\":\"white\",\"landcolor\":\"#E5ECF6\",\"subunitcolor\":\"white\",\"showland\":true,\"showlakes\":true,\"lakecolor\":\"white\"},\"title\":{\"x\":0.05},\"mapbox\":{\"style\":\"light\"}}},\"xaxis\":{\"anchor\":\"y\",\"domain\":[0.0,1.0],\"title\":{\"text\":\"Global production (tonnes)\"},\"type\":\"log\"},\"yaxis\":{\"anchor\":\"x\",\"domain\":[0.0,1.0],\"title\":{\"text\":\"Emissions (kg CO2eq \\u002f kg)\"}},\"legend\":{\"tracegroupgap\":0},\"title\":{\"text\":\"GHG impact and global production\",\"x\":0.5},\"height\":500,\"updatemenus\":[{\"buttons\":[{\"args\":[{\"y\":[[1.441,0.9880000000000002,1.109,1.575,3.8390000000000004,0.37,0.987,2.672,1.536,1.6099999999999999,0.896,0.27799999999999986,2.4970000000000003,0.914,2.871,6.117000000000001,7.605,3.607,3.828,5.944000000000001,1.427,0.39499999999999996,0.365,0.437,0.455,0.317,0.678,0.35700000000000004,1.214,1.5849999999999997,0.75,16.477,18.680999999999997,59.56999999999999,21.085,24.415,7.282,6.091999999999999,2.7809999999999997,21.240000000000002,4.506999999999999,5.182999999999999,11.853999999999997]]},{\"yaxis\":{\"title\":{\"text\":\"Total emissions\"}}}],\"label\":\"Total emissions\",\"method\":\"update\"},{\"args\":[{\"y\":[[0.01209,0.00673,0.00612,0.00697,0.02357,0.00323,0.00298,0.01537,0.01076,0.01913,0.00759,0.01904,0.01792,0.0025,0.00625,0.0157,0.01832,0.02735,0.0288,0.04108,0.01143,0.00304,0.00253,0.00686,0.00531,0.00306,0.00469,0.00291,0.00989,0.01128,0.00438,0.04608,0.01659,0.18929,0.20946,0.08726,0.08265,0.06439,0.01766,0.14894,0.05182,0.025,0.05977]]},{\"yaxis\":{\"title\":{\"text\":\"Acidification\"}}}],\"label\":\"Acidification\",\"method\":\"update\"},{\"args\":[{\"y\":[[0.00706,0.00226,0.00211,0.00705,0.02972,0.00255,0.00056,0.0136,0.00437,0.01501,0.00683,0.0088,0.01117,0.00097,0.00553,0.01123,0.01089,0.05061,0.01939,0.04024,0.00481,0.0023,0.00132,0.00414,0.00186,0.00157,0.00225,0.00115,0.00531,0.00402,0.00179,0.0602,0.03061,0.17747,0.20883,0.05965,0.04416,0.02957,0.00934,0.08875,0.02102,0.09207,0.09787]]},{\"yaxis\":{\"title\":{\"text\":\"Eutrophication\"}}}],\"label\":\"Eutrophication\",\"method\":\"update\"},{\"args\":[{\"y\":[[567,120,15,302,1962,43,0,492,170,364,353,1914,1431,26,139,418,7,943,234,2322,235,11,23,97,83,65,86,140,292,68,119,14,209,871,1650,1082,1073,402,533,4735,556,1315,1394]]},{\"yaxis\":{\"title\":{\"text\":\"Freshwater\"}}}],\"label\":\"Freshwater\",\"method\":\"update\"},{\"args\":[{\"y\":[[28918,6007,604,11774,43275,2027,0,13096,7413,18670,24856,106382,48147,894,4785,15039,37,34064,10412,192719,4013,746,776,6878,3958,3678,491,10007,15180,1003,7771,182,1097,21163,75339,85193,40028,8828,16951,155464,17315,13691,50685]]},{\"yaxis\":{\"title\":{\"text\":\"Stress-weighted water usage\"}}}],\"label\":\"Stress-weighted water usage\",\"method\":\"update\"}],\"x\":0,\"y\":1.2}]},                        {\"responsive\": true}                    ).then(function(){\n",
       "                            \n",
       "var gd = document.getElementById('7b053a14-3173-4302-a1e9-3be86f3f9a14');\n",
       "var x = new MutationObserver(function (mutations, observer) {{\n",
       "        var display = window.getComputedStyle(gd).display;\n",
       "        if (!display || display === 'none') {{\n",
       "            console.log([gd, 'removed!']);\n",
       "            Plotly.purge(gd);\n",
       "            observer.disconnect();\n",
       "        }}\n",
       "}});\n",
       "\n",
       "// Listen for the removal of the full notebook cells\n",
       "var notebookContainer = gd.closest('#notebook-container');\n",
       "if (notebookContainer) {{\n",
       "    x.observe(notebookContainer, {childList: true});\n",
       "}}\n",
       "\n",
       "// Listen for the clearing of the current output cell\n",
       "var outputEl = gd.closest('.output');\n",
       "if (outputEl) {{\n",
       "    x.observe(outputEl, {childList: true});\n",
       "}}\n",
       "\n",
       "                        })                };                });            </script>        </div>"
      ]
     },
     "metadata": {},
     "output_type": "display_data"
    }
   ],
   "source": [
    "standard_discrete = px.colors.qualitative.T10\n",
    "\n",
    "df_per_product = pd.read_excel('dataset1.xls', sheet_name=2, skiprows=2, nrows=70, usecols=\"A, F:L\")\n",
    "df_per_product = df_per_product.rename(columns={'LUC': 'Land Use Change', 'Packging': 'Packaging'})\n",
    "\n",
    "df = df_per_product[0:43].copy()\n",
    "df['Total'] = df.iloc[:, 1:].sum(axis=1)\n",
    "# display(df)\n",
    "df = df.sort_values(by='Total')\n",
    "\n",
    "# display(df.Product)\n",
    "\n",
    "df_melted = pd.melt(df, id_vars='Product', value_vars=['Land Use Change', 'Feed', 'Farm', 'Processing', 'Transport', 'Packaging', 'Retail'], var_name='Stage', value_name='Emissions')\n",
    "\n",
    "# Reshape the DataFrame into a \"long\" format\n",
    "df_melted = pd.melt(df, id_vars='Product', value_vars=['Land Use Change', 'Feed', 'Farm', 'Processing', 'Transport', 'Packaging', 'Retail'], var_name='Stage', value_name='Emissions')\n",
    "\n",
    "\n",
    "df_cat = pd.read_excel('dataset1.xls', sheet_name=2, skiprows=2, nrows=43, usecols=\"A:B, F:L\")\n",
    "df_cat = df_cat.rename(columns={'LUC': 'Land Use Change', 'Packging': 'Packaging', \"Food and Waste ('000 t, 2009-11 avg.)\": 'Amount produced'})\n",
    "df_cat['Total emissions'] = df_cat.iloc[:, 2:].sum(axis=1)\n",
    "df_cat = pd.concat([df_cat, pd.read_excel('dataset1.xls', sheet_name=2, skiprows=2, nrows=43, usecols=\"M:P\")], axis=1)\n",
    "df_cat = df_cat.rename(columns={'Total': 'Acidification', 'Total.1': 'Eutrophication', 'Total.2': 'Freshwater', 'Total.3': 'Stress-weighted water usage'})\n",
    "\n",
    "# assigns categories\n",
    "df_cat['Type'] = 'Crops'\n",
    "df_cat.loc[33:37, 'Type'] = 'Meat'\n",
    "df_cat.loc[38:40, 'Type'] = 'Dairy'\n",
    "df_cat.loc[41:42, 'Type'] = 'Seafood'\n",
    "\n",
    "\n",
    "highlighted = ['Crustaceans (farmed)','Olive Oil', 'Bovine Meat (beef herd)', 'Cheese', 'Lamb & Mutton', 'Dark Chocolate', 'Fish (farmed)', 'Eggs', 'Poultry Meat', 'Milk', 'Potatoes', 'Milk', 'Rice', 'Soymilk', 'Nuts', 'Bananas', 'Apples']\n",
    "\n",
    "\n",
    "# creates subcategory for labels\n",
    "df_cat['labeled'] = df_cat['Product'].where(df_cat['Product'].isin(highlighted))\n",
    "\n",
    "fig = px.scatter(\n",
    "    df_cat, \n",
    "    x=\"Amount produced\",\n",
    "    y=\"Total emissions\",\n",
    "    log_x=True,\n",
    "    height=500,\n",
    "    text='labeled',\n",
    "    # log_y=True,\n",
    "    # size=\"Total impact\",\n",
    "    size_max=60,\n",
    "    hover_data=['Product'],\n",
    "    title=\"GHG impact and global production\"\n",
    "    )\n",
    "\n",
    "df_filtered = df_cat[df_cat['Product'].isin(highlighted)]\n",
    "\n",
    "annotation= [{\n",
    "    'x': np.log10(df_cat.loc[df_cat['Product'] == name, 'Amount produced'].iloc[0]),\n",
    "    'y': df_cat.loc[df['Product'] == name, 'Total emissions'].iloc[0],\n",
    "    'text': name,  # text\n",
    "    'showarrow': True,  # would you want to see arrow\n",
    "} for name in highlighted]\n",
    "\n",
    "\n",
    "updatemenus = [\n",
    "    {\n",
    "        \"buttons\": [\n",
    "            {\n",
    "                \"label\": col,\n",
    "                \"method\": \"update\",\n",
    "                \"args\": [\n",
    "                    {\"y\": [df_cat[col]]},\n",
    "                    {\"yaxis\": {\"title\": {\"text\": col}}}\n",
    "                ],\n",
    "            }\n",
    "            for col in list(df_cat.loc[:, 'Total emissions': 'Stress-weighted water usage'].columns)\n",
    "        ],\n",
    "        \"x\": 0,\n",
    "        \"y\": 1.2,\n",
    "    }\n",
    "]\n",
    "\n",
    "\n",
    "fig.update_layout(updatemenus=updatemenus, title_x=0.5, yaxis_title='Emissions (kg CO2eq / kg)', xaxis_title='Global production (tonnes)')\n",
    "\n",
    "\n",
    "\n",
    "\n",
    "\n",
    "fig.update_traces(marker={\n",
    "        \"color\": pd.Categorical(df_cat[\"Type\"]).codes,\n",
    "        \"colorscale\": [(0,crop_color), (0.33,dairy_color), (0.66,meat_color), (1,seafood_color)]\n",
    "    },\n",
    "    marker_size=10,\n",
    "    marker_opacity=df_cat['labeled'].notnull().map({True: 0.8, False: 0.35}).values,\n",
    "    textposition=\"top center\",\n",
    "    hoverinfo=\"name+x+y\",\n",
    "    hovertemplate='Amount produced=%{x}<br>Total=%{y}<br>Product=%{customdata[0]}<extra></extra>',\n",
    "    textfont={'size': 12}\n",
    ")\n",
    "\n",
    "# adds custom legend\n",
    "types = ['Crops', 'Seafood', 'Dairy', 'Meat']\n",
    "colors = [crop_color, seafood_color, dairy_color, meat_color]\n",
    "for t, color in zip(types,colors):\n",
    "    fig.add_trace(\n",
    "        go.Scatter(\n",
    "            x=[None], y=[None],\n",
    "            mode='markers',\n",
    "            marker=dict(\n",
    "                size=10,\n",
    "                color=color\n",
    "            ),\n",
    "            showlegend=True,\n",
    "            name=t\n",
    "        )\n",
    "    )\n",
    "\n",
    "fig.show()"
   ]
  },
  {
   "cell_type": "markdown",
   "id": "c3857f81-dcad-489c-a608-3f7f86e6a58e",
   "metadata": {},
   "source": [
    "> *Figure 4: Scatter plot of global production (in tonnes) and greenhouse gas emissions (in kg CO2eq / kg).*"
   ]
  },
  {
   "cell_type": "markdown",
   "id": "52d494f5",
   "metadata": {},
   "source": [
    "This scatter plot shows that high global production and low emissions per kg are highly correlated. This figure is meant to support the perspective that it matters a lot whether you produce food locally or globally; the emissions\n",
    "produced during transport are significant, and a huge factor in the total emissions of the\n",
    "food we consume."
   ]
  },
  {
   "cell_type": "code",
   "execution_count": null,
   "id": "7feb22d6",
   "metadata": {},
   "outputs": [
    {
     "data": {
      "application/vnd.plotly.v1+json": {
       "config": {
        "plotlyServerURL": "https://plot.ly"
       },
       "data": [
        {
         "coloraxis": "coloraxis",
         "hovertemplate": "x: %{x}<br>y: %{y}<br>color: %{z}<extra></extra>",
         "name": "0",
         "texttemplate": "%{z:.2f}",
         "type": "heatmap",
         "x": [
          "Total emissions",
          "Acidification",
          "Eutrophication",
          "Freshwater",
          "Stress-weighted water usage"
         ],
         "xaxis": "x",
         "y": [
          "Total emissions",
          "Acidification",
          "Eutrophication",
          "Freshwater",
          "Stress-weighted water usage"
         ],
         "yaxis": "y",
         "z": [
          [
           1,
           0.8203253539767775,
           0.7986381069495992,
           0.33748415560628736,
           0.25900528637209314
          ],
          [
           0.8203253539767775,
           1,
           0.91639578260593,
           0.5764618429468162,
           0.4761635531789835
          ],
          [
           0.7986381069495992,
           0.91639578260593,
           1,
           0.5003460566059652,
           0.38525696877946014
          ],
          [
           0.33748415560628736,
           0.5764618429468162,
           0.5003460566059652,
           1,
           0.8688336673973327
          ],
          [
           0.25900528637209314,
           0.4761635531789835,
           0.38525696877946014,
           0.8688336673973327,
           1
          ]
         ]
        }
       ],
       "layout": {
        "coloraxis": {
         "colorscale": [
          [
           0,
           "#fde725"
          ],
          [
           0.1111111111111111,
           "#b5de2b"
          ],
          [
           0.2222222222222222,
           "#6ece58"
          ],
          [
           0.3333333333333333,
           "#35b779"
          ],
          [
           0.4444444444444444,
           "#1f9e89"
          ],
          [
           0.5555555555555556,
           "#26828e"
          ],
          [
           0.6666666666666666,
           "#31688e"
          ],
          [
           0.7777777777777778,
           "#3e4989"
          ],
          [
           0.8888888888888888,
           "#482878"
          ],
          [
           1,
           "#440154"
          ]
         ]
        },
        "margin": {
         "t": 60
        },
        "template": {
         "data": {
          "bar": [
           {
            "error_x": {
             "color": "#2a3f5f"
            },
            "error_y": {
             "color": "#2a3f5f"
            },
            "marker": {
             "line": {
              "color": "#E5ECF6",
              "width": 0.5
             },
             "pattern": {
              "fillmode": "overlay",
              "size": 10,
              "solidity": 0.2
             }
            },
            "type": "bar"
           }
          ],
          "barpolar": [
           {
            "marker": {
             "line": {
              "color": "#E5ECF6",
              "width": 0.5
             },
             "pattern": {
              "fillmode": "overlay",
              "size": 10,
              "solidity": 0.2
             }
            },
            "type": "barpolar"
           }
          ],
          "carpet": [
           {
            "aaxis": {
             "endlinecolor": "#2a3f5f",
             "gridcolor": "white",
             "linecolor": "white",
             "minorgridcolor": "white",
             "startlinecolor": "#2a3f5f"
            },
            "baxis": {
             "endlinecolor": "#2a3f5f",
             "gridcolor": "white",
             "linecolor": "white",
             "minorgridcolor": "white",
             "startlinecolor": "#2a3f5f"
            },
            "type": "carpet"
           }
          ],
          "choropleth": [
           {
            "colorbar": {
             "outlinewidth": 0,
             "ticks": ""
            },
            "type": "choropleth"
           }
          ],
          "contour": [
           {
            "colorbar": {
             "outlinewidth": 0,
             "ticks": ""
            },
            "colorscale": [
             [
              0,
              "#0d0887"
             ],
             [
              0.1111111111111111,
              "#46039f"
             ],
             [
              0.2222222222222222,
              "#7201a8"
             ],
             [
              0.3333333333333333,
              "#9c179e"
             ],
             [
              0.4444444444444444,
              "#bd3786"
             ],
             [
              0.5555555555555556,
              "#d8576b"
             ],
             [
              0.6666666666666666,
              "#ed7953"
             ],
             [
              0.7777777777777778,
              "#fb9f3a"
             ],
             [
              0.8888888888888888,
              "#fdca26"
             ],
             [
              1,
              "#f0f921"
             ]
            ],
            "type": "contour"
           }
          ],
          "contourcarpet": [
           {
            "colorbar": {
             "outlinewidth": 0,
             "ticks": ""
            },
            "type": "contourcarpet"
           }
          ],
          "heatmap": [
           {
            "colorbar": {
             "outlinewidth": 0,
             "ticks": ""
            },
            "colorscale": [
             [
              0,
              "#0d0887"
             ],
             [
              0.1111111111111111,
              "#46039f"
             ],
             [
              0.2222222222222222,
              "#7201a8"
             ],
             [
              0.3333333333333333,
              "#9c179e"
             ],
             [
              0.4444444444444444,
              "#bd3786"
             ],
             [
              0.5555555555555556,
              "#d8576b"
             ],
             [
              0.6666666666666666,
              "#ed7953"
             ],
             [
              0.7777777777777778,
              "#fb9f3a"
             ],
             [
              0.8888888888888888,
              "#fdca26"
             ],
             [
              1,
              "#f0f921"
             ]
            ],
            "type": "heatmap"
           }
          ],
          "heatmapgl": [
           {
            "colorbar": {
             "outlinewidth": 0,
             "ticks": ""
            },
            "colorscale": [
             [
              0,
              "#0d0887"
             ],
             [
              0.1111111111111111,
              "#46039f"
             ],
             [
              0.2222222222222222,
              "#7201a8"
             ],
             [
              0.3333333333333333,
              "#9c179e"
             ],
             [
              0.4444444444444444,
              "#bd3786"
             ],
             [
              0.5555555555555556,
              "#d8576b"
             ],
             [
              0.6666666666666666,
              "#ed7953"
             ],
             [
              0.7777777777777778,
              "#fb9f3a"
             ],
             [
              0.8888888888888888,
              "#fdca26"
             ],
             [
              1,
              "#f0f921"
             ]
            ],
            "type": "heatmapgl"
           }
          ],
          "histogram": [
           {
            "marker": {
             "pattern": {
              "fillmode": "overlay",
              "size": 10,
              "solidity": 0.2
             }
            },
            "type": "histogram"
           }
          ],
          "histogram2d": [
           {
            "colorbar": {
             "outlinewidth": 0,
             "ticks": ""
            },
            "colorscale": [
             [
              0,
              "#0d0887"
             ],
             [
              0.1111111111111111,
              "#46039f"
             ],
             [
              0.2222222222222222,
              "#7201a8"
             ],
             [
              0.3333333333333333,
              "#9c179e"
             ],
             [
              0.4444444444444444,
              "#bd3786"
             ],
             [
              0.5555555555555556,
              "#d8576b"
             ],
             [
              0.6666666666666666,
              "#ed7953"
             ],
             [
              0.7777777777777778,
              "#fb9f3a"
             ],
             [
              0.8888888888888888,
              "#fdca26"
             ],
             [
              1,
              "#f0f921"
             ]
            ],
            "type": "histogram2d"
           }
          ],
          "histogram2dcontour": [
           {
            "colorbar": {
             "outlinewidth": 0,
             "ticks": ""
            },
            "colorscale": [
             [
              0,
              "#0d0887"
             ],
             [
              0.1111111111111111,
              "#46039f"
             ],
             [
              0.2222222222222222,
              "#7201a8"
             ],
             [
              0.3333333333333333,
              "#9c179e"
             ],
             [
              0.4444444444444444,
              "#bd3786"
             ],
             [
              0.5555555555555556,
              "#d8576b"
             ],
             [
              0.6666666666666666,
              "#ed7953"
             ],
             [
              0.7777777777777778,
              "#fb9f3a"
             ],
             [
              0.8888888888888888,
              "#fdca26"
             ],
             [
              1,
              "#f0f921"
             ]
            ],
            "type": "histogram2dcontour"
           }
          ],
          "mesh3d": [
           {
            "colorbar": {
             "outlinewidth": 0,
             "ticks": ""
            },
            "type": "mesh3d"
           }
          ],
          "parcoords": [
           {
            "line": {
             "colorbar": {
              "outlinewidth": 0,
              "ticks": ""
             }
            },
            "type": "parcoords"
           }
          ],
          "pie": [
           {
            "automargin": true,
            "type": "pie"
           }
          ],
          "scatter": [
           {
            "fillpattern": {
             "fillmode": "overlay",
             "size": 10,
             "solidity": 0.2
            },
            "type": "scatter"
           }
          ],
          "scatter3d": [
           {
            "line": {
             "colorbar": {
              "outlinewidth": 0,
              "ticks": ""
             }
            },
            "marker": {
             "colorbar": {
              "outlinewidth": 0,
              "ticks": ""
             }
            },
            "type": "scatter3d"
           }
          ],
          "scattercarpet": [
           {
            "marker": {
             "colorbar": {
              "outlinewidth": 0,
              "ticks": ""
             }
            },
            "type": "scattercarpet"
           }
          ],
          "scattergeo": [
           {
            "marker": {
             "colorbar": {
              "outlinewidth": 0,
              "ticks": ""
             }
            },
            "type": "scattergeo"
           }
          ],
          "scattergl": [
           {
            "marker": {
             "colorbar": {
              "outlinewidth": 0,
              "ticks": ""
             }
            },
            "type": "scattergl"
           }
          ],
          "scattermapbox": [
           {
            "marker": {
             "colorbar": {
              "outlinewidth": 0,
              "ticks": ""
             }
            },
            "type": "scattermapbox"
           }
          ],
          "scatterpolar": [
           {
            "marker": {
             "colorbar": {
              "outlinewidth": 0,
              "ticks": ""
             }
            },
            "type": "scatterpolar"
           }
          ],
          "scatterpolargl": [
           {
            "marker": {
             "colorbar": {
              "outlinewidth": 0,
              "ticks": ""
             }
            },
            "type": "scatterpolargl"
           }
          ],
          "scatterternary": [
           {
            "marker": {
             "colorbar": {
              "outlinewidth": 0,
              "ticks": ""
             }
            },
            "type": "scatterternary"
           }
          ],
          "surface": [
           {
            "colorbar": {
             "outlinewidth": 0,
             "ticks": ""
            },
            "colorscale": [
             [
              0,
              "#0d0887"
             ],
             [
              0.1111111111111111,
              "#46039f"
             ],
             [
              0.2222222222222222,
              "#7201a8"
             ],
             [
              0.3333333333333333,
              "#9c179e"
             ],
             [
              0.4444444444444444,
              "#bd3786"
             ],
             [
              0.5555555555555556,
              "#d8576b"
             ],
             [
              0.6666666666666666,
              "#ed7953"
             ],
             [
              0.7777777777777778,
              "#fb9f3a"
             ],
             [
              0.8888888888888888,
              "#fdca26"
             ],
             [
              1,
              "#f0f921"
             ]
            ],
            "type": "surface"
           }
          ],
          "table": [
           {
            "cells": {
             "fill": {
              "color": "#EBF0F8"
             },
             "line": {
              "color": "white"
             }
            },
            "header": {
             "fill": {
              "color": "#C8D4E3"
             },
             "line": {
              "color": "white"
             }
            },
            "type": "table"
           }
          ]
         },
         "layout": {
          "annotationdefaults": {
           "arrowcolor": "#2a3f5f",
           "arrowhead": 0,
           "arrowwidth": 1
          },
          "autotypenumbers": "strict",
          "coloraxis": {
           "colorbar": {
            "outlinewidth": 0,
            "ticks": ""
           }
          },
          "colorscale": {
           "diverging": [
            [
             0,
             "#8e0152"
            ],
            [
             0.1,
             "#c51b7d"
            ],
            [
             0.2,
             "#de77ae"
            ],
            [
             0.3,
             "#f1b6da"
            ],
            [
             0.4,
             "#fde0ef"
            ],
            [
             0.5,
             "#f7f7f7"
            ],
            [
             0.6,
             "#e6f5d0"
            ],
            [
             0.7,
             "#b8e186"
            ],
            [
             0.8,
             "#7fbc41"
            ],
            [
             0.9,
             "#4d9221"
            ],
            [
             1,
             "#276419"
            ]
           ],
           "sequential": [
            [
             0,
             "#0d0887"
            ],
            [
             0.1111111111111111,
             "#46039f"
            ],
            [
             0.2222222222222222,
             "#7201a8"
            ],
            [
             0.3333333333333333,
             "#9c179e"
            ],
            [
             0.4444444444444444,
             "#bd3786"
            ],
            [
             0.5555555555555556,
             "#d8576b"
            ],
            [
             0.6666666666666666,
             "#ed7953"
            ],
            [
             0.7777777777777778,
             "#fb9f3a"
            ],
            [
             0.8888888888888888,
             "#fdca26"
            ],
            [
             1,
             "#f0f921"
            ]
           ],
           "sequentialminus": [
            [
             0,
             "#0d0887"
            ],
            [
             0.1111111111111111,
             "#46039f"
            ],
            [
             0.2222222222222222,
             "#7201a8"
            ],
            [
             0.3333333333333333,
             "#9c179e"
            ],
            [
             0.4444444444444444,
             "#bd3786"
            ],
            [
             0.5555555555555556,
             "#d8576b"
            ],
            [
             0.6666666666666666,
             "#ed7953"
            ],
            [
             0.7777777777777778,
             "#fb9f3a"
            ],
            [
             0.8888888888888888,
             "#fdca26"
            ],
            [
             1,
             "#f0f921"
            ]
           ]
          },
          "colorway": [
           "#636efa",
           "#EF553B",
           "#00cc96",
           "#ab63fa",
           "#FFA15A",
           "#19d3f3",
           "#FF6692",
           "#B6E880",
           "#FF97FF",
           "#FECB52"
          ],
          "font": {
           "color": "#2a3f5f"
          },
          "geo": {
           "bgcolor": "white",
           "lakecolor": "white",
           "landcolor": "#E5ECF6",
           "showlakes": true,
           "showland": true,
           "subunitcolor": "white"
          },
          "hoverlabel": {
           "align": "left"
          },
          "hovermode": "closest",
          "mapbox": {
           "style": "light"
          },
          "paper_bgcolor": "white",
          "plot_bgcolor": "#E5ECF6",
          "polar": {
           "angularaxis": {
            "gridcolor": "white",
            "linecolor": "white",
            "ticks": ""
           },
           "bgcolor": "#E5ECF6",
           "radialaxis": {
            "gridcolor": "white",
            "linecolor": "white",
            "ticks": ""
           }
          },
          "scene": {
           "xaxis": {
            "backgroundcolor": "#E5ECF6",
            "gridcolor": "white",
            "gridwidth": 2,
            "linecolor": "white",
            "showbackground": true,
            "ticks": "",
            "zerolinecolor": "white"
           },
           "yaxis": {
            "backgroundcolor": "#E5ECF6",
            "gridcolor": "white",
            "gridwidth": 2,
            "linecolor": "white",
            "showbackground": true,
            "ticks": "",
            "zerolinecolor": "white"
           },
           "zaxis": {
            "backgroundcolor": "#E5ECF6",
            "gridcolor": "white",
            "gridwidth": 2,
            "linecolor": "white",
            "showbackground": true,
            "ticks": "",
            "zerolinecolor": "white"
           }
          },
          "shapedefaults": {
           "line": {
            "color": "#2a3f5f"
           }
          },
          "ternary": {
           "aaxis": {
            "gridcolor": "white",
            "linecolor": "white",
            "ticks": ""
           },
           "baxis": {
            "gridcolor": "white",
            "linecolor": "white",
            "ticks": ""
           },
           "bgcolor": "#E5ECF6",
           "caxis": {
            "gridcolor": "white",
            "linecolor": "white",
            "ticks": ""
           }
          },
          "title": {
           "x": 0.05
          },
          "xaxis": {
           "automargin": true,
           "gridcolor": "white",
           "linecolor": "white",
           "ticks": "",
           "title": {
            "standoff": 15
           },
           "zerolinecolor": "white",
           "zerolinewidth": 2
          },
          "yaxis": {
           "automargin": true,
           "gridcolor": "white",
           "linecolor": "white",
           "ticks": "",
           "title": {
            "standoff": 15
           },
           "zerolinecolor": "white",
           "zerolinewidth": 2
          }
         }
        },
        "xaxis": {
         "anchor": "y",
         "domain": [
          0,
          1
         ],
         "side": "top"
        },
        "yaxis": {
         "anchor": "x",
         "autorange": "reversed",
         "domain": [
          0,
          1
         ]
        }
       }
      },
      "text/html": [
       "<div>                            <div id=\"21b6f258-8c29-4a58-8759-851a131cddb6\" class=\"plotly-graph-div\" style=\"height:525px; width:100%;\"></div>            <script type=\"text/javascript\">                require([\"plotly\"], function(Plotly) {                    window.PLOTLYENV=window.PLOTLYENV || {};                                    if (document.getElementById(\"21b6f258-8c29-4a58-8759-851a131cddb6\")) {                    Plotly.newPlot(                        \"21b6f258-8c29-4a58-8759-851a131cddb6\",                        [{\"coloraxis\":\"coloraxis\",\"name\":\"0\",\"texttemplate\":\"%{z:.2f}\",\"x\":[\"Total emissions\",\"Acidification\",\"Eutrophication\",\"Freshwater\",\"Stress-weighted water usage\"],\"y\":[\"Total emissions\",\"Acidification\",\"Eutrophication\",\"Freshwater\",\"Stress-weighted water usage\"],\"z\":[[1.0,0.8203253539767775,0.7986381069495992,0.33748415560628736,0.25900528637209314],[0.8203253539767775,1.0,0.91639578260593,0.5764618429468162,0.4761635531789835],[0.7986381069495992,0.91639578260593,1.0,0.5003460566059652,0.38525696877946014],[0.33748415560628736,0.5764618429468162,0.5003460566059652,1.0,0.8688336673973327],[0.25900528637209314,0.4761635531789835,0.38525696877946014,0.8688336673973327,1.0]],\"type\":\"heatmap\",\"xaxis\":\"x\",\"yaxis\":\"y\",\"hovertemplate\":\"x: %{x}\\u003cbr\\u003ey: %{y}\\u003cbr\\u003ecolor: %{z}\\u003cextra\\u003e\\u003c\\u002fextra\\u003e\"}],                        {\"template\":{\"data\":{\"histogram2dcontour\":[{\"type\":\"histogram2dcontour\",\"colorbar\":{\"outlinewidth\":0,\"ticks\":\"\"},\"colorscale\":[[0.0,\"#0d0887\"],[0.1111111111111111,\"#46039f\"],[0.2222222222222222,\"#7201a8\"],[0.3333333333333333,\"#9c179e\"],[0.4444444444444444,\"#bd3786\"],[0.5555555555555556,\"#d8576b\"],[0.6666666666666666,\"#ed7953\"],[0.7777777777777778,\"#fb9f3a\"],[0.8888888888888888,\"#fdca26\"],[1.0,\"#f0f921\"]]}],\"choropleth\":[{\"type\":\"choropleth\",\"colorbar\":{\"outlinewidth\":0,\"ticks\":\"\"}}],\"histogram2d\":[{\"type\":\"histogram2d\",\"colorbar\":{\"outlinewidth\":0,\"ticks\":\"\"},\"colorscale\":[[0.0,\"#0d0887\"],[0.1111111111111111,\"#46039f\"],[0.2222222222222222,\"#7201a8\"],[0.3333333333333333,\"#9c179e\"],[0.4444444444444444,\"#bd3786\"],[0.5555555555555556,\"#d8576b\"],[0.6666666666666666,\"#ed7953\"],[0.7777777777777778,\"#fb9f3a\"],[0.8888888888888888,\"#fdca26\"],[1.0,\"#f0f921\"]]}],\"heatmap\":[{\"type\":\"heatmap\",\"colorbar\":{\"outlinewidth\":0,\"ticks\":\"\"},\"colorscale\":[[0.0,\"#0d0887\"],[0.1111111111111111,\"#46039f\"],[0.2222222222222222,\"#7201a8\"],[0.3333333333333333,\"#9c179e\"],[0.4444444444444444,\"#bd3786\"],[0.5555555555555556,\"#d8576b\"],[0.6666666666666666,\"#ed7953\"],[0.7777777777777778,\"#fb9f3a\"],[0.8888888888888888,\"#fdca26\"],[1.0,\"#f0f921\"]]}],\"heatmapgl\":[{\"type\":\"heatmapgl\",\"colorbar\":{\"outlinewidth\":0,\"ticks\":\"\"},\"colorscale\":[[0.0,\"#0d0887\"],[0.1111111111111111,\"#46039f\"],[0.2222222222222222,\"#7201a8\"],[0.3333333333333333,\"#9c179e\"],[0.4444444444444444,\"#bd3786\"],[0.5555555555555556,\"#d8576b\"],[0.6666666666666666,\"#ed7953\"],[0.7777777777777778,\"#fb9f3a\"],[0.8888888888888888,\"#fdca26\"],[1.0,\"#f0f921\"]]}],\"contourcarpet\":[{\"type\":\"contourcarpet\",\"colorbar\":{\"outlinewidth\":0,\"ticks\":\"\"}}],\"contour\":[{\"type\":\"contour\",\"colorbar\":{\"outlinewidth\":0,\"ticks\":\"\"},\"colorscale\":[[0.0,\"#0d0887\"],[0.1111111111111111,\"#46039f\"],[0.2222222222222222,\"#7201a8\"],[0.3333333333333333,\"#9c179e\"],[0.4444444444444444,\"#bd3786\"],[0.5555555555555556,\"#d8576b\"],[0.6666666666666666,\"#ed7953\"],[0.7777777777777778,\"#fb9f3a\"],[0.8888888888888888,\"#fdca26\"],[1.0,\"#f0f921\"]]}],\"surface\":[{\"type\":\"surface\",\"colorbar\":{\"outlinewidth\":0,\"ticks\":\"\"},\"colorscale\":[[0.0,\"#0d0887\"],[0.1111111111111111,\"#46039f\"],[0.2222222222222222,\"#7201a8\"],[0.3333333333333333,\"#9c179e\"],[0.4444444444444444,\"#bd3786\"],[0.5555555555555556,\"#d8576b\"],[0.6666666666666666,\"#ed7953\"],[0.7777777777777778,\"#fb9f3a\"],[0.8888888888888888,\"#fdca26\"],[1.0,\"#f0f921\"]]}],\"mesh3d\":[{\"type\":\"mesh3d\",\"colorbar\":{\"outlinewidth\":0,\"ticks\":\"\"}}],\"scatter\":[{\"fillpattern\":{\"fillmode\":\"overlay\",\"size\":10,\"solidity\":0.2},\"type\":\"scatter\"}],\"parcoords\":[{\"type\":\"parcoords\",\"line\":{\"colorbar\":{\"outlinewidth\":0,\"ticks\":\"\"}}}],\"scatterpolargl\":[{\"type\":\"scatterpolargl\",\"marker\":{\"colorbar\":{\"outlinewidth\":0,\"ticks\":\"\"}}}],\"bar\":[{\"error_x\":{\"color\":\"#2a3f5f\"},\"error_y\":{\"color\":\"#2a3f5f\"},\"marker\":{\"line\":{\"color\":\"#E5ECF6\",\"width\":0.5},\"pattern\":{\"fillmode\":\"overlay\",\"size\":10,\"solidity\":0.2}},\"type\":\"bar\"}],\"scattergeo\":[{\"type\":\"scattergeo\",\"marker\":{\"colorbar\":{\"outlinewidth\":0,\"ticks\":\"\"}}}],\"scatterpolar\":[{\"type\":\"scatterpolar\",\"marker\":{\"colorbar\":{\"outlinewidth\":0,\"ticks\":\"\"}}}],\"histogram\":[{\"marker\":{\"pattern\":{\"fillmode\":\"overlay\",\"size\":10,\"solidity\":0.2}},\"type\":\"histogram\"}],\"scattergl\":[{\"type\":\"scattergl\",\"marker\":{\"colorbar\":{\"outlinewidth\":0,\"ticks\":\"\"}}}],\"scatter3d\":[{\"type\":\"scatter3d\",\"line\":{\"colorbar\":{\"outlinewidth\":0,\"ticks\":\"\"}},\"marker\":{\"colorbar\":{\"outlinewidth\":0,\"ticks\":\"\"}}}],\"scattermapbox\":[{\"type\":\"scattermapbox\",\"marker\":{\"colorbar\":{\"outlinewidth\":0,\"ticks\":\"\"}}}],\"scatterternary\":[{\"type\":\"scatterternary\",\"marker\":{\"colorbar\":{\"outlinewidth\":0,\"ticks\":\"\"}}}],\"scattercarpet\":[{\"type\":\"scattercarpet\",\"marker\":{\"colorbar\":{\"outlinewidth\":0,\"ticks\":\"\"}}}],\"carpet\":[{\"aaxis\":{\"endlinecolor\":\"#2a3f5f\",\"gridcolor\":\"white\",\"linecolor\":\"white\",\"minorgridcolor\":\"white\",\"startlinecolor\":\"#2a3f5f\"},\"baxis\":{\"endlinecolor\":\"#2a3f5f\",\"gridcolor\":\"white\",\"linecolor\":\"white\",\"minorgridcolor\":\"white\",\"startlinecolor\":\"#2a3f5f\"},\"type\":\"carpet\"}],\"table\":[{\"cells\":{\"fill\":{\"color\":\"#EBF0F8\"},\"line\":{\"color\":\"white\"}},\"header\":{\"fill\":{\"color\":\"#C8D4E3\"},\"line\":{\"color\":\"white\"}},\"type\":\"table\"}],\"barpolar\":[{\"marker\":{\"line\":{\"color\":\"#E5ECF6\",\"width\":0.5},\"pattern\":{\"fillmode\":\"overlay\",\"size\":10,\"solidity\":0.2}},\"type\":\"barpolar\"}],\"pie\":[{\"automargin\":true,\"type\":\"pie\"}]},\"layout\":{\"autotypenumbers\":\"strict\",\"colorway\":[\"#636efa\",\"#EF553B\",\"#00cc96\",\"#ab63fa\",\"#FFA15A\",\"#19d3f3\",\"#FF6692\",\"#B6E880\",\"#FF97FF\",\"#FECB52\"],\"font\":{\"color\":\"#2a3f5f\"},\"hovermode\":\"closest\",\"hoverlabel\":{\"align\":\"left\"},\"paper_bgcolor\":\"white\",\"plot_bgcolor\":\"#E5ECF6\",\"polar\":{\"bgcolor\":\"#E5ECF6\",\"angularaxis\":{\"gridcolor\":\"white\",\"linecolor\":\"white\",\"ticks\":\"\"},\"radialaxis\":{\"gridcolor\":\"white\",\"linecolor\":\"white\",\"ticks\":\"\"}},\"ternary\":{\"bgcolor\":\"#E5ECF6\",\"aaxis\":{\"gridcolor\":\"white\",\"linecolor\":\"white\",\"ticks\":\"\"},\"baxis\":{\"gridcolor\":\"white\",\"linecolor\":\"white\",\"ticks\":\"\"},\"caxis\":{\"gridcolor\":\"white\",\"linecolor\":\"white\",\"ticks\":\"\"}},\"coloraxis\":{\"colorbar\":{\"outlinewidth\":0,\"ticks\":\"\"}},\"colorscale\":{\"sequential\":[[0.0,\"#0d0887\"],[0.1111111111111111,\"#46039f\"],[0.2222222222222222,\"#7201a8\"],[0.3333333333333333,\"#9c179e\"],[0.4444444444444444,\"#bd3786\"],[0.5555555555555556,\"#d8576b\"],[0.6666666666666666,\"#ed7953\"],[0.7777777777777778,\"#fb9f3a\"],[0.8888888888888888,\"#fdca26\"],[1.0,\"#f0f921\"]],\"sequentialminus\":[[0.0,\"#0d0887\"],[0.1111111111111111,\"#46039f\"],[0.2222222222222222,\"#7201a8\"],[0.3333333333333333,\"#9c179e\"],[0.4444444444444444,\"#bd3786\"],[0.5555555555555556,\"#d8576b\"],[0.6666666666666666,\"#ed7953\"],[0.7777777777777778,\"#fb9f3a\"],[0.8888888888888888,\"#fdca26\"],[1.0,\"#f0f921\"]],\"diverging\":[[0,\"#8e0152\"],[0.1,\"#c51b7d\"],[0.2,\"#de77ae\"],[0.3,\"#f1b6da\"],[0.4,\"#fde0ef\"],[0.5,\"#f7f7f7\"],[0.6,\"#e6f5d0\"],[0.7,\"#b8e186\"],[0.8,\"#7fbc41\"],[0.9,\"#4d9221\"],[1,\"#276419\"]]},\"xaxis\":{\"gridcolor\":\"white\",\"linecolor\":\"white\",\"ticks\":\"\",\"title\":{\"standoff\":15},\"zerolinecolor\":\"white\",\"automargin\":true,\"zerolinewidth\":2},\"yaxis\":{\"gridcolor\":\"white\",\"linecolor\":\"white\",\"ticks\":\"\",\"title\":{\"standoff\":15},\"zerolinecolor\":\"white\",\"automargin\":true,\"zerolinewidth\":2},\"scene\":{\"xaxis\":{\"backgroundcolor\":\"#E5ECF6\",\"gridcolor\":\"white\",\"linecolor\":\"white\",\"showbackground\":true,\"ticks\":\"\",\"zerolinecolor\":\"white\",\"gridwidth\":2},\"yaxis\":{\"backgroundcolor\":\"#E5ECF6\",\"gridcolor\":\"white\",\"linecolor\":\"white\",\"showbackground\":true,\"ticks\":\"\",\"zerolinecolor\":\"white\",\"gridwidth\":2},\"zaxis\":{\"backgroundcolor\":\"#E5ECF6\",\"gridcolor\":\"white\",\"linecolor\":\"white\",\"showbackground\":true,\"ticks\":\"\",\"zerolinecolor\":\"white\",\"gridwidth\":2}},\"shapedefaults\":{\"line\":{\"color\":\"#2a3f5f\"}},\"annotationdefaults\":{\"arrowcolor\":\"#2a3f5f\",\"arrowhead\":0,\"arrowwidth\":1},\"geo\":{\"bgcolor\":\"white\",\"landcolor\":\"#E5ECF6\",\"subunitcolor\":\"white\",\"showland\":true,\"showlakes\":true,\"lakecolor\":\"white\"},\"title\":{\"x\":0.05},\"mapbox\":{\"style\":\"light\"}}},\"xaxis\":{\"anchor\":\"y\",\"domain\":[0.0,1.0],\"side\":\"top\"},\"yaxis\":{\"anchor\":\"x\",\"domain\":[0.0,1.0],\"autorange\":\"reversed\"},\"coloraxis\":{\"colorscale\":[[0.0,\"#fde725\"],[0.1111111111111111,\"#b5de2b\"],[0.2222222222222222,\"#6ece58\"],[0.3333333333333333,\"#35b779\"],[0.4444444444444444,\"#1f9e89\"],[0.5555555555555556,\"#26828e\"],[0.6666666666666666,\"#31688e\"],[0.7777777777777778,\"#3e4989\"],[0.8888888888888888,\"#482878\"],[1.0,\"#440154\"]]},\"margin\":{\"t\":60}},                        {\"responsive\": true}                    ).then(function(){\n",
       "                            \n",
       "var gd = document.getElementById('21b6f258-8c29-4a58-8759-851a131cddb6');\n",
       "var x = new MutationObserver(function (mutations, observer) {{\n",
       "        var display = window.getComputedStyle(gd).display;\n",
       "        if (!display || display === 'none') {{\n",
       "            console.log([gd, 'removed!']);\n",
       "            Plotly.purge(gd);\n",
       "            observer.disconnect();\n",
       "        }}\n",
       "}});\n",
       "\n",
       "// Listen for the removal of the full notebook cells\n",
       "var notebookContainer = gd.closest('#notebook-container');\n",
       "if (notebookContainer) {{\n",
       "    x.observe(notebookContainer, {childList: true});\n",
       "}}\n",
       "\n",
       "// Listen for the clearing of the current output cell\n",
       "var outputEl = gd.closest('.output');\n",
       "if (outputEl) {{\n",
       "    x.observe(outputEl, {childList: true});\n",
       "}}\n",
       "\n",
       "                        })                };                });            </script>        </div>"
      ]
     },
     "metadata": {},
     "output_type": "display_data"
    }
   ],
   "source": [
    "correlations = df_cat.loc[:, 'Total emissions': 'Stress-weighted water usage']\n",
    "\n",
    "\n",
    "corr = correlations.corr(method='pearson')\n",
    "\n",
    "\n",
    "fig = px.imshow(corr, text_auto='.2f', aspect='auto', color_continuous_scale='viridis_r')\n",
    "fig.update_xaxes(side=\"top\")\n",
    "fig.show()"
   ]
  },
  {
   "cell_type": "markdown",
   "id": "0c881d30",
   "metadata": {},
   "source": [
    "> *Figure 5: Heat map*"
   ]
  },
  {
   "cell_type": "markdown",
   "id": "325d06d5",
   "metadata": {},
   "source": [
    "In enim justo, rhoncus ut, imperdiet a, venenatis vitae, justo. Nullam dictum felis eu pede mollis pretium. Integer tincidunt. Cras dapibus. Vivamus elementum semper nisi. Aenean vulputate eleifend tellus. Aenean leo ligula, porttitor eu, consequat vitae, eleifend ac, enim. Aliquam lorem ante, dapibus in, viverra quis, feugiat a, tellus."
   ]
  },
  {
   "cell_type": "code",
   "execution_count": null,
   "id": "3b37d6ab",
   "metadata": {},
   "outputs": [
    {
     "data": {
      "application/vnd.plotly.v1+json": {
       "config": {
        "plotlyServerURL": "https://plot.ly"
       },
       "data": [
        {
         "alignmentgroup": "True",
         "hovertemplate": "Type=Crops<br>Transport=%{x}<br>Product=%{y}<extra></extra>",
         "legendgroup": "Crops",
         "marker": {
          "color": "#35A85A",
          "pattern": {
           "shape": ""
          }
         },
         "name": "Crops",
         "offsetgroup": "Crops",
         "orientation": "h",
         "showlegend": true,
         "textposition": "auto",
         "type": "bar",
         "x": [
          0.035,
          0.06,
          0.061,
          0.067,
          0.067,
          0.093,
          0.094,
          0.094,
          0.094,
          0.095,
          0.095,
          0.095,
          0.096,
          0.096,
          0.096,
          0.11,
          0.114,
          0.12,
          0.129,
          0.13,
          0.164,
          0.177,
          0.177,
          0.182,
          0.19,
          0.201,
          0.208,
          0.238,
          0.292,
          0.299,
          0.482,
          0.629,
          0.784
         ],
         "xaxis": "x",
         "y": [
          "Barley (Beer)",
          "Maize (Meal)",
          "Dark Chocolate",
          "Oatmeal",
          "Nuts",
          "Wine",
          "Potatoes",
          "Cassava",
          "Citrus Fruit",
          "Onions & Leeks",
          "Brassicas",
          "Peas",
          "Apples",
          "Other Pulses",
          "Rice",
          "Soymilk",
          "Root Vegetables",
          "Groundnuts",
          "Wheat & Rye (Bread)",
          "Coffee",
          "Other Vegetables",
          "Tofu",
          "Tomatoes",
          "Other Fruit",
          "Rapeseed Oil",
          "Sunflower Oil",
          "Palm Oil",
          "Berries & Grapes",
          "Bananas",
          "Soybean Oil",
          "Olive Oil",
          "Beet Sugar",
          "Cane Sugar"
         ],
         "yaxis": "y"
        },
        {
         "alignmentgroup": "True",
         "hovertemplate": "Type=Dairy<br>Transport=%{x}<br>Product=%{y}<extra></extra>",
         "legendgroup": "Dairy",
         "marker": {
          "color": "#fd9a04",
          "pattern": {
           "shape": ""
          }
         },
         "name": "Dairy",
         "offsetgroup": "Dairy",
         "orientation": "h",
         "showlegend": true,
         "textposition": "auto",
         "type": "bar",
         "x": [
          0.084,
          0.09,
          0.138
         ],
         "xaxis": "x",
         "y": [
          "Eggs",
          "Milk",
          "Cheese"
         ],
         "yaxis": "y"
        },
        {
         "alignmentgroup": "True",
         "hovertemplate": "Type=Seafood<br>Transport=%{x}<br>Product=%{y}<extra></extra>",
         "legendgroup": "Seafood",
         "marker": {
          "color": "#1092d1",
          "pattern": {
           "shape": ""
          }
         },
         "name": "Seafood",
         "offsetgroup": "Seafood",
         "orientation": "h",
         "showlegend": true,
         "textposition": "auto",
         "type": "bar",
         "x": [
          0.111,
          0.206
         ],
         "xaxis": "x",
         "y": [
          "Fish (farmed)",
          "Crustaceans (farmed)"
         ],
         "yaxis": "y"
        },
        {
         "alignmentgroup": "True",
         "hovertemplate": "Type=Meat<br>Transport=%{x}<br>Product=%{y}<extra></extra>",
         "legendgroup": "Meat",
         "marker": {
          "color": "#ff1a0d",
          "pattern": {
           "shape": ""
          }
         },
         "name": "Meat",
         "offsetgroup": "Meat",
         "orientation": "h",
         "showlegend": true,
         "textposition": "auto",
         "type": "bar",
         "x": [
          0.276,
          0.343,
          0.346,
          0.424,
          0.49
         ],
         "xaxis": "x",
         "y": [
          "Poultry Meat",
          "Pig Meat",
          "Bovine Meat (beef herd)",
          "Bovine Meat (dairy herd)",
          "Lamb & Mutton"
         ],
         "yaxis": "y"
        }
       ],
       "layout": {
        "barmode": "relative",
        "height": 800,
        "legend": {
         "title": {
          "text": "Type"
         },
         "tracegroupgap": 0
        },
        "template": {
         "data": {
          "bar": [
           {
            "error_x": {
             "color": "#2a3f5f"
            },
            "error_y": {
             "color": "#2a3f5f"
            },
            "marker": {
             "line": {
              "color": "#E5ECF6",
              "width": 0.5
             },
             "pattern": {
              "fillmode": "overlay",
              "size": 10,
              "solidity": 0.2
             }
            },
            "type": "bar"
           }
          ],
          "barpolar": [
           {
            "marker": {
             "line": {
              "color": "#E5ECF6",
              "width": 0.5
             },
             "pattern": {
              "fillmode": "overlay",
              "size": 10,
              "solidity": 0.2
             }
            },
            "type": "barpolar"
           }
          ],
          "carpet": [
           {
            "aaxis": {
             "endlinecolor": "#2a3f5f",
             "gridcolor": "white",
             "linecolor": "white",
             "minorgridcolor": "white",
             "startlinecolor": "#2a3f5f"
            },
            "baxis": {
             "endlinecolor": "#2a3f5f",
             "gridcolor": "white",
             "linecolor": "white",
             "minorgridcolor": "white",
             "startlinecolor": "#2a3f5f"
            },
            "type": "carpet"
           }
          ],
          "choropleth": [
           {
            "colorbar": {
             "outlinewidth": 0,
             "ticks": ""
            },
            "type": "choropleth"
           }
          ],
          "contour": [
           {
            "colorbar": {
             "outlinewidth": 0,
             "ticks": ""
            },
            "colorscale": [
             [
              0,
              "#0d0887"
             ],
             [
              0.1111111111111111,
              "#46039f"
             ],
             [
              0.2222222222222222,
              "#7201a8"
             ],
             [
              0.3333333333333333,
              "#9c179e"
             ],
             [
              0.4444444444444444,
              "#bd3786"
             ],
             [
              0.5555555555555556,
              "#d8576b"
             ],
             [
              0.6666666666666666,
              "#ed7953"
             ],
             [
              0.7777777777777778,
              "#fb9f3a"
             ],
             [
              0.8888888888888888,
              "#fdca26"
             ],
             [
              1,
              "#f0f921"
             ]
            ],
            "type": "contour"
           }
          ],
          "contourcarpet": [
           {
            "colorbar": {
             "outlinewidth": 0,
             "ticks": ""
            },
            "type": "contourcarpet"
           }
          ],
          "heatmap": [
           {
            "colorbar": {
             "outlinewidth": 0,
             "ticks": ""
            },
            "colorscale": [
             [
              0,
              "#0d0887"
             ],
             [
              0.1111111111111111,
              "#46039f"
             ],
             [
              0.2222222222222222,
              "#7201a8"
             ],
             [
              0.3333333333333333,
              "#9c179e"
             ],
             [
              0.4444444444444444,
              "#bd3786"
             ],
             [
              0.5555555555555556,
              "#d8576b"
             ],
             [
              0.6666666666666666,
              "#ed7953"
             ],
             [
              0.7777777777777778,
              "#fb9f3a"
             ],
             [
              0.8888888888888888,
              "#fdca26"
             ],
             [
              1,
              "#f0f921"
             ]
            ],
            "type": "heatmap"
           }
          ],
          "heatmapgl": [
           {
            "colorbar": {
             "outlinewidth": 0,
             "ticks": ""
            },
            "colorscale": [
             [
              0,
              "#0d0887"
             ],
             [
              0.1111111111111111,
              "#46039f"
             ],
             [
              0.2222222222222222,
              "#7201a8"
             ],
             [
              0.3333333333333333,
              "#9c179e"
             ],
             [
              0.4444444444444444,
              "#bd3786"
             ],
             [
              0.5555555555555556,
              "#d8576b"
             ],
             [
              0.6666666666666666,
              "#ed7953"
             ],
             [
              0.7777777777777778,
              "#fb9f3a"
             ],
             [
              0.8888888888888888,
              "#fdca26"
             ],
             [
              1,
              "#f0f921"
             ]
            ],
            "type": "heatmapgl"
           }
          ],
          "histogram": [
           {
            "marker": {
             "pattern": {
              "fillmode": "overlay",
              "size": 10,
              "solidity": 0.2
             }
            },
            "type": "histogram"
           }
          ],
          "histogram2d": [
           {
            "colorbar": {
             "outlinewidth": 0,
             "ticks": ""
            },
            "colorscale": [
             [
              0,
              "#0d0887"
             ],
             [
              0.1111111111111111,
              "#46039f"
             ],
             [
              0.2222222222222222,
              "#7201a8"
             ],
             [
              0.3333333333333333,
              "#9c179e"
             ],
             [
              0.4444444444444444,
              "#bd3786"
             ],
             [
              0.5555555555555556,
              "#d8576b"
             ],
             [
              0.6666666666666666,
              "#ed7953"
             ],
             [
              0.7777777777777778,
              "#fb9f3a"
             ],
             [
              0.8888888888888888,
              "#fdca26"
             ],
             [
              1,
              "#f0f921"
             ]
            ],
            "type": "histogram2d"
           }
          ],
          "histogram2dcontour": [
           {
            "colorbar": {
             "outlinewidth": 0,
             "ticks": ""
            },
            "colorscale": [
             [
              0,
              "#0d0887"
             ],
             [
              0.1111111111111111,
              "#46039f"
             ],
             [
              0.2222222222222222,
              "#7201a8"
             ],
             [
              0.3333333333333333,
              "#9c179e"
             ],
             [
              0.4444444444444444,
              "#bd3786"
             ],
             [
              0.5555555555555556,
              "#d8576b"
             ],
             [
              0.6666666666666666,
              "#ed7953"
             ],
             [
              0.7777777777777778,
              "#fb9f3a"
             ],
             [
              0.8888888888888888,
              "#fdca26"
             ],
             [
              1,
              "#f0f921"
             ]
            ],
            "type": "histogram2dcontour"
           }
          ],
          "mesh3d": [
           {
            "colorbar": {
             "outlinewidth": 0,
             "ticks": ""
            },
            "type": "mesh3d"
           }
          ],
          "parcoords": [
           {
            "line": {
             "colorbar": {
              "outlinewidth": 0,
              "ticks": ""
             }
            },
            "type": "parcoords"
           }
          ],
          "pie": [
           {
            "automargin": true,
            "type": "pie"
           }
          ],
          "scatter": [
           {
            "fillpattern": {
             "fillmode": "overlay",
             "size": 10,
             "solidity": 0.2
            },
            "type": "scatter"
           }
          ],
          "scatter3d": [
           {
            "line": {
             "colorbar": {
              "outlinewidth": 0,
              "ticks": ""
             }
            },
            "marker": {
             "colorbar": {
              "outlinewidth": 0,
              "ticks": ""
             }
            },
            "type": "scatter3d"
           }
          ],
          "scattercarpet": [
           {
            "marker": {
             "colorbar": {
              "outlinewidth": 0,
              "ticks": ""
             }
            },
            "type": "scattercarpet"
           }
          ],
          "scattergeo": [
           {
            "marker": {
             "colorbar": {
              "outlinewidth": 0,
              "ticks": ""
             }
            },
            "type": "scattergeo"
           }
          ],
          "scattergl": [
           {
            "marker": {
             "colorbar": {
              "outlinewidth": 0,
              "ticks": ""
             }
            },
            "type": "scattergl"
           }
          ],
          "scattermapbox": [
           {
            "marker": {
             "colorbar": {
              "outlinewidth": 0,
              "ticks": ""
             }
            },
            "type": "scattermapbox"
           }
          ],
          "scatterpolar": [
           {
            "marker": {
             "colorbar": {
              "outlinewidth": 0,
              "ticks": ""
             }
            },
            "type": "scatterpolar"
           }
          ],
          "scatterpolargl": [
           {
            "marker": {
             "colorbar": {
              "outlinewidth": 0,
              "ticks": ""
             }
            },
            "type": "scatterpolargl"
           }
          ],
          "scatterternary": [
           {
            "marker": {
             "colorbar": {
              "outlinewidth": 0,
              "ticks": ""
             }
            },
            "type": "scatterternary"
           }
          ],
          "surface": [
           {
            "colorbar": {
             "outlinewidth": 0,
             "ticks": ""
            },
            "colorscale": [
             [
              0,
              "#0d0887"
             ],
             [
              0.1111111111111111,
              "#46039f"
             ],
             [
              0.2222222222222222,
              "#7201a8"
             ],
             [
              0.3333333333333333,
              "#9c179e"
             ],
             [
              0.4444444444444444,
              "#bd3786"
             ],
             [
              0.5555555555555556,
              "#d8576b"
             ],
             [
              0.6666666666666666,
              "#ed7953"
             ],
             [
              0.7777777777777778,
              "#fb9f3a"
             ],
             [
              0.8888888888888888,
              "#fdca26"
             ],
             [
              1,
              "#f0f921"
             ]
            ],
            "type": "surface"
           }
          ],
          "table": [
           {
            "cells": {
             "fill": {
              "color": "#EBF0F8"
             },
             "line": {
              "color": "white"
             }
            },
            "header": {
             "fill": {
              "color": "#C8D4E3"
             },
             "line": {
              "color": "white"
             }
            },
            "type": "table"
           }
          ]
         },
         "layout": {
          "annotationdefaults": {
           "arrowcolor": "#2a3f5f",
           "arrowhead": 0,
           "arrowwidth": 1
          },
          "autotypenumbers": "strict",
          "coloraxis": {
           "colorbar": {
            "outlinewidth": 0,
            "ticks": ""
           }
          },
          "colorscale": {
           "diverging": [
            [
             0,
             "#8e0152"
            ],
            [
             0.1,
             "#c51b7d"
            ],
            [
             0.2,
             "#de77ae"
            ],
            [
             0.3,
             "#f1b6da"
            ],
            [
             0.4,
             "#fde0ef"
            ],
            [
             0.5,
             "#f7f7f7"
            ],
            [
             0.6,
             "#e6f5d0"
            ],
            [
             0.7,
             "#b8e186"
            ],
            [
             0.8,
             "#7fbc41"
            ],
            [
             0.9,
             "#4d9221"
            ],
            [
             1,
             "#276419"
            ]
           ],
           "sequential": [
            [
             0,
             "#0d0887"
            ],
            [
             0.1111111111111111,
             "#46039f"
            ],
            [
             0.2222222222222222,
             "#7201a8"
            ],
            [
             0.3333333333333333,
             "#9c179e"
            ],
            [
             0.4444444444444444,
             "#bd3786"
            ],
            [
             0.5555555555555556,
             "#d8576b"
            ],
            [
             0.6666666666666666,
             "#ed7953"
            ],
            [
             0.7777777777777778,
             "#fb9f3a"
            ],
            [
             0.8888888888888888,
             "#fdca26"
            ],
            [
             1,
             "#f0f921"
            ]
           ],
           "sequentialminus": [
            [
             0,
             "#0d0887"
            ],
            [
             0.1111111111111111,
             "#46039f"
            ],
            [
             0.2222222222222222,
             "#7201a8"
            ],
            [
             0.3333333333333333,
             "#9c179e"
            ],
            [
             0.4444444444444444,
             "#bd3786"
            ],
            [
             0.5555555555555556,
             "#d8576b"
            ],
            [
             0.6666666666666666,
             "#ed7953"
            ],
            [
             0.7777777777777778,
             "#fb9f3a"
            ],
            [
             0.8888888888888888,
             "#fdca26"
            ],
            [
             1,
             "#f0f921"
            ]
           ]
          },
          "colorway": [
           "#636efa",
           "#EF553B",
           "#00cc96",
           "#ab63fa",
           "#FFA15A",
           "#19d3f3",
           "#FF6692",
           "#B6E880",
           "#FF97FF",
           "#FECB52"
          ],
          "font": {
           "color": "#2a3f5f"
          },
          "geo": {
           "bgcolor": "white",
           "lakecolor": "white",
           "landcolor": "#E5ECF6",
           "showlakes": true,
           "showland": true,
           "subunitcolor": "white"
          },
          "hoverlabel": {
           "align": "left"
          },
          "hovermode": "closest",
          "mapbox": {
           "style": "light"
          },
          "paper_bgcolor": "white",
          "plot_bgcolor": "#E5ECF6",
          "polar": {
           "angularaxis": {
            "gridcolor": "white",
            "linecolor": "white",
            "ticks": ""
           },
           "bgcolor": "#E5ECF6",
           "radialaxis": {
            "gridcolor": "white",
            "linecolor": "white",
            "ticks": ""
           }
          },
          "scene": {
           "xaxis": {
            "backgroundcolor": "#E5ECF6",
            "gridcolor": "white",
            "gridwidth": 2,
            "linecolor": "white",
            "showbackground": true,
            "ticks": "",
            "zerolinecolor": "white"
           },
           "yaxis": {
            "backgroundcolor": "#E5ECF6",
            "gridcolor": "white",
            "gridwidth": 2,
            "linecolor": "white",
            "showbackground": true,
            "ticks": "",
            "zerolinecolor": "white"
           },
           "zaxis": {
            "backgroundcolor": "#E5ECF6",
            "gridcolor": "white",
            "gridwidth": 2,
            "linecolor": "white",
            "showbackground": true,
            "ticks": "",
            "zerolinecolor": "white"
           }
          },
          "shapedefaults": {
           "line": {
            "color": "#2a3f5f"
           }
          },
          "ternary": {
           "aaxis": {
            "gridcolor": "white",
            "linecolor": "white",
            "ticks": ""
           },
           "baxis": {
            "gridcolor": "white",
            "linecolor": "white",
            "ticks": ""
           },
           "bgcolor": "#E5ECF6",
           "caxis": {
            "gridcolor": "white",
            "linecolor": "white",
            "ticks": ""
           }
          },
          "title": {
           "x": 0.05
          },
          "xaxis": {
           "automargin": true,
           "gridcolor": "white",
           "linecolor": "white",
           "ticks": "",
           "title": {
            "standoff": 15
           },
           "zerolinecolor": "white",
           "zerolinewidth": 2
          },
          "yaxis": {
           "automargin": true,
           "gridcolor": "white",
           "linecolor": "white",
           "ticks": "",
           "title": {
            "standoff": 15
           },
           "zerolinecolor": "white",
           "zerolinewidth": 2
          }
         }
        },
        "title": {
         "text": "Transport emissions per product"
        },
        "xaxis": {
         "anchor": "y",
         "domain": [
          0,
          1
         ],
         "title": {
          "text": "Transport"
         }
        },
        "yaxis": {
         "anchor": "x",
         "categoryarray": [
          "Barley (Beer)",
          "Maize (Meal)",
          "Dark Chocolate",
          "Oatmeal",
          "Nuts",
          "Eggs",
          "Milk",
          "Wine",
          "Potatoes",
          "Cassava",
          "Citrus Fruit",
          "Onions & Leeks",
          "Brassicas",
          "Peas",
          "Apples",
          "Other Pulses",
          "Rice",
          "Soymilk",
          "Fish (farmed)",
          "Root Vegetables",
          "Groundnuts",
          "Wheat & Rye (Bread)",
          "Coffee",
          "Cheese",
          "Other Vegetables",
          "Tofu",
          "Tomatoes",
          "Other Fruit",
          "Rapeseed Oil",
          "Sunflower Oil",
          "Crustaceans (farmed)",
          "Palm Oil",
          "Berries & Grapes",
          "Poultry Meat",
          "Bananas",
          "Soybean Oil",
          "Pig Meat",
          "Bovine Meat (beef herd)",
          "Bovine Meat (dairy herd)",
          "Olive Oil",
          "Lamb & Mutton",
          "Beet Sugar",
          "Cane Sugar"
         ],
         "categoryorder": "array",
         "domain": [
          0,
          1
         ],
         "title": {
          "text": "Product"
         }
        }
       }
      },
      "text/html": [
       "<div>                            <div id=\"f844eb9a-db60-46df-9fd5-61b167141d9b\" class=\"plotly-graph-div\" style=\"height:800px; width:100%;\"></div>            <script type=\"text/javascript\">                require([\"plotly\"], function(Plotly) {                    window.PLOTLYENV=window.PLOTLYENV || {};                                    if (document.getElementById(\"f844eb9a-db60-46df-9fd5-61b167141d9b\")) {                    Plotly.newPlot(                        \"f844eb9a-db60-46df-9fd5-61b167141d9b\",                        [{\"alignmentgroup\":\"True\",\"hovertemplate\":\"Type=Crops\\u003cbr\\u003eTransport=%{x}\\u003cbr\\u003eProduct=%{y}\\u003cextra\\u003e\\u003c\\u002fextra\\u003e\",\"legendgroup\":\"Crops\",\"marker\":{\"color\":\"#35A85A\",\"pattern\":{\"shape\":\"\"}},\"name\":\"Crops\",\"offsetgroup\":\"Crops\",\"orientation\":\"h\",\"showlegend\":true,\"textposition\":\"auto\",\"x\":[0.035,0.06,0.061,0.067,0.067,0.093,0.094,0.094,0.094,0.095,0.095,0.095,0.096,0.096,0.096,0.11,0.114,0.12,0.129,0.13,0.164,0.177,0.177,0.182,0.19,0.201,0.208,0.238,0.292,0.299,0.482,0.629,0.784],\"xaxis\":\"x\",\"y\":[\"Barley (Beer)\",\"Maize (Meal)\",\"Dark Chocolate\",\"Oatmeal\",\"Nuts\",\"Wine\",\"Potatoes\",\"Cassava\",\"Citrus Fruit\",\"Onions & Leeks\",\"Brassicas\",\"Peas\",\"Apples\",\"Other Pulses\",\"Rice\",\"Soymilk\",\"Root Vegetables\",\"Groundnuts\",\"Wheat & Rye (Bread)\",\"Coffee\",\"Other Vegetables\",\"Tofu\",\"Tomatoes\",\"Other Fruit\",\"Rapeseed Oil\",\"Sunflower Oil\",\"Palm Oil\",\"Berries & Grapes\",\"Bananas\",\"Soybean Oil\",\"Olive Oil\",\"Beet Sugar\",\"Cane Sugar\"],\"yaxis\":\"y\",\"type\":\"bar\"},{\"alignmentgroup\":\"True\",\"hovertemplate\":\"Type=Dairy\\u003cbr\\u003eTransport=%{x}\\u003cbr\\u003eProduct=%{y}\\u003cextra\\u003e\\u003c\\u002fextra\\u003e\",\"legendgroup\":\"Dairy\",\"marker\":{\"color\":\"#fd9a04\",\"pattern\":{\"shape\":\"\"}},\"name\":\"Dairy\",\"offsetgroup\":\"Dairy\",\"orientation\":\"h\",\"showlegend\":true,\"textposition\":\"auto\",\"x\":[0.084,0.09,0.138],\"xaxis\":\"x\",\"y\":[\"Eggs\",\"Milk\",\"Cheese\"],\"yaxis\":\"y\",\"type\":\"bar\"},{\"alignmentgroup\":\"True\",\"hovertemplate\":\"Type=Seafood\\u003cbr\\u003eTransport=%{x}\\u003cbr\\u003eProduct=%{y}\\u003cextra\\u003e\\u003c\\u002fextra\\u003e\",\"legendgroup\":\"Seafood\",\"marker\":{\"color\":\"#1092d1\",\"pattern\":{\"shape\":\"\"}},\"name\":\"Seafood\",\"offsetgroup\":\"Seafood\",\"orientation\":\"h\",\"showlegend\":true,\"textposition\":\"auto\",\"x\":[0.111,0.206],\"xaxis\":\"x\",\"y\":[\"Fish (farmed)\",\"Crustaceans (farmed)\"],\"yaxis\":\"y\",\"type\":\"bar\"},{\"alignmentgroup\":\"True\",\"hovertemplate\":\"Type=Meat\\u003cbr\\u003eTransport=%{x}\\u003cbr\\u003eProduct=%{y}\\u003cextra\\u003e\\u003c\\u002fextra\\u003e\",\"legendgroup\":\"Meat\",\"marker\":{\"color\":\"#ff1a0d\",\"pattern\":{\"shape\":\"\"}},\"name\":\"Meat\",\"offsetgroup\":\"Meat\",\"orientation\":\"h\",\"showlegend\":true,\"textposition\":\"auto\",\"x\":[0.276,0.343,0.346,0.424,0.49],\"xaxis\":\"x\",\"y\":[\"Poultry Meat\",\"Pig Meat\",\"Bovine Meat (beef herd)\",\"Bovine Meat (dairy herd)\",\"Lamb & Mutton\"],\"yaxis\":\"y\",\"type\":\"bar\"}],                        {\"template\":{\"data\":{\"histogram2dcontour\":[{\"type\":\"histogram2dcontour\",\"colorbar\":{\"outlinewidth\":0,\"ticks\":\"\"},\"colorscale\":[[0.0,\"#0d0887\"],[0.1111111111111111,\"#46039f\"],[0.2222222222222222,\"#7201a8\"],[0.3333333333333333,\"#9c179e\"],[0.4444444444444444,\"#bd3786\"],[0.5555555555555556,\"#d8576b\"],[0.6666666666666666,\"#ed7953\"],[0.7777777777777778,\"#fb9f3a\"],[0.8888888888888888,\"#fdca26\"],[1.0,\"#f0f921\"]]}],\"choropleth\":[{\"type\":\"choropleth\",\"colorbar\":{\"outlinewidth\":0,\"ticks\":\"\"}}],\"histogram2d\":[{\"type\":\"histogram2d\",\"colorbar\":{\"outlinewidth\":0,\"ticks\":\"\"},\"colorscale\":[[0.0,\"#0d0887\"],[0.1111111111111111,\"#46039f\"],[0.2222222222222222,\"#7201a8\"],[0.3333333333333333,\"#9c179e\"],[0.4444444444444444,\"#bd3786\"],[0.5555555555555556,\"#d8576b\"],[0.6666666666666666,\"#ed7953\"],[0.7777777777777778,\"#fb9f3a\"],[0.8888888888888888,\"#fdca26\"],[1.0,\"#f0f921\"]]}],\"heatmap\":[{\"type\":\"heatmap\",\"colorbar\":{\"outlinewidth\":0,\"ticks\":\"\"},\"colorscale\":[[0.0,\"#0d0887\"],[0.1111111111111111,\"#46039f\"],[0.2222222222222222,\"#7201a8\"],[0.3333333333333333,\"#9c179e\"],[0.4444444444444444,\"#bd3786\"],[0.5555555555555556,\"#d8576b\"],[0.6666666666666666,\"#ed7953\"],[0.7777777777777778,\"#fb9f3a\"],[0.8888888888888888,\"#fdca26\"],[1.0,\"#f0f921\"]]}],\"heatmapgl\":[{\"type\":\"heatmapgl\",\"colorbar\":{\"outlinewidth\":0,\"ticks\":\"\"},\"colorscale\":[[0.0,\"#0d0887\"],[0.1111111111111111,\"#46039f\"],[0.2222222222222222,\"#7201a8\"],[0.3333333333333333,\"#9c179e\"],[0.4444444444444444,\"#bd3786\"],[0.5555555555555556,\"#d8576b\"],[0.6666666666666666,\"#ed7953\"],[0.7777777777777778,\"#fb9f3a\"],[0.8888888888888888,\"#fdca26\"],[1.0,\"#f0f921\"]]}],\"contourcarpet\":[{\"type\":\"contourcarpet\",\"colorbar\":{\"outlinewidth\":0,\"ticks\":\"\"}}],\"contour\":[{\"type\":\"contour\",\"colorbar\":{\"outlinewidth\":0,\"ticks\":\"\"},\"colorscale\":[[0.0,\"#0d0887\"],[0.1111111111111111,\"#46039f\"],[0.2222222222222222,\"#7201a8\"],[0.3333333333333333,\"#9c179e\"],[0.4444444444444444,\"#bd3786\"],[0.5555555555555556,\"#d8576b\"],[0.6666666666666666,\"#ed7953\"],[0.7777777777777778,\"#fb9f3a\"],[0.8888888888888888,\"#fdca26\"],[1.0,\"#f0f921\"]]}],\"surface\":[{\"type\":\"surface\",\"colorbar\":{\"outlinewidth\":0,\"ticks\":\"\"},\"colorscale\":[[0.0,\"#0d0887\"],[0.1111111111111111,\"#46039f\"],[0.2222222222222222,\"#7201a8\"],[0.3333333333333333,\"#9c179e\"],[0.4444444444444444,\"#bd3786\"],[0.5555555555555556,\"#d8576b\"],[0.6666666666666666,\"#ed7953\"],[0.7777777777777778,\"#fb9f3a\"],[0.8888888888888888,\"#fdca26\"],[1.0,\"#f0f921\"]]}],\"mesh3d\":[{\"type\":\"mesh3d\",\"colorbar\":{\"outlinewidth\":0,\"ticks\":\"\"}}],\"scatter\":[{\"fillpattern\":{\"fillmode\":\"overlay\",\"size\":10,\"solidity\":0.2},\"type\":\"scatter\"}],\"parcoords\":[{\"type\":\"parcoords\",\"line\":{\"colorbar\":{\"outlinewidth\":0,\"ticks\":\"\"}}}],\"scatterpolargl\":[{\"type\":\"scatterpolargl\",\"marker\":{\"colorbar\":{\"outlinewidth\":0,\"ticks\":\"\"}}}],\"bar\":[{\"error_x\":{\"color\":\"#2a3f5f\"},\"error_y\":{\"color\":\"#2a3f5f\"},\"marker\":{\"line\":{\"color\":\"#E5ECF6\",\"width\":0.5},\"pattern\":{\"fillmode\":\"overlay\",\"size\":10,\"solidity\":0.2}},\"type\":\"bar\"}],\"scattergeo\":[{\"type\":\"scattergeo\",\"marker\":{\"colorbar\":{\"outlinewidth\":0,\"ticks\":\"\"}}}],\"scatterpolar\":[{\"type\":\"scatterpolar\",\"marker\":{\"colorbar\":{\"outlinewidth\":0,\"ticks\":\"\"}}}],\"histogram\":[{\"marker\":{\"pattern\":{\"fillmode\":\"overlay\",\"size\":10,\"solidity\":0.2}},\"type\":\"histogram\"}],\"scattergl\":[{\"type\":\"scattergl\",\"marker\":{\"colorbar\":{\"outlinewidth\":0,\"ticks\":\"\"}}}],\"scatter3d\":[{\"type\":\"scatter3d\",\"line\":{\"colorbar\":{\"outlinewidth\":0,\"ticks\":\"\"}},\"marker\":{\"colorbar\":{\"outlinewidth\":0,\"ticks\":\"\"}}}],\"scattermapbox\":[{\"type\":\"scattermapbox\",\"marker\":{\"colorbar\":{\"outlinewidth\":0,\"ticks\":\"\"}}}],\"scatterternary\":[{\"type\":\"scatterternary\",\"marker\":{\"colorbar\":{\"outlinewidth\":0,\"ticks\":\"\"}}}],\"scattercarpet\":[{\"type\":\"scattercarpet\",\"marker\":{\"colorbar\":{\"outlinewidth\":0,\"ticks\":\"\"}}}],\"carpet\":[{\"aaxis\":{\"endlinecolor\":\"#2a3f5f\",\"gridcolor\":\"white\",\"linecolor\":\"white\",\"minorgridcolor\":\"white\",\"startlinecolor\":\"#2a3f5f\"},\"baxis\":{\"endlinecolor\":\"#2a3f5f\",\"gridcolor\":\"white\",\"linecolor\":\"white\",\"minorgridcolor\":\"white\",\"startlinecolor\":\"#2a3f5f\"},\"type\":\"carpet\"}],\"table\":[{\"cells\":{\"fill\":{\"color\":\"#EBF0F8\"},\"line\":{\"color\":\"white\"}},\"header\":{\"fill\":{\"color\":\"#C8D4E3\"},\"line\":{\"color\":\"white\"}},\"type\":\"table\"}],\"barpolar\":[{\"marker\":{\"line\":{\"color\":\"#E5ECF6\",\"width\":0.5},\"pattern\":{\"fillmode\":\"overlay\",\"size\":10,\"solidity\":0.2}},\"type\":\"barpolar\"}],\"pie\":[{\"automargin\":true,\"type\":\"pie\"}]},\"layout\":{\"autotypenumbers\":\"strict\",\"colorway\":[\"#636efa\",\"#EF553B\",\"#00cc96\",\"#ab63fa\",\"#FFA15A\",\"#19d3f3\",\"#FF6692\",\"#B6E880\",\"#FF97FF\",\"#FECB52\"],\"font\":{\"color\":\"#2a3f5f\"},\"hovermode\":\"closest\",\"hoverlabel\":{\"align\":\"left\"},\"paper_bgcolor\":\"white\",\"plot_bgcolor\":\"#E5ECF6\",\"polar\":{\"bgcolor\":\"#E5ECF6\",\"angularaxis\":{\"gridcolor\":\"white\",\"linecolor\":\"white\",\"ticks\":\"\"},\"radialaxis\":{\"gridcolor\":\"white\",\"linecolor\":\"white\",\"ticks\":\"\"}},\"ternary\":{\"bgcolor\":\"#E5ECF6\",\"aaxis\":{\"gridcolor\":\"white\",\"linecolor\":\"white\",\"ticks\":\"\"},\"baxis\":{\"gridcolor\":\"white\",\"linecolor\":\"white\",\"ticks\":\"\"},\"caxis\":{\"gridcolor\":\"white\",\"linecolor\":\"white\",\"ticks\":\"\"}},\"coloraxis\":{\"colorbar\":{\"outlinewidth\":0,\"ticks\":\"\"}},\"colorscale\":{\"sequential\":[[0.0,\"#0d0887\"],[0.1111111111111111,\"#46039f\"],[0.2222222222222222,\"#7201a8\"],[0.3333333333333333,\"#9c179e\"],[0.4444444444444444,\"#bd3786\"],[0.5555555555555556,\"#d8576b\"],[0.6666666666666666,\"#ed7953\"],[0.7777777777777778,\"#fb9f3a\"],[0.8888888888888888,\"#fdca26\"],[1.0,\"#f0f921\"]],\"sequentialminus\":[[0.0,\"#0d0887\"],[0.1111111111111111,\"#46039f\"],[0.2222222222222222,\"#7201a8\"],[0.3333333333333333,\"#9c179e\"],[0.4444444444444444,\"#bd3786\"],[0.5555555555555556,\"#d8576b\"],[0.6666666666666666,\"#ed7953\"],[0.7777777777777778,\"#fb9f3a\"],[0.8888888888888888,\"#fdca26\"],[1.0,\"#f0f921\"]],\"diverging\":[[0,\"#8e0152\"],[0.1,\"#c51b7d\"],[0.2,\"#de77ae\"],[0.3,\"#f1b6da\"],[0.4,\"#fde0ef\"],[0.5,\"#f7f7f7\"],[0.6,\"#e6f5d0\"],[0.7,\"#b8e186\"],[0.8,\"#7fbc41\"],[0.9,\"#4d9221\"],[1,\"#276419\"]]},\"xaxis\":{\"gridcolor\":\"white\",\"linecolor\":\"white\",\"ticks\":\"\",\"title\":{\"standoff\":15},\"zerolinecolor\":\"white\",\"automargin\":true,\"zerolinewidth\":2},\"yaxis\":{\"gridcolor\":\"white\",\"linecolor\":\"white\",\"ticks\":\"\",\"title\":{\"standoff\":15},\"zerolinecolor\":\"white\",\"automargin\":true,\"zerolinewidth\":2},\"scene\":{\"xaxis\":{\"backgroundcolor\":\"#E5ECF6\",\"gridcolor\":\"white\",\"linecolor\":\"white\",\"showbackground\":true,\"ticks\":\"\",\"zerolinecolor\":\"white\",\"gridwidth\":2},\"yaxis\":{\"backgroundcolor\":\"#E5ECF6\",\"gridcolor\":\"white\",\"linecolor\":\"white\",\"showbackground\":true,\"ticks\":\"\",\"zerolinecolor\":\"white\",\"gridwidth\":2},\"zaxis\":{\"backgroundcolor\":\"#E5ECF6\",\"gridcolor\":\"white\",\"linecolor\":\"white\",\"showbackground\":true,\"ticks\":\"\",\"zerolinecolor\":\"white\",\"gridwidth\":2}},\"shapedefaults\":{\"line\":{\"color\":\"#2a3f5f\"}},\"annotationdefaults\":{\"arrowcolor\":\"#2a3f5f\",\"arrowhead\":0,\"arrowwidth\":1},\"geo\":{\"bgcolor\":\"white\",\"landcolor\":\"#E5ECF6\",\"subunitcolor\":\"white\",\"showland\":true,\"showlakes\":true,\"lakecolor\":\"white\"},\"title\":{\"x\":0.05},\"mapbox\":{\"style\":\"light\"}}},\"xaxis\":{\"anchor\":\"y\",\"domain\":[0.0,1.0],\"title\":{\"text\":\"Transport\"}},\"yaxis\":{\"anchor\":\"x\",\"domain\":[0.0,1.0],\"title\":{\"text\":\"Product\"},\"categoryorder\":\"array\",\"categoryarray\":[\"Barley (Beer)\",\"Maize (Meal)\",\"Dark Chocolate\",\"Oatmeal\",\"Nuts\",\"Eggs\",\"Milk\",\"Wine\",\"Potatoes\",\"Cassava\",\"Citrus Fruit\",\"Onions & Leeks\",\"Brassicas\",\"Peas\",\"Apples\",\"Other Pulses\",\"Rice\",\"Soymilk\",\"Fish (farmed)\",\"Root Vegetables\",\"Groundnuts\",\"Wheat & Rye (Bread)\",\"Coffee\",\"Cheese\",\"Other Vegetables\",\"Tofu\",\"Tomatoes\",\"Other Fruit\",\"Rapeseed Oil\",\"Sunflower Oil\",\"Crustaceans (farmed)\",\"Palm Oil\",\"Berries & Grapes\",\"Poultry Meat\",\"Bananas\",\"Soybean Oil\",\"Pig Meat\",\"Bovine Meat (beef herd)\",\"Bovine Meat (dairy herd)\",\"Olive Oil\",\"Lamb & Mutton\",\"Beet Sugar\",\"Cane Sugar\"]},\"legend\":{\"title\":{\"text\":\"Type\"},\"tracegroupgap\":0},\"title\":{\"text\":\"Transport emissions per product\"},\"barmode\":\"relative\",\"height\":800},                        {\"responsive\": true}                    ).then(function(){\n",
       "                            \n",
       "var gd = document.getElementById('f844eb9a-db60-46df-9fd5-61b167141d9b');\n",
       "var x = new MutationObserver(function (mutations, observer) {{\n",
       "        var display = window.getComputedStyle(gd).display;\n",
       "        if (!display || display === 'none') {{\n",
       "            console.log([gd, 'removed!']);\n",
       "            Plotly.purge(gd);\n",
       "            observer.disconnect();\n",
       "        }}\n",
       "}});\n",
       "\n",
       "// Listen for the removal of the full notebook cells\n",
       "var notebookContainer = gd.closest('#notebook-container');\n",
       "if (notebookContainer) {{\n",
       "    x.observe(notebookContainer, {childList: true});\n",
       "}}\n",
       "\n",
       "// Listen for the clearing of the current output cell\n",
       "var outputEl = gd.closest('.output');\n",
       "if (outputEl) {{\n",
       "    x.observe(outputEl, {childList: true});\n",
       "}}\n",
       "\n",
       "                        })                };                });            </script>        </div>"
      ]
     },
     "metadata": {},
     "output_type": "display_data"
    }
   ],
   "source": [
    "df_transport =  pd.read_excel('dataset1.xls', sheet_name=2, skiprows=2, nrows=43, usecols=\"A, J\")\n",
    "\n",
    "# assigns categories\n",
    "df_transport['Type'] = 'Crops'\n",
    "df_transport.loc[33:37, 'Type'] = 'Meat'\n",
    "df_transport.loc[38:40, 'Type'] = 'Dairy'\n",
    "df_transport.loc[41:42, 'Type'] = 'Seafood'\n",
    "\n",
    "df_transport = df_transport.sort_values(by='Transport')\n",
    "df_transport = df_transport.set_index('Product')\n",
    "\n",
    "fig1 = px.bar(df_transport,\n",
    "    y=df_transport.index,\n",
    "    x='Transport',\n",
    "    orientation='h',\n",
    "    color='Type',\n",
    "        color_discrete_map={\n",
    "        'Crops': crop_color,\n",
    "        'Meat': meat_color,\n",
    "        'Dairy': dairy_color,\n",
    "        'Seafood': seafood_color\n",
    "    },\n",
    "    height=800,\n",
    "    title=\"Transport emissions per product\")\n",
    "\n",
    "fig1.update_layout( yaxis={'categoryorder':'array', 'categoryarray':df_transport.index})\n",
    "fig1.show()"
   ]
  },
  {
   "cell_type": "markdown",
   "id": "f42acdcd",
   "metadata": {},
   "source": [
    "> *Figure 6: Bar chart of transport emissions*"
   ]
  },
  {
   "cell_type": "markdown",
   "id": "eeb6f9d9",
   "metadata": {},
   "source": [
    "In enim justo, rhoncus ut, imperdiet a, venenatis vitae, justo. Nullam dictum felis eu pede mollis pretium. Integer tincidunt. Cras dapibus. Vivamus elementum semper nisi. Aenean vulputate eleifend tellus. Aenean leo ligula, porttitor eu, consequat vitae, eleifend ac, enim. Aliquam lorem ante, dapibus in, viverra quis, feugiat a, tellus."
   ]
  },
  {
   "cell_type": "markdown",
   "id": "8f7de72c",
   "metadata": {},
   "source": [
    "## Global food production is the answer"
   ]
  },
  {
   "cell_type": "markdown",
   "id": "a3524399",
   "metadata": {},
   "source": [
    "In enim justo, rhoncus ut, imperdiet a, venenatis vitae, justo. Nullam dictum felis eu pede mollis pretium. Integer tincidunt. Cras dapibus. Vivamus elementum semper nisi. Aenean vulputate eleifend tellus. Aenean leo ligula, porttitor eu, consequat vitae, eleifend ac, enim. Aliquam lorem ante, dapibus in, viverra quis, feugiat a, tellus."
   ]
  },
  {
   "cell_type": "markdown",
   "id": "bf522e30-74ba-4774-a6a0-a94f3d827123",
   "metadata": {},
   "source": [
    "### Transport emissions are just a sliver of the whole"
   ]
  },
  {
   "cell_type": "markdown",
   "id": "51f7128d-2dd5-42ff-a178-bd7d6457d749",
   "metadata": {},
   "source": [
    "Sed ut perspiciatis unde omnis iste natus error sit voluptatem accusantium doloremque laudantium, totam rem aperiam, eaque ipsa quae ab illo inventore veritatis et quasi architecto beatae vitae dicta sunt explicabo. Nemo enim ipsam voluptatem quia voluptas sit aspernatur aut odit aut fugit, sed quia consequuntur magni dolores eos qui ratione voluptatem sequi nesciunt."
   ]
  },
  {
   "cell_type": "code",
   "execution_count": null,
   "id": "e6372635",
   "metadata": {
    "tags": [
     "hide-input"
    ]
   },
   "outputs": [
    {
     "data": {
      "application/vnd.plotly.v1+json": {
       "config": {
        "plotlyServerURL": "https://plot.ly"
       },
       "data": [
        {
         "alignmentgroup": "True",
         "hovertemplate": "Stage=Land Use Change<br>Emissions=%{x}<br>Product=%{y}<extra></extra>",
         "legendgroup": "Land Use Change",
         "marker": {
          "color": "#4C78A8",
          "pattern": {
           "shape": ""
          }
         },
         "name": "Land Use Change",
         "offsetgroup": "Land Use Change",
         "orientation": "h",
         "showlegend": true,
         "textposition": "auto",
         "type": "bar",
         "x": [
          -2.052,
          -0.146,
          -0.029,
          0.013,
          -0.001,
          0.005,
          0.002,
          0.001,
          -0.025,
          0.126,
          0,
          0.18,
          0.589,
          0.315,
          0.009,
          0.025,
          0.372,
          0.1,
          0,
          0.001,
          -0.061,
          0.033,
          0.439,
          1.247,
          0.495,
          0.958,
          0.133,
          0.212,
          -0.022,
          0.709,
          0.534,
          -0.377,
          2.54,
          3.096,
          1.535,
          3.096,
          0.206,
          3.688,
          14.308,
          0.906,
          4.455,
          0.468,
          16.278
         ],
         "xaxis": "x",
         "y": [
          "Nuts",
          "Citrus Fruit",
          "Apples",
          "Root Vegetables",
          "Potatoes",
          "Onions & Leeks",
          "Brassicas",
          "Other Vegetables",
          "Bananas",
          "Other Fruit",
          "Peas",
          "Soymilk",
          "Cassava",
          "Maize (Meal)",
          "Barley (Beer)",
          "Berries & Grapes",
          "Tomatoes",
          "Wheat & Rye (Bread)",
          "Beet Sugar",
          "Oatmeal",
          "Wine",
          "Other Pulses",
          "Groundnuts",
          "Cane Sugar",
          "Milk",
          "Tofu",
          "Sunflower Oil",
          "Rapeseed Oil",
          "Rice",
          "Eggs",
          "Fish (farmed)",
          "Olive Oil",
          "Poultry Meat",
          "Soybean Oil",
          "Pig Meat",
          "Palm Oil",
          "Crustaceans (farmed)",
          "Coffee",
          "Dark Chocolate",
          "Bovine Meat (dairy herd)",
          "Cheese",
          "Lamb & Mutton",
          "Bovine Meat (beef herd)"
         ],
         "yaxis": "y"
        },
        {
         "alignmentgroup": "True",
         "hovertemplate": "Stage=Feed<br>Emissions=%{x}<br>Product=%{y}<extra></extra>",
         "legendgroup": "Feed",
         "marker": {
          "color": "#F58518",
          "pattern": {
           "shape": ""
          }
         },
         "name": "Feed",
         "offsetgroup": "Feed",
         "orientation": "h",
         "showlegend": true,
         "textposition": "auto",
         "type": "bar",
         "x": [
          0,
          0,
          0,
          0,
          0,
          0,
          0,
          0,
          0,
          0,
          0,
          0,
          0,
          0,
          0,
          0,
          0,
          0,
          0,
          0,
          0,
          0,
          0,
          0,
          0.236,
          0,
          0,
          0,
          0,
          2.2,
          0.819,
          0,
          1.775,
          0,
          2.94,
          0,
          2.51,
          0,
          0,
          2.508,
          2.346,
          2.37,
          1.878
         ],
         "xaxis": "x",
         "y": [
          "Nuts",
          "Citrus Fruit",
          "Apples",
          "Root Vegetables",
          "Potatoes",
          "Onions & Leeks",
          "Brassicas",
          "Other Vegetables",
          "Bananas",
          "Other Fruit",
          "Peas",
          "Soymilk",
          "Cassava",
          "Maize (Meal)",
          "Barley (Beer)",
          "Berries & Grapes",
          "Tomatoes",
          "Wheat & Rye (Bread)",
          "Beet Sugar",
          "Oatmeal",
          "Wine",
          "Other Pulses",
          "Groundnuts",
          "Cane Sugar",
          "Milk",
          "Tofu",
          "Sunflower Oil",
          "Rapeseed Oil",
          "Rice",
          "Eggs",
          "Fish (farmed)",
          "Olive Oil",
          "Poultry Meat",
          "Soybean Oil",
          "Pig Meat",
          "Palm Oil",
          "Crustaceans (farmed)",
          "Coffee",
          "Dark Chocolate",
          "Bovine Meat (dairy herd)",
          "Cheese",
          "Lamb & Mutton",
          "Bovine Meat (beef herd)"
         ],
         "yaxis": "y"
        },
        {
         "alignmentgroup": "True",
         "hovertemplate": "Stage=Farm<br>Emissions=%{x}<br>Product=%{y}<extra></extra>",
         "legendgroup": "Farm",
         "marker": {
          "color": "#E45756",
          "pattern": {
           "shape": ""
          }
         },
         "name": "Farm",
         "offsetgroup": "Farm",
         "orientation": "h",
         "showlegend": true,
         "textposition": "auto",
         "type": "bar",
         "x": [
          2.126,
          0.307,
          0.225,
          0.154,
          0.193,
          0.211,
          0.278,
          0.174,
          0.266,
          0.369,
          0.717,
          0.093,
          0.22,
          0.475,
          0.176,
          0.722,
          0.704,
          0.847,
          0.536,
          1.37,
          0.626,
          1.089,
          1.425,
          0.485,
          1.458,
          0.495,
          2.148,
          2.343,
          3.553,
          1.317,
          3.598,
          4.272,
          0.672,
          1.519,
          1.694,
          2.107,
          8.379,
          10.386,
          3.706,
          15.689,
          13.059,
          19.508,
          39.388
         ],
         "xaxis": "x",
         "y": [
          "Nuts",
          "Citrus Fruit",
          "Apples",
          "Root Vegetables",
          "Potatoes",
          "Onions & Leeks",
          "Brassicas",
          "Other Vegetables",
          "Bananas",
          "Other Fruit",
          "Peas",
          "Soymilk",
          "Cassava",
          "Maize (Meal)",
          "Barley (Beer)",
          "Berries & Grapes",
          "Tomatoes",
          "Wheat & Rye (Bread)",
          "Beet Sugar",
          "Oatmeal",
          "Wine",
          "Other Pulses",
          "Groundnuts",
          "Cane Sugar",
          "Milk",
          "Tofu",
          "Sunflower Oil",
          "Rapeseed Oil",
          "Rice",
          "Eggs",
          "Fish (farmed)",
          "Olive Oil",
          "Poultry Meat",
          "Soybean Oil",
          "Pig Meat",
          "Palm Oil",
          "Crustaceans (farmed)",
          "Coffee",
          "Dark Chocolate",
          "Bovine Meat (dairy herd)",
          "Cheese",
          "Lamb & Mutton",
          "Bovine Meat (beef herd)"
         ],
         "yaxis": "y"
        },
        {
         "alignmentgroup": "True",
         "hovertemplate": "Stage=Processing<br>Emissions=%{x}<br>Product=%{y}<extra></extra>",
         "legendgroup": "Processing",
         "marker": {
          "color": "#72B7B2",
          "pattern": {
           "shape": ""
          }
         },
         "name": "Processing",
         "offsetgroup": "Processing",
         "orientation": "h",
         "showlegend": true,
         "textposition": "auto",
         "type": "bar",
         "x": [
          0.032,
          0,
          0.004,
          0,
          0,
          0,
          0,
          0.06,
          0.059,
          0.015,
          0,
          0.163,
          0,
          0.052,
          0.128,
          0,
          0.012,
          0.217,
          0.242,
          0.042,
          0.139,
          0,
          0.372,
          0.037,
          0.149,
          0.794,
          0.229,
          0.193,
          0.065,
          0,
          0.02,
          0.66,
          0.44,
          0.311,
          0.284,
          1.264,
          0,
          0.592,
          0.185,
          1.108,
          0.738,
          1.111,
          1.269
         ],
         "xaxis": "x",
         "y": [
          "Nuts",
          "Citrus Fruit",
          "Apples",
          "Root Vegetables",
          "Potatoes",
          "Onions & Leeks",
          "Brassicas",
          "Other Vegetables",
          "Bananas",
          "Other Fruit",
          "Peas",
          "Soymilk",
          "Cassava",
          "Maize (Meal)",
          "Barley (Beer)",
          "Berries & Grapes",
          "Tomatoes",
          "Wheat & Rye (Bread)",
          "Beet Sugar",
          "Oatmeal",
          "Wine",
          "Other Pulses",
          "Groundnuts",
          "Cane Sugar",
          "Milk",
          "Tofu",
          "Sunflower Oil",
          "Rapeseed Oil",
          "Rice",
          "Eggs",
          "Fish (farmed)",
          "Olive Oil",
          "Poultry Meat",
          "Soybean Oil",
          "Pig Meat",
          "Palm Oil",
          "Crustaceans (farmed)",
          "Coffee",
          "Dark Chocolate",
          "Bovine Meat (dairy herd)",
          "Cheese",
          "Lamb & Mutton",
          "Bovine Meat (beef herd)"
         ],
         "yaxis": "y"
        },
        {
         "alignmentgroup": "True",
         "hovertemplate": "Stage=Transport<br>Emissions=%{x}<br>Product=%{y}<extra></extra>",
         "legendgroup": "Transport",
         "marker": {
          "color": "#54A24B",
          "pattern": {
           "shape": ""
          }
         },
         "name": "Transport",
         "offsetgroup": "Transport",
         "orientation": "h",
         "showlegend": true,
         "textposition": "auto",
         "type": "bar",
         "x": [
          0.067,
          0.094,
          0.096,
          0.114,
          0.094,
          0.095,
          0.095,
          0.164,
          0.292,
          0.182,
          0.095,
          0.11,
          0.094,
          0.06,
          0.035,
          0.238,
          0.177,
          0.129,
          0.629,
          0.067,
          0.093,
          0.096,
          0.12,
          0.784,
          0.09,
          0.177,
          0.201,
          0.19,
          0.096,
          0.084,
          0.111,
          0.482,
          0.276,
          0.299,
          0.343,
          0.208,
          0.206,
          0.13,
          0.061,
          0.424,
          0.138,
          0.49,
          0.346
         ],
         "xaxis": "x",
         "y": [
          "Nuts",
          "Citrus Fruit",
          "Apples",
          "Root Vegetables",
          "Potatoes",
          "Onions & Leeks",
          "Brassicas",
          "Other Vegetables",
          "Bananas",
          "Other Fruit",
          "Peas",
          "Soymilk",
          "Cassava",
          "Maize (Meal)",
          "Barley (Beer)",
          "Berries & Grapes",
          "Tomatoes",
          "Wheat & Rye (Bread)",
          "Beet Sugar",
          "Oatmeal",
          "Wine",
          "Other Pulses",
          "Groundnuts",
          "Cane Sugar",
          "Milk",
          "Tofu",
          "Sunflower Oil",
          "Rapeseed Oil",
          "Rice",
          "Eggs",
          "Fish (farmed)",
          "Olive Oil",
          "Poultry Meat",
          "Soybean Oil",
          "Pig Meat",
          "Palm Oil",
          "Crustaceans (farmed)",
          "Coffee",
          "Dark Chocolate",
          "Bovine Meat (dairy herd)",
          "Cheese",
          "Lamb & Mutton",
          "Bovine Meat (beef herd)"
         ],
         "yaxis": "y"
        },
        {
         "alignmentgroup": "True",
         "hovertemplate": "Stage=Packaging<br>Emissions=%{x}<br>Product=%{y}<extra></extra>",
         "legendgroup": "Packaging",
         "marker": {
          "color": "#EECA3B",
          "pattern": {
           "shape": ""
          }
         },
         "name": "Packaging",
         "offsetgroup": "Packaging",
         "orientation": "h",
         "showlegend": true,
         "textposition": "auto",
         "type": "bar",
         "x": [
          0.078,
          0.045,
          0.044,
          0.045,
          0.045,
          0.045,
          0.045,
          0.041,
          0.065,
          0.042,
          0.045,
          0.098,
          0.045,
          0.06,
          0.497,
          0.212,
          0.145,
          0.09,
          0.09,
          0.066,
          0.749,
          0.353,
          0.099,
          0.083,
          0.097,
          0.177,
          0.853,
          0.844,
          0.084,
          0.161,
          0.061,
          0.861,
          0.212,
          0.849,
          0.296,
          0.886,
          0.334,
          1.63,
          0.4,
          0.268,
          0.172,
          0.251,
          0.247
         ],
         "xaxis": "x",
         "y": [
          "Nuts",
          "Citrus Fruit",
          "Apples",
          "Root Vegetables",
          "Potatoes",
          "Onions & Leeks",
          "Brassicas",
          "Other Vegetables",
          "Bananas",
          "Other Fruit",
          "Peas",
          "Soymilk",
          "Cassava",
          "Maize (Meal)",
          "Barley (Beer)",
          "Berries & Grapes",
          "Tomatoes",
          "Wheat & Rye (Bread)",
          "Beet Sugar",
          "Oatmeal",
          "Wine",
          "Other Pulses",
          "Groundnuts",
          "Cane Sugar",
          "Milk",
          "Tofu",
          "Sunflower Oil",
          "Rapeseed Oil",
          "Rice",
          "Eggs",
          "Fish (farmed)",
          "Olive Oil",
          "Poultry Meat",
          "Soybean Oil",
          "Pig Meat",
          "Palm Oil",
          "Crustaceans (farmed)",
          "Coffee",
          "Dark Chocolate",
          "Bovine Meat (dairy herd)",
          "Cheese",
          "Lamb & Mutton",
          "Bovine Meat (beef herd)"
         ],
         "yaxis": "y"
        },
        {
         "alignmentgroup": "True",
         "hovertemplate": "Stage=Retail<br>Emissions=%{x}<br>Product=%{y}<extra></extra>",
         "legendgroup": "Retail",
         "marker": {
          "color": "#B279A2",
          "pattern": {
           "shape": ""
          }
         },
         "name": "Retail",
         "offsetgroup": "Retail",
         "orientation": "h",
         "showlegend": true,
         "textposition": "auto",
         "type": "bar",
         "x": [
          0.027,
          0.017,
          0.017,
          0.039,
          0.039,
          0.039,
          0.017,
          0.015,
          0.021,
          0.016,
          0.039,
          0.27,
          0.039,
          0.026,
          0.264,
          0.017,
          0.017,
          0.058,
          0.039,
          0.029,
          0.039,
          0.039,
          0.042,
          0.036,
          0.256,
          0.27,
          0.043,
          0.046,
          0.063,
          0.036,
          0.04,
          0.046,
          0.177,
          0.043,
          0.19,
          0.044,
          0.219,
          0.051,
          0.021,
          0.182,
          0.332,
          0.217,
          0.164
         ],
         "xaxis": "x",
         "y": [
          "Nuts",
          "Citrus Fruit",
          "Apples",
          "Root Vegetables",
          "Potatoes",
          "Onions & Leeks",
          "Brassicas",
          "Other Vegetables",
          "Bananas",
          "Other Fruit",
          "Peas",
          "Soymilk",
          "Cassava",
          "Maize (Meal)",
          "Barley (Beer)",
          "Berries & Grapes",
          "Tomatoes",
          "Wheat & Rye (Bread)",
          "Beet Sugar",
          "Oatmeal",
          "Wine",
          "Other Pulses",
          "Groundnuts",
          "Cane Sugar",
          "Milk",
          "Tofu",
          "Sunflower Oil",
          "Rapeseed Oil",
          "Rice",
          "Eggs",
          "Fish (farmed)",
          "Olive Oil",
          "Poultry Meat",
          "Soybean Oil",
          "Pig Meat",
          "Palm Oil",
          "Crustaceans (farmed)",
          "Coffee",
          "Dark Chocolate",
          "Bovine Meat (dairy herd)",
          "Cheese",
          "Lamb & Mutton",
          "Bovine Meat (beef herd)"
         ],
         "yaxis": "y"
        }
       ],
       "frames": [
        {
         "data": [
          {
           "marker": {
            "opacity": 1
           },
           "type": "bar"
          },
          {
           "marker": {
            "opacity": 1
           },
           "type": "bar"
          },
          {
           "marker": {
            "opacity": 1
           },
           "type": "bar"
          },
          {
           "marker": {
            "opacity": 1
           },
           "type": "bar"
          },
          {
           "marker": {
            "opacity": 1
           },
           "type": "bar"
          },
          {
           "marker": {
            "opacity": 1
           },
           "type": "bar"
          },
          {
           "marker": {
            "opacity": 1
           },
           "type": "bar"
          }
         ]
        },
        {
         "data": [
          {
           "marker": {
            "opacity": 0.9
           },
           "type": "bar"
          },
          {
           "marker": {
            "opacity": 0.9
           },
           "type": "bar"
          },
          {
           "marker": {
            "opacity": 0.9
           },
           "type": "bar"
          },
          {
           "marker": {
            "opacity": 0.9
           },
           "type": "bar"
          },
          {
           "marker": {
            "opacity": 1
           },
           "type": "bar"
          },
          {
           "marker": {
            "opacity": 0.9
           },
           "type": "bar"
          },
          {
           "marker": {
            "opacity": 0.9
           },
           "type": "bar"
          }
         ]
        },
        {
         "data": [
          {
           "marker": {
            "opacity": 0.8
           },
           "type": "bar"
          },
          {
           "marker": {
            "opacity": 0.8
           },
           "type": "bar"
          },
          {
           "marker": {
            "opacity": 0.8
           },
           "type": "bar"
          },
          {
           "marker": {
            "opacity": 0.8
           },
           "type": "bar"
          },
          {
           "marker": {
            "opacity": 1
           },
           "type": "bar"
          },
          {
           "marker": {
            "opacity": 0.8
           },
           "type": "bar"
          },
          {
           "marker": {
            "opacity": 0.8
           },
           "type": "bar"
          }
         ]
        },
        {
         "data": [
          {
           "marker": {
            "opacity": 0.7
           },
           "type": "bar"
          },
          {
           "marker": {
            "opacity": 0.7
           },
           "type": "bar"
          },
          {
           "marker": {
            "opacity": 0.7
           },
           "type": "bar"
          },
          {
           "marker": {
            "opacity": 0.7
           },
           "type": "bar"
          },
          {
           "marker": {
            "opacity": 1
           },
           "type": "bar"
          },
          {
           "marker": {
            "opacity": 0.7
           },
           "type": "bar"
          },
          {
           "marker": {
            "opacity": 0.7
           },
           "type": "bar"
          }
         ]
        },
        {
         "data": [
          {
           "marker": {
            "opacity": 0.6
           },
           "type": "bar"
          },
          {
           "marker": {
            "opacity": 0.6
           },
           "type": "bar"
          },
          {
           "marker": {
            "opacity": 0.6
           },
           "type": "bar"
          },
          {
           "marker": {
            "opacity": 0.6
           },
           "type": "bar"
          },
          {
           "marker": {
            "opacity": 1
           },
           "type": "bar"
          },
          {
           "marker": {
            "opacity": 0.6
           },
           "type": "bar"
          },
          {
           "marker": {
            "opacity": 0.6
           },
           "type": "bar"
          }
         ]
        },
        {
         "data": [
          {
           "marker": {
            "opacity": 0.5
           },
           "type": "bar"
          },
          {
           "marker": {
            "opacity": 0.5
           },
           "type": "bar"
          },
          {
           "marker": {
            "opacity": 0.5
           },
           "type": "bar"
          },
          {
           "marker": {
            "opacity": 0.5
           },
           "type": "bar"
          },
          {
           "marker": {
            "opacity": 1
           },
           "type": "bar"
          },
          {
           "marker": {
            "opacity": 0.5
           },
           "type": "bar"
          },
          {
           "marker": {
            "opacity": 0.5
           },
           "type": "bar"
          }
         ]
        },
        {
         "data": [
          {
           "marker": {
            "opacity": 0.4
           },
           "type": "bar"
          },
          {
           "marker": {
            "opacity": 0.4
           },
           "type": "bar"
          },
          {
           "marker": {
            "opacity": 0.4
           },
           "type": "bar"
          },
          {
           "marker": {
            "opacity": 0.4
           },
           "type": "bar"
          },
          {
           "marker": {
            "opacity": 1
           },
           "type": "bar"
          },
          {
           "marker": {
            "opacity": 0.4
           },
           "type": "bar"
          },
          {
           "marker": {
            "opacity": 0.4
           },
           "type": "bar"
          }
         ]
        },
        {
         "data": [
          {
           "marker": {
            "opacity": 0.3
           },
           "type": "bar"
          },
          {
           "marker": {
            "opacity": 0.3
           },
           "type": "bar"
          },
          {
           "marker": {
            "opacity": 0.3
           },
           "type": "bar"
          },
          {
           "marker": {
            "opacity": 0.3
           },
           "type": "bar"
          },
          {
           "marker": {
            "opacity": 1
           },
           "type": "bar"
          },
          {
           "marker": {
            "opacity": 0.3
           },
           "type": "bar"
          },
          {
           "marker": {
            "opacity": 0.3
           },
           "type": "bar"
          }
         ]
        },
        {
         "data": [
          {
           "marker": {
            "opacity": 0.2
           },
           "type": "bar"
          },
          {
           "marker": {
            "opacity": 0.2
           },
           "type": "bar"
          },
          {
           "marker": {
            "opacity": 0.2
           },
           "type": "bar"
          },
          {
           "marker": {
            "opacity": 0.2
           },
           "type": "bar"
          },
          {
           "marker": {
            "opacity": 1
           },
           "type": "bar"
          },
          {
           "marker": {
            "opacity": 0.2
           },
           "type": "bar"
          },
          {
           "marker": {
            "opacity": 0.2
           },
           "type": "bar"
          }
         ]
        },
        {
         "data": [
          {
           "marker": {
            "opacity": 0.1
           },
           "type": "bar"
          },
          {
           "marker": {
            "opacity": 0.1
           },
           "type": "bar"
          },
          {
           "marker": {
            "opacity": 0.1
           },
           "type": "bar"
          },
          {
           "marker": {
            "opacity": 0.1
           },
           "type": "bar"
          },
          {
           "marker": {
            "opacity": 1
           },
           "type": "bar"
          },
          {
           "marker": {
            "opacity": 0.1
           },
           "type": "bar"
          },
          {
           "marker": {
            "opacity": 0.1
           },
           "type": "bar"
          }
         ]
        }
       ],
       "layout": {
        "barmode": "relative",
        "font": {
         "family": "\"Lato, \"Helvetica Neue\", Helvetica, Arial, \"Liberation Sans\", sans-serif"
        },
        "height": 800,
        "legend": {
         "font": {
          "size": 14
         },
         "orientation": "h",
         "title": {
          "text": "Stage"
         },
         "tracegroupgap": 0,
         "x": -0.06,
         "xanchor": "left",
         "y": 1.065,
         "yanchor": "top"
        },
        "margin": {
         "pad": 5
        },
        "newshape": {
         "label": {
          "padding": 8
         }
        },
        "template": {
         "data": {
          "bar": [
           {
            "error_x": {
             "color": "#2a3f5f"
            },
            "error_y": {
             "color": "#2a3f5f"
            },
            "marker": {
             "line": {
              "color": "#E5ECF6",
              "width": 0.5
             },
             "pattern": {
              "fillmode": "overlay",
              "size": 10,
              "solidity": 0.2
             }
            },
            "type": "bar"
           }
          ],
          "barpolar": [
           {
            "marker": {
             "line": {
              "color": "#E5ECF6",
              "width": 0.5
             },
             "pattern": {
              "fillmode": "overlay",
              "size": 10,
              "solidity": 0.2
             }
            },
            "type": "barpolar"
           }
          ],
          "carpet": [
           {
            "aaxis": {
             "endlinecolor": "#2a3f5f",
             "gridcolor": "white",
             "linecolor": "white",
             "minorgridcolor": "white",
             "startlinecolor": "#2a3f5f"
            },
            "baxis": {
             "endlinecolor": "#2a3f5f",
             "gridcolor": "white",
             "linecolor": "white",
             "minorgridcolor": "white",
             "startlinecolor": "#2a3f5f"
            },
            "type": "carpet"
           }
          ],
          "choropleth": [
           {
            "colorbar": {
             "outlinewidth": 0,
             "ticks": ""
            },
            "type": "choropleth"
           }
          ],
          "contour": [
           {
            "colorbar": {
             "outlinewidth": 0,
             "ticks": ""
            },
            "colorscale": [
             [
              0,
              "#0d0887"
             ],
             [
              0.1111111111111111,
              "#46039f"
             ],
             [
              0.2222222222222222,
              "#7201a8"
             ],
             [
              0.3333333333333333,
              "#9c179e"
             ],
             [
              0.4444444444444444,
              "#bd3786"
             ],
             [
              0.5555555555555556,
              "#d8576b"
             ],
             [
              0.6666666666666666,
              "#ed7953"
             ],
             [
              0.7777777777777778,
              "#fb9f3a"
             ],
             [
              0.8888888888888888,
              "#fdca26"
             ],
             [
              1,
              "#f0f921"
             ]
            ],
            "type": "contour"
           }
          ],
          "contourcarpet": [
           {
            "colorbar": {
             "outlinewidth": 0,
             "ticks": ""
            },
            "type": "contourcarpet"
           }
          ],
          "heatmap": [
           {
            "colorbar": {
             "outlinewidth": 0,
             "ticks": ""
            },
            "colorscale": [
             [
              0,
              "#0d0887"
             ],
             [
              0.1111111111111111,
              "#46039f"
             ],
             [
              0.2222222222222222,
              "#7201a8"
             ],
             [
              0.3333333333333333,
              "#9c179e"
             ],
             [
              0.4444444444444444,
              "#bd3786"
             ],
             [
              0.5555555555555556,
              "#d8576b"
             ],
             [
              0.6666666666666666,
              "#ed7953"
             ],
             [
              0.7777777777777778,
              "#fb9f3a"
             ],
             [
              0.8888888888888888,
              "#fdca26"
             ],
             [
              1,
              "#f0f921"
             ]
            ],
            "type": "heatmap"
           }
          ],
          "heatmapgl": [
           {
            "colorbar": {
             "outlinewidth": 0,
             "ticks": ""
            },
            "colorscale": [
             [
              0,
              "#0d0887"
             ],
             [
              0.1111111111111111,
              "#46039f"
             ],
             [
              0.2222222222222222,
              "#7201a8"
             ],
             [
              0.3333333333333333,
              "#9c179e"
             ],
             [
              0.4444444444444444,
              "#bd3786"
             ],
             [
              0.5555555555555556,
              "#d8576b"
             ],
             [
              0.6666666666666666,
              "#ed7953"
             ],
             [
              0.7777777777777778,
              "#fb9f3a"
             ],
             [
              0.8888888888888888,
              "#fdca26"
             ],
             [
              1,
              "#f0f921"
             ]
            ],
            "type": "heatmapgl"
           }
          ],
          "histogram": [
           {
            "marker": {
             "pattern": {
              "fillmode": "overlay",
              "size": 10,
              "solidity": 0.2
             }
            },
            "type": "histogram"
           }
          ],
          "histogram2d": [
           {
            "colorbar": {
             "outlinewidth": 0,
             "ticks": ""
            },
            "colorscale": [
             [
              0,
              "#0d0887"
             ],
             [
              0.1111111111111111,
              "#46039f"
             ],
             [
              0.2222222222222222,
              "#7201a8"
             ],
             [
              0.3333333333333333,
              "#9c179e"
             ],
             [
              0.4444444444444444,
              "#bd3786"
             ],
             [
              0.5555555555555556,
              "#d8576b"
             ],
             [
              0.6666666666666666,
              "#ed7953"
             ],
             [
              0.7777777777777778,
              "#fb9f3a"
             ],
             [
              0.8888888888888888,
              "#fdca26"
             ],
             [
              1,
              "#f0f921"
             ]
            ],
            "type": "histogram2d"
           }
          ],
          "histogram2dcontour": [
           {
            "colorbar": {
             "outlinewidth": 0,
             "ticks": ""
            },
            "colorscale": [
             [
              0,
              "#0d0887"
             ],
             [
              0.1111111111111111,
              "#46039f"
             ],
             [
              0.2222222222222222,
              "#7201a8"
             ],
             [
              0.3333333333333333,
              "#9c179e"
             ],
             [
              0.4444444444444444,
              "#bd3786"
             ],
             [
              0.5555555555555556,
              "#d8576b"
             ],
             [
              0.6666666666666666,
              "#ed7953"
             ],
             [
              0.7777777777777778,
              "#fb9f3a"
             ],
             [
              0.8888888888888888,
              "#fdca26"
             ],
             [
              1,
              "#f0f921"
             ]
            ],
            "type": "histogram2dcontour"
           }
          ],
          "mesh3d": [
           {
            "colorbar": {
             "outlinewidth": 0,
             "ticks": ""
            },
            "type": "mesh3d"
           }
          ],
          "parcoords": [
           {
            "line": {
             "colorbar": {
              "outlinewidth": 0,
              "ticks": ""
             }
            },
            "type": "parcoords"
           }
          ],
          "pie": [
           {
            "automargin": true,
            "type": "pie"
           }
          ],
          "scatter": [
           {
            "fillpattern": {
             "fillmode": "overlay",
             "size": 10,
             "solidity": 0.2
            },
            "type": "scatter"
           }
          ],
          "scatter3d": [
           {
            "line": {
             "colorbar": {
              "outlinewidth": 0,
              "ticks": ""
             }
            },
            "marker": {
             "colorbar": {
              "outlinewidth": 0,
              "ticks": ""
             }
            },
            "type": "scatter3d"
           }
          ],
          "scattercarpet": [
           {
            "marker": {
             "colorbar": {
              "outlinewidth": 0,
              "ticks": ""
             }
            },
            "type": "scattercarpet"
           }
          ],
          "scattergeo": [
           {
            "marker": {
             "colorbar": {
              "outlinewidth": 0,
              "ticks": ""
             }
            },
            "type": "scattergeo"
           }
          ],
          "scattergl": [
           {
            "marker": {
             "colorbar": {
              "outlinewidth": 0,
              "ticks": ""
             }
            },
            "type": "scattergl"
           }
          ],
          "scattermapbox": [
           {
            "marker": {
             "colorbar": {
              "outlinewidth": 0,
              "ticks": ""
             }
            },
            "type": "scattermapbox"
           }
          ],
          "scatterpolar": [
           {
            "marker": {
             "colorbar": {
              "outlinewidth": 0,
              "ticks": ""
             }
            },
            "type": "scatterpolar"
           }
          ],
          "scatterpolargl": [
           {
            "marker": {
             "colorbar": {
              "outlinewidth": 0,
              "ticks": ""
             }
            },
            "type": "scatterpolargl"
           }
          ],
          "scatterternary": [
           {
            "marker": {
             "colorbar": {
              "outlinewidth": 0,
              "ticks": ""
             }
            },
            "type": "scatterternary"
           }
          ],
          "surface": [
           {
            "colorbar": {
             "outlinewidth": 0,
             "ticks": ""
            },
            "colorscale": [
             [
              0,
              "#0d0887"
             ],
             [
              0.1111111111111111,
              "#46039f"
             ],
             [
              0.2222222222222222,
              "#7201a8"
             ],
             [
              0.3333333333333333,
              "#9c179e"
             ],
             [
              0.4444444444444444,
              "#bd3786"
             ],
             [
              0.5555555555555556,
              "#d8576b"
             ],
             [
              0.6666666666666666,
              "#ed7953"
             ],
             [
              0.7777777777777778,
              "#fb9f3a"
             ],
             [
              0.8888888888888888,
              "#fdca26"
             ],
             [
              1,
              "#f0f921"
             ]
            ],
            "type": "surface"
           }
          ],
          "table": [
           {
            "cells": {
             "fill": {
              "color": "#EBF0F8"
             },
             "line": {
              "color": "white"
             }
            },
            "header": {
             "fill": {
              "color": "#C8D4E3"
             },
             "line": {
              "color": "white"
             }
            },
            "type": "table"
           }
          ]
         },
         "layout": {
          "annotationdefaults": {
           "arrowcolor": "#2a3f5f",
           "arrowhead": 0,
           "arrowwidth": 1
          },
          "autotypenumbers": "strict",
          "coloraxis": {
           "colorbar": {
            "outlinewidth": 0,
            "ticks": ""
           }
          },
          "colorscale": {
           "diverging": [
            [
             0,
             "#8e0152"
            ],
            [
             0.1,
             "#c51b7d"
            ],
            [
             0.2,
             "#de77ae"
            ],
            [
             0.3,
             "#f1b6da"
            ],
            [
             0.4,
             "#fde0ef"
            ],
            [
             0.5,
             "#f7f7f7"
            ],
            [
             0.6,
             "#e6f5d0"
            ],
            [
             0.7,
             "#b8e186"
            ],
            [
             0.8,
             "#7fbc41"
            ],
            [
             0.9,
             "#4d9221"
            ],
            [
             1,
             "#276419"
            ]
           ],
           "sequential": [
            [
             0,
             "#0d0887"
            ],
            [
             0.1111111111111111,
             "#46039f"
            ],
            [
             0.2222222222222222,
             "#7201a8"
            ],
            [
             0.3333333333333333,
             "#9c179e"
            ],
            [
             0.4444444444444444,
             "#bd3786"
            ],
            [
             0.5555555555555556,
             "#d8576b"
            ],
            [
             0.6666666666666666,
             "#ed7953"
            ],
            [
             0.7777777777777778,
             "#fb9f3a"
            ],
            [
             0.8888888888888888,
             "#fdca26"
            ],
            [
             1,
             "#f0f921"
            ]
           ],
           "sequentialminus": [
            [
             0,
             "#0d0887"
            ],
            [
             0.1111111111111111,
             "#46039f"
            ],
            [
             0.2222222222222222,
             "#7201a8"
            ],
            [
             0.3333333333333333,
             "#9c179e"
            ],
            [
             0.4444444444444444,
             "#bd3786"
            ],
            [
             0.5555555555555556,
             "#d8576b"
            ],
            [
             0.6666666666666666,
             "#ed7953"
            ],
            [
             0.7777777777777778,
             "#fb9f3a"
            ],
            [
             0.8888888888888888,
             "#fdca26"
            ],
            [
             1,
             "#f0f921"
            ]
           ]
          },
          "colorway": [
           "#636efa",
           "#EF553B",
           "#00cc96",
           "#ab63fa",
           "#FFA15A",
           "#19d3f3",
           "#FF6692",
           "#B6E880",
           "#FF97FF",
           "#FECB52"
          ],
          "font": {
           "color": "#2a3f5f"
          },
          "geo": {
           "bgcolor": "white",
           "lakecolor": "white",
           "landcolor": "#E5ECF6",
           "showlakes": true,
           "showland": true,
           "subunitcolor": "white"
          },
          "hoverlabel": {
           "align": "left"
          },
          "hovermode": "closest",
          "mapbox": {
           "style": "light"
          },
          "paper_bgcolor": "white",
          "plot_bgcolor": "#E5ECF6",
          "polar": {
           "angularaxis": {
            "gridcolor": "white",
            "linecolor": "white",
            "ticks": ""
           },
           "bgcolor": "#E5ECF6",
           "radialaxis": {
            "gridcolor": "white",
            "linecolor": "white",
            "ticks": ""
           }
          },
          "scene": {
           "xaxis": {
            "backgroundcolor": "#E5ECF6",
            "gridcolor": "white",
            "gridwidth": 2,
            "linecolor": "white",
            "showbackground": true,
            "ticks": "",
            "zerolinecolor": "white"
           },
           "yaxis": {
            "backgroundcolor": "#E5ECF6",
            "gridcolor": "white",
            "gridwidth": 2,
            "linecolor": "white",
            "showbackground": true,
            "ticks": "",
            "zerolinecolor": "white"
           },
           "zaxis": {
            "backgroundcolor": "#E5ECF6",
            "gridcolor": "white",
            "gridwidth": 2,
            "linecolor": "white",
            "showbackground": true,
            "ticks": "",
            "zerolinecolor": "white"
           }
          },
          "shapedefaults": {
           "line": {
            "color": "#2a3f5f"
           }
          },
          "ternary": {
           "aaxis": {
            "gridcolor": "white",
            "linecolor": "white",
            "ticks": ""
           },
           "baxis": {
            "gridcolor": "white",
            "linecolor": "white",
            "ticks": ""
           },
           "bgcolor": "#E5ECF6",
           "caxis": {
            "gridcolor": "white",
            "linecolor": "white",
            "ticks": ""
           }
          },
          "title": {
           "x": 0.05
          },
          "xaxis": {
           "automargin": true,
           "gridcolor": "white",
           "linecolor": "white",
           "ticks": "",
           "title": {
            "standoff": 15
           },
           "zerolinecolor": "white",
           "zerolinewidth": 2
          },
          "yaxis": {
           "automargin": true,
           "gridcolor": "white",
           "linecolor": "white",
           "ticks": "",
           "title": {
            "standoff": 15
           },
           "zerolinecolor": "white",
           "zerolinewidth": 2
          }
         }
        },
        "title": {
         "font": {
          "size": 24
         },
         "text": "Greenhouse gas emissions per food type over the supply chain"
        },
        "updatemenus": [
         {
          "buttons": [
           {
            "args": [
             null,
             {
              "frame": {
               "duration": 5
              },
              "transition": {
               "duration": 150
              }
             }
            ],
            "label": "Play",
            "method": "animate"
           },
           {
            "args": [
             {
              "marker.opacity": 1
             }
            ],
            "label": "Reset",
            "method": "restyle"
           }
          ],
          "direction": "left",
          "showactive": true,
          "type": "buttons",
          "x": 1,
          "xanchor": "right",
          "y": 1.09,
          "yanchor": "top"
         }
        ],
        "xaxis": {
         "anchor": "y",
         "domain": [
          0,
          1
         ],
         "title": {
          "text": "Emissions"
         }
        },
        "yaxis": {
         "anchor": "x",
         "domain": [
          0,
          1
         ],
         "title": {
          "text": "Product"
         }
        }
       }
      },
      "text/html": [
       "<div>                            <div id=\"757e8b51-5cd6-4866-ac85-06bb63cb555c\" class=\"plotly-graph-div\" style=\"height:800px; width:100%;\"></div>            <script type=\"text/javascript\">                require([\"plotly\"], function(Plotly) {                    window.PLOTLYENV=window.PLOTLYENV || {};                                    if (document.getElementById(\"757e8b51-5cd6-4866-ac85-06bb63cb555c\")) {                    Plotly.newPlot(                        \"757e8b51-5cd6-4866-ac85-06bb63cb555c\",                        [{\"alignmentgroup\":\"True\",\"hovertemplate\":\"Stage=Land Use Change\\u003cbr\\u003eEmissions=%{x}\\u003cbr\\u003eProduct=%{y}\\u003cextra\\u003e\\u003c\\u002fextra\\u003e\",\"legendgroup\":\"Land Use Change\",\"marker\":{\"color\":\"#4C78A8\",\"pattern\":{\"shape\":\"\"}},\"name\":\"Land Use Change\",\"offsetgroup\":\"Land Use Change\",\"orientation\":\"h\",\"showlegend\":true,\"textposition\":\"auto\",\"x\":[-2.052,-0.146,-0.029,0.013,-0.001,0.005,0.002,0.001,-0.025,0.126,0.0,0.18,0.589,0.315,0.009,0.025,0.372,0.1,0.0,0.001,-0.061,0.033,0.439,1.247,0.495,0.958,0.133,0.212,-0.022,0.709,0.534,-0.377,2.54,3.096,1.535,3.096,0.206,3.688,14.308,0.906,4.455,0.468,16.278],\"xaxis\":\"x\",\"y\":[\"Nuts\",\"Citrus Fruit\",\"Apples\",\"Root Vegetables\",\"Potatoes\",\"Onions & Leeks\",\"Brassicas\",\"Other Vegetables\",\"Bananas\",\"Other Fruit\",\"Peas\",\"Soymilk\",\"Cassava\",\"Maize (Meal)\",\"Barley (Beer)\",\"Berries & Grapes\",\"Tomatoes\",\"Wheat & Rye (Bread)\",\"Beet Sugar\",\"Oatmeal\",\"Wine\",\"Other Pulses\",\"Groundnuts\",\"Cane Sugar\",\"Milk\",\"Tofu\",\"Sunflower Oil\",\"Rapeseed Oil\",\"Rice\",\"Eggs\",\"Fish (farmed)\",\"Olive Oil\",\"Poultry Meat\",\"Soybean Oil\",\"Pig Meat\",\"Palm Oil\",\"Crustaceans (farmed)\",\"Coffee\",\"Dark Chocolate\",\"Bovine Meat (dairy herd)\",\"Cheese\",\"Lamb & Mutton\",\"Bovine Meat (beef herd)\"],\"yaxis\":\"y\",\"type\":\"bar\"},{\"alignmentgroup\":\"True\",\"hovertemplate\":\"Stage=Feed\\u003cbr\\u003eEmissions=%{x}\\u003cbr\\u003eProduct=%{y}\\u003cextra\\u003e\\u003c\\u002fextra\\u003e\",\"legendgroup\":\"Feed\",\"marker\":{\"color\":\"#F58518\",\"pattern\":{\"shape\":\"\"}},\"name\":\"Feed\",\"offsetgroup\":\"Feed\",\"orientation\":\"h\",\"showlegend\":true,\"textposition\":\"auto\",\"x\":[0.0,0.0,0.0,0.0,0.0,0.0,0.0,0.0,0.0,0.0,0.0,0.0,0.0,0.0,0.0,0.0,0.0,0.0,0.0,0.0,0.0,0.0,0.0,0.0,0.236,0.0,0.0,0.0,0.0,2.2,0.819,0.0,1.775,0.0,2.94,0.0,2.51,0.0,0.0,2.508,2.346,2.37,1.878],\"xaxis\":\"x\",\"y\":[\"Nuts\",\"Citrus Fruit\",\"Apples\",\"Root Vegetables\",\"Potatoes\",\"Onions & Leeks\",\"Brassicas\",\"Other Vegetables\",\"Bananas\",\"Other Fruit\",\"Peas\",\"Soymilk\",\"Cassava\",\"Maize (Meal)\",\"Barley (Beer)\",\"Berries & Grapes\",\"Tomatoes\",\"Wheat & Rye (Bread)\",\"Beet Sugar\",\"Oatmeal\",\"Wine\",\"Other Pulses\",\"Groundnuts\",\"Cane Sugar\",\"Milk\",\"Tofu\",\"Sunflower Oil\",\"Rapeseed Oil\",\"Rice\",\"Eggs\",\"Fish (farmed)\",\"Olive Oil\",\"Poultry Meat\",\"Soybean Oil\",\"Pig Meat\",\"Palm Oil\",\"Crustaceans (farmed)\",\"Coffee\",\"Dark Chocolate\",\"Bovine Meat (dairy herd)\",\"Cheese\",\"Lamb & Mutton\",\"Bovine Meat (beef herd)\"],\"yaxis\":\"y\",\"type\":\"bar\"},{\"alignmentgroup\":\"True\",\"hovertemplate\":\"Stage=Farm\\u003cbr\\u003eEmissions=%{x}\\u003cbr\\u003eProduct=%{y}\\u003cextra\\u003e\\u003c\\u002fextra\\u003e\",\"legendgroup\":\"Farm\",\"marker\":{\"color\":\"#E45756\",\"pattern\":{\"shape\":\"\"}},\"name\":\"Farm\",\"offsetgroup\":\"Farm\",\"orientation\":\"h\",\"showlegend\":true,\"textposition\":\"auto\",\"x\":[2.126,0.307,0.225,0.154,0.193,0.211,0.278,0.174,0.266,0.369,0.717,0.093,0.22,0.475,0.176,0.722,0.704,0.847,0.536,1.37,0.626,1.089,1.425,0.485,1.458,0.495,2.148,2.343,3.553,1.317,3.598,4.272,0.672,1.519,1.694,2.107,8.379,10.386,3.706,15.689,13.059,19.508,39.388],\"xaxis\":\"x\",\"y\":[\"Nuts\",\"Citrus Fruit\",\"Apples\",\"Root Vegetables\",\"Potatoes\",\"Onions & Leeks\",\"Brassicas\",\"Other Vegetables\",\"Bananas\",\"Other Fruit\",\"Peas\",\"Soymilk\",\"Cassava\",\"Maize (Meal)\",\"Barley (Beer)\",\"Berries & Grapes\",\"Tomatoes\",\"Wheat & Rye (Bread)\",\"Beet Sugar\",\"Oatmeal\",\"Wine\",\"Other Pulses\",\"Groundnuts\",\"Cane Sugar\",\"Milk\",\"Tofu\",\"Sunflower Oil\",\"Rapeseed Oil\",\"Rice\",\"Eggs\",\"Fish (farmed)\",\"Olive Oil\",\"Poultry Meat\",\"Soybean Oil\",\"Pig Meat\",\"Palm Oil\",\"Crustaceans (farmed)\",\"Coffee\",\"Dark Chocolate\",\"Bovine Meat (dairy herd)\",\"Cheese\",\"Lamb & Mutton\",\"Bovine Meat (beef herd)\"],\"yaxis\":\"y\",\"type\":\"bar\"},{\"alignmentgroup\":\"True\",\"hovertemplate\":\"Stage=Processing\\u003cbr\\u003eEmissions=%{x}\\u003cbr\\u003eProduct=%{y}\\u003cextra\\u003e\\u003c\\u002fextra\\u003e\",\"legendgroup\":\"Processing\",\"marker\":{\"color\":\"#72B7B2\",\"pattern\":{\"shape\":\"\"}},\"name\":\"Processing\",\"offsetgroup\":\"Processing\",\"orientation\":\"h\",\"showlegend\":true,\"textposition\":\"auto\",\"x\":[0.032,0.0,0.004,0.0,0.0,0.0,0.0,0.06,0.059,0.015,0.0,0.163,0.0,0.052,0.128,0.0,0.012,0.217,0.242,0.042,0.139,0.0,0.372,0.037,0.149,0.794,0.229,0.193,0.065,0.0,0.02,0.66,0.44,0.311,0.284,1.264,0.0,0.592,0.185,1.108,0.738,1.111,1.269],\"xaxis\":\"x\",\"y\":[\"Nuts\",\"Citrus Fruit\",\"Apples\",\"Root Vegetables\",\"Potatoes\",\"Onions & Leeks\",\"Brassicas\",\"Other Vegetables\",\"Bananas\",\"Other Fruit\",\"Peas\",\"Soymilk\",\"Cassava\",\"Maize (Meal)\",\"Barley (Beer)\",\"Berries & Grapes\",\"Tomatoes\",\"Wheat & Rye (Bread)\",\"Beet Sugar\",\"Oatmeal\",\"Wine\",\"Other Pulses\",\"Groundnuts\",\"Cane Sugar\",\"Milk\",\"Tofu\",\"Sunflower Oil\",\"Rapeseed Oil\",\"Rice\",\"Eggs\",\"Fish (farmed)\",\"Olive Oil\",\"Poultry Meat\",\"Soybean Oil\",\"Pig Meat\",\"Palm Oil\",\"Crustaceans (farmed)\",\"Coffee\",\"Dark Chocolate\",\"Bovine Meat (dairy herd)\",\"Cheese\",\"Lamb & Mutton\",\"Bovine Meat (beef herd)\"],\"yaxis\":\"y\",\"type\":\"bar\"},{\"alignmentgroup\":\"True\",\"hovertemplate\":\"Stage=Transport\\u003cbr\\u003eEmissions=%{x}\\u003cbr\\u003eProduct=%{y}\\u003cextra\\u003e\\u003c\\u002fextra\\u003e\",\"legendgroup\":\"Transport\",\"marker\":{\"color\":\"#54A24B\",\"pattern\":{\"shape\":\"\"}},\"name\":\"Transport\",\"offsetgroup\":\"Transport\",\"orientation\":\"h\",\"showlegend\":true,\"textposition\":\"auto\",\"x\":[0.067,0.094,0.096,0.114,0.094,0.095,0.095,0.164,0.292,0.182,0.095,0.11,0.094,0.06,0.035,0.238,0.177,0.129,0.629,0.067,0.093,0.096,0.12,0.784,0.09,0.177,0.201,0.19,0.096,0.084,0.111,0.482,0.276,0.299,0.343,0.208,0.206,0.13,0.061,0.424,0.138,0.49,0.346],\"xaxis\":\"x\",\"y\":[\"Nuts\",\"Citrus Fruit\",\"Apples\",\"Root Vegetables\",\"Potatoes\",\"Onions & Leeks\",\"Brassicas\",\"Other Vegetables\",\"Bananas\",\"Other Fruit\",\"Peas\",\"Soymilk\",\"Cassava\",\"Maize (Meal)\",\"Barley (Beer)\",\"Berries & Grapes\",\"Tomatoes\",\"Wheat & Rye (Bread)\",\"Beet Sugar\",\"Oatmeal\",\"Wine\",\"Other Pulses\",\"Groundnuts\",\"Cane Sugar\",\"Milk\",\"Tofu\",\"Sunflower Oil\",\"Rapeseed Oil\",\"Rice\",\"Eggs\",\"Fish (farmed)\",\"Olive Oil\",\"Poultry Meat\",\"Soybean Oil\",\"Pig Meat\",\"Palm Oil\",\"Crustaceans (farmed)\",\"Coffee\",\"Dark Chocolate\",\"Bovine Meat (dairy herd)\",\"Cheese\",\"Lamb & Mutton\",\"Bovine Meat (beef herd)\"],\"yaxis\":\"y\",\"type\":\"bar\"},{\"alignmentgroup\":\"True\",\"hovertemplate\":\"Stage=Packaging\\u003cbr\\u003eEmissions=%{x}\\u003cbr\\u003eProduct=%{y}\\u003cextra\\u003e\\u003c\\u002fextra\\u003e\",\"legendgroup\":\"Packaging\",\"marker\":{\"color\":\"#EECA3B\",\"pattern\":{\"shape\":\"\"}},\"name\":\"Packaging\",\"offsetgroup\":\"Packaging\",\"orientation\":\"h\",\"showlegend\":true,\"textposition\":\"auto\",\"x\":[0.078,0.045,0.044,0.045,0.045,0.045,0.045,0.041,0.065,0.042,0.045,0.098,0.045,0.06,0.497,0.212,0.145,0.09,0.09,0.066,0.749,0.353,0.099,0.083,0.097,0.177,0.853,0.844,0.084,0.161,0.061,0.861,0.212,0.849,0.296,0.886,0.334,1.63,0.4,0.268,0.172,0.251,0.247],\"xaxis\":\"x\",\"y\":[\"Nuts\",\"Citrus Fruit\",\"Apples\",\"Root Vegetables\",\"Potatoes\",\"Onions & Leeks\",\"Brassicas\",\"Other Vegetables\",\"Bananas\",\"Other Fruit\",\"Peas\",\"Soymilk\",\"Cassava\",\"Maize (Meal)\",\"Barley (Beer)\",\"Berries & Grapes\",\"Tomatoes\",\"Wheat & Rye (Bread)\",\"Beet Sugar\",\"Oatmeal\",\"Wine\",\"Other Pulses\",\"Groundnuts\",\"Cane Sugar\",\"Milk\",\"Tofu\",\"Sunflower Oil\",\"Rapeseed Oil\",\"Rice\",\"Eggs\",\"Fish (farmed)\",\"Olive Oil\",\"Poultry Meat\",\"Soybean Oil\",\"Pig Meat\",\"Palm Oil\",\"Crustaceans (farmed)\",\"Coffee\",\"Dark Chocolate\",\"Bovine Meat (dairy herd)\",\"Cheese\",\"Lamb & Mutton\",\"Bovine Meat (beef herd)\"],\"yaxis\":\"y\",\"type\":\"bar\"},{\"alignmentgroup\":\"True\",\"hovertemplate\":\"Stage=Retail\\u003cbr\\u003eEmissions=%{x}\\u003cbr\\u003eProduct=%{y}\\u003cextra\\u003e\\u003c\\u002fextra\\u003e\",\"legendgroup\":\"Retail\",\"marker\":{\"color\":\"#B279A2\",\"pattern\":{\"shape\":\"\"}},\"name\":\"Retail\",\"offsetgroup\":\"Retail\",\"orientation\":\"h\",\"showlegend\":true,\"textposition\":\"auto\",\"x\":[0.027,0.017,0.017,0.039,0.039,0.039,0.017,0.015,0.021,0.016,0.039,0.27,0.039,0.026,0.264,0.017,0.017,0.058,0.039,0.029,0.039,0.039,0.042,0.036,0.256,0.27,0.043,0.046,0.063,0.036,0.04,0.046,0.177,0.043,0.19,0.044,0.219,0.051,0.021,0.182,0.332,0.217,0.164],\"xaxis\":\"x\",\"y\":[\"Nuts\",\"Citrus Fruit\",\"Apples\",\"Root Vegetables\",\"Potatoes\",\"Onions & Leeks\",\"Brassicas\",\"Other Vegetables\",\"Bananas\",\"Other Fruit\",\"Peas\",\"Soymilk\",\"Cassava\",\"Maize (Meal)\",\"Barley (Beer)\",\"Berries & Grapes\",\"Tomatoes\",\"Wheat & Rye (Bread)\",\"Beet Sugar\",\"Oatmeal\",\"Wine\",\"Other Pulses\",\"Groundnuts\",\"Cane Sugar\",\"Milk\",\"Tofu\",\"Sunflower Oil\",\"Rapeseed Oil\",\"Rice\",\"Eggs\",\"Fish (farmed)\",\"Olive Oil\",\"Poultry Meat\",\"Soybean Oil\",\"Pig Meat\",\"Palm Oil\",\"Crustaceans (farmed)\",\"Coffee\",\"Dark Chocolate\",\"Bovine Meat (dairy herd)\",\"Cheese\",\"Lamb & Mutton\",\"Bovine Meat (beef herd)\"],\"yaxis\":\"y\",\"type\":\"bar\"}],                        {\"template\":{\"data\":{\"histogram2dcontour\":[{\"type\":\"histogram2dcontour\",\"colorbar\":{\"outlinewidth\":0,\"ticks\":\"\"},\"colorscale\":[[0.0,\"#0d0887\"],[0.1111111111111111,\"#46039f\"],[0.2222222222222222,\"#7201a8\"],[0.3333333333333333,\"#9c179e\"],[0.4444444444444444,\"#bd3786\"],[0.5555555555555556,\"#d8576b\"],[0.6666666666666666,\"#ed7953\"],[0.7777777777777778,\"#fb9f3a\"],[0.8888888888888888,\"#fdca26\"],[1.0,\"#f0f921\"]]}],\"choropleth\":[{\"type\":\"choropleth\",\"colorbar\":{\"outlinewidth\":0,\"ticks\":\"\"}}],\"histogram2d\":[{\"type\":\"histogram2d\",\"colorbar\":{\"outlinewidth\":0,\"ticks\":\"\"},\"colorscale\":[[0.0,\"#0d0887\"],[0.1111111111111111,\"#46039f\"],[0.2222222222222222,\"#7201a8\"],[0.3333333333333333,\"#9c179e\"],[0.4444444444444444,\"#bd3786\"],[0.5555555555555556,\"#d8576b\"],[0.6666666666666666,\"#ed7953\"],[0.7777777777777778,\"#fb9f3a\"],[0.8888888888888888,\"#fdca26\"],[1.0,\"#f0f921\"]]}],\"heatmap\":[{\"type\":\"heatmap\",\"colorbar\":{\"outlinewidth\":0,\"ticks\":\"\"},\"colorscale\":[[0.0,\"#0d0887\"],[0.1111111111111111,\"#46039f\"],[0.2222222222222222,\"#7201a8\"],[0.3333333333333333,\"#9c179e\"],[0.4444444444444444,\"#bd3786\"],[0.5555555555555556,\"#d8576b\"],[0.6666666666666666,\"#ed7953\"],[0.7777777777777778,\"#fb9f3a\"],[0.8888888888888888,\"#fdca26\"],[1.0,\"#f0f921\"]]}],\"heatmapgl\":[{\"type\":\"heatmapgl\",\"colorbar\":{\"outlinewidth\":0,\"ticks\":\"\"},\"colorscale\":[[0.0,\"#0d0887\"],[0.1111111111111111,\"#46039f\"],[0.2222222222222222,\"#7201a8\"],[0.3333333333333333,\"#9c179e\"],[0.4444444444444444,\"#bd3786\"],[0.5555555555555556,\"#d8576b\"],[0.6666666666666666,\"#ed7953\"],[0.7777777777777778,\"#fb9f3a\"],[0.8888888888888888,\"#fdca26\"],[1.0,\"#f0f921\"]]}],\"contourcarpet\":[{\"type\":\"contourcarpet\",\"colorbar\":{\"outlinewidth\":0,\"ticks\":\"\"}}],\"contour\":[{\"type\":\"contour\",\"colorbar\":{\"outlinewidth\":0,\"ticks\":\"\"},\"colorscale\":[[0.0,\"#0d0887\"],[0.1111111111111111,\"#46039f\"],[0.2222222222222222,\"#7201a8\"],[0.3333333333333333,\"#9c179e\"],[0.4444444444444444,\"#bd3786\"],[0.5555555555555556,\"#d8576b\"],[0.6666666666666666,\"#ed7953\"],[0.7777777777777778,\"#fb9f3a\"],[0.8888888888888888,\"#fdca26\"],[1.0,\"#f0f921\"]]}],\"surface\":[{\"type\":\"surface\",\"colorbar\":{\"outlinewidth\":0,\"ticks\":\"\"},\"colorscale\":[[0.0,\"#0d0887\"],[0.1111111111111111,\"#46039f\"],[0.2222222222222222,\"#7201a8\"],[0.3333333333333333,\"#9c179e\"],[0.4444444444444444,\"#bd3786\"],[0.5555555555555556,\"#d8576b\"],[0.6666666666666666,\"#ed7953\"],[0.7777777777777778,\"#fb9f3a\"],[0.8888888888888888,\"#fdca26\"],[1.0,\"#f0f921\"]]}],\"mesh3d\":[{\"type\":\"mesh3d\",\"colorbar\":{\"outlinewidth\":0,\"ticks\":\"\"}}],\"scatter\":[{\"fillpattern\":{\"fillmode\":\"overlay\",\"size\":10,\"solidity\":0.2},\"type\":\"scatter\"}],\"parcoords\":[{\"type\":\"parcoords\",\"line\":{\"colorbar\":{\"outlinewidth\":0,\"ticks\":\"\"}}}],\"scatterpolargl\":[{\"type\":\"scatterpolargl\",\"marker\":{\"colorbar\":{\"outlinewidth\":0,\"ticks\":\"\"}}}],\"bar\":[{\"error_x\":{\"color\":\"#2a3f5f\"},\"error_y\":{\"color\":\"#2a3f5f\"},\"marker\":{\"line\":{\"color\":\"#E5ECF6\",\"width\":0.5},\"pattern\":{\"fillmode\":\"overlay\",\"size\":10,\"solidity\":0.2}},\"type\":\"bar\"}],\"scattergeo\":[{\"type\":\"scattergeo\",\"marker\":{\"colorbar\":{\"outlinewidth\":0,\"ticks\":\"\"}}}],\"scatterpolar\":[{\"type\":\"scatterpolar\",\"marker\":{\"colorbar\":{\"outlinewidth\":0,\"ticks\":\"\"}}}],\"histogram\":[{\"marker\":{\"pattern\":{\"fillmode\":\"overlay\",\"size\":10,\"solidity\":0.2}},\"type\":\"histogram\"}],\"scattergl\":[{\"type\":\"scattergl\",\"marker\":{\"colorbar\":{\"outlinewidth\":0,\"ticks\":\"\"}}}],\"scatter3d\":[{\"type\":\"scatter3d\",\"line\":{\"colorbar\":{\"outlinewidth\":0,\"ticks\":\"\"}},\"marker\":{\"colorbar\":{\"outlinewidth\":0,\"ticks\":\"\"}}}],\"scattermapbox\":[{\"type\":\"scattermapbox\",\"marker\":{\"colorbar\":{\"outlinewidth\":0,\"ticks\":\"\"}}}],\"scatterternary\":[{\"type\":\"scatterternary\",\"marker\":{\"colorbar\":{\"outlinewidth\":0,\"ticks\":\"\"}}}],\"scattercarpet\":[{\"type\":\"scattercarpet\",\"marker\":{\"colorbar\":{\"outlinewidth\":0,\"ticks\":\"\"}}}],\"carpet\":[{\"aaxis\":{\"endlinecolor\":\"#2a3f5f\",\"gridcolor\":\"white\",\"linecolor\":\"white\",\"minorgridcolor\":\"white\",\"startlinecolor\":\"#2a3f5f\"},\"baxis\":{\"endlinecolor\":\"#2a3f5f\",\"gridcolor\":\"white\",\"linecolor\":\"white\",\"minorgridcolor\":\"white\",\"startlinecolor\":\"#2a3f5f\"},\"type\":\"carpet\"}],\"table\":[{\"cells\":{\"fill\":{\"color\":\"#EBF0F8\"},\"line\":{\"color\":\"white\"}},\"header\":{\"fill\":{\"color\":\"#C8D4E3\"},\"line\":{\"color\":\"white\"}},\"type\":\"table\"}],\"barpolar\":[{\"marker\":{\"line\":{\"color\":\"#E5ECF6\",\"width\":0.5},\"pattern\":{\"fillmode\":\"overlay\",\"size\":10,\"solidity\":0.2}},\"type\":\"barpolar\"}],\"pie\":[{\"automargin\":true,\"type\":\"pie\"}]},\"layout\":{\"autotypenumbers\":\"strict\",\"colorway\":[\"#636efa\",\"#EF553B\",\"#00cc96\",\"#ab63fa\",\"#FFA15A\",\"#19d3f3\",\"#FF6692\",\"#B6E880\",\"#FF97FF\",\"#FECB52\"],\"font\":{\"color\":\"#2a3f5f\"},\"hovermode\":\"closest\",\"hoverlabel\":{\"align\":\"left\"},\"paper_bgcolor\":\"white\",\"plot_bgcolor\":\"#E5ECF6\",\"polar\":{\"bgcolor\":\"#E5ECF6\",\"angularaxis\":{\"gridcolor\":\"white\",\"linecolor\":\"white\",\"ticks\":\"\"},\"radialaxis\":{\"gridcolor\":\"white\",\"linecolor\":\"white\",\"ticks\":\"\"}},\"ternary\":{\"bgcolor\":\"#E5ECF6\",\"aaxis\":{\"gridcolor\":\"white\",\"linecolor\":\"white\",\"ticks\":\"\"},\"baxis\":{\"gridcolor\":\"white\",\"linecolor\":\"white\",\"ticks\":\"\"},\"caxis\":{\"gridcolor\":\"white\",\"linecolor\":\"white\",\"ticks\":\"\"}},\"coloraxis\":{\"colorbar\":{\"outlinewidth\":0,\"ticks\":\"\"}},\"colorscale\":{\"sequential\":[[0.0,\"#0d0887\"],[0.1111111111111111,\"#46039f\"],[0.2222222222222222,\"#7201a8\"],[0.3333333333333333,\"#9c179e\"],[0.4444444444444444,\"#bd3786\"],[0.5555555555555556,\"#d8576b\"],[0.6666666666666666,\"#ed7953\"],[0.7777777777777778,\"#fb9f3a\"],[0.8888888888888888,\"#fdca26\"],[1.0,\"#f0f921\"]],\"sequentialminus\":[[0.0,\"#0d0887\"],[0.1111111111111111,\"#46039f\"],[0.2222222222222222,\"#7201a8\"],[0.3333333333333333,\"#9c179e\"],[0.4444444444444444,\"#bd3786\"],[0.5555555555555556,\"#d8576b\"],[0.6666666666666666,\"#ed7953\"],[0.7777777777777778,\"#fb9f3a\"],[0.8888888888888888,\"#fdca26\"],[1.0,\"#f0f921\"]],\"diverging\":[[0,\"#8e0152\"],[0.1,\"#c51b7d\"],[0.2,\"#de77ae\"],[0.3,\"#f1b6da\"],[0.4,\"#fde0ef\"],[0.5,\"#f7f7f7\"],[0.6,\"#e6f5d0\"],[0.7,\"#b8e186\"],[0.8,\"#7fbc41\"],[0.9,\"#4d9221\"],[1,\"#276419\"]]},\"xaxis\":{\"gridcolor\":\"white\",\"linecolor\":\"white\",\"ticks\":\"\",\"title\":{\"standoff\":15},\"zerolinecolor\":\"white\",\"automargin\":true,\"zerolinewidth\":2},\"yaxis\":{\"gridcolor\":\"white\",\"linecolor\":\"white\",\"ticks\":\"\",\"title\":{\"standoff\":15},\"zerolinecolor\":\"white\",\"automargin\":true,\"zerolinewidth\":2},\"scene\":{\"xaxis\":{\"backgroundcolor\":\"#E5ECF6\",\"gridcolor\":\"white\",\"linecolor\":\"white\",\"showbackground\":true,\"ticks\":\"\",\"zerolinecolor\":\"white\",\"gridwidth\":2},\"yaxis\":{\"backgroundcolor\":\"#E5ECF6\",\"gridcolor\":\"white\",\"linecolor\":\"white\",\"showbackground\":true,\"ticks\":\"\",\"zerolinecolor\":\"white\",\"gridwidth\":2},\"zaxis\":{\"backgroundcolor\":\"#E5ECF6\",\"gridcolor\":\"white\",\"linecolor\":\"white\",\"showbackground\":true,\"ticks\":\"\",\"zerolinecolor\":\"white\",\"gridwidth\":2}},\"shapedefaults\":{\"line\":{\"color\":\"#2a3f5f\"}},\"annotationdefaults\":{\"arrowcolor\":\"#2a3f5f\",\"arrowhead\":0,\"arrowwidth\":1},\"geo\":{\"bgcolor\":\"white\",\"landcolor\":\"#E5ECF6\",\"subunitcolor\":\"white\",\"showland\":true,\"showlakes\":true,\"lakecolor\":\"white\"},\"title\":{\"x\":0.05},\"mapbox\":{\"style\":\"light\"}}},\"xaxis\":{\"anchor\":\"y\",\"domain\":[0.0,1.0],\"title\":{\"text\":\"Emissions\"}},\"yaxis\":{\"anchor\":\"x\",\"domain\":[0.0,1.0],\"title\":{\"text\":\"Product\"}},\"legend\":{\"title\":{\"text\":\"Stage\"},\"tracegroupgap\":0,\"font\":{\"size\":14},\"orientation\":\"h\",\"yanchor\":\"top\",\"y\":1.065,\"xanchor\":\"left\",\"x\":-0.06},\"title\":{\"text\":\"Greenhouse gas emissions per food type over the supply chain\",\"font\":{\"size\":24}},\"barmode\":\"relative\",\"height\":800,\"font\":{\"family\":\"\\\"Lato, \\\"Helvetica Neue\\\", Helvetica, Arial, \\\"Liberation Sans\\\", sans-serif\"},\"newshape\":{\"label\":{\"padding\":8}},\"margin\":{\"pad\":5},\"updatemenus\":[{\"buttons\":[{\"args\":[null,{\"frame\":{\"duration\":5},\"transition\":{\"duration\":150}}],\"label\":\"Play\",\"method\":\"animate\"},{\"args\":[{\"marker.opacity\":1}],\"label\":\"Reset\",\"method\":\"restyle\"}],\"direction\":\"left\",\"showactive\":true,\"type\":\"buttons\",\"x\":1,\"xanchor\":\"right\",\"y\":1.09,\"yanchor\":\"top\"}]},                        {\"responsive\": true}                    ).then(function(){\n",
       "                            Plotly.addFrames('757e8b51-5cd6-4866-ac85-06bb63cb555c', [{\"data\":[{\"marker\":{\"opacity\":1},\"type\":\"bar\"},{\"marker\":{\"opacity\":1},\"type\":\"bar\"},{\"marker\":{\"opacity\":1},\"type\":\"bar\"},{\"marker\":{\"opacity\":1},\"type\":\"bar\"},{\"marker\":{\"opacity\":1},\"type\":\"bar\"},{\"marker\":{\"opacity\":1},\"type\":\"bar\"},{\"marker\":{\"opacity\":1},\"type\":\"bar\"}]},{\"data\":[{\"marker\":{\"opacity\":0.9},\"type\":\"bar\"},{\"marker\":{\"opacity\":0.9},\"type\":\"bar\"},{\"marker\":{\"opacity\":0.9},\"type\":\"bar\"},{\"marker\":{\"opacity\":0.9},\"type\":\"bar\"},{\"marker\":{\"opacity\":1},\"type\":\"bar\"},{\"marker\":{\"opacity\":0.9},\"type\":\"bar\"},{\"marker\":{\"opacity\":0.9},\"type\":\"bar\"}]},{\"data\":[{\"marker\":{\"opacity\":0.8},\"type\":\"bar\"},{\"marker\":{\"opacity\":0.8},\"type\":\"bar\"},{\"marker\":{\"opacity\":0.8},\"type\":\"bar\"},{\"marker\":{\"opacity\":0.8},\"type\":\"bar\"},{\"marker\":{\"opacity\":1},\"type\":\"bar\"},{\"marker\":{\"opacity\":0.8},\"type\":\"bar\"},{\"marker\":{\"opacity\":0.8},\"type\":\"bar\"}]},{\"data\":[{\"marker\":{\"opacity\":0.7},\"type\":\"bar\"},{\"marker\":{\"opacity\":0.7},\"type\":\"bar\"},{\"marker\":{\"opacity\":0.7},\"type\":\"bar\"},{\"marker\":{\"opacity\":0.7},\"type\":\"bar\"},{\"marker\":{\"opacity\":1},\"type\":\"bar\"},{\"marker\":{\"opacity\":0.7},\"type\":\"bar\"},{\"marker\":{\"opacity\":0.7},\"type\":\"bar\"}]},{\"data\":[{\"marker\":{\"opacity\":0.6},\"type\":\"bar\"},{\"marker\":{\"opacity\":0.6},\"type\":\"bar\"},{\"marker\":{\"opacity\":0.6},\"type\":\"bar\"},{\"marker\":{\"opacity\":0.6},\"type\":\"bar\"},{\"marker\":{\"opacity\":1},\"type\":\"bar\"},{\"marker\":{\"opacity\":0.6},\"type\":\"bar\"},{\"marker\":{\"opacity\":0.6},\"type\":\"bar\"}]},{\"data\":[{\"marker\":{\"opacity\":0.5},\"type\":\"bar\"},{\"marker\":{\"opacity\":0.5},\"type\":\"bar\"},{\"marker\":{\"opacity\":0.5},\"type\":\"bar\"},{\"marker\":{\"opacity\":0.5},\"type\":\"bar\"},{\"marker\":{\"opacity\":1},\"type\":\"bar\"},{\"marker\":{\"opacity\":0.5},\"type\":\"bar\"},{\"marker\":{\"opacity\":0.5},\"type\":\"bar\"}]},{\"data\":[{\"marker\":{\"opacity\":0.4},\"type\":\"bar\"},{\"marker\":{\"opacity\":0.4},\"type\":\"bar\"},{\"marker\":{\"opacity\":0.4},\"type\":\"bar\"},{\"marker\":{\"opacity\":0.4},\"type\":\"bar\"},{\"marker\":{\"opacity\":1},\"type\":\"bar\"},{\"marker\":{\"opacity\":0.4},\"type\":\"bar\"},{\"marker\":{\"opacity\":0.4},\"type\":\"bar\"}]},{\"data\":[{\"marker\":{\"opacity\":0.3},\"type\":\"bar\"},{\"marker\":{\"opacity\":0.3},\"type\":\"bar\"},{\"marker\":{\"opacity\":0.3},\"type\":\"bar\"},{\"marker\":{\"opacity\":0.3},\"type\":\"bar\"},{\"marker\":{\"opacity\":1},\"type\":\"bar\"},{\"marker\":{\"opacity\":0.3},\"type\":\"bar\"},{\"marker\":{\"opacity\":0.3},\"type\":\"bar\"}]},{\"data\":[{\"marker\":{\"opacity\":0.2},\"type\":\"bar\"},{\"marker\":{\"opacity\":0.2},\"type\":\"bar\"},{\"marker\":{\"opacity\":0.2},\"type\":\"bar\"},{\"marker\":{\"opacity\":0.2},\"type\":\"bar\"},{\"marker\":{\"opacity\":1},\"type\":\"bar\"},{\"marker\":{\"opacity\":0.2},\"type\":\"bar\"},{\"marker\":{\"opacity\":0.2},\"type\":\"bar\"}]},{\"data\":[{\"marker\":{\"opacity\":0.1},\"type\":\"bar\"},{\"marker\":{\"opacity\":0.1},\"type\":\"bar\"},{\"marker\":{\"opacity\":0.1},\"type\":\"bar\"},{\"marker\":{\"opacity\":0.1},\"type\":\"bar\"},{\"marker\":{\"opacity\":1},\"type\":\"bar\"},{\"marker\":{\"opacity\":0.1},\"type\":\"bar\"},{\"marker\":{\"opacity\":0.1},\"type\":\"bar\"}]}]);\n",
       "                        }).then(function(){\n",
       "                            \n",
       "var gd = document.getElementById('757e8b51-5cd6-4866-ac85-06bb63cb555c');\n",
       "var x = new MutationObserver(function (mutations, observer) {{\n",
       "        var display = window.getComputedStyle(gd).display;\n",
       "        if (!display || display === 'none') {{\n",
       "            console.log([gd, 'removed!']);\n",
       "            Plotly.purge(gd);\n",
       "            observer.disconnect();\n",
       "        }}\n",
       "}});\n",
       "\n",
       "// Listen for the removal of the full notebook cells\n",
       "var notebookContainer = gd.closest('#notebook-container');\n",
       "if (notebookContainer) {{\n",
       "    x.observe(notebookContainer, {childList: true});\n",
       "}}\n",
       "\n",
       "// Listen for the clearing of the current output cell\n",
       "var outputEl = gd.closest('.output');\n",
       "if (outputEl) {{\n",
       "    x.observe(outputEl, {childList: true});\n",
       "}}\n",
       "\n",
       "                        })                };                });            </script>        </div>"
      ]
     },
     "metadata": {},
     "output_type": "display_data"
    }
   ],
   "source": [
    "# Create a horizontal stacked bar plot using plotly.express\n",
    "fig = px.bar(df_melted,\n",
    "             y='Product',\n",
    "             x='Emissions',\n",
    "             color='Stage',\n",
    "             height=800,\n",
    "             color_discrete_sequence=standard_discrete,\n",
    "             title=\"Greenhouse gas emissions per food type over the supply chain\")\n",
    "\n",
    "frames = [go.Frame(data=[go.Bar(marker=dict(opacity=opacity)) if i != get_traceindex('Transport', fig) else go.Bar(marker=dict(opacity=1)) for i in range(len(fig.data))]) for opacity in [1, 0.9, 0.8, 0.7, 0.6, 0.5, 0.4, 0.3, 0.2, 0.1]]\n",
    "\n",
    "updatemenus = [dict(\n",
    "    type='buttons',\n",
    "    showactive=True,\n",
    "    xanchor='right',\n",
    "    yanchor='top',\n",
    "    x=1,\n",
    "    y=1.09,\n",
    "    direction=\"left\",\n",
    "    buttons=[\n",
    "    dict(\n",
    "        label='Play',\n",
    "        method='animate',\n",
    "        args=[None, dict(frame=dict(duration=5), transition=dict(duration=150))]\n",
    "    ),\n",
    "    dict(\n",
    "        label='Reset',\n",
    "        method='restyle',\n",
    "        args=[{'marker.opacity': 1}]    )\n",
    "]\n",
    ")]\n",
    "\n",
    "\n",
    "fig.update_layout(barmode='relative')\n",
    "\n",
    "fig.update_layout(layout,        \n",
    "        legend=dict(\n",
    "        orientation=\"h\",\n",
    "        yanchor=\"top\",\n",
    "        y=1.065,\n",
    "        xanchor=\"left\",\n",
    "        x=-0.06),\n",
    "        updatemenus=updatemenus\n",
    ")\n",
    "\n",
    "\n",
    "# fig.layout.updatemenus[0].buttons[0].args[1][\"frame\"][\"duration\"] = 2000\n",
    "\n",
    "\n",
    "\n",
    "fig.frames = frames\n",
    "\n",
    "\n",
    "# fig.updatemenus[0].buttons[0].args[1] = dict(frame=dict(duration=1000), transition=dict(duration=500))\n",
    "\n",
    "\n",
    "fig.show()"
   ]
  },
  {
   "cell_type": "markdown",
   "id": "84271e8b-3cdf-4cad-b78e-f536ff980cba",
   "metadata": {},
   "source": [
    "> *Figure 7: Animated bar chart of transport emissions per product compared to other types of emissions.*"
   ]
  },
  {
   "cell_type": "markdown",
   "id": "9bb2eaaf",
   "metadata": {},
   "source": [
    "This figure shows what part of the greenhouse gas emissions for each food type is caused by transport of the product. The figure is meant to show that transport is a tiny portion of the total greenhouse gas emissions, and supports the perspective that the type of food matters more than the sourcing; we need to evaluate what\n",
    "it is we eat, not necessarily where it’s from."
   ]
  },
  {
   "cell_type": "markdown",
   "id": "cb17ec23",
   "metadata": {},
   "source": [
    "A pie chart more concretely shows the relative (total) CO2 impact of transport:"
   ]
  },
  {
   "cell_type": "code",
   "execution_count": null,
   "id": "3966ea55",
   "metadata": {
    "tags": [
     "hide-input"
    ]
   },
   "outputs": [
    {
     "data": {
      "application/vnd.plotly.v1+json": {
       "config": {
        "plotlyServerURL": "https://plot.ly"
       },
       "data": [
        {
         "domain": {
          "x": [
           0,
           1
          ],
          "y": [
           0,
           1
          ]
         },
         "hole": 0.3,
         "hovertemplate": "label=%{label}<br>value=%{value}<extra></extra>",
         "labels": [
          "Land Use Change",
          "Feed",
          "Farm",
          "Processing",
          "Transport",
          "Packaging",
          "Retail"
         ],
         "legendgroup": "",
         "marker": {
          "colors": [
           "#4C78A8",
           "#F58518",
           "#E45756",
           "#72B7B2",
           "#54A24B",
           "#EECA3B",
           "#B279A2",
           "#FF9DA6",
           "#9D755D",
           "#BAB0AC"
          ],
          "line": {
           "color": "#000000",
           "width": 2
          }
         },
         "name": "",
         "showlegend": false,
         "textinfo": "label+percent",
         "textposition": "outside",
         "type": "pie",
         "values": [
          2379469.6699999995,
          1098394.985,
          7463342.423,
          604297.5149999999,
          801403.8030000002,
          626870.6799999999,
          394202.63499999995
         ]
        }
       ],
       "layout": {
        "height": 600,
        "legend": {
         "tracegroupgap": 0
        },
        "template": {
         "data": {
          "bar": [
           {
            "error_x": {
             "color": "#2a3f5f"
            },
            "error_y": {
             "color": "#2a3f5f"
            },
            "marker": {
             "line": {
              "color": "#E5ECF6",
              "width": 0.5
             },
             "pattern": {
              "fillmode": "overlay",
              "size": 10,
              "solidity": 0.2
             }
            },
            "type": "bar"
           }
          ],
          "barpolar": [
           {
            "marker": {
             "line": {
              "color": "#E5ECF6",
              "width": 0.5
             },
             "pattern": {
              "fillmode": "overlay",
              "size": 10,
              "solidity": 0.2
             }
            },
            "type": "barpolar"
           }
          ],
          "carpet": [
           {
            "aaxis": {
             "endlinecolor": "#2a3f5f",
             "gridcolor": "white",
             "linecolor": "white",
             "minorgridcolor": "white",
             "startlinecolor": "#2a3f5f"
            },
            "baxis": {
             "endlinecolor": "#2a3f5f",
             "gridcolor": "white",
             "linecolor": "white",
             "minorgridcolor": "white",
             "startlinecolor": "#2a3f5f"
            },
            "type": "carpet"
           }
          ],
          "choropleth": [
           {
            "colorbar": {
             "outlinewidth": 0,
             "ticks": ""
            },
            "type": "choropleth"
           }
          ],
          "contour": [
           {
            "colorbar": {
             "outlinewidth": 0,
             "ticks": ""
            },
            "colorscale": [
             [
              0,
              "#0d0887"
             ],
             [
              0.1111111111111111,
              "#46039f"
             ],
             [
              0.2222222222222222,
              "#7201a8"
             ],
             [
              0.3333333333333333,
              "#9c179e"
             ],
             [
              0.4444444444444444,
              "#bd3786"
             ],
             [
              0.5555555555555556,
              "#d8576b"
             ],
             [
              0.6666666666666666,
              "#ed7953"
             ],
             [
              0.7777777777777778,
              "#fb9f3a"
             ],
             [
              0.8888888888888888,
              "#fdca26"
             ],
             [
              1,
              "#f0f921"
             ]
            ],
            "type": "contour"
           }
          ],
          "contourcarpet": [
           {
            "colorbar": {
             "outlinewidth": 0,
             "ticks": ""
            },
            "type": "contourcarpet"
           }
          ],
          "heatmap": [
           {
            "colorbar": {
             "outlinewidth": 0,
             "ticks": ""
            },
            "colorscale": [
             [
              0,
              "#0d0887"
             ],
             [
              0.1111111111111111,
              "#46039f"
             ],
             [
              0.2222222222222222,
              "#7201a8"
             ],
             [
              0.3333333333333333,
              "#9c179e"
             ],
             [
              0.4444444444444444,
              "#bd3786"
             ],
             [
              0.5555555555555556,
              "#d8576b"
             ],
             [
              0.6666666666666666,
              "#ed7953"
             ],
             [
              0.7777777777777778,
              "#fb9f3a"
             ],
             [
              0.8888888888888888,
              "#fdca26"
             ],
             [
              1,
              "#f0f921"
             ]
            ],
            "type": "heatmap"
           }
          ],
          "heatmapgl": [
           {
            "colorbar": {
             "outlinewidth": 0,
             "ticks": ""
            },
            "colorscale": [
             [
              0,
              "#0d0887"
             ],
             [
              0.1111111111111111,
              "#46039f"
             ],
             [
              0.2222222222222222,
              "#7201a8"
             ],
             [
              0.3333333333333333,
              "#9c179e"
             ],
             [
              0.4444444444444444,
              "#bd3786"
             ],
             [
              0.5555555555555556,
              "#d8576b"
             ],
             [
              0.6666666666666666,
              "#ed7953"
             ],
             [
              0.7777777777777778,
              "#fb9f3a"
             ],
             [
              0.8888888888888888,
              "#fdca26"
             ],
             [
              1,
              "#f0f921"
             ]
            ],
            "type": "heatmapgl"
           }
          ],
          "histogram": [
           {
            "marker": {
             "pattern": {
              "fillmode": "overlay",
              "size": 10,
              "solidity": 0.2
             }
            },
            "type": "histogram"
           }
          ],
          "histogram2d": [
           {
            "colorbar": {
             "outlinewidth": 0,
             "ticks": ""
            },
            "colorscale": [
             [
              0,
              "#0d0887"
             ],
             [
              0.1111111111111111,
              "#46039f"
             ],
             [
              0.2222222222222222,
              "#7201a8"
             ],
             [
              0.3333333333333333,
              "#9c179e"
             ],
             [
              0.4444444444444444,
              "#bd3786"
             ],
             [
              0.5555555555555556,
              "#d8576b"
             ],
             [
              0.6666666666666666,
              "#ed7953"
             ],
             [
              0.7777777777777778,
              "#fb9f3a"
             ],
             [
              0.8888888888888888,
              "#fdca26"
             ],
             [
              1,
              "#f0f921"
             ]
            ],
            "type": "histogram2d"
           }
          ],
          "histogram2dcontour": [
           {
            "colorbar": {
             "outlinewidth": 0,
             "ticks": ""
            },
            "colorscale": [
             [
              0,
              "#0d0887"
             ],
             [
              0.1111111111111111,
              "#46039f"
             ],
             [
              0.2222222222222222,
              "#7201a8"
             ],
             [
              0.3333333333333333,
              "#9c179e"
             ],
             [
              0.4444444444444444,
              "#bd3786"
             ],
             [
              0.5555555555555556,
              "#d8576b"
             ],
             [
              0.6666666666666666,
              "#ed7953"
             ],
             [
              0.7777777777777778,
              "#fb9f3a"
             ],
             [
              0.8888888888888888,
              "#fdca26"
             ],
             [
              1,
              "#f0f921"
             ]
            ],
            "type": "histogram2dcontour"
           }
          ],
          "mesh3d": [
           {
            "colorbar": {
             "outlinewidth": 0,
             "ticks": ""
            },
            "type": "mesh3d"
           }
          ],
          "parcoords": [
           {
            "line": {
             "colorbar": {
              "outlinewidth": 0,
              "ticks": ""
             }
            },
            "type": "parcoords"
           }
          ],
          "pie": [
           {
            "automargin": true,
            "type": "pie"
           }
          ],
          "scatter": [
           {
            "fillpattern": {
             "fillmode": "overlay",
             "size": 10,
             "solidity": 0.2
            },
            "type": "scatter"
           }
          ],
          "scatter3d": [
           {
            "line": {
             "colorbar": {
              "outlinewidth": 0,
              "ticks": ""
             }
            },
            "marker": {
             "colorbar": {
              "outlinewidth": 0,
              "ticks": ""
             }
            },
            "type": "scatter3d"
           }
          ],
          "scattercarpet": [
           {
            "marker": {
             "colorbar": {
              "outlinewidth": 0,
              "ticks": ""
             }
            },
            "type": "scattercarpet"
           }
          ],
          "scattergeo": [
           {
            "marker": {
             "colorbar": {
              "outlinewidth": 0,
              "ticks": ""
             }
            },
            "type": "scattergeo"
           }
          ],
          "scattergl": [
           {
            "marker": {
             "colorbar": {
              "outlinewidth": 0,
              "ticks": ""
             }
            },
            "type": "scattergl"
           }
          ],
          "scattermapbox": [
           {
            "marker": {
             "colorbar": {
              "outlinewidth": 0,
              "ticks": ""
             }
            },
            "type": "scattermapbox"
           }
          ],
          "scatterpolar": [
           {
            "marker": {
             "colorbar": {
              "outlinewidth": 0,
              "ticks": ""
             }
            },
            "type": "scatterpolar"
           }
          ],
          "scatterpolargl": [
           {
            "marker": {
             "colorbar": {
              "outlinewidth": 0,
              "ticks": ""
             }
            },
            "type": "scatterpolargl"
           }
          ],
          "scatterternary": [
           {
            "marker": {
             "colorbar": {
              "outlinewidth": 0,
              "ticks": ""
             }
            },
            "type": "scatterternary"
           }
          ],
          "surface": [
           {
            "colorbar": {
             "outlinewidth": 0,
             "ticks": ""
            },
            "colorscale": [
             [
              0,
              "#0d0887"
             ],
             [
              0.1111111111111111,
              "#46039f"
             ],
             [
              0.2222222222222222,
              "#7201a8"
             ],
             [
              0.3333333333333333,
              "#9c179e"
             ],
             [
              0.4444444444444444,
              "#bd3786"
             ],
             [
              0.5555555555555556,
              "#d8576b"
             ],
             [
              0.6666666666666666,
              "#ed7953"
             ],
             [
              0.7777777777777778,
              "#fb9f3a"
             ],
             [
              0.8888888888888888,
              "#fdca26"
             ],
             [
              1,
              "#f0f921"
             ]
            ],
            "type": "surface"
           }
          ],
          "table": [
           {
            "cells": {
             "fill": {
              "color": "#EBF0F8"
             },
             "line": {
              "color": "white"
             }
            },
            "header": {
             "fill": {
              "color": "#C8D4E3"
             },
             "line": {
              "color": "white"
             }
            },
            "type": "table"
           }
          ]
         },
         "layout": {
          "annotationdefaults": {
           "arrowcolor": "#2a3f5f",
           "arrowhead": 0,
           "arrowwidth": 1
          },
          "autotypenumbers": "strict",
          "coloraxis": {
           "colorbar": {
            "outlinewidth": 0,
            "ticks": ""
           }
          },
          "colorscale": {
           "diverging": [
            [
             0,
             "#8e0152"
            ],
            [
             0.1,
             "#c51b7d"
            ],
            [
             0.2,
             "#de77ae"
            ],
            [
             0.3,
             "#f1b6da"
            ],
            [
             0.4,
             "#fde0ef"
            ],
            [
             0.5,
             "#f7f7f7"
            ],
            [
             0.6,
             "#e6f5d0"
            ],
            [
             0.7,
             "#b8e186"
            ],
            [
             0.8,
             "#7fbc41"
            ],
            [
             0.9,
             "#4d9221"
            ],
            [
             1,
             "#276419"
            ]
           ],
           "sequential": [
            [
             0,
             "#0d0887"
            ],
            [
             0.1111111111111111,
             "#46039f"
            ],
            [
             0.2222222222222222,
             "#7201a8"
            ],
            [
             0.3333333333333333,
             "#9c179e"
            ],
            [
             0.4444444444444444,
             "#bd3786"
            ],
            [
             0.5555555555555556,
             "#d8576b"
            ],
            [
             0.6666666666666666,
             "#ed7953"
            ],
            [
             0.7777777777777778,
             "#fb9f3a"
            ],
            [
             0.8888888888888888,
             "#fdca26"
            ],
            [
             1,
             "#f0f921"
            ]
           ],
           "sequentialminus": [
            [
             0,
             "#0d0887"
            ],
            [
             0.1111111111111111,
             "#46039f"
            ],
            [
             0.2222222222222222,
             "#7201a8"
            ],
            [
             0.3333333333333333,
             "#9c179e"
            ],
            [
             0.4444444444444444,
             "#bd3786"
            ],
            [
             0.5555555555555556,
             "#d8576b"
            ],
            [
             0.6666666666666666,
             "#ed7953"
            ],
            [
             0.7777777777777778,
             "#fb9f3a"
            ],
            [
             0.8888888888888888,
             "#fdca26"
            ],
            [
             1,
             "#f0f921"
            ]
           ]
          },
          "colorway": [
           "#636efa",
           "#EF553B",
           "#00cc96",
           "#ab63fa",
           "#FFA15A",
           "#19d3f3",
           "#FF6692",
           "#B6E880",
           "#FF97FF",
           "#FECB52"
          ],
          "font": {
           "color": "#2a3f5f"
          },
          "geo": {
           "bgcolor": "white",
           "lakecolor": "white",
           "landcolor": "#E5ECF6",
           "showlakes": true,
           "showland": true,
           "subunitcolor": "white"
          },
          "hoverlabel": {
           "align": "left"
          },
          "hovermode": "closest",
          "mapbox": {
           "style": "light"
          },
          "paper_bgcolor": "white",
          "plot_bgcolor": "#E5ECF6",
          "polar": {
           "angularaxis": {
            "gridcolor": "white",
            "linecolor": "white",
            "ticks": ""
           },
           "bgcolor": "#E5ECF6",
           "radialaxis": {
            "gridcolor": "white",
            "linecolor": "white",
            "ticks": ""
           }
          },
          "scene": {
           "xaxis": {
            "backgroundcolor": "#E5ECF6",
            "gridcolor": "white",
            "gridwidth": 2,
            "linecolor": "white",
            "showbackground": true,
            "ticks": "",
            "zerolinecolor": "white"
           },
           "yaxis": {
            "backgroundcolor": "#E5ECF6",
            "gridcolor": "white",
            "gridwidth": 2,
            "linecolor": "white",
            "showbackground": true,
            "ticks": "",
            "zerolinecolor": "white"
           },
           "zaxis": {
            "backgroundcolor": "#E5ECF6",
            "gridcolor": "white",
            "gridwidth": 2,
            "linecolor": "white",
            "showbackground": true,
            "ticks": "",
            "zerolinecolor": "white"
           }
          },
          "shapedefaults": {
           "line": {
            "color": "#2a3f5f"
           }
          },
          "ternary": {
           "aaxis": {
            "gridcolor": "white",
            "linecolor": "white",
            "ticks": ""
           },
           "baxis": {
            "gridcolor": "white",
            "linecolor": "white",
            "ticks": ""
           },
           "bgcolor": "#E5ECF6",
           "caxis": {
            "gridcolor": "white",
            "linecolor": "white",
            "ticks": ""
           }
          },
          "title": {
           "x": 0.05
          },
          "xaxis": {
           "automargin": true,
           "gridcolor": "white",
           "linecolor": "white",
           "ticks": "",
           "title": {
            "standoff": 15
           },
           "zerolinecolor": "white",
           "zerolinewidth": 2
          },
          "yaxis": {
           "automargin": true,
           "gridcolor": "white",
           "linecolor": "white",
           "ticks": "",
           "title": {
            "standoff": 15
           },
           "zerolinecolor": "white",
           "zerolinewidth": 2
          }
         }
        },
        "title": {
         "text": "Percentage of total GHG emissions by part of supply chain"
        }
       }
      },
      "text/html": [
       "<div>                            <div id=\"e4503233-0178-40dc-94c7-0286126a584e\" class=\"plotly-graph-div\" style=\"height:600px; width:100%;\"></div>            <script type=\"text/javascript\">                require([\"plotly\"], function(Plotly) {                    window.PLOTLYENV=window.PLOTLYENV || {};                                    if (document.getElementById(\"e4503233-0178-40dc-94c7-0286126a584e\")) {                    Plotly.newPlot(                        \"e4503233-0178-40dc-94c7-0286126a584e\",                        [{\"domain\":{\"x\":[0.0,1.0],\"y\":[0.0,1.0]},\"hole\":0.3,\"hovertemplate\":\"label=%{label}\\u003cbr\\u003evalue=%{value}\\u003cextra\\u003e\\u003c\\u002fextra\\u003e\",\"labels\":[\"Land Use Change\",\"Feed\",\"Farm\",\"Processing\",\"Transport\",\"Packaging\",\"Retail\"],\"legendgroup\":\"\",\"name\":\"\",\"showlegend\":false,\"values\":[2379469.6699999995,1098394.985,7463342.423,604297.5149999999,801403.8030000002,626870.6799999999,394202.63499999995],\"type\":\"pie\",\"marker\":{\"line\":{\"color\":\"#000000\",\"width\":2},\"colors\":[\"#4C78A8\",\"#F58518\",\"#E45756\",\"#72B7B2\",\"#54A24B\",\"#EECA3B\",\"#B279A2\",\"#FF9DA6\",\"#9D755D\",\"#BAB0AC\"]},\"textinfo\":\"label+percent\",\"textposition\":\"outside\"}],                        {\"template\":{\"data\":{\"histogram2dcontour\":[{\"type\":\"histogram2dcontour\",\"colorbar\":{\"outlinewidth\":0,\"ticks\":\"\"},\"colorscale\":[[0.0,\"#0d0887\"],[0.1111111111111111,\"#46039f\"],[0.2222222222222222,\"#7201a8\"],[0.3333333333333333,\"#9c179e\"],[0.4444444444444444,\"#bd3786\"],[0.5555555555555556,\"#d8576b\"],[0.6666666666666666,\"#ed7953\"],[0.7777777777777778,\"#fb9f3a\"],[0.8888888888888888,\"#fdca26\"],[1.0,\"#f0f921\"]]}],\"choropleth\":[{\"type\":\"choropleth\",\"colorbar\":{\"outlinewidth\":0,\"ticks\":\"\"}}],\"histogram2d\":[{\"type\":\"histogram2d\",\"colorbar\":{\"outlinewidth\":0,\"ticks\":\"\"},\"colorscale\":[[0.0,\"#0d0887\"],[0.1111111111111111,\"#46039f\"],[0.2222222222222222,\"#7201a8\"],[0.3333333333333333,\"#9c179e\"],[0.4444444444444444,\"#bd3786\"],[0.5555555555555556,\"#d8576b\"],[0.6666666666666666,\"#ed7953\"],[0.7777777777777778,\"#fb9f3a\"],[0.8888888888888888,\"#fdca26\"],[1.0,\"#f0f921\"]]}],\"heatmap\":[{\"type\":\"heatmap\",\"colorbar\":{\"outlinewidth\":0,\"ticks\":\"\"},\"colorscale\":[[0.0,\"#0d0887\"],[0.1111111111111111,\"#46039f\"],[0.2222222222222222,\"#7201a8\"],[0.3333333333333333,\"#9c179e\"],[0.4444444444444444,\"#bd3786\"],[0.5555555555555556,\"#d8576b\"],[0.6666666666666666,\"#ed7953\"],[0.7777777777777778,\"#fb9f3a\"],[0.8888888888888888,\"#fdca26\"],[1.0,\"#f0f921\"]]}],\"heatmapgl\":[{\"type\":\"heatmapgl\",\"colorbar\":{\"outlinewidth\":0,\"ticks\":\"\"},\"colorscale\":[[0.0,\"#0d0887\"],[0.1111111111111111,\"#46039f\"],[0.2222222222222222,\"#7201a8\"],[0.3333333333333333,\"#9c179e\"],[0.4444444444444444,\"#bd3786\"],[0.5555555555555556,\"#d8576b\"],[0.6666666666666666,\"#ed7953\"],[0.7777777777777778,\"#fb9f3a\"],[0.8888888888888888,\"#fdca26\"],[1.0,\"#f0f921\"]]}],\"contourcarpet\":[{\"type\":\"contourcarpet\",\"colorbar\":{\"outlinewidth\":0,\"ticks\":\"\"}}],\"contour\":[{\"type\":\"contour\",\"colorbar\":{\"outlinewidth\":0,\"ticks\":\"\"},\"colorscale\":[[0.0,\"#0d0887\"],[0.1111111111111111,\"#46039f\"],[0.2222222222222222,\"#7201a8\"],[0.3333333333333333,\"#9c179e\"],[0.4444444444444444,\"#bd3786\"],[0.5555555555555556,\"#d8576b\"],[0.6666666666666666,\"#ed7953\"],[0.7777777777777778,\"#fb9f3a\"],[0.8888888888888888,\"#fdca26\"],[1.0,\"#f0f921\"]]}],\"surface\":[{\"type\":\"surface\",\"colorbar\":{\"outlinewidth\":0,\"ticks\":\"\"},\"colorscale\":[[0.0,\"#0d0887\"],[0.1111111111111111,\"#46039f\"],[0.2222222222222222,\"#7201a8\"],[0.3333333333333333,\"#9c179e\"],[0.4444444444444444,\"#bd3786\"],[0.5555555555555556,\"#d8576b\"],[0.6666666666666666,\"#ed7953\"],[0.7777777777777778,\"#fb9f3a\"],[0.8888888888888888,\"#fdca26\"],[1.0,\"#f0f921\"]]}],\"mesh3d\":[{\"type\":\"mesh3d\",\"colorbar\":{\"outlinewidth\":0,\"ticks\":\"\"}}],\"scatter\":[{\"fillpattern\":{\"fillmode\":\"overlay\",\"size\":10,\"solidity\":0.2},\"type\":\"scatter\"}],\"parcoords\":[{\"type\":\"parcoords\",\"line\":{\"colorbar\":{\"outlinewidth\":0,\"ticks\":\"\"}}}],\"scatterpolargl\":[{\"type\":\"scatterpolargl\",\"marker\":{\"colorbar\":{\"outlinewidth\":0,\"ticks\":\"\"}}}],\"bar\":[{\"error_x\":{\"color\":\"#2a3f5f\"},\"error_y\":{\"color\":\"#2a3f5f\"},\"marker\":{\"line\":{\"color\":\"#E5ECF6\",\"width\":0.5},\"pattern\":{\"fillmode\":\"overlay\",\"size\":10,\"solidity\":0.2}},\"type\":\"bar\"}],\"scattergeo\":[{\"type\":\"scattergeo\",\"marker\":{\"colorbar\":{\"outlinewidth\":0,\"ticks\":\"\"}}}],\"scatterpolar\":[{\"type\":\"scatterpolar\",\"marker\":{\"colorbar\":{\"outlinewidth\":0,\"ticks\":\"\"}}}],\"histogram\":[{\"marker\":{\"pattern\":{\"fillmode\":\"overlay\",\"size\":10,\"solidity\":0.2}},\"type\":\"histogram\"}],\"scattergl\":[{\"type\":\"scattergl\",\"marker\":{\"colorbar\":{\"outlinewidth\":0,\"ticks\":\"\"}}}],\"scatter3d\":[{\"type\":\"scatter3d\",\"line\":{\"colorbar\":{\"outlinewidth\":0,\"ticks\":\"\"}},\"marker\":{\"colorbar\":{\"outlinewidth\":0,\"ticks\":\"\"}}}],\"scattermapbox\":[{\"type\":\"scattermapbox\",\"marker\":{\"colorbar\":{\"outlinewidth\":0,\"ticks\":\"\"}}}],\"scatterternary\":[{\"type\":\"scatterternary\",\"marker\":{\"colorbar\":{\"outlinewidth\":0,\"ticks\":\"\"}}}],\"scattercarpet\":[{\"type\":\"scattercarpet\",\"marker\":{\"colorbar\":{\"outlinewidth\":0,\"ticks\":\"\"}}}],\"carpet\":[{\"aaxis\":{\"endlinecolor\":\"#2a3f5f\",\"gridcolor\":\"white\",\"linecolor\":\"white\",\"minorgridcolor\":\"white\",\"startlinecolor\":\"#2a3f5f\"},\"baxis\":{\"endlinecolor\":\"#2a3f5f\",\"gridcolor\":\"white\",\"linecolor\":\"white\",\"minorgridcolor\":\"white\",\"startlinecolor\":\"#2a3f5f\"},\"type\":\"carpet\"}],\"table\":[{\"cells\":{\"fill\":{\"color\":\"#EBF0F8\"},\"line\":{\"color\":\"white\"}},\"header\":{\"fill\":{\"color\":\"#C8D4E3\"},\"line\":{\"color\":\"white\"}},\"type\":\"table\"}],\"barpolar\":[{\"marker\":{\"line\":{\"color\":\"#E5ECF6\",\"width\":0.5},\"pattern\":{\"fillmode\":\"overlay\",\"size\":10,\"solidity\":0.2}},\"type\":\"barpolar\"}],\"pie\":[{\"automargin\":true,\"type\":\"pie\"}]},\"layout\":{\"autotypenumbers\":\"strict\",\"colorway\":[\"#636efa\",\"#EF553B\",\"#00cc96\",\"#ab63fa\",\"#FFA15A\",\"#19d3f3\",\"#FF6692\",\"#B6E880\",\"#FF97FF\",\"#FECB52\"],\"font\":{\"color\":\"#2a3f5f\"},\"hovermode\":\"closest\",\"hoverlabel\":{\"align\":\"left\"},\"paper_bgcolor\":\"white\",\"plot_bgcolor\":\"#E5ECF6\",\"polar\":{\"bgcolor\":\"#E5ECF6\",\"angularaxis\":{\"gridcolor\":\"white\",\"linecolor\":\"white\",\"ticks\":\"\"},\"radialaxis\":{\"gridcolor\":\"white\",\"linecolor\":\"white\",\"ticks\":\"\"}},\"ternary\":{\"bgcolor\":\"#E5ECF6\",\"aaxis\":{\"gridcolor\":\"white\",\"linecolor\":\"white\",\"ticks\":\"\"},\"baxis\":{\"gridcolor\":\"white\",\"linecolor\":\"white\",\"ticks\":\"\"},\"caxis\":{\"gridcolor\":\"white\",\"linecolor\":\"white\",\"ticks\":\"\"}},\"coloraxis\":{\"colorbar\":{\"outlinewidth\":0,\"ticks\":\"\"}},\"colorscale\":{\"sequential\":[[0.0,\"#0d0887\"],[0.1111111111111111,\"#46039f\"],[0.2222222222222222,\"#7201a8\"],[0.3333333333333333,\"#9c179e\"],[0.4444444444444444,\"#bd3786\"],[0.5555555555555556,\"#d8576b\"],[0.6666666666666666,\"#ed7953\"],[0.7777777777777778,\"#fb9f3a\"],[0.8888888888888888,\"#fdca26\"],[1.0,\"#f0f921\"]],\"sequentialminus\":[[0.0,\"#0d0887\"],[0.1111111111111111,\"#46039f\"],[0.2222222222222222,\"#7201a8\"],[0.3333333333333333,\"#9c179e\"],[0.4444444444444444,\"#bd3786\"],[0.5555555555555556,\"#d8576b\"],[0.6666666666666666,\"#ed7953\"],[0.7777777777777778,\"#fb9f3a\"],[0.8888888888888888,\"#fdca26\"],[1.0,\"#f0f921\"]],\"diverging\":[[0,\"#8e0152\"],[0.1,\"#c51b7d\"],[0.2,\"#de77ae\"],[0.3,\"#f1b6da\"],[0.4,\"#fde0ef\"],[0.5,\"#f7f7f7\"],[0.6,\"#e6f5d0\"],[0.7,\"#b8e186\"],[0.8,\"#7fbc41\"],[0.9,\"#4d9221\"],[1,\"#276419\"]]},\"xaxis\":{\"gridcolor\":\"white\",\"linecolor\":\"white\",\"ticks\":\"\",\"title\":{\"standoff\":15},\"zerolinecolor\":\"white\",\"automargin\":true,\"zerolinewidth\":2},\"yaxis\":{\"gridcolor\":\"white\",\"linecolor\":\"white\",\"ticks\":\"\",\"title\":{\"standoff\":15},\"zerolinecolor\":\"white\",\"automargin\":true,\"zerolinewidth\":2},\"scene\":{\"xaxis\":{\"backgroundcolor\":\"#E5ECF6\",\"gridcolor\":\"white\",\"linecolor\":\"white\",\"showbackground\":true,\"ticks\":\"\",\"zerolinecolor\":\"white\",\"gridwidth\":2},\"yaxis\":{\"backgroundcolor\":\"#E5ECF6\",\"gridcolor\":\"white\",\"linecolor\":\"white\",\"showbackground\":true,\"ticks\":\"\",\"zerolinecolor\":\"white\",\"gridwidth\":2},\"zaxis\":{\"backgroundcolor\":\"#E5ECF6\",\"gridcolor\":\"white\",\"linecolor\":\"white\",\"showbackground\":true,\"ticks\":\"\",\"zerolinecolor\":\"white\",\"gridwidth\":2}},\"shapedefaults\":{\"line\":{\"color\":\"#2a3f5f\"}},\"annotationdefaults\":{\"arrowcolor\":\"#2a3f5f\",\"arrowhead\":0,\"arrowwidth\":1},\"geo\":{\"bgcolor\":\"white\",\"landcolor\":\"#E5ECF6\",\"subunitcolor\":\"white\",\"showland\":true,\"showlakes\":true,\"lakecolor\":\"white\"},\"title\":{\"x\":0.05},\"mapbox\":{\"style\":\"light\"}}},\"legend\":{\"tracegroupgap\":0},\"title\":{\"text\":\"Percentage of total GHG emissions by part of supply chain\"},\"height\":600},                        {\"responsive\": true}                    ).then(function(){\n",
       "                            \n",
       "var gd = document.getElementById('e4503233-0178-40dc-94c7-0286126a584e');\n",
       "var x = new MutationObserver(function (mutations, observer) {{\n",
       "        var display = window.getComputedStyle(gd).display;\n",
       "        if (!display || display === 'none') {{\n",
       "            console.log([gd, 'removed!']);\n",
       "            Plotly.purge(gd);\n",
       "            observer.disconnect();\n",
       "        }}\n",
       "}});\n",
       "\n",
       "// Listen for the removal of the full notebook cells\n",
       "var notebookContainer = gd.closest('#notebook-container');\n",
       "if (notebookContainer) {{\n",
       "    x.observe(notebookContainer, {childList: true});\n",
       "}}\n",
       "\n",
       "// Listen for the clearing of the current output cell\n",
       "var outputEl = gd.closest('.output');\n",
       "if (outputEl) {{\n",
       "    x.observe(outputEl, {childList: true});\n",
       "}}\n",
       "\n",
       "                        })                };                });            </script>        </div>"
      ]
     },
     "metadata": {},
     "output_type": "display_data"
    }
   ],
   "source": [
    "df2 = df_per_product.iloc[55]\n",
    "fig = px.pie(df2, values=df2.values[1:], names=df2.index[1:], hole=.3, height=600, title='Percentage of total GHG emissions by part of supply chain')\n",
    "fig.update_traces(textposition='outside', textinfo='label+percent', marker=dict(colors=standard_discrete, line=dict(color='#000000', width=2)), showlegend=False)\n",
    "fig.show()"
   ]
  },
  {
   "cell_type": "markdown",
   "id": "80633dca-039a-4041-bd31-135ef7eef52c",
   "metadata": {},
   "source": [
    "> *Figure 8: Pie chart of the total greenhouse gas emissions divided into each part of the supply chain.*"
   ]
  },
  {
   "cell_type": "markdown",
   "id": "921df77f",
   "metadata": {},
   "source": [
    "## Reflection\n",
    "\n",
    "Following the feedback session, we improved the legend of the first plot as well as the readability.\n",
    "We made sure to use a consistent style and color scheme for all figures. \n",
    "For each plot, we made sure it relates to an argument that supports one of the perspectives described in the introduction.\n",
    "Furthermore, we limited any dropdown menus to at most 5 options, and limited the amount of different variables for each individual plot.\n",
    "Aside from this, we continued working on our data story, adding supportive text to each visualisation and improved on some minor visual details as discussed during the feedback session."
   ]
  },
  {
   "cell_type": "markdown",
   "id": "8799e8f6",
   "metadata": {},
   "source": [
    "## Work Distribution\n",
    "\n",
    "#### Ardjano Mark 14713926\n",
    "Visualisation 4-8, came up with the perspectives, animation\n",
    "#### Daan Huisman 14650797\n",
    "Visualisation 1, plot styles, making sure the visualisations look good and consistent\n",
    "#### Ivo de Brouwer 11045841\n",
    "Visualisation 3-4, introduction/dataset and preprocessing/reflection sections, supporting text under figures\n",
    "#### Mauro Dieters 14533391\n",
    "Visualisation 2, helped with most other visualisations\n",
    "\n",
    "---\n",
    "\n",
    "Every team member helped to some extent with all visualisations as well as editing the supporting text."
   ]
  },
  {
   "cell_type": "markdown",
   "id": "8a61224c",
   "metadata": {},
   "source": [
    "## References\n",
    "\n",
    "[1]  https://www.theguardian.com/environment/2021/aug/10/code-red-for-humanity-what-the-papers-say-about-the-ipcc-report-on-the-climate-crisis\n",
    "\n",
    "[2] https://ourworldindata.org/greenhouse-gas-emissions-food\n",
    "\n",
    "[3] https://www.science.org/doi/10.1126/science.aaq0216"
   ]
  },
  {
   "cell_type": "markdown",
   "id": "f377761c-1ed5-440a-8c20-eaf6ab7c67bb",
   "metadata": {},
   "source": [
    "## Appendix\n",
    "\n",
    "Generative AI (ChatGPT/Bing chat with GPT 4) is used to facilitate the creation of this document, as shown in the table below.\n",
    "\n",
    "| Reasons of Usage | In which parts? | Which prompts were used? |\n",
    "| ------------------------ | --------------------------------- | -------------------------------------------- |\n",
    "| Brainstorm research questions and identify keywords for further search | The entire project framing | \"Give keywords about the current debate in climate change with brief explanations\" |\n",
    "| Improve writing clarity and enhance readability | All sections | \"Edit the following text to make it more clear. Do not alter the meaning.\" |\n",
    "| Enhance readability | All sections | \"Revise the paragraph to improve readability.\" |\n",
    "| Ensure grammatical accuracy |  All sections | \"Correct any grammatical errors in the text.\" |\n",
    "| Provide alternative phrasing | Descriptions of the perspectives | \"Suggest alternative phrases for better clarity.\" |\n",
    "| Optimize sentence structure | All sections | \"Restructure the sentence for better flow.\" |\n",
    "| Condense lengthy sentences | All sections | \"Simplify the following sentences without losing important information.\"|\n",
    "\n",
    "> *Table 1: Usage of generative AI to facilitate the creation of this document.*"
   ]
  },
  {
   "cell_type": "code",
   "execution_count": null,
   "id": "023d7165",
   "metadata": {},
   "outputs": [],
   "source": []
  }
 ],
 "metadata": {
  "celltoolbar": "Tags",
  "kernelspec": {
   "display_name": "Python 3 (ipykernel)",
   "language": "python",
   "name": "python3"
  },
  "language_info": {
   "codemirror_mode": {
    "name": "ipython",
    "version": 3
   },
   "file_extension": ".py",
   "mimetype": "text/x-python",
   "name": "python",
   "nbconvert_exporter": "python",
   "pygments_lexer": "ipython3",
   "version": "3.11.3"
  },
  "vscode": {
   "interpreter": {
    "hash": "4b120d14bf374f8a133e4f665cf490f9e10f3a5a495a65bc2a97ae6ed3eac095"
   }
  }
 },
 "nbformat": 4,
 "nbformat_minor": 5
}
