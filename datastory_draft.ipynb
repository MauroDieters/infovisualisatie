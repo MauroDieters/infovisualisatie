{
 "cells": [
  {
   "cell_type": "markdown",
   "id": "4defe1fc",
   "metadata": {},
   "source": [
    "### Food for thought: how to eat sustainably\n",
    "\n",
    "#### Introduction\n",
    "\n",
    "We are going to explore which food sources are the most and least sustainable, on\n",
    "various measures such as CO2 emissions, water usage, locally produced vs non-locally,\n",
    "among others. We will evaluate some of the most common food sources on these metrics,\n",
    "and aim to make people think about how to consume more sustainably.\n",
    "\n",
    "Debate 1 (global/local)\n",
    "\n",
    "Perspective 1: it matters a lot whether you produce food locally or globally; the emissions\n",
    "produced during transport are significant, and a huge factor in the total emissions of the\n",
    "food we consume.\n",
    "\n",
    "Perspective 2: the type of food matters more than the sourcing; we need to evaluate what\n",
    "it is we eat, not necessarily where it’s from. E.g. animal products vs plant-based products,\n",
    "calories/protein per emissions.\n"
   ]
  },
  {
   "cell_type": "markdown",
   "id": "5a58883d",
   "metadata": {},
   "source": [
    "#### Dataset and preprocessing\n",
    "\n",
    "The dataset we used can be downloaded from https://www.science.org/doi/10.1126/science.aaq0216. It is called 'aaq0216_datas1.xls'. The dataset encompasses variables such as land use (in m2), greenhouse gas emissions (in kg CO2-eq), eutrophication (in kg PO43-eq) and freshwater (in liters), for 43 different agricultural products. The dataset is an xls file containing multiple Excel sheets. \n",
    "\n",
    "To look at the global totals of Greenhouse gas emissions for each product, for example, we can look at the following dataframe:"
   ]
  },
  {
   "cell_type": "code",
   "execution_count": 5,
   "id": "ef4ae329",
   "metadata": {},
   "outputs": [
    {
     "data": {
      "text/html": [
       "<div>\n",
       "<style scoped>\n",
       "    .dataframe tbody tr th:only-of-type {\n",
       "        vertical-align: middle;\n",
       "    }\n",
       "\n",
       "    .dataframe tbody tr th {\n",
       "        vertical-align: top;\n",
       "    }\n",
       "\n",
       "    .dataframe thead th {\n",
       "        text-align: right;\n",
       "    }\n",
       "</style>\n",
       "<table border=\"1\" class=\"dataframe\">\n",
       "  <thead>\n",
       "    <tr style=\"text-align: right;\">\n",
       "      <th></th>\n",
       "      <th>Product</th>\n",
       "      <th>LUC</th>\n",
       "      <th>Feed</th>\n",
       "      <th>Farm</th>\n",
       "      <th>Processing</th>\n",
       "      <th>Transport</th>\n",
       "      <th>Packging</th>\n",
       "      <th>Retail</th>\n",
       "      <th>Total</th>\n",
       "    </tr>\n",
       "  </thead>\n",
       "  <tbody>\n",
       "    <tr>\n",
       "      <th>0</th>\n",
       "      <td>Wheat &amp; Rye (Bread)</td>\n",
       "      <td>0.100</td>\n",
       "      <td>0.0</td>\n",
       "      <td>0.847</td>\n",
       "      <td>0.217</td>\n",
       "      <td>0.129</td>\n",
       "      <td>0.090</td>\n",
       "      <td>0.058</td>\n",
       "      <td>1.441</td>\n",
       "    </tr>\n",
       "    <tr>\n",
       "      <th>1</th>\n",
       "      <td>Maize (Meal)</td>\n",
       "      <td>0.315</td>\n",
       "      <td>0.0</td>\n",
       "      <td>0.475</td>\n",
       "      <td>0.052</td>\n",
       "      <td>0.060</td>\n",
       "      <td>0.060</td>\n",
       "      <td>0.026</td>\n",
       "      <td>0.988</td>\n",
       "    </tr>\n",
       "    <tr>\n",
       "      <th>2</th>\n",
       "      <td>Barley (Beer)</td>\n",
       "      <td>0.009</td>\n",
       "      <td>0.0</td>\n",
       "      <td>0.176</td>\n",
       "      <td>0.128</td>\n",
       "      <td>0.035</td>\n",
       "      <td>0.497</td>\n",
       "      <td>0.264</td>\n",
       "      <td>1.109</td>\n",
       "    </tr>\n",
       "    <tr>\n",
       "      <th>3</th>\n",
       "      <td>Oatmeal</td>\n",
       "      <td>0.001</td>\n",
       "      <td>0.0</td>\n",
       "      <td>1.370</td>\n",
       "      <td>0.042</td>\n",
       "      <td>0.067</td>\n",
       "      <td>0.066</td>\n",
       "      <td>0.029</td>\n",
       "      <td>1.575</td>\n",
       "    </tr>\n",
       "    <tr>\n",
       "      <th>4</th>\n",
       "      <td>Rice</td>\n",
       "      <td>-0.022</td>\n",
       "      <td>0.0</td>\n",
       "      <td>3.553</td>\n",
       "      <td>0.065</td>\n",
       "      <td>0.096</td>\n",
       "      <td>0.084</td>\n",
       "      <td>0.063</td>\n",
       "      <td>3.839</td>\n",
       "    </tr>\n",
       "  </tbody>\n",
       "</table>\n",
       "</div>"
      ],
      "text/plain": [
       "               Product    LUC  Feed   Farm  Processing  Transport  Packging  \\\n",
       "0  Wheat & Rye (Bread)  0.100   0.0  0.847       0.217      0.129     0.090   \n",
       "1         Maize (Meal)  0.315   0.0  0.475       0.052      0.060     0.060   \n",
       "2        Barley (Beer)  0.009   0.0  0.176       0.128      0.035     0.497   \n",
       "3              Oatmeal  0.001   0.0  1.370       0.042      0.067     0.066   \n",
       "4                 Rice -0.022   0.0  3.553       0.065      0.096     0.084   \n",
       "\n",
       "   Retail  Total  \n",
       "0   0.058  1.441  \n",
       "1   0.026  0.988  \n",
       "2   0.264  1.109  \n",
       "3   0.029  1.575  \n",
       "4   0.063  3.839  "
      ]
     },
     "execution_count": 5,
     "metadata": {},
     "output_type": "execute_result"
    }
   ],
   "source": [
    "import pandas as pd\n",
    "df_ghg = pd.read_excel('dataset1.xls', sheet_name=2, skiprows=2, nrows=43, usecols=\"A, F:L\")\n",
    "df_ghg['Total'] = df_ghg[['LUC', 'Feed', 'Farm', 'Processing', 'Transport', 'Packging', 'Retail']].sum(axis=1)\n",
    "df_ghg.head()"
   ]
  },
  {
   "cell_type": "markdown",
   "id": "9be81ac5",
   "metadata": {},
   "source": [
    "Here, we can see that the greenhouse gas emissions are divided into different stages of the production and distribution of the product. We added another column to see the total amount of greenhouse gas emissions, as that is often the most important metric to compare."
   ]
  },
  {
   "cell_type": "code",
   "execution_count": null,
   "id": "c7439f9e",
   "metadata": {},
   "outputs": [],
   "source": []
  }
 ],
 "metadata": {
  "kernelspec": {
   "display_name": "Python 3 (ipykernel)",
   "language": "python",
   "name": "python3"
  },
  "language_info": {
   "codemirror_mode": {
    "name": "ipython",
    "version": 3
   },
   "file_extension": ".py",
   "mimetype": "text/x-python",
   "name": "python",
   "nbconvert_exporter": "python",
   "pygments_lexer": "ipython3",
   "version": "3.11.2"
  }
 },
 "nbformat": 4,
 "nbformat_minor": 5
}
