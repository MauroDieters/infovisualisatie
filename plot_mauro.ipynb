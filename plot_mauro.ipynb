{
 "cells": [
  {
   "cell_type": "code",
   "execution_count": 18,
   "id": "f9c68d39",
   "metadata": {
    "scrolled": true
   },
   "outputs": [],
   "source": [
    "import plotly.graph_objs as go\n",
    "import plotly.express as px\n",
    "import matplotlib as plt\n",
    "import pandas as pd\n",
    "import numpy as np\n",
    "import seaborn as sns\n",
    "from ipywidgets import interact, interactive, fixed, interact_manual\n",
    "from ipywidgets import GridspecLayout\n",
    "import ipywidgets as widgets\n"
   ]
  },
  {
   "cell_type": "code",
   "execution_count": 19,
   "id": "95043d03",
   "metadata": {},
   "outputs": [],
   "source": [
    "non_vegan_products = ['Barley (Beer)','Cane Sugar','Milk','Cheese','Eggs','Fish (farmed)','Crustaceans (farmed)','Bovine Meat (beef herd)','Bovine Meat (dairy herd)','Lamb & Mutton','Pig Meat','Poultry Meat']\n",
    "df_all_products = pd.read_excel(\"dataset1.xls\", sheet_name=\"Results - Retail Weight\", skiprows=2,nrows=43, index_col=None, na_values=[\"NA\"])"
   ]
  },
  {
   "cell_type": "code",
   "execution_count": 20,
   "id": "dcac2ef7",
   "metadata": {},
   "outputs": [
    {
     "name": "stdout",
     "output_type": "stream",
     "text": [
      "df_non_vegan_products_land_use:\n",
      "                     Product    Mean\n",
      "2              Barley (Beer)    1.11\n",
      "7                 Cane Sugar    2.04\n",
      "33   Bovine Meat (beef herd)  326.21\n",
      "34  Bovine Meat (dairy herd)   43.24\n",
      "35             Lamb & Mutton  369.81\n",
      "36                  Pig Meat   17.36\n",
      "37              Poultry Meat   12.22\n",
      "38                      Milk    8.95\n",
      "39                    Cheese   87.79\n",
      "40                      Eggs    6.27\n",
      "41             Fish (farmed)    8.41\n",
      "42      Crustaceans (farmed)    2.97\n",
      "df_non_vegan_products_ghg_2013:\n",
      "                     Product  Mean.1\n",
      "2              Barley (Beer)    1.18\n",
      "7                 Cane Sugar    3.20\n",
      "33   Bovine Meat (beef herd)   99.48\n",
      "34  Bovine Meat (dairy herd)   33.30\n",
      "35             Lamb & Mutton   39.72\n",
      "36                  Pig Meat   12.31\n",
      "37              Poultry Meat    9.87\n",
      "38                      Milk    3.15\n",
      "39                    Cheese   23.88\n",
      "40                      Eggs    4.67\n",
      "41             Fish (farmed)   13.63\n",
      "42      Crustaceans (farmed)   26.87\n",
      "df_non_vegan_products_ghg_2007:\n",
      "                     Product  Mean.2\n",
      "2              Barley (Beer)    1.18\n",
      "7                 Cane Sugar    3.16\n",
      "33   Bovine Meat (beef herd)   85.19\n",
      "34  Bovine Meat (dairy herd)   28.79\n",
      "35             Lamb & Mutton   32.71\n",
      "36                  Pig Meat   11.54\n",
      "37              Poultry Meat    9.82\n",
      "38                      Milk    2.84\n",
      "39                    Cheese   21.44\n",
      "40                      Eggs    4.60\n",
      "41             Fish (farmed)   12.51\n",
      "42      Crustaceans (farmed)   23.99\n",
      "df_non_vegan_products_acid:\n",
      "                     Product  Mean.3\n",
      "2              Barley (Beer)    6.59\n",
      "7                 Cane Sugar   18.02\n",
      "33   Bovine Meat (beef herd)  318.83\n",
      "34  Bovine Meat (dairy herd)  343.64\n",
      "35             Lamb & Mutton  138.97\n",
      "36                  Pig Meat  142.66\n",
      "37              Poultry Meat  102.42\n",
      "38                      Milk   20.01\n",
      "39                    Cheese  165.54\n",
      "40                      Eggs   53.67\n",
      "41             Fish (farmed)   65.91\n",
      "42      Crustaceans (farmed)  133.07\n",
      "df_non_vegan_products_eutro:\n",
      "                     Product  Mean.4\n",
      "2              Barley (Beer)    2.33\n",
      "7                 Cane Sugar   16.92\n",
      "33   Bovine Meat (beef herd)  301.41\n",
      "34  Bovine Meat (dairy herd)  365.29\n",
      "35             Lamb & Mutton   97.13\n",
      "36                  Pig Meat   76.38\n",
      "37              Poultry Meat   48.70\n",
      "38                      Milk   10.65\n",
      "39                    Cheese   98.37\n",
      "40                      Eggs   21.76\n",
      "41             Fish (farmed)  235.12\n",
      "42      Crustaceans (farmed)  227.22\n",
      "df_non_vegan_products_fresh_water_withdraw:\n",
      "                     Product  Mean.5\n",
      "2              Barley (Beer)    17.1\n",
      "7                 Cane Sugar   620.1\n",
      "33   Bovine Meat (beef herd)  1451.2\n",
      "34  Bovine Meat (dairy herd)  2714.3\n",
      "35             Lamb & Mutton  1802.8\n",
      "36                  Pig Meat  1795.8\n",
      "37              Poultry Meat   660.0\n",
      "38                      Milk   628.2\n",
      "39                    Cheese  5605.2\n",
      "40                      Eggs   577.7\n",
      "41             Fish (farmed)  3691.3\n",
      "42      Crustaceans (farmed)  3515.4\n",
      "df_non_vegan_products_stress_water_use:\n",
      "                     Product    Mean.6\n",
      "2              Barley (Beer)     696.4\n",
      "7                 Cane Sugar   16438.6\n",
      "33   Bovine Meat (beef herd)   34732.5\n",
      "34  Bovine Meat (dairy herd)  119805.2\n",
      "35             Lamb & Mutton  141925.0\n",
      "36                  Pig Meat   66867.4\n",
      "37              Poultry Meat   14177.9\n",
      "38                      Milk   19786.3\n",
      "39                    Cheese  180850.6\n",
      "40                      Eggs   17982.7\n",
      "41             Fish (farmed)   41572.2\n",
      "42      Crustaceans (farmed)  127259.0\n",
      "                     Product    Mean\n",
      "2              Barley (Beer)    1.11\n",
      "7                 Cane Sugar    2.04\n",
      "33   Bovine Meat (beef herd)  326.21\n",
      "34  Bovine Meat (dairy herd)   43.24\n",
      "35             Lamb & Mutton  369.81\n",
      "36                  Pig Meat   17.36\n",
      "37              Poultry Meat   12.22\n",
      "38                      Milk    8.95\n",
      "39                    Cheese   87.79\n",
      "40                      Eggs    6.27\n",
      "41             Fish (farmed)    8.41\n",
      "42      Crustaceans (farmed)    2.97\n",
      "                     Product  Mean.1\n",
      "2              Barley (Beer)    1.18\n",
      "7                 Cane Sugar    3.20\n",
      "33   Bovine Meat (beef herd)   99.48\n",
      "34  Bovine Meat (dairy herd)   33.30\n",
      "35             Lamb & Mutton   39.72\n",
      "36                  Pig Meat   12.31\n",
      "37              Poultry Meat    9.87\n",
      "38                      Milk    3.15\n",
      "39                    Cheese   23.88\n",
      "40                      Eggs    4.67\n",
      "41             Fish (farmed)   13.63\n",
      "42      Crustaceans (farmed)   26.87\n",
      "                     Product  Mean.2\n",
      "2              Barley (Beer)    1.18\n",
      "7                 Cane Sugar    3.16\n",
      "33   Bovine Meat (beef herd)   85.19\n",
      "34  Bovine Meat (dairy herd)   28.79\n",
      "35             Lamb & Mutton   32.71\n",
      "36                  Pig Meat   11.54\n",
      "37              Poultry Meat    9.82\n",
      "38                      Milk    2.84\n",
      "39                    Cheese   21.44\n",
      "40                      Eggs    4.60\n",
      "41             Fish (farmed)   12.51\n",
      "42      Crustaceans (farmed)   23.99\n",
      "                     Product  Mean.3\n",
      "2              Barley (Beer)    6.59\n",
      "7                 Cane Sugar   18.02\n",
      "33   Bovine Meat (beef herd)  318.83\n",
      "34  Bovine Meat (dairy herd)  343.64\n",
      "35             Lamb & Mutton  138.97\n",
      "36                  Pig Meat  142.66\n",
      "37              Poultry Meat  102.42\n",
      "38                      Milk   20.01\n",
      "39                    Cheese  165.54\n",
      "40                      Eggs   53.67\n",
      "41             Fish (farmed)   65.91\n",
      "42      Crustaceans (farmed)  133.07\n",
      "                     Product  Mean.4\n",
      "2              Barley (Beer)    2.33\n",
      "7                 Cane Sugar   16.92\n",
      "33   Bovine Meat (beef herd)  301.41\n",
      "34  Bovine Meat (dairy herd)  365.29\n",
      "35             Lamb & Mutton   97.13\n",
      "36                  Pig Meat   76.38\n",
      "37              Poultry Meat   48.70\n",
      "38                      Milk   10.65\n",
      "39                    Cheese   98.37\n",
      "40                      Eggs   21.76\n",
      "41             Fish (farmed)  235.12\n",
      "42      Crustaceans (farmed)  227.22\n",
      "                     Product  Mean.5\n",
      "2              Barley (Beer)    17.1\n",
      "7                 Cane Sugar   620.1\n",
      "33   Bovine Meat (beef herd)  1451.2\n",
      "34  Bovine Meat (dairy herd)  2714.3\n",
      "35             Lamb & Mutton  1802.8\n",
      "36                  Pig Meat  1795.8\n",
      "37              Poultry Meat   660.0\n",
      "38                      Milk   628.2\n",
      "39                    Cheese  5605.2\n",
      "40                      Eggs   577.7\n",
      "41             Fish (farmed)  3691.3\n",
      "42      Crustaceans (farmed)  3515.4\n",
      "                     Product    Mean.6\n",
      "2              Barley (Beer)     696.4\n",
      "7                 Cane Sugar   16438.6\n",
      "33   Bovine Meat (beef herd)   34732.5\n",
      "34  Bovine Meat (dairy herd)  119805.2\n",
      "35             Lamb & Mutton  141925.0\n",
      "36                  Pig Meat   66867.4\n",
      "37              Poultry Meat   14177.9\n",
      "38                      Milk   19786.3\n",
      "39                    Cheese  180850.6\n",
      "40                      Eggs   17982.7\n",
      "41             Fish (farmed)   41572.2\n",
      "42      Crustaceans (farmed)  127259.0\n"
     ]
    }
   ],
   "source": [
    "#non vegan products\n",
    "non_vegan = df_all_products[\"Product\"].isin(non_vegan_products)\n",
    "df_non_vegan_products = df_all_products[non_vegan]\n",
    "\n",
    "df_non_vegan_products_land_use = df_non_vegan_products.iloc[:, [0, 3]]\n",
    "print(\"df_non_vegan_products_land_use:\")\n",
    "print(df_non_vegan_products_land_use)\n",
    "\n",
    "df_non_vegan_products_ghg_2013 = df_non_vegan_products.iloc[:, [0, 9]]\n",
    "print(\"df_non_vegan_products_ghg_2013:\")\n",
    "print(df_non_vegan_products_ghg_2013)\n",
    "\n",
    "df_non_vegan_products_ghg_2007 = df_non_vegan_products.iloc[:, [0, 15]]\n",
    "print(\"df_non_vegan_products_ghg_2007:\")\n",
    "print(df_non_vegan_products_ghg_2007)\n",
    "\n",
    "df_non_vegan_products_acid = df_non_vegan_products.iloc[:, [0, 21]]\n",
    "print(\"df_non_vegan_products_acid:\")\n",
    "print(df_non_vegan_products_acid)\n",
    "\n",
    "df_non_vegan_products_eutro = df_non_vegan_products.iloc[:, [0, 27]]\n",
    "print(\"df_non_vegan_products_eutro:\")\n",
    "print(df_non_vegan_products_eutro)\n",
    "\n",
    "df_non_vegan_products_fresh_water_withdraw = df_non_vegan_products.iloc[:, [0, 33]]\n",
    "print(\"df_non_vegan_products_fresh_water_withdraw:\")\n",
    "print(df_non_vegan_products_fresh_water_withdraw)\n",
    "\n",
    "df_non_vegan_products_stress_water_use = df_non_vegan_products.iloc[:, [0, 39]]\n",
    "print(\"df_non_vegan_products_stress_water_use:\")\n",
    "print(df_non_vegan_products_stress_water_use)\n",
    "\n",
    "\n",
    "print(df_non_vegan_products_land_use)\n",
    "print(df_non_vegan_products_ghg_2013)\n",
    "print(df_non_vegan_products_ghg_2007)\n",
    "print(df_non_vegan_products_acid)\n",
    "print(df_non_vegan_products_eutro)\n",
    "print(df_non_vegan_products_fresh_water_withdraw)\n",
    "print(df_non_vegan_products_stress_water_use)\n",
    "\n"
   ]
  },
  {
   "cell_type": "code",
   "execution_count": 21,
   "id": "23dc6d6f",
   "metadata": {},
   "outputs": [
    {
     "name": "stdout",
     "output_type": "stream",
     "text": [
      "df_vegan_products_land_use:\n",
      "                Product   Mean\n",
      "0   Wheat & Rye (Bread)   3.85\n",
      "1          Maize (Meal)   2.94\n",
      "3               Oatmeal   7.60\n",
      "4                  Rice   2.80\n",
      "5              Potatoes   0.88\n",
      "6               Cassava   1.81\n",
      "8            Beet Sugar   1.83\n",
      "9          Other Pulses  15.57\n",
      "10                 Peas   7.46\n",
      "11                 Nuts  12.96\n",
      "12           Groundnuts   9.11\n",
      "13              Soymilk   0.66\n",
      "14                 Tofu   3.52\n",
      "15          Soybean Oil  10.52\n",
      "16             Palm Oil   2.42\n",
      "17        Sunflower Oil  17.66\n",
      "18         Rapeseed Oil  10.63\n",
      "19            Olive Oil  26.31\n",
      "20             Tomatoes   0.80\n",
      "21       Onions & Leeks   0.39\n",
      "22      Root Vegetables   0.33\n",
      "23            Brassicas   0.55\n",
      "24     Other Vegetables   0.38\n",
      "25         Citrus Fruit   0.86\n",
      "26              Bananas   1.93\n",
      "27               Apples   0.63\n",
      "28     Berries & Grapes   2.41\n",
      "29                 Wine   1.78\n",
      "30          Other Fruit   0.89\n",
      "31               Coffee  21.62\n",
      "32       Dark Chocolate  68.96\n",
      "df_vegan_products_ghg_2013:\n",
      "                Product  Mean.1\n",
      "0   Wheat & Rye (Bread)    1.57\n",
      "1          Maize (Meal)    1.70\n",
      "3               Oatmeal    2.48\n",
      "4                  Rice    4.45\n",
      "5              Potatoes    0.46\n",
      "6               Cassava    1.32\n",
      "8            Beet Sugar    1.81\n",
      "9          Other Pulses    1.79\n",
      "10                 Peas    0.98\n",
      "11                 Nuts    0.43\n",
      "12           Groundnuts    3.23\n",
      "13              Soymilk    0.98\n",
      "14                 Tofu    3.16\n",
      "15          Soybean Oil    6.32\n",
      "16             Palm Oil    7.32\n",
      "17        Sunflower Oil    3.60\n",
      "18         Rapeseed Oil    3.77\n",
      "19            Olive Oil    5.42\n",
      "20             Tomatoes    2.09\n",
      "21       Onions & Leeks    0.50\n",
      "22      Root Vegetables    0.43\n",
      "23            Brassicas    0.51\n",
      "24     Other Vegetables    0.53\n",
      "25         Citrus Fruit    0.39\n",
      "26              Bananas    0.86\n",
      "27               Apples    0.43\n",
      "28     Berries & Grapes    1.53\n",
      "29                 Wine    1.79\n",
      "30          Other Fruit    1.05\n",
      "31               Coffee   28.53\n",
      "32       Dark Chocolate   46.65\n",
      "df_vegan_products_ghg_2007:\n",
      "                Product  Mean.2\n",
      "0   Wheat & Rye (Bread)    1.58\n",
      "1          Maize (Meal)    1.68\n",
      "3               Oatmeal    2.47\n",
      "4                  Rice    3.81\n",
      "5              Potatoes    0.45\n",
      "6               Cassava    1.30\n",
      "8            Beet Sugar    1.80\n",
      "9          Other Pulses    1.79\n",
      "10                 Peas    0.97\n",
      "11                 Nuts    0.37\n",
      "12           Groundnuts    3.18\n",
      "13              Soymilk    0.97\n",
      "14                 Tofu    3.14\n",
      "15          Soybean Oil    6.15\n",
      "16             Palm Oil    7.16\n",
      "17        Sunflower Oil    3.59\n",
      "18         Rapeseed Oil    3.76\n",
      "19            Olive Oil    5.25\n",
      "20             Tomatoes    2.01\n",
      "21       Onions & Leeks    0.50\n",
      "22      Root Vegetables    0.43\n",
      "23            Brassicas    0.51\n",
      "24     Other Vegetables    0.53\n",
      "25         Citrus Fruit    0.37\n",
      "26              Bananas    0.86\n",
      "27               Apples    0.42\n",
      "28     Berries & Grapes    1.52\n",
      "29                 Wine    1.76\n",
      "30          Other Fruit    1.06\n",
      "31               Coffee   27.65\n",
      "32       Dark Chocolate   46.28\n",
      "df_vegan_products_acid:\n",
      "                Product  Mean.3\n",
      "0   Wheat & Rye (Bread)   13.35\n",
      "1          Maize (Meal)   11.68\n",
      "3               Oatmeal   10.68\n",
      "4                  Rice   27.19\n",
      "5              Potatoes    3.87\n",
      "6               Cassava    3.42\n",
      "8            Beet Sugar   12.62\n",
      "9          Other Pulses   22.07\n",
      "10                 Peas    8.49\n",
      "11                 Nuts   45.15\n",
      "12           Groundnuts   22.62\n",
      "13              Soymilk    2.60\n",
      "14                 Tofu    6.70\n",
      "15          Soybean Oil   15.67\n",
      "16             Palm Oil   17.52\n",
      "17        Sunflower Oil   27.96\n",
      "18         Rapeseed Oil   28.51\n",
      "19            Olive Oil   37.58\n",
      "20             Tomatoes   17.21\n",
      "21       Onions & Leeks    3.63\n",
      "22      Root Vegetables    2.90\n",
      "23            Brassicas    8.21\n",
      "24     Other Vegetables    6.41\n",
      "25         Citrus Fruit    4.04\n",
      "26              Bananas    6.35\n",
      "27               Apples    3.52\n",
      "28     Berries & Grapes   12.29\n",
      "29                 Wine   12.76\n",
      "30          Other Fruit    5.78\n",
      "31               Coffee   83.14\n",
      "32       Dark Chocolate   46.30\n",
      "df_vegan_products_eutro:\n",
      "                Product  Mean.4\n",
      "0   Wheat & Rye (Bread)    7.16\n",
      "1          Maize (Meal)    4.03\n",
      "3               Oatmeal   11.23\n",
      "4                  Rice   35.07\n",
      "5              Potatoes    3.48\n",
      "6               Cassava    0.69\n",
      "8            Beet Sugar    5.41\n",
      "9          Other Pulses   17.08\n",
      "10                 Peas    7.52\n",
      "11                 Nuts   19.15\n",
      "12           Groundnuts   14.14\n",
      "13              Soymilk    1.06\n",
      "14                 Tofu    6.16\n",
      "15          Soybean Oil   11.69\n",
      "16             Palm Oil   10.67\n",
      "17        Sunflower Oil   50.66\n",
      "18         Rapeseed Oil   19.19\n",
      "19            Olive Oil   37.26\n",
      "20             Tomatoes    7.51\n",
      "21       Onions & Leeks    3.24\n",
      "22      Root Vegetables    1.61\n",
      "23            Brassicas    5.01\n",
      "24     Other Vegetables    2.27\n",
      "25         Citrus Fruit    2.24\n",
      "26              Bananas    3.29\n",
      "27               Apples    1.45\n",
      "28     Berries & Grapes    6.12\n",
      "29                 Wine    4.57\n",
      "30          Other Fruit    2.43\n",
      "31               Coffee  110.52\n",
      "32       Dark Chocolate   87.08\n",
      "df_vegan_products_fresh_water_withdraw:\n",
      "                Product  Mean.5\n",
      "0   Wheat & Rye (Bread)   647.5\n",
      "1          Maize (Meal)   215.7\n",
      "3               Oatmeal   482.4\n",
      "4                  Rice  2248.4\n",
      "5              Potatoes    59.1\n",
      "6               Cassava     0.0\n",
      "8            Beet Sugar   217.7\n",
      "9          Other Pulses   435.7\n",
      "10                 Peas   396.6\n",
      "11                 Nuts  4133.8\n",
      "12           Groundnuts  1852.3\n",
      "13              Soymilk    27.8\n",
      "14                 Tofu   148.6\n",
      "15          Soybean Oil   414.6\n",
      "16             Palm Oil     6.4\n",
      "17        Sunflower Oil  1007.9\n",
      "18         Rapeseed Oil   237.7\n",
      "19            Olive Oil  2141.8\n",
      "20             Tomatoes   369.8\n",
      "21       Onions & Leeks    14.3\n",
      "22      Root Vegetables    28.4\n",
      "23            Brassicas   119.4\n",
      "24     Other Vegetables   102.5\n",
      "25         Citrus Fruit    82.7\n",
      "26              Bananas   114.5\n",
      "27               Apples   180.1\n",
      "28     Berries & Grapes   419.6\n",
      "29                 Wine    78.9\n",
      "30          Other Fruit   153.5\n",
      "31               Coffee    25.9\n",
      "32       Dark Chocolate   540.6\n",
      "df_vegan_products_stress_water_use:\n",
      "                Product    Mean.6\n",
      "0   Wheat & Rye (Bread)   33385.6\n",
      "1          Maize (Meal)   10863.3\n",
      "3               Oatmeal   18786.2\n",
      "4                  Rice   49576.3\n",
      "5              Potatoes    2754.2\n",
      "6               Cassava       0.0\n",
      "8            Beet Sugar    9493.3\n",
      "9          Other Pulses   22477.4\n",
      "10                 Peas   27948.2\n",
      "11                 Nuts  229889.8\n",
      "12           Groundnuts   61797.9\n",
      "13              Soymilk     955.6\n",
      "14                 Tofu    5113.2\n",
      "15          Soybean Oil   14888.2\n",
      "16             Palm Oil      36.2\n",
      "17        Sunflower Oil   36369.4\n",
      "18         Rapeseed Oil   10593.7\n",
      "19            Olive Oil  177480.2\n",
      "20             Tomatoes    5335.7\n",
      "21       Onions & Leeks     932.0\n",
      "22      Root Vegetables     929.2\n",
      "23            Brassicas    8455.1\n",
      "24     Other Vegetables    4911.4\n",
      "25         Citrus Fruit    4662.7\n",
      "26              Bananas     661.9\n",
      "27               Apples   12948.6\n",
      "28     Berries & Grapes   21162.1\n",
      "29                 Wine    1149.3\n",
      "30          Other Fruit    9533.1\n",
      "31               Coffee     337.0\n",
      "32       Dark Chocolate    2879.2\n"
     ]
    }
   ],
   "source": [
    "#vegan products\n",
    "vegan = ~df_all_products['Product'].isin(non_vegan_products)\n",
    "df_vegan_products = df_all_products[vegan]\n",
    "\n",
    "df_vegan_products_land_use = df_vegan_products.iloc[:, [0, 3]]\n",
    "print(\"df_vegan_products_land_use:\")\n",
    "print(df_vegan_products_land_use)\n",
    "\n",
    "df_vegan_products_ghg_2013 = df_vegan_products.iloc[:, [0, 9]]\n",
    "print(\"df_vegan_products_ghg_2013:\")\n",
    "print(df_vegan_products_ghg_2013)\n",
    "\n",
    "df_vegan_products_ghg_2007 = df_vegan_products.iloc[:, [0, 15]]\n",
    "print(\"df_vegan_products_ghg_2007:\")\n",
    "print(df_vegan_products_ghg_2007)\n",
    "\n",
    "df_vegan_products_acid = df_vegan_products.iloc[:, [0, 21]]\n",
    "print(\"df_vegan_products_acid:\")\n",
    "print(df_vegan_products_acid)\n",
    "\n",
    "df_vegan_products_eutro = df_vegan_products.iloc[:, [0, 27]]\n",
    "print(\"df_vegan_products_eutro:\")\n",
    "print(df_vegan_products_eutro)\n",
    "\n",
    "df_vegan_products_fresh_water_withdraw = df_vegan_products.iloc[:, [0, 33]]\n",
    "print(\"df_vegan_products_fresh_water_withdraw:\")\n",
    "print(df_vegan_products_fresh_water_withdraw)\n",
    "\n",
    "df_vegan_products_stress_water_use = df_vegan_products.iloc[:, [0, 39]]\n",
    "print(\"df_vegan_products_stress_water_use:\")\n",
    "print(df_vegan_products_stress_water_use)\n"
   ]
  },
  {
   "cell_type": "code",
   "execution_count": 22,
   "id": "ff3ba5e7",
   "metadata": {},
   "outputs": [
    {
     "data": {
      "application/vnd.plotly.v1+json": {
       "config": {
        "plotlyServerURL": "https://plot.ly"
       },
       "data": [
        {
         "labels": [
          "",
          "Non-vegan",
          "Vegan",
          "Barley (Beer)",
          "Cane Sugar",
          "Bovine Meat (beef herd)",
          "Bovine Meat (dairy herd)",
          "Lamb & Mutton",
          "Pig Meat",
          "Poultry Meat",
          "Milk",
          "Cheese",
          "Eggs",
          "Fish (farmed)",
          "Crustaceans (farmed)",
          "Wheat & Rye (Bread)",
          "Maize (Meal)",
          "Oatmeal",
          "Rice",
          "Potatoes",
          "Cassava",
          "Beet Sugar",
          "Other Pulses",
          "Peas",
          "Nuts",
          "Groundnuts",
          "Soymilk",
          "Tofu",
          "Soybean Oil",
          "Palm Oil",
          "Sunflower Oil",
          "Rapeseed Oil",
          "Olive Oil",
          "Tomatoes",
          "Onions & Leeks",
          "Root Vegetables",
          "Brassicas",
          "Other Vegetables",
          "Citrus Fruit",
          "Bananas",
          "Apples",
          "Berries & Grapes",
          "Wine",
          "Other Fruit",
          "Coffee",
          "Dark Chocolate"
         ],
         "marker": {
          "colors": [
           "darkgreen",
           "darkred",
           "darkgreen",
           "darkred"
          ]
         },
         "parents": [
          "",
          "",
          "",
          "Non-vegan",
          "Non-vegan",
          "Non-vegan",
          "Non-vegan",
          "Non-vegan",
          "Non-vegan",
          "Non-vegan",
          "Non-vegan",
          "Non-vegan",
          "Non-vegan",
          "Non-vegan",
          "Non-vegan",
          "Vegan",
          "Vegan",
          "Vegan",
          "Vegan",
          "Vegan",
          "Vegan",
          "Vegan",
          "Vegan",
          "Vegan",
          "Vegan",
          "Vegan",
          "Vegan",
          "Vegan",
          "Vegan",
          "Vegan",
          "Vegan",
          "Vegan",
          "Vegan",
          "Vegan",
          "Vegan",
          "Vegan",
          "Vegan",
          "Vegan",
          "Vegan",
          "Vegan",
          "Vegan",
          "Vegan",
          "Vegan",
          "Vegan",
          "Vegan",
          "Vegan"
         ],
         "type": "sunburst",
         "values": [
          0,
          0,
          0,
          1.11,
          2.04,
          326.21,
          43.24,
          369.81,
          17.36,
          12.22,
          8.95,
          87.79,
          6.27,
          8.41,
          2.97,
          3.85,
          2.94,
          7.6,
          2.8,
          0.88,
          1.81,
          1.83,
          15.57,
          7.46,
          12.96,
          9.11,
          0.66,
          3.52,
          10.52,
          2.42,
          17.66,
          10.63,
          26.31,
          0.8,
          0.39,
          0.33,
          0.55,
          0.38,
          0.86,
          1.93,
          0.63,
          2.41,
          1.78,
          0.89,
          21.62,
          68.96
         ]
        }
       ],
       "layout": {
        "template": {
         "data": {
          "bar": [
           {
            "error_x": {
             "color": "#2a3f5f"
            },
            "error_y": {
             "color": "#2a3f5f"
            },
            "marker": {
             "line": {
              "color": "#E5ECF6",
              "width": 0.5
             },
             "pattern": {
              "fillmode": "overlay",
              "size": 10,
              "solidity": 0.2
             }
            },
            "type": "bar"
           }
          ],
          "barpolar": [
           {
            "marker": {
             "line": {
              "color": "#E5ECF6",
              "width": 0.5
             },
             "pattern": {
              "fillmode": "overlay",
              "size": 10,
              "solidity": 0.2
             }
            },
            "type": "barpolar"
           }
          ],
          "carpet": [
           {
            "aaxis": {
             "endlinecolor": "#2a3f5f",
             "gridcolor": "white",
             "linecolor": "white",
             "minorgridcolor": "white",
             "startlinecolor": "#2a3f5f"
            },
            "baxis": {
             "endlinecolor": "#2a3f5f",
             "gridcolor": "white",
             "linecolor": "white",
             "minorgridcolor": "white",
             "startlinecolor": "#2a3f5f"
            },
            "type": "carpet"
           }
          ],
          "choropleth": [
           {
            "colorbar": {
             "outlinewidth": 0,
             "ticks": ""
            },
            "type": "choropleth"
           }
          ],
          "contour": [
           {
            "colorbar": {
             "outlinewidth": 0,
             "ticks": ""
            },
            "colorscale": [
             [
              0,
              "#0d0887"
             ],
             [
              0.1111111111111111,
              "#46039f"
             ],
             [
              0.2222222222222222,
              "#7201a8"
             ],
             [
              0.3333333333333333,
              "#9c179e"
             ],
             [
              0.4444444444444444,
              "#bd3786"
             ],
             [
              0.5555555555555556,
              "#d8576b"
             ],
             [
              0.6666666666666666,
              "#ed7953"
             ],
             [
              0.7777777777777778,
              "#fb9f3a"
             ],
             [
              0.8888888888888888,
              "#fdca26"
             ],
             [
              1,
              "#f0f921"
             ]
            ],
            "type": "contour"
           }
          ],
          "contourcarpet": [
           {
            "colorbar": {
             "outlinewidth": 0,
             "ticks": ""
            },
            "type": "contourcarpet"
           }
          ],
          "heatmap": [
           {
            "colorbar": {
             "outlinewidth": 0,
             "ticks": ""
            },
            "colorscale": [
             [
              0,
              "#0d0887"
             ],
             [
              0.1111111111111111,
              "#46039f"
             ],
             [
              0.2222222222222222,
              "#7201a8"
             ],
             [
              0.3333333333333333,
              "#9c179e"
             ],
             [
              0.4444444444444444,
              "#bd3786"
             ],
             [
              0.5555555555555556,
              "#d8576b"
             ],
             [
              0.6666666666666666,
              "#ed7953"
             ],
             [
              0.7777777777777778,
              "#fb9f3a"
             ],
             [
              0.8888888888888888,
              "#fdca26"
             ],
             [
              1,
              "#f0f921"
             ]
            ],
            "type": "heatmap"
           }
          ],
          "heatmapgl": [
           {
            "colorbar": {
             "outlinewidth": 0,
             "ticks": ""
            },
            "colorscale": [
             [
              0,
              "#0d0887"
             ],
             [
              0.1111111111111111,
              "#46039f"
             ],
             [
              0.2222222222222222,
              "#7201a8"
             ],
             [
              0.3333333333333333,
              "#9c179e"
             ],
             [
              0.4444444444444444,
              "#bd3786"
             ],
             [
              0.5555555555555556,
              "#d8576b"
             ],
             [
              0.6666666666666666,
              "#ed7953"
             ],
             [
              0.7777777777777778,
              "#fb9f3a"
             ],
             [
              0.8888888888888888,
              "#fdca26"
             ],
             [
              1,
              "#f0f921"
             ]
            ],
            "type": "heatmapgl"
           }
          ],
          "histogram": [
           {
            "marker": {
             "pattern": {
              "fillmode": "overlay",
              "size": 10,
              "solidity": 0.2
             }
            },
            "type": "histogram"
           }
          ],
          "histogram2d": [
           {
            "colorbar": {
             "outlinewidth": 0,
             "ticks": ""
            },
            "colorscale": [
             [
              0,
              "#0d0887"
             ],
             [
              0.1111111111111111,
              "#46039f"
             ],
             [
              0.2222222222222222,
              "#7201a8"
             ],
             [
              0.3333333333333333,
              "#9c179e"
             ],
             [
              0.4444444444444444,
              "#bd3786"
             ],
             [
              0.5555555555555556,
              "#d8576b"
             ],
             [
              0.6666666666666666,
              "#ed7953"
             ],
             [
              0.7777777777777778,
              "#fb9f3a"
             ],
             [
              0.8888888888888888,
              "#fdca26"
             ],
             [
              1,
              "#f0f921"
             ]
            ],
            "type": "histogram2d"
           }
          ],
          "histogram2dcontour": [
           {
            "colorbar": {
             "outlinewidth": 0,
             "ticks": ""
            },
            "colorscale": [
             [
              0,
              "#0d0887"
             ],
             [
              0.1111111111111111,
              "#46039f"
             ],
             [
              0.2222222222222222,
              "#7201a8"
             ],
             [
              0.3333333333333333,
              "#9c179e"
             ],
             [
              0.4444444444444444,
              "#bd3786"
             ],
             [
              0.5555555555555556,
              "#d8576b"
             ],
             [
              0.6666666666666666,
              "#ed7953"
             ],
             [
              0.7777777777777778,
              "#fb9f3a"
             ],
             [
              0.8888888888888888,
              "#fdca26"
             ],
             [
              1,
              "#f0f921"
             ]
            ],
            "type": "histogram2dcontour"
           }
          ],
          "mesh3d": [
           {
            "colorbar": {
             "outlinewidth": 0,
             "ticks": ""
            },
            "type": "mesh3d"
           }
          ],
          "parcoords": [
           {
            "line": {
             "colorbar": {
              "outlinewidth": 0,
              "ticks": ""
             }
            },
            "type": "parcoords"
           }
          ],
          "pie": [
           {
            "automargin": true,
            "type": "pie"
           }
          ],
          "scatter": [
           {
            "fillpattern": {
             "fillmode": "overlay",
             "size": 10,
             "solidity": 0.2
            },
            "type": "scatter"
           }
          ],
          "scatter3d": [
           {
            "line": {
             "colorbar": {
              "outlinewidth": 0,
              "ticks": ""
             }
            },
            "marker": {
             "colorbar": {
              "outlinewidth": 0,
              "ticks": ""
             }
            },
            "type": "scatter3d"
           }
          ],
          "scattercarpet": [
           {
            "marker": {
             "colorbar": {
              "outlinewidth": 0,
              "ticks": ""
             }
            },
            "type": "scattercarpet"
           }
          ],
          "scattergeo": [
           {
            "marker": {
             "colorbar": {
              "outlinewidth": 0,
              "ticks": ""
             }
            },
            "type": "scattergeo"
           }
          ],
          "scattergl": [
           {
            "marker": {
             "colorbar": {
              "outlinewidth": 0,
              "ticks": ""
             }
            },
            "type": "scattergl"
           }
          ],
          "scattermapbox": [
           {
            "marker": {
             "colorbar": {
              "outlinewidth": 0,
              "ticks": ""
             }
            },
            "type": "scattermapbox"
           }
          ],
          "scatterpolar": [
           {
            "marker": {
             "colorbar": {
              "outlinewidth": 0,
              "ticks": ""
             }
            },
            "type": "scatterpolar"
           }
          ],
          "scatterpolargl": [
           {
            "marker": {
             "colorbar": {
              "outlinewidth": 0,
              "ticks": ""
             }
            },
            "type": "scatterpolargl"
           }
          ],
          "scatterternary": [
           {
            "marker": {
             "colorbar": {
              "outlinewidth": 0,
              "ticks": ""
             }
            },
            "type": "scatterternary"
           }
          ],
          "surface": [
           {
            "colorbar": {
             "outlinewidth": 0,
             "ticks": ""
            },
            "colorscale": [
             [
              0,
              "#0d0887"
             ],
             [
              0.1111111111111111,
              "#46039f"
             ],
             [
              0.2222222222222222,
              "#7201a8"
             ],
             [
              0.3333333333333333,
              "#9c179e"
             ],
             [
              0.4444444444444444,
              "#bd3786"
             ],
             [
              0.5555555555555556,
              "#d8576b"
             ],
             [
              0.6666666666666666,
              "#ed7953"
             ],
             [
              0.7777777777777778,
              "#fb9f3a"
             ],
             [
              0.8888888888888888,
              "#fdca26"
             ],
             [
              1,
              "#f0f921"
             ]
            ],
            "type": "surface"
           }
          ],
          "table": [
           {
            "cells": {
             "fill": {
              "color": "#EBF0F8"
             },
             "line": {
              "color": "white"
             }
            },
            "header": {
             "fill": {
              "color": "#C8D4E3"
             },
             "line": {
              "color": "white"
             }
            },
            "type": "table"
           }
          ]
         },
         "layout": {
          "annotationdefaults": {
           "arrowcolor": "#2a3f5f",
           "arrowhead": 0,
           "arrowwidth": 1
          },
          "autotypenumbers": "strict",
          "coloraxis": {
           "colorbar": {
            "outlinewidth": 0,
            "ticks": ""
           }
          },
          "colorscale": {
           "diverging": [
            [
             0,
             "#8e0152"
            ],
            [
             0.1,
             "#c51b7d"
            ],
            [
             0.2,
             "#de77ae"
            ],
            [
             0.3,
             "#f1b6da"
            ],
            [
             0.4,
             "#fde0ef"
            ],
            [
             0.5,
             "#f7f7f7"
            ],
            [
             0.6,
             "#e6f5d0"
            ],
            [
             0.7,
             "#b8e186"
            ],
            [
             0.8,
             "#7fbc41"
            ],
            [
             0.9,
             "#4d9221"
            ],
            [
             1,
             "#276419"
            ]
           ],
           "sequential": [
            [
             0,
             "#0d0887"
            ],
            [
             0.1111111111111111,
             "#46039f"
            ],
            [
             0.2222222222222222,
             "#7201a8"
            ],
            [
             0.3333333333333333,
             "#9c179e"
            ],
            [
             0.4444444444444444,
             "#bd3786"
            ],
            [
             0.5555555555555556,
             "#d8576b"
            ],
            [
             0.6666666666666666,
             "#ed7953"
            ],
            [
             0.7777777777777778,
             "#fb9f3a"
            ],
            [
             0.8888888888888888,
             "#fdca26"
            ],
            [
             1,
             "#f0f921"
            ]
           ],
           "sequentialminus": [
            [
             0,
             "#0d0887"
            ],
            [
             0.1111111111111111,
             "#46039f"
            ],
            [
             0.2222222222222222,
             "#7201a8"
            ],
            [
             0.3333333333333333,
             "#9c179e"
            ],
            [
             0.4444444444444444,
             "#bd3786"
            ],
            [
             0.5555555555555556,
             "#d8576b"
            ],
            [
             0.6666666666666666,
             "#ed7953"
            ],
            [
             0.7777777777777778,
             "#fb9f3a"
            ],
            [
             0.8888888888888888,
             "#fdca26"
            ],
            [
             1,
             "#f0f921"
            ]
           ]
          },
          "colorway": [
           "#636efa",
           "#EF553B",
           "#00cc96",
           "#ab63fa",
           "#FFA15A",
           "#19d3f3",
           "#FF6692",
           "#B6E880",
           "#FF97FF",
           "#FECB52"
          ],
          "font": {
           "color": "#2a3f5f"
          },
          "geo": {
           "bgcolor": "white",
           "lakecolor": "white",
           "landcolor": "#E5ECF6",
           "showlakes": true,
           "showland": true,
           "subunitcolor": "white"
          },
          "hoverlabel": {
           "align": "left"
          },
          "hovermode": "closest",
          "mapbox": {
           "style": "light"
          },
          "paper_bgcolor": "white",
          "plot_bgcolor": "#E5ECF6",
          "polar": {
           "angularaxis": {
            "gridcolor": "white",
            "linecolor": "white",
            "ticks": ""
           },
           "bgcolor": "#E5ECF6",
           "radialaxis": {
            "gridcolor": "white",
            "linecolor": "white",
            "ticks": ""
           }
          },
          "scene": {
           "xaxis": {
            "backgroundcolor": "#E5ECF6",
            "gridcolor": "white",
            "gridwidth": 2,
            "linecolor": "white",
            "showbackground": true,
            "ticks": "",
            "zerolinecolor": "white"
           },
           "yaxis": {
            "backgroundcolor": "#E5ECF6",
            "gridcolor": "white",
            "gridwidth": 2,
            "linecolor": "white",
            "showbackground": true,
            "ticks": "",
            "zerolinecolor": "white"
           },
           "zaxis": {
            "backgroundcolor": "#E5ECF6",
            "gridcolor": "white",
            "gridwidth": 2,
            "linecolor": "white",
            "showbackground": true,
            "ticks": "",
            "zerolinecolor": "white"
           }
          },
          "shapedefaults": {
           "line": {
            "color": "#2a3f5f"
           }
          },
          "ternary": {
           "aaxis": {
            "gridcolor": "white",
            "linecolor": "white",
            "ticks": ""
           },
           "baxis": {
            "gridcolor": "white",
            "linecolor": "white",
            "ticks": ""
           },
           "bgcolor": "#E5ECF6",
           "caxis": {
            "gridcolor": "white",
            "linecolor": "white",
            "ticks": ""
           }
          },
          "title": {
           "x": 0.05
          },
          "xaxis": {
           "automargin": true,
           "gridcolor": "white",
           "linecolor": "white",
           "ticks": "",
           "title": {
            "standoff": 15
           },
           "zerolinecolor": "white",
           "zerolinewidth": 2
          },
          "yaxis": {
           "automargin": true,
           "gridcolor": "white",
           "linecolor": "white",
           "ticks": "",
           "title": {
            "standoff": 15
           },
           "zerolinecolor": "white",
           "zerolinewidth": 2
          }
         }
        },
        "title": {
         "text": "Land use"
        }
       }
      }
     },
     "metadata": {},
     "output_type": "display_data"
    },
    {
     "data": {
      "application/vnd.plotly.v1+json": {
       "config": {
        "plotlyServerURL": "https://plot.ly"
       },
       "data": [
        {
         "labels": [
          "",
          "Non-vegan",
          "Vegan",
          "Barley (Beer)",
          "Cane Sugar",
          "Bovine Meat (beef herd)",
          "Bovine Meat (dairy herd)",
          "Lamb & Mutton",
          "Pig Meat",
          "Poultry Meat",
          "Milk",
          "Cheese",
          "Eggs",
          "Fish (farmed)",
          "Crustaceans (farmed)",
          "Wheat & Rye (Bread)",
          "Maize (Meal)",
          "Oatmeal",
          "Rice",
          "Potatoes",
          "Cassava",
          "Beet Sugar",
          "Other Pulses",
          "Peas",
          "Nuts",
          "Groundnuts",
          "Soymilk",
          "Tofu",
          "Soybean Oil",
          "Palm Oil",
          "Sunflower Oil",
          "Rapeseed Oil",
          "Olive Oil",
          "Tomatoes",
          "Onions & Leeks",
          "Root Vegetables",
          "Brassicas",
          "Other Vegetables",
          "Citrus Fruit",
          "Bananas",
          "Apples",
          "Berries & Grapes",
          "Wine",
          "Other Fruit",
          "Coffee",
          "Dark Chocolate"
         ],
         "marker": {
          "colors": [
           "darkgreen",
           "darkred",
           "darkgreen",
           "darkred"
          ]
         },
         "parents": [
          "",
          "",
          "",
          "Non-vegan",
          "Non-vegan",
          "Non-vegan",
          "Non-vegan",
          "Non-vegan",
          "Non-vegan",
          "Non-vegan",
          "Non-vegan",
          "Non-vegan",
          "Non-vegan",
          "Non-vegan",
          "Non-vegan",
          "Vegan",
          "Vegan",
          "Vegan",
          "Vegan",
          "Vegan",
          "Vegan",
          "Vegan",
          "Vegan",
          "Vegan",
          "Vegan",
          "Vegan",
          "Vegan",
          "Vegan",
          "Vegan",
          "Vegan",
          "Vegan",
          "Vegan",
          "Vegan",
          "Vegan",
          "Vegan",
          "Vegan",
          "Vegan",
          "Vegan",
          "Vegan",
          "Vegan",
          "Vegan",
          "Vegan",
          "Vegan",
          "Vegan",
          "Vegan",
          "Vegan"
         ],
         "type": "sunburst",
         "values": [
          0,
          0,
          0,
          1.18,
          3.2,
          99.48,
          33.3,
          39.72,
          12.31,
          9.87,
          3.15,
          23.88,
          4.67,
          13.63,
          26.87,
          1.57,
          1.7,
          2.48,
          4.45,
          0.46,
          1.32,
          1.81,
          1.79,
          0.98,
          0.43,
          3.23,
          0.98,
          3.16,
          6.32,
          7.32,
          3.6,
          3.77,
          5.42,
          2.09,
          0.5,
          0.43,
          0.51,
          0.53,
          0.39,
          0.86,
          0.43,
          1.53,
          1.79,
          1.05,
          28.53,
          46.65
         ]
        }
       ],
       "layout": {
        "template": {
         "data": {
          "bar": [
           {
            "error_x": {
             "color": "#2a3f5f"
            },
            "error_y": {
             "color": "#2a3f5f"
            },
            "marker": {
             "line": {
              "color": "#E5ECF6",
              "width": 0.5
             },
             "pattern": {
              "fillmode": "overlay",
              "size": 10,
              "solidity": 0.2
             }
            },
            "type": "bar"
           }
          ],
          "barpolar": [
           {
            "marker": {
             "line": {
              "color": "#E5ECF6",
              "width": 0.5
             },
             "pattern": {
              "fillmode": "overlay",
              "size": 10,
              "solidity": 0.2
             }
            },
            "type": "barpolar"
           }
          ],
          "carpet": [
           {
            "aaxis": {
             "endlinecolor": "#2a3f5f",
             "gridcolor": "white",
             "linecolor": "white",
             "minorgridcolor": "white",
             "startlinecolor": "#2a3f5f"
            },
            "baxis": {
             "endlinecolor": "#2a3f5f",
             "gridcolor": "white",
             "linecolor": "white",
             "minorgridcolor": "white",
             "startlinecolor": "#2a3f5f"
            },
            "type": "carpet"
           }
          ],
          "choropleth": [
           {
            "colorbar": {
             "outlinewidth": 0,
             "ticks": ""
            },
            "type": "choropleth"
           }
          ],
          "contour": [
           {
            "colorbar": {
             "outlinewidth": 0,
             "ticks": ""
            },
            "colorscale": [
             [
              0,
              "#0d0887"
             ],
             [
              0.1111111111111111,
              "#46039f"
             ],
             [
              0.2222222222222222,
              "#7201a8"
             ],
             [
              0.3333333333333333,
              "#9c179e"
             ],
             [
              0.4444444444444444,
              "#bd3786"
             ],
             [
              0.5555555555555556,
              "#d8576b"
             ],
             [
              0.6666666666666666,
              "#ed7953"
             ],
             [
              0.7777777777777778,
              "#fb9f3a"
             ],
             [
              0.8888888888888888,
              "#fdca26"
             ],
             [
              1,
              "#f0f921"
             ]
            ],
            "type": "contour"
           }
          ],
          "contourcarpet": [
           {
            "colorbar": {
             "outlinewidth": 0,
             "ticks": ""
            },
            "type": "contourcarpet"
           }
          ],
          "heatmap": [
           {
            "colorbar": {
             "outlinewidth": 0,
             "ticks": ""
            },
            "colorscale": [
             [
              0,
              "#0d0887"
             ],
             [
              0.1111111111111111,
              "#46039f"
             ],
             [
              0.2222222222222222,
              "#7201a8"
             ],
             [
              0.3333333333333333,
              "#9c179e"
             ],
             [
              0.4444444444444444,
              "#bd3786"
             ],
             [
              0.5555555555555556,
              "#d8576b"
             ],
             [
              0.6666666666666666,
              "#ed7953"
             ],
             [
              0.7777777777777778,
              "#fb9f3a"
             ],
             [
              0.8888888888888888,
              "#fdca26"
             ],
             [
              1,
              "#f0f921"
             ]
            ],
            "type": "heatmap"
           }
          ],
          "heatmapgl": [
           {
            "colorbar": {
             "outlinewidth": 0,
             "ticks": ""
            },
            "colorscale": [
             [
              0,
              "#0d0887"
             ],
             [
              0.1111111111111111,
              "#46039f"
             ],
             [
              0.2222222222222222,
              "#7201a8"
             ],
             [
              0.3333333333333333,
              "#9c179e"
             ],
             [
              0.4444444444444444,
              "#bd3786"
             ],
             [
              0.5555555555555556,
              "#d8576b"
             ],
             [
              0.6666666666666666,
              "#ed7953"
             ],
             [
              0.7777777777777778,
              "#fb9f3a"
             ],
             [
              0.8888888888888888,
              "#fdca26"
             ],
             [
              1,
              "#f0f921"
             ]
            ],
            "type": "heatmapgl"
           }
          ],
          "histogram": [
           {
            "marker": {
             "pattern": {
              "fillmode": "overlay",
              "size": 10,
              "solidity": 0.2
             }
            },
            "type": "histogram"
           }
          ],
          "histogram2d": [
           {
            "colorbar": {
             "outlinewidth": 0,
             "ticks": ""
            },
            "colorscale": [
             [
              0,
              "#0d0887"
             ],
             [
              0.1111111111111111,
              "#46039f"
             ],
             [
              0.2222222222222222,
              "#7201a8"
             ],
             [
              0.3333333333333333,
              "#9c179e"
             ],
             [
              0.4444444444444444,
              "#bd3786"
             ],
             [
              0.5555555555555556,
              "#d8576b"
             ],
             [
              0.6666666666666666,
              "#ed7953"
             ],
             [
              0.7777777777777778,
              "#fb9f3a"
             ],
             [
              0.8888888888888888,
              "#fdca26"
             ],
             [
              1,
              "#f0f921"
             ]
            ],
            "type": "histogram2d"
           }
          ],
          "histogram2dcontour": [
           {
            "colorbar": {
             "outlinewidth": 0,
             "ticks": ""
            },
            "colorscale": [
             [
              0,
              "#0d0887"
             ],
             [
              0.1111111111111111,
              "#46039f"
             ],
             [
              0.2222222222222222,
              "#7201a8"
             ],
             [
              0.3333333333333333,
              "#9c179e"
             ],
             [
              0.4444444444444444,
              "#bd3786"
             ],
             [
              0.5555555555555556,
              "#d8576b"
             ],
             [
              0.6666666666666666,
              "#ed7953"
             ],
             [
              0.7777777777777778,
              "#fb9f3a"
             ],
             [
              0.8888888888888888,
              "#fdca26"
             ],
             [
              1,
              "#f0f921"
             ]
            ],
            "type": "histogram2dcontour"
           }
          ],
          "mesh3d": [
           {
            "colorbar": {
             "outlinewidth": 0,
             "ticks": ""
            },
            "type": "mesh3d"
           }
          ],
          "parcoords": [
           {
            "line": {
             "colorbar": {
              "outlinewidth": 0,
              "ticks": ""
             }
            },
            "type": "parcoords"
           }
          ],
          "pie": [
           {
            "automargin": true,
            "type": "pie"
           }
          ],
          "scatter": [
           {
            "fillpattern": {
             "fillmode": "overlay",
             "size": 10,
             "solidity": 0.2
            },
            "type": "scatter"
           }
          ],
          "scatter3d": [
           {
            "line": {
             "colorbar": {
              "outlinewidth": 0,
              "ticks": ""
             }
            },
            "marker": {
             "colorbar": {
              "outlinewidth": 0,
              "ticks": ""
             }
            },
            "type": "scatter3d"
           }
          ],
          "scattercarpet": [
           {
            "marker": {
             "colorbar": {
              "outlinewidth": 0,
              "ticks": ""
             }
            },
            "type": "scattercarpet"
           }
          ],
          "scattergeo": [
           {
            "marker": {
             "colorbar": {
              "outlinewidth": 0,
              "ticks": ""
             }
            },
            "type": "scattergeo"
           }
          ],
          "scattergl": [
           {
            "marker": {
             "colorbar": {
              "outlinewidth": 0,
              "ticks": ""
             }
            },
            "type": "scattergl"
           }
          ],
          "scattermapbox": [
           {
            "marker": {
             "colorbar": {
              "outlinewidth": 0,
              "ticks": ""
             }
            },
            "type": "scattermapbox"
           }
          ],
          "scatterpolar": [
           {
            "marker": {
             "colorbar": {
              "outlinewidth": 0,
              "ticks": ""
             }
            },
            "type": "scatterpolar"
           }
          ],
          "scatterpolargl": [
           {
            "marker": {
             "colorbar": {
              "outlinewidth": 0,
              "ticks": ""
             }
            },
            "type": "scatterpolargl"
           }
          ],
          "scatterternary": [
           {
            "marker": {
             "colorbar": {
              "outlinewidth": 0,
              "ticks": ""
             }
            },
            "type": "scatterternary"
           }
          ],
          "surface": [
           {
            "colorbar": {
             "outlinewidth": 0,
             "ticks": ""
            },
            "colorscale": [
             [
              0,
              "#0d0887"
             ],
             [
              0.1111111111111111,
              "#46039f"
             ],
             [
              0.2222222222222222,
              "#7201a8"
             ],
             [
              0.3333333333333333,
              "#9c179e"
             ],
             [
              0.4444444444444444,
              "#bd3786"
             ],
             [
              0.5555555555555556,
              "#d8576b"
             ],
             [
              0.6666666666666666,
              "#ed7953"
             ],
             [
              0.7777777777777778,
              "#fb9f3a"
             ],
             [
              0.8888888888888888,
              "#fdca26"
             ],
             [
              1,
              "#f0f921"
             ]
            ],
            "type": "surface"
           }
          ],
          "table": [
           {
            "cells": {
             "fill": {
              "color": "#EBF0F8"
             },
             "line": {
              "color": "white"
             }
            },
            "header": {
             "fill": {
              "color": "#C8D4E3"
             },
             "line": {
              "color": "white"
             }
            },
            "type": "table"
           }
          ]
         },
         "layout": {
          "annotationdefaults": {
           "arrowcolor": "#2a3f5f",
           "arrowhead": 0,
           "arrowwidth": 1
          },
          "autotypenumbers": "strict",
          "coloraxis": {
           "colorbar": {
            "outlinewidth": 0,
            "ticks": ""
           }
          },
          "colorscale": {
           "diverging": [
            [
             0,
             "#8e0152"
            ],
            [
             0.1,
             "#c51b7d"
            ],
            [
             0.2,
             "#de77ae"
            ],
            [
             0.3,
             "#f1b6da"
            ],
            [
             0.4,
             "#fde0ef"
            ],
            [
             0.5,
             "#f7f7f7"
            ],
            [
             0.6,
             "#e6f5d0"
            ],
            [
             0.7,
             "#b8e186"
            ],
            [
             0.8,
             "#7fbc41"
            ],
            [
             0.9,
             "#4d9221"
            ],
            [
             1,
             "#276419"
            ]
           ],
           "sequential": [
            [
             0,
             "#0d0887"
            ],
            [
             0.1111111111111111,
             "#46039f"
            ],
            [
             0.2222222222222222,
             "#7201a8"
            ],
            [
             0.3333333333333333,
             "#9c179e"
            ],
            [
             0.4444444444444444,
             "#bd3786"
            ],
            [
             0.5555555555555556,
             "#d8576b"
            ],
            [
             0.6666666666666666,
             "#ed7953"
            ],
            [
             0.7777777777777778,
             "#fb9f3a"
            ],
            [
             0.8888888888888888,
             "#fdca26"
            ],
            [
             1,
             "#f0f921"
            ]
           ],
           "sequentialminus": [
            [
             0,
             "#0d0887"
            ],
            [
             0.1111111111111111,
             "#46039f"
            ],
            [
             0.2222222222222222,
             "#7201a8"
            ],
            [
             0.3333333333333333,
             "#9c179e"
            ],
            [
             0.4444444444444444,
             "#bd3786"
            ],
            [
             0.5555555555555556,
             "#d8576b"
            ],
            [
             0.6666666666666666,
             "#ed7953"
            ],
            [
             0.7777777777777778,
             "#fb9f3a"
            ],
            [
             0.8888888888888888,
             "#fdca26"
            ],
            [
             1,
             "#f0f921"
            ]
           ]
          },
          "colorway": [
           "#636efa",
           "#EF553B",
           "#00cc96",
           "#ab63fa",
           "#FFA15A",
           "#19d3f3",
           "#FF6692",
           "#B6E880",
           "#FF97FF",
           "#FECB52"
          ],
          "font": {
           "color": "#2a3f5f"
          },
          "geo": {
           "bgcolor": "white",
           "lakecolor": "white",
           "landcolor": "#E5ECF6",
           "showlakes": true,
           "showland": true,
           "subunitcolor": "white"
          },
          "hoverlabel": {
           "align": "left"
          },
          "hovermode": "closest",
          "mapbox": {
           "style": "light"
          },
          "paper_bgcolor": "white",
          "plot_bgcolor": "#E5ECF6",
          "polar": {
           "angularaxis": {
            "gridcolor": "white",
            "linecolor": "white",
            "ticks": ""
           },
           "bgcolor": "#E5ECF6",
           "radialaxis": {
            "gridcolor": "white",
            "linecolor": "white",
            "ticks": ""
           }
          },
          "scene": {
           "xaxis": {
            "backgroundcolor": "#E5ECF6",
            "gridcolor": "white",
            "gridwidth": 2,
            "linecolor": "white",
            "showbackground": true,
            "ticks": "",
            "zerolinecolor": "white"
           },
           "yaxis": {
            "backgroundcolor": "#E5ECF6",
            "gridcolor": "white",
            "gridwidth": 2,
            "linecolor": "white",
            "showbackground": true,
            "ticks": "",
            "zerolinecolor": "white"
           },
           "zaxis": {
            "backgroundcolor": "#E5ECF6",
            "gridcolor": "white",
            "gridwidth": 2,
            "linecolor": "white",
            "showbackground": true,
            "ticks": "",
            "zerolinecolor": "white"
           }
          },
          "shapedefaults": {
           "line": {
            "color": "#2a3f5f"
           }
          },
          "ternary": {
           "aaxis": {
            "gridcolor": "white",
            "linecolor": "white",
            "ticks": ""
           },
           "baxis": {
            "gridcolor": "white",
            "linecolor": "white",
            "ticks": ""
           },
           "bgcolor": "#E5ECF6",
           "caxis": {
            "gridcolor": "white",
            "linecolor": "white",
            "ticks": ""
           }
          },
          "title": {
           "x": 0.05
          },
          "xaxis": {
           "automargin": true,
           "gridcolor": "white",
           "linecolor": "white",
           "ticks": "",
           "title": {
            "standoff": 15
           },
           "zerolinecolor": "white",
           "zerolinewidth": 2
          },
          "yaxis": {
           "automargin": true,
           "gridcolor": "white",
           "linecolor": "white",
           "ticks": "",
           "title": {
            "standoff": 15
           },
           "zerolinecolor": "white",
           "zerolinewidth": 2
          }
         }
        },
        "title": {
         "text": "GHG emission 2013"
        }
       }
      }
     },
     "metadata": {},
     "output_type": "display_data"
    },
    {
     "data": {
      "application/vnd.plotly.v1+json": {
       "config": {
        "plotlyServerURL": "https://plot.ly"
       },
       "data": [
        {
         "labels": [
          "",
          "Non-vegan",
          "Vegan",
          "Barley (Beer)",
          "Cane Sugar",
          "Bovine Meat (beef herd)",
          "Bovine Meat (dairy herd)",
          "Lamb & Mutton",
          "Pig Meat",
          "Poultry Meat",
          "Milk",
          "Cheese",
          "Eggs",
          "Fish (farmed)",
          "Crustaceans (farmed)",
          "Wheat & Rye (Bread)",
          "Maize (Meal)",
          "Oatmeal",
          "Rice",
          "Potatoes",
          "Cassava",
          "Beet Sugar",
          "Other Pulses",
          "Peas",
          "Nuts",
          "Groundnuts",
          "Soymilk",
          "Tofu",
          "Soybean Oil",
          "Palm Oil",
          "Sunflower Oil",
          "Rapeseed Oil",
          "Olive Oil",
          "Tomatoes",
          "Onions & Leeks",
          "Root Vegetables",
          "Brassicas",
          "Other Vegetables",
          "Citrus Fruit",
          "Bananas",
          "Apples",
          "Berries & Grapes",
          "Wine",
          "Other Fruit",
          "Coffee",
          "Dark Chocolate"
         ],
         "marker": {
          "colors": [
           "darkgreen",
           "darkred",
           "darkgreen",
           "darkred"
          ]
         },
         "parents": [
          "",
          "",
          "",
          "Non-vegan",
          "Non-vegan",
          "Non-vegan",
          "Non-vegan",
          "Non-vegan",
          "Non-vegan",
          "Non-vegan",
          "Non-vegan",
          "Non-vegan",
          "Non-vegan",
          "Non-vegan",
          "Non-vegan",
          "Vegan",
          "Vegan",
          "Vegan",
          "Vegan",
          "Vegan",
          "Vegan",
          "Vegan",
          "Vegan",
          "Vegan",
          "Vegan",
          "Vegan",
          "Vegan",
          "Vegan",
          "Vegan",
          "Vegan",
          "Vegan",
          "Vegan",
          "Vegan",
          "Vegan",
          "Vegan",
          "Vegan",
          "Vegan",
          "Vegan",
          "Vegan",
          "Vegan",
          "Vegan",
          "Vegan",
          "Vegan",
          "Vegan",
          "Vegan",
          "Vegan"
         ],
         "type": "sunburst",
         "values": [
          0,
          0,
          0,
          1.18,
          3.16,
          85.19,
          28.79,
          32.71,
          11.54,
          9.82,
          2.84,
          21.44,
          4.6,
          12.51,
          23.99,
          1.58,
          1.68,
          2.47,
          3.81,
          0.45,
          1.3,
          1.8,
          1.79,
          0.97,
          0.37,
          3.18,
          0.97,
          3.14,
          6.15,
          7.16,
          3.59,
          3.76,
          5.25,
          2.01,
          0.5,
          0.43,
          0.51,
          0.53,
          0.37,
          0.86,
          0.42,
          1.52,
          1.76,
          1.06,
          27.65,
          46.28
         ]
        }
       ],
       "layout": {
        "template": {
         "data": {
          "bar": [
           {
            "error_x": {
             "color": "#2a3f5f"
            },
            "error_y": {
             "color": "#2a3f5f"
            },
            "marker": {
             "line": {
              "color": "#E5ECF6",
              "width": 0.5
             },
             "pattern": {
              "fillmode": "overlay",
              "size": 10,
              "solidity": 0.2
             }
            },
            "type": "bar"
           }
          ],
          "barpolar": [
           {
            "marker": {
             "line": {
              "color": "#E5ECF6",
              "width": 0.5
             },
             "pattern": {
              "fillmode": "overlay",
              "size": 10,
              "solidity": 0.2
             }
            },
            "type": "barpolar"
           }
          ],
          "carpet": [
           {
            "aaxis": {
             "endlinecolor": "#2a3f5f",
             "gridcolor": "white",
             "linecolor": "white",
             "minorgridcolor": "white",
             "startlinecolor": "#2a3f5f"
            },
            "baxis": {
             "endlinecolor": "#2a3f5f",
             "gridcolor": "white",
             "linecolor": "white",
             "minorgridcolor": "white",
             "startlinecolor": "#2a3f5f"
            },
            "type": "carpet"
           }
          ],
          "choropleth": [
           {
            "colorbar": {
             "outlinewidth": 0,
             "ticks": ""
            },
            "type": "choropleth"
           }
          ],
          "contour": [
           {
            "colorbar": {
             "outlinewidth": 0,
             "ticks": ""
            },
            "colorscale": [
             [
              0,
              "#0d0887"
             ],
             [
              0.1111111111111111,
              "#46039f"
             ],
             [
              0.2222222222222222,
              "#7201a8"
             ],
             [
              0.3333333333333333,
              "#9c179e"
             ],
             [
              0.4444444444444444,
              "#bd3786"
             ],
             [
              0.5555555555555556,
              "#d8576b"
             ],
             [
              0.6666666666666666,
              "#ed7953"
             ],
             [
              0.7777777777777778,
              "#fb9f3a"
             ],
             [
              0.8888888888888888,
              "#fdca26"
             ],
             [
              1,
              "#f0f921"
             ]
            ],
            "type": "contour"
           }
          ],
          "contourcarpet": [
           {
            "colorbar": {
             "outlinewidth": 0,
             "ticks": ""
            },
            "type": "contourcarpet"
           }
          ],
          "heatmap": [
           {
            "colorbar": {
             "outlinewidth": 0,
             "ticks": ""
            },
            "colorscale": [
             [
              0,
              "#0d0887"
             ],
             [
              0.1111111111111111,
              "#46039f"
             ],
             [
              0.2222222222222222,
              "#7201a8"
             ],
             [
              0.3333333333333333,
              "#9c179e"
             ],
             [
              0.4444444444444444,
              "#bd3786"
             ],
             [
              0.5555555555555556,
              "#d8576b"
             ],
             [
              0.6666666666666666,
              "#ed7953"
             ],
             [
              0.7777777777777778,
              "#fb9f3a"
             ],
             [
              0.8888888888888888,
              "#fdca26"
             ],
             [
              1,
              "#f0f921"
             ]
            ],
            "type": "heatmap"
           }
          ],
          "heatmapgl": [
           {
            "colorbar": {
             "outlinewidth": 0,
             "ticks": ""
            },
            "colorscale": [
             [
              0,
              "#0d0887"
             ],
             [
              0.1111111111111111,
              "#46039f"
             ],
             [
              0.2222222222222222,
              "#7201a8"
             ],
             [
              0.3333333333333333,
              "#9c179e"
             ],
             [
              0.4444444444444444,
              "#bd3786"
             ],
             [
              0.5555555555555556,
              "#d8576b"
             ],
             [
              0.6666666666666666,
              "#ed7953"
             ],
             [
              0.7777777777777778,
              "#fb9f3a"
             ],
             [
              0.8888888888888888,
              "#fdca26"
             ],
             [
              1,
              "#f0f921"
             ]
            ],
            "type": "heatmapgl"
           }
          ],
          "histogram": [
           {
            "marker": {
             "pattern": {
              "fillmode": "overlay",
              "size": 10,
              "solidity": 0.2
             }
            },
            "type": "histogram"
           }
          ],
          "histogram2d": [
           {
            "colorbar": {
             "outlinewidth": 0,
             "ticks": ""
            },
            "colorscale": [
             [
              0,
              "#0d0887"
             ],
             [
              0.1111111111111111,
              "#46039f"
             ],
             [
              0.2222222222222222,
              "#7201a8"
             ],
             [
              0.3333333333333333,
              "#9c179e"
             ],
             [
              0.4444444444444444,
              "#bd3786"
             ],
             [
              0.5555555555555556,
              "#d8576b"
             ],
             [
              0.6666666666666666,
              "#ed7953"
             ],
             [
              0.7777777777777778,
              "#fb9f3a"
             ],
             [
              0.8888888888888888,
              "#fdca26"
             ],
             [
              1,
              "#f0f921"
             ]
            ],
            "type": "histogram2d"
           }
          ],
          "histogram2dcontour": [
           {
            "colorbar": {
             "outlinewidth": 0,
             "ticks": ""
            },
            "colorscale": [
             [
              0,
              "#0d0887"
             ],
             [
              0.1111111111111111,
              "#46039f"
             ],
             [
              0.2222222222222222,
              "#7201a8"
             ],
             [
              0.3333333333333333,
              "#9c179e"
             ],
             [
              0.4444444444444444,
              "#bd3786"
             ],
             [
              0.5555555555555556,
              "#d8576b"
             ],
             [
              0.6666666666666666,
              "#ed7953"
             ],
             [
              0.7777777777777778,
              "#fb9f3a"
             ],
             [
              0.8888888888888888,
              "#fdca26"
             ],
             [
              1,
              "#f0f921"
             ]
            ],
            "type": "histogram2dcontour"
           }
          ],
          "mesh3d": [
           {
            "colorbar": {
             "outlinewidth": 0,
             "ticks": ""
            },
            "type": "mesh3d"
           }
          ],
          "parcoords": [
           {
            "line": {
             "colorbar": {
              "outlinewidth": 0,
              "ticks": ""
             }
            },
            "type": "parcoords"
           }
          ],
          "pie": [
           {
            "automargin": true,
            "type": "pie"
           }
          ],
          "scatter": [
           {
            "fillpattern": {
             "fillmode": "overlay",
             "size": 10,
             "solidity": 0.2
            },
            "type": "scatter"
           }
          ],
          "scatter3d": [
           {
            "line": {
             "colorbar": {
              "outlinewidth": 0,
              "ticks": ""
             }
            },
            "marker": {
             "colorbar": {
              "outlinewidth": 0,
              "ticks": ""
             }
            },
            "type": "scatter3d"
           }
          ],
          "scattercarpet": [
           {
            "marker": {
             "colorbar": {
              "outlinewidth": 0,
              "ticks": ""
             }
            },
            "type": "scattercarpet"
           }
          ],
          "scattergeo": [
           {
            "marker": {
             "colorbar": {
              "outlinewidth": 0,
              "ticks": ""
             }
            },
            "type": "scattergeo"
           }
          ],
          "scattergl": [
           {
            "marker": {
             "colorbar": {
              "outlinewidth": 0,
              "ticks": ""
             }
            },
            "type": "scattergl"
           }
          ],
          "scattermapbox": [
           {
            "marker": {
             "colorbar": {
              "outlinewidth": 0,
              "ticks": ""
             }
            },
            "type": "scattermapbox"
           }
          ],
          "scatterpolar": [
           {
            "marker": {
             "colorbar": {
              "outlinewidth": 0,
              "ticks": ""
             }
            },
            "type": "scatterpolar"
           }
          ],
          "scatterpolargl": [
           {
            "marker": {
             "colorbar": {
              "outlinewidth": 0,
              "ticks": ""
             }
            },
            "type": "scatterpolargl"
           }
          ],
          "scatterternary": [
           {
            "marker": {
             "colorbar": {
              "outlinewidth": 0,
              "ticks": ""
             }
            },
            "type": "scatterternary"
           }
          ],
          "surface": [
           {
            "colorbar": {
             "outlinewidth": 0,
             "ticks": ""
            },
            "colorscale": [
             [
              0,
              "#0d0887"
             ],
             [
              0.1111111111111111,
              "#46039f"
             ],
             [
              0.2222222222222222,
              "#7201a8"
             ],
             [
              0.3333333333333333,
              "#9c179e"
             ],
             [
              0.4444444444444444,
              "#bd3786"
             ],
             [
              0.5555555555555556,
              "#d8576b"
             ],
             [
              0.6666666666666666,
              "#ed7953"
             ],
             [
              0.7777777777777778,
              "#fb9f3a"
             ],
             [
              0.8888888888888888,
              "#fdca26"
             ],
             [
              1,
              "#f0f921"
             ]
            ],
            "type": "surface"
           }
          ],
          "table": [
           {
            "cells": {
             "fill": {
              "color": "#EBF0F8"
             },
             "line": {
              "color": "white"
             }
            },
            "header": {
             "fill": {
              "color": "#C8D4E3"
             },
             "line": {
              "color": "white"
             }
            },
            "type": "table"
           }
          ]
         },
         "layout": {
          "annotationdefaults": {
           "arrowcolor": "#2a3f5f",
           "arrowhead": 0,
           "arrowwidth": 1
          },
          "autotypenumbers": "strict",
          "coloraxis": {
           "colorbar": {
            "outlinewidth": 0,
            "ticks": ""
           }
          },
          "colorscale": {
           "diverging": [
            [
             0,
             "#8e0152"
            ],
            [
             0.1,
             "#c51b7d"
            ],
            [
             0.2,
             "#de77ae"
            ],
            [
             0.3,
             "#f1b6da"
            ],
            [
             0.4,
             "#fde0ef"
            ],
            [
             0.5,
             "#f7f7f7"
            ],
            [
             0.6,
             "#e6f5d0"
            ],
            [
             0.7,
             "#b8e186"
            ],
            [
             0.8,
             "#7fbc41"
            ],
            [
             0.9,
             "#4d9221"
            ],
            [
             1,
             "#276419"
            ]
           ],
           "sequential": [
            [
             0,
             "#0d0887"
            ],
            [
             0.1111111111111111,
             "#46039f"
            ],
            [
             0.2222222222222222,
             "#7201a8"
            ],
            [
             0.3333333333333333,
             "#9c179e"
            ],
            [
             0.4444444444444444,
             "#bd3786"
            ],
            [
             0.5555555555555556,
             "#d8576b"
            ],
            [
             0.6666666666666666,
             "#ed7953"
            ],
            [
             0.7777777777777778,
             "#fb9f3a"
            ],
            [
             0.8888888888888888,
             "#fdca26"
            ],
            [
             1,
             "#f0f921"
            ]
           ],
           "sequentialminus": [
            [
             0,
             "#0d0887"
            ],
            [
             0.1111111111111111,
             "#46039f"
            ],
            [
             0.2222222222222222,
             "#7201a8"
            ],
            [
             0.3333333333333333,
             "#9c179e"
            ],
            [
             0.4444444444444444,
             "#bd3786"
            ],
            [
             0.5555555555555556,
             "#d8576b"
            ],
            [
             0.6666666666666666,
             "#ed7953"
            ],
            [
             0.7777777777777778,
             "#fb9f3a"
            ],
            [
             0.8888888888888888,
             "#fdca26"
            ],
            [
             1,
             "#f0f921"
            ]
           ]
          },
          "colorway": [
           "#636efa",
           "#EF553B",
           "#00cc96",
           "#ab63fa",
           "#FFA15A",
           "#19d3f3",
           "#FF6692",
           "#B6E880",
           "#FF97FF",
           "#FECB52"
          ],
          "font": {
           "color": "#2a3f5f"
          },
          "geo": {
           "bgcolor": "white",
           "lakecolor": "white",
           "landcolor": "#E5ECF6",
           "showlakes": true,
           "showland": true,
           "subunitcolor": "white"
          },
          "hoverlabel": {
           "align": "left"
          },
          "hovermode": "closest",
          "mapbox": {
           "style": "light"
          },
          "paper_bgcolor": "white",
          "plot_bgcolor": "#E5ECF6",
          "polar": {
           "angularaxis": {
            "gridcolor": "white",
            "linecolor": "white",
            "ticks": ""
           },
           "bgcolor": "#E5ECF6",
           "radialaxis": {
            "gridcolor": "white",
            "linecolor": "white",
            "ticks": ""
           }
          },
          "scene": {
           "xaxis": {
            "backgroundcolor": "#E5ECF6",
            "gridcolor": "white",
            "gridwidth": 2,
            "linecolor": "white",
            "showbackground": true,
            "ticks": "",
            "zerolinecolor": "white"
           },
           "yaxis": {
            "backgroundcolor": "#E5ECF6",
            "gridcolor": "white",
            "gridwidth": 2,
            "linecolor": "white",
            "showbackground": true,
            "ticks": "",
            "zerolinecolor": "white"
           },
           "zaxis": {
            "backgroundcolor": "#E5ECF6",
            "gridcolor": "white",
            "gridwidth": 2,
            "linecolor": "white",
            "showbackground": true,
            "ticks": "",
            "zerolinecolor": "white"
           }
          },
          "shapedefaults": {
           "line": {
            "color": "#2a3f5f"
           }
          },
          "ternary": {
           "aaxis": {
            "gridcolor": "white",
            "linecolor": "white",
            "ticks": ""
           },
           "baxis": {
            "gridcolor": "white",
            "linecolor": "white",
            "ticks": ""
           },
           "bgcolor": "#E5ECF6",
           "caxis": {
            "gridcolor": "white",
            "linecolor": "white",
            "ticks": ""
           }
          },
          "title": {
           "x": 0.05
          },
          "xaxis": {
           "automargin": true,
           "gridcolor": "white",
           "linecolor": "white",
           "ticks": "",
           "title": {
            "standoff": 15
           },
           "zerolinecolor": "white",
           "zerolinewidth": 2
          },
          "yaxis": {
           "automargin": true,
           "gridcolor": "white",
           "linecolor": "white",
           "ticks": "",
           "title": {
            "standoff": 15
           },
           "zerolinecolor": "white",
           "zerolinewidth": 2
          }
         }
        },
        "title": {
         "text": "GHG emission 2007"
        }
       }
      }
     },
     "metadata": {},
     "output_type": "display_data"
    },
    {
     "data": {
      "application/vnd.plotly.v1+json": {
       "config": {
        "plotlyServerURL": "https://plot.ly"
       },
       "data": [
        {
         "labels": [
          "",
          "Non-vegan",
          "Vegan",
          "Barley (Beer)",
          "Cane Sugar",
          "Bovine Meat (beef herd)",
          "Bovine Meat (dairy herd)",
          "Lamb & Mutton",
          "Pig Meat",
          "Poultry Meat",
          "Milk",
          "Cheese",
          "Eggs",
          "Fish (farmed)",
          "Crustaceans (farmed)",
          "Wheat & Rye (Bread)",
          "Maize (Meal)",
          "Oatmeal",
          "Rice",
          "Potatoes",
          "Cassava",
          "Beet Sugar",
          "Other Pulses",
          "Peas",
          "Nuts",
          "Groundnuts",
          "Soymilk",
          "Tofu",
          "Soybean Oil",
          "Palm Oil",
          "Sunflower Oil",
          "Rapeseed Oil",
          "Olive Oil",
          "Tomatoes",
          "Onions & Leeks",
          "Root Vegetables",
          "Brassicas",
          "Other Vegetables",
          "Citrus Fruit",
          "Bananas",
          "Apples",
          "Berries & Grapes",
          "Wine",
          "Other Fruit",
          "Coffee",
          "Dark Chocolate"
         ],
         "marker": {
          "colors": [
           "darkgreen",
           "darkred",
           "darkgreen",
           "darkred"
          ]
         },
         "parents": [
          "",
          "",
          "",
          "Non-vegan",
          "Non-vegan",
          "Non-vegan",
          "Non-vegan",
          "Non-vegan",
          "Non-vegan",
          "Non-vegan",
          "Non-vegan",
          "Non-vegan",
          "Non-vegan",
          "Non-vegan",
          "Non-vegan",
          "Vegan",
          "Vegan",
          "Vegan",
          "Vegan",
          "Vegan",
          "Vegan",
          "Vegan",
          "Vegan",
          "Vegan",
          "Vegan",
          "Vegan",
          "Vegan",
          "Vegan",
          "Vegan",
          "Vegan",
          "Vegan",
          "Vegan",
          "Vegan",
          "Vegan",
          "Vegan",
          "Vegan",
          "Vegan",
          "Vegan",
          "Vegan",
          "Vegan",
          "Vegan",
          "Vegan",
          "Vegan",
          "Vegan",
          "Vegan",
          "Vegan"
         ],
         "type": "sunburst",
         "values": [
          0,
          0,
          0,
          6.59,
          18.02,
          318.83,
          343.64,
          138.97,
          142.66,
          102.42,
          20.01,
          165.54,
          53.67,
          65.91,
          133.07,
          13.35,
          11.68,
          10.68,
          27.19,
          3.87,
          3.42,
          12.62,
          22.07,
          8.49,
          45.15,
          22.62,
          2.6,
          6.7,
          15.67,
          17.52,
          27.96,
          28.51,
          37.58,
          17.21,
          3.63,
          2.9,
          8.21,
          6.41,
          4.04,
          6.35,
          3.52,
          12.29,
          12.76,
          5.78,
          83.14,
          46.3
         ]
        }
       ],
       "layout": {
        "template": {
         "data": {
          "bar": [
           {
            "error_x": {
             "color": "#2a3f5f"
            },
            "error_y": {
             "color": "#2a3f5f"
            },
            "marker": {
             "line": {
              "color": "#E5ECF6",
              "width": 0.5
             },
             "pattern": {
              "fillmode": "overlay",
              "size": 10,
              "solidity": 0.2
             }
            },
            "type": "bar"
           }
          ],
          "barpolar": [
           {
            "marker": {
             "line": {
              "color": "#E5ECF6",
              "width": 0.5
             },
             "pattern": {
              "fillmode": "overlay",
              "size": 10,
              "solidity": 0.2
             }
            },
            "type": "barpolar"
           }
          ],
          "carpet": [
           {
            "aaxis": {
             "endlinecolor": "#2a3f5f",
             "gridcolor": "white",
             "linecolor": "white",
             "minorgridcolor": "white",
             "startlinecolor": "#2a3f5f"
            },
            "baxis": {
             "endlinecolor": "#2a3f5f",
             "gridcolor": "white",
             "linecolor": "white",
             "minorgridcolor": "white",
             "startlinecolor": "#2a3f5f"
            },
            "type": "carpet"
           }
          ],
          "choropleth": [
           {
            "colorbar": {
             "outlinewidth": 0,
             "ticks": ""
            },
            "type": "choropleth"
           }
          ],
          "contour": [
           {
            "colorbar": {
             "outlinewidth": 0,
             "ticks": ""
            },
            "colorscale": [
             [
              0,
              "#0d0887"
             ],
             [
              0.1111111111111111,
              "#46039f"
             ],
             [
              0.2222222222222222,
              "#7201a8"
             ],
             [
              0.3333333333333333,
              "#9c179e"
             ],
             [
              0.4444444444444444,
              "#bd3786"
             ],
             [
              0.5555555555555556,
              "#d8576b"
             ],
             [
              0.6666666666666666,
              "#ed7953"
             ],
             [
              0.7777777777777778,
              "#fb9f3a"
             ],
             [
              0.8888888888888888,
              "#fdca26"
             ],
             [
              1,
              "#f0f921"
             ]
            ],
            "type": "contour"
           }
          ],
          "contourcarpet": [
           {
            "colorbar": {
             "outlinewidth": 0,
             "ticks": ""
            },
            "type": "contourcarpet"
           }
          ],
          "heatmap": [
           {
            "colorbar": {
             "outlinewidth": 0,
             "ticks": ""
            },
            "colorscale": [
             [
              0,
              "#0d0887"
             ],
             [
              0.1111111111111111,
              "#46039f"
             ],
             [
              0.2222222222222222,
              "#7201a8"
             ],
             [
              0.3333333333333333,
              "#9c179e"
             ],
             [
              0.4444444444444444,
              "#bd3786"
             ],
             [
              0.5555555555555556,
              "#d8576b"
             ],
             [
              0.6666666666666666,
              "#ed7953"
             ],
             [
              0.7777777777777778,
              "#fb9f3a"
             ],
             [
              0.8888888888888888,
              "#fdca26"
             ],
             [
              1,
              "#f0f921"
             ]
            ],
            "type": "heatmap"
           }
          ],
          "heatmapgl": [
           {
            "colorbar": {
             "outlinewidth": 0,
             "ticks": ""
            },
            "colorscale": [
             [
              0,
              "#0d0887"
             ],
             [
              0.1111111111111111,
              "#46039f"
             ],
             [
              0.2222222222222222,
              "#7201a8"
             ],
             [
              0.3333333333333333,
              "#9c179e"
             ],
             [
              0.4444444444444444,
              "#bd3786"
             ],
             [
              0.5555555555555556,
              "#d8576b"
             ],
             [
              0.6666666666666666,
              "#ed7953"
             ],
             [
              0.7777777777777778,
              "#fb9f3a"
             ],
             [
              0.8888888888888888,
              "#fdca26"
             ],
             [
              1,
              "#f0f921"
             ]
            ],
            "type": "heatmapgl"
           }
          ],
          "histogram": [
           {
            "marker": {
             "pattern": {
              "fillmode": "overlay",
              "size": 10,
              "solidity": 0.2
             }
            },
            "type": "histogram"
           }
          ],
          "histogram2d": [
           {
            "colorbar": {
             "outlinewidth": 0,
             "ticks": ""
            },
            "colorscale": [
             [
              0,
              "#0d0887"
             ],
             [
              0.1111111111111111,
              "#46039f"
             ],
             [
              0.2222222222222222,
              "#7201a8"
             ],
             [
              0.3333333333333333,
              "#9c179e"
             ],
             [
              0.4444444444444444,
              "#bd3786"
             ],
             [
              0.5555555555555556,
              "#d8576b"
             ],
             [
              0.6666666666666666,
              "#ed7953"
             ],
             [
              0.7777777777777778,
              "#fb9f3a"
             ],
             [
              0.8888888888888888,
              "#fdca26"
             ],
             [
              1,
              "#f0f921"
             ]
            ],
            "type": "histogram2d"
           }
          ],
          "histogram2dcontour": [
           {
            "colorbar": {
             "outlinewidth": 0,
             "ticks": ""
            },
            "colorscale": [
             [
              0,
              "#0d0887"
             ],
             [
              0.1111111111111111,
              "#46039f"
             ],
             [
              0.2222222222222222,
              "#7201a8"
             ],
             [
              0.3333333333333333,
              "#9c179e"
             ],
             [
              0.4444444444444444,
              "#bd3786"
             ],
             [
              0.5555555555555556,
              "#d8576b"
             ],
             [
              0.6666666666666666,
              "#ed7953"
             ],
             [
              0.7777777777777778,
              "#fb9f3a"
             ],
             [
              0.8888888888888888,
              "#fdca26"
             ],
             [
              1,
              "#f0f921"
             ]
            ],
            "type": "histogram2dcontour"
           }
          ],
          "mesh3d": [
           {
            "colorbar": {
             "outlinewidth": 0,
             "ticks": ""
            },
            "type": "mesh3d"
           }
          ],
          "parcoords": [
           {
            "line": {
             "colorbar": {
              "outlinewidth": 0,
              "ticks": ""
             }
            },
            "type": "parcoords"
           }
          ],
          "pie": [
           {
            "automargin": true,
            "type": "pie"
           }
          ],
          "scatter": [
           {
            "fillpattern": {
             "fillmode": "overlay",
             "size": 10,
             "solidity": 0.2
            },
            "type": "scatter"
           }
          ],
          "scatter3d": [
           {
            "line": {
             "colorbar": {
              "outlinewidth": 0,
              "ticks": ""
             }
            },
            "marker": {
             "colorbar": {
              "outlinewidth": 0,
              "ticks": ""
             }
            },
            "type": "scatter3d"
           }
          ],
          "scattercarpet": [
           {
            "marker": {
             "colorbar": {
              "outlinewidth": 0,
              "ticks": ""
             }
            },
            "type": "scattercarpet"
           }
          ],
          "scattergeo": [
           {
            "marker": {
             "colorbar": {
              "outlinewidth": 0,
              "ticks": ""
             }
            },
            "type": "scattergeo"
           }
          ],
          "scattergl": [
           {
            "marker": {
             "colorbar": {
              "outlinewidth": 0,
              "ticks": ""
             }
            },
            "type": "scattergl"
           }
          ],
          "scattermapbox": [
           {
            "marker": {
             "colorbar": {
              "outlinewidth": 0,
              "ticks": ""
             }
            },
            "type": "scattermapbox"
           }
          ],
          "scatterpolar": [
           {
            "marker": {
             "colorbar": {
              "outlinewidth": 0,
              "ticks": ""
             }
            },
            "type": "scatterpolar"
           }
          ],
          "scatterpolargl": [
           {
            "marker": {
             "colorbar": {
              "outlinewidth": 0,
              "ticks": ""
             }
            },
            "type": "scatterpolargl"
           }
          ],
          "scatterternary": [
           {
            "marker": {
             "colorbar": {
              "outlinewidth": 0,
              "ticks": ""
             }
            },
            "type": "scatterternary"
           }
          ],
          "surface": [
           {
            "colorbar": {
             "outlinewidth": 0,
             "ticks": ""
            },
            "colorscale": [
             [
              0,
              "#0d0887"
             ],
             [
              0.1111111111111111,
              "#46039f"
             ],
             [
              0.2222222222222222,
              "#7201a8"
             ],
             [
              0.3333333333333333,
              "#9c179e"
             ],
             [
              0.4444444444444444,
              "#bd3786"
             ],
             [
              0.5555555555555556,
              "#d8576b"
             ],
             [
              0.6666666666666666,
              "#ed7953"
             ],
             [
              0.7777777777777778,
              "#fb9f3a"
             ],
             [
              0.8888888888888888,
              "#fdca26"
             ],
             [
              1,
              "#f0f921"
             ]
            ],
            "type": "surface"
           }
          ],
          "table": [
           {
            "cells": {
             "fill": {
              "color": "#EBF0F8"
             },
             "line": {
              "color": "white"
             }
            },
            "header": {
             "fill": {
              "color": "#C8D4E3"
             },
             "line": {
              "color": "white"
             }
            },
            "type": "table"
           }
          ]
         },
         "layout": {
          "annotationdefaults": {
           "arrowcolor": "#2a3f5f",
           "arrowhead": 0,
           "arrowwidth": 1
          },
          "autotypenumbers": "strict",
          "coloraxis": {
           "colorbar": {
            "outlinewidth": 0,
            "ticks": ""
           }
          },
          "colorscale": {
           "diverging": [
            [
             0,
             "#8e0152"
            ],
            [
             0.1,
             "#c51b7d"
            ],
            [
             0.2,
             "#de77ae"
            ],
            [
             0.3,
             "#f1b6da"
            ],
            [
             0.4,
             "#fde0ef"
            ],
            [
             0.5,
             "#f7f7f7"
            ],
            [
             0.6,
             "#e6f5d0"
            ],
            [
             0.7,
             "#b8e186"
            ],
            [
             0.8,
             "#7fbc41"
            ],
            [
             0.9,
             "#4d9221"
            ],
            [
             1,
             "#276419"
            ]
           ],
           "sequential": [
            [
             0,
             "#0d0887"
            ],
            [
             0.1111111111111111,
             "#46039f"
            ],
            [
             0.2222222222222222,
             "#7201a8"
            ],
            [
             0.3333333333333333,
             "#9c179e"
            ],
            [
             0.4444444444444444,
             "#bd3786"
            ],
            [
             0.5555555555555556,
             "#d8576b"
            ],
            [
             0.6666666666666666,
             "#ed7953"
            ],
            [
             0.7777777777777778,
             "#fb9f3a"
            ],
            [
             0.8888888888888888,
             "#fdca26"
            ],
            [
             1,
             "#f0f921"
            ]
           ],
           "sequentialminus": [
            [
             0,
             "#0d0887"
            ],
            [
             0.1111111111111111,
             "#46039f"
            ],
            [
             0.2222222222222222,
             "#7201a8"
            ],
            [
             0.3333333333333333,
             "#9c179e"
            ],
            [
             0.4444444444444444,
             "#bd3786"
            ],
            [
             0.5555555555555556,
             "#d8576b"
            ],
            [
             0.6666666666666666,
             "#ed7953"
            ],
            [
             0.7777777777777778,
             "#fb9f3a"
            ],
            [
             0.8888888888888888,
             "#fdca26"
            ],
            [
             1,
             "#f0f921"
            ]
           ]
          },
          "colorway": [
           "#636efa",
           "#EF553B",
           "#00cc96",
           "#ab63fa",
           "#FFA15A",
           "#19d3f3",
           "#FF6692",
           "#B6E880",
           "#FF97FF",
           "#FECB52"
          ],
          "font": {
           "color": "#2a3f5f"
          },
          "geo": {
           "bgcolor": "white",
           "lakecolor": "white",
           "landcolor": "#E5ECF6",
           "showlakes": true,
           "showland": true,
           "subunitcolor": "white"
          },
          "hoverlabel": {
           "align": "left"
          },
          "hovermode": "closest",
          "mapbox": {
           "style": "light"
          },
          "paper_bgcolor": "white",
          "plot_bgcolor": "#E5ECF6",
          "polar": {
           "angularaxis": {
            "gridcolor": "white",
            "linecolor": "white",
            "ticks": ""
           },
           "bgcolor": "#E5ECF6",
           "radialaxis": {
            "gridcolor": "white",
            "linecolor": "white",
            "ticks": ""
           }
          },
          "scene": {
           "xaxis": {
            "backgroundcolor": "#E5ECF6",
            "gridcolor": "white",
            "gridwidth": 2,
            "linecolor": "white",
            "showbackground": true,
            "ticks": "",
            "zerolinecolor": "white"
           },
           "yaxis": {
            "backgroundcolor": "#E5ECF6",
            "gridcolor": "white",
            "gridwidth": 2,
            "linecolor": "white",
            "showbackground": true,
            "ticks": "",
            "zerolinecolor": "white"
           },
           "zaxis": {
            "backgroundcolor": "#E5ECF6",
            "gridcolor": "white",
            "gridwidth": 2,
            "linecolor": "white",
            "showbackground": true,
            "ticks": "",
            "zerolinecolor": "white"
           }
          },
          "shapedefaults": {
           "line": {
            "color": "#2a3f5f"
           }
          },
          "ternary": {
           "aaxis": {
            "gridcolor": "white",
            "linecolor": "white",
            "ticks": ""
           },
           "baxis": {
            "gridcolor": "white",
            "linecolor": "white",
            "ticks": ""
           },
           "bgcolor": "#E5ECF6",
           "caxis": {
            "gridcolor": "white",
            "linecolor": "white",
            "ticks": ""
           }
          },
          "title": {
           "x": 0.05
          },
          "xaxis": {
           "automargin": true,
           "gridcolor": "white",
           "linecolor": "white",
           "ticks": "",
           "title": {
            "standoff": 15
           },
           "zerolinecolor": "white",
           "zerolinewidth": 2
          },
          "yaxis": {
           "automargin": true,
           "gridcolor": "white",
           "linecolor": "white",
           "ticks": "",
           "title": {
            "standoff": 15
           },
           "zerolinecolor": "white",
           "zerolinewidth": 2
          }
         }
        },
        "title": {
         "text": "Acidification"
        }
       }
      }
     },
     "metadata": {},
     "output_type": "display_data"
    },
    {
     "data": {
      "application/vnd.plotly.v1+json": {
       "config": {
        "plotlyServerURL": "https://plot.ly"
       },
       "data": [
        {
         "labels": [
          "",
          "Non-vegan",
          "Vegan",
          "Barley (Beer)",
          "Cane Sugar",
          "Bovine Meat (beef herd)",
          "Bovine Meat (dairy herd)",
          "Lamb & Mutton",
          "Pig Meat",
          "Poultry Meat",
          "Milk",
          "Cheese",
          "Eggs",
          "Fish (farmed)",
          "Crustaceans (farmed)",
          "Wheat & Rye (Bread)",
          "Maize (Meal)",
          "Oatmeal",
          "Rice",
          "Potatoes",
          "Cassava",
          "Beet Sugar",
          "Other Pulses",
          "Peas",
          "Nuts",
          "Groundnuts",
          "Soymilk",
          "Tofu",
          "Soybean Oil",
          "Palm Oil",
          "Sunflower Oil",
          "Rapeseed Oil",
          "Olive Oil",
          "Tomatoes",
          "Onions & Leeks",
          "Root Vegetables",
          "Brassicas",
          "Other Vegetables",
          "Citrus Fruit",
          "Bananas",
          "Apples",
          "Berries & Grapes",
          "Wine",
          "Other Fruit",
          "Coffee",
          "Dark Chocolate"
         ],
         "marker": {
          "colors": [
           "darkgreen",
           "darkred",
           "darkgreen",
           "darkred"
          ]
         },
         "parents": [
          "",
          "",
          "",
          "Non-vegan",
          "Non-vegan",
          "Non-vegan",
          "Non-vegan",
          "Non-vegan",
          "Non-vegan",
          "Non-vegan",
          "Non-vegan",
          "Non-vegan",
          "Non-vegan",
          "Non-vegan",
          "Non-vegan",
          "Vegan",
          "Vegan",
          "Vegan",
          "Vegan",
          "Vegan",
          "Vegan",
          "Vegan",
          "Vegan",
          "Vegan",
          "Vegan",
          "Vegan",
          "Vegan",
          "Vegan",
          "Vegan",
          "Vegan",
          "Vegan",
          "Vegan",
          "Vegan",
          "Vegan",
          "Vegan",
          "Vegan",
          "Vegan",
          "Vegan",
          "Vegan",
          "Vegan",
          "Vegan",
          "Vegan",
          "Vegan",
          "Vegan",
          "Vegan",
          "Vegan"
         ],
         "type": "sunburst",
         "values": [
          0,
          0,
          0,
          2.33,
          16.92,
          301.41,
          365.29,
          97.13,
          76.38,
          48.7,
          10.65,
          98.37,
          21.76,
          235.12,
          227.22,
          7.16,
          4.03,
          11.23,
          35.07,
          3.48,
          0.69,
          5.41,
          17.08,
          7.52,
          19.15,
          14.14,
          1.06,
          6.16,
          11.69,
          10.67,
          50.66,
          19.19,
          37.26,
          7.51,
          3.24,
          1.61,
          5.01,
          2.27,
          2.24,
          3.29,
          1.45,
          6.12,
          4.57,
          2.43,
          110.52,
          87.08
         ]
        }
       ],
       "layout": {
        "template": {
         "data": {
          "bar": [
           {
            "error_x": {
             "color": "#2a3f5f"
            },
            "error_y": {
             "color": "#2a3f5f"
            },
            "marker": {
             "line": {
              "color": "#E5ECF6",
              "width": 0.5
             },
             "pattern": {
              "fillmode": "overlay",
              "size": 10,
              "solidity": 0.2
             }
            },
            "type": "bar"
           }
          ],
          "barpolar": [
           {
            "marker": {
             "line": {
              "color": "#E5ECF6",
              "width": 0.5
             },
             "pattern": {
              "fillmode": "overlay",
              "size": 10,
              "solidity": 0.2
             }
            },
            "type": "barpolar"
           }
          ],
          "carpet": [
           {
            "aaxis": {
             "endlinecolor": "#2a3f5f",
             "gridcolor": "white",
             "linecolor": "white",
             "minorgridcolor": "white",
             "startlinecolor": "#2a3f5f"
            },
            "baxis": {
             "endlinecolor": "#2a3f5f",
             "gridcolor": "white",
             "linecolor": "white",
             "minorgridcolor": "white",
             "startlinecolor": "#2a3f5f"
            },
            "type": "carpet"
           }
          ],
          "choropleth": [
           {
            "colorbar": {
             "outlinewidth": 0,
             "ticks": ""
            },
            "type": "choropleth"
           }
          ],
          "contour": [
           {
            "colorbar": {
             "outlinewidth": 0,
             "ticks": ""
            },
            "colorscale": [
             [
              0,
              "#0d0887"
             ],
             [
              0.1111111111111111,
              "#46039f"
             ],
             [
              0.2222222222222222,
              "#7201a8"
             ],
             [
              0.3333333333333333,
              "#9c179e"
             ],
             [
              0.4444444444444444,
              "#bd3786"
             ],
             [
              0.5555555555555556,
              "#d8576b"
             ],
             [
              0.6666666666666666,
              "#ed7953"
             ],
             [
              0.7777777777777778,
              "#fb9f3a"
             ],
             [
              0.8888888888888888,
              "#fdca26"
             ],
             [
              1,
              "#f0f921"
             ]
            ],
            "type": "contour"
           }
          ],
          "contourcarpet": [
           {
            "colorbar": {
             "outlinewidth": 0,
             "ticks": ""
            },
            "type": "contourcarpet"
           }
          ],
          "heatmap": [
           {
            "colorbar": {
             "outlinewidth": 0,
             "ticks": ""
            },
            "colorscale": [
             [
              0,
              "#0d0887"
             ],
             [
              0.1111111111111111,
              "#46039f"
             ],
             [
              0.2222222222222222,
              "#7201a8"
             ],
             [
              0.3333333333333333,
              "#9c179e"
             ],
             [
              0.4444444444444444,
              "#bd3786"
             ],
             [
              0.5555555555555556,
              "#d8576b"
             ],
             [
              0.6666666666666666,
              "#ed7953"
             ],
             [
              0.7777777777777778,
              "#fb9f3a"
             ],
             [
              0.8888888888888888,
              "#fdca26"
             ],
             [
              1,
              "#f0f921"
             ]
            ],
            "type": "heatmap"
           }
          ],
          "heatmapgl": [
           {
            "colorbar": {
             "outlinewidth": 0,
             "ticks": ""
            },
            "colorscale": [
             [
              0,
              "#0d0887"
             ],
             [
              0.1111111111111111,
              "#46039f"
             ],
             [
              0.2222222222222222,
              "#7201a8"
             ],
             [
              0.3333333333333333,
              "#9c179e"
             ],
             [
              0.4444444444444444,
              "#bd3786"
             ],
             [
              0.5555555555555556,
              "#d8576b"
             ],
             [
              0.6666666666666666,
              "#ed7953"
             ],
             [
              0.7777777777777778,
              "#fb9f3a"
             ],
             [
              0.8888888888888888,
              "#fdca26"
             ],
             [
              1,
              "#f0f921"
             ]
            ],
            "type": "heatmapgl"
           }
          ],
          "histogram": [
           {
            "marker": {
             "pattern": {
              "fillmode": "overlay",
              "size": 10,
              "solidity": 0.2
             }
            },
            "type": "histogram"
           }
          ],
          "histogram2d": [
           {
            "colorbar": {
             "outlinewidth": 0,
             "ticks": ""
            },
            "colorscale": [
             [
              0,
              "#0d0887"
             ],
             [
              0.1111111111111111,
              "#46039f"
             ],
             [
              0.2222222222222222,
              "#7201a8"
             ],
             [
              0.3333333333333333,
              "#9c179e"
             ],
             [
              0.4444444444444444,
              "#bd3786"
             ],
             [
              0.5555555555555556,
              "#d8576b"
             ],
             [
              0.6666666666666666,
              "#ed7953"
             ],
             [
              0.7777777777777778,
              "#fb9f3a"
             ],
             [
              0.8888888888888888,
              "#fdca26"
             ],
             [
              1,
              "#f0f921"
             ]
            ],
            "type": "histogram2d"
           }
          ],
          "histogram2dcontour": [
           {
            "colorbar": {
             "outlinewidth": 0,
             "ticks": ""
            },
            "colorscale": [
             [
              0,
              "#0d0887"
             ],
             [
              0.1111111111111111,
              "#46039f"
             ],
             [
              0.2222222222222222,
              "#7201a8"
             ],
             [
              0.3333333333333333,
              "#9c179e"
             ],
             [
              0.4444444444444444,
              "#bd3786"
             ],
             [
              0.5555555555555556,
              "#d8576b"
             ],
             [
              0.6666666666666666,
              "#ed7953"
             ],
             [
              0.7777777777777778,
              "#fb9f3a"
             ],
             [
              0.8888888888888888,
              "#fdca26"
             ],
             [
              1,
              "#f0f921"
             ]
            ],
            "type": "histogram2dcontour"
           }
          ],
          "mesh3d": [
           {
            "colorbar": {
             "outlinewidth": 0,
             "ticks": ""
            },
            "type": "mesh3d"
           }
          ],
          "parcoords": [
           {
            "line": {
             "colorbar": {
              "outlinewidth": 0,
              "ticks": ""
             }
            },
            "type": "parcoords"
           }
          ],
          "pie": [
           {
            "automargin": true,
            "type": "pie"
           }
          ],
          "scatter": [
           {
            "fillpattern": {
             "fillmode": "overlay",
             "size": 10,
             "solidity": 0.2
            },
            "type": "scatter"
           }
          ],
          "scatter3d": [
           {
            "line": {
             "colorbar": {
              "outlinewidth": 0,
              "ticks": ""
             }
            },
            "marker": {
             "colorbar": {
              "outlinewidth": 0,
              "ticks": ""
             }
            },
            "type": "scatter3d"
           }
          ],
          "scattercarpet": [
           {
            "marker": {
             "colorbar": {
              "outlinewidth": 0,
              "ticks": ""
             }
            },
            "type": "scattercarpet"
           }
          ],
          "scattergeo": [
           {
            "marker": {
             "colorbar": {
              "outlinewidth": 0,
              "ticks": ""
             }
            },
            "type": "scattergeo"
           }
          ],
          "scattergl": [
           {
            "marker": {
             "colorbar": {
              "outlinewidth": 0,
              "ticks": ""
             }
            },
            "type": "scattergl"
           }
          ],
          "scattermapbox": [
           {
            "marker": {
             "colorbar": {
              "outlinewidth": 0,
              "ticks": ""
             }
            },
            "type": "scattermapbox"
           }
          ],
          "scatterpolar": [
           {
            "marker": {
             "colorbar": {
              "outlinewidth": 0,
              "ticks": ""
             }
            },
            "type": "scatterpolar"
           }
          ],
          "scatterpolargl": [
           {
            "marker": {
             "colorbar": {
              "outlinewidth": 0,
              "ticks": ""
             }
            },
            "type": "scatterpolargl"
           }
          ],
          "scatterternary": [
           {
            "marker": {
             "colorbar": {
              "outlinewidth": 0,
              "ticks": ""
             }
            },
            "type": "scatterternary"
           }
          ],
          "surface": [
           {
            "colorbar": {
             "outlinewidth": 0,
             "ticks": ""
            },
            "colorscale": [
             [
              0,
              "#0d0887"
             ],
             [
              0.1111111111111111,
              "#46039f"
             ],
             [
              0.2222222222222222,
              "#7201a8"
             ],
             [
              0.3333333333333333,
              "#9c179e"
             ],
             [
              0.4444444444444444,
              "#bd3786"
             ],
             [
              0.5555555555555556,
              "#d8576b"
             ],
             [
              0.6666666666666666,
              "#ed7953"
             ],
             [
              0.7777777777777778,
              "#fb9f3a"
             ],
             [
              0.8888888888888888,
              "#fdca26"
             ],
             [
              1,
              "#f0f921"
             ]
            ],
            "type": "surface"
           }
          ],
          "table": [
           {
            "cells": {
             "fill": {
              "color": "#EBF0F8"
             },
             "line": {
              "color": "white"
             }
            },
            "header": {
             "fill": {
              "color": "#C8D4E3"
             },
             "line": {
              "color": "white"
             }
            },
            "type": "table"
           }
          ]
         },
         "layout": {
          "annotationdefaults": {
           "arrowcolor": "#2a3f5f",
           "arrowhead": 0,
           "arrowwidth": 1
          },
          "autotypenumbers": "strict",
          "coloraxis": {
           "colorbar": {
            "outlinewidth": 0,
            "ticks": ""
           }
          },
          "colorscale": {
           "diverging": [
            [
             0,
             "#8e0152"
            ],
            [
             0.1,
             "#c51b7d"
            ],
            [
             0.2,
             "#de77ae"
            ],
            [
             0.3,
             "#f1b6da"
            ],
            [
             0.4,
             "#fde0ef"
            ],
            [
             0.5,
             "#f7f7f7"
            ],
            [
             0.6,
             "#e6f5d0"
            ],
            [
             0.7,
             "#b8e186"
            ],
            [
             0.8,
             "#7fbc41"
            ],
            [
             0.9,
             "#4d9221"
            ],
            [
             1,
             "#276419"
            ]
           ],
           "sequential": [
            [
             0,
             "#0d0887"
            ],
            [
             0.1111111111111111,
             "#46039f"
            ],
            [
             0.2222222222222222,
             "#7201a8"
            ],
            [
             0.3333333333333333,
             "#9c179e"
            ],
            [
             0.4444444444444444,
             "#bd3786"
            ],
            [
             0.5555555555555556,
             "#d8576b"
            ],
            [
             0.6666666666666666,
             "#ed7953"
            ],
            [
             0.7777777777777778,
             "#fb9f3a"
            ],
            [
             0.8888888888888888,
             "#fdca26"
            ],
            [
             1,
             "#f0f921"
            ]
           ],
           "sequentialminus": [
            [
             0,
             "#0d0887"
            ],
            [
             0.1111111111111111,
             "#46039f"
            ],
            [
             0.2222222222222222,
             "#7201a8"
            ],
            [
             0.3333333333333333,
             "#9c179e"
            ],
            [
             0.4444444444444444,
             "#bd3786"
            ],
            [
             0.5555555555555556,
             "#d8576b"
            ],
            [
             0.6666666666666666,
             "#ed7953"
            ],
            [
             0.7777777777777778,
             "#fb9f3a"
            ],
            [
             0.8888888888888888,
             "#fdca26"
            ],
            [
             1,
             "#f0f921"
            ]
           ]
          },
          "colorway": [
           "#636efa",
           "#EF553B",
           "#00cc96",
           "#ab63fa",
           "#FFA15A",
           "#19d3f3",
           "#FF6692",
           "#B6E880",
           "#FF97FF",
           "#FECB52"
          ],
          "font": {
           "color": "#2a3f5f"
          },
          "geo": {
           "bgcolor": "white",
           "lakecolor": "white",
           "landcolor": "#E5ECF6",
           "showlakes": true,
           "showland": true,
           "subunitcolor": "white"
          },
          "hoverlabel": {
           "align": "left"
          },
          "hovermode": "closest",
          "mapbox": {
           "style": "light"
          },
          "paper_bgcolor": "white",
          "plot_bgcolor": "#E5ECF6",
          "polar": {
           "angularaxis": {
            "gridcolor": "white",
            "linecolor": "white",
            "ticks": ""
           },
           "bgcolor": "#E5ECF6",
           "radialaxis": {
            "gridcolor": "white",
            "linecolor": "white",
            "ticks": ""
           }
          },
          "scene": {
           "xaxis": {
            "backgroundcolor": "#E5ECF6",
            "gridcolor": "white",
            "gridwidth": 2,
            "linecolor": "white",
            "showbackground": true,
            "ticks": "",
            "zerolinecolor": "white"
           },
           "yaxis": {
            "backgroundcolor": "#E5ECF6",
            "gridcolor": "white",
            "gridwidth": 2,
            "linecolor": "white",
            "showbackground": true,
            "ticks": "",
            "zerolinecolor": "white"
           },
           "zaxis": {
            "backgroundcolor": "#E5ECF6",
            "gridcolor": "white",
            "gridwidth": 2,
            "linecolor": "white",
            "showbackground": true,
            "ticks": "",
            "zerolinecolor": "white"
           }
          },
          "shapedefaults": {
           "line": {
            "color": "#2a3f5f"
           }
          },
          "ternary": {
           "aaxis": {
            "gridcolor": "white",
            "linecolor": "white",
            "ticks": ""
           },
           "baxis": {
            "gridcolor": "white",
            "linecolor": "white",
            "ticks": ""
           },
           "bgcolor": "#E5ECF6",
           "caxis": {
            "gridcolor": "white",
            "linecolor": "white",
            "ticks": ""
           }
          },
          "title": {
           "x": 0.05
          },
          "xaxis": {
           "automargin": true,
           "gridcolor": "white",
           "linecolor": "white",
           "ticks": "",
           "title": {
            "standoff": 15
           },
           "zerolinecolor": "white",
           "zerolinewidth": 2
          },
          "yaxis": {
           "automargin": true,
           "gridcolor": "white",
           "linecolor": "white",
           "ticks": "",
           "title": {
            "standoff": 15
           },
           "zerolinecolor": "white",
           "zerolinewidth": 2
          }
         }
        },
        "title": {
         "text": "Eutrophication"
        }
       }
      }
     },
     "metadata": {},
     "output_type": "display_data"
    },
    {
     "data": {
      "application/vnd.plotly.v1+json": {
       "config": {
        "plotlyServerURL": "https://plot.ly"
       },
       "data": [
        {
         "labels": [
          "",
          "Non-vegan",
          "Vegan",
          "Barley (Beer)",
          "Cane Sugar",
          "Bovine Meat (beef herd)",
          "Bovine Meat (dairy herd)",
          "Lamb & Mutton",
          "Pig Meat",
          "Poultry Meat",
          "Milk",
          "Cheese",
          "Eggs",
          "Fish (farmed)",
          "Crustaceans (farmed)",
          "Wheat & Rye (Bread)",
          "Maize (Meal)",
          "Oatmeal",
          "Rice",
          "Potatoes",
          "Cassava",
          "Beet Sugar",
          "Other Pulses",
          "Peas",
          "Nuts",
          "Groundnuts",
          "Soymilk",
          "Tofu",
          "Soybean Oil",
          "Palm Oil",
          "Sunflower Oil",
          "Rapeseed Oil",
          "Olive Oil",
          "Tomatoes",
          "Onions & Leeks",
          "Root Vegetables",
          "Brassicas",
          "Other Vegetables",
          "Citrus Fruit",
          "Bananas",
          "Apples",
          "Berries & Grapes",
          "Wine",
          "Other Fruit",
          "Coffee",
          "Dark Chocolate"
         ],
         "marker": {
          "colors": [
           "darkgreen",
           "darkred",
           "darkgreen",
           "darkred"
          ]
         },
         "parents": [
          "",
          "",
          "",
          "Non-vegan",
          "Non-vegan",
          "Non-vegan",
          "Non-vegan",
          "Non-vegan",
          "Non-vegan",
          "Non-vegan",
          "Non-vegan",
          "Non-vegan",
          "Non-vegan",
          "Non-vegan",
          "Non-vegan",
          "Vegan",
          "Vegan",
          "Vegan",
          "Vegan",
          "Vegan",
          "Vegan",
          "Vegan",
          "Vegan",
          "Vegan",
          "Vegan",
          "Vegan",
          "Vegan",
          "Vegan",
          "Vegan",
          "Vegan",
          "Vegan",
          "Vegan",
          "Vegan",
          "Vegan",
          "Vegan",
          "Vegan",
          "Vegan",
          "Vegan",
          "Vegan",
          "Vegan",
          "Vegan",
          "Vegan",
          "Vegan",
          "Vegan",
          "Vegan",
          "Vegan"
         ],
         "type": "sunburst",
         "values": [
          0,
          0,
          0,
          17.1,
          620.1,
          1451.2,
          2714.3,
          1802.8,
          1795.8,
          660,
          628.2,
          5605.2,
          577.7,
          3691.3,
          3515.4,
          647.5,
          215.7,
          482.4,
          2248.4,
          59.1,
          0,
          217.7,
          435.7,
          396.6,
          4133.8,
          1852.3,
          27.8,
          148.6,
          414.6,
          6.4,
          1007.9,
          237.7,
          2141.8,
          369.8,
          14.3,
          28.4,
          119.4,
          102.5,
          82.7,
          114.5,
          180.1,
          419.6,
          78.9,
          153.5,
          25.9,
          540.6
         ]
        }
       ],
       "layout": {
        "template": {
         "data": {
          "bar": [
           {
            "error_x": {
             "color": "#2a3f5f"
            },
            "error_y": {
             "color": "#2a3f5f"
            },
            "marker": {
             "line": {
              "color": "#E5ECF6",
              "width": 0.5
             },
             "pattern": {
              "fillmode": "overlay",
              "size": 10,
              "solidity": 0.2
             }
            },
            "type": "bar"
           }
          ],
          "barpolar": [
           {
            "marker": {
             "line": {
              "color": "#E5ECF6",
              "width": 0.5
             },
             "pattern": {
              "fillmode": "overlay",
              "size": 10,
              "solidity": 0.2
             }
            },
            "type": "barpolar"
           }
          ],
          "carpet": [
           {
            "aaxis": {
             "endlinecolor": "#2a3f5f",
             "gridcolor": "white",
             "linecolor": "white",
             "minorgridcolor": "white",
             "startlinecolor": "#2a3f5f"
            },
            "baxis": {
             "endlinecolor": "#2a3f5f",
             "gridcolor": "white",
             "linecolor": "white",
             "minorgridcolor": "white",
             "startlinecolor": "#2a3f5f"
            },
            "type": "carpet"
           }
          ],
          "choropleth": [
           {
            "colorbar": {
             "outlinewidth": 0,
             "ticks": ""
            },
            "type": "choropleth"
           }
          ],
          "contour": [
           {
            "colorbar": {
             "outlinewidth": 0,
             "ticks": ""
            },
            "colorscale": [
             [
              0,
              "#0d0887"
             ],
             [
              0.1111111111111111,
              "#46039f"
             ],
             [
              0.2222222222222222,
              "#7201a8"
             ],
             [
              0.3333333333333333,
              "#9c179e"
             ],
             [
              0.4444444444444444,
              "#bd3786"
             ],
             [
              0.5555555555555556,
              "#d8576b"
             ],
             [
              0.6666666666666666,
              "#ed7953"
             ],
             [
              0.7777777777777778,
              "#fb9f3a"
             ],
             [
              0.8888888888888888,
              "#fdca26"
             ],
             [
              1,
              "#f0f921"
             ]
            ],
            "type": "contour"
           }
          ],
          "contourcarpet": [
           {
            "colorbar": {
             "outlinewidth": 0,
             "ticks": ""
            },
            "type": "contourcarpet"
           }
          ],
          "heatmap": [
           {
            "colorbar": {
             "outlinewidth": 0,
             "ticks": ""
            },
            "colorscale": [
             [
              0,
              "#0d0887"
             ],
             [
              0.1111111111111111,
              "#46039f"
             ],
             [
              0.2222222222222222,
              "#7201a8"
             ],
             [
              0.3333333333333333,
              "#9c179e"
             ],
             [
              0.4444444444444444,
              "#bd3786"
             ],
             [
              0.5555555555555556,
              "#d8576b"
             ],
             [
              0.6666666666666666,
              "#ed7953"
             ],
             [
              0.7777777777777778,
              "#fb9f3a"
             ],
             [
              0.8888888888888888,
              "#fdca26"
             ],
             [
              1,
              "#f0f921"
             ]
            ],
            "type": "heatmap"
           }
          ],
          "heatmapgl": [
           {
            "colorbar": {
             "outlinewidth": 0,
             "ticks": ""
            },
            "colorscale": [
             [
              0,
              "#0d0887"
             ],
             [
              0.1111111111111111,
              "#46039f"
             ],
             [
              0.2222222222222222,
              "#7201a8"
             ],
             [
              0.3333333333333333,
              "#9c179e"
             ],
             [
              0.4444444444444444,
              "#bd3786"
             ],
             [
              0.5555555555555556,
              "#d8576b"
             ],
             [
              0.6666666666666666,
              "#ed7953"
             ],
             [
              0.7777777777777778,
              "#fb9f3a"
             ],
             [
              0.8888888888888888,
              "#fdca26"
             ],
             [
              1,
              "#f0f921"
             ]
            ],
            "type": "heatmapgl"
           }
          ],
          "histogram": [
           {
            "marker": {
             "pattern": {
              "fillmode": "overlay",
              "size": 10,
              "solidity": 0.2
             }
            },
            "type": "histogram"
           }
          ],
          "histogram2d": [
           {
            "colorbar": {
             "outlinewidth": 0,
             "ticks": ""
            },
            "colorscale": [
             [
              0,
              "#0d0887"
             ],
             [
              0.1111111111111111,
              "#46039f"
             ],
             [
              0.2222222222222222,
              "#7201a8"
             ],
             [
              0.3333333333333333,
              "#9c179e"
             ],
             [
              0.4444444444444444,
              "#bd3786"
             ],
             [
              0.5555555555555556,
              "#d8576b"
             ],
             [
              0.6666666666666666,
              "#ed7953"
             ],
             [
              0.7777777777777778,
              "#fb9f3a"
             ],
             [
              0.8888888888888888,
              "#fdca26"
             ],
             [
              1,
              "#f0f921"
             ]
            ],
            "type": "histogram2d"
           }
          ],
          "histogram2dcontour": [
           {
            "colorbar": {
             "outlinewidth": 0,
             "ticks": ""
            },
            "colorscale": [
             [
              0,
              "#0d0887"
             ],
             [
              0.1111111111111111,
              "#46039f"
             ],
             [
              0.2222222222222222,
              "#7201a8"
             ],
             [
              0.3333333333333333,
              "#9c179e"
             ],
             [
              0.4444444444444444,
              "#bd3786"
             ],
             [
              0.5555555555555556,
              "#d8576b"
             ],
             [
              0.6666666666666666,
              "#ed7953"
             ],
             [
              0.7777777777777778,
              "#fb9f3a"
             ],
             [
              0.8888888888888888,
              "#fdca26"
             ],
             [
              1,
              "#f0f921"
             ]
            ],
            "type": "histogram2dcontour"
           }
          ],
          "mesh3d": [
           {
            "colorbar": {
             "outlinewidth": 0,
             "ticks": ""
            },
            "type": "mesh3d"
           }
          ],
          "parcoords": [
           {
            "line": {
             "colorbar": {
              "outlinewidth": 0,
              "ticks": ""
             }
            },
            "type": "parcoords"
           }
          ],
          "pie": [
           {
            "automargin": true,
            "type": "pie"
           }
          ],
          "scatter": [
           {
            "fillpattern": {
             "fillmode": "overlay",
             "size": 10,
             "solidity": 0.2
            },
            "type": "scatter"
           }
          ],
          "scatter3d": [
           {
            "line": {
             "colorbar": {
              "outlinewidth": 0,
              "ticks": ""
             }
            },
            "marker": {
             "colorbar": {
              "outlinewidth": 0,
              "ticks": ""
             }
            },
            "type": "scatter3d"
           }
          ],
          "scattercarpet": [
           {
            "marker": {
             "colorbar": {
              "outlinewidth": 0,
              "ticks": ""
             }
            },
            "type": "scattercarpet"
           }
          ],
          "scattergeo": [
           {
            "marker": {
             "colorbar": {
              "outlinewidth": 0,
              "ticks": ""
             }
            },
            "type": "scattergeo"
           }
          ],
          "scattergl": [
           {
            "marker": {
             "colorbar": {
              "outlinewidth": 0,
              "ticks": ""
             }
            },
            "type": "scattergl"
           }
          ],
          "scattermapbox": [
           {
            "marker": {
             "colorbar": {
              "outlinewidth": 0,
              "ticks": ""
             }
            },
            "type": "scattermapbox"
           }
          ],
          "scatterpolar": [
           {
            "marker": {
             "colorbar": {
              "outlinewidth": 0,
              "ticks": ""
             }
            },
            "type": "scatterpolar"
           }
          ],
          "scatterpolargl": [
           {
            "marker": {
             "colorbar": {
              "outlinewidth": 0,
              "ticks": ""
             }
            },
            "type": "scatterpolargl"
           }
          ],
          "scatterternary": [
           {
            "marker": {
             "colorbar": {
              "outlinewidth": 0,
              "ticks": ""
             }
            },
            "type": "scatterternary"
           }
          ],
          "surface": [
           {
            "colorbar": {
             "outlinewidth": 0,
             "ticks": ""
            },
            "colorscale": [
             [
              0,
              "#0d0887"
             ],
             [
              0.1111111111111111,
              "#46039f"
             ],
             [
              0.2222222222222222,
              "#7201a8"
             ],
             [
              0.3333333333333333,
              "#9c179e"
             ],
             [
              0.4444444444444444,
              "#bd3786"
             ],
             [
              0.5555555555555556,
              "#d8576b"
             ],
             [
              0.6666666666666666,
              "#ed7953"
             ],
             [
              0.7777777777777778,
              "#fb9f3a"
             ],
             [
              0.8888888888888888,
              "#fdca26"
             ],
             [
              1,
              "#f0f921"
             ]
            ],
            "type": "surface"
           }
          ],
          "table": [
           {
            "cells": {
             "fill": {
              "color": "#EBF0F8"
             },
             "line": {
              "color": "white"
             }
            },
            "header": {
             "fill": {
              "color": "#C8D4E3"
             },
             "line": {
              "color": "white"
             }
            },
            "type": "table"
           }
          ]
         },
         "layout": {
          "annotationdefaults": {
           "arrowcolor": "#2a3f5f",
           "arrowhead": 0,
           "arrowwidth": 1
          },
          "autotypenumbers": "strict",
          "coloraxis": {
           "colorbar": {
            "outlinewidth": 0,
            "ticks": ""
           }
          },
          "colorscale": {
           "diverging": [
            [
             0,
             "#8e0152"
            ],
            [
             0.1,
             "#c51b7d"
            ],
            [
             0.2,
             "#de77ae"
            ],
            [
             0.3,
             "#f1b6da"
            ],
            [
             0.4,
             "#fde0ef"
            ],
            [
             0.5,
             "#f7f7f7"
            ],
            [
             0.6,
             "#e6f5d0"
            ],
            [
             0.7,
             "#b8e186"
            ],
            [
             0.8,
             "#7fbc41"
            ],
            [
             0.9,
             "#4d9221"
            ],
            [
             1,
             "#276419"
            ]
           ],
           "sequential": [
            [
             0,
             "#0d0887"
            ],
            [
             0.1111111111111111,
             "#46039f"
            ],
            [
             0.2222222222222222,
             "#7201a8"
            ],
            [
             0.3333333333333333,
             "#9c179e"
            ],
            [
             0.4444444444444444,
             "#bd3786"
            ],
            [
             0.5555555555555556,
             "#d8576b"
            ],
            [
             0.6666666666666666,
             "#ed7953"
            ],
            [
             0.7777777777777778,
             "#fb9f3a"
            ],
            [
             0.8888888888888888,
             "#fdca26"
            ],
            [
             1,
             "#f0f921"
            ]
           ],
           "sequentialminus": [
            [
             0,
             "#0d0887"
            ],
            [
             0.1111111111111111,
             "#46039f"
            ],
            [
             0.2222222222222222,
             "#7201a8"
            ],
            [
             0.3333333333333333,
             "#9c179e"
            ],
            [
             0.4444444444444444,
             "#bd3786"
            ],
            [
             0.5555555555555556,
             "#d8576b"
            ],
            [
             0.6666666666666666,
             "#ed7953"
            ],
            [
             0.7777777777777778,
             "#fb9f3a"
            ],
            [
             0.8888888888888888,
             "#fdca26"
            ],
            [
             1,
             "#f0f921"
            ]
           ]
          },
          "colorway": [
           "#636efa",
           "#EF553B",
           "#00cc96",
           "#ab63fa",
           "#FFA15A",
           "#19d3f3",
           "#FF6692",
           "#B6E880",
           "#FF97FF",
           "#FECB52"
          ],
          "font": {
           "color": "#2a3f5f"
          },
          "geo": {
           "bgcolor": "white",
           "lakecolor": "white",
           "landcolor": "#E5ECF6",
           "showlakes": true,
           "showland": true,
           "subunitcolor": "white"
          },
          "hoverlabel": {
           "align": "left"
          },
          "hovermode": "closest",
          "mapbox": {
           "style": "light"
          },
          "paper_bgcolor": "white",
          "plot_bgcolor": "#E5ECF6",
          "polar": {
           "angularaxis": {
            "gridcolor": "white",
            "linecolor": "white",
            "ticks": ""
           },
           "bgcolor": "#E5ECF6",
           "radialaxis": {
            "gridcolor": "white",
            "linecolor": "white",
            "ticks": ""
           }
          },
          "scene": {
           "xaxis": {
            "backgroundcolor": "#E5ECF6",
            "gridcolor": "white",
            "gridwidth": 2,
            "linecolor": "white",
            "showbackground": true,
            "ticks": "",
            "zerolinecolor": "white"
           },
           "yaxis": {
            "backgroundcolor": "#E5ECF6",
            "gridcolor": "white",
            "gridwidth": 2,
            "linecolor": "white",
            "showbackground": true,
            "ticks": "",
            "zerolinecolor": "white"
           },
           "zaxis": {
            "backgroundcolor": "#E5ECF6",
            "gridcolor": "white",
            "gridwidth": 2,
            "linecolor": "white",
            "showbackground": true,
            "ticks": "",
            "zerolinecolor": "white"
           }
          },
          "shapedefaults": {
           "line": {
            "color": "#2a3f5f"
           }
          },
          "ternary": {
           "aaxis": {
            "gridcolor": "white",
            "linecolor": "white",
            "ticks": ""
           },
           "baxis": {
            "gridcolor": "white",
            "linecolor": "white",
            "ticks": ""
           },
           "bgcolor": "#E5ECF6",
           "caxis": {
            "gridcolor": "white",
            "linecolor": "white",
            "ticks": ""
           }
          },
          "title": {
           "x": 0.05
          },
          "xaxis": {
           "automargin": true,
           "gridcolor": "white",
           "linecolor": "white",
           "ticks": "",
           "title": {
            "standoff": 15
           },
           "zerolinecolor": "white",
           "zerolinewidth": 2
          },
          "yaxis": {
           "automargin": true,
           "gridcolor": "white",
           "linecolor": "white",
           "ticks": "",
           "title": {
            "standoff": 15
           },
           "zerolinecolor": "white",
           "zerolinewidth": 2
          }
         }
        },
        "title": {
         "text": "Fresh Water Withdrawal"
        }
       }
      }
     },
     "metadata": {},
     "output_type": "display_data"
    },
    {
     "data": {
      "application/vnd.plotly.v1+json": {
       "config": {
        "plotlyServerURL": "https://plot.ly"
       },
       "data": [
        {
         "labels": [
          "",
          "Non-vegan",
          "Vegan",
          "Barley (Beer)",
          "Cane Sugar",
          "Bovine Meat (beef herd)",
          "Bovine Meat (dairy herd)",
          "Lamb & Mutton",
          "Pig Meat",
          "Poultry Meat",
          "Milk",
          "Cheese",
          "Eggs",
          "Fish (farmed)",
          "Crustaceans (farmed)",
          "Wheat & Rye (Bread)",
          "Maize (Meal)",
          "Oatmeal",
          "Rice",
          "Potatoes",
          "Cassava",
          "Beet Sugar",
          "Other Pulses",
          "Peas",
          "Nuts",
          "Groundnuts",
          "Soymilk",
          "Tofu",
          "Soybean Oil",
          "Palm Oil",
          "Sunflower Oil",
          "Rapeseed Oil",
          "Olive Oil",
          "Tomatoes",
          "Onions & Leeks",
          "Root Vegetables",
          "Brassicas",
          "Other Vegetables",
          "Citrus Fruit",
          "Bananas",
          "Apples",
          "Berries & Grapes",
          "Wine",
          "Other Fruit",
          "Coffee",
          "Dark Chocolate"
         ],
         "marker": {
          "colors": [
           "darkgreen",
           "darkred",
           "darkgreen",
           "darkred"
          ]
         },
         "parents": [
          "",
          "",
          "",
          "Non-vegan",
          "Non-vegan",
          "Non-vegan",
          "Non-vegan",
          "Non-vegan",
          "Non-vegan",
          "Non-vegan",
          "Non-vegan",
          "Non-vegan",
          "Non-vegan",
          "Non-vegan",
          "Non-vegan",
          "Vegan",
          "Vegan",
          "Vegan",
          "Vegan",
          "Vegan",
          "Vegan",
          "Vegan",
          "Vegan",
          "Vegan",
          "Vegan",
          "Vegan",
          "Vegan",
          "Vegan",
          "Vegan",
          "Vegan",
          "Vegan",
          "Vegan",
          "Vegan",
          "Vegan",
          "Vegan",
          "Vegan",
          "Vegan",
          "Vegan",
          "Vegan",
          "Vegan",
          "Vegan",
          "Vegan",
          "Vegan",
          "Vegan",
          "Vegan",
          "Vegan"
         ],
         "type": "sunburst",
         "values": [
          0,
          0,
          0,
          696.4,
          16438.6,
          34732.5,
          119805.2,
          141925,
          66867.4,
          14177.9,
          19786.3,
          180850.6,
          17982.7,
          41572.2,
          127259,
          33385.6,
          10863.3,
          18786.2,
          49576.3,
          2754.2,
          0,
          9493.3,
          22477.4,
          27948.2,
          229889.8,
          61797.9,
          955.6,
          5113.2,
          14888.2,
          36.2,
          36369.4,
          10593.7,
          177480.2,
          5335.7,
          932,
          929.2,
          8455.1,
          4911.4,
          4662.7,
          661.9,
          12948.6,
          21162.1,
          1149.3,
          9533.1,
          337,
          2879.2
         ]
        }
       ],
       "layout": {
        "template": {
         "data": {
          "bar": [
           {
            "error_x": {
             "color": "#2a3f5f"
            },
            "error_y": {
             "color": "#2a3f5f"
            },
            "marker": {
             "line": {
              "color": "#E5ECF6",
              "width": 0.5
             },
             "pattern": {
              "fillmode": "overlay",
              "size": 10,
              "solidity": 0.2
             }
            },
            "type": "bar"
           }
          ],
          "barpolar": [
           {
            "marker": {
             "line": {
              "color": "#E5ECF6",
              "width": 0.5
             },
             "pattern": {
              "fillmode": "overlay",
              "size": 10,
              "solidity": 0.2
             }
            },
            "type": "barpolar"
           }
          ],
          "carpet": [
           {
            "aaxis": {
             "endlinecolor": "#2a3f5f",
             "gridcolor": "white",
             "linecolor": "white",
             "minorgridcolor": "white",
             "startlinecolor": "#2a3f5f"
            },
            "baxis": {
             "endlinecolor": "#2a3f5f",
             "gridcolor": "white",
             "linecolor": "white",
             "minorgridcolor": "white",
             "startlinecolor": "#2a3f5f"
            },
            "type": "carpet"
           }
          ],
          "choropleth": [
           {
            "colorbar": {
             "outlinewidth": 0,
             "ticks": ""
            },
            "type": "choropleth"
           }
          ],
          "contour": [
           {
            "colorbar": {
             "outlinewidth": 0,
             "ticks": ""
            },
            "colorscale": [
             [
              0,
              "#0d0887"
             ],
             [
              0.1111111111111111,
              "#46039f"
             ],
             [
              0.2222222222222222,
              "#7201a8"
             ],
             [
              0.3333333333333333,
              "#9c179e"
             ],
             [
              0.4444444444444444,
              "#bd3786"
             ],
             [
              0.5555555555555556,
              "#d8576b"
             ],
             [
              0.6666666666666666,
              "#ed7953"
             ],
             [
              0.7777777777777778,
              "#fb9f3a"
             ],
             [
              0.8888888888888888,
              "#fdca26"
             ],
             [
              1,
              "#f0f921"
             ]
            ],
            "type": "contour"
           }
          ],
          "contourcarpet": [
           {
            "colorbar": {
             "outlinewidth": 0,
             "ticks": ""
            },
            "type": "contourcarpet"
           }
          ],
          "heatmap": [
           {
            "colorbar": {
             "outlinewidth": 0,
             "ticks": ""
            },
            "colorscale": [
             [
              0,
              "#0d0887"
             ],
             [
              0.1111111111111111,
              "#46039f"
             ],
             [
              0.2222222222222222,
              "#7201a8"
             ],
             [
              0.3333333333333333,
              "#9c179e"
             ],
             [
              0.4444444444444444,
              "#bd3786"
             ],
             [
              0.5555555555555556,
              "#d8576b"
             ],
             [
              0.6666666666666666,
              "#ed7953"
             ],
             [
              0.7777777777777778,
              "#fb9f3a"
             ],
             [
              0.8888888888888888,
              "#fdca26"
             ],
             [
              1,
              "#f0f921"
             ]
            ],
            "type": "heatmap"
           }
          ],
          "heatmapgl": [
           {
            "colorbar": {
             "outlinewidth": 0,
             "ticks": ""
            },
            "colorscale": [
             [
              0,
              "#0d0887"
             ],
             [
              0.1111111111111111,
              "#46039f"
             ],
             [
              0.2222222222222222,
              "#7201a8"
             ],
             [
              0.3333333333333333,
              "#9c179e"
             ],
             [
              0.4444444444444444,
              "#bd3786"
             ],
             [
              0.5555555555555556,
              "#d8576b"
             ],
             [
              0.6666666666666666,
              "#ed7953"
             ],
             [
              0.7777777777777778,
              "#fb9f3a"
             ],
             [
              0.8888888888888888,
              "#fdca26"
             ],
             [
              1,
              "#f0f921"
             ]
            ],
            "type": "heatmapgl"
           }
          ],
          "histogram": [
           {
            "marker": {
             "pattern": {
              "fillmode": "overlay",
              "size": 10,
              "solidity": 0.2
             }
            },
            "type": "histogram"
           }
          ],
          "histogram2d": [
           {
            "colorbar": {
             "outlinewidth": 0,
             "ticks": ""
            },
            "colorscale": [
             [
              0,
              "#0d0887"
             ],
             [
              0.1111111111111111,
              "#46039f"
             ],
             [
              0.2222222222222222,
              "#7201a8"
             ],
             [
              0.3333333333333333,
              "#9c179e"
             ],
             [
              0.4444444444444444,
              "#bd3786"
             ],
             [
              0.5555555555555556,
              "#d8576b"
             ],
             [
              0.6666666666666666,
              "#ed7953"
             ],
             [
              0.7777777777777778,
              "#fb9f3a"
             ],
             [
              0.8888888888888888,
              "#fdca26"
             ],
             [
              1,
              "#f0f921"
             ]
            ],
            "type": "histogram2d"
           }
          ],
          "histogram2dcontour": [
           {
            "colorbar": {
             "outlinewidth": 0,
             "ticks": ""
            },
            "colorscale": [
             [
              0,
              "#0d0887"
             ],
             [
              0.1111111111111111,
              "#46039f"
             ],
             [
              0.2222222222222222,
              "#7201a8"
             ],
             [
              0.3333333333333333,
              "#9c179e"
             ],
             [
              0.4444444444444444,
              "#bd3786"
             ],
             [
              0.5555555555555556,
              "#d8576b"
             ],
             [
              0.6666666666666666,
              "#ed7953"
             ],
             [
              0.7777777777777778,
              "#fb9f3a"
             ],
             [
              0.8888888888888888,
              "#fdca26"
             ],
             [
              1,
              "#f0f921"
             ]
            ],
            "type": "histogram2dcontour"
           }
          ],
          "mesh3d": [
           {
            "colorbar": {
             "outlinewidth": 0,
             "ticks": ""
            },
            "type": "mesh3d"
           }
          ],
          "parcoords": [
           {
            "line": {
             "colorbar": {
              "outlinewidth": 0,
              "ticks": ""
             }
            },
            "type": "parcoords"
           }
          ],
          "pie": [
           {
            "automargin": true,
            "type": "pie"
           }
          ],
          "scatter": [
           {
            "fillpattern": {
             "fillmode": "overlay",
             "size": 10,
             "solidity": 0.2
            },
            "type": "scatter"
           }
          ],
          "scatter3d": [
           {
            "line": {
             "colorbar": {
              "outlinewidth": 0,
              "ticks": ""
             }
            },
            "marker": {
             "colorbar": {
              "outlinewidth": 0,
              "ticks": ""
             }
            },
            "type": "scatter3d"
           }
          ],
          "scattercarpet": [
           {
            "marker": {
             "colorbar": {
              "outlinewidth": 0,
              "ticks": ""
             }
            },
            "type": "scattercarpet"
           }
          ],
          "scattergeo": [
           {
            "marker": {
             "colorbar": {
              "outlinewidth": 0,
              "ticks": ""
             }
            },
            "type": "scattergeo"
           }
          ],
          "scattergl": [
           {
            "marker": {
             "colorbar": {
              "outlinewidth": 0,
              "ticks": ""
             }
            },
            "type": "scattergl"
           }
          ],
          "scattermapbox": [
           {
            "marker": {
             "colorbar": {
              "outlinewidth": 0,
              "ticks": ""
             }
            },
            "type": "scattermapbox"
           }
          ],
          "scatterpolar": [
           {
            "marker": {
             "colorbar": {
              "outlinewidth": 0,
              "ticks": ""
             }
            },
            "type": "scatterpolar"
           }
          ],
          "scatterpolargl": [
           {
            "marker": {
             "colorbar": {
              "outlinewidth": 0,
              "ticks": ""
             }
            },
            "type": "scatterpolargl"
           }
          ],
          "scatterternary": [
           {
            "marker": {
             "colorbar": {
              "outlinewidth": 0,
              "ticks": ""
             }
            },
            "type": "scatterternary"
           }
          ],
          "surface": [
           {
            "colorbar": {
             "outlinewidth": 0,
             "ticks": ""
            },
            "colorscale": [
             [
              0,
              "#0d0887"
             ],
             [
              0.1111111111111111,
              "#46039f"
             ],
             [
              0.2222222222222222,
              "#7201a8"
             ],
             [
              0.3333333333333333,
              "#9c179e"
             ],
             [
              0.4444444444444444,
              "#bd3786"
             ],
             [
              0.5555555555555556,
              "#d8576b"
             ],
             [
              0.6666666666666666,
              "#ed7953"
             ],
             [
              0.7777777777777778,
              "#fb9f3a"
             ],
             [
              0.8888888888888888,
              "#fdca26"
             ],
             [
              1,
              "#f0f921"
             ]
            ],
            "type": "surface"
           }
          ],
          "table": [
           {
            "cells": {
             "fill": {
              "color": "#EBF0F8"
             },
             "line": {
              "color": "white"
             }
            },
            "header": {
             "fill": {
              "color": "#C8D4E3"
             },
             "line": {
              "color": "white"
             }
            },
            "type": "table"
           }
          ]
         },
         "layout": {
          "annotationdefaults": {
           "arrowcolor": "#2a3f5f",
           "arrowhead": 0,
           "arrowwidth": 1
          },
          "autotypenumbers": "strict",
          "coloraxis": {
           "colorbar": {
            "outlinewidth": 0,
            "ticks": ""
           }
          },
          "colorscale": {
           "diverging": [
            [
             0,
             "#8e0152"
            ],
            [
             0.1,
             "#c51b7d"
            ],
            [
             0.2,
             "#de77ae"
            ],
            [
             0.3,
             "#f1b6da"
            ],
            [
             0.4,
             "#fde0ef"
            ],
            [
             0.5,
             "#f7f7f7"
            ],
            [
             0.6,
             "#e6f5d0"
            ],
            [
             0.7,
             "#b8e186"
            ],
            [
             0.8,
             "#7fbc41"
            ],
            [
             0.9,
             "#4d9221"
            ],
            [
             1,
             "#276419"
            ]
           ],
           "sequential": [
            [
             0,
             "#0d0887"
            ],
            [
             0.1111111111111111,
             "#46039f"
            ],
            [
             0.2222222222222222,
             "#7201a8"
            ],
            [
             0.3333333333333333,
             "#9c179e"
            ],
            [
             0.4444444444444444,
             "#bd3786"
            ],
            [
             0.5555555555555556,
             "#d8576b"
            ],
            [
             0.6666666666666666,
             "#ed7953"
            ],
            [
             0.7777777777777778,
             "#fb9f3a"
            ],
            [
             0.8888888888888888,
             "#fdca26"
            ],
            [
             1,
             "#f0f921"
            ]
           ],
           "sequentialminus": [
            [
             0,
             "#0d0887"
            ],
            [
             0.1111111111111111,
             "#46039f"
            ],
            [
             0.2222222222222222,
             "#7201a8"
            ],
            [
             0.3333333333333333,
             "#9c179e"
            ],
            [
             0.4444444444444444,
             "#bd3786"
            ],
            [
             0.5555555555555556,
             "#d8576b"
            ],
            [
             0.6666666666666666,
             "#ed7953"
            ],
            [
             0.7777777777777778,
             "#fb9f3a"
            ],
            [
             0.8888888888888888,
             "#fdca26"
            ],
            [
             1,
             "#f0f921"
            ]
           ]
          },
          "colorway": [
           "#636efa",
           "#EF553B",
           "#00cc96",
           "#ab63fa",
           "#FFA15A",
           "#19d3f3",
           "#FF6692",
           "#B6E880",
           "#FF97FF",
           "#FECB52"
          ],
          "font": {
           "color": "#2a3f5f"
          },
          "geo": {
           "bgcolor": "white",
           "lakecolor": "white",
           "landcolor": "#E5ECF6",
           "showlakes": true,
           "showland": true,
           "subunitcolor": "white"
          },
          "hoverlabel": {
           "align": "left"
          },
          "hovermode": "closest",
          "mapbox": {
           "style": "light"
          },
          "paper_bgcolor": "white",
          "plot_bgcolor": "#E5ECF6",
          "polar": {
           "angularaxis": {
            "gridcolor": "white",
            "linecolor": "white",
            "ticks": ""
           },
           "bgcolor": "#E5ECF6",
           "radialaxis": {
            "gridcolor": "white",
            "linecolor": "white",
            "ticks": ""
           }
          },
          "scene": {
           "xaxis": {
            "backgroundcolor": "#E5ECF6",
            "gridcolor": "white",
            "gridwidth": 2,
            "linecolor": "white",
            "showbackground": true,
            "ticks": "",
            "zerolinecolor": "white"
           },
           "yaxis": {
            "backgroundcolor": "#E5ECF6",
            "gridcolor": "white",
            "gridwidth": 2,
            "linecolor": "white",
            "showbackground": true,
            "ticks": "",
            "zerolinecolor": "white"
           },
           "zaxis": {
            "backgroundcolor": "#E5ECF6",
            "gridcolor": "white",
            "gridwidth": 2,
            "linecolor": "white",
            "showbackground": true,
            "ticks": "",
            "zerolinecolor": "white"
           }
          },
          "shapedefaults": {
           "line": {
            "color": "#2a3f5f"
           }
          },
          "ternary": {
           "aaxis": {
            "gridcolor": "white",
            "linecolor": "white",
            "ticks": ""
           },
           "baxis": {
            "gridcolor": "white",
            "linecolor": "white",
            "ticks": ""
           },
           "bgcolor": "#E5ECF6",
           "caxis": {
            "gridcolor": "white",
            "linecolor": "white",
            "ticks": ""
           }
          },
          "title": {
           "x": 0.05
          },
          "xaxis": {
           "automargin": true,
           "gridcolor": "white",
           "linecolor": "white",
           "ticks": "",
           "title": {
            "standoff": 15
           },
           "zerolinecolor": "white",
           "zerolinewidth": 2
          },
          "yaxis": {
           "automargin": true,
           "gridcolor": "white",
           "linecolor": "white",
           "ticks": "",
           "title": {
            "standoff": 15
           },
           "zerolinecolor": "white",
           "zerolinewidth": 2
          }
         }
        },
        "title": {
         "text": "Stress Water Use"
        }
       }
      }
     },
     "metadata": {},
     "output_type": "display_data"
    }
   ],
   "source": [
    "import plotly.graph_objects as go\n",
    "\n",
    "def create_sunburst_figure(title, values):\n",
    "    colors = ['darkgreen', 'darkred'] * 2  \n",
    "    fig = go.Figure(go.Sunburst(\n",
    "        labels=labels,\n",
    "        parents=parents,\n",
    "        values=values,\n",
    "        marker=dict(colors=colors),\n",
    "    ))\n",
    "    \n",
    "    fig.update_layout(title=title)\n",
    "    fig.show()\n",
    "categories = ['Land use', 'GHG emission 2013', 'GHG emission 2007', 'Acidification', 'Eutrophication', 'Fresh Water Withdrawal', 'Stress Water Use']\n",
    "\n",
    "labels = [\"\", \"Non-vegan\", \"Vegan\"] + list(df_non_vegan_products[\"Product\"]) + list(df_vegan_products[\"Product\"])\n",
    "parents = [\"\", \"\", \"\"] + [\"Non-vegan\"] * len(df_non_vegan_products) + [\"Vegan\"] * len(df_vegan_products)\n",
    "\n",
    "# Land use\n",
    "values = [0] * 3 + list(df_non_vegan_products_land_use[\"Mean\"]) + list(df_vegan_products_land_use[\"Mean\"])\n",
    "create_sunburst_figure(\"Land use\", values)\n",
    "\n",
    "# GHG emission 2013\n",
    "values = [0] * 3 + list(df_non_vegan_products_ghg_2013[\"Mean.1\"]) + list(df_vegan_products_ghg_2013[\"Mean.1\"])\n",
    "create_sunburst_figure(\"GHG emission 2013\", values)\n",
    "\n",
    "# GHG emission 2007\n",
    "values = [0] * 3 + list(df_non_vegan_products_ghg_2007[\"Mean.2\"]) + list(df_vegan_products_ghg_2007[\"Mean.2\"])\n",
    "create_sunburst_figure(\"GHG emission 2007\", values)\n",
    "\n",
    "# Acidification\n",
    "values = [0] * 3 + list(df_non_vegan_products_acid[\"Mean.3\"]) + list(df_vegan_products_acid[\"Mean.3\"])\n",
    "create_sunburst_figure(\"Acidification\", values)\n",
    "\n",
    "# Eutrophication\n",
    "values = [0] * 3 + list(df_non_vegan_products_eutro[\"Mean.4\"]) + list(df_vegan_products_eutro[\"Mean.4\"])\n",
    "create_sunburst_figure(\"Eutrophication\", values)\n",
    "\n",
    "# Fresh Water Withdrawal\n",
    "values = [0] * 3 + list(df_non_vegan_products_fresh_water_withdraw[\"Mean.5\"]) + list(df_vegan_products_fresh_water_withdraw[\"Mean.5\"])\n",
    "create_sunburst_figure(\"Fresh Water Withdrawal\", values)\n",
    "\n",
    "# Stress Water Use\n",
    "values = [0] * 3 + list(df_non_vegan_products_stress_water_use[\"Mean.6\"]) + list(df_vegan_products_stress_water_use[\"Mean.6\"])\n",
    "create_sunburst_figure(\"Stress Water Use\", values)\n"
   ]
  },
  {
   "cell_type": "code",
   "execution_count": 23,
   "id": "b599d14c",
   "metadata": {},
   "outputs": [
    {
     "data": {
      "application/vnd.plotly.v1+json": {
       "config": {
        "plotlyServerURL": "https://plot.ly"
       },
       "data": [
        {
         "marker": {
          "color": [
           "darkgreen",
           "darkred"
          ]
         },
         "name": "Land use",
         "type": "bar",
         "x": [
          "Vegan",
          "Non-vegan"
         ],
         "y": [
          240.06,
          886.38
         ]
        }
       ],
       "layout": {
        "template": {
         "data": {
          "bar": [
           {
            "error_x": {
             "color": "#2a3f5f"
            },
            "error_y": {
             "color": "#2a3f5f"
            },
            "marker": {
             "line": {
              "color": "#E5ECF6",
              "width": 0.5
             },
             "pattern": {
              "fillmode": "overlay",
              "size": 10,
              "solidity": 0.2
             }
            },
            "type": "bar"
           }
          ],
          "barpolar": [
           {
            "marker": {
             "line": {
              "color": "#E5ECF6",
              "width": 0.5
             },
             "pattern": {
              "fillmode": "overlay",
              "size": 10,
              "solidity": 0.2
             }
            },
            "type": "barpolar"
           }
          ],
          "carpet": [
           {
            "aaxis": {
             "endlinecolor": "#2a3f5f",
             "gridcolor": "white",
             "linecolor": "white",
             "minorgridcolor": "white",
             "startlinecolor": "#2a3f5f"
            },
            "baxis": {
             "endlinecolor": "#2a3f5f",
             "gridcolor": "white",
             "linecolor": "white",
             "minorgridcolor": "white",
             "startlinecolor": "#2a3f5f"
            },
            "type": "carpet"
           }
          ],
          "choropleth": [
           {
            "colorbar": {
             "outlinewidth": 0,
             "ticks": ""
            },
            "type": "choropleth"
           }
          ],
          "contour": [
           {
            "colorbar": {
             "outlinewidth": 0,
             "ticks": ""
            },
            "colorscale": [
             [
              0,
              "#0d0887"
             ],
             [
              0.1111111111111111,
              "#46039f"
             ],
             [
              0.2222222222222222,
              "#7201a8"
             ],
             [
              0.3333333333333333,
              "#9c179e"
             ],
             [
              0.4444444444444444,
              "#bd3786"
             ],
             [
              0.5555555555555556,
              "#d8576b"
             ],
             [
              0.6666666666666666,
              "#ed7953"
             ],
             [
              0.7777777777777778,
              "#fb9f3a"
             ],
             [
              0.8888888888888888,
              "#fdca26"
             ],
             [
              1,
              "#f0f921"
             ]
            ],
            "type": "contour"
           }
          ],
          "contourcarpet": [
           {
            "colorbar": {
             "outlinewidth": 0,
             "ticks": ""
            },
            "type": "contourcarpet"
           }
          ],
          "heatmap": [
           {
            "colorbar": {
             "outlinewidth": 0,
             "ticks": ""
            },
            "colorscale": [
             [
              0,
              "#0d0887"
             ],
             [
              0.1111111111111111,
              "#46039f"
             ],
             [
              0.2222222222222222,
              "#7201a8"
             ],
             [
              0.3333333333333333,
              "#9c179e"
             ],
             [
              0.4444444444444444,
              "#bd3786"
             ],
             [
              0.5555555555555556,
              "#d8576b"
             ],
             [
              0.6666666666666666,
              "#ed7953"
             ],
             [
              0.7777777777777778,
              "#fb9f3a"
             ],
             [
              0.8888888888888888,
              "#fdca26"
             ],
             [
              1,
              "#f0f921"
             ]
            ],
            "type": "heatmap"
           }
          ],
          "heatmapgl": [
           {
            "colorbar": {
             "outlinewidth": 0,
             "ticks": ""
            },
            "colorscale": [
             [
              0,
              "#0d0887"
             ],
             [
              0.1111111111111111,
              "#46039f"
             ],
             [
              0.2222222222222222,
              "#7201a8"
             ],
             [
              0.3333333333333333,
              "#9c179e"
             ],
             [
              0.4444444444444444,
              "#bd3786"
             ],
             [
              0.5555555555555556,
              "#d8576b"
             ],
             [
              0.6666666666666666,
              "#ed7953"
             ],
             [
              0.7777777777777778,
              "#fb9f3a"
             ],
             [
              0.8888888888888888,
              "#fdca26"
             ],
             [
              1,
              "#f0f921"
             ]
            ],
            "type": "heatmapgl"
           }
          ],
          "histogram": [
           {
            "marker": {
             "pattern": {
              "fillmode": "overlay",
              "size": 10,
              "solidity": 0.2
             }
            },
            "type": "histogram"
           }
          ],
          "histogram2d": [
           {
            "colorbar": {
             "outlinewidth": 0,
             "ticks": ""
            },
            "colorscale": [
             [
              0,
              "#0d0887"
             ],
             [
              0.1111111111111111,
              "#46039f"
             ],
             [
              0.2222222222222222,
              "#7201a8"
             ],
             [
              0.3333333333333333,
              "#9c179e"
             ],
             [
              0.4444444444444444,
              "#bd3786"
             ],
             [
              0.5555555555555556,
              "#d8576b"
             ],
             [
              0.6666666666666666,
              "#ed7953"
             ],
             [
              0.7777777777777778,
              "#fb9f3a"
             ],
             [
              0.8888888888888888,
              "#fdca26"
             ],
             [
              1,
              "#f0f921"
             ]
            ],
            "type": "histogram2d"
           }
          ],
          "histogram2dcontour": [
           {
            "colorbar": {
             "outlinewidth": 0,
             "ticks": ""
            },
            "colorscale": [
             [
              0,
              "#0d0887"
             ],
             [
              0.1111111111111111,
              "#46039f"
             ],
             [
              0.2222222222222222,
              "#7201a8"
             ],
             [
              0.3333333333333333,
              "#9c179e"
             ],
             [
              0.4444444444444444,
              "#bd3786"
             ],
             [
              0.5555555555555556,
              "#d8576b"
             ],
             [
              0.6666666666666666,
              "#ed7953"
             ],
             [
              0.7777777777777778,
              "#fb9f3a"
             ],
             [
              0.8888888888888888,
              "#fdca26"
             ],
             [
              1,
              "#f0f921"
             ]
            ],
            "type": "histogram2dcontour"
           }
          ],
          "mesh3d": [
           {
            "colorbar": {
             "outlinewidth": 0,
             "ticks": ""
            },
            "type": "mesh3d"
           }
          ],
          "parcoords": [
           {
            "line": {
             "colorbar": {
              "outlinewidth": 0,
              "ticks": ""
             }
            },
            "type": "parcoords"
           }
          ],
          "pie": [
           {
            "automargin": true,
            "type": "pie"
           }
          ],
          "scatter": [
           {
            "fillpattern": {
             "fillmode": "overlay",
             "size": 10,
             "solidity": 0.2
            },
            "type": "scatter"
           }
          ],
          "scatter3d": [
           {
            "line": {
             "colorbar": {
              "outlinewidth": 0,
              "ticks": ""
             }
            },
            "marker": {
             "colorbar": {
              "outlinewidth": 0,
              "ticks": ""
             }
            },
            "type": "scatter3d"
           }
          ],
          "scattercarpet": [
           {
            "marker": {
             "colorbar": {
              "outlinewidth": 0,
              "ticks": ""
             }
            },
            "type": "scattercarpet"
           }
          ],
          "scattergeo": [
           {
            "marker": {
             "colorbar": {
              "outlinewidth": 0,
              "ticks": ""
             }
            },
            "type": "scattergeo"
           }
          ],
          "scattergl": [
           {
            "marker": {
             "colorbar": {
              "outlinewidth": 0,
              "ticks": ""
             }
            },
            "type": "scattergl"
           }
          ],
          "scattermapbox": [
           {
            "marker": {
             "colorbar": {
              "outlinewidth": 0,
              "ticks": ""
             }
            },
            "type": "scattermapbox"
           }
          ],
          "scatterpolar": [
           {
            "marker": {
             "colorbar": {
              "outlinewidth": 0,
              "ticks": ""
             }
            },
            "type": "scatterpolar"
           }
          ],
          "scatterpolargl": [
           {
            "marker": {
             "colorbar": {
              "outlinewidth": 0,
              "ticks": ""
             }
            },
            "type": "scatterpolargl"
           }
          ],
          "scatterternary": [
           {
            "marker": {
             "colorbar": {
              "outlinewidth": 0,
              "ticks": ""
             }
            },
            "type": "scatterternary"
           }
          ],
          "surface": [
           {
            "colorbar": {
             "outlinewidth": 0,
             "ticks": ""
            },
            "colorscale": [
             [
              0,
              "#0d0887"
             ],
             [
              0.1111111111111111,
              "#46039f"
             ],
             [
              0.2222222222222222,
              "#7201a8"
             ],
             [
              0.3333333333333333,
              "#9c179e"
             ],
             [
              0.4444444444444444,
              "#bd3786"
             ],
             [
              0.5555555555555556,
              "#d8576b"
             ],
             [
              0.6666666666666666,
              "#ed7953"
             ],
             [
              0.7777777777777778,
              "#fb9f3a"
             ],
             [
              0.8888888888888888,
              "#fdca26"
             ],
             [
              1,
              "#f0f921"
             ]
            ],
            "type": "surface"
           }
          ],
          "table": [
           {
            "cells": {
             "fill": {
              "color": "#EBF0F8"
             },
             "line": {
              "color": "white"
             }
            },
            "header": {
             "fill": {
              "color": "#C8D4E3"
             },
             "line": {
              "color": "white"
             }
            },
            "type": "table"
           }
          ]
         },
         "layout": {
          "annotationdefaults": {
           "arrowcolor": "#2a3f5f",
           "arrowhead": 0,
           "arrowwidth": 1
          },
          "autotypenumbers": "strict",
          "coloraxis": {
           "colorbar": {
            "outlinewidth": 0,
            "ticks": ""
           }
          },
          "colorscale": {
           "diverging": [
            [
             0,
             "#8e0152"
            ],
            [
             0.1,
             "#c51b7d"
            ],
            [
             0.2,
             "#de77ae"
            ],
            [
             0.3,
             "#f1b6da"
            ],
            [
             0.4,
             "#fde0ef"
            ],
            [
             0.5,
             "#f7f7f7"
            ],
            [
             0.6,
             "#e6f5d0"
            ],
            [
             0.7,
             "#b8e186"
            ],
            [
             0.8,
             "#7fbc41"
            ],
            [
             0.9,
             "#4d9221"
            ],
            [
             1,
             "#276419"
            ]
           ],
           "sequential": [
            [
             0,
             "#0d0887"
            ],
            [
             0.1111111111111111,
             "#46039f"
            ],
            [
             0.2222222222222222,
             "#7201a8"
            ],
            [
             0.3333333333333333,
             "#9c179e"
            ],
            [
             0.4444444444444444,
             "#bd3786"
            ],
            [
             0.5555555555555556,
             "#d8576b"
            ],
            [
             0.6666666666666666,
             "#ed7953"
            ],
            [
             0.7777777777777778,
             "#fb9f3a"
            ],
            [
             0.8888888888888888,
             "#fdca26"
            ],
            [
             1,
             "#f0f921"
            ]
           ],
           "sequentialminus": [
            [
             0,
             "#0d0887"
            ],
            [
             0.1111111111111111,
             "#46039f"
            ],
            [
             0.2222222222222222,
             "#7201a8"
            ],
            [
             0.3333333333333333,
             "#9c179e"
            ],
            [
             0.4444444444444444,
             "#bd3786"
            ],
            [
             0.5555555555555556,
             "#d8576b"
            ],
            [
             0.6666666666666666,
             "#ed7953"
            ],
            [
             0.7777777777777778,
             "#fb9f3a"
            ],
            [
             0.8888888888888888,
             "#fdca26"
            ],
            [
             1,
             "#f0f921"
            ]
           ]
          },
          "colorway": [
           "#636efa",
           "#EF553B",
           "#00cc96",
           "#ab63fa",
           "#FFA15A",
           "#19d3f3",
           "#FF6692",
           "#B6E880",
           "#FF97FF",
           "#FECB52"
          ],
          "font": {
           "color": "#2a3f5f"
          },
          "geo": {
           "bgcolor": "white",
           "lakecolor": "white",
           "landcolor": "#E5ECF6",
           "showlakes": true,
           "showland": true,
           "subunitcolor": "white"
          },
          "hoverlabel": {
           "align": "left"
          },
          "hovermode": "closest",
          "mapbox": {
           "style": "light"
          },
          "paper_bgcolor": "white",
          "plot_bgcolor": "#E5ECF6",
          "polar": {
           "angularaxis": {
            "gridcolor": "white",
            "linecolor": "white",
            "ticks": ""
           },
           "bgcolor": "#E5ECF6",
           "radialaxis": {
            "gridcolor": "white",
            "linecolor": "white",
            "ticks": ""
           }
          },
          "scene": {
           "xaxis": {
            "backgroundcolor": "#E5ECF6",
            "gridcolor": "white",
            "gridwidth": 2,
            "linecolor": "white",
            "showbackground": true,
            "ticks": "",
            "zerolinecolor": "white"
           },
           "yaxis": {
            "backgroundcolor": "#E5ECF6",
            "gridcolor": "white",
            "gridwidth": 2,
            "linecolor": "white",
            "showbackground": true,
            "ticks": "",
            "zerolinecolor": "white"
           },
           "zaxis": {
            "backgroundcolor": "#E5ECF6",
            "gridcolor": "white",
            "gridwidth": 2,
            "linecolor": "white",
            "showbackground": true,
            "ticks": "",
            "zerolinecolor": "white"
           }
          },
          "shapedefaults": {
           "line": {
            "color": "#2a3f5f"
           }
          },
          "ternary": {
           "aaxis": {
            "gridcolor": "white",
            "linecolor": "white",
            "ticks": ""
           },
           "baxis": {
            "gridcolor": "white",
            "linecolor": "white",
            "ticks": ""
           },
           "bgcolor": "#E5ECF6",
           "caxis": {
            "gridcolor": "white",
            "linecolor": "white",
            "ticks": ""
           }
          },
          "title": {
           "x": 0.05
          },
          "xaxis": {
           "automargin": true,
           "gridcolor": "white",
           "linecolor": "white",
           "ticks": "",
           "title": {
            "standoff": 15
           },
           "zerolinecolor": "white",
           "zerolinewidth": 2
          },
          "yaxis": {
           "automargin": true,
           "gridcolor": "white",
           "linecolor": "white",
           "ticks": "",
           "title": {
            "standoff": 15
           },
           "zerolinecolor": "white",
           "zerolinewidth": 2
          }
         }
        },
        "title": {
         "text": "Environmental Impact: Land use"
        },
        "xaxis": {
         "title": {
          "text": "Product Type"
         }
        },
        "yaxis": {
         "title": {
          "text": "Land Use (m2/FU)"
         }
        }
       }
      }
     },
     "metadata": {},
     "output_type": "display_data"
    },
    {
     "data": {
      "application/vnd.plotly.v1+json": {
       "config": {
        "plotlyServerURL": "https://plot.ly"
       },
       "data": [
        {
         "marker": {
          "color": [
           "darkgreen",
           "darkred"
          ]
         },
         "name": "GHG emission 2013",
         "type": "bar",
         "x": [
          "Vegan",
          "Non-vegan"
         ],
         "y": [
          136.08,
          271.25999999999993
         ]
        }
       ],
       "layout": {
        "template": {
         "data": {
          "bar": [
           {
            "error_x": {
             "color": "#2a3f5f"
            },
            "error_y": {
             "color": "#2a3f5f"
            },
            "marker": {
             "line": {
              "color": "#E5ECF6",
              "width": 0.5
             },
             "pattern": {
              "fillmode": "overlay",
              "size": 10,
              "solidity": 0.2
             }
            },
            "type": "bar"
           }
          ],
          "barpolar": [
           {
            "marker": {
             "line": {
              "color": "#E5ECF6",
              "width": 0.5
             },
             "pattern": {
              "fillmode": "overlay",
              "size": 10,
              "solidity": 0.2
             }
            },
            "type": "barpolar"
           }
          ],
          "carpet": [
           {
            "aaxis": {
             "endlinecolor": "#2a3f5f",
             "gridcolor": "white",
             "linecolor": "white",
             "minorgridcolor": "white",
             "startlinecolor": "#2a3f5f"
            },
            "baxis": {
             "endlinecolor": "#2a3f5f",
             "gridcolor": "white",
             "linecolor": "white",
             "minorgridcolor": "white",
             "startlinecolor": "#2a3f5f"
            },
            "type": "carpet"
           }
          ],
          "choropleth": [
           {
            "colorbar": {
             "outlinewidth": 0,
             "ticks": ""
            },
            "type": "choropleth"
           }
          ],
          "contour": [
           {
            "colorbar": {
             "outlinewidth": 0,
             "ticks": ""
            },
            "colorscale": [
             [
              0,
              "#0d0887"
             ],
             [
              0.1111111111111111,
              "#46039f"
             ],
             [
              0.2222222222222222,
              "#7201a8"
             ],
             [
              0.3333333333333333,
              "#9c179e"
             ],
             [
              0.4444444444444444,
              "#bd3786"
             ],
             [
              0.5555555555555556,
              "#d8576b"
             ],
             [
              0.6666666666666666,
              "#ed7953"
             ],
             [
              0.7777777777777778,
              "#fb9f3a"
             ],
             [
              0.8888888888888888,
              "#fdca26"
             ],
             [
              1,
              "#f0f921"
             ]
            ],
            "type": "contour"
           }
          ],
          "contourcarpet": [
           {
            "colorbar": {
             "outlinewidth": 0,
             "ticks": ""
            },
            "type": "contourcarpet"
           }
          ],
          "heatmap": [
           {
            "colorbar": {
             "outlinewidth": 0,
             "ticks": ""
            },
            "colorscale": [
             [
              0,
              "#0d0887"
             ],
             [
              0.1111111111111111,
              "#46039f"
             ],
             [
              0.2222222222222222,
              "#7201a8"
             ],
             [
              0.3333333333333333,
              "#9c179e"
             ],
             [
              0.4444444444444444,
              "#bd3786"
             ],
             [
              0.5555555555555556,
              "#d8576b"
             ],
             [
              0.6666666666666666,
              "#ed7953"
             ],
             [
              0.7777777777777778,
              "#fb9f3a"
             ],
             [
              0.8888888888888888,
              "#fdca26"
             ],
             [
              1,
              "#f0f921"
             ]
            ],
            "type": "heatmap"
           }
          ],
          "heatmapgl": [
           {
            "colorbar": {
             "outlinewidth": 0,
             "ticks": ""
            },
            "colorscale": [
             [
              0,
              "#0d0887"
             ],
             [
              0.1111111111111111,
              "#46039f"
             ],
             [
              0.2222222222222222,
              "#7201a8"
             ],
             [
              0.3333333333333333,
              "#9c179e"
             ],
             [
              0.4444444444444444,
              "#bd3786"
             ],
             [
              0.5555555555555556,
              "#d8576b"
             ],
             [
              0.6666666666666666,
              "#ed7953"
             ],
             [
              0.7777777777777778,
              "#fb9f3a"
             ],
             [
              0.8888888888888888,
              "#fdca26"
             ],
             [
              1,
              "#f0f921"
             ]
            ],
            "type": "heatmapgl"
           }
          ],
          "histogram": [
           {
            "marker": {
             "pattern": {
              "fillmode": "overlay",
              "size": 10,
              "solidity": 0.2
             }
            },
            "type": "histogram"
           }
          ],
          "histogram2d": [
           {
            "colorbar": {
             "outlinewidth": 0,
             "ticks": ""
            },
            "colorscale": [
             [
              0,
              "#0d0887"
             ],
             [
              0.1111111111111111,
              "#46039f"
             ],
             [
              0.2222222222222222,
              "#7201a8"
             ],
             [
              0.3333333333333333,
              "#9c179e"
             ],
             [
              0.4444444444444444,
              "#bd3786"
             ],
             [
              0.5555555555555556,
              "#d8576b"
             ],
             [
              0.6666666666666666,
              "#ed7953"
             ],
             [
              0.7777777777777778,
              "#fb9f3a"
             ],
             [
              0.8888888888888888,
              "#fdca26"
             ],
             [
              1,
              "#f0f921"
             ]
            ],
            "type": "histogram2d"
           }
          ],
          "histogram2dcontour": [
           {
            "colorbar": {
             "outlinewidth": 0,
             "ticks": ""
            },
            "colorscale": [
             [
              0,
              "#0d0887"
             ],
             [
              0.1111111111111111,
              "#46039f"
             ],
             [
              0.2222222222222222,
              "#7201a8"
             ],
             [
              0.3333333333333333,
              "#9c179e"
             ],
             [
              0.4444444444444444,
              "#bd3786"
             ],
             [
              0.5555555555555556,
              "#d8576b"
             ],
             [
              0.6666666666666666,
              "#ed7953"
             ],
             [
              0.7777777777777778,
              "#fb9f3a"
             ],
             [
              0.8888888888888888,
              "#fdca26"
             ],
             [
              1,
              "#f0f921"
             ]
            ],
            "type": "histogram2dcontour"
           }
          ],
          "mesh3d": [
           {
            "colorbar": {
             "outlinewidth": 0,
             "ticks": ""
            },
            "type": "mesh3d"
           }
          ],
          "parcoords": [
           {
            "line": {
             "colorbar": {
              "outlinewidth": 0,
              "ticks": ""
             }
            },
            "type": "parcoords"
           }
          ],
          "pie": [
           {
            "automargin": true,
            "type": "pie"
           }
          ],
          "scatter": [
           {
            "fillpattern": {
             "fillmode": "overlay",
             "size": 10,
             "solidity": 0.2
            },
            "type": "scatter"
           }
          ],
          "scatter3d": [
           {
            "line": {
             "colorbar": {
              "outlinewidth": 0,
              "ticks": ""
             }
            },
            "marker": {
             "colorbar": {
              "outlinewidth": 0,
              "ticks": ""
             }
            },
            "type": "scatter3d"
           }
          ],
          "scattercarpet": [
           {
            "marker": {
             "colorbar": {
              "outlinewidth": 0,
              "ticks": ""
             }
            },
            "type": "scattercarpet"
           }
          ],
          "scattergeo": [
           {
            "marker": {
             "colorbar": {
              "outlinewidth": 0,
              "ticks": ""
             }
            },
            "type": "scattergeo"
           }
          ],
          "scattergl": [
           {
            "marker": {
             "colorbar": {
              "outlinewidth": 0,
              "ticks": ""
             }
            },
            "type": "scattergl"
           }
          ],
          "scattermapbox": [
           {
            "marker": {
             "colorbar": {
              "outlinewidth": 0,
              "ticks": ""
             }
            },
            "type": "scattermapbox"
           }
          ],
          "scatterpolar": [
           {
            "marker": {
             "colorbar": {
              "outlinewidth": 0,
              "ticks": ""
             }
            },
            "type": "scatterpolar"
           }
          ],
          "scatterpolargl": [
           {
            "marker": {
             "colorbar": {
              "outlinewidth": 0,
              "ticks": ""
             }
            },
            "type": "scatterpolargl"
           }
          ],
          "scatterternary": [
           {
            "marker": {
             "colorbar": {
              "outlinewidth": 0,
              "ticks": ""
             }
            },
            "type": "scatterternary"
           }
          ],
          "surface": [
           {
            "colorbar": {
             "outlinewidth": 0,
             "ticks": ""
            },
            "colorscale": [
             [
              0,
              "#0d0887"
             ],
             [
              0.1111111111111111,
              "#46039f"
             ],
             [
              0.2222222222222222,
              "#7201a8"
             ],
             [
              0.3333333333333333,
              "#9c179e"
             ],
             [
              0.4444444444444444,
              "#bd3786"
             ],
             [
              0.5555555555555556,
              "#d8576b"
             ],
             [
              0.6666666666666666,
              "#ed7953"
             ],
             [
              0.7777777777777778,
              "#fb9f3a"
             ],
             [
              0.8888888888888888,
              "#fdca26"
             ],
             [
              1,
              "#f0f921"
             ]
            ],
            "type": "surface"
           }
          ],
          "table": [
           {
            "cells": {
             "fill": {
              "color": "#EBF0F8"
             },
             "line": {
              "color": "white"
             }
            },
            "header": {
             "fill": {
              "color": "#C8D4E3"
             },
             "line": {
              "color": "white"
             }
            },
            "type": "table"
           }
          ]
         },
         "layout": {
          "annotationdefaults": {
           "arrowcolor": "#2a3f5f",
           "arrowhead": 0,
           "arrowwidth": 1
          },
          "autotypenumbers": "strict",
          "coloraxis": {
           "colorbar": {
            "outlinewidth": 0,
            "ticks": ""
           }
          },
          "colorscale": {
           "diverging": [
            [
             0,
             "#8e0152"
            ],
            [
             0.1,
             "#c51b7d"
            ],
            [
             0.2,
             "#de77ae"
            ],
            [
             0.3,
             "#f1b6da"
            ],
            [
             0.4,
             "#fde0ef"
            ],
            [
             0.5,
             "#f7f7f7"
            ],
            [
             0.6,
             "#e6f5d0"
            ],
            [
             0.7,
             "#b8e186"
            ],
            [
             0.8,
             "#7fbc41"
            ],
            [
             0.9,
             "#4d9221"
            ],
            [
             1,
             "#276419"
            ]
           ],
           "sequential": [
            [
             0,
             "#0d0887"
            ],
            [
             0.1111111111111111,
             "#46039f"
            ],
            [
             0.2222222222222222,
             "#7201a8"
            ],
            [
             0.3333333333333333,
             "#9c179e"
            ],
            [
             0.4444444444444444,
             "#bd3786"
            ],
            [
             0.5555555555555556,
             "#d8576b"
            ],
            [
             0.6666666666666666,
             "#ed7953"
            ],
            [
             0.7777777777777778,
             "#fb9f3a"
            ],
            [
             0.8888888888888888,
             "#fdca26"
            ],
            [
             1,
             "#f0f921"
            ]
           ],
           "sequentialminus": [
            [
             0,
             "#0d0887"
            ],
            [
             0.1111111111111111,
             "#46039f"
            ],
            [
             0.2222222222222222,
             "#7201a8"
            ],
            [
             0.3333333333333333,
             "#9c179e"
            ],
            [
             0.4444444444444444,
             "#bd3786"
            ],
            [
             0.5555555555555556,
             "#d8576b"
            ],
            [
             0.6666666666666666,
             "#ed7953"
            ],
            [
             0.7777777777777778,
             "#fb9f3a"
            ],
            [
             0.8888888888888888,
             "#fdca26"
            ],
            [
             1,
             "#f0f921"
            ]
           ]
          },
          "colorway": [
           "#636efa",
           "#EF553B",
           "#00cc96",
           "#ab63fa",
           "#FFA15A",
           "#19d3f3",
           "#FF6692",
           "#B6E880",
           "#FF97FF",
           "#FECB52"
          ],
          "font": {
           "color": "#2a3f5f"
          },
          "geo": {
           "bgcolor": "white",
           "lakecolor": "white",
           "landcolor": "#E5ECF6",
           "showlakes": true,
           "showland": true,
           "subunitcolor": "white"
          },
          "hoverlabel": {
           "align": "left"
          },
          "hovermode": "closest",
          "mapbox": {
           "style": "light"
          },
          "paper_bgcolor": "white",
          "plot_bgcolor": "#E5ECF6",
          "polar": {
           "angularaxis": {
            "gridcolor": "white",
            "linecolor": "white",
            "ticks": ""
           },
           "bgcolor": "#E5ECF6",
           "radialaxis": {
            "gridcolor": "white",
            "linecolor": "white",
            "ticks": ""
           }
          },
          "scene": {
           "xaxis": {
            "backgroundcolor": "#E5ECF6",
            "gridcolor": "white",
            "gridwidth": 2,
            "linecolor": "white",
            "showbackground": true,
            "ticks": "",
            "zerolinecolor": "white"
           },
           "yaxis": {
            "backgroundcolor": "#E5ECF6",
            "gridcolor": "white",
            "gridwidth": 2,
            "linecolor": "white",
            "showbackground": true,
            "ticks": "",
            "zerolinecolor": "white"
           },
           "zaxis": {
            "backgroundcolor": "#E5ECF6",
            "gridcolor": "white",
            "gridwidth": 2,
            "linecolor": "white",
            "showbackground": true,
            "ticks": "",
            "zerolinecolor": "white"
           }
          },
          "shapedefaults": {
           "line": {
            "color": "#2a3f5f"
           }
          },
          "ternary": {
           "aaxis": {
            "gridcolor": "white",
            "linecolor": "white",
            "ticks": ""
           },
           "baxis": {
            "gridcolor": "white",
            "linecolor": "white",
            "ticks": ""
           },
           "bgcolor": "#E5ECF6",
           "caxis": {
            "gridcolor": "white",
            "linecolor": "white",
            "ticks": ""
           }
          },
          "title": {
           "x": 0.05
          },
          "xaxis": {
           "automargin": true,
           "gridcolor": "white",
           "linecolor": "white",
           "ticks": "",
           "title": {
            "standoff": 15
           },
           "zerolinecolor": "white",
           "zerolinewidth": 2
          },
          "yaxis": {
           "automargin": true,
           "gridcolor": "white",
           "linecolor": "white",
           "ticks": "",
           "title": {
            "standoff": 15
           },
           "zerolinecolor": "white",
           "zerolinewidth": 2
          }
         }
        },
        "title": {
         "text": "Environmental Impact: GHG emission 2013"
        },
        "xaxis": {
         "title": {
          "text": "Product Type"
         }
        },
        "yaxis": {
         "title": {
          "text": "GHG Emissions (kg CO2eq/FU)"
         }
        }
       }
      }
     },
     "metadata": {},
     "output_type": "display_data"
    },
    {
     "data": {
      "application/vnd.plotly.v1+json": {
       "config": {
        "plotlyServerURL": "https://plot.ly"
       },
       "data": [
        {
         "marker": {
          "color": [
           "darkgreen",
           "darkred"
          ]
         },
         "name": "GHG emission 2007",
         "type": "bar",
         "x": [
          "Vegan",
          "Non-vegan"
         ],
         "y": [
          133.32,
          237.76999999999998
         ]
        }
       ],
       "layout": {
        "template": {
         "data": {
          "bar": [
           {
            "error_x": {
             "color": "#2a3f5f"
            },
            "error_y": {
             "color": "#2a3f5f"
            },
            "marker": {
             "line": {
              "color": "#E5ECF6",
              "width": 0.5
             },
             "pattern": {
              "fillmode": "overlay",
              "size": 10,
              "solidity": 0.2
             }
            },
            "type": "bar"
           }
          ],
          "barpolar": [
           {
            "marker": {
             "line": {
              "color": "#E5ECF6",
              "width": 0.5
             },
             "pattern": {
              "fillmode": "overlay",
              "size": 10,
              "solidity": 0.2
             }
            },
            "type": "barpolar"
           }
          ],
          "carpet": [
           {
            "aaxis": {
             "endlinecolor": "#2a3f5f",
             "gridcolor": "white",
             "linecolor": "white",
             "minorgridcolor": "white",
             "startlinecolor": "#2a3f5f"
            },
            "baxis": {
             "endlinecolor": "#2a3f5f",
             "gridcolor": "white",
             "linecolor": "white",
             "minorgridcolor": "white",
             "startlinecolor": "#2a3f5f"
            },
            "type": "carpet"
           }
          ],
          "choropleth": [
           {
            "colorbar": {
             "outlinewidth": 0,
             "ticks": ""
            },
            "type": "choropleth"
           }
          ],
          "contour": [
           {
            "colorbar": {
             "outlinewidth": 0,
             "ticks": ""
            },
            "colorscale": [
             [
              0,
              "#0d0887"
             ],
             [
              0.1111111111111111,
              "#46039f"
             ],
             [
              0.2222222222222222,
              "#7201a8"
             ],
             [
              0.3333333333333333,
              "#9c179e"
             ],
             [
              0.4444444444444444,
              "#bd3786"
             ],
             [
              0.5555555555555556,
              "#d8576b"
             ],
             [
              0.6666666666666666,
              "#ed7953"
             ],
             [
              0.7777777777777778,
              "#fb9f3a"
             ],
             [
              0.8888888888888888,
              "#fdca26"
             ],
             [
              1,
              "#f0f921"
             ]
            ],
            "type": "contour"
           }
          ],
          "contourcarpet": [
           {
            "colorbar": {
             "outlinewidth": 0,
             "ticks": ""
            },
            "type": "contourcarpet"
           }
          ],
          "heatmap": [
           {
            "colorbar": {
             "outlinewidth": 0,
             "ticks": ""
            },
            "colorscale": [
             [
              0,
              "#0d0887"
             ],
             [
              0.1111111111111111,
              "#46039f"
             ],
             [
              0.2222222222222222,
              "#7201a8"
             ],
             [
              0.3333333333333333,
              "#9c179e"
             ],
             [
              0.4444444444444444,
              "#bd3786"
             ],
             [
              0.5555555555555556,
              "#d8576b"
             ],
             [
              0.6666666666666666,
              "#ed7953"
             ],
             [
              0.7777777777777778,
              "#fb9f3a"
             ],
             [
              0.8888888888888888,
              "#fdca26"
             ],
             [
              1,
              "#f0f921"
             ]
            ],
            "type": "heatmap"
           }
          ],
          "heatmapgl": [
           {
            "colorbar": {
             "outlinewidth": 0,
             "ticks": ""
            },
            "colorscale": [
             [
              0,
              "#0d0887"
             ],
             [
              0.1111111111111111,
              "#46039f"
             ],
             [
              0.2222222222222222,
              "#7201a8"
             ],
             [
              0.3333333333333333,
              "#9c179e"
             ],
             [
              0.4444444444444444,
              "#bd3786"
             ],
             [
              0.5555555555555556,
              "#d8576b"
             ],
             [
              0.6666666666666666,
              "#ed7953"
             ],
             [
              0.7777777777777778,
              "#fb9f3a"
             ],
             [
              0.8888888888888888,
              "#fdca26"
             ],
             [
              1,
              "#f0f921"
             ]
            ],
            "type": "heatmapgl"
           }
          ],
          "histogram": [
           {
            "marker": {
             "pattern": {
              "fillmode": "overlay",
              "size": 10,
              "solidity": 0.2
             }
            },
            "type": "histogram"
           }
          ],
          "histogram2d": [
           {
            "colorbar": {
             "outlinewidth": 0,
             "ticks": ""
            },
            "colorscale": [
             [
              0,
              "#0d0887"
             ],
             [
              0.1111111111111111,
              "#46039f"
             ],
             [
              0.2222222222222222,
              "#7201a8"
             ],
             [
              0.3333333333333333,
              "#9c179e"
             ],
             [
              0.4444444444444444,
              "#bd3786"
             ],
             [
              0.5555555555555556,
              "#d8576b"
             ],
             [
              0.6666666666666666,
              "#ed7953"
             ],
             [
              0.7777777777777778,
              "#fb9f3a"
             ],
             [
              0.8888888888888888,
              "#fdca26"
             ],
             [
              1,
              "#f0f921"
             ]
            ],
            "type": "histogram2d"
           }
          ],
          "histogram2dcontour": [
           {
            "colorbar": {
             "outlinewidth": 0,
             "ticks": ""
            },
            "colorscale": [
             [
              0,
              "#0d0887"
             ],
             [
              0.1111111111111111,
              "#46039f"
             ],
             [
              0.2222222222222222,
              "#7201a8"
             ],
             [
              0.3333333333333333,
              "#9c179e"
             ],
             [
              0.4444444444444444,
              "#bd3786"
             ],
             [
              0.5555555555555556,
              "#d8576b"
             ],
             [
              0.6666666666666666,
              "#ed7953"
             ],
             [
              0.7777777777777778,
              "#fb9f3a"
             ],
             [
              0.8888888888888888,
              "#fdca26"
             ],
             [
              1,
              "#f0f921"
             ]
            ],
            "type": "histogram2dcontour"
           }
          ],
          "mesh3d": [
           {
            "colorbar": {
             "outlinewidth": 0,
             "ticks": ""
            },
            "type": "mesh3d"
           }
          ],
          "parcoords": [
           {
            "line": {
             "colorbar": {
              "outlinewidth": 0,
              "ticks": ""
             }
            },
            "type": "parcoords"
           }
          ],
          "pie": [
           {
            "automargin": true,
            "type": "pie"
           }
          ],
          "scatter": [
           {
            "fillpattern": {
             "fillmode": "overlay",
             "size": 10,
             "solidity": 0.2
            },
            "type": "scatter"
           }
          ],
          "scatter3d": [
           {
            "line": {
             "colorbar": {
              "outlinewidth": 0,
              "ticks": ""
             }
            },
            "marker": {
             "colorbar": {
              "outlinewidth": 0,
              "ticks": ""
             }
            },
            "type": "scatter3d"
           }
          ],
          "scattercarpet": [
           {
            "marker": {
             "colorbar": {
              "outlinewidth": 0,
              "ticks": ""
             }
            },
            "type": "scattercarpet"
           }
          ],
          "scattergeo": [
           {
            "marker": {
             "colorbar": {
              "outlinewidth": 0,
              "ticks": ""
             }
            },
            "type": "scattergeo"
           }
          ],
          "scattergl": [
           {
            "marker": {
             "colorbar": {
              "outlinewidth": 0,
              "ticks": ""
             }
            },
            "type": "scattergl"
           }
          ],
          "scattermapbox": [
           {
            "marker": {
             "colorbar": {
              "outlinewidth": 0,
              "ticks": ""
             }
            },
            "type": "scattermapbox"
           }
          ],
          "scatterpolar": [
           {
            "marker": {
             "colorbar": {
              "outlinewidth": 0,
              "ticks": ""
             }
            },
            "type": "scatterpolar"
           }
          ],
          "scatterpolargl": [
           {
            "marker": {
             "colorbar": {
              "outlinewidth": 0,
              "ticks": ""
             }
            },
            "type": "scatterpolargl"
           }
          ],
          "scatterternary": [
           {
            "marker": {
             "colorbar": {
              "outlinewidth": 0,
              "ticks": ""
             }
            },
            "type": "scatterternary"
           }
          ],
          "surface": [
           {
            "colorbar": {
             "outlinewidth": 0,
             "ticks": ""
            },
            "colorscale": [
             [
              0,
              "#0d0887"
             ],
             [
              0.1111111111111111,
              "#46039f"
             ],
             [
              0.2222222222222222,
              "#7201a8"
             ],
             [
              0.3333333333333333,
              "#9c179e"
             ],
             [
              0.4444444444444444,
              "#bd3786"
             ],
             [
              0.5555555555555556,
              "#d8576b"
             ],
             [
              0.6666666666666666,
              "#ed7953"
             ],
             [
              0.7777777777777778,
              "#fb9f3a"
             ],
             [
              0.8888888888888888,
              "#fdca26"
             ],
             [
              1,
              "#f0f921"
             ]
            ],
            "type": "surface"
           }
          ],
          "table": [
           {
            "cells": {
             "fill": {
              "color": "#EBF0F8"
             },
             "line": {
              "color": "white"
             }
            },
            "header": {
             "fill": {
              "color": "#C8D4E3"
             },
             "line": {
              "color": "white"
             }
            },
            "type": "table"
           }
          ]
         },
         "layout": {
          "annotationdefaults": {
           "arrowcolor": "#2a3f5f",
           "arrowhead": 0,
           "arrowwidth": 1
          },
          "autotypenumbers": "strict",
          "coloraxis": {
           "colorbar": {
            "outlinewidth": 0,
            "ticks": ""
           }
          },
          "colorscale": {
           "diverging": [
            [
             0,
             "#8e0152"
            ],
            [
             0.1,
             "#c51b7d"
            ],
            [
             0.2,
             "#de77ae"
            ],
            [
             0.3,
             "#f1b6da"
            ],
            [
             0.4,
             "#fde0ef"
            ],
            [
             0.5,
             "#f7f7f7"
            ],
            [
             0.6,
             "#e6f5d0"
            ],
            [
             0.7,
             "#b8e186"
            ],
            [
             0.8,
             "#7fbc41"
            ],
            [
             0.9,
             "#4d9221"
            ],
            [
             1,
             "#276419"
            ]
           ],
           "sequential": [
            [
             0,
             "#0d0887"
            ],
            [
             0.1111111111111111,
             "#46039f"
            ],
            [
             0.2222222222222222,
             "#7201a8"
            ],
            [
             0.3333333333333333,
             "#9c179e"
            ],
            [
             0.4444444444444444,
             "#bd3786"
            ],
            [
             0.5555555555555556,
             "#d8576b"
            ],
            [
             0.6666666666666666,
             "#ed7953"
            ],
            [
             0.7777777777777778,
             "#fb9f3a"
            ],
            [
             0.8888888888888888,
             "#fdca26"
            ],
            [
             1,
             "#f0f921"
            ]
           ],
           "sequentialminus": [
            [
             0,
             "#0d0887"
            ],
            [
             0.1111111111111111,
             "#46039f"
            ],
            [
             0.2222222222222222,
             "#7201a8"
            ],
            [
             0.3333333333333333,
             "#9c179e"
            ],
            [
             0.4444444444444444,
             "#bd3786"
            ],
            [
             0.5555555555555556,
             "#d8576b"
            ],
            [
             0.6666666666666666,
             "#ed7953"
            ],
            [
             0.7777777777777778,
             "#fb9f3a"
            ],
            [
             0.8888888888888888,
             "#fdca26"
            ],
            [
             1,
             "#f0f921"
            ]
           ]
          },
          "colorway": [
           "#636efa",
           "#EF553B",
           "#00cc96",
           "#ab63fa",
           "#FFA15A",
           "#19d3f3",
           "#FF6692",
           "#B6E880",
           "#FF97FF",
           "#FECB52"
          ],
          "font": {
           "color": "#2a3f5f"
          },
          "geo": {
           "bgcolor": "white",
           "lakecolor": "white",
           "landcolor": "#E5ECF6",
           "showlakes": true,
           "showland": true,
           "subunitcolor": "white"
          },
          "hoverlabel": {
           "align": "left"
          },
          "hovermode": "closest",
          "mapbox": {
           "style": "light"
          },
          "paper_bgcolor": "white",
          "plot_bgcolor": "#E5ECF6",
          "polar": {
           "angularaxis": {
            "gridcolor": "white",
            "linecolor": "white",
            "ticks": ""
           },
           "bgcolor": "#E5ECF6",
           "radialaxis": {
            "gridcolor": "white",
            "linecolor": "white",
            "ticks": ""
           }
          },
          "scene": {
           "xaxis": {
            "backgroundcolor": "#E5ECF6",
            "gridcolor": "white",
            "gridwidth": 2,
            "linecolor": "white",
            "showbackground": true,
            "ticks": "",
            "zerolinecolor": "white"
           },
           "yaxis": {
            "backgroundcolor": "#E5ECF6",
            "gridcolor": "white",
            "gridwidth": 2,
            "linecolor": "white",
            "showbackground": true,
            "ticks": "",
            "zerolinecolor": "white"
           },
           "zaxis": {
            "backgroundcolor": "#E5ECF6",
            "gridcolor": "white",
            "gridwidth": 2,
            "linecolor": "white",
            "showbackground": true,
            "ticks": "",
            "zerolinecolor": "white"
           }
          },
          "shapedefaults": {
           "line": {
            "color": "#2a3f5f"
           }
          },
          "ternary": {
           "aaxis": {
            "gridcolor": "white",
            "linecolor": "white",
            "ticks": ""
           },
           "baxis": {
            "gridcolor": "white",
            "linecolor": "white",
            "ticks": ""
           },
           "bgcolor": "#E5ECF6",
           "caxis": {
            "gridcolor": "white",
            "linecolor": "white",
            "ticks": ""
           }
          },
          "title": {
           "x": 0.05
          },
          "xaxis": {
           "automargin": true,
           "gridcolor": "white",
           "linecolor": "white",
           "ticks": "",
           "title": {
            "standoff": 15
           },
           "zerolinecolor": "white",
           "zerolinewidth": 2
          },
          "yaxis": {
           "automargin": true,
           "gridcolor": "white",
           "linecolor": "white",
           "ticks": "",
           "title": {
            "standoff": 15
           },
           "zerolinecolor": "white",
           "zerolinewidth": 2
          }
         }
        },
        "title": {
         "text": "Environmental Impact: GHG emission 2007"
        },
        "xaxis": {
         "title": {
          "text": "Product Type"
         }
        },
        "yaxis": {
         "title": {
          "text": "GHG Emissions (kg CO2eq/FU)"
         }
        }
       }
      }
     },
     "metadata": {},
     "output_type": "display_data"
    },
    {
     "data": {
      "application/vnd.plotly.v1+json": {
       "config": {
        "plotlyServerURL": "https://plot.ly"
       },
       "data": [
        {
         "marker": {
          "color": [
           "darkgreen",
           "darkred"
          ]
         },
         "name": "Acidification",
         "type": "bar",
         "x": [
          "Vegan",
          "Non-vegan"
         ],
         "y": [
          530.22,
          1509.3300000000002
         ]
        }
       ],
       "layout": {
        "template": {
         "data": {
          "bar": [
           {
            "error_x": {
             "color": "#2a3f5f"
            },
            "error_y": {
             "color": "#2a3f5f"
            },
            "marker": {
             "line": {
              "color": "#E5ECF6",
              "width": 0.5
             },
             "pattern": {
              "fillmode": "overlay",
              "size": 10,
              "solidity": 0.2
             }
            },
            "type": "bar"
           }
          ],
          "barpolar": [
           {
            "marker": {
             "line": {
              "color": "#E5ECF6",
              "width": 0.5
             },
             "pattern": {
              "fillmode": "overlay",
              "size": 10,
              "solidity": 0.2
             }
            },
            "type": "barpolar"
           }
          ],
          "carpet": [
           {
            "aaxis": {
             "endlinecolor": "#2a3f5f",
             "gridcolor": "white",
             "linecolor": "white",
             "minorgridcolor": "white",
             "startlinecolor": "#2a3f5f"
            },
            "baxis": {
             "endlinecolor": "#2a3f5f",
             "gridcolor": "white",
             "linecolor": "white",
             "minorgridcolor": "white",
             "startlinecolor": "#2a3f5f"
            },
            "type": "carpet"
           }
          ],
          "choropleth": [
           {
            "colorbar": {
             "outlinewidth": 0,
             "ticks": ""
            },
            "type": "choropleth"
           }
          ],
          "contour": [
           {
            "colorbar": {
             "outlinewidth": 0,
             "ticks": ""
            },
            "colorscale": [
             [
              0,
              "#0d0887"
             ],
             [
              0.1111111111111111,
              "#46039f"
             ],
             [
              0.2222222222222222,
              "#7201a8"
             ],
             [
              0.3333333333333333,
              "#9c179e"
             ],
             [
              0.4444444444444444,
              "#bd3786"
             ],
             [
              0.5555555555555556,
              "#d8576b"
             ],
             [
              0.6666666666666666,
              "#ed7953"
             ],
             [
              0.7777777777777778,
              "#fb9f3a"
             ],
             [
              0.8888888888888888,
              "#fdca26"
             ],
             [
              1,
              "#f0f921"
             ]
            ],
            "type": "contour"
           }
          ],
          "contourcarpet": [
           {
            "colorbar": {
             "outlinewidth": 0,
             "ticks": ""
            },
            "type": "contourcarpet"
           }
          ],
          "heatmap": [
           {
            "colorbar": {
             "outlinewidth": 0,
             "ticks": ""
            },
            "colorscale": [
             [
              0,
              "#0d0887"
             ],
             [
              0.1111111111111111,
              "#46039f"
             ],
             [
              0.2222222222222222,
              "#7201a8"
             ],
             [
              0.3333333333333333,
              "#9c179e"
             ],
             [
              0.4444444444444444,
              "#bd3786"
             ],
             [
              0.5555555555555556,
              "#d8576b"
             ],
             [
              0.6666666666666666,
              "#ed7953"
             ],
             [
              0.7777777777777778,
              "#fb9f3a"
             ],
             [
              0.8888888888888888,
              "#fdca26"
             ],
             [
              1,
              "#f0f921"
             ]
            ],
            "type": "heatmap"
           }
          ],
          "heatmapgl": [
           {
            "colorbar": {
             "outlinewidth": 0,
             "ticks": ""
            },
            "colorscale": [
             [
              0,
              "#0d0887"
             ],
             [
              0.1111111111111111,
              "#46039f"
             ],
             [
              0.2222222222222222,
              "#7201a8"
             ],
             [
              0.3333333333333333,
              "#9c179e"
             ],
             [
              0.4444444444444444,
              "#bd3786"
             ],
             [
              0.5555555555555556,
              "#d8576b"
             ],
             [
              0.6666666666666666,
              "#ed7953"
             ],
             [
              0.7777777777777778,
              "#fb9f3a"
             ],
             [
              0.8888888888888888,
              "#fdca26"
             ],
             [
              1,
              "#f0f921"
             ]
            ],
            "type": "heatmapgl"
           }
          ],
          "histogram": [
           {
            "marker": {
             "pattern": {
              "fillmode": "overlay",
              "size": 10,
              "solidity": 0.2
             }
            },
            "type": "histogram"
           }
          ],
          "histogram2d": [
           {
            "colorbar": {
             "outlinewidth": 0,
             "ticks": ""
            },
            "colorscale": [
             [
              0,
              "#0d0887"
             ],
             [
              0.1111111111111111,
              "#46039f"
             ],
             [
              0.2222222222222222,
              "#7201a8"
             ],
             [
              0.3333333333333333,
              "#9c179e"
             ],
             [
              0.4444444444444444,
              "#bd3786"
             ],
             [
              0.5555555555555556,
              "#d8576b"
             ],
             [
              0.6666666666666666,
              "#ed7953"
             ],
             [
              0.7777777777777778,
              "#fb9f3a"
             ],
             [
              0.8888888888888888,
              "#fdca26"
             ],
             [
              1,
              "#f0f921"
             ]
            ],
            "type": "histogram2d"
           }
          ],
          "histogram2dcontour": [
           {
            "colorbar": {
             "outlinewidth": 0,
             "ticks": ""
            },
            "colorscale": [
             [
              0,
              "#0d0887"
             ],
             [
              0.1111111111111111,
              "#46039f"
             ],
             [
              0.2222222222222222,
              "#7201a8"
             ],
             [
              0.3333333333333333,
              "#9c179e"
             ],
             [
              0.4444444444444444,
              "#bd3786"
             ],
             [
              0.5555555555555556,
              "#d8576b"
             ],
             [
              0.6666666666666666,
              "#ed7953"
             ],
             [
              0.7777777777777778,
              "#fb9f3a"
             ],
             [
              0.8888888888888888,
              "#fdca26"
             ],
             [
              1,
              "#f0f921"
             ]
            ],
            "type": "histogram2dcontour"
           }
          ],
          "mesh3d": [
           {
            "colorbar": {
             "outlinewidth": 0,
             "ticks": ""
            },
            "type": "mesh3d"
           }
          ],
          "parcoords": [
           {
            "line": {
             "colorbar": {
              "outlinewidth": 0,
              "ticks": ""
             }
            },
            "type": "parcoords"
           }
          ],
          "pie": [
           {
            "automargin": true,
            "type": "pie"
           }
          ],
          "scatter": [
           {
            "fillpattern": {
             "fillmode": "overlay",
             "size": 10,
             "solidity": 0.2
            },
            "type": "scatter"
           }
          ],
          "scatter3d": [
           {
            "line": {
             "colorbar": {
              "outlinewidth": 0,
              "ticks": ""
             }
            },
            "marker": {
             "colorbar": {
              "outlinewidth": 0,
              "ticks": ""
             }
            },
            "type": "scatter3d"
           }
          ],
          "scattercarpet": [
           {
            "marker": {
             "colorbar": {
              "outlinewidth": 0,
              "ticks": ""
             }
            },
            "type": "scattercarpet"
           }
          ],
          "scattergeo": [
           {
            "marker": {
             "colorbar": {
              "outlinewidth": 0,
              "ticks": ""
             }
            },
            "type": "scattergeo"
           }
          ],
          "scattergl": [
           {
            "marker": {
             "colorbar": {
              "outlinewidth": 0,
              "ticks": ""
             }
            },
            "type": "scattergl"
           }
          ],
          "scattermapbox": [
           {
            "marker": {
             "colorbar": {
              "outlinewidth": 0,
              "ticks": ""
             }
            },
            "type": "scattermapbox"
           }
          ],
          "scatterpolar": [
           {
            "marker": {
             "colorbar": {
              "outlinewidth": 0,
              "ticks": ""
             }
            },
            "type": "scatterpolar"
           }
          ],
          "scatterpolargl": [
           {
            "marker": {
             "colorbar": {
              "outlinewidth": 0,
              "ticks": ""
             }
            },
            "type": "scatterpolargl"
           }
          ],
          "scatterternary": [
           {
            "marker": {
             "colorbar": {
              "outlinewidth": 0,
              "ticks": ""
             }
            },
            "type": "scatterternary"
           }
          ],
          "surface": [
           {
            "colorbar": {
             "outlinewidth": 0,
             "ticks": ""
            },
            "colorscale": [
             [
              0,
              "#0d0887"
             ],
             [
              0.1111111111111111,
              "#46039f"
             ],
             [
              0.2222222222222222,
              "#7201a8"
             ],
             [
              0.3333333333333333,
              "#9c179e"
             ],
             [
              0.4444444444444444,
              "#bd3786"
             ],
             [
              0.5555555555555556,
              "#d8576b"
             ],
             [
              0.6666666666666666,
              "#ed7953"
             ],
             [
              0.7777777777777778,
              "#fb9f3a"
             ],
             [
              0.8888888888888888,
              "#fdca26"
             ],
             [
              1,
              "#f0f921"
             ]
            ],
            "type": "surface"
           }
          ],
          "table": [
           {
            "cells": {
             "fill": {
              "color": "#EBF0F8"
             },
             "line": {
              "color": "white"
             }
            },
            "header": {
             "fill": {
              "color": "#C8D4E3"
             },
             "line": {
              "color": "white"
             }
            },
            "type": "table"
           }
          ]
         },
         "layout": {
          "annotationdefaults": {
           "arrowcolor": "#2a3f5f",
           "arrowhead": 0,
           "arrowwidth": 1
          },
          "autotypenumbers": "strict",
          "coloraxis": {
           "colorbar": {
            "outlinewidth": 0,
            "ticks": ""
           }
          },
          "colorscale": {
           "diverging": [
            [
             0,
             "#8e0152"
            ],
            [
             0.1,
             "#c51b7d"
            ],
            [
             0.2,
             "#de77ae"
            ],
            [
             0.3,
             "#f1b6da"
            ],
            [
             0.4,
             "#fde0ef"
            ],
            [
             0.5,
             "#f7f7f7"
            ],
            [
             0.6,
             "#e6f5d0"
            ],
            [
             0.7,
             "#b8e186"
            ],
            [
             0.8,
             "#7fbc41"
            ],
            [
             0.9,
             "#4d9221"
            ],
            [
             1,
             "#276419"
            ]
           ],
           "sequential": [
            [
             0,
             "#0d0887"
            ],
            [
             0.1111111111111111,
             "#46039f"
            ],
            [
             0.2222222222222222,
             "#7201a8"
            ],
            [
             0.3333333333333333,
             "#9c179e"
            ],
            [
             0.4444444444444444,
             "#bd3786"
            ],
            [
             0.5555555555555556,
             "#d8576b"
            ],
            [
             0.6666666666666666,
             "#ed7953"
            ],
            [
             0.7777777777777778,
             "#fb9f3a"
            ],
            [
             0.8888888888888888,
             "#fdca26"
            ],
            [
             1,
             "#f0f921"
            ]
           ],
           "sequentialminus": [
            [
             0,
             "#0d0887"
            ],
            [
             0.1111111111111111,
             "#46039f"
            ],
            [
             0.2222222222222222,
             "#7201a8"
            ],
            [
             0.3333333333333333,
             "#9c179e"
            ],
            [
             0.4444444444444444,
             "#bd3786"
            ],
            [
             0.5555555555555556,
             "#d8576b"
            ],
            [
             0.6666666666666666,
             "#ed7953"
            ],
            [
             0.7777777777777778,
             "#fb9f3a"
            ],
            [
             0.8888888888888888,
             "#fdca26"
            ],
            [
             1,
             "#f0f921"
            ]
           ]
          },
          "colorway": [
           "#636efa",
           "#EF553B",
           "#00cc96",
           "#ab63fa",
           "#FFA15A",
           "#19d3f3",
           "#FF6692",
           "#B6E880",
           "#FF97FF",
           "#FECB52"
          ],
          "font": {
           "color": "#2a3f5f"
          },
          "geo": {
           "bgcolor": "white",
           "lakecolor": "white",
           "landcolor": "#E5ECF6",
           "showlakes": true,
           "showland": true,
           "subunitcolor": "white"
          },
          "hoverlabel": {
           "align": "left"
          },
          "hovermode": "closest",
          "mapbox": {
           "style": "light"
          },
          "paper_bgcolor": "white",
          "plot_bgcolor": "#E5ECF6",
          "polar": {
           "angularaxis": {
            "gridcolor": "white",
            "linecolor": "white",
            "ticks": ""
           },
           "bgcolor": "#E5ECF6",
           "radialaxis": {
            "gridcolor": "white",
            "linecolor": "white",
            "ticks": ""
           }
          },
          "scene": {
           "xaxis": {
            "backgroundcolor": "#E5ECF6",
            "gridcolor": "white",
            "gridwidth": 2,
            "linecolor": "white",
            "showbackground": true,
            "ticks": "",
            "zerolinecolor": "white"
           },
           "yaxis": {
            "backgroundcolor": "#E5ECF6",
            "gridcolor": "white",
            "gridwidth": 2,
            "linecolor": "white",
            "showbackground": true,
            "ticks": "",
            "zerolinecolor": "white"
           },
           "zaxis": {
            "backgroundcolor": "#E5ECF6",
            "gridcolor": "white",
            "gridwidth": 2,
            "linecolor": "white",
            "showbackground": true,
            "ticks": "",
            "zerolinecolor": "white"
           }
          },
          "shapedefaults": {
           "line": {
            "color": "#2a3f5f"
           }
          },
          "ternary": {
           "aaxis": {
            "gridcolor": "white",
            "linecolor": "white",
            "ticks": ""
           },
           "baxis": {
            "gridcolor": "white",
            "linecolor": "white",
            "ticks": ""
           },
           "bgcolor": "#E5ECF6",
           "caxis": {
            "gridcolor": "white",
            "linecolor": "white",
            "ticks": ""
           }
          },
          "title": {
           "x": 0.05
          },
          "xaxis": {
           "automargin": true,
           "gridcolor": "white",
           "linecolor": "white",
           "ticks": "",
           "title": {
            "standoff": 15
           },
           "zerolinecolor": "white",
           "zerolinewidth": 2
          },
          "yaxis": {
           "automargin": true,
           "gridcolor": "white",
           "linecolor": "white",
           "ticks": "",
           "title": {
            "standoff": 15
           },
           "zerolinecolor": "white",
           "zerolinewidth": 2
          }
         }
        },
        "title": {
         "text": "Environmental Impact: Acidification"
        },
        "xaxis": {
         "title": {
          "text": "Product Type"
         }
        },
        "yaxis": {
         "title": {
          "text": "Acidifying Emissions (g SO2eq/FU)"
         }
        }
       }
      }
     },
     "metadata": {},
     "output_type": "display_data"
    },
    {
     "data": {
      "application/vnd.plotly.v1+json": {
       "config": {
        "plotlyServerURL": "https://plot.ly"
       },
       "data": [
        {
         "marker": {
          "color": [
           "darkgreen",
           "darkred"
          ]
         },
         "name": "Eutrophication",
         "type": "bar",
         "x": [
          "Vegan",
          "Non-vegan"
         ],
         "y": [
          498.98999999999995,
          1501.28
         ]
        }
       ],
       "layout": {
        "template": {
         "data": {
          "bar": [
           {
            "error_x": {
             "color": "#2a3f5f"
            },
            "error_y": {
             "color": "#2a3f5f"
            },
            "marker": {
             "line": {
              "color": "#E5ECF6",
              "width": 0.5
             },
             "pattern": {
              "fillmode": "overlay",
              "size": 10,
              "solidity": 0.2
             }
            },
            "type": "bar"
           }
          ],
          "barpolar": [
           {
            "marker": {
             "line": {
              "color": "#E5ECF6",
              "width": 0.5
             },
             "pattern": {
              "fillmode": "overlay",
              "size": 10,
              "solidity": 0.2
             }
            },
            "type": "barpolar"
           }
          ],
          "carpet": [
           {
            "aaxis": {
             "endlinecolor": "#2a3f5f",
             "gridcolor": "white",
             "linecolor": "white",
             "minorgridcolor": "white",
             "startlinecolor": "#2a3f5f"
            },
            "baxis": {
             "endlinecolor": "#2a3f5f",
             "gridcolor": "white",
             "linecolor": "white",
             "minorgridcolor": "white",
             "startlinecolor": "#2a3f5f"
            },
            "type": "carpet"
           }
          ],
          "choropleth": [
           {
            "colorbar": {
             "outlinewidth": 0,
             "ticks": ""
            },
            "type": "choropleth"
           }
          ],
          "contour": [
           {
            "colorbar": {
             "outlinewidth": 0,
             "ticks": ""
            },
            "colorscale": [
             [
              0,
              "#0d0887"
             ],
             [
              0.1111111111111111,
              "#46039f"
             ],
             [
              0.2222222222222222,
              "#7201a8"
             ],
             [
              0.3333333333333333,
              "#9c179e"
             ],
             [
              0.4444444444444444,
              "#bd3786"
             ],
             [
              0.5555555555555556,
              "#d8576b"
             ],
             [
              0.6666666666666666,
              "#ed7953"
             ],
             [
              0.7777777777777778,
              "#fb9f3a"
             ],
             [
              0.8888888888888888,
              "#fdca26"
             ],
             [
              1,
              "#f0f921"
             ]
            ],
            "type": "contour"
           }
          ],
          "contourcarpet": [
           {
            "colorbar": {
             "outlinewidth": 0,
             "ticks": ""
            },
            "type": "contourcarpet"
           }
          ],
          "heatmap": [
           {
            "colorbar": {
             "outlinewidth": 0,
             "ticks": ""
            },
            "colorscale": [
             [
              0,
              "#0d0887"
             ],
             [
              0.1111111111111111,
              "#46039f"
             ],
             [
              0.2222222222222222,
              "#7201a8"
             ],
             [
              0.3333333333333333,
              "#9c179e"
             ],
             [
              0.4444444444444444,
              "#bd3786"
             ],
             [
              0.5555555555555556,
              "#d8576b"
             ],
             [
              0.6666666666666666,
              "#ed7953"
             ],
             [
              0.7777777777777778,
              "#fb9f3a"
             ],
             [
              0.8888888888888888,
              "#fdca26"
             ],
             [
              1,
              "#f0f921"
             ]
            ],
            "type": "heatmap"
           }
          ],
          "heatmapgl": [
           {
            "colorbar": {
             "outlinewidth": 0,
             "ticks": ""
            },
            "colorscale": [
             [
              0,
              "#0d0887"
             ],
             [
              0.1111111111111111,
              "#46039f"
             ],
             [
              0.2222222222222222,
              "#7201a8"
             ],
             [
              0.3333333333333333,
              "#9c179e"
             ],
             [
              0.4444444444444444,
              "#bd3786"
             ],
             [
              0.5555555555555556,
              "#d8576b"
             ],
             [
              0.6666666666666666,
              "#ed7953"
             ],
             [
              0.7777777777777778,
              "#fb9f3a"
             ],
             [
              0.8888888888888888,
              "#fdca26"
             ],
             [
              1,
              "#f0f921"
             ]
            ],
            "type": "heatmapgl"
           }
          ],
          "histogram": [
           {
            "marker": {
             "pattern": {
              "fillmode": "overlay",
              "size": 10,
              "solidity": 0.2
             }
            },
            "type": "histogram"
           }
          ],
          "histogram2d": [
           {
            "colorbar": {
             "outlinewidth": 0,
             "ticks": ""
            },
            "colorscale": [
             [
              0,
              "#0d0887"
             ],
             [
              0.1111111111111111,
              "#46039f"
             ],
             [
              0.2222222222222222,
              "#7201a8"
             ],
             [
              0.3333333333333333,
              "#9c179e"
             ],
             [
              0.4444444444444444,
              "#bd3786"
             ],
             [
              0.5555555555555556,
              "#d8576b"
             ],
             [
              0.6666666666666666,
              "#ed7953"
             ],
             [
              0.7777777777777778,
              "#fb9f3a"
             ],
             [
              0.8888888888888888,
              "#fdca26"
             ],
             [
              1,
              "#f0f921"
             ]
            ],
            "type": "histogram2d"
           }
          ],
          "histogram2dcontour": [
           {
            "colorbar": {
             "outlinewidth": 0,
             "ticks": ""
            },
            "colorscale": [
             [
              0,
              "#0d0887"
             ],
             [
              0.1111111111111111,
              "#46039f"
             ],
             [
              0.2222222222222222,
              "#7201a8"
             ],
             [
              0.3333333333333333,
              "#9c179e"
             ],
             [
              0.4444444444444444,
              "#bd3786"
             ],
             [
              0.5555555555555556,
              "#d8576b"
             ],
             [
              0.6666666666666666,
              "#ed7953"
             ],
             [
              0.7777777777777778,
              "#fb9f3a"
             ],
             [
              0.8888888888888888,
              "#fdca26"
             ],
             [
              1,
              "#f0f921"
             ]
            ],
            "type": "histogram2dcontour"
           }
          ],
          "mesh3d": [
           {
            "colorbar": {
             "outlinewidth": 0,
             "ticks": ""
            },
            "type": "mesh3d"
           }
          ],
          "parcoords": [
           {
            "line": {
             "colorbar": {
              "outlinewidth": 0,
              "ticks": ""
             }
            },
            "type": "parcoords"
           }
          ],
          "pie": [
           {
            "automargin": true,
            "type": "pie"
           }
          ],
          "scatter": [
           {
            "fillpattern": {
             "fillmode": "overlay",
             "size": 10,
             "solidity": 0.2
            },
            "type": "scatter"
           }
          ],
          "scatter3d": [
           {
            "line": {
             "colorbar": {
              "outlinewidth": 0,
              "ticks": ""
             }
            },
            "marker": {
             "colorbar": {
              "outlinewidth": 0,
              "ticks": ""
             }
            },
            "type": "scatter3d"
           }
          ],
          "scattercarpet": [
           {
            "marker": {
             "colorbar": {
              "outlinewidth": 0,
              "ticks": ""
             }
            },
            "type": "scattercarpet"
           }
          ],
          "scattergeo": [
           {
            "marker": {
             "colorbar": {
              "outlinewidth": 0,
              "ticks": ""
             }
            },
            "type": "scattergeo"
           }
          ],
          "scattergl": [
           {
            "marker": {
             "colorbar": {
              "outlinewidth": 0,
              "ticks": ""
             }
            },
            "type": "scattergl"
           }
          ],
          "scattermapbox": [
           {
            "marker": {
             "colorbar": {
              "outlinewidth": 0,
              "ticks": ""
             }
            },
            "type": "scattermapbox"
           }
          ],
          "scatterpolar": [
           {
            "marker": {
             "colorbar": {
              "outlinewidth": 0,
              "ticks": ""
             }
            },
            "type": "scatterpolar"
           }
          ],
          "scatterpolargl": [
           {
            "marker": {
             "colorbar": {
              "outlinewidth": 0,
              "ticks": ""
             }
            },
            "type": "scatterpolargl"
           }
          ],
          "scatterternary": [
           {
            "marker": {
             "colorbar": {
              "outlinewidth": 0,
              "ticks": ""
             }
            },
            "type": "scatterternary"
           }
          ],
          "surface": [
           {
            "colorbar": {
             "outlinewidth": 0,
             "ticks": ""
            },
            "colorscale": [
             [
              0,
              "#0d0887"
             ],
             [
              0.1111111111111111,
              "#46039f"
             ],
             [
              0.2222222222222222,
              "#7201a8"
             ],
             [
              0.3333333333333333,
              "#9c179e"
             ],
             [
              0.4444444444444444,
              "#bd3786"
             ],
             [
              0.5555555555555556,
              "#d8576b"
             ],
             [
              0.6666666666666666,
              "#ed7953"
             ],
             [
              0.7777777777777778,
              "#fb9f3a"
             ],
             [
              0.8888888888888888,
              "#fdca26"
             ],
             [
              1,
              "#f0f921"
             ]
            ],
            "type": "surface"
           }
          ],
          "table": [
           {
            "cells": {
             "fill": {
              "color": "#EBF0F8"
             },
             "line": {
              "color": "white"
             }
            },
            "header": {
             "fill": {
              "color": "#C8D4E3"
             },
             "line": {
              "color": "white"
             }
            },
            "type": "table"
           }
          ]
         },
         "layout": {
          "annotationdefaults": {
           "arrowcolor": "#2a3f5f",
           "arrowhead": 0,
           "arrowwidth": 1
          },
          "autotypenumbers": "strict",
          "coloraxis": {
           "colorbar": {
            "outlinewidth": 0,
            "ticks": ""
           }
          },
          "colorscale": {
           "diverging": [
            [
             0,
             "#8e0152"
            ],
            [
             0.1,
             "#c51b7d"
            ],
            [
             0.2,
             "#de77ae"
            ],
            [
             0.3,
             "#f1b6da"
            ],
            [
             0.4,
             "#fde0ef"
            ],
            [
             0.5,
             "#f7f7f7"
            ],
            [
             0.6,
             "#e6f5d0"
            ],
            [
             0.7,
             "#b8e186"
            ],
            [
             0.8,
             "#7fbc41"
            ],
            [
             0.9,
             "#4d9221"
            ],
            [
             1,
             "#276419"
            ]
           ],
           "sequential": [
            [
             0,
             "#0d0887"
            ],
            [
             0.1111111111111111,
             "#46039f"
            ],
            [
             0.2222222222222222,
             "#7201a8"
            ],
            [
             0.3333333333333333,
             "#9c179e"
            ],
            [
             0.4444444444444444,
             "#bd3786"
            ],
            [
             0.5555555555555556,
             "#d8576b"
            ],
            [
             0.6666666666666666,
             "#ed7953"
            ],
            [
             0.7777777777777778,
             "#fb9f3a"
            ],
            [
             0.8888888888888888,
             "#fdca26"
            ],
            [
             1,
             "#f0f921"
            ]
           ],
           "sequentialminus": [
            [
             0,
             "#0d0887"
            ],
            [
             0.1111111111111111,
             "#46039f"
            ],
            [
             0.2222222222222222,
             "#7201a8"
            ],
            [
             0.3333333333333333,
             "#9c179e"
            ],
            [
             0.4444444444444444,
             "#bd3786"
            ],
            [
             0.5555555555555556,
             "#d8576b"
            ],
            [
             0.6666666666666666,
             "#ed7953"
            ],
            [
             0.7777777777777778,
             "#fb9f3a"
            ],
            [
             0.8888888888888888,
             "#fdca26"
            ],
            [
             1,
             "#f0f921"
            ]
           ]
          },
          "colorway": [
           "#636efa",
           "#EF553B",
           "#00cc96",
           "#ab63fa",
           "#FFA15A",
           "#19d3f3",
           "#FF6692",
           "#B6E880",
           "#FF97FF",
           "#FECB52"
          ],
          "font": {
           "color": "#2a3f5f"
          },
          "geo": {
           "bgcolor": "white",
           "lakecolor": "white",
           "landcolor": "#E5ECF6",
           "showlakes": true,
           "showland": true,
           "subunitcolor": "white"
          },
          "hoverlabel": {
           "align": "left"
          },
          "hovermode": "closest",
          "mapbox": {
           "style": "light"
          },
          "paper_bgcolor": "white",
          "plot_bgcolor": "#E5ECF6",
          "polar": {
           "angularaxis": {
            "gridcolor": "white",
            "linecolor": "white",
            "ticks": ""
           },
           "bgcolor": "#E5ECF6",
           "radialaxis": {
            "gridcolor": "white",
            "linecolor": "white",
            "ticks": ""
           }
          },
          "scene": {
           "xaxis": {
            "backgroundcolor": "#E5ECF6",
            "gridcolor": "white",
            "gridwidth": 2,
            "linecolor": "white",
            "showbackground": true,
            "ticks": "",
            "zerolinecolor": "white"
           },
           "yaxis": {
            "backgroundcolor": "#E5ECF6",
            "gridcolor": "white",
            "gridwidth": 2,
            "linecolor": "white",
            "showbackground": true,
            "ticks": "",
            "zerolinecolor": "white"
           },
           "zaxis": {
            "backgroundcolor": "#E5ECF6",
            "gridcolor": "white",
            "gridwidth": 2,
            "linecolor": "white",
            "showbackground": true,
            "ticks": "",
            "zerolinecolor": "white"
           }
          },
          "shapedefaults": {
           "line": {
            "color": "#2a3f5f"
           }
          },
          "ternary": {
           "aaxis": {
            "gridcolor": "white",
            "linecolor": "white",
            "ticks": ""
           },
           "baxis": {
            "gridcolor": "white",
            "linecolor": "white",
            "ticks": ""
           },
           "bgcolor": "#E5ECF6",
           "caxis": {
            "gridcolor": "white",
            "linecolor": "white",
            "ticks": ""
           }
          },
          "title": {
           "x": 0.05
          },
          "xaxis": {
           "automargin": true,
           "gridcolor": "white",
           "linecolor": "white",
           "ticks": "",
           "title": {
            "standoff": 15
           },
           "zerolinecolor": "white",
           "zerolinewidth": 2
          },
          "yaxis": {
           "automargin": true,
           "gridcolor": "white",
           "linecolor": "white",
           "ticks": "",
           "title": {
            "standoff": 15
           },
           "zerolinecolor": "white",
           "zerolinewidth": 2
          }
         }
        },
        "title": {
         "text": "Environmental Impact: Eutrophication"
        },
        "xaxis": {
         "title": {
          "text": "Product Type"
         }
        },
        "yaxis": {
         "title": {
          "text": "Eutrophying Emissions (g PO43-eq/FU)"
         }
        }
       }
      }
     },
     "metadata": {},
     "output_type": "display_data"
    },
    {
     "data": {
      "application/vnd.plotly.v1+json": {
       "config": {
        "plotlyServerURL": "https://plot.ly"
       },
       "data": [
        {
         "marker": {
          "color": [
           "darkgreen",
           "darkred"
          ]
         },
         "name": "Fresh Water Withdrawal",
         "type": "bar",
         "x": [
          "Vegan",
          "Non-vegan"
         ],
         "y": [
          16904.2,
          23079.100000000002
         ]
        }
       ],
       "layout": {
        "template": {
         "data": {
          "bar": [
           {
            "error_x": {
             "color": "#2a3f5f"
            },
            "error_y": {
             "color": "#2a3f5f"
            },
            "marker": {
             "line": {
              "color": "#E5ECF6",
              "width": 0.5
             },
             "pattern": {
              "fillmode": "overlay",
              "size": 10,
              "solidity": 0.2
             }
            },
            "type": "bar"
           }
          ],
          "barpolar": [
           {
            "marker": {
             "line": {
              "color": "#E5ECF6",
              "width": 0.5
             },
             "pattern": {
              "fillmode": "overlay",
              "size": 10,
              "solidity": 0.2
             }
            },
            "type": "barpolar"
           }
          ],
          "carpet": [
           {
            "aaxis": {
             "endlinecolor": "#2a3f5f",
             "gridcolor": "white",
             "linecolor": "white",
             "minorgridcolor": "white",
             "startlinecolor": "#2a3f5f"
            },
            "baxis": {
             "endlinecolor": "#2a3f5f",
             "gridcolor": "white",
             "linecolor": "white",
             "minorgridcolor": "white",
             "startlinecolor": "#2a3f5f"
            },
            "type": "carpet"
           }
          ],
          "choropleth": [
           {
            "colorbar": {
             "outlinewidth": 0,
             "ticks": ""
            },
            "type": "choropleth"
           }
          ],
          "contour": [
           {
            "colorbar": {
             "outlinewidth": 0,
             "ticks": ""
            },
            "colorscale": [
             [
              0,
              "#0d0887"
             ],
             [
              0.1111111111111111,
              "#46039f"
             ],
             [
              0.2222222222222222,
              "#7201a8"
             ],
             [
              0.3333333333333333,
              "#9c179e"
             ],
             [
              0.4444444444444444,
              "#bd3786"
             ],
             [
              0.5555555555555556,
              "#d8576b"
             ],
             [
              0.6666666666666666,
              "#ed7953"
             ],
             [
              0.7777777777777778,
              "#fb9f3a"
             ],
             [
              0.8888888888888888,
              "#fdca26"
             ],
             [
              1,
              "#f0f921"
             ]
            ],
            "type": "contour"
           }
          ],
          "contourcarpet": [
           {
            "colorbar": {
             "outlinewidth": 0,
             "ticks": ""
            },
            "type": "contourcarpet"
           }
          ],
          "heatmap": [
           {
            "colorbar": {
             "outlinewidth": 0,
             "ticks": ""
            },
            "colorscale": [
             [
              0,
              "#0d0887"
             ],
             [
              0.1111111111111111,
              "#46039f"
             ],
             [
              0.2222222222222222,
              "#7201a8"
             ],
             [
              0.3333333333333333,
              "#9c179e"
             ],
             [
              0.4444444444444444,
              "#bd3786"
             ],
             [
              0.5555555555555556,
              "#d8576b"
             ],
             [
              0.6666666666666666,
              "#ed7953"
             ],
             [
              0.7777777777777778,
              "#fb9f3a"
             ],
             [
              0.8888888888888888,
              "#fdca26"
             ],
             [
              1,
              "#f0f921"
             ]
            ],
            "type": "heatmap"
           }
          ],
          "heatmapgl": [
           {
            "colorbar": {
             "outlinewidth": 0,
             "ticks": ""
            },
            "colorscale": [
             [
              0,
              "#0d0887"
             ],
             [
              0.1111111111111111,
              "#46039f"
             ],
             [
              0.2222222222222222,
              "#7201a8"
             ],
             [
              0.3333333333333333,
              "#9c179e"
             ],
             [
              0.4444444444444444,
              "#bd3786"
             ],
             [
              0.5555555555555556,
              "#d8576b"
             ],
             [
              0.6666666666666666,
              "#ed7953"
             ],
             [
              0.7777777777777778,
              "#fb9f3a"
             ],
             [
              0.8888888888888888,
              "#fdca26"
             ],
             [
              1,
              "#f0f921"
             ]
            ],
            "type": "heatmapgl"
           }
          ],
          "histogram": [
           {
            "marker": {
             "pattern": {
              "fillmode": "overlay",
              "size": 10,
              "solidity": 0.2
             }
            },
            "type": "histogram"
           }
          ],
          "histogram2d": [
           {
            "colorbar": {
             "outlinewidth": 0,
             "ticks": ""
            },
            "colorscale": [
             [
              0,
              "#0d0887"
             ],
             [
              0.1111111111111111,
              "#46039f"
             ],
             [
              0.2222222222222222,
              "#7201a8"
             ],
             [
              0.3333333333333333,
              "#9c179e"
             ],
             [
              0.4444444444444444,
              "#bd3786"
             ],
             [
              0.5555555555555556,
              "#d8576b"
             ],
             [
              0.6666666666666666,
              "#ed7953"
             ],
             [
              0.7777777777777778,
              "#fb9f3a"
             ],
             [
              0.8888888888888888,
              "#fdca26"
             ],
             [
              1,
              "#f0f921"
             ]
            ],
            "type": "histogram2d"
           }
          ],
          "histogram2dcontour": [
           {
            "colorbar": {
             "outlinewidth": 0,
             "ticks": ""
            },
            "colorscale": [
             [
              0,
              "#0d0887"
             ],
             [
              0.1111111111111111,
              "#46039f"
             ],
             [
              0.2222222222222222,
              "#7201a8"
             ],
             [
              0.3333333333333333,
              "#9c179e"
             ],
             [
              0.4444444444444444,
              "#bd3786"
             ],
             [
              0.5555555555555556,
              "#d8576b"
             ],
             [
              0.6666666666666666,
              "#ed7953"
             ],
             [
              0.7777777777777778,
              "#fb9f3a"
             ],
             [
              0.8888888888888888,
              "#fdca26"
             ],
             [
              1,
              "#f0f921"
             ]
            ],
            "type": "histogram2dcontour"
           }
          ],
          "mesh3d": [
           {
            "colorbar": {
             "outlinewidth": 0,
             "ticks": ""
            },
            "type": "mesh3d"
           }
          ],
          "parcoords": [
           {
            "line": {
             "colorbar": {
              "outlinewidth": 0,
              "ticks": ""
             }
            },
            "type": "parcoords"
           }
          ],
          "pie": [
           {
            "automargin": true,
            "type": "pie"
           }
          ],
          "scatter": [
           {
            "fillpattern": {
             "fillmode": "overlay",
             "size": 10,
             "solidity": 0.2
            },
            "type": "scatter"
           }
          ],
          "scatter3d": [
           {
            "line": {
             "colorbar": {
              "outlinewidth": 0,
              "ticks": ""
             }
            },
            "marker": {
             "colorbar": {
              "outlinewidth": 0,
              "ticks": ""
             }
            },
            "type": "scatter3d"
           }
          ],
          "scattercarpet": [
           {
            "marker": {
             "colorbar": {
              "outlinewidth": 0,
              "ticks": ""
             }
            },
            "type": "scattercarpet"
           }
          ],
          "scattergeo": [
           {
            "marker": {
             "colorbar": {
              "outlinewidth": 0,
              "ticks": ""
             }
            },
            "type": "scattergeo"
           }
          ],
          "scattergl": [
           {
            "marker": {
             "colorbar": {
              "outlinewidth": 0,
              "ticks": ""
             }
            },
            "type": "scattergl"
           }
          ],
          "scattermapbox": [
           {
            "marker": {
             "colorbar": {
              "outlinewidth": 0,
              "ticks": ""
             }
            },
            "type": "scattermapbox"
           }
          ],
          "scatterpolar": [
           {
            "marker": {
             "colorbar": {
              "outlinewidth": 0,
              "ticks": ""
             }
            },
            "type": "scatterpolar"
           }
          ],
          "scatterpolargl": [
           {
            "marker": {
             "colorbar": {
              "outlinewidth": 0,
              "ticks": ""
             }
            },
            "type": "scatterpolargl"
           }
          ],
          "scatterternary": [
           {
            "marker": {
             "colorbar": {
              "outlinewidth": 0,
              "ticks": ""
             }
            },
            "type": "scatterternary"
           }
          ],
          "surface": [
           {
            "colorbar": {
             "outlinewidth": 0,
             "ticks": ""
            },
            "colorscale": [
             [
              0,
              "#0d0887"
             ],
             [
              0.1111111111111111,
              "#46039f"
             ],
             [
              0.2222222222222222,
              "#7201a8"
             ],
             [
              0.3333333333333333,
              "#9c179e"
             ],
             [
              0.4444444444444444,
              "#bd3786"
             ],
             [
              0.5555555555555556,
              "#d8576b"
             ],
             [
              0.6666666666666666,
              "#ed7953"
             ],
             [
              0.7777777777777778,
              "#fb9f3a"
             ],
             [
              0.8888888888888888,
              "#fdca26"
             ],
             [
              1,
              "#f0f921"
             ]
            ],
            "type": "surface"
           }
          ],
          "table": [
           {
            "cells": {
             "fill": {
              "color": "#EBF0F8"
             },
             "line": {
              "color": "white"
             }
            },
            "header": {
             "fill": {
              "color": "#C8D4E3"
             },
             "line": {
              "color": "white"
             }
            },
            "type": "table"
           }
          ]
         },
         "layout": {
          "annotationdefaults": {
           "arrowcolor": "#2a3f5f",
           "arrowhead": 0,
           "arrowwidth": 1
          },
          "autotypenumbers": "strict",
          "coloraxis": {
           "colorbar": {
            "outlinewidth": 0,
            "ticks": ""
           }
          },
          "colorscale": {
           "diverging": [
            [
             0,
             "#8e0152"
            ],
            [
             0.1,
             "#c51b7d"
            ],
            [
             0.2,
             "#de77ae"
            ],
            [
             0.3,
             "#f1b6da"
            ],
            [
             0.4,
             "#fde0ef"
            ],
            [
             0.5,
             "#f7f7f7"
            ],
            [
             0.6,
             "#e6f5d0"
            ],
            [
             0.7,
             "#b8e186"
            ],
            [
             0.8,
             "#7fbc41"
            ],
            [
             0.9,
             "#4d9221"
            ],
            [
             1,
             "#276419"
            ]
           ],
           "sequential": [
            [
             0,
             "#0d0887"
            ],
            [
             0.1111111111111111,
             "#46039f"
            ],
            [
             0.2222222222222222,
             "#7201a8"
            ],
            [
             0.3333333333333333,
             "#9c179e"
            ],
            [
             0.4444444444444444,
             "#bd3786"
            ],
            [
             0.5555555555555556,
             "#d8576b"
            ],
            [
             0.6666666666666666,
             "#ed7953"
            ],
            [
             0.7777777777777778,
             "#fb9f3a"
            ],
            [
             0.8888888888888888,
             "#fdca26"
            ],
            [
             1,
             "#f0f921"
            ]
           ],
           "sequentialminus": [
            [
             0,
             "#0d0887"
            ],
            [
             0.1111111111111111,
             "#46039f"
            ],
            [
             0.2222222222222222,
             "#7201a8"
            ],
            [
             0.3333333333333333,
             "#9c179e"
            ],
            [
             0.4444444444444444,
             "#bd3786"
            ],
            [
             0.5555555555555556,
             "#d8576b"
            ],
            [
             0.6666666666666666,
             "#ed7953"
            ],
            [
             0.7777777777777778,
             "#fb9f3a"
            ],
            [
             0.8888888888888888,
             "#fdca26"
            ],
            [
             1,
             "#f0f921"
            ]
           ]
          },
          "colorway": [
           "#636efa",
           "#EF553B",
           "#00cc96",
           "#ab63fa",
           "#FFA15A",
           "#19d3f3",
           "#FF6692",
           "#B6E880",
           "#FF97FF",
           "#FECB52"
          ],
          "font": {
           "color": "#2a3f5f"
          },
          "geo": {
           "bgcolor": "white",
           "lakecolor": "white",
           "landcolor": "#E5ECF6",
           "showlakes": true,
           "showland": true,
           "subunitcolor": "white"
          },
          "hoverlabel": {
           "align": "left"
          },
          "hovermode": "closest",
          "mapbox": {
           "style": "light"
          },
          "paper_bgcolor": "white",
          "plot_bgcolor": "#E5ECF6",
          "polar": {
           "angularaxis": {
            "gridcolor": "white",
            "linecolor": "white",
            "ticks": ""
           },
           "bgcolor": "#E5ECF6",
           "radialaxis": {
            "gridcolor": "white",
            "linecolor": "white",
            "ticks": ""
           }
          },
          "scene": {
           "xaxis": {
            "backgroundcolor": "#E5ECF6",
            "gridcolor": "white",
            "gridwidth": 2,
            "linecolor": "white",
            "showbackground": true,
            "ticks": "",
            "zerolinecolor": "white"
           },
           "yaxis": {
            "backgroundcolor": "#E5ECF6",
            "gridcolor": "white",
            "gridwidth": 2,
            "linecolor": "white",
            "showbackground": true,
            "ticks": "",
            "zerolinecolor": "white"
           },
           "zaxis": {
            "backgroundcolor": "#E5ECF6",
            "gridcolor": "white",
            "gridwidth": 2,
            "linecolor": "white",
            "showbackground": true,
            "ticks": "",
            "zerolinecolor": "white"
           }
          },
          "shapedefaults": {
           "line": {
            "color": "#2a3f5f"
           }
          },
          "ternary": {
           "aaxis": {
            "gridcolor": "white",
            "linecolor": "white",
            "ticks": ""
           },
           "baxis": {
            "gridcolor": "white",
            "linecolor": "white",
            "ticks": ""
           },
           "bgcolor": "#E5ECF6",
           "caxis": {
            "gridcolor": "white",
            "linecolor": "white",
            "ticks": ""
           }
          },
          "title": {
           "x": 0.05
          },
          "xaxis": {
           "automargin": true,
           "gridcolor": "white",
           "linecolor": "white",
           "ticks": "",
           "title": {
            "standoff": 15
           },
           "zerolinecolor": "white",
           "zerolinewidth": 2
          },
          "yaxis": {
           "automargin": true,
           "gridcolor": "white",
           "linecolor": "white",
           "ticks": "",
           "title": {
            "standoff": 15
           },
           "zerolinecolor": "white",
           "zerolinewidth": 2
          }
         }
        },
        "title": {
         "text": "Environmental Impact: Fresh Water Withdrawal"
        },
        "xaxis": {
         "title": {
          "text": "Product Type"
         }
        },
        "yaxis": {
         "title": {
          "text": "Freshwater Withdrawals (L/FU)"
         }
        }
       }
      }
     },
     "metadata": {},
     "output_type": "display_data"
    },
    {
     "data": {
      "application/vnd.plotly.v1+json": {
       "config": {
        "plotlyServerURL": "https://plot.ly"
       },
       "data": [
        {
         "marker": {
          "color": [
           "darkgreen",
           "darkred"
          ]
         },
         "name": "Stress Water Use",
         "type": "bar",
         "x": [
          "Vegan",
          "Non-vegan"
         ],
         "y": [
          786306,
          782093.7999999999
         ]
        }
       ],
       "layout": {
        "template": {
         "data": {
          "bar": [
           {
            "error_x": {
             "color": "#2a3f5f"
            },
            "error_y": {
             "color": "#2a3f5f"
            },
            "marker": {
             "line": {
              "color": "#E5ECF6",
              "width": 0.5
             },
             "pattern": {
              "fillmode": "overlay",
              "size": 10,
              "solidity": 0.2
             }
            },
            "type": "bar"
           }
          ],
          "barpolar": [
           {
            "marker": {
             "line": {
              "color": "#E5ECF6",
              "width": 0.5
             },
             "pattern": {
              "fillmode": "overlay",
              "size": 10,
              "solidity": 0.2
             }
            },
            "type": "barpolar"
           }
          ],
          "carpet": [
           {
            "aaxis": {
             "endlinecolor": "#2a3f5f",
             "gridcolor": "white",
             "linecolor": "white",
             "minorgridcolor": "white",
             "startlinecolor": "#2a3f5f"
            },
            "baxis": {
             "endlinecolor": "#2a3f5f",
             "gridcolor": "white",
             "linecolor": "white",
             "minorgridcolor": "white",
             "startlinecolor": "#2a3f5f"
            },
            "type": "carpet"
           }
          ],
          "choropleth": [
           {
            "colorbar": {
             "outlinewidth": 0,
             "ticks": ""
            },
            "type": "choropleth"
           }
          ],
          "contour": [
           {
            "colorbar": {
             "outlinewidth": 0,
             "ticks": ""
            },
            "colorscale": [
             [
              0,
              "#0d0887"
             ],
             [
              0.1111111111111111,
              "#46039f"
             ],
             [
              0.2222222222222222,
              "#7201a8"
             ],
             [
              0.3333333333333333,
              "#9c179e"
             ],
             [
              0.4444444444444444,
              "#bd3786"
             ],
             [
              0.5555555555555556,
              "#d8576b"
             ],
             [
              0.6666666666666666,
              "#ed7953"
             ],
             [
              0.7777777777777778,
              "#fb9f3a"
             ],
             [
              0.8888888888888888,
              "#fdca26"
             ],
             [
              1,
              "#f0f921"
             ]
            ],
            "type": "contour"
           }
          ],
          "contourcarpet": [
           {
            "colorbar": {
             "outlinewidth": 0,
             "ticks": ""
            },
            "type": "contourcarpet"
           }
          ],
          "heatmap": [
           {
            "colorbar": {
             "outlinewidth": 0,
             "ticks": ""
            },
            "colorscale": [
             [
              0,
              "#0d0887"
             ],
             [
              0.1111111111111111,
              "#46039f"
             ],
             [
              0.2222222222222222,
              "#7201a8"
             ],
             [
              0.3333333333333333,
              "#9c179e"
             ],
             [
              0.4444444444444444,
              "#bd3786"
             ],
             [
              0.5555555555555556,
              "#d8576b"
             ],
             [
              0.6666666666666666,
              "#ed7953"
             ],
             [
              0.7777777777777778,
              "#fb9f3a"
             ],
             [
              0.8888888888888888,
              "#fdca26"
             ],
             [
              1,
              "#f0f921"
             ]
            ],
            "type": "heatmap"
           }
          ],
          "heatmapgl": [
           {
            "colorbar": {
             "outlinewidth": 0,
             "ticks": ""
            },
            "colorscale": [
             [
              0,
              "#0d0887"
             ],
             [
              0.1111111111111111,
              "#46039f"
             ],
             [
              0.2222222222222222,
              "#7201a8"
             ],
             [
              0.3333333333333333,
              "#9c179e"
             ],
             [
              0.4444444444444444,
              "#bd3786"
             ],
             [
              0.5555555555555556,
              "#d8576b"
             ],
             [
              0.6666666666666666,
              "#ed7953"
             ],
             [
              0.7777777777777778,
              "#fb9f3a"
             ],
             [
              0.8888888888888888,
              "#fdca26"
             ],
             [
              1,
              "#f0f921"
             ]
            ],
            "type": "heatmapgl"
           }
          ],
          "histogram": [
           {
            "marker": {
             "pattern": {
              "fillmode": "overlay",
              "size": 10,
              "solidity": 0.2
             }
            },
            "type": "histogram"
           }
          ],
          "histogram2d": [
           {
            "colorbar": {
             "outlinewidth": 0,
             "ticks": ""
            },
            "colorscale": [
             [
              0,
              "#0d0887"
             ],
             [
              0.1111111111111111,
              "#46039f"
             ],
             [
              0.2222222222222222,
              "#7201a8"
             ],
             [
              0.3333333333333333,
              "#9c179e"
             ],
             [
              0.4444444444444444,
              "#bd3786"
             ],
             [
              0.5555555555555556,
              "#d8576b"
             ],
             [
              0.6666666666666666,
              "#ed7953"
             ],
             [
              0.7777777777777778,
              "#fb9f3a"
             ],
             [
              0.8888888888888888,
              "#fdca26"
             ],
             [
              1,
              "#f0f921"
             ]
            ],
            "type": "histogram2d"
           }
          ],
          "histogram2dcontour": [
           {
            "colorbar": {
             "outlinewidth": 0,
             "ticks": ""
            },
            "colorscale": [
             [
              0,
              "#0d0887"
             ],
             [
              0.1111111111111111,
              "#46039f"
             ],
             [
              0.2222222222222222,
              "#7201a8"
             ],
             [
              0.3333333333333333,
              "#9c179e"
             ],
             [
              0.4444444444444444,
              "#bd3786"
             ],
             [
              0.5555555555555556,
              "#d8576b"
             ],
             [
              0.6666666666666666,
              "#ed7953"
             ],
             [
              0.7777777777777778,
              "#fb9f3a"
             ],
             [
              0.8888888888888888,
              "#fdca26"
             ],
             [
              1,
              "#f0f921"
             ]
            ],
            "type": "histogram2dcontour"
           }
          ],
          "mesh3d": [
           {
            "colorbar": {
             "outlinewidth": 0,
             "ticks": ""
            },
            "type": "mesh3d"
           }
          ],
          "parcoords": [
           {
            "line": {
             "colorbar": {
              "outlinewidth": 0,
              "ticks": ""
             }
            },
            "type": "parcoords"
           }
          ],
          "pie": [
           {
            "automargin": true,
            "type": "pie"
           }
          ],
          "scatter": [
           {
            "fillpattern": {
             "fillmode": "overlay",
             "size": 10,
             "solidity": 0.2
            },
            "type": "scatter"
           }
          ],
          "scatter3d": [
           {
            "line": {
             "colorbar": {
              "outlinewidth": 0,
              "ticks": ""
             }
            },
            "marker": {
             "colorbar": {
              "outlinewidth": 0,
              "ticks": ""
             }
            },
            "type": "scatter3d"
           }
          ],
          "scattercarpet": [
           {
            "marker": {
             "colorbar": {
              "outlinewidth": 0,
              "ticks": ""
             }
            },
            "type": "scattercarpet"
           }
          ],
          "scattergeo": [
           {
            "marker": {
             "colorbar": {
              "outlinewidth": 0,
              "ticks": ""
             }
            },
            "type": "scattergeo"
           }
          ],
          "scattergl": [
           {
            "marker": {
             "colorbar": {
              "outlinewidth": 0,
              "ticks": ""
             }
            },
            "type": "scattergl"
           }
          ],
          "scattermapbox": [
           {
            "marker": {
             "colorbar": {
              "outlinewidth": 0,
              "ticks": ""
             }
            },
            "type": "scattermapbox"
           }
          ],
          "scatterpolar": [
           {
            "marker": {
             "colorbar": {
              "outlinewidth": 0,
              "ticks": ""
             }
            },
            "type": "scatterpolar"
           }
          ],
          "scatterpolargl": [
           {
            "marker": {
             "colorbar": {
              "outlinewidth": 0,
              "ticks": ""
             }
            },
            "type": "scatterpolargl"
           }
          ],
          "scatterternary": [
           {
            "marker": {
             "colorbar": {
              "outlinewidth": 0,
              "ticks": ""
             }
            },
            "type": "scatterternary"
           }
          ],
          "surface": [
           {
            "colorbar": {
             "outlinewidth": 0,
             "ticks": ""
            },
            "colorscale": [
             [
              0,
              "#0d0887"
             ],
             [
              0.1111111111111111,
              "#46039f"
             ],
             [
              0.2222222222222222,
              "#7201a8"
             ],
             [
              0.3333333333333333,
              "#9c179e"
             ],
             [
              0.4444444444444444,
              "#bd3786"
             ],
             [
              0.5555555555555556,
              "#d8576b"
             ],
             [
              0.6666666666666666,
              "#ed7953"
             ],
             [
              0.7777777777777778,
              "#fb9f3a"
             ],
             [
              0.8888888888888888,
              "#fdca26"
             ],
             [
              1,
              "#f0f921"
             ]
            ],
            "type": "surface"
           }
          ],
          "table": [
           {
            "cells": {
             "fill": {
              "color": "#EBF0F8"
             },
             "line": {
              "color": "white"
             }
            },
            "header": {
             "fill": {
              "color": "#C8D4E3"
             },
             "line": {
              "color": "white"
             }
            },
            "type": "table"
           }
          ]
         },
         "layout": {
          "annotationdefaults": {
           "arrowcolor": "#2a3f5f",
           "arrowhead": 0,
           "arrowwidth": 1
          },
          "autotypenumbers": "strict",
          "coloraxis": {
           "colorbar": {
            "outlinewidth": 0,
            "ticks": ""
           }
          },
          "colorscale": {
           "diverging": [
            [
             0,
             "#8e0152"
            ],
            [
             0.1,
             "#c51b7d"
            ],
            [
             0.2,
             "#de77ae"
            ],
            [
             0.3,
             "#f1b6da"
            ],
            [
             0.4,
             "#fde0ef"
            ],
            [
             0.5,
             "#f7f7f7"
            ],
            [
             0.6,
             "#e6f5d0"
            ],
            [
             0.7,
             "#b8e186"
            ],
            [
             0.8,
             "#7fbc41"
            ],
            [
             0.9,
             "#4d9221"
            ],
            [
             1,
             "#276419"
            ]
           ],
           "sequential": [
            [
             0,
             "#0d0887"
            ],
            [
             0.1111111111111111,
             "#46039f"
            ],
            [
             0.2222222222222222,
             "#7201a8"
            ],
            [
             0.3333333333333333,
             "#9c179e"
            ],
            [
             0.4444444444444444,
             "#bd3786"
            ],
            [
             0.5555555555555556,
             "#d8576b"
            ],
            [
             0.6666666666666666,
             "#ed7953"
            ],
            [
             0.7777777777777778,
             "#fb9f3a"
            ],
            [
             0.8888888888888888,
             "#fdca26"
            ],
            [
             1,
             "#f0f921"
            ]
           ],
           "sequentialminus": [
            [
             0,
             "#0d0887"
            ],
            [
             0.1111111111111111,
             "#46039f"
            ],
            [
             0.2222222222222222,
             "#7201a8"
            ],
            [
             0.3333333333333333,
             "#9c179e"
            ],
            [
             0.4444444444444444,
             "#bd3786"
            ],
            [
             0.5555555555555556,
             "#d8576b"
            ],
            [
             0.6666666666666666,
             "#ed7953"
            ],
            [
             0.7777777777777778,
             "#fb9f3a"
            ],
            [
             0.8888888888888888,
             "#fdca26"
            ],
            [
             1,
             "#f0f921"
            ]
           ]
          },
          "colorway": [
           "#636efa",
           "#EF553B",
           "#00cc96",
           "#ab63fa",
           "#FFA15A",
           "#19d3f3",
           "#FF6692",
           "#B6E880",
           "#FF97FF",
           "#FECB52"
          ],
          "font": {
           "color": "#2a3f5f"
          },
          "geo": {
           "bgcolor": "white",
           "lakecolor": "white",
           "landcolor": "#E5ECF6",
           "showlakes": true,
           "showland": true,
           "subunitcolor": "white"
          },
          "hoverlabel": {
           "align": "left"
          },
          "hovermode": "closest",
          "mapbox": {
           "style": "light"
          },
          "paper_bgcolor": "white",
          "plot_bgcolor": "#E5ECF6",
          "polar": {
           "angularaxis": {
            "gridcolor": "white",
            "linecolor": "white",
            "ticks": ""
           },
           "bgcolor": "#E5ECF6",
           "radialaxis": {
            "gridcolor": "white",
            "linecolor": "white",
            "ticks": ""
           }
          },
          "scene": {
           "xaxis": {
            "backgroundcolor": "#E5ECF6",
            "gridcolor": "white",
            "gridwidth": 2,
            "linecolor": "white",
            "showbackground": true,
            "ticks": "",
            "zerolinecolor": "white"
           },
           "yaxis": {
            "backgroundcolor": "#E5ECF6",
            "gridcolor": "white",
            "gridwidth": 2,
            "linecolor": "white",
            "showbackground": true,
            "ticks": "",
            "zerolinecolor": "white"
           },
           "zaxis": {
            "backgroundcolor": "#E5ECF6",
            "gridcolor": "white",
            "gridwidth": 2,
            "linecolor": "white",
            "showbackground": true,
            "ticks": "",
            "zerolinecolor": "white"
           }
          },
          "shapedefaults": {
           "line": {
            "color": "#2a3f5f"
           }
          },
          "ternary": {
           "aaxis": {
            "gridcolor": "white",
            "linecolor": "white",
            "ticks": ""
           },
           "baxis": {
            "gridcolor": "white",
            "linecolor": "white",
            "ticks": ""
           },
           "bgcolor": "#E5ECF6",
           "caxis": {
            "gridcolor": "white",
            "linecolor": "white",
            "ticks": ""
           }
          },
          "title": {
           "x": 0.05
          },
          "xaxis": {
           "automargin": true,
           "gridcolor": "white",
           "linecolor": "white",
           "ticks": "",
           "title": {
            "standoff": 15
           },
           "zerolinecolor": "white",
           "zerolinewidth": 2
          },
          "yaxis": {
           "automargin": true,
           "gridcolor": "white",
           "linecolor": "white",
           "ticks": "",
           "title": {
            "standoff": 15
           },
           "zerolinecolor": "white",
           "zerolinewidth": 2
          }
         }
        },
        "title": {
         "text": "Environmental Impact: Stress Water Use"
        },
        "xaxis": {
         "title": {
          "text": "Product Type"
         }
        },
        "yaxis": {
         "title": {
          "text": "Stress-Weighted Water Use (L/FU)"
         }
        }
       }
      }
     },
     "metadata": {},
     "output_type": "display_data"
    }
   ],
   "source": [
    "import plotly.graph_objects as go\n",
    "\n",
    "# Define the data for the bar plots\n",
    "categories = ['Land use', 'GHG emission 2013', 'GHG emission 2007', 'Acidification', 'Eutrophication', 'Fresh Water Withdrawal', 'Stress Water Use']\n",
    "vegan_values = [df_vegan_products_land_use[\"Mean\"].sum(),\n",
    "                df_vegan_products_ghg_2013[\"Mean.1\"].sum(),\n",
    "                df_vegan_products_ghg_2007[\"Mean.2\"].sum(),\n",
    "                df_vegan_products_acid[\"Mean.3\"].sum(),\n",
    "                df_vegan_products_eutro[\"Mean.4\"].sum(),\n",
    "                df_vegan_products_fresh_water_withdraw[\"Mean.5\"].sum(),\n",
    "                df_vegan_products_stress_water_use[\"Mean.6\"].sum()]\n",
    "non_vegan_values = [df_non_vegan_products_land_use[\"Mean\"].sum(),\n",
    "                    df_non_vegan_products_ghg_2013[\"Mean.1\"].sum(),\n",
    "                    df_non_vegan_products_ghg_2007[\"Mean.2\"].sum(),\n",
    "                    df_non_vegan_products_acid[\"Mean.3\"].sum(),\n",
    "                    df_non_vegan_products_eutro[\"Mean.4\"].sum(),\n",
    "                    df_non_vegan_products_fresh_water_withdraw[\"Mean.5\"].sum(),\n",
    "                    df_non_vegan_products_stress_water_use[\"Mean.6\"].sum()]\n",
    "values = ['Land Use (m2/FU)', 'GHG Emissions (kg CO2eq/FU)', 'GHG Emissions (kg CO2eq/FU)', 'Acidifying Emissions (g SO2eq/FU)', 'Eutrophying Emissions (g PO43-eq/FU)', 'Freshwater Withdrawals (L/FU)', 'Stress-Weighted Water Use (L/FU)']\n",
    "\n",
    "\n",
    "for category, vegan_value, non_vegan_value in zip(categories, vegan_values, non_vegan_values):\n",
    "    fig = go.Figure()\n",
    "    fig.add_trace(go.Bar(\n",
    "        x=['Vegan', 'Non-vegan'],\n",
    "        y=[vegan_value, non_vegan_value],\n",
    "        name=category,\n",
    "        marker_color=['darkgreen','darkred']  \n",
    "    ))\n",
    "\n",
    "    fig.update_layout(\n",
    "        title=f'Environmental Impact: {category}',\n",
    "        xaxis_title='Product Type',\n",
    "        yaxis_title= values[categories.index(category)]\n",
    "    )\n",
    "    \n",
    "    fig.show()\n"
   ]
  },
  {
   "cell_type": "code",
   "execution_count": 24,
   "id": "09d1ae74",
   "metadata": {},
   "outputs": [
    {
     "data": {
      "image/png": "[encoded data removed]",
      "text/plain": [
       "<Figure size 640x480 with 1 Axes>"
      ]
     },
     "metadata": {},
     "output_type": "display_data"
    }
   ],
   "source": [
    "import pandas as pd\n",
    "import matplotlib.pyplot as plt\n",
    "\n",
    "# Assuming you have a DataFrame with the data\n",
    "df = pd.DataFrame({\n",
    "    'Category': ['Land use', 'GHG emission 2013', 'GHG emission 2007', 'Acidification', 'Eutrophication', 'Fresh Water Withdrawal', 'Stress Water Use'],\n",
    "    'Vegan': vegan_values,\n",
    "    'Non-Vegan': non_vegan_values\n",
    "})\n",
    "\n",
    "# Set the 'Product' column as the index\n",
    "df.set_index('Category', inplace=True)\n",
    "\n",
    "# Plotting the stacked bar chart\n",
    "ax = df.plot(kind='barh', stacked=True)\n",
    "\n",
    "# Setting the labels and title\n",
    "ax.set_xlabel('Products')\n",
    "ax.set_ylabel('Ecological Footprint')\n",
    "ax.set_title('Comparison of Vegan and Non-Vegan Products')\n",
    "\n",
    "# Display the legend\n",
    "ax.legend()\n",
    "\n",
    "# Show the chart\n",
    "plt.show()\n"
   ]
  },
  {
   "cell_type": "code",
   "execution_count": 25,
   "id": "0c67d7d4",
   "metadata": {},
   "outputs": [],
   "source": [
    "#Mauro\n",
    "non_vegan_products = ['Barley (Beer)','Cane Sugar','Milk','Cheese','Eggs','Fish (farmed)','Crustaceans (farmed)','Bovine Meat (beef herd)','Bovine Meat (dairy herd)','Lamb & Mutton','Pig Meat','Poultry Meat']\n",
    "meat_products = ['Bovine Meat (beef herd)', 'Bovine Meat (dairy herd)', 'Lamb & Mutton', 'Pig Meat','Poultry Meat','Fish (farmed)','Crustaceans (farmed)']\n",
    "dairy_products = ['Milk','Cheese','Eggs']\n",
    "other_non_vegan_products = ['Cane Sugar','Crustaceans (farmed)','Barley (Beer)']\n",
    "\n",
    "df_all_products = pd.read_excel(\"dataset1.xls\", sheet_name=\"Results - Retail Weight\", skiprows=2,nrows=43, index_col=None, na_values=[\"NA\"])\n",
    "\n",
    "#non vegan products\n",
    "non_vegan = df_all_products[\"Product\"].isin(non_vegan_products)\n",
    "meat = df_all_products[\"Product\"].isin(meat_products)\n",
    "dairy = df_all_products[\"Product\"].isin(dairy_products)\n",
    "other_non_vegan = df_all_products[\"Product\"].isin(other_non_vegan_products)\n",
    "\n",
    "df_non_vegan_products = df_all_products[non_vegan]\n",
    "df_meat_products = df_all_products[meat]\n",
    "df_dairy_products = df_all_products[dairy]\n",
    "df_other_non_vegan_products = df_all_products[other_non_vegan]\n",
    "\n",
    "#non vegan\n",
    "df_non_vegan_products_land_use = df_non_vegan_products.iloc[:, [0, 3]]\n",
    "df_non_vegan_products_ghg_2013 = df_non_vegan_products.iloc[:, [0, 9]]\n",
    "df_non_vegan_products_ghg_2007 = df_non_vegan_products.iloc[:, [0, 15]]\n",
    "df_non_vegan_products_acid = df_non_vegan_products.iloc[:, [0, 21]]\n",
    "df_non_vegan_products_eutro = df_non_vegan_products.iloc[:, [0, 27]]\n",
    "df_non_vegan_products_fresh_water_withdraw = df_non_vegan_products.iloc[:, [0, 33]]\n",
    "df_non_vegan_products_stress_water_use = df_non_vegan_products.iloc[:, [0, 39]]\n",
    "\n",
    "#meat products\n",
    "df_meat_products_land_use = df_meat_products.iloc[:, [0, 3]]\n",
    "df_meat_products_ghg_2013 = df_meat_products.iloc[:, [0, 9]]\n",
    "df_meat_products_ghg_2007 = df_meat_products.iloc[:, [0, 15]]\n",
    "df_meat_products_acid = df_meat_products.iloc[:, [0, 21]]\n",
    "df_meat_products_eutro = df_meat_products.iloc[:, [0, 27]]\n",
    "df_meat_products_fresh_water_withdraw = df_meat_products.iloc[:, [0, 33]]\n",
    "df_meat_products_stress_water_use = df_meat_products.iloc[:, [0, 39]]\n",
    "#dairy\n",
    "df_dairy_products_land_use = df_dairy_products.iloc[:, [0, 3]]\n",
    "df_dairy_products_ghg_2013 = df_dairy_products.iloc[:, [0, 9]]\n",
    "df_dairy_products_ghg_2007 = df_dairy_products.iloc[:, [0, 15]]\n",
    "df_dairy_products_acid = df_dairy_products.iloc[:, [0, 21]]\n",
    "df_dairy_products_eutro = df_dairy_products.iloc[:, [0, 27]]\n",
    "df_dairy_products_fresh_water_withdraw = df_dairy_products.iloc[:, [0, 33]]\n",
    "df_dairy_products_stress_water_use = df_dairy_products.iloc[:, [0, 39]]\n",
    "\n",
    "#other non vegan\n",
    "df_other_non_vegan_products_land_use = df_other_non_vegan_products.iloc[:, [0, 3]]\n",
    "df_other_non_vegan_products_ghg_2013 = df_other_non_vegan_products.iloc[:, [0, 9]]\n",
    "df_other_non_vegan_products_ghg_2007 = df_other_non_vegan_products.iloc[:, [0, 15]]\n",
    "df_other_non_vegan_products_acid = df_other_non_vegan_products.iloc[:, [0, 21]]\n",
    "df_other_non_vegan_products_eutro = df_other_non_vegan_products.iloc[:, [0, 27]]\n",
    "df_other_non_vegan_products_fresh_water_withdraw = df_other_non_vegan_products.iloc[:, [0, 33]]\n",
    "df_other_non_vegan_products_stress_water_use = df_other_non_vegan_products.iloc[:, [0, 39]]\n",
    "\n",
    "\n",
    "#vegan products\n",
    "grains_products = ['Wheat & Rye (Bread)', 'Maize (Meal)', 'Oatmeal', 'Rice']\n",
    "vegetables_products = ['Potatoes', 'Cassava', 'Tomatoes', 'Onions & Leeks', 'Root Vegetables', 'Brassicas', 'Other Vegetables']\n",
    "fruits_products = ['Citrus Fruit', 'Bananas', 'Apples', 'Berries & Grapes', 'Other Fruit']\n",
    "legumes_products = ['Other Pulses', 'Peas', 'Nuts', 'Groundnuts']\n",
    "plant_based_alternatives_products = ['Soymilk', 'Tofu']\n",
    "oils_products = ['Soybean Oil', 'Sunflower Oil', 'Olive Oil']\n",
    "others_products = ['Coffee', 'Dark Chocolate']\n",
    "\n",
    "vegan = ~df_all_products['Product'].isin(non_vegan_products)\n",
    "grains = df_all_products[\"Product\"].isin(grains_products)\n",
    "vegetables = df_all_products[\"Product\"].isin(vegetables_products)\n",
    "fruits = df_all_products[\"Product\"].isin(fruits_products)\n",
    "legumes = df_all_products[\"Product\"].isin(legumes_products)\n",
    "plant_based_alternatives = df_all_products[\"Product\"].isin(plant_based_alternatives_products)\n",
    "oils = df_all_products[\"Product\"].isin(oils_products)\n",
    "others = df_all_products[\"Product\"].isin(others_products)\n",
    "\n",
    "\n",
    "df_vegan_products = df_all_products[vegan]\n",
    "df_grains_products = df_all_products[grains]\n",
    "df_vegetables_products = df_all_products[vegetables]\n",
    "df_fruits_products = df_all_products[fruits]\n",
    "df_legumes_products = df_all_products[legumes]\n",
    "df_plant_based_alternatives_products = df_all_products[plant_based_alternatives]\n",
    "df_oils_products = df_all_products[oils]\n",
    "df_others_products = df_all_products[others]\n",
    "\n",
    "#vegan\n",
    "df_vegan_products_land_use = df_vegan_products.iloc[:, [0, 3]]\n",
    "df_vegan_products_ghg_2013 = df_vegan_products.iloc[:, [0, 9]]\n",
    "df_vegan_products_ghg_2007 = df_vegan_products.iloc[:, [0, 15]]\n",
    "df_vegan_products_acid = df_vegan_products.iloc[:, [0, 21]]\n",
    "df_vegan_products_eutro = df_vegan_products.iloc[:, [0, 27]]\n",
    "df_vegan_products_fresh_water_withdraw = df_vegan_products.iloc[:, [0, 33]]\n",
    "df_vegan_products_stress_water_use = df_vegan_products.iloc[:, [0, 39]]\n",
    "\n",
    "\n",
    "\n"
   ]
  },
  {
   "cell_type": "code",
   "execution_count": 26,
   "id": "21b17057",
   "metadata": {},
   "outputs": [
    {
     "ename": "NameError",
     "evalue": "name 'make_subplots' is not defined",
     "output_type": "error",
     "traceback": [
      "\u001b[1;31m---------------------------------------------------------------------------\u001b[0m",
      "\u001b[1;31mNameError\u001b[0m                                 Traceback (most recent call last)",
      "\u001b[1;32m~\\AppData\\Local\\Temp\\ipykernel_19240\\3077790542.py\u001b[0m in \u001b[0;36m<module>\u001b[1;34m\u001b[0m\n\u001b[0;32m     73\u001b[0m     \u001b[0mspecs_list2\u001b[0m\u001b[1;33m.\u001b[0m\u001b[0mappend\u001b[0m\u001b[1;33m(\u001b[0m\u001b[1;33m{\u001b[0m\u001b[1;34m\"type\"\u001b[0m\u001b[1;33m:\u001b[0m \u001b[1;34m\"sunburst\"\u001b[0m\u001b[1;33m}\u001b[0m\u001b[1;33m)\u001b[0m\u001b[1;33m\u001b[0m\u001b[1;33m\u001b[0m\u001b[0m\n\u001b[0;32m     74\u001b[0m \u001b[0mspecs_list\u001b[0m \u001b[1;33m=\u001b[0m \u001b[1;33m[\u001b[0m\u001b[0mspecs_list2\u001b[0m\u001b[1;33m,\u001b[0m \u001b[0mspecs_list1\u001b[0m\u001b[1;33m]\u001b[0m\u001b[1;33m\u001b[0m\u001b[1;33m\u001b[0m\u001b[0m\n\u001b[1;32m---> 75\u001b[1;33m \u001b[0mfig\u001b[0m \u001b[1;33m=\u001b[0m \u001b[0mmake_subplots\u001b[0m\u001b[1;33m(\u001b[0m\u001b[0mrows\u001b[0m\u001b[1;33m=\u001b[0m\u001b[1;36m2\u001b[0m\u001b[1;33m,\u001b[0m \u001b[0mcols\u001b[0m\u001b[1;33m=\u001b[0m\u001b[0mlen\u001b[0m\u001b[1;33m(\u001b[0m\u001b[0mcategories\u001b[0m\u001b[1;33m)\u001b[0m\u001b[1;33m,\u001b[0m \u001b[0mspecs\u001b[0m\u001b[1;33m=\u001b[0m \u001b[0mspecs_list\u001b[0m\u001b[1;33m)\u001b[0m\u001b[1;33m\u001b[0m\u001b[1;33m\u001b[0m\u001b[0m\n\u001b[0m\u001b[0;32m     76\u001b[0m \u001b[1;33m\u001b[0m\u001b[0m\n\u001b[0;32m     77\u001b[0m \u001b[1;31m#Creating and adding the barplots to the figure\u001b[0m\u001b[1;33m\u001b[0m\u001b[1;33m\u001b[0m\u001b[1;33m\u001b[0m\u001b[0m\n",
      "\u001b[1;31mNameError\u001b[0m: name 'make_subplots' is not defined"
     ]
    }
   ],
   "source": [
    "#NO USE\n",
    "# Define the data for the bar plots\n",
    "categories = ['Land use', 'GHG emission 2013', 'GHG emission 2007', 'Acidification', 'Eutrophication', 'Fresh Water Withdrawal', 'Stress Water Use']\n",
    "vegan_values = [df_vegan_products_land_use[\"Mean\"].sum(),\n",
    "                df_vegan_products_ghg_2013[\"Mean.1\"].sum(),\n",
    "                df_vegan_products_ghg_2007[\"Mean.2\"].sum(),\n",
    "                df_vegan_products_acid[\"Mean.3\"].sum(),\n",
    "                df_vegan_products_eutro[\"Mean.4\"].sum(),\n",
    "                df_vegan_products_fresh_water_withdraw[\"Mean.5\"].sum(),\n",
    "                df_vegan_products_stress_water_use[\"Mean.6\"].sum()]\n",
    "non_vegan_values = [df_non_vegan_products_land_use[\"Mean\"].sum(),\n",
    "                    df_non_vegan_products_ghg_2013[\"Mean.1\"].sum(),\n",
    "                    df_non_vegan_products_ghg_2007[\"Mean.2\"].sum(),\n",
    "                    df_non_vegan_products_acid[\"Mean.3\"].sum(),\n",
    "                    df_non_vegan_products_eutro[\"Mean.4\"].sum(),\n",
    "                    df_non_vegan_products_fresh_water_withdraw[\"Mean.5\"].sum(),\n",
    "                    df_non_vegan_products_stress_water_use[\"Mean.6\"].sum()]\n",
    "values = ['Land Use (m2/FU)', 'GHG Emissions (kg CO2eq/FU)', 'GHG Emissions (kg CO2eq/FU)', 'Acidifying Emissions (g SO2eq/FU)', 'Eutrophying Emissions (g PO43-eq/FU)', 'Freshwater Withdrawals (L/FU)', 'Stress-Weighted Water Use (L/FU)']\n",
    "\n",
    "\n",
    "\n",
    "# function to create sunbursts    \n",
    "def create_sunburst_figure(title, values):\n",
    "    colors = ['darkgreen', 'darkred'] * 2  \n",
    "    fig = go.Figure(go.Sunburst(\n",
    "        labels=labels,\n",
    "        parents=parents,\n",
    "        values=values,\n",
    "        marker=dict(colors=colors),\n",
    "    ))\n",
    "    \n",
    "    fig.update_layout(title=title)\n",
    "    return fig\n",
    "\n",
    "labels = [\"\", \"Non-vegan\", \"Vegan\"] + list(df_non_vegan_products[\"Product\"]) + list(df_vegan_products[\"Product\"])\n",
    "parents = [\"\", \"\", \"\"] + [\"Non-vegan\"] * len(df_non_vegan_products) + [\"Vegan\"] * len(df_vegan_products)\n",
    "\n",
    "#Creating the sunbursts\n",
    "\n",
    "# Land use\n",
    "values = [0] * 3 + list(df_non_vegan_products_land_use[\"Mean\"]) + list(df_vegan_products_land_use[\"Mean\"])\n",
    "data1 = create_sunburst_figure(\"Land use\", values)\n",
    "# GHG emission 2013\n",
    "values = [0] * 3 + list(df_non_vegan_products_ghg_2013[\"Mean.1\"]) + list(df_vegan_products_ghg_2013[\"Mean.1\"])\n",
    "data2 = create_sunburst_figure(\"GHG emission 2013\", values)\n",
    "# GHG emission 2007\n",
    "values = [0] * 3 + list(df_non_vegan_products_ghg_2007[\"Mean.2\"]) + list(df_vegan_products_ghg_2007[\"Mean.2\"])\n",
    "data3 = create_sunburst_figure(\"GHG emission 2007\", values)\n",
    "\n",
    "# Acidification\n",
    "values = [0] * 3 + list(df_non_vegan_products_acid[\"Mean.3\"]) + list(df_vegan_products_acid[\"Mean.3\"])\n",
    "data4 = create_sunburst_figure(\"Acidification\", values)\n",
    "\n",
    "# Eutrophication\n",
    "values = [0] * 3 + list(df_non_vegan_products_eutro[\"Mean.4\"]) + list(df_vegan_products_eutro[\"Mean.4\"])\n",
    "data5 = create_sunburst_figure(\"Eutrophication\", values)\n",
    "\n",
    "# Fresh Water Withdrawal\n",
    "values = [0] * 3 + list(df_non_vegan_products_fresh_water_withdraw[\"Mean.5\"]) + list(df_vegan_products_fresh_water_withdraw[\"Mean.5\"])\n",
    "data6 = create_sunburst_figure(\"Fresh Water Withdrawal\", values)\n",
    "\n",
    "# Stress Water Use\n",
    "values = [0] * 3 + list(df_non_vegan_products_stress_water_use[\"Mean.6\"]) + list(df_vegan_products_stress_water_use[\"Mean.6\"])\n",
    "data7 = create_sunburst_figure(\"Stress Water Use\", values)\n",
    "\n",
    "#Creating the figure\n",
    "specs_list1 = []\n",
    "specs_list2 = []\n",
    "\n",
    "for i in range(len(categories)):\n",
    "    specs_list1.append({'type': 'bar'})\n",
    "for i in range(len(categories)):\n",
    "    specs_list2.append({\"type\": \"sunburst\"})\n",
    "specs_list = [specs_list2, specs_list1]\n",
    "fig = make_subplots(rows=2, cols=len(categories), specs= specs_list)\n",
    "\n",
    "#Creating and adding the barplots to the figure\n",
    "for category, vegan_value, non_vegan_value in zip(categories, vegan_values, non_vegan_values):\n",
    "    fig.add_trace(go.Bar(\n",
    "        x=['Vegan', 'Non-vegan'],\n",
    "        y=[vegan_value, non_vegan_value],\n",
    "        name=category,\n",
    "        marker_color=['darkgreen','darkred']  \n",
    "    ), row= 2, col= categories.index(category)+ 1)\n",
    "\n",
    "    fig.update_layout(\n",
    "        title=f'Environmental Impact: {category}',\n",
    "        xaxis_title='Product Type',\n",
    "        yaxis_title= values[categories.index(category)]\n",
    "    )\n",
    "#Adding sunbursts to the figure\n",
    "fig.add_trace(data1.data[0], row=1, col=1)\n",
    "fig.add_trace(data2.data[0], row=1, col=2)\n",
    "fig.add_trace(data3.data[0], row=1, col=3)\n",
    "fig.add_trace(data4.data[0], row=1, col=4)\n",
    "fig.add_trace(data5.data[0], row=1, col=5)\n",
    "fig.add_trace(data6.data[0], row=1, col=6)\n",
    "fig.add_trace(data7.data[0], row=1, col=7)\n",
    "\n",
    "fig.show()"
   ]
  },
  {
   "cell_type": "code",
   "execution_count": 27,
   "id": "cfbaf4e3",
   "metadata": {},
   "outputs": [
    {
     "data": {
      "application/vnd.plotly.v1+json": {
       "config": {
        "plotlyServerURL": "https://plot.ly"
       },
       "data": [
        {
         "marker": {
          "color": [
           "darkgreen",
           "darkred"
          ]
         },
         "name": "Land use",
         "type": "bar",
         "x": [
          "Vegan",
          "Non-vegan"
         ],
         "xaxis": "x",
         "y": [
          240.06,
          886.38
         ],
         "yaxis": "y"
        },
        {
         "marker": {
          "color": [
           "darkgreen",
           "darkred"
          ]
         },
         "name": "GHG emission 2013",
         "type": "bar",
         "x": [
          "Vegan",
          "Non-vegan"
         ],
         "xaxis": "x2",
         "y": [
          136.08,
          271.25999999999993
         ],
         "yaxis": "y2"
        },
        {
         "marker": {
          "color": [
           "darkgreen",
           "darkred"
          ]
         },
         "name": "GHG emission 2007",
         "type": "bar",
         "x": [
          "Vegan",
          "Non-vegan"
         ],
         "xaxis": "x3",
         "y": [
          133.32,
          237.76999999999998
         ],
         "yaxis": "y3"
        },
        {
         "marker": {
          "color": [
           "darkgreen",
           "darkred"
          ]
         },
         "name": "Acidification",
         "type": "bar",
         "x": [
          "Vegan",
          "Non-vegan"
         ],
         "xaxis": "x4",
         "y": [
          530.22,
          1509.3300000000002
         ],
         "yaxis": "y4"
        },
        {
         "marker": {
          "color": [
           "darkgreen",
           "darkred"
          ]
         },
         "name": "Eutrophication",
         "type": "bar",
         "x": [
          "Vegan",
          "Non-vegan"
         ],
         "xaxis": "x5",
         "y": [
          498.98999999999995,
          1501.28
         ],
         "yaxis": "y5"
        },
        {
         "marker": {
          "color": [
           "darkgreen",
           "darkred"
          ]
         },
         "name": "Fresh Water Withdrawal",
         "type": "bar",
         "x": [
          "Vegan",
          "Non-vegan"
         ],
         "xaxis": "x6",
         "y": [
          16904.2,
          23079.100000000002
         ],
         "yaxis": "y6"
        },
        {
         "marker": {
          "color": [
           "darkgreen",
           "darkred"
          ]
         },
         "name": "Stress Water Use",
         "type": "bar",
         "x": [
          "Vegan",
          "Non-vegan"
         ],
         "xaxis": "x7",
         "y": [
          786306,
          782093.7999999999
         ],
         "yaxis": "y7"
        },
        {
         "domain": {
          "x": [
           0,
           0.1183673469387755
          ],
          "y": [
           0.575,
           1
          ]
         },
         "labels": [
          "",
          "Non-vegan",
          "Vegan",
          "Barley (Beer)",
          "Cane Sugar",
          "Bovine Meat (beef herd)",
          "Bovine Meat (dairy herd)",
          "Lamb & Mutton",
          "Pig Meat",
          "Poultry Meat",
          "Milk",
          "Cheese",
          "Eggs",
          "Fish (farmed)",
          "Crustaceans (farmed)",
          "Wheat & Rye (Bread)",
          "Maize (Meal)",
          "Oatmeal",
          "Rice",
          "Potatoes",
          "Cassava",
          "Beet Sugar",
          "Other Pulses",
          "Peas",
          "Nuts",
          "Groundnuts",
          "Soymilk",
          "Tofu",
          "Soybean Oil",
          "Palm Oil",
          "Sunflower Oil",
          "Rapeseed Oil",
          "Olive Oil",
          "Tomatoes",
          "Onions & Leeks",
          "Root Vegetables",
          "Brassicas",
          "Other Vegetables",
          "Citrus Fruit",
          "Bananas",
          "Apples",
          "Berries & Grapes",
          "Wine",
          "Other Fruit",
          "Coffee",
          "Dark Chocolate"
         ],
         "marker": {
          "colors": [
           "darkgreen",
           "darkred",
           "darkgreen",
           "darkred"
          ]
         },
         "parents": [
          "",
          "",
          "",
          "Non-vegan",
          "Non-vegan",
          "Non-vegan",
          "Non-vegan",
          "Non-vegan",
          "Non-vegan",
          "Non-vegan",
          "Non-vegan",
          "Non-vegan",
          "Non-vegan",
          "Non-vegan",
          "Non-vegan",
          "Vegan",
          "Vegan",
          "Vegan",
          "Vegan",
          "Vegan",
          "Vegan",
          "Vegan",
          "Vegan",
          "Vegan",
          "Vegan",
          "Vegan",
          "Vegan",
          "Vegan",
          "Vegan",
          "Vegan",
          "Vegan",
          "Vegan",
          "Vegan",
          "Vegan",
          "Vegan",
          "Vegan",
          "Vegan",
          "Vegan",
          "Vegan",
          "Vegan",
          "Vegan",
          "Vegan",
          "Vegan",
          "Vegan",
          "Vegan",
          "Vegan"
         ],
         "type": "sunburst",
         "values": [
          0,
          0,
          0,
          1.11,
          2.04,
          326.21,
          43.24,
          369.81,
          17.36,
          12.22,
          8.95,
          87.79,
          6.27,
          8.41,
          2.97,
          3.85,
          2.94,
          7.6,
          2.8,
          0.88,
          1.81,
          1.83,
          15.57,
          7.46,
          12.96,
          9.11,
          0.66,
          3.52,
          10.52,
          2.42,
          17.66,
          10.63,
          26.31,
          0.8,
          0.39,
          0.33,
          0.55,
          0.38,
          0.86,
          1.93,
          0.63,
          2.41,
          1.78,
          0.89,
          21.62,
          68.96
         ]
        },
        {
         "domain": {
          "x": [
           0.14693877551020407,
           0.26530612244897955
          ],
          "y": [
           0.575,
           1
          ]
         },
         "labels": [
          "",
          "Non-vegan",
          "Vegan",
          "Barley (Beer)",
          "Cane Sugar",
          "Bovine Meat (beef herd)",
          "Bovine Meat (dairy herd)",
          "Lamb & Mutton",
          "Pig Meat",
          "Poultry Meat",
          "Milk",
          "Cheese",
          "Eggs",
          "Fish (farmed)",
          "Crustaceans (farmed)",
          "Wheat & Rye (Bread)",
          "Maize (Meal)",
          "Oatmeal",
          "Rice",
          "Potatoes",
          "Cassava",
          "Beet Sugar",
          "Other Pulses",
          "Peas",
          "Nuts",
          "Groundnuts",
          "Soymilk",
          "Tofu",
          "Soybean Oil",
          "Palm Oil",
          "Sunflower Oil",
          "Rapeseed Oil",
          "Olive Oil",
          "Tomatoes",
          "Onions & Leeks",
          "Root Vegetables",
          "Brassicas",
          "Other Vegetables",
          "Citrus Fruit",
          "Bananas",
          "Apples",
          "Berries & Grapes",
          "Wine",
          "Other Fruit",
          "Coffee",
          "Dark Chocolate"
         ],
         "marker": {
          "colors": [
           "darkgreen",
           "darkred",
           "darkgreen",
           "darkred"
          ]
         },
         "parents": [
          "",
          "",
          "",
          "Non-vegan",
          "Non-vegan",
          "Non-vegan",
          "Non-vegan",
          "Non-vegan",
          "Non-vegan",
          "Non-vegan",
          "Non-vegan",
          "Non-vegan",
          "Non-vegan",
          "Non-vegan",
          "Non-vegan",
          "Vegan",
          "Vegan",
          "Vegan",
          "Vegan",
          "Vegan",
          "Vegan",
          "Vegan",
          "Vegan",
          "Vegan",
          "Vegan",
          "Vegan",
          "Vegan",
          "Vegan",
          "Vegan",
          "Vegan",
          "Vegan",
          "Vegan",
          "Vegan",
          "Vegan",
          "Vegan",
          "Vegan",
          "Vegan",
          "Vegan",
          "Vegan",
          "Vegan",
          "Vegan",
          "Vegan",
          "Vegan",
          "Vegan",
          "Vegan",
          "Vegan"
         ],
         "type": "sunburst",
         "values": [
          0,
          0,
          0,
          1.18,
          3.2,
          99.48,
          33.3,
          39.72,
          12.31,
          9.87,
          3.15,
          23.88,
          4.67,
          13.63,
          26.87,
          1.57,
          1.7,
          2.48,
          4.45,
          0.46,
          1.32,
          1.81,
          1.79,
          0.98,
          0.43,
          3.23,
          0.98,
          3.16,
          6.32,
          7.32,
          3.6,
          3.77,
          5.42,
          2.09,
          0.5,
          0.43,
          0.51,
          0.53,
          0.39,
          0.86,
          0.43,
          1.53,
          1.79,
          1.05,
          28.53,
          46.65
         ]
        },
        {
         "domain": {
          "x": [
           0.29387755102040813,
           0.4122448979591836
          ],
          "y": [
           0.575,
           1
          ]
         },
         "labels": [
          "",
          "Non-vegan",
          "Vegan",
          "Barley (Beer)",
          "Cane Sugar",
          "Bovine Meat (beef herd)",
          "Bovine Meat (dairy herd)",
          "Lamb & Mutton",
          "Pig Meat",
          "Poultry Meat",
          "Milk",
          "Cheese",
          "Eggs",
          "Fish (farmed)",
          "Crustaceans (farmed)",
          "Wheat & Rye (Bread)",
          "Maize (Meal)",
          "Oatmeal",
          "Rice",
          "Potatoes",
          "Cassava",
          "Beet Sugar",
          "Other Pulses",
          "Peas",
          "Nuts",
          "Groundnuts",
          "Soymilk",
          "Tofu",
          "Soybean Oil",
          "Palm Oil",
          "Sunflower Oil",
          "Rapeseed Oil",
          "Olive Oil",
          "Tomatoes",
          "Onions & Leeks",
          "Root Vegetables",
          "Brassicas",
          "Other Vegetables",
          "Citrus Fruit",
          "Bananas",
          "Apples",
          "Berries & Grapes",
          "Wine",
          "Other Fruit",
          "Coffee",
          "Dark Chocolate"
         ],
         "marker": {
          "colors": [
           "darkgreen",
           "darkred",
           "darkgreen",
           "darkred"
          ]
         },
         "parents": [
          "",
          "",
          "",
          "Non-vegan",
          "Non-vegan",
          "Non-vegan",
          "Non-vegan",
          "Non-vegan",
          "Non-vegan",
          "Non-vegan",
          "Non-vegan",
          "Non-vegan",
          "Non-vegan",
          "Non-vegan",
          "Non-vegan",
          "Vegan",
          "Vegan",
          "Vegan",
          "Vegan",
          "Vegan",
          "Vegan",
          "Vegan",
          "Vegan",
          "Vegan",
          "Vegan",
          "Vegan",
          "Vegan",
          "Vegan",
          "Vegan",
          "Vegan",
          "Vegan",
          "Vegan",
          "Vegan",
          "Vegan",
          "Vegan",
          "Vegan",
          "Vegan",
          "Vegan",
          "Vegan",
          "Vegan",
          "Vegan",
          "Vegan",
          "Vegan",
          "Vegan",
          "Vegan",
          "Vegan"
         ],
         "type": "sunburst",
         "values": [
          0,
          0,
          0,
          1.18,
          3.16,
          85.19,
          28.79,
          32.71,
          11.54,
          9.82,
          2.84,
          21.44,
          4.6,
          12.51,
          23.99,
          1.58,
          1.68,
          2.47,
          3.81,
          0.45,
          1.3,
          1.8,
          1.79,
          0.97,
          0.37,
          3.18,
          0.97,
          3.14,
          6.15,
          7.16,
          3.59,
          3.76,
          5.25,
          2.01,
          0.5,
          0.43,
          0.51,
          0.53,
          0.37,
          0.86,
          0.42,
          1.52,
          1.76,
          1.06,
          27.65,
          46.28
         ]
        },
        {
         "domain": {
          "x": [
           0.4408163265306122,
           0.5591836734693877
          ],
          "y": [
           0.575,
           1
          ]
         },
         "labels": [
          "",
          "Non-vegan",
          "Vegan",
          "Barley (Beer)",
          "Cane Sugar",
          "Bovine Meat (beef herd)",
          "Bovine Meat (dairy herd)",
          "Lamb & Mutton",
          "Pig Meat",
          "Poultry Meat",
          "Milk",
          "Cheese",
          "Eggs",
          "Fish (farmed)",
          "Crustaceans (farmed)",
          "Wheat & Rye (Bread)",
          "Maize (Meal)",
          "Oatmeal",
          "Rice",
          "Potatoes",
          "Cassava",
          "Beet Sugar",
          "Other Pulses",
          "Peas",
          "Nuts",
          "Groundnuts",
          "Soymilk",
          "Tofu",
          "Soybean Oil",
          "Palm Oil",
          "Sunflower Oil",
          "Rapeseed Oil",
          "Olive Oil",
          "Tomatoes",
          "Onions & Leeks",
          "Root Vegetables",
          "Brassicas",
          "Other Vegetables",
          "Citrus Fruit",
          "Bananas",
          "Apples",
          "Berries & Grapes",
          "Wine",
          "Other Fruit",
          "Coffee",
          "Dark Chocolate"
         ],
         "marker": {
          "colors": [
           "darkgreen",
           "darkred",
           "darkgreen",
           "darkred"
          ]
         },
         "parents": [
          "",
          "",
          "",
          "Non-vegan",
          "Non-vegan",
          "Non-vegan",
          "Non-vegan",
          "Non-vegan",
          "Non-vegan",
          "Non-vegan",
          "Non-vegan",
          "Non-vegan",
          "Non-vegan",
          "Non-vegan",
          "Non-vegan",
          "Vegan",
          "Vegan",
          "Vegan",
          "Vegan",
          "Vegan",
          "Vegan",
          "Vegan",
          "Vegan",
          "Vegan",
          "Vegan",
          "Vegan",
          "Vegan",
          "Vegan",
          "Vegan",
          "Vegan",
          "Vegan",
          "Vegan",
          "Vegan",
          "Vegan",
          "Vegan",
          "Vegan",
          "Vegan",
          "Vegan",
          "Vegan",
          "Vegan",
          "Vegan",
          "Vegan",
          "Vegan",
          "Vegan",
          "Vegan",
          "Vegan"
         ],
         "type": "sunburst",
         "values": [
          0,
          0,
          0,
          6.59,
          18.02,
          318.83,
          343.64,
          138.97,
          142.66,
          102.42,
          20.01,
          165.54,
          53.67,
          65.91,
          133.07,
          13.35,
          11.68,
          10.68,
          27.19,
          3.87,
          3.42,
          12.62,
          22.07,
          8.49,
          45.15,
          22.62,
          2.6,
          6.7,
          15.67,
          17.52,
          27.96,
          28.51,
          37.58,
          17.21,
          3.63,
          2.9,
          8.21,
          6.41,
          4.04,
          6.35,
          3.52,
          12.29,
          12.76,
          5.78,
          83.14,
          46.3
         ]
        },
        {
         "domain": {
          "x": [
           0.5877551020408163,
           0.7061224489795918
          ],
          "y": [
           0.575,
           1
          ]
         },
         "labels": [
          "",
          "Non-vegan",
          "Vegan",
          "Barley (Beer)",
          "Cane Sugar",
          "Bovine Meat (beef herd)",
          "Bovine Meat (dairy herd)",
          "Lamb & Mutton",
          "Pig Meat",
          "Poultry Meat",
          "Milk",
          "Cheese",
          "Eggs",
          "Fish (farmed)",
          "Crustaceans (farmed)",
          "Wheat & Rye (Bread)",
          "Maize (Meal)",
          "Oatmeal",
          "Rice",
          "Potatoes",
          "Cassava",
          "Beet Sugar",
          "Other Pulses",
          "Peas",
          "Nuts",
          "Groundnuts",
          "Soymilk",
          "Tofu",
          "Soybean Oil",
          "Palm Oil",
          "Sunflower Oil",
          "Rapeseed Oil",
          "Olive Oil",
          "Tomatoes",
          "Onions & Leeks",
          "Root Vegetables",
          "Brassicas",
          "Other Vegetables",
          "Citrus Fruit",
          "Bananas",
          "Apples",
          "Berries & Grapes",
          "Wine",
          "Other Fruit",
          "Coffee",
          "Dark Chocolate"
         ],
         "marker": {
          "colors": [
           "darkgreen",
           "darkred",
           "darkgreen",
           "darkred"
          ]
         },
         "parents": [
          "",
          "",
          "",
          "Non-vegan",
          "Non-vegan",
          "Non-vegan",
          "Non-vegan",
          "Non-vegan",
          "Non-vegan",
          "Non-vegan",
          "Non-vegan",
          "Non-vegan",
          "Non-vegan",
          "Non-vegan",
          "Non-vegan",
          "Vegan",
          "Vegan",
          "Vegan",
          "Vegan",
          "Vegan",
          "Vegan",
          "Vegan",
          "Vegan",
          "Vegan",
          "Vegan",
          "Vegan",
          "Vegan",
          "Vegan",
          "Vegan",
          "Vegan",
          "Vegan",
          "Vegan",
          "Vegan",
          "Vegan",
          "Vegan",
          "Vegan",
          "Vegan",
          "Vegan",
          "Vegan",
          "Vegan",
          "Vegan",
          "Vegan",
          "Vegan",
          "Vegan",
          "Vegan",
          "Vegan"
         ],
         "type": "sunburst",
         "values": [
          0,
          0,
          0,
          2.33,
          16.92,
          301.41,
          365.29,
          97.13,
          76.38,
          48.7,
          10.65,
          98.37,
          21.76,
          235.12,
          227.22,
          7.16,
          4.03,
          11.23,
          35.07,
          3.48,
          0.69,
          5.41,
          17.08,
          7.52,
          19.15,
          14.14,
          1.06,
          6.16,
          11.69,
          10.67,
          50.66,
          19.19,
          37.26,
          7.51,
          3.24,
          1.61,
          5.01,
          2.27,
          2.24,
          3.29,
          1.45,
          6.12,
          4.57,
          2.43,
          110.52,
          87.08
         ]
        },
        {
         "domain": {
          "x": [
           0.7346938775510204,
           0.8530612244897959
          ],
          "y": [
           0.575,
           1
          ]
         },
         "labels": [
          "",
          "Non-vegan",
          "Vegan",
          "Barley (Beer)",
          "Cane Sugar",
          "Bovine Meat (beef herd)",
          "Bovine Meat (dairy herd)",
          "Lamb & Mutton",
          "Pig Meat",
          "Poultry Meat",
          "Milk",
          "Cheese",
          "Eggs",
          "Fish (farmed)",
          "Crustaceans (farmed)",
          "Wheat & Rye (Bread)",
          "Maize (Meal)",
          "Oatmeal",
          "Rice",
          "Potatoes",
          "Cassava",
          "Beet Sugar",
          "Other Pulses",
          "Peas",
          "Nuts",
          "Groundnuts",
          "Soymilk",
          "Tofu",
          "Soybean Oil",
          "Palm Oil",
          "Sunflower Oil",
          "Rapeseed Oil",
          "Olive Oil",
          "Tomatoes",
          "Onions & Leeks",
          "Root Vegetables",
          "Brassicas",
          "Other Vegetables",
          "Citrus Fruit",
          "Bananas",
          "Apples",
          "Berries & Grapes",
          "Wine",
          "Other Fruit",
          "Coffee",
          "Dark Chocolate"
         ],
         "marker": {
          "colors": [
           "darkgreen",
           "darkred",
           "darkgreen",
           "darkred"
          ]
         },
         "parents": [
          "",
          "",
          "",
          "Non-vegan",
          "Non-vegan",
          "Non-vegan",
          "Non-vegan",
          "Non-vegan",
          "Non-vegan",
          "Non-vegan",
          "Non-vegan",
          "Non-vegan",
          "Non-vegan",
          "Non-vegan",
          "Non-vegan",
          "Vegan",
          "Vegan",
          "Vegan",
          "Vegan",
          "Vegan",
          "Vegan",
          "Vegan",
          "Vegan",
          "Vegan",
          "Vegan",
          "Vegan",
          "Vegan",
          "Vegan",
          "Vegan",
          "Vegan",
          "Vegan",
          "Vegan",
          "Vegan",
          "Vegan",
          "Vegan",
          "Vegan",
          "Vegan",
          "Vegan",
          "Vegan",
          "Vegan",
          "Vegan",
          "Vegan",
          "Vegan",
          "Vegan",
          "Vegan",
          "Vegan"
         ],
         "type": "sunburst",
         "values": [
          0,
          0,
          0,
          17.1,
          620.1,
          1451.2,
          2714.3,
          1802.8,
          1795.8,
          660,
          628.2,
          5605.2,
          577.7,
          3691.3,
          3515.4,
          647.5,
          215.7,
          482.4,
          2248.4,
          59.1,
          0,
          217.7,
          435.7,
          396.6,
          4133.8,
          1852.3,
          27.8,
          148.6,
          414.6,
          6.4,
          1007.9,
          237.7,
          2141.8,
          369.8,
          14.3,
          28.4,
          119.4,
          102.5,
          82.7,
          114.5,
          180.1,
          419.6,
          78.9,
          153.5,
          25.9,
          540.6
         ]
        },
        {
         "domain": {
          "x": [
           0.8816326530612244,
           0.9999999999999999
          ],
          "y": [
           0.575,
           1
          ]
         },
         "labels": [
          "",
          "Non-vegan",
          "Vegan",
          "Barley (Beer)",
          "Cane Sugar",
          "Bovine Meat (beef herd)",
          "Bovine Meat (dairy herd)",
          "Lamb & Mutton",
          "Pig Meat",
          "Poultry Meat",
          "Milk",
          "Cheese",
          "Eggs",
          "Fish (farmed)",
          "Crustaceans (farmed)",
          "Wheat & Rye (Bread)",
          "Maize (Meal)",
          "Oatmeal",
          "Rice",
          "Potatoes",
          "Cassava",
          "Beet Sugar",
          "Other Pulses",
          "Peas",
          "Nuts",
          "Groundnuts",
          "Soymilk",
          "Tofu",
          "Soybean Oil",
          "Palm Oil",
          "Sunflower Oil",
          "Rapeseed Oil",
          "Olive Oil",
          "Tomatoes",
          "Onions & Leeks",
          "Root Vegetables",
          "Brassicas",
          "Other Vegetables",
          "Citrus Fruit",
          "Bananas",
          "Apples",
          "Berries & Grapes",
          "Wine",
          "Other Fruit",
          "Coffee",
          "Dark Chocolate"
         ],
         "marker": {
          "colors": [
           "darkgreen",
           "darkred",
           "darkgreen",
           "darkred"
          ]
         },
         "parents": [
          "",
          "",
          "",
          "Non-vegan",
          "Non-vegan",
          "Non-vegan",
          "Non-vegan",
          "Non-vegan",
          "Non-vegan",
          "Non-vegan",
          "Non-vegan",
          "Non-vegan",
          "Non-vegan",
          "Non-vegan",
          "Non-vegan",
          "Vegan",
          "Vegan",
          "Vegan",
          "Vegan",
          "Vegan",
          "Vegan",
          "Vegan",
          "Vegan",
          "Vegan",
          "Vegan",
          "Vegan",
          "Vegan",
          "Vegan",
          "Vegan",
          "Vegan",
          "Vegan",
          "Vegan",
          "Vegan",
          "Vegan",
          "Vegan",
          "Vegan",
          "Vegan",
          "Vegan",
          "Vegan",
          "Vegan",
          "Vegan",
          "Vegan",
          "Vegan",
          "Vegan",
          "Vegan",
          "Vegan"
         ],
         "type": "sunburst",
         "values": [
          0,
          0,
          0,
          696.4,
          16438.6,
          34732.5,
          119805.2,
          141925,
          66867.4,
          14177.9,
          19786.3,
          180850.6,
          17982.7,
          41572.2,
          127259,
          33385.6,
          10863.3,
          18786.2,
          49576.3,
          2754.2,
          0,
          9493.3,
          22477.4,
          27948.2,
          229889.8,
          61797.9,
          955.6,
          5113.2,
          14888.2,
          36.2,
          36369.4,
          10593.7,
          177480.2,
          5335.7,
          932,
          929.2,
          8455.1,
          4911.4,
          4662.7,
          661.9,
          12948.6,
          21162.1,
          1149.3,
          9533.1,
          337,
          2879.2
         ]
        }
       ],
       "layout": {
        "template": {
         "data": {
          "bar": [
           {
            "error_x": {
             "color": "#2a3f5f"
            },
            "error_y": {
             "color": "#2a3f5f"
            },
            "marker": {
             "line": {
              "color": "#E5ECF6",
              "width": 0.5
             },
             "pattern": {
              "fillmode": "overlay",
              "size": 10,
              "solidity": 0.2
             }
            },
            "type": "bar"
           }
          ],
          "barpolar": [
           {
            "marker": {
             "line": {
              "color": "#E5ECF6",
              "width": 0.5
             },
             "pattern": {
              "fillmode": "overlay",
              "size": 10,
              "solidity": 0.2
             }
            },
            "type": "barpolar"
           }
          ],
          "carpet": [
           {
            "aaxis": {
             "endlinecolor": "#2a3f5f",
             "gridcolor": "white",
             "linecolor": "white",
             "minorgridcolor": "white",
             "startlinecolor": "#2a3f5f"
            },
            "baxis": {
             "endlinecolor": "#2a3f5f",
             "gridcolor": "white",
             "linecolor": "white",
             "minorgridcolor": "white",
             "startlinecolor": "#2a3f5f"
            },
            "type": "carpet"
           }
          ],
          "choropleth": [
           {
            "colorbar": {
             "outlinewidth": 0,
             "ticks": ""
            },
            "type": "choropleth"
           }
          ],
          "contour": [
           {
            "colorbar": {
             "outlinewidth": 0,
             "ticks": ""
            },
            "colorscale": [
             [
              0,
              "#0d0887"
             ],
             [
              0.1111111111111111,
              "#46039f"
             ],
             [
              0.2222222222222222,
              "#7201a8"
             ],
             [
              0.3333333333333333,
              "#9c179e"
             ],
             [
              0.4444444444444444,
              "#bd3786"
             ],
             [
              0.5555555555555556,
              "#d8576b"
             ],
             [
              0.6666666666666666,
              "#ed7953"
             ],
             [
              0.7777777777777778,
              "#fb9f3a"
             ],
             [
              0.8888888888888888,
              "#fdca26"
             ],
             [
              1,
              "#f0f921"
             ]
            ],
            "type": "contour"
           }
          ],
          "contourcarpet": [
           {
            "colorbar": {
             "outlinewidth": 0,
             "ticks": ""
            },
            "type": "contourcarpet"
           }
          ],
          "heatmap": [
           {
            "colorbar": {
             "outlinewidth": 0,
             "ticks": ""
            },
            "colorscale": [
             [
              0,
              "#0d0887"
             ],
             [
              0.1111111111111111,
              "#46039f"
             ],
             [
              0.2222222222222222,
              "#7201a8"
             ],
             [
              0.3333333333333333,
              "#9c179e"
             ],
             [
              0.4444444444444444,
              "#bd3786"
             ],
             [
              0.5555555555555556,
              "#d8576b"
             ],
             [
              0.6666666666666666,
              "#ed7953"
             ],
             [
              0.7777777777777778,
              "#fb9f3a"
             ],
             [
              0.8888888888888888,
              "#fdca26"
             ],
             [
              1,
              "#f0f921"
             ]
            ],
            "type": "heatmap"
           }
          ],
          "heatmapgl": [
           {
            "colorbar": {
             "outlinewidth": 0,
             "ticks": ""
            },
            "colorscale": [
             [
              0,
              "#0d0887"
             ],
             [
              0.1111111111111111,
              "#46039f"
             ],
             [
              0.2222222222222222,
              "#7201a8"
             ],
             [
              0.3333333333333333,
              "#9c179e"
             ],
             [
              0.4444444444444444,
              "#bd3786"
             ],
             [
              0.5555555555555556,
              "#d8576b"
             ],
             [
              0.6666666666666666,
              "#ed7953"
             ],
             [
              0.7777777777777778,
              "#fb9f3a"
             ],
             [
              0.8888888888888888,
              "#fdca26"
             ],
             [
              1,
              "#f0f921"
             ]
            ],
            "type": "heatmapgl"
           }
          ],
          "histogram": [
           {
            "marker": {
             "pattern": {
              "fillmode": "overlay",
              "size": 10,
              "solidity": 0.2
             }
            },
            "type": "histogram"
           }
          ],
          "histogram2d": [
           {
            "colorbar": {
             "outlinewidth": 0,
             "ticks": ""
            },
            "colorscale": [
             [
              0,
              "#0d0887"
             ],
             [
              0.1111111111111111,
              "#46039f"
             ],
             [
              0.2222222222222222,
              "#7201a8"
             ],
             [
              0.3333333333333333,
              "#9c179e"
             ],
             [
              0.4444444444444444,
              "#bd3786"
             ],
             [
              0.5555555555555556,
              "#d8576b"
             ],
             [
              0.6666666666666666,
              "#ed7953"
             ],
             [
              0.7777777777777778,
              "#fb9f3a"
             ],
             [
              0.8888888888888888,
              "#fdca26"
             ],
             [
              1,
              "#f0f921"
             ]
            ],
            "type": "histogram2d"
           }
          ],
          "histogram2dcontour": [
           {
            "colorbar": {
             "outlinewidth": 0,
             "ticks": ""
            },
            "colorscale": [
             [
              0,
              "#0d0887"
             ],
             [
              0.1111111111111111,
              "#46039f"
             ],
             [
              0.2222222222222222,
              "#7201a8"
             ],
             [
              0.3333333333333333,
              "#9c179e"
             ],
             [
              0.4444444444444444,
              "#bd3786"
             ],
             [
              0.5555555555555556,
              "#d8576b"
             ],
             [
              0.6666666666666666,
              "#ed7953"
             ],
             [
              0.7777777777777778,
              "#fb9f3a"
             ],
             [
              0.8888888888888888,
              "#fdca26"
             ],
             [
              1,
              "#f0f921"
             ]
            ],
            "type": "histogram2dcontour"
           }
          ],
          "mesh3d": [
           {
            "colorbar": {
             "outlinewidth": 0,
             "ticks": ""
            },
            "type": "mesh3d"
           }
          ],
          "parcoords": [
           {
            "line": {
             "colorbar": {
              "outlinewidth": 0,
              "ticks": ""
             }
            },
            "type": "parcoords"
           }
          ],
          "pie": [
           {
            "automargin": true,
            "type": "pie"
           }
          ],
          "scatter": [
           {
            "fillpattern": {
             "fillmode": "overlay",
             "size": 10,
             "solidity": 0.2
            },
            "type": "scatter"
           }
          ],
          "scatter3d": [
           {
            "line": {
             "colorbar": {
              "outlinewidth": 0,
              "ticks": ""
             }
            },
            "marker": {
             "colorbar": {
              "outlinewidth": 0,
              "ticks": ""
             }
            },
            "type": "scatter3d"
           }
          ],
          "scattercarpet": [
           {
            "marker": {
             "colorbar": {
              "outlinewidth": 0,
              "ticks": ""
             }
            },
            "type": "scattercarpet"
           }
          ],
          "scattergeo": [
           {
            "marker": {
             "colorbar": {
              "outlinewidth": 0,
              "ticks": ""
             }
            },
            "type": "scattergeo"
           }
          ],
          "scattergl": [
           {
            "marker": {
             "colorbar": {
              "outlinewidth": 0,
              "ticks": ""
             }
            },
            "type": "scattergl"
           }
          ],
          "scattermapbox": [
           {
            "marker": {
             "colorbar": {
              "outlinewidth": 0,
              "ticks": ""
             }
            },
            "type": "scattermapbox"
           }
          ],
          "scatterpolar": [
           {
            "marker": {
             "colorbar": {
              "outlinewidth": 0,
              "ticks": ""
             }
            },
            "type": "scatterpolar"
           }
          ],
          "scatterpolargl": [
           {
            "marker": {
             "colorbar": {
              "outlinewidth": 0,
              "ticks": ""
             }
            },
            "type": "scatterpolargl"
           }
          ],
          "scatterternary": [
           {
            "marker": {
             "colorbar": {
              "outlinewidth": 0,
              "ticks": ""
             }
            },
            "type": "scatterternary"
           }
          ],
          "surface": [
           {
            "colorbar": {
             "outlinewidth": 0,
             "ticks": ""
            },
            "colorscale": [
             [
              0,
              "#0d0887"
             ],
             [
              0.1111111111111111,
              "#46039f"
             ],
             [
              0.2222222222222222,
              "#7201a8"
             ],
             [
              0.3333333333333333,
              "#9c179e"
             ],
             [
              0.4444444444444444,
              "#bd3786"
             ],
             [
              0.5555555555555556,
              "#d8576b"
             ],
             [
              0.6666666666666666,
              "#ed7953"
             ],
             [
              0.7777777777777778,
              "#fb9f3a"
             ],
             [
              0.8888888888888888,
              "#fdca26"
             ],
             [
              1,
              "#f0f921"
             ]
            ],
            "type": "surface"
           }
          ],
          "table": [
           {
            "cells": {
             "fill": {
              "color": "#EBF0F8"
             },
             "line": {
              "color": "white"
             }
            },
            "header": {
             "fill": {
              "color": "#C8D4E3"
             },
             "line": {
              "color": "white"
             }
            },
            "type": "table"
           }
          ]
         },
         "layout": {
          "annotationdefaults": {
           "arrowcolor": "#2a3f5f",
           "arrowhead": 0,
           "arrowwidth": 1
          },
          "autotypenumbers": "strict",
          "coloraxis": {
           "colorbar": {
            "outlinewidth": 0,
            "ticks": ""
           }
          },
          "colorscale": {
           "diverging": [
            [
             0,
             "#8e0152"
            ],
            [
             0.1,
             "#c51b7d"
            ],
            [
             0.2,
             "#de77ae"
            ],
            [
             0.3,
             "#f1b6da"
            ],
            [
             0.4,
             "#fde0ef"
            ],
            [
             0.5,
             "#f7f7f7"
            ],
            [
             0.6,
             "#e6f5d0"
            ],
            [
             0.7,
             "#b8e186"
            ],
            [
             0.8,
             "#7fbc41"
            ],
            [
             0.9,
             "#4d9221"
            ],
            [
             1,
             "#276419"
            ]
           ],
           "sequential": [
            [
             0,
             "#0d0887"
            ],
            [
             0.1111111111111111,
             "#46039f"
            ],
            [
             0.2222222222222222,
             "#7201a8"
            ],
            [
             0.3333333333333333,
             "#9c179e"
            ],
            [
             0.4444444444444444,
             "#bd3786"
            ],
            [
             0.5555555555555556,
             "#d8576b"
            ],
            [
             0.6666666666666666,
             "#ed7953"
            ],
            [
             0.7777777777777778,
             "#fb9f3a"
            ],
            [
             0.8888888888888888,
             "#fdca26"
            ],
            [
             1,
             "#f0f921"
            ]
           ],
           "sequentialminus": [
            [
             0,
             "#0d0887"
            ],
            [
             0.1111111111111111,
             "#46039f"
            ],
            [
             0.2222222222222222,
             "#7201a8"
            ],
            [
             0.3333333333333333,
             "#9c179e"
            ],
            [
             0.4444444444444444,
             "#bd3786"
            ],
            [
             0.5555555555555556,
             "#d8576b"
            ],
            [
             0.6666666666666666,
             "#ed7953"
            ],
            [
             0.7777777777777778,
             "#fb9f3a"
            ],
            [
             0.8888888888888888,
             "#fdca26"
            ],
            [
             1,
             "#f0f921"
            ]
           ]
          },
          "colorway": [
           "#636efa",
           "#EF553B",
           "#00cc96",
           "#ab63fa",
           "#FFA15A",
           "#19d3f3",
           "#FF6692",
           "#B6E880",
           "#FF97FF",
           "#FECB52"
          ],
          "font": {
           "color": "#2a3f5f"
          },
          "geo": {
           "bgcolor": "white",
           "lakecolor": "white",
           "landcolor": "#E5ECF6",
           "showlakes": true,
           "showland": true,
           "subunitcolor": "white"
          },
          "hoverlabel": {
           "align": "left"
          },
          "hovermode": "closest",
          "mapbox": {
           "style": "light"
          },
          "paper_bgcolor": "white",
          "plot_bgcolor": "#E5ECF6",
          "polar": {
           "angularaxis": {
            "gridcolor": "white",
            "linecolor": "white",
            "ticks": ""
           },
           "bgcolor": "#E5ECF6",
           "radialaxis": {
            "gridcolor": "white",
            "linecolor": "white",
            "ticks": ""
           }
          },
          "scene": {
           "xaxis": {
            "backgroundcolor": "#E5ECF6",
            "gridcolor": "white",
            "gridwidth": 2,
            "linecolor": "white",
            "showbackground": true,
            "ticks": "",
            "zerolinecolor": "white"
           },
           "yaxis": {
            "backgroundcolor": "#E5ECF6",
            "gridcolor": "white",
            "gridwidth": 2,
            "linecolor": "white",
            "showbackground": true,
            "ticks": "",
            "zerolinecolor": "white"
           },
           "zaxis": {
            "backgroundcolor": "#E5ECF6",
            "gridcolor": "white",
            "gridwidth": 2,
            "linecolor": "white",
            "showbackground": true,
            "ticks": "",
            "zerolinecolor": "white"
           }
          },
          "shapedefaults": {
           "line": {
            "color": "#2a3f5f"
           }
          },
          "ternary": {
           "aaxis": {
            "gridcolor": "white",
            "linecolor": "white",
            "ticks": ""
           },
           "baxis": {
            "gridcolor": "white",
            "linecolor": "white",
            "ticks": ""
           },
           "bgcolor": "#E5ECF6",
           "caxis": {
            "gridcolor": "white",
            "linecolor": "white",
            "ticks": ""
           }
          },
          "title": {
           "x": 0.05
          },
          "xaxis": {
           "automargin": true,
           "gridcolor": "white",
           "linecolor": "white",
           "ticks": "",
           "title": {
            "standoff": 15
           },
           "zerolinecolor": "white",
           "zerolinewidth": 2
          },
          "yaxis": {
           "automargin": true,
           "gridcolor": "white",
           "linecolor": "white",
           "ticks": "",
           "title": {
            "standoff": 15
           },
           "zerolinecolor": "white",
           "zerolinewidth": 2
          }
         }
        },
        "xaxis": {
         "anchor": "y",
         "domain": [
          0,
          0.1183673469387755
         ],
         "title": {
          "text": "Land use"
         }
        },
        "xaxis2": {
         "anchor": "y2",
         "domain": [
          0.14693877551020407,
          0.26530612244897955
         ],
         "title": {
          "text": "GHG emission 2013"
         }
        },
        "xaxis3": {
         "anchor": "y3",
         "domain": [
          0.29387755102040813,
          0.4122448979591836
         ],
         "title": {
          "text": "GHG emission 2007"
         }
        },
        "xaxis4": {
         "anchor": "y4",
         "domain": [
          0.4408163265306122,
          0.5591836734693877
         ],
         "title": {
          "text": "Acidification"
         }
        },
        "xaxis5": {
         "anchor": "y5",
         "domain": [
          0.5877551020408163,
          0.7061224489795918
         ],
         "title": {
          "text": "Eutrophication"
         }
        },
        "xaxis6": {
         "anchor": "y6",
         "domain": [
          0.7346938775510204,
          0.8530612244897959
         ],
         "title": {
          "text": "Fresh Water Withdrawal"
         }
        },
        "xaxis7": {
         "anchor": "y7",
         "domain": [
          0.8816326530612244,
          0.9999999999999999
         ],
         "title": {
          "text": "Stress Water Use"
         }
        },
        "yaxis": {
         "anchor": "x",
         "domain": [
          0,
          0.425
         ],
         "title": {
          "text": "(m2/FU)"
         }
        },
        "yaxis2": {
         "anchor": "x2",
         "domain": [
          0,
          0.425
         ],
         "title": {
          "text": "(kg CO2eq/FU)"
         }
        },
        "yaxis3": {
         "anchor": "x3",
         "domain": [
          0,
          0.425
         ],
         "title": {
          "text": "(kg CO2eq/FU)"
         }
        },
        "yaxis4": {
         "anchor": "x4",
         "domain": [
          0,
          0.425
         ],
         "title": {
          "text": "(g SO2eq/FU)"
         }
        },
        "yaxis5": {
         "anchor": "x5",
         "domain": [
          0,
          0.425
         ],
         "title": {
          "text": "(g PO43-eq/FU)"
         }
        },
        "yaxis6": {
         "anchor": "x6",
         "domain": [
          0,
          0.425
         ],
         "title": {
          "text": "(L/FU)"
         }
        },
        "yaxis7": {
         "anchor": "x7",
         "domain": [
          0,
          0.425
         ],
         "title": {
          "text": "(L/FU)"
         }
        }
       }
      }
     },
     "metadata": {},
     "output_type": "display_data"
    }
   ],
   "source": [
    "#NO USE\n",
    "import plotly.graph_objects as go\n",
    "from plotly.subplots import make_subplots\n",
    "\n",
    "# Define the data for the bar plots\n",
    "categories = ['Land use', 'GHG emission 2013', 'GHG emission 2007', 'Acidification', 'Eutrophication', 'Fresh Water Withdrawal', 'Stress Water Use']\n",
    "vegan_values = [df_vegan_products_land_use[\"Mean\"].sum(),\n",
    "                df_vegan_products_ghg_2013[\"Mean.1\"].sum(),\n",
    "                df_vegan_products_ghg_2007[\"Mean.2\"].sum(),\n",
    "                df_vegan_products_acid[\"Mean.3\"].sum(),\n",
    "                df_vegan_products_eutro[\"Mean.4\"].sum(),\n",
    "                df_vegan_products_fresh_water_withdraw[\"Mean.5\"].sum(),\n",
    "                df_vegan_products_stress_water_use[\"Mean.6\"].sum()]\n",
    "non_vegan_values = [df_non_vegan_products_land_use[\"Mean\"].sum(),\n",
    "                    df_non_vegan_products_ghg_2013[\"Mean.1\"].sum(),\n",
    "                    df_non_vegan_products_ghg_2007[\"Mean.2\"].sum(),\n",
    "                    df_non_vegan_products_acid[\"Mean.3\"].sum(),\n",
    "                    df_non_vegan_products_eutro[\"Mean.4\"].sum(),\n",
    "                    df_non_vegan_products_fresh_water_withdraw[\"Mean.5\"].sum(),\n",
    "                    df_non_vegan_products_stress_water_use[\"Mean.6\"].sum()]\n",
    "yaxvalues = ['(m2/FU)', '(kg CO2eq/FU)', '(kg CO2eq/FU)', '(g SO2eq/FU)', '(g PO43-eq/FU)', '(L/FU)', '(L/FU)']\n",
    "\n",
    "# function to create sunbursts    \n",
    "def create_sunburst_figure(title, values):\n",
    "    colors = ['darkgreen', 'darkred'] * 2  \n",
    "    fig = go.Figure(go.Sunburst(\n",
    "        labels=labels,\n",
    "        parents=parents,\n",
    "        values=values,\n",
    "        marker=dict(colors=colors),\n",
    "    ))\n",
    "    \n",
    "    fig.update_layout(title=title)\n",
    "    return fig\n",
    "\n",
    "labels = [\"\", \"Non-vegan\", \"Vegan\"] + list(df_non_vegan_products[\"Product\"]) + list(df_vegan_products[\"Product\"])\n",
    "parents = [\"\", \"\", \"\"] + [\"Non-vegan\"] * len(df_non_vegan_products) + [\"Vegan\"] * len(df_vegan_products)\n",
    "\n",
    "# Creating the sunbursts\n",
    "# Land use\n",
    "values = [0] * 3 + list(df_non_vegan_products_land_use[\"Mean\"]) + list(df_vegan_products_land_use[\"Mean\"])\n",
    "data1 = create_sunburst_figure(\"Land use\", values)\n",
    "# GHG emission 2013\n",
    "values = [0] * 3 + list(df_non_vegan_products_ghg_2013[\"Mean.1\"]) + list(df_vegan_products_ghg_2013[\"Mean.1\"])\n",
    "data2 = create_sunburst_figure(\"GHG emission 2013\", values)\n",
    "# GHG emission 2007\n",
    "values = [0] * 3 + list(df_non_vegan_products_ghg_2007[\"Mean.2\"]) + list(df_vegan_products_ghg_2007[\"Mean.2\"])\n",
    "data3 = create_sunburst_figure(\"GHG emission 2007\", values)\n",
    "# Acidification\n",
    "values = [0] * 3 + list(df_non_vegan_products_acid[\"Mean.3\"]) + list(df_vegan_products_acid[\"Mean.3\"])\n",
    "data4 = create_sunburst_figure(\"Acidification\", values)\n",
    "# Eutrophication\n",
    "values = [0] * 3 + list(df_non_vegan_products_eutro[\"Mean.4\"]) + list(df_vegan_products_eutro[\"Mean.4\"])\n",
    "data5 = create_sunburst_figure(\"Eutrophication\", values)\n",
    "# Fresh Water Withdrawal\n",
    "values = [0] * 3 + list(df_non_vegan_products_fresh_water_withdraw[\"Mean.5\"]) + list(df_vegan_products_fresh_water_withdraw[\"Mean.5\"])\n",
    "data6 = create_sunburst_figure(\"Fresh Water Withdrawal\", values)\n",
    "# Stress Water Use\n",
    "values = [0] * 3 + list(df_non_vegan_products_stress_water_use[\"Mean.6\"]) + list(df_vegan_products_stress_water_use[\"Mean.6\"])\n",
    "data7 = create_sunburst_figure(\"Stress Water Use\", values)\n",
    "\n",
    "# Creating the figure\n",
    "specs_list1 = []\n",
    "specs_list2 = []\n",
    "\n",
    "for i in range(len(categories)):\n",
    "    specs_list1.append({'type': 'bar'})\n",
    "for i in range(len(categories)):\n",
    "    specs_list2.append({\"type\": \"sunburst\"})\n",
    "specs_list = [specs_list2, specs_list1]\n",
    "fig = make_subplots(rows=2, cols=len(categories), specs=specs_list)\n",
    "\n",
    "# Creating and adding the bar plots to the figure\n",
    "for category, vegan_value, non_vegan_value in zip(categories, vegan_values, non_vegan_values):\n",
    "    fig.add_trace(go.Bar(\n",
    "        x=['Vegan', 'Non-vegan'],\n",
    "        y=[vegan_value, non_vegan_value],\n",
    "        name=category,\n",
    "        marker_color=['darkgreen', 'darkred']\n",
    "    ), row=2, col=categories.index(category) + 1)\n",
    "\n",
    "    fig.update_xaxes(title_text=category, row=2, col=categories.index(category) + 1)\n",
    "    fig.update_yaxes(title_text=yaxvalues[categories.index(category)], row=2, col=categories.index(category) + 1)\n",
    "\n",
    "# Adding sunbursts to the figure\n",
    "fig.add_trace(data1.data[0], row=1, col=1)\n",
    "fig.add_trace(data2.data[0], row=1, col=2)\n",
    "fig.add_trace(data3.data[0], row=1, col=3)\n",
    "fig.add_trace(data4.data[0], row=1, col=4)\n",
    "fig.add_trace(data5.data[0], row=1, col=5)\n",
    "fig.add_trace(data6.data[0], row=1, col=6)\n",
    "fig.add_trace(data7.data[0], row=1, col=7)\n",
    "\n",
    "fig.show()\n"
   ]
  },
  {
   "cell_type": "code",
   "execution_count": 28,
   "id": "8bbe59e6",
   "metadata": {},
   "outputs": [
    {
     "data": {
      "application/vnd.plotly.v1+json": {
       "config": {
        "plotlyServerURL": "https://plot.ly"
       },
       "data": [
        {
         "marker": {
          "color": [
           "darkgreen",
           "darkred"
          ]
         },
         "name": "Land use",
         "type": "bar",
         "x": [
          "Vegan",
          "Non-vegan"
         ],
         "xaxis": "x",
         "y": [
          240.06,
          886.38
         ],
         "yaxis": "y"
        },
        {
         "marker": {
          "color": [
           "darkgreen",
           "darkred"
          ]
         },
         "name": "GHG emission 2013",
         "type": "bar",
         "x": [
          "Vegan",
          "Non-vegan"
         ],
         "xaxis": "x2",
         "y": [
          136.08,
          271.25999999999993
         ],
         "yaxis": "y2"
        },
        {
         "marker": {
          "color": [
           "darkgreen",
           "darkred"
          ]
         },
         "name": "GHG emission 2007",
         "type": "bar",
         "x": [
          "Vegan",
          "Non-vegan"
         ],
         "xaxis": "x3",
         "y": [
          133.32,
          237.76999999999998
         ],
         "yaxis": "y3"
        },
        {
         "marker": {
          "color": [
           "darkgreen",
           "darkred"
          ]
         },
         "name": "Acidification",
         "type": "bar",
         "x": [
          "Vegan",
          "Non-vegan"
         ],
         "xaxis": "x4",
         "y": [
          530.22,
          1509.3300000000002
         ],
         "yaxis": "y4"
        },
        {
         "marker": {
          "color": [
           "darkgreen",
           "darkred"
          ]
         },
         "name": "Eutrophication",
         "type": "bar",
         "x": [
          "Vegan",
          "Non-vegan"
         ],
         "xaxis": "x5",
         "y": [
          498.98999999999995,
          1501.28
         ],
         "yaxis": "y5"
        },
        {
         "marker": {
          "color": [
           "darkgreen",
           "darkred"
          ]
         },
         "name": "Fresh Water Withdrawal",
         "type": "bar",
         "x": [
          "Vegan",
          "Non-vegan"
         ],
         "xaxis": "x6",
         "y": [
          16904.2,
          23079.100000000002
         ],
         "yaxis": "y6"
        },
        {
         "marker": {
          "color": [
           "darkgreen",
           "darkred"
          ]
         },
         "name": "Stress Water Use",
         "type": "bar",
         "x": [
          "Vegan",
          "Non-vegan"
         ],
         "xaxis": "x7",
         "y": [
          786306,
          782093.7999999999
         ],
         "yaxis": "y7"
        },
        {
         "domain": {
          "x": [
           0,
           0.1183673469387755
          ],
          "y": [
           0.6000000000000001,
           1
          ]
         },
         "labels": [
          "",
          "Non-vegan",
          "Vegan",
          "Barley (Beer)",
          "Cane Sugar",
          "Bovine Meat (beef herd)",
          "Bovine Meat (dairy herd)",
          "Lamb & Mutton",
          "Pig Meat",
          "Poultry Meat",
          "Milk",
          "Cheese",
          "Eggs",
          "Fish (farmed)",
          "Crustaceans (farmed)",
          "Wheat & Rye (Bread)",
          "Maize (Meal)",
          "Oatmeal",
          "Rice",
          "Potatoes",
          "Cassava",
          "Beet Sugar",
          "Other Pulses",
          "Peas",
          "Nuts",
          "Groundnuts",
          "Soymilk",
          "Tofu",
          "Soybean Oil",
          "Palm Oil",
          "Sunflower Oil",
          "Rapeseed Oil",
          "Olive Oil",
          "Tomatoes",
          "Onions & Leeks",
          "Root Vegetables",
          "Brassicas",
          "Other Vegetables",
          "Citrus Fruit",
          "Bananas",
          "Apples",
          "Berries & Grapes",
          "Wine",
          "Other Fruit",
          "Coffee",
          "Dark Chocolate"
         ],
         "marker": {
          "colors": [
           "darkgreen",
           "darkred",
           "darkgreen",
           "darkred"
          ]
         },
         "parents": [
          "",
          "",
          "",
          "Non-vegan",
          "Non-vegan",
          "Non-vegan",
          "Non-vegan",
          "Non-vegan",
          "Non-vegan",
          "Non-vegan",
          "Non-vegan",
          "Non-vegan",
          "Non-vegan",
          "Non-vegan",
          "Non-vegan",
          "Vegan",
          "Vegan",
          "Vegan",
          "Vegan",
          "Vegan",
          "Vegan",
          "Vegan",
          "Vegan",
          "Vegan",
          "Vegan",
          "Vegan",
          "Vegan",
          "Vegan",
          "Vegan",
          "Vegan",
          "Vegan",
          "Vegan",
          "Vegan",
          "Vegan",
          "Vegan",
          "Vegan",
          "Vegan",
          "Vegan",
          "Vegan",
          "Vegan",
          "Vegan",
          "Vegan",
          "Vegan",
          "Vegan",
          "Vegan",
          "Vegan"
         ],
         "type": "sunburst",
         "values": [
          0,
          0,
          0,
          1.11,
          2.04,
          326.21,
          43.24,
          369.81,
          17.36,
          12.22,
          8.95,
          87.79,
          6.27,
          8.41,
          2.97,
          3.85,
          2.94,
          7.6,
          2.8,
          0.88,
          1.81,
          1.83,
          15.57,
          7.46,
          12.96,
          9.11,
          0.66,
          3.52,
          10.52,
          2.42,
          17.66,
          10.63,
          26.31,
          0.8,
          0.39,
          0.33,
          0.55,
          0.38,
          0.86,
          1.93,
          0.63,
          2.41,
          1.78,
          0.89,
          21.62,
          68.96
         ]
        },
        {
         "domain": {
          "x": [
           0.14693877551020407,
           0.26530612244897955
          ],
          "y": [
           0.6000000000000001,
           1
          ]
         },
         "labels": [
          "",
          "Non-vegan",
          "Vegan",
          "Barley (Beer)",
          "Cane Sugar",
          "Bovine Meat (beef herd)",
          "Bovine Meat (dairy herd)",
          "Lamb & Mutton",
          "Pig Meat",
          "Poultry Meat",
          "Milk",
          "Cheese",
          "Eggs",
          "Fish (farmed)",
          "Crustaceans (farmed)",
          "Wheat & Rye (Bread)",
          "Maize (Meal)",
          "Oatmeal",
          "Rice",
          "Potatoes",
          "Cassava",
          "Beet Sugar",
          "Other Pulses",
          "Peas",
          "Nuts",
          "Groundnuts",
          "Soymilk",
          "Tofu",
          "Soybean Oil",
          "Palm Oil",
          "Sunflower Oil",
          "Rapeseed Oil",
          "Olive Oil",
          "Tomatoes",
          "Onions & Leeks",
          "Root Vegetables",
          "Brassicas",
          "Other Vegetables",
          "Citrus Fruit",
          "Bananas",
          "Apples",
          "Berries & Grapes",
          "Wine",
          "Other Fruit",
          "Coffee",
          "Dark Chocolate"
         ],
         "marker": {
          "colors": [
           "darkgreen",
           "darkred",
           "darkgreen",
           "darkred"
          ]
         },
         "parents": [
          "",
          "",
          "",
          "Non-vegan",
          "Non-vegan",
          "Non-vegan",
          "Non-vegan",
          "Non-vegan",
          "Non-vegan",
          "Non-vegan",
          "Non-vegan",
          "Non-vegan",
          "Non-vegan",
          "Non-vegan",
          "Non-vegan",
          "Vegan",
          "Vegan",
          "Vegan",
          "Vegan",
          "Vegan",
          "Vegan",
          "Vegan",
          "Vegan",
          "Vegan",
          "Vegan",
          "Vegan",
          "Vegan",
          "Vegan",
          "Vegan",
          "Vegan",
          "Vegan",
          "Vegan",
          "Vegan",
          "Vegan",
          "Vegan",
          "Vegan",
          "Vegan",
          "Vegan",
          "Vegan",
          "Vegan",
          "Vegan",
          "Vegan",
          "Vegan",
          "Vegan",
          "Vegan",
          "Vegan"
         ],
         "type": "sunburst",
         "values": [
          0,
          0,
          0,
          1.18,
          3.2,
          99.48,
          33.3,
          39.72,
          12.31,
          9.87,
          3.15,
          23.88,
          4.67,
          13.63,
          26.87,
          1.57,
          1.7,
          2.48,
          4.45,
          0.46,
          1.32,
          1.81,
          1.79,
          0.98,
          0.43,
          3.23,
          0.98,
          3.16,
          6.32,
          7.32,
          3.6,
          3.77,
          5.42,
          2.09,
          0.5,
          0.43,
          0.51,
          0.53,
          0.39,
          0.86,
          0.43,
          1.53,
          1.79,
          1.05,
          28.53,
          46.65
         ]
        },
        {
         "domain": {
          "x": [
           0.29387755102040813,
           0.4122448979591836
          ],
          "y": [
           0.6000000000000001,
           1
          ]
         },
         "labels": [
          "",
          "Non-vegan",
          "Vegan",
          "Barley (Beer)",
          "Cane Sugar",
          "Bovine Meat (beef herd)",
          "Bovine Meat (dairy herd)",
          "Lamb & Mutton",
          "Pig Meat",
          "Poultry Meat",
          "Milk",
          "Cheese",
          "Eggs",
          "Fish (farmed)",
          "Crustaceans (farmed)",
          "Wheat & Rye (Bread)",
          "Maize (Meal)",
          "Oatmeal",
          "Rice",
          "Potatoes",
          "Cassava",
          "Beet Sugar",
          "Other Pulses",
          "Peas",
          "Nuts",
          "Groundnuts",
          "Soymilk",
          "Tofu",
          "Soybean Oil",
          "Palm Oil",
          "Sunflower Oil",
          "Rapeseed Oil",
          "Olive Oil",
          "Tomatoes",
          "Onions & Leeks",
          "Root Vegetables",
          "Brassicas",
          "Other Vegetables",
          "Citrus Fruit",
          "Bananas",
          "Apples",
          "Berries & Grapes",
          "Wine",
          "Other Fruit",
          "Coffee",
          "Dark Chocolate"
         ],
         "marker": {
          "colors": [
           "darkgreen",
           "darkred",
           "darkgreen",
           "darkred"
          ]
         },
         "parents": [
          "",
          "",
          "",
          "Non-vegan",
          "Non-vegan",
          "Non-vegan",
          "Non-vegan",
          "Non-vegan",
          "Non-vegan",
          "Non-vegan",
          "Non-vegan",
          "Non-vegan",
          "Non-vegan",
          "Non-vegan",
          "Non-vegan",
          "Vegan",
          "Vegan",
          "Vegan",
          "Vegan",
          "Vegan",
          "Vegan",
          "Vegan",
          "Vegan",
          "Vegan",
          "Vegan",
          "Vegan",
          "Vegan",
          "Vegan",
          "Vegan",
          "Vegan",
          "Vegan",
          "Vegan",
          "Vegan",
          "Vegan",
          "Vegan",
          "Vegan",
          "Vegan",
          "Vegan",
          "Vegan",
          "Vegan",
          "Vegan",
          "Vegan",
          "Vegan",
          "Vegan",
          "Vegan",
          "Vegan"
         ],
         "type": "sunburst",
         "values": [
          0,
          0,
          0,
          1.18,
          3.16,
          85.19,
          28.79,
          32.71,
          11.54,
          9.82,
          2.84,
          21.44,
          4.6,
          12.51,
          23.99,
          1.58,
          1.68,
          2.47,
          3.81,
          0.45,
          1.3,
          1.8,
          1.79,
          0.97,
          0.37,
          3.18,
          0.97,
          3.14,
          6.15,
          7.16,
          3.59,
          3.76,
          5.25,
          2.01,
          0.5,
          0.43,
          0.51,
          0.53,
          0.37,
          0.86,
          0.42,
          1.52,
          1.76,
          1.06,
          27.65,
          46.28
         ]
        },
        {
         "domain": {
          "x": [
           0.4408163265306122,
           0.5591836734693877
          ],
          "y": [
           0.6000000000000001,
           1
          ]
         },
         "labels": [
          "",
          "Non-vegan",
          "Vegan",
          "Barley (Beer)",
          "Cane Sugar",
          "Bovine Meat (beef herd)",
          "Bovine Meat (dairy herd)",
          "Lamb & Mutton",
          "Pig Meat",
          "Poultry Meat",
          "Milk",
          "Cheese",
          "Eggs",
          "Fish (farmed)",
          "Crustaceans (farmed)",
          "Wheat & Rye (Bread)",
          "Maize (Meal)",
          "Oatmeal",
          "Rice",
          "Potatoes",
          "Cassava",
          "Beet Sugar",
          "Other Pulses",
          "Peas",
          "Nuts",
          "Groundnuts",
          "Soymilk",
          "Tofu",
          "Soybean Oil",
          "Palm Oil",
          "Sunflower Oil",
          "Rapeseed Oil",
          "Olive Oil",
          "Tomatoes",
          "Onions & Leeks",
          "Root Vegetables",
          "Brassicas",
          "Other Vegetables",
          "Citrus Fruit",
          "Bananas",
          "Apples",
          "Berries & Grapes",
          "Wine",
          "Other Fruit",
          "Coffee",
          "Dark Chocolate"
         ],
         "marker": {
          "colors": [
           "darkgreen",
           "darkred",
           "darkgreen",
           "darkred"
          ]
         },
         "parents": [
          "",
          "",
          "",
          "Non-vegan",
          "Non-vegan",
          "Non-vegan",
          "Non-vegan",
          "Non-vegan",
          "Non-vegan",
          "Non-vegan",
          "Non-vegan",
          "Non-vegan",
          "Non-vegan",
          "Non-vegan",
          "Non-vegan",
          "Vegan",
          "Vegan",
          "Vegan",
          "Vegan",
          "Vegan",
          "Vegan",
          "Vegan",
          "Vegan",
          "Vegan",
          "Vegan",
          "Vegan",
          "Vegan",
          "Vegan",
          "Vegan",
          "Vegan",
          "Vegan",
          "Vegan",
          "Vegan",
          "Vegan",
          "Vegan",
          "Vegan",
          "Vegan",
          "Vegan",
          "Vegan",
          "Vegan",
          "Vegan",
          "Vegan",
          "Vegan",
          "Vegan",
          "Vegan",
          "Vegan"
         ],
         "type": "sunburst",
         "values": [
          0,
          0,
          0,
          6.59,
          18.02,
          318.83,
          343.64,
          138.97,
          142.66,
          102.42,
          20.01,
          165.54,
          53.67,
          65.91,
          133.07,
          13.35,
          11.68,
          10.68,
          27.19,
          3.87,
          3.42,
          12.62,
          22.07,
          8.49,
          45.15,
          22.62,
          2.6,
          6.7,
          15.67,
          17.52,
          27.96,
          28.51,
          37.58,
          17.21,
          3.63,
          2.9,
          8.21,
          6.41,
          4.04,
          6.35,
          3.52,
          12.29,
          12.76,
          5.78,
          83.14,
          46.3
         ]
        },
        {
         "domain": {
          "x": [
           0.5877551020408163,
           0.7061224489795918
          ],
          "y": [
           0.6000000000000001,
           1
          ]
         },
         "labels": [
          "",
          "Non-vegan",
          "Vegan",
          "Barley (Beer)",
          "Cane Sugar",
          "Bovine Meat (beef herd)",
          "Bovine Meat (dairy herd)",
          "Lamb & Mutton",
          "Pig Meat",
          "Poultry Meat",
          "Milk",
          "Cheese",
          "Eggs",
          "Fish (farmed)",
          "Crustaceans (farmed)",
          "Wheat & Rye (Bread)",
          "Maize (Meal)",
          "Oatmeal",
          "Rice",
          "Potatoes",
          "Cassava",
          "Beet Sugar",
          "Other Pulses",
          "Peas",
          "Nuts",
          "Groundnuts",
          "Soymilk",
          "Tofu",
          "Soybean Oil",
          "Palm Oil",
          "Sunflower Oil",
          "Rapeseed Oil",
          "Olive Oil",
          "Tomatoes",
          "Onions & Leeks",
          "Root Vegetables",
          "Brassicas",
          "Other Vegetables",
          "Citrus Fruit",
          "Bananas",
          "Apples",
          "Berries & Grapes",
          "Wine",
          "Other Fruit",
          "Coffee",
          "Dark Chocolate"
         ],
         "marker": {
          "colors": [
           "darkgreen",
           "darkred",
           "darkgreen",
           "darkred"
          ]
         },
         "parents": [
          "",
          "",
          "",
          "Non-vegan",
          "Non-vegan",
          "Non-vegan",
          "Non-vegan",
          "Non-vegan",
          "Non-vegan",
          "Non-vegan",
          "Non-vegan",
          "Non-vegan",
          "Non-vegan",
          "Non-vegan",
          "Non-vegan",
          "Vegan",
          "Vegan",
          "Vegan",
          "Vegan",
          "Vegan",
          "Vegan",
          "Vegan",
          "Vegan",
          "Vegan",
          "Vegan",
          "Vegan",
          "Vegan",
          "Vegan",
          "Vegan",
          "Vegan",
          "Vegan",
          "Vegan",
          "Vegan",
          "Vegan",
          "Vegan",
          "Vegan",
          "Vegan",
          "Vegan",
          "Vegan",
          "Vegan",
          "Vegan",
          "Vegan",
          "Vegan",
          "Vegan",
          "Vegan",
          "Vegan"
         ],
         "type": "sunburst",
         "values": [
          0,
          0,
          0,
          2.33,
          16.92,
          301.41,
          365.29,
          97.13,
          76.38,
          48.7,
          10.65,
          98.37,
          21.76,
          235.12,
          227.22,
          7.16,
          4.03,
          11.23,
          35.07,
          3.48,
          0.69,
          5.41,
          17.08,
          7.52,
          19.15,
          14.14,
          1.06,
          6.16,
          11.69,
          10.67,
          50.66,
          19.19,
          37.26,
          7.51,
          3.24,
          1.61,
          5.01,
          2.27,
          2.24,
          3.29,
          1.45,
          6.12,
          4.57,
          2.43,
          110.52,
          87.08
         ]
        },
        {
         "domain": {
          "x": [
           0.7346938775510204,
           0.8530612244897959
          ],
          "y": [
           0.6000000000000001,
           1
          ]
         },
         "labels": [
          "",
          "Non-vegan",
          "Vegan",
          "Barley (Beer)",
          "Cane Sugar",
          "Bovine Meat (beef herd)",
          "Bovine Meat (dairy herd)",
          "Lamb & Mutton",
          "Pig Meat",
          "Poultry Meat",
          "Milk",
          "Cheese",
          "Eggs",
          "Fish (farmed)",
          "Crustaceans (farmed)",
          "Wheat & Rye (Bread)",
          "Maize (Meal)",
          "Oatmeal",
          "Rice",
          "Potatoes",
          "Cassava",
          "Beet Sugar",
          "Other Pulses",
          "Peas",
          "Nuts",
          "Groundnuts",
          "Soymilk",
          "Tofu",
          "Soybean Oil",
          "Palm Oil",
          "Sunflower Oil",
          "Rapeseed Oil",
          "Olive Oil",
          "Tomatoes",
          "Onions & Leeks",
          "Root Vegetables",
          "Brassicas",
          "Other Vegetables",
          "Citrus Fruit",
          "Bananas",
          "Apples",
          "Berries & Grapes",
          "Wine",
          "Other Fruit",
          "Coffee",
          "Dark Chocolate"
         ],
         "marker": {
          "colors": [
           "darkgreen",
           "darkred",
           "darkgreen",
           "darkred"
          ]
         },
         "parents": [
          "",
          "",
          "",
          "Non-vegan",
          "Non-vegan",
          "Non-vegan",
          "Non-vegan",
          "Non-vegan",
          "Non-vegan",
          "Non-vegan",
          "Non-vegan",
          "Non-vegan",
          "Non-vegan",
          "Non-vegan",
          "Non-vegan",
          "Vegan",
          "Vegan",
          "Vegan",
          "Vegan",
          "Vegan",
          "Vegan",
          "Vegan",
          "Vegan",
          "Vegan",
          "Vegan",
          "Vegan",
          "Vegan",
          "Vegan",
          "Vegan",
          "Vegan",
          "Vegan",
          "Vegan",
          "Vegan",
          "Vegan",
          "Vegan",
          "Vegan",
          "Vegan",
          "Vegan",
          "Vegan",
          "Vegan",
          "Vegan",
          "Vegan",
          "Vegan",
          "Vegan",
          "Vegan",
          "Vegan"
         ],
         "type": "sunburst",
         "values": [
          0,
          0,
          0,
          17.1,
          620.1,
          1451.2,
          2714.3,
          1802.8,
          1795.8,
          660,
          628.2,
          5605.2,
          577.7,
          3691.3,
          3515.4,
          647.5,
          215.7,
          482.4,
          2248.4,
          59.1,
          0,
          217.7,
          435.7,
          396.6,
          4133.8,
          1852.3,
          27.8,
          148.6,
          414.6,
          6.4,
          1007.9,
          237.7,
          2141.8,
          369.8,
          14.3,
          28.4,
          119.4,
          102.5,
          82.7,
          114.5,
          180.1,
          419.6,
          78.9,
          153.5,
          25.9,
          540.6
         ]
        },
        {
         "domain": {
          "x": [
           0.8816326530612244,
           0.9999999999999999
          ],
          "y": [
           0.6000000000000001,
           1
          ]
         },
         "labels": [
          "",
          "Non-vegan",
          "Vegan",
          "Barley (Beer)",
          "Cane Sugar",
          "Bovine Meat (beef herd)",
          "Bovine Meat (dairy herd)",
          "Lamb & Mutton",
          "Pig Meat",
          "Poultry Meat",
          "Milk",
          "Cheese",
          "Eggs",
          "Fish (farmed)",
          "Crustaceans (farmed)",
          "Wheat & Rye (Bread)",
          "Maize (Meal)",
          "Oatmeal",
          "Rice",
          "Potatoes",
          "Cassava",
          "Beet Sugar",
          "Other Pulses",
          "Peas",
          "Nuts",
          "Groundnuts",
          "Soymilk",
          "Tofu",
          "Soybean Oil",
          "Palm Oil",
          "Sunflower Oil",
          "Rapeseed Oil",
          "Olive Oil",
          "Tomatoes",
          "Onions & Leeks",
          "Root Vegetables",
          "Brassicas",
          "Other Vegetables",
          "Citrus Fruit",
          "Bananas",
          "Apples",
          "Berries & Grapes",
          "Wine",
          "Other Fruit",
          "Coffee",
          "Dark Chocolate"
         ],
         "marker": {
          "colors": [
           "darkgreen",
           "darkred",
           "darkgreen",
           "darkred"
          ]
         },
         "parents": [
          "",
          "",
          "",
          "Non-vegan",
          "Non-vegan",
          "Non-vegan",
          "Non-vegan",
          "Non-vegan",
          "Non-vegan",
          "Non-vegan",
          "Non-vegan",
          "Non-vegan",
          "Non-vegan",
          "Non-vegan",
          "Non-vegan",
          "Vegan",
          "Vegan",
          "Vegan",
          "Vegan",
          "Vegan",
          "Vegan",
          "Vegan",
          "Vegan",
          "Vegan",
          "Vegan",
          "Vegan",
          "Vegan",
          "Vegan",
          "Vegan",
          "Vegan",
          "Vegan",
          "Vegan",
          "Vegan",
          "Vegan",
          "Vegan",
          "Vegan",
          "Vegan",
          "Vegan",
          "Vegan",
          "Vegan",
          "Vegan",
          "Vegan",
          "Vegan",
          "Vegan",
          "Vegan",
          "Vegan"
         ],
         "type": "sunburst",
         "values": [
          0,
          0,
          0,
          696.4,
          16438.6,
          34732.5,
          119805.2,
          141925,
          66867.4,
          14177.9,
          19786.3,
          180850.6,
          17982.7,
          41572.2,
          127259,
          33385.6,
          10863.3,
          18786.2,
          49576.3,
          2754.2,
          0,
          9493.3,
          22477.4,
          27948.2,
          229889.8,
          61797.9,
          955.6,
          5113.2,
          14888.2,
          36.2,
          36369.4,
          10593.7,
          177480.2,
          5335.7,
          932,
          929.2,
          8455.1,
          4911.4,
          4662.7,
          661.9,
          12948.6,
          21162.1,
          1149.3,
          9533.1,
          337,
          2879.2
         ]
        }
       ],
       "layout": {
        "height": 800,
        "showlegend": false,
        "template": {
         "data": {
          "bar": [
           {
            "error_x": {
             "color": "#2a3f5f"
            },
            "error_y": {
             "color": "#2a3f5f"
            },
            "marker": {
             "line": {
              "color": "#E5ECF6",
              "width": 0.5
             },
             "pattern": {
              "fillmode": "overlay",
              "size": 10,
              "solidity": 0.2
             }
            },
            "type": "bar"
           }
          ],
          "barpolar": [
           {
            "marker": {
             "line": {
              "color": "#E5ECF6",
              "width": 0.5
             },
             "pattern": {
              "fillmode": "overlay",
              "size": 10,
              "solidity": 0.2
             }
            },
            "type": "barpolar"
           }
          ],
          "carpet": [
           {
            "aaxis": {
             "endlinecolor": "#2a3f5f",
             "gridcolor": "white",
             "linecolor": "white",
             "minorgridcolor": "white",
             "startlinecolor": "#2a3f5f"
            },
            "baxis": {
             "endlinecolor": "#2a3f5f",
             "gridcolor": "white",
             "linecolor": "white",
             "minorgridcolor": "white",
             "startlinecolor": "#2a3f5f"
            },
            "type": "carpet"
           }
          ],
          "choropleth": [
           {
            "colorbar": {
             "outlinewidth": 0,
             "ticks": ""
            },
            "type": "choropleth"
           }
          ],
          "contour": [
           {
            "colorbar": {
             "outlinewidth": 0,
             "ticks": ""
            },
            "colorscale": [
             [
              0,
              "#0d0887"
             ],
             [
              0.1111111111111111,
              "#46039f"
             ],
             [
              0.2222222222222222,
              "#7201a8"
             ],
             [
              0.3333333333333333,
              "#9c179e"
             ],
             [
              0.4444444444444444,
              "#bd3786"
             ],
             [
              0.5555555555555556,
              "#d8576b"
             ],
             [
              0.6666666666666666,
              "#ed7953"
             ],
             [
              0.7777777777777778,
              "#fb9f3a"
             ],
             [
              0.8888888888888888,
              "#fdca26"
             ],
             [
              1,
              "#f0f921"
             ]
            ],
            "type": "contour"
           }
          ],
          "contourcarpet": [
           {
            "colorbar": {
             "outlinewidth": 0,
             "ticks": ""
            },
            "type": "contourcarpet"
           }
          ],
          "heatmap": [
           {
            "colorbar": {
             "outlinewidth": 0,
             "ticks": ""
            },
            "colorscale": [
             [
              0,
              "#0d0887"
             ],
             [
              0.1111111111111111,
              "#46039f"
             ],
             [
              0.2222222222222222,
              "#7201a8"
             ],
             [
              0.3333333333333333,
              "#9c179e"
             ],
             [
              0.4444444444444444,
              "#bd3786"
             ],
             [
              0.5555555555555556,
              "#d8576b"
             ],
             [
              0.6666666666666666,
              "#ed7953"
             ],
             [
              0.7777777777777778,
              "#fb9f3a"
             ],
             [
              0.8888888888888888,
              "#fdca26"
             ],
             [
              1,
              "#f0f921"
             ]
            ],
            "type": "heatmap"
           }
          ],
          "heatmapgl": [
           {
            "colorbar": {
             "outlinewidth": 0,
             "ticks": ""
            },
            "colorscale": [
             [
              0,
              "#0d0887"
             ],
             [
              0.1111111111111111,
              "#46039f"
             ],
             [
              0.2222222222222222,
              "#7201a8"
             ],
             [
              0.3333333333333333,
              "#9c179e"
             ],
             [
              0.4444444444444444,
              "#bd3786"
             ],
             [
              0.5555555555555556,
              "#d8576b"
             ],
             [
              0.6666666666666666,
              "#ed7953"
             ],
             [
              0.7777777777777778,
              "#fb9f3a"
             ],
             [
              0.8888888888888888,
              "#fdca26"
             ],
             [
              1,
              "#f0f921"
             ]
            ],
            "type": "heatmapgl"
           }
          ],
          "histogram": [
           {
            "marker": {
             "pattern": {
              "fillmode": "overlay",
              "size": 10,
              "solidity": 0.2
             }
            },
            "type": "histogram"
           }
          ],
          "histogram2d": [
           {
            "colorbar": {
             "outlinewidth": 0,
             "ticks": ""
            },
            "colorscale": [
             [
              0,
              "#0d0887"
             ],
             [
              0.1111111111111111,
              "#46039f"
             ],
             [
              0.2222222222222222,
              "#7201a8"
             ],
             [
              0.3333333333333333,
              "#9c179e"
             ],
             [
              0.4444444444444444,
              "#bd3786"
             ],
             [
              0.5555555555555556,
              "#d8576b"
             ],
             [
              0.6666666666666666,
              "#ed7953"
             ],
             [
              0.7777777777777778,
              "#fb9f3a"
             ],
             [
              0.8888888888888888,
              "#fdca26"
             ],
             [
              1,
              "#f0f921"
             ]
            ],
            "type": "histogram2d"
           }
          ],
          "histogram2dcontour": [
           {
            "colorbar": {
             "outlinewidth": 0,
             "ticks": ""
            },
            "colorscale": [
             [
              0,
              "#0d0887"
             ],
             [
              0.1111111111111111,
              "#46039f"
             ],
             [
              0.2222222222222222,
              "#7201a8"
             ],
             [
              0.3333333333333333,
              "#9c179e"
             ],
             [
              0.4444444444444444,
              "#bd3786"
             ],
             [
              0.5555555555555556,
              "#d8576b"
             ],
             [
              0.6666666666666666,
              "#ed7953"
             ],
             [
              0.7777777777777778,
              "#fb9f3a"
             ],
             [
              0.8888888888888888,
              "#fdca26"
             ],
             [
              1,
              "#f0f921"
             ]
            ],
            "type": "histogram2dcontour"
           }
          ],
          "mesh3d": [
           {
            "colorbar": {
             "outlinewidth": 0,
             "ticks": ""
            },
            "type": "mesh3d"
           }
          ],
          "parcoords": [
           {
            "line": {
             "colorbar": {
              "outlinewidth": 0,
              "ticks": ""
             }
            },
            "type": "parcoords"
           }
          ],
          "pie": [
           {
            "automargin": true,
            "type": "pie"
           }
          ],
          "scatter": [
           {
            "fillpattern": {
             "fillmode": "overlay",
             "size": 10,
             "solidity": 0.2
            },
            "type": "scatter"
           }
          ],
          "scatter3d": [
           {
            "line": {
             "colorbar": {
              "outlinewidth": 0,
              "ticks": ""
             }
            },
            "marker": {
             "colorbar": {
              "outlinewidth": 0,
              "ticks": ""
             }
            },
            "type": "scatter3d"
           }
          ],
          "scattercarpet": [
           {
            "marker": {
             "colorbar": {
              "outlinewidth": 0,
              "ticks": ""
             }
            },
            "type": "scattercarpet"
           }
          ],
          "scattergeo": [
           {
            "marker": {
             "colorbar": {
              "outlinewidth": 0,
              "ticks": ""
             }
            },
            "type": "scattergeo"
           }
          ],
          "scattergl": [
           {
            "marker": {
             "colorbar": {
              "outlinewidth": 0,
              "ticks": ""
             }
            },
            "type": "scattergl"
           }
          ],
          "scattermapbox": [
           {
            "marker": {
             "colorbar": {
              "outlinewidth": 0,
              "ticks": ""
             }
            },
            "type": "scattermapbox"
           }
          ],
          "scatterpolar": [
           {
            "marker": {
             "colorbar": {
              "outlinewidth": 0,
              "ticks": ""
             }
            },
            "type": "scatterpolar"
           }
          ],
          "scatterpolargl": [
           {
            "marker": {
             "colorbar": {
              "outlinewidth": 0,
              "ticks": ""
             }
            },
            "type": "scatterpolargl"
           }
          ],
          "scatterternary": [
           {
            "marker": {
             "colorbar": {
              "outlinewidth": 0,
              "ticks": ""
             }
            },
            "type": "scatterternary"
           }
          ],
          "surface": [
           {
            "colorbar": {
             "outlinewidth": 0,
             "ticks": ""
            },
            "colorscale": [
             [
              0,
              "#0d0887"
             ],
             [
              0.1111111111111111,
              "#46039f"
             ],
             [
              0.2222222222222222,
              "#7201a8"
             ],
             [
              0.3333333333333333,
              "#9c179e"
             ],
             [
              0.4444444444444444,
              "#bd3786"
             ],
             [
              0.5555555555555556,
              "#d8576b"
             ],
             [
              0.6666666666666666,
              "#ed7953"
             ],
             [
              0.7777777777777778,
              "#fb9f3a"
             ],
             [
              0.8888888888888888,
              "#fdca26"
             ],
             [
              1,
              "#f0f921"
             ]
            ],
            "type": "surface"
           }
          ],
          "table": [
           {
            "cells": {
             "fill": {
              "color": "#EBF0F8"
             },
             "line": {
              "color": "white"
             }
            },
            "header": {
             "fill": {
              "color": "#C8D4E3"
             },
             "line": {
              "color": "white"
             }
            },
            "type": "table"
           }
          ]
         },
         "layout": {
          "annotationdefaults": {
           "arrowcolor": "#2a3f5f",
           "arrowhead": 0,
           "arrowwidth": 1
          },
          "autotypenumbers": "strict",
          "coloraxis": {
           "colorbar": {
            "outlinewidth": 0,
            "ticks": ""
           }
          },
          "colorscale": {
           "diverging": [
            [
             0,
             "#8e0152"
            ],
            [
             0.1,
             "#c51b7d"
            ],
            [
             0.2,
             "#de77ae"
            ],
            [
             0.3,
             "#f1b6da"
            ],
            [
             0.4,
             "#fde0ef"
            ],
            [
             0.5,
             "#f7f7f7"
            ],
            [
             0.6,
             "#e6f5d0"
            ],
            [
             0.7,
             "#b8e186"
            ],
            [
             0.8,
             "#7fbc41"
            ],
            [
             0.9,
             "#4d9221"
            ],
            [
             1,
             "#276419"
            ]
           ],
           "sequential": [
            [
             0,
             "#0d0887"
            ],
            [
             0.1111111111111111,
             "#46039f"
            ],
            [
             0.2222222222222222,
             "#7201a8"
            ],
            [
             0.3333333333333333,
             "#9c179e"
            ],
            [
             0.4444444444444444,
             "#bd3786"
            ],
            [
             0.5555555555555556,
             "#d8576b"
            ],
            [
             0.6666666666666666,
             "#ed7953"
            ],
            [
             0.7777777777777778,
             "#fb9f3a"
            ],
            [
             0.8888888888888888,
             "#fdca26"
            ],
            [
             1,
             "#f0f921"
            ]
           ],
           "sequentialminus": [
            [
             0,
             "#0d0887"
            ],
            [
             0.1111111111111111,
             "#46039f"
            ],
            [
             0.2222222222222222,
             "#7201a8"
            ],
            [
             0.3333333333333333,
             "#9c179e"
            ],
            [
             0.4444444444444444,
             "#bd3786"
            ],
            [
             0.5555555555555556,
             "#d8576b"
            ],
            [
             0.6666666666666666,
             "#ed7953"
            ],
            [
             0.7777777777777778,
             "#fb9f3a"
            ],
            [
             0.8888888888888888,
             "#fdca26"
            ],
            [
             1,
             "#f0f921"
            ]
           ]
          },
          "colorway": [
           "#636efa",
           "#EF553B",
           "#00cc96",
           "#ab63fa",
           "#FFA15A",
           "#19d3f3",
           "#FF6692",
           "#B6E880",
           "#FF97FF",
           "#FECB52"
          ],
          "font": {
           "color": "#2a3f5f"
          },
          "geo": {
           "bgcolor": "white",
           "lakecolor": "white",
           "landcolor": "#E5ECF6",
           "showlakes": true,
           "showland": true,
           "subunitcolor": "white"
          },
          "hoverlabel": {
           "align": "left"
          },
          "hovermode": "closest",
          "mapbox": {
           "style": "light"
          },
          "paper_bgcolor": "white",
          "plot_bgcolor": "#E5ECF6",
          "polar": {
           "angularaxis": {
            "gridcolor": "white",
            "linecolor": "white",
            "ticks": ""
           },
           "bgcolor": "#E5ECF6",
           "radialaxis": {
            "gridcolor": "white",
            "linecolor": "white",
            "ticks": ""
           }
          },
          "scene": {
           "xaxis": {
            "backgroundcolor": "#E5ECF6",
            "gridcolor": "white",
            "gridwidth": 2,
            "linecolor": "white",
            "showbackground": true,
            "ticks": "",
            "zerolinecolor": "white"
           },
           "yaxis": {
            "backgroundcolor": "#E5ECF6",
            "gridcolor": "white",
            "gridwidth": 2,
            "linecolor": "white",
            "showbackground": true,
            "ticks": "",
            "zerolinecolor": "white"
           },
           "zaxis": {
            "backgroundcolor": "#E5ECF6",
            "gridcolor": "white",
            "gridwidth": 2,
            "linecolor": "white",
            "showbackground": true,
            "ticks": "",
            "zerolinecolor": "white"
           }
          },
          "shapedefaults": {
           "line": {
            "color": "#2a3f5f"
           }
          },
          "ternary": {
           "aaxis": {
            "gridcolor": "white",
            "linecolor": "white",
            "ticks": ""
           },
           "baxis": {
            "gridcolor": "white",
            "linecolor": "white",
            "ticks": ""
           },
           "bgcolor": "#E5ECF6",
           "caxis": {
            "gridcolor": "white",
            "linecolor": "white",
            "ticks": ""
           }
          },
          "title": {
           "x": 0.05
          },
          "xaxis": {
           "automargin": true,
           "gridcolor": "white",
           "linecolor": "white",
           "ticks": "",
           "title": {
            "standoff": 15
           },
           "zerolinecolor": "white",
           "zerolinewidth": 2
          },
          "yaxis": {
           "automargin": true,
           "gridcolor": "white",
           "linecolor": "white",
           "ticks": "",
           "title": {
            "standoff": 15
           },
           "zerolinecolor": "white",
           "zerolinewidth": 2
          }
         }
        },
        "width": 2250,
        "xaxis": {
         "anchor": "y",
         "domain": [
          0,
          0.1183673469387755
         ],
         "title": {
          "text": "Land use"
         }
        },
        "xaxis2": {
         "anchor": "y2",
         "domain": [
          0.14693877551020407,
          0.26530612244897955
         ],
         "title": {
          "text": "GHG emission 2013"
         }
        },
        "xaxis3": {
         "anchor": "y3",
         "domain": [
          0.29387755102040813,
          0.4122448979591836
         ],
         "title": {
          "text": "GHG emission 2007"
         }
        },
        "xaxis4": {
         "anchor": "y4",
         "domain": [
          0.4408163265306122,
          0.5591836734693877
         ],
         "title": {
          "text": "Acidification"
         }
        },
        "xaxis5": {
         "anchor": "y5",
         "domain": [
          0.5877551020408163,
          0.7061224489795918
         ],
         "title": {
          "text": "Eutrophication"
         }
        },
        "xaxis6": {
         "anchor": "y6",
         "domain": [
          0.7346938775510204,
          0.8530612244897959
         ],
         "title": {
          "text": "Fresh Water Withdrawal"
         }
        },
        "xaxis7": {
         "anchor": "y7",
         "domain": [
          0.8816326530612244,
          0.9999999999999999
         ],
         "title": {
          "text": "Stress Water Use"
         }
        },
        "yaxis": {
         "anchor": "x",
         "domain": [
          0,
          0.4
         ],
         "title": {
          "text": "(m2/FU)"
         }
        },
        "yaxis2": {
         "anchor": "x2",
         "domain": [
          0,
          0.4
         ],
         "title": {
          "text": "(kg CO2eq/FU)"
         }
        },
        "yaxis3": {
         "anchor": "x3",
         "domain": [
          0,
          0.4
         ],
         "title": {
          "text": "(kg CO2eq/FU)"
         }
        },
        "yaxis4": {
         "anchor": "x4",
         "domain": [
          0,
          0.4
         ],
         "title": {
          "text": "(g SO2eq/FU)"
         }
        },
        "yaxis5": {
         "anchor": "x5",
         "domain": [
          0,
          0.4
         ],
         "title": {
          "text": "(g PO43-eq/FU)"
         }
        },
        "yaxis6": {
         "anchor": "x6",
         "domain": [
          0,
          0.4
         ],
         "title": {
          "text": "(L/FU)"
         }
        },
        "yaxis7": {
         "anchor": "x7",
         "domain": [
          0,
          0.4
         ],
         "title": {
          "text": "(L/FU)"
         }
        }
       }
      }
     },
     "metadata": {},
     "output_type": "display_data"
    }
   ],
   "source": [
    "import plotly.graph_objects as go\n",
    "from plotly.subplots import make_subplots\n",
    "\n",
    "# Define the data for the bar plots\n",
    "categories = ['Land use', 'GHG emission 2013', 'GHG emission 2007', 'Acidification', 'Eutrophication', 'Fresh Water Withdrawal', 'Stress Water Use']\n",
    "vegan_values = [df_vegan_products_land_use[\"Mean\"].sum(),\n",
    "                df_vegan_products_ghg_2013[\"Mean.1\"].sum(),\n",
    "                df_vegan_products_ghg_2007[\"Mean.2\"].sum(),\n",
    "                df_vegan_products_acid[\"Mean.3\"].sum(),\n",
    "                df_vegan_products_eutro[\"Mean.4\"].sum(),\n",
    "                df_vegan_products_fresh_water_withdraw[\"Mean.5\"].sum(),\n",
    "                df_vegan_products_stress_water_use[\"Mean.6\"].sum()]\n",
    "non_vegan_values = [df_non_vegan_products_land_use[\"Mean\"].sum(),\n",
    "                    df_non_vegan_products_ghg_2013[\"Mean.1\"].sum(),\n",
    "                    df_non_vegan_products_ghg_2007[\"Mean.2\"].sum(),\n",
    "                    df_non_vegan_products_acid[\"Mean.3\"].sum(),\n",
    "                    df_non_vegan_products_eutro[\"Mean.4\"].sum(),\n",
    "                    df_non_vegan_products_fresh_water_withdraw[\"Mean.5\"].sum(),\n",
    "                    df_non_vegan_products_stress_water_use[\"Mean.6\"].sum()]\n",
    "yaxvalues = ['(m2/FU)', '(kg CO2eq/FU)', '(kg CO2eq/FU)', '(g SO2eq/FU)', '(g PO43-eq/FU)', '(L/FU)', '(L/FU)']\n",
    "\n",
    "# function to create sunbursts    \n",
    "def create_sunburst_figure(title, values):\n",
    "    colors = ['darkgreen', 'darkred'] * 2  \n",
    "    fig = go.Figure(go.Sunburst(\n",
    "        labels=labels,\n",
    "        parents=parents,\n",
    "        values=values,\n",
    "        marker=dict(colors=colors),\n",
    "    ))\n",
    "    \n",
    "    fig.update_layout(title=title)\n",
    "    return fig\n",
    "\n",
    "labels = [\"\", \"Non-vegan\", \"Vegan\"] + list(df_non_vegan_products[\"Product\"]) + list(df_vegan_products[\"Product\"])\n",
    "parents = [\"\", \"\", \"\"] + [\"Non-vegan\"] * len(df_non_vegan_products) + [\"Vegan\"] * len(df_vegan_products)\n",
    "\n",
    "# Creating the sunbursts\n",
    "# Land use\n",
    "values = [0] * 3 + list(df_non_vegan_products_land_use[\"Mean\"]) + list(df_vegan_products_land_use[\"Mean\"])\n",
    "data1 = create_sunburst_figure(\"Land use\", values)\n",
    "# GHG emission 2013\n",
    "values = [0] * 3 + list(df_non_vegan_products_ghg_2013[\"Mean.1\"]) + list(df_vegan_products_ghg_2013[\"Mean.1\"])\n",
    "data2 = create_sunburst_figure(\"GHG emission 2013\", values)\n",
    "# GHG emission 2007\n",
    "values = [0] * 3 + list(df_non_vegan_products_ghg_2007[\"Mean.2\"]) + list(df_vegan_products_ghg_2007[\"Mean.2\"])\n",
    "data3 = create_sunburst_figure(\"GHG emission 2007\", values)\n",
    "# Acidification\n",
    "values = [0] * 3 + list(df_non_vegan_products_acid[\"Mean.3\"]) + list(df_vegan_products_acid[\"Mean.3\"])\n",
    "data4 = create_sunburst_figure(\"Acidification\", values)\n",
    "# Eutrophication\n",
    "values = [0] * 3 + list(df_non_vegan_products_eutro[\"Mean.4\"]) + list(df_vegan_products_eutro[\"Mean.4\"])\n",
    "data5 = create_sunburst_figure(\"Eutrophication\", values)\n",
    "# Fresh Water Withdrawal\n",
    "values = [0] * 3 + list(df_non_vegan_products_fresh_water_withdraw[\"Mean.5\"]) + list(df_vegan_products_fresh_water_withdraw[\"Mean.5\"])\n",
    "data6 = create_sunburst_figure(\"Fresh Water Withdrawal\", values)\n",
    "# Stress Water Use\n",
    "values = [0] * 3 + list(df_non_vegan_products_stress_water_use[\"Mean.6\"]) + list(df_vegan_products_stress_water_use[\"Mean.6\"])\n",
    "data7 = create_sunburst_figure(\"Stress Water Use\", values)\n",
    "\n",
    "# Creating the figure\n",
    "specs_list1 = []\n",
    "specs_list2 = []\n",
    "\n",
    "for i in range(len(categories)):\n",
    "    specs_list1.append({'type': 'bar'})\n",
    "for i in range(len(categories)):\n",
    "    specs_list2.append({\"type\": \"sunburst\"})\n",
    "specs_list = [specs_list2, specs_list1]\n",
    "\n",
    "fig = make_subplots(rows=2, cols=len(categories), specs=specs_list, vertical_spacing=0.2)\n",
    "\n",
    "# Creating and adding the bar plots to the figure\n",
    "for category, vegan_value, non_vegan_value in zip(categories, vegan_values, non_vegan_values):\n",
    "    fig.add_trace(go.Bar(\n",
    "        x=['Vegan', 'Non-vegan'],\n",
    "        y=[vegan_value, non_vegan_value],\n",
    "        name=category,\n",
    "        marker_color=['darkgreen', 'darkred']\n",
    "    ), row=2, col=categories.index(category) + 1)\n",
    "\n",
    "    fig.update_xaxes(title_text=category, row=2, col=categories.index(category) + 1)\n",
    "    fig.update_yaxes(title_text=yaxvalues[categories.index(category)], row=2, col=categories.index(category) + 1)\n",
    "\n",
    "# Adding sunbursts to the figure\n",
    "fig.add_trace(data1.data[0], row=1, col=1)\n",
    "fig.add_trace(data2.data[0], row=1, col=2)\n",
    "fig.add_trace(data3.data[0], row=1, col=3)\n",
    "fig.add_trace(data4.data[0], row=1, col=4)\n",
    "fig.add_trace(data5.data[0], row=1, col=5)\n",
    "fig.add_trace(data6.data[0], row=1, col=6)\n",
    "fig.add_trace(data7.data[0], row=1, col=7)\n",
    "\n",
    "fig.update_layout(width = 2250, height=800, showlegend=False)\n",
    "fig.show()\n"
   ]
  },
  {
   "cell_type": "code",
   "execution_count": 29,
   "id": "6a927912",
   "metadata": {},
   "outputs": [],
   "source": [
    "#DONT USE\n",
    "#Mauro\n",
    "\n",
    "non_vegan_products = ['Barley (Beer)','Cane Sugar','Milk','Cheese','Eggs','Fish (farmed)','Crustaceans (farmed)','Bovine Meat (beef herd)','Bovine Meat (dairy herd)','Lamb & Mutton','Pig Meat','Poultry Meat']\n",
    "meat_products = ['Bovine Meat (beef herd)', 'Bovine Meat (dairy herd)', 'Lamb & Mutton', 'Pig Meat','Poultry Meat','Fish (farmed)','Crustaceans (farmed)']\n",
    "dairy_products = ['Milk','Cheese','Eggs']\n",
    "other_non_vegan_products = ['Cane Sugar','Crustaceans (farmed)','Barley (Beer)']\n",
    "\n",
    "df_all_products = pd.read_excel(\"dataset1.xls\", sheet_name=\"Results - Retail Weight\", skiprows=2,nrows=43, index_col=None, na_values=[\"NA\"])\n",
    "\n",
    "#non vegan products\n",
    "non_vegan = df_all_products[\"Product\"].isin(non_vegan_products)\n",
    "meat = df_all_products[\"Product\"].isin(meat_products)\n",
    "dairy = df_all_products[\"Product\"].isin(dairy_products)\n",
    "other_non_vegan = df_all_products[\"Product\"].isin(other_non_vegan_products)\n",
    "\n",
    "df_non_vegan_products = df_all_products[non_vegan]\n",
    "df_meat_products = df_all_products[meat]\n",
    "df_dairy_products = df_all_products[dairy]\n",
    "df_other_non_vegan_products = df_all_products[other_non_vegan]\n",
    "\n",
    "#non vegan\n",
    "df_non_vegan_products_land_use = df_non_vegan_products.iloc[:, [0, 3]]\n",
    "df_non_vegan_products_ghg_2013 = df_non_vegan_products.iloc[:, [0, 9]]\n",
    "df_non_vegan_products_ghg_2007 = df_non_vegan_products.iloc[:, [0, 15]]\n",
    "df_non_vegan_products_acid = df_non_vegan_products.iloc[:, [0, 21]]\n",
    "df_non_vegan_products_eutro = df_non_vegan_products.iloc[:, [0, 27]]\n",
    "df_non_vegan_products_fresh_water_withdraw = df_non_vegan_products.iloc[:, [0, 33]]\n",
    "df_non_vegan_products_stress_water_use = df_non_vegan_products.iloc[:, [0, 39]]\n",
    "\n",
    "#meat products\n",
    "df_meat_products_land_use = df_meat_products.iloc[:, [0, 3]]\n",
    "df_meat_products_ghg_2013 = df_meat_products.iloc[:, [0, 9]]\n",
    "df_meat_products_ghg_2007 = df_meat_products.iloc[:, [0, 15]]\n",
    "df_meat_products_acid = df_meat_products.iloc[:, [0, 21]]\n",
    "df_meat_products_eutro = df_meat_products.iloc[:, [0, 27]]\n",
    "df_meat_products_fresh_water_withdraw = df_meat_products.iloc[:, [0, 33]]\n",
    "df_meat_products_stress_water_use = df_meat_products.iloc[:, [0, 39]]\n",
    "#dairy\n",
    "df_dairy_products_land_use = df_dairy_products.iloc[:, [0, 3]]\n",
    "df_dairy_products_ghg_2013 = df_dairy_products.iloc[:, [0, 9]]\n",
    "df_dairy_products_ghg_2007 = df_dairy_products.iloc[:, [0, 15]]\n",
    "df_dairy_products_acid = df_dairy_products.iloc[:, [0, 21]]\n",
    "df_dairy_products_eutro = df_dairy_products.iloc[:, [0, 27]]\n",
    "df_dairy_products_fresh_water_withdraw = df_dairy_products.iloc[:, [0, 33]]\n",
    "df_dairy_products_stress_water_use = df_dairy_products.iloc[:, [0, 39]]\n",
    "\n",
    "#other non vegan\n",
    "df_other_non_vegan_products_land_use = df_other_non_vegan_products.iloc[:, [0, 3]]\n",
    "df_other_non_vegan_products_ghg_2013 = df_other_non_vegan_products.iloc[:, [0, 9]]\n",
    "df_other_non_vegan_products_ghg_2007 = df_other_non_vegan_products.iloc[:, [0, 15]]\n",
    "df_other_non_vegan_products_acid = df_other_non_vegan_products.iloc[:, [0, 21]]\n",
    "df_other_non_vegan_products_eutro = df_other_non_vegan_products.iloc[:, [0, 27]]\n",
    "df_other_non_vegan_products_fresh_water_withdraw = df_other_non_vegan_products.iloc[:, [0, 33]]\n",
    "df_other_non_vegan_products_stress_water_use = df_other_non_vegan_products.iloc[:, [0, 39]]\n",
    "\n",
    "\n",
    "#vegan products\n",
    "grains_products = ['Wheat & Rye (Bread)', 'Maize (Meal)', 'Oatmeal', 'Rice']\n",
    "vegetables_products = ['Potatoes', 'Cassava', 'Tomatoes', 'Onions & Leeks', 'Root Vegetables', 'Brassicas', 'Other Vegetables']\n",
    "fruits_products = ['Citrus Fruit', 'Bananas', 'Apples', 'Berries & Grapes', 'Other Fruit']\n",
    "legumes_products = ['Other Pulses', 'Peas', 'Nuts', 'Groundnuts']\n",
    "plant_based_alternatives_products = ['Soymilk', 'Tofu']\n",
    "oils_products = ['Soybean Oil', 'Sunflower Oil', 'Olive Oil']\n",
    "others_products = ['Coffee', 'Dark Chocolate']\n",
    "\n",
    "vegan = ~df_all_products['Product'].isin(non_vegan_products)\n",
    "grains = df_all_products[\"Product\"].isin(grains_products)\n",
    "vegetables = df_all_products[\"Product\"].isin(vegetables_products)\n",
    "fruits = df_all_products[\"Product\"].isin(fruits_products)\n",
    "legumes = df_all_products[\"Product\"].isin(legumes_products)\n",
    "plant_based_alternatives = df_all_products[\"Product\"].isin(plant_based_alternatives_products)\n",
    "oils = df_all_products[\"Product\"].isin(oils_products)\n",
    "others = df_all_products[\"Product\"].isin(others_products)\n",
    "\n",
    "\n",
    "df_vegan_products = df_all_products[vegan]\n",
    "df_grains_products = df_all_products[grains]\n",
    "df_vegetables_products = df_all_products[vegetables]\n",
    "df_fruits_products = df_all_products[fruits]\n",
    "df_legumes_products = df_all_products[legumes]\n",
    "df_plant_based_alternatives_products = df_all_products[plant_based_alternatives]\n",
    "df_oils_products = df_all_products[oils]\n",
    "df_others_products = df_all_products[others]\n",
    "\n",
    "#vegan\n",
    "df_vegan_products_land_use = df_vegan_products.iloc[:, [0, 3]]\n",
    "df_vegan_products_ghg_2013 = df_vegan_products.iloc[:, [0, 9]]\n",
    "df_vegan_products_ghg_2007 = df_vegan_products.iloc[:, [0, 15]]\n",
    "df_vegan_products_acid = df_vegan_products.iloc[:, [0, 21]]\n",
    "df_vegan_products_eutro = df_vegan_products.iloc[:, [0, 27]]\n",
    "df_vegan_products_fresh_water_withdraw = df_vegan_products.iloc[:, [0, 33]]\n",
    "df_vegan_products_stress_water_use = df_vegan_products.iloc[:, [0, 39]]\n",
    "\n",
    "\n",
    "\n"
   ]
  },
  {
   "cell_type": "code",
   "execution_count": 30,
   "id": "b00900cc",
   "metadata": {},
   "outputs": [
    {
     "data": {
      "application/vnd.plotly.v1+json": {
       "config": {
        "plotlyServerURL": "https://plot.ly"
       },
       "data": [
        {
         "marker": {
          "color": [
           "darkgreen",
           "darkred"
          ]
         },
         "name": "Land use",
         "type": "bar",
         "x": [
          "Vegan",
          "Non-vegan"
         ],
         "xaxis": "x",
         "y": [
          240.06,
          886.38
         ],
         "yaxis": "y"
        },
        {
         "marker": {
          "color": [
           "darkgreen",
           "darkred"
          ]
         },
         "name": "GHG emission 2013",
         "type": "bar",
         "x": [
          "Vegan",
          "Non-vegan"
         ],
         "xaxis": "x2",
         "y": [
          136.08,
          271.25999999999993
         ],
         "yaxis": "y2"
        },
        {
         "marker": {
          "color": [
           "darkgreen",
           "darkred"
          ]
         },
         "name": "GHG emission 2007",
         "type": "bar",
         "x": [
          "Vegan",
          "Non-vegan"
         ],
         "xaxis": "x3",
         "y": [
          133.32,
          237.76999999999998
         ],
         "yaxis": "y3"
        },
        {
         "marker": {
          "color": [
           "darkgreen",
           "darkred"
          ]
         },
         "name": "Acidification",
         "type": "bar",
         "x": [
          "Vegan",
          "Non-vegan"
         ],
         "xaxis": "x4",
         "y": [
          530.22,
          1509.3300000000002
         ],
         "yaxis": "y4"
        },
        {
         "marker": {
          "color": [
           "darkgreen",
           "darkred"
          ]
         },
         "name": "Eutrophication",
         "type": "bar",
         "x": [
          "Vegan",
          "Non-vegan"
         ],
         "xaxis": "x5",
         "y": [
          498.98999999999995,
          1501.28
         ],
         "yaxis": "y5"
        },
        {
         "marker": {
          "color": [
           "darkgreen",
           "darkred"
          ]
         },
         "name": "Fresh Water Withdrawal",
         "type": "bar",
         "x": [
          "Vegan",
          "Non-vegan"
         ],
         "xaxis": "x6",
         "y": [
          16904.2,
          23079.100000000002
         ],
         "yaxis": "y6"
        },
        {
         "marker": {
          "color": [
           "darkgreen",
           "darkred"
          ]
         },
         "name": "Stress Water Use",
         "type": "bar",
         "x": [
          "Vegan",
          "Non-vegan"
         ],
         "xaxis": "x7",
         "y": [
          786306,
          782093.7999999999
         ],
         "yaxis": "y7"
        },
        {
         "domain": {
          "x": [
           0,
           0.1183673469387755
          ],
          "y": [
           0.6000000000000001,
           1
          ]
         },
         "labels": [
          "Total",
          "Non-vegan",
          "Vegan",
          "Meat",
          "Dairy products",
          "Other non-vegan Products",
          "Vegetables",
          "Fruits",
          "Legumes",
          "Plant-based alternatives",
          "Oils",
          "Other vegan products",
          "Bovine Meat (beef herd)",
          "Bovine Meat (dairy herd)",
          "Lamb & Mutton",
          "Pig Meat",
          "Poultry Meat",
          "Fish (farmed)",
          "Crustaceans (farmed)",
          "Milk",
          "Cheese",
          "Eggs",
          "Barley (Beer)",
          "Cane Sugar",
          "Crustaceans (farmed)",
          "Potatoes",
          "Cassava",
          "Tomatoes",
          "Onions & Leeks",
          "Root Vegetables",
          "Brassicas",
          "Other Vegetables",
          "Citrus Fruit",
          "Bananas",
          "Apples",
          "Berries & Grapes",
          "Other Fruit",
          "Other Pulses",
          "Peas",
          "Nuts",
          "Groundnuts",
          "Soymilk",
          "Tofu",
          "Soybean Oil",
          "Sunflower Oil",
          "Olive Oil",
          "Coffee",
          "Dark Chocolate"
         ],
         "marker": {
          "colors": [
           "darkgreen",
           "darkred",
           "darkgreen",
           "darkred"
          ]
         },
         "parents": [
          "",
          "Total",
          "Total",
          "Non-vegan",
          "Non-vegan",
          "Non-vegan",
          "Vegan",
          "Vegan",
          "Vegan",
          "Vegan",
          "Vegan",
          "Vegan",
          "Meat",
          "Meat",
          "Meat",
          "Meat",
          "Meat",
          "Meat",
          "Meat",
          "Dairy products",
          "Dairy products",
          "Dairy products",
          "Other non-vegan Products",
          "Other non-vegan Products",
          "Other non-vegan Products",
          "Vegetables",
          "Vegetables",
          "Vegetables",
          "Vegetables",
          "Vegetables",
          "Vegetables",
          "Vegetables",
          "Fruits",
          "Fruits",
          "Fruits",
          "Fruits",
          "Fruits",
          "Legumes",
          "Legumes",
          "Legumes",
          "Legumes",
          "Plant-based alternatives",
          "Plant-based alternatives",
          "Oils",
          "Oils",
          "Oils",
          "Other vegan products",
          "Other vegan products"
         ],
         "type": "sunburst",
         "values": [
          0,
          0,
          0,
          0,
          0,
          0,
          0,
          0,
          0,
          0,
          0,
          0,
          1.11,
          2.04,
          326.21,
          43.24,
          369.81,
          17.36,
          12.22,
          8.95,
          87.79,
          6.27,
          8.41,
          2.97,
          3.85,
          2.94,
          7.6,
          2.8,
          0.88,
          1.81,
          1.83,
          15.57,
          7.46,
          12.96,
          9.11,
          0.66,
          3.52,
          10.52,
          2.42,
          17.66,
          10.63,
          26.31,
          0.8,
          0.39,
          0.33,
          0.55,
          0.38,
          0.86,
          1.93,
          0.63,
          2.41,
          1.78,
          0.89,
          21.62,
          68.96
         ]
        },
        {
         "domain": {
          "x": [
           0.14693877551020407,
           0.26530612244897955
          ],
          "y": [
           0.6000000000000001,
           1
          ]
         },
         "labels": [
          "Total",
          "Non-vegan",
          "Vegan",
          "Meat",
          "Dairy products",
          "Other non-vegan Products",
          "Vegetables",
          "Fruits",
          "Legumes",
          "Plant-based alternatives",
          "Oils",
          "Other vegan products",
          "Bovine Meat (beef herd)",
          "Bovine Meat (dairy herd)",
          "Lamb & Mutton",
          "Pig Meat",
          "Poultry Meat",
          "Fish (farmed)",
          "Crustaceans (farmed)",
          "Milk",
          "Cheese",
          "Eggs",
          "Barley (Beer)",
          "Cane Sugar",
          "Crustaceans (farmed)",
          "Potatoes",
          "Cassava",
          "Tomatoes",
          "Onions & Leeks",
          "Root Vegetables",
          "Brassicas",
          "Other Vegetables",
          "Citrus Fruit",
          "Bananas",
          "Apples",
          "Berries & Grapes",
          "Other Fruit",
          "Other Pulses",
          "Peas",
          "Nuts",
          "Groundnuts",
          "Soymilk",
          "Tofu",
          "Soybean Oil",
          "Sunflower Oil",
          "Olive Oil",
          "Coffee",
          "Dark Chocolate"
         ],
         "marker": {
          "colors": [
           "darkgreen",
           "darkred",
           "darkgreen",
           "darkred"
          ]
         },
         "parents": [
          "",
          "Total",
          "Total",
          "Non-vegan",
          "Non-vegan",
          "Non-vegan",
          "Vegan",
          "Vegan",
          "Vegan",
          "Vegan",
          "Vegan",
          "Vegan",
          "Meat",
          "Meat",
          "Meat",
          "Meat",
          "Meat",
          "Meat",
          "Meat",
          "Dairy products",
          "Dairy products",
          "Dairy products",
          "Other non-vegan Products",
          "Other non-vegan Products",
          "Other non-vegan Products",
          "Vegetables",
          "Vegetables",
          "Vegetables",
          "Vegetables",
          "Vegetables",
          "Vegetables",
          "Vegetables",
          "Fruits",
          "Fruits",
          "Fruits",
          "Fruits",
          "Fruits",
          "Legumes",
          "Legumes",
          "Legumes",
          "Legumes",
          "Plant-based alternatives",
          "Plant-based alternatives",
          "Oils",
          "Oils",
          "Oils",
          "Other vegan products",
          "Other vegan products"
         ],
         "type": "sunburst",
         "values": [
          0,
          0,
          0,
          0,
          0,
          0,
          0,
          0,
          0,
          0,
          0,
          0,
          1.18,
          3.2,
          99.48,
          33.3,
          39.72,
          12.31,
          9.87,
          3.15,
          23.88,
          4.67,
          13.63,
          26.87,
          1.57,
          1.7,
          2.48,
          4.45,
          0.46,
          1.32,
          1.81,
          1.79,
          0.98,
          0.43,
          3.23,
          0.98,
          3.16,
          6.32,
          7.32,
          3.6,
          3.77,
          5.42,
          2.09,
          0.5,
          0.43,
          0.51,
          0.53,
          0.39,
          0.86,
          0.43,
          1.53,
          1.79,
          1.05,
          28.53,
          46.65
         ]
        },
        {
         "domain": {
          "x": [
           0.29387755102040813,
           0.4122448979591836
          ],
          "y": [
           0.6000000000000001,
           1
          ]
         },
         "labels": [
          "Total",
          "Non-vegan",
          "Vegan",
          "Meat",
          "Dairy products",
          "Other non-vegan Products",
          "Vegetables",
          "Fruits",
          "Legumes",
          "Plant-based alternatives",
          "Oils",
          "Other vegan products",
          "Bovine Meat (beef herd)",
          "Bovine Meat (dairy herd)",
          "Lamb & Mutton",
          "Pig Meat",
          "Poultry Meat",
          "Fish (farmed)",
          "Crustaceans (farmed)",
          "Milk",
          "Cheese",
          "Eggs",
          "Barley (Beer)",
          "Cane Sugar",
          "Crustaceans (farmed)",
          "Potatoes",
          "Cassava",
          "Tomatoes",
          "Onions & Leeks",
          "Root Vegetables",
          "Brassicas",
          "Other Vegetables",
          "Citrus Fruit",
          "Bananas",
          "Apples",
          "Berries & Grapes",
          "Other Fruit",
          "Other Pulses",
          "Peas",
          "Nuts",
          "Groundnuts",
          "Soymilk",
          "Tofu",
          "Soybean Oil",
          "Sunflower Oil",
          "Olive Oil",
          "Coffee",
          "Dark Chocolate"
         ],
         "marker": {
          "colors": [
           "darkgreen",
           "darkred",
           "darkgreen",
           "darkred"
          ]
         },
         "parents": [
          "",
          "Total",
          "Total",
          "Non-vegan",
          "Non-vegan",
          "Non-vegan",
          "Vegan",
          "Vegan",
          "Vegan",
          "Vegan",
          "Vegan",
          "Vegan",
          "Meat",
          "Meat",
          "Meat",
          "Meat",
          "Meat",
          "Meat",
          "Meat",
          "Dairy products",
          "Dairy products",
          "Dairy products",
          "Other non-vegan Products",
          "Other non-vegan Products",
          "Other non-vegan Products",
          "Vegetables",
          "Vegetables",
          "Vegetables",
          "Vegetables",
          "Vegetables",
          "Vegetables",
          "Vegetables",
          "Fruits",
          "Fruits",
          "Fruits",
          "Fruits",
          "Fruits",
          "Legumes",
          "Legumes",
          "Legumes",
          "Legumes",
          "Plant-based alternatives",
          "Plant-based alternatives",
          "Oils",
          "Oils",
          "Oils",
          "Other vegan products",
          "Other vegan products"
         ],
         "type": "sunburst",
         "values": [
          0,
          0,
          0,
          0,
          0,
          0,
          0,
          0,
          0,
          0,
          0,
          0,
          1.18,
          3.16,
          85.19,
          28.79,
          32.71,
          11.54,
          9.82,
          2.84,
          21.44,
          4.6,
          12.51,
          23.99,
          1.58,
          1.68,
          2.47,
          3.81,
          0.45,
          1.3,
          1.8,
          1.79,
          0.97,
          0.37,
          3.18,
          0.97,
          3.14,
          6.15,
          7.16,
          3.59,
          3.76,
          5.25,
          2.01,
          0.5,
          0.43,
          0.51,
          0.53,
          0.37,
          0.86,
          0.42,
          1.52,
          1.76,
          1.06,
          27.65,
          46.28
         ]
        },
        {
         "domain": {
          "x": [
           0.4408163265306122,
           0.5591836734693877
          ],
          "y": [
           0.6000000000000001,
           1
          ]
         },
         "labels": [
          "Total",
          "Non-vegan",
          "Vegan",
          "Meat",
          "Dairy products",
          "Other non-vegan Products",
          "Vegetables",
          "Fruits",
          "Legumes",
          "Plant-based alternatives",
          "Oils",
          "Other vegan products",
          "Bovine Meat (beef herd)",
          "Bovine Meat (dairy herd)",
          "Lamb & Mutton",
          "Pig Meat",
          "Poultry Meat",
          "Fish (farmed)",
          "Crustaceans (farmed)",
          "Milk",
          "Cheese",
          "Eggs",
          "Barley (Beer)",
          "Cane Sugar",
          "Crustaceans (farmed)",
          "Potatoes",
          "Cassava",
          "Tomatoes",
          "Onions & Leeks",
          "Root Vegetables",
          "Brassicas",
          "Other Vegetables",
          "Citrus Fruit",
          "Bananas",
          "Apples",
          "Berries & Grapes",
          "Other Fruit",
          "Other Pulses",
          "Peas",
          "Nuts",
          "Groundnuts",
          "Soymilk",
          "Tofu",
          "Soybean Oil",
          "Sunflower Oil",
          "Olive Oil",
          "Coffee",
          "Dark Chocolate"
         ],
         "marker": {
          "colors": [
           "darkgreen",
           "darkred",
           "darkgreen",
           "darkred"
          ]
         },
         "parents": [
          "",
          "Total",
          "Total",
          "Non-vegan",
          "Non-vegan",
          "Non-vegan",
          "Vegan",
          "Vegan",
          "Vegan",
          "Vegan",
          "Vegan",
          "Vegan",
          "Meat",
          "Meat",
          "Meat",
          "Meat",
          "Meat",
          "Meat",
          "Meat",
          "Dairy products",
          "Dairy products",
          "Dairy products",
          "Other non-vegan Products",
          "Other non-vegan Products",
          "Other non-vegan Products",
          "Vegetables",
          "Vegetables",
          "Vegetables",
          "Vegetables",
          "Vegetables",
          "Vegetables",
          "Vegetables",
          "Fruits",
          "Fruits",
          "Fruits",
          "Fruits",
          "Fruits",
          "Legumes",
          "Legumes",
          "Legumes",
          "Legumes",
          "Plant-based alternatives",
          "Plant-based alternatives",
          "Oils",
          "Oils",
          "Oils",
          "Other vegan products",
          "Other vegan products"
         ],
         "type": "sunburst",
         "values": [
          0,
          0,
          0,
          0,
          0,
          0,
          0,
          0,
          0,
          0,
          0,
          0,
          6.59,
          18.02,
          318.83,
          343.64,
          138.97,
          142.66,
          102.42,
          20.01,
          165.54,
          53.67,
          65.91,
          133.07,
          13.35,
          11.68,
          10.68,
          27.19,
          3.87,
          3.42,
          12.62,
          22.07,
          8.49,
          45.15,
          22.62,
          2.6,
          6.7,
          15.67,
          17.52,
          27.96,
          28.51,
          37.58,
          17.21,
          3.63,
          2.9,
          8.21,
          6.41,
          4.04,
          6.35,
          3.52,
          12.29,
          12.76,
          5.78,
          83.14,
          46.3
         ]
        },
        {
         "domain": {
          "x": [
           0.5877551020408163,
           0.7061224489795918
          ],
          "y": [
           0.6000000000000001,
           1
          ]
         },
         "labels": [
          "Total",
          "Non-vegan",
          "Vegan",
          "Meat",
          "Dairy products",
          "Other non-vegan Products",
          "Vegetables",
          "Fruits",
          "Legumes",
          "Plant-based alternatives",
          "Oils",
          "Other vegan products",
          "Bovine Meat (beef herd)",
          "Bovine Meat (dairy herd)",
          "Lamb & Mutton",
          "Pig Meat",
          "Poultry Meat",
          "Fish (farmed)",
          "Crustaceans (farmed)",
          "Milk",
          "Cheese",
          "Eggs",
          "Barley (Beer)",
          "Cane Sugar",
          "Crustaceans (farmed)",
          "Potatoes",
          "Cassava",
          "Tomatoes",
          "Onions & Leeks",
          "Root Vegetables",
          "Brassicas",
          "Other Vegetables",
          "Citrus Fruit",
          "Bananas",
          "Apples",
          "Berries & Grapes",
          "Other Fruit",
          "Other Pulses",
          "Peas",
          "Nuts",
          "Groundnuts",
          "Soymilk",
          "Tofu",
          "Soybean Oil",
          "Sunflower Oil",
          "Olive Oil",
          "Coffee",
          "Dark Chocolate"
         ],
         "marker": {
          "colors": [
           "darkgreen",
           "darkred",
           "darkgreen",
           "darkred"
          ]
         },
         "parents": [
          "",
          "Total",
          "Total",
          "Non-vegan",
          "Non-vegan",
          "Non-vegan",
          "Vegan",
          "Vegan",
          "Vegan",
          "Vegan",
          "Vegan",
          "Vegan",
          "Meat",
          "Meat",
          "Meat",
          "Meat",
          "Meat",
          "Meat",
          "Meat",
          "Dairy products",
          "Dairy products",
          "Dairy products",
          "Other non-vegan Products",
          "Other non-vegan Products",
          "Other non-vegan Products",
          "Vegetables",
          "Vegetables",
          "Vegetables",
          "Vegetables",
          "Vegetables",
          "Vegetables",
          "Vegetables",
          "Fruits",
          "Fruits",
          "Fruits",
          "Fruits",
          "Fruits",
          "Legumes",
          "Legumes",
          "Legumes",
          "Legumes",
          "Plant-based alternatives",
          "Plant-based alternatives",
          "Oils",
          "Oils",
          "Oils",
          "Other vegan products",
          "Other vegan products"
         ],
         "type": "sunburst",
         "values": [
          0,
          0,
          0,
          0,
          0,
          0,
          0,
          0,
          0,
          0,
          0,
          0,
          2.33,
          16.92,
          301.41,
          365.29,
          97.13,
          76.38,
          48.7,
          10.65,
          98.37,
          21.76,
          235.12,
          227.22,
          7.16,
          4.03,
          11.23,
          35.07,
          3.48,
          0.69,
          5.41,
          17.08,
          7.52,
          19.15,
          14.14,
          1.06,
          6.16,
          11.69,
          10.67,
          50.66,
          19.19,
          37.26,
          7.51,
          3.24,
          1.61,
          5.01,
          2.27,
          2.24,
          3.29,
          1.45,
          6.12,
          4.57,
          2.43,
          110.52,
          87.08
         ]
        },
        {
         "domain": {
          "x": [
           0.7346938775510204,
           0.8530612244897959
          ],
          "y": [
           0.6000000000000001,
           1
          ]
         },
         "labels": [
          "Total",
          "Non-vegan",
          "Vegan",
          "Meat",
          "Dairy products",
          "Other non-vegan Products",
          "Vegetables",
          "Fruits",
          "Legumes",
          "Plant-based alternatives",
          "Oils",
          "Other vegan products",
          "Bovine Meat (beef herd)",
          "Bovine Meat (dairy herd)",
          "Lamb & Mutton",
          "Pig Meat",
          "Poultry Meat",
          "Fish (farmed)",
          "Crustaceans (farmed)",
          "Milk",
          "Cheese",
          "Eggs",
          "Barley (Beer)",
          "Cane Sugar",
          "Crustaceans (farmed)",
          "Potatoes",
          "Cassava",
          "Tomatoes",
          "Onions & Leeks",
          "Root Vegetables",
          "Brassicas",
          "Other Vegetables",
          "Citrus Fruit",
          "Bananas",
          "Apples",
          "Berries & Grapes",
          "Other Fruit",
          "Other Pulses",
          "Peas",
          "Nuts",
          "Groundnuts",
          "Soymilk",
          "Tofu",
          "Soybean Oil",
          "Sunflower Oil",
          "Olive Oil",
          "Coffee",
          "Dark Chocolate"
         ],
         "marker": {
          "colors": [
           "darkgreen",
           "darkred",
           "darkgreen",
           "darkred"
          ]
         },
         "parents": [
          "",
          "Total",
          "Total",
          "Non-vegan",
          "Non-vegan",
          "Non-vegan",
          "Vegan",
          "Vegan",
          "Vegan",
          "Vegan",
          "Vegan",
          "Vegan",
          "Meat",
          "Meat",
          "Meat",
          "Meat",
          "Meat",
          "Meat",
          "Meat",
          "Dairy products",
          "Dairy products",
          "Dairy products",
          "Other non-vegan Products",
          "Other non-vegan Products",
          "Other non-vegan Products",
          "Vegetables",
          "Vegetables",
          "Vegetables",
          "Vegetables",
          "Vegetables",
          "Vegetables",
          "Vegetables",
          "Fruits",
          "Fruits",
          "Fruits",
          "Fruits",
          "Fruits",
          "Legumes",
          "Legumes",
          "Legumes",
          "Legumes",
          "Plant-based alternatives",
          "Plant-based alternatives",
          "Oils",
          "Oils",
          "Oils",
          "Other vegan products",
          "Other vegan products"
         ],
         "type": "sunburst",
         "values": [
          0,
          0,
          0,
          0,
          0,
          0,
          0,
          0,
          0,
          0,
          0,
          0,
          17.1,
          620.1,
          1451.2,
          2714.3,
          1802.8,
          1795.8,
          660,
          628.2,
          5605.2,
          577.7,
          3691.3,
          3515.4,
          647.5,
          215.7,
          482.4,
          2248.4,
          59.1,
          0,
          217.7,
          435.7,
          396.6,
          4133.8,
          1852.3,
          27.8,
          148.6,
          414.6,
          6.4,
          1007.9,
          237.7,
          2141.8,
          369.8,
          14.3,
          28.4,
          119.4,
          102.5,
          82.7,
          114.5,
          180.1,
          419.6,
          78.9,
          153.5,
          25.9,
          540.6
         ]
        },
        {
         "domain": {
          "x": [
           0.8816326530612244,
           0.9999999999999999
          ],
          "y": [
           0.6000000000000001,
           1
          ]
         },
         "labels": [
          "Total",
          "Non-vegan",
          "Vegan",
          "Meat",
          "Dairy products",
          "Other non-vegan Products",
          "Vegetables",
          "Fruits",
          "Legumes",
          "Plant-based alternatives",
          "Oils",
          "Other vegan products",
          "Bovine Meat (beef herd)",
          "Bovine Meat (dairy herd)",
          "Lamb & Mutton",
          "Pig Meat",
          "Poultry Meat",
          "Fish (farmed)",
          "Crustaceans (farmed)",
          "Milk",
          "Cheese",
          "Eggs",
          "Barley (Beer)",
          "Cane Sugar",
          "Crustaceans (farmed)",
          "Potatoes",
          "Cassava",
          "Tomatoes",
          "Onions & Leeks",
          "Root Vegetables",
          "Brassicas",
          "Other Vegetables",
          "Citrus Fruit",
          "Bananas",
          "Apples",
          "Berries & Grapes",
          "Other Fruit",
          "Other Pulses",
          "Peas",
          "Nuts",
          "Groundnuts",
          "Soymilk",
          "Tofu",
          "Soybean Oil",
          "Sunflower Oil",
          "Olive Oil",
          "Coffee",
          "Dark Chocolate"
         ],
         "marker": {
          "colors": [
           "darkgreen",
           "darkred",
           "darkgreen",
           "darkred"
          ]
         },
         "parents": [
          "",
          "Total",
          "Total",
          "Non-vegan",
          "Non-vegan",
          "Non-vegan",
          "Vegan",
          "Vegan",
          "Vegan",
          "Vegan",
          "Vegan",
          "Vegan",
          "Meat",
          "Meat",
          "Meat",
          "Meat",
          "Meat",
          "Meat",
          "Meat",
          "Dairy products",
          "Dairy products",
          "Dairy products",
          "Other non-vegan Products",
          "Other non-vegan Products",
          "Other non-vegan Products",
          "Vegetables",
          "Vegetables",
          "Vegetables",
          "Vegetables",
          "Vegetables",
          "Vegetables",
          "Vegetables",
          "Fruits",
          "Fruits",
          "Fruits",
          "Fruits",
          "Fruits",
          "Legumes",
          "Legumes",
          "Legumes",
          "Legumes",
          "Plant-based alternatives",
          "Plant-based alternatives",
          "Oils",
          "Oils",
          "Oils",
          "Other vegan products",
          "Other vegan products"
         ],
         "type": "sunburst",
         "values": [
          0,
          0,
          0,
          0,
          0,
          0,
          0,
          0,
          0,
          0,
          0,
          0,
          696.4,
          16438.6,
          34732.5,
          119805.2,
          141925,
          66867.4,
          14177.9,
          19786.3,
          180850.6,
          17982.7,
          41572.2,
          127259,
          33385.6,
          10863.3,
          18786.2,
          49576.3,
          2754.2,
          0,
          9493.3,
          22477.4,
          27948.2,
          229889.8,
          61797.9,
          955.6,
          5113.2,
          14888.2,
          36.2,
          36369.4,
          10593.7,
          177480.2,
          5335.7,
          932,
          929.2,
          8455.1,
          4911.4,
          4662.7,
          661.9,
          12948.6,
          21162.1,
          1149.3,
          9533.1,
          337,
          2879.2
         ]
        }
       ],
       "layout": {
        "height": 800,
        "showlegend": false,
        "template": {
         "data": {
          "bar": [
           {
            "error_x": {
             "color": "#2a3f5f"
            },
            "error_y": {
             "color": "#2a3f5f"
            },
            "marker": {
             "line": {
              "color": "#E5ECF6",
              "width": 0.5
             },
             "pattern": {
              "fillmode": "overlay",
              "size": 10,
              "solidity": 0.2
             }
            },
            "type": "bar"
           }
          ],
          "barpolar": [
           {
            "marker": {
             "line": {
              "color": "#E5ECF6",
              "width": 0.5
             },
             "pattern": {
              "fillmode": "overlay",
              "size": 10,
              "solidity": 0.2
             }
            },
            "type": "barpolar"
           }
          ],
          "carpet": [
           {
            "aaxis": {
             "endlinecolor": "#2a3f5f",
             "gridcolor": "white",
             "linecolor": "white",
             "minorgridcolor": "white",
             "startlinecolor": "#2a3f5f"
            },
            "baxis": {
             "endlinecolor": "#2a3f5f",
             "gridcolor": "white",
             "linecolor": "white",
             "minorgridcolor": "white",
             "startlinecolor": "#2a3f5f"
            },
            "type": "carpet"
           }
          ],
          "choropleth": [
           {
            "colorbar": {
             "outlinewidth": 0,
             "ticks": ""
            },
            "type": "choropleth"
           }
          ],
          "contour": [
           {
            "colorbar": {
             "outlinewidth": 0,
             "ticks": ""
            },
            "colorscale": [
             [
              0,
              "#0d0887"
             ],
             [
              0.1111111111111111,
              "#46039f"
             ],
             [
              0.2222222222222222,
              "#7201a8"
             ],
             [
              0.3333333333333333,
              "#9c179e"
             ],
             [
              0.4444444444444444,
              "#bd3786"
             ],
             [
              0.5555555555555556,
              "#d8576b"
             ],
             [
              0.6666666666666666,
              "#ed7953"
             ],
             [
              0.7777777777777778,
              "#fb9f3a"
             ],
             [
              0.8888888888888888,
              "#fdca26"
             ],
             [
              1,
              "#f0f921"
             ]
            ],
            "type": "contour"
           }
          ],
          "contourcarpet": [
           {
            "colorbar": {
             "outlinewidth": 0,
             "ticks": ""
            },
            "type": "contourcarpet"
           }
          ],
          "heatmap": [
           {
            "colorbar": {
             "outlinewidth": 0,
             "ticks": ""
            },
            "colorscale": [
             [
              0,
              "#0d0887"
             ],
             [
              0.1111111111111111,
              "#46039f"
             ],
             [
              0.2222222222222222,
              "#7201a8"
             ],
             [
              0.3333333333333333,
              "#9c179e"
             ],
             [
              0.4444444444444444,
              "#bd3786"
             ],
             [
              0.5555555555555556,
              "#d8576b"
             ],
             [
              0.6666666666666666,
              "#ed7953"
             ],
             [
              0.7777777777777778,
              "#fb9f3a"
             ],
             [
              0.8888888888888888,
              "#fdca26"
             ],
             [
              1,
              "#f0f921"
             ]
            ],
            "type": "heatmap"
           }
          ],
          "heatmapgl": [
           {
            "colorbar": {
             "outlinewidth": 0,
             "ticks": ""
            },
            "colorscale": [
             [
              0,
              "#0d0887"
             ],
             [
              0.1111111111111111,
              "#46039f"
             ],
             [
              0.2222222222222222,
              "#7201a8"
             ],
             [
              0.3333333333333333,
              "#9c179e"
             ],
             [
              0.4444444444444444,
              "#bd3786"
             ],
             [
              0.5555555555555556,
              "#d8576b"
             ],
             [
              0.6666666666666666,
              "#ed7953"
             ],
             [
              0.7777777777777778,
              "#fb9f3a"
             ],
             [
              0.8888888888888888,
              "#fdca26"
             ],
             [
              1,
              "#f0f921"
             ]
            ],
            "type": "heatmapgl"
           }
          ],
          "histogram": [
           {
            "marker": {
             "pattern": {
              "fillmode": "overlay",
              "size": 10,
              "solidity": 0.2
             }
            },
            "type": "histogram"
           }
          ],
          "histogram2d": [
           {
            "colorbar": {
             "outlinewidth": 0,
             "ticks": ""
            },
            "colorscale": [
             [
              0,
              "#0d0887"
             ],
             [
              0.1111111111111111,
              "#46039f"
             ],
             [
              0.2222222222222222,
              "#7201a8"
             ],
             [
              0.3333333333333333,
              "#9c179e"
             ],
             [
              0.4444444444444444,
              "#bd3786"
             ],
             [
              0.5555555555555556,
              "#d8576b"
             ],
             [
              0.6666666666666666,
              "#ed7953"
             ],
             [
              0.7777777777777778,
              "#fb9f3a"
             ],
             [
              0.8888888888888888,
              "#fdca26"
             ],
             [
              1,
              "#f0f921"
             ]
            ],
            "type": "histogram2d"
           }
          ],
          "histogram2dcontour": [
           {
            "colorbar": {
             "outlinewidth": 0,
             "ticks": ""
            },
            "colorscale": [
             [
              0,
              "#0d0887"
             ],
             [
              0.1111111111111111,
              "#46039f"
             ],
             [
              0.2222222222222222,
              "#7201a8"
             ],
             [
              0.3333333333333333,
              "#9c179e"
             ],
             [
              0.4444444444444444,
              "#bd3786"
             ],
             [
              0.5555555555555556,
              "#d8576b"
             ],
             [
              0.6666666666666666,
              "#ed7953"
             ],
             [
              0.7777777777777778,
              "#fb9f3a"
             ],
             [
              0.8888888888888888,
              "#fdca26"
             ],
             [
              1,
              "#f0f921"
             ]
            ],
            "type": "histogram2dcontour"
           }
          ],
          "mesh3d": [
           {
            "colorbar": {
             "outlinewidth": 0,
             "ticks": ""
            },
            "type": "mesh3d"
           }
          ],
          "parcoords": [
           {
            "line": {
             "colorbar": {
              "outlinewidth": 0,
              "ticks": ""
             }
            },
            "type": "parcoords"
           }
          ],
          "pie": [
           {
            "automargin": true,
            "type": "pie"
           }
          ],
          "scatter": [
           {
            "fillpattern": {
             "fillmode": "overlay",
             "size": 10,
             "solidity": 0.2
            },
            "type": "scatter"
           }
          ],
          "scatter3d": [
           {
            "line": {
             "colorbar": {
              "outlinewidth": 0,
              "ticks": ""
             }
            },
            "marker": {
             "colorbar": {
              "outlinewidth": 0,
              "ticks": ""
             }
            },
            "type": "scatter3d"
           }
          ],
          "scattercarpet": [
           {
            "marker": {
             "colorbar": {
              "outlinewidth": 0,
              "ticks": ""
             }
            },
            "type": "scattercarpet"
           }
          ],
          "scattergeo": [
           {
            "marker": {
             "colorbar": {
              "outlinewidth": 0,
              "ticks": ""
             }
            },
            "type": "scattergeo"
           }
          ],
          "scattergl": [
           {
            "marker": {
             "colorbar": {
              "outlinewidth": 0,
              "ticks": ""
             }
            },
            "type": "scattergl"
           }
          ],
          "scattermapbox": [
           {
            "marker": {
             "colorbar": {
              "outlinewidth": 0,
              "ticks": ""
             }
            },
            "type": "scattermapbox"
           }
          ],
          "scatterpolar": [
           {
            "marker": {
             "colorbar": {
              "outlinewidth": 0,
              "ticks": ""
             }
            },
            "type": "scatterpolar"
           }
          ],
          "scatterpolargl": [
           {
            "marker": {
             "colorbar": {
              "outlinewidth": 0,
              "ticks": ""
             }
            },
            "type": "scatterpolargl"
           }
          ],
          "scatterternary": [
           {
            "marker": {
             "colorbar": {
              "outlinewidth": 0,
              "ticks": ""
             }
            },
            "type": "scatterternary"
           }
          ],
          "surface": [
           {
            "colorbar": {
             "outlinewidth": 0,
             "ticks": ""
            },
            "colorscale": [
             [
              0,
              "#0d0887"
             ],
             [
              0.1111111111111111,
              "#46039f"
             ],
             [
              0.2222222222222222,
              "#7201a8"
             ],
             [
              0.3333333333333333,
              "#9c179e"
             ],
             [
              0.4444444444444444,
              "#bd3786"
             ],
             [
              0.5555555555555556,
              "#d8576b"
             ],
             [
              0.6666666666666666,
              "#ed7953"
             ],
             [
              0.7777777777777778,
              "#fb9f3a"
             ],
             [
              0.8888888888888888,
              "#fdca26"
             ],
             [
              1,
              "#f0f921"
             ]
            ],
            "type": "surface"
           }
          ],
          "table": [
           {
            "cells": {
             "fill": {
              "color": "#EBF0F8"
             },
             "line": {
              "color": "white"
             }
            },
            "header": {
             "fill": {
              "color": "#C8D4E3"
             },
             "line": {
              "color": "white"
             }
            },
            "type": "table"
           }
          ]
         },
         "layout": {
          "annotationdefaults": {
           "arrowcolor": "#2a3f5f",
           "arrowhead": 0,
           "arrowwidth": 1
          },
          "autotypenumbers": "strict",
          "coloraxis": {
           "colorbar": {
            "outlinewidth": 0,
            "ticks": ""
           }
          },
          "colorscale": {
           "diverging": [
            [
             0,
             "#8e0152"
            ],
            [
             0.1,
             "#c51b7d"
            ],
            [
             0.2,
             "#de77ae"
            ],
            [
             0.3,
             "#f1b6da"
            ],
            [
             0.4,
             "#fde0ef"
            ],
            [
             0.5,
             "#f7f7f7"
            ],
            [
             0.6,
             "#e6f5d0"
            ],
            [
             0.7,
             "#b8e186"
            ],
            [
             0.8,
             "#7fbc41"
            ],
            [
             0.9,
             "#4d9221"
            ],
            [
             1,
             "#276419"
            ]
           ],
           "sequential": [
            [
             0,
             "#0d0887"
            ],
            [
             0.1111111111111111,
             "#46039f"
            ],
            [
             0.2222222222222222,
             "#7201a8"
            ],
            [
             0.3333333333333333,
             "#9c179e"
            ],
            [
             0.4444444444444444,
             "#bd3786"
            ],
            [
             0.5555555555555556,
             "#d8576b"
            ],
            [
             0.6666666666666666,
             "#ed7953"
            ],
            [
             0.7777777777777778,
             "#fb9f3a"
            ],
            [
             0.8888888888888888,
             "#fdca26"
            ],
            [
             1,
             "#f0f921"
            ]
           ],
           "sequentialminus": [
            [
             0,
             "#0d0887"
            ],
            [
             0.1111111111111111,
             "#46039f"
            ],
            [
             0.2222222222222222,
             "#7201a8"
            ],
            [
             0.3333333333333333,
             "#9c179e"
            ],
            [
             0.4444444444444444,
             "#bd3786"
            ],
            [
             0.5555555555555556,
             "#d8576b"
            ],
            [
             0.6666666666666666,
             "#ed7953"
            ],
            [
             0.7777777777777778,
             "#fb9f3a"
            ],
            [
             0.8888888888888888,
             "#fdca26"
            ],
            [
             1,
             "#f0f921"
            ]
           ]
          },
          "colorway": [
           "#636efa",
           "#EF553B",
           "#00cc96",
           "#ab63fa",
           "#FFA15A",
           "#19d3f3",
           "#FF6692",
           "#B6E880",
           "#FF97FF",
           "#FECB52"
          ],
          "font": {
           "color": "#2a3f5f"
          },
          "geo": {
           "bgcolor": "white",
           "lakecolor": "white",
           "landcolor": "#E5ECF6",
           "showlakes": true,
           "showland": true,
           "subunitcolor": "white"
          },
          "hoverlabel": {
           "align": "left"
          },
          "hovermode": "closest",
          "mapbox": {
           "style": "light"
          },
          "paper_bgcolor": "white",
          "plot_bgcolor": "#E5ECF6",
          "polar": {
           "angularaxis": {
            "gridcolor": "white",
            "linecolor": "white",
            "ticks": ""
           },
           "bgcolor": "#E5ECF6",
           "radialaxis": {
            "gridcolor": "white",
            "linecolor": "white",
            "ticks": ""
           }
          },
          "scene": {
           "xaxis": {
            "backgroundcolor": "#E5ECF6",
            "gridcolor": "white",
            "gridwidth": 2,
            "linecolor": "white",
            "showbackground": true,
            "ticks": "",
            "zerolinecolor": "white"
           },
           "yaxis": {
            "backgroundcolor": "#E5ECF6",
            "gridcolor": "white",
            "gridwidth": 2,
            "linecolor": "white",
            "showbackground": true,
            "ticks": "",
            "zerolinecolor": "white"
           },
           "zaxis": {
            "backgroundcolor": "#E5ECF6",
            "gridcolor": "white",
            "gridwidth": 2,
            "linecolor": "white",
            "showbackground": true,
            "ticks": "",
            "zerolinecolor": "white"
           }
          },
          "shapedefaults": {
           "line": {
            "color": "#2a3f5f"
           }
          },
          "ternary": {
           "aaxis": {
            "gridcolor": "white",
            "linecolor": "white",
            "ticks": ""
           },
           "baxis": {
            "gridcolor": "white",
            "linecolor": "white",
            "ticks": ""
           },
           "bgcolor": "#E5ECF6",
           "caxis": {
            "gridcolor": "white",
            "linecolor": "white",
            "ticks": ""
           }
          },
          "title": {
           "x": 0.05
          },
          "xaxis": {
           "automargin": true,
           "gridcolor": "white",
           "linecolor": "white",
           "ticks": "",
           "title": {
            "standoff": 15
           },
           "zerolinecolor": "white",
           "zerolinewidth": 2
          },
          "yaxis": {
           "automargin": true,
           "gridcolor": "white",
           "linecolor": "white",
           "ticks": "",
           "title": {
            "standoff": 15
           },
           "zerolinecolor": "white",
           "zerolinewidth": 2
          }
         }
        },
        "width": 2250,
        "xaxis": {
         "anchor": "y",
         "domain": [
          0,
          0.1183673469387755
         ],
         "title": {
          "text": "Land use"
         }
        },
        "xaxis2": {
         "anchor": "y2",
         "domain": [
          0.14693877551020407,
          0.26530612244897955
         ],
         "title": {
          "text": "GHG emission 2013"
         }
        },
        "xaxis3": {
         "anchor": "y3",
         "domain": [
          0.29387755102040813,
          0.4122448979591836
         ],
         "title": {
          "text": "GHG emission 2007"
         }
        },
        "xaxis4": {
         "anchor": "y4",
         "domain": [
          0.4408163265306122,
          0.5591836734693877
         ],
         "title": {
          "text": "Acidification"
         }
        },
        "xaxis5": {
         "anchor": "y5",
         "domain": [
          0.5877551020408163,
          0.7061224489795918
         ],
         "title": {
          "text": "Eutrophication"
         }
        },
        "xaxis6": {
         "anchor": "y6",
         "domain": [
          0.7346938775510204,
          0.8530612244897959
         ],
         "title": {
          "text": "Fresh Water Withdrawal"
         }
        },
        "xaxis7": {
         "anchor": "y7",
         "domain": [
          0.8816326530612244,
          0.9999999999999999
         ],
         "title": {
          "text": "Stress Water Use"
         }
        },
        "yaxis": {
         "anchor": "x",
         "domain": [
          0,
          0.4
         ],
         "title": {
          "text": "(m2/FU)"
         }
        },
        "yaxis2": {
         "anchor": "x2",
         "domain": [
          0,
          0.4
         ],
         "title": {
          "text": "(kg CO2eq/FU)"
         }
        },
        "yaxis3": {
         "anchor": "x3",
         "domain": [
          0,
          0.4
         ],
         "title": {
          "text": "(kg CO2eq/FU)"
         }
        },
        "yaxis4": {
         "anchor": "x4",
         "domain": [
          0,
          0.4
         ],
         "title": {
          "text": "(g SO2eq/FU)"
         }
        },
        "yaxis5": {
         "anchor": "x5",
         "domain": [
          0,
          0.4
         ],
         "title": {
          "text": "(g PO43-eq/FU)"
         }
        },
        "yaxis6": {
         "anchor": "x6",
         "domain": [
          0,
          0.4
         ],
         "title": {
          "text": "(L/FU)"
         }
        },
        "yaxis7": {
         "anchor": "x7",
         "domain": [
          0,
          0.4
         ],
         "title": {
          "text": "(L/FU)"
         }
        }
       }
      }
     },
     "metadata": {},
     "output_type": "display_data"
    }
   ],
   "source": [
    "#DONT USE\n",
    "# Define the data for the bar plots\n",
    "categories = ['Land use', 'GHG emission 2013', 'GHG emission 2007', 'Acidification', 'Eutrophication', 'Fresh Water Withdrawal', 'Stress Water Use']\n",
    "vegan_values = [df_vegan_products_land_use[\"Mean\"].sum(),\n",
    "                df_vegan_products_ghg_2013[\"Mean.1\"].sum(),\n",
    "                df_vegan_products_ghg_2007[\"Mean.2\"].sum(),\n",
    "                df_vegan_products_acid[\"Mean.3\"].sum(),\n",
    "                df_vegan_products_eutro[\"Mean.4\"].sum(),\n",
    "                df_vegan_products_fresh_water_withdraw[\"Mean.5\"].sum(),\n",
    "                df_vegan_products_stress_water_use[\"Mean.6\"].sum()]\n",
    "non_vegan_values = [df_non_vegan_products_land_use[\"Mean\"].sum(),\n",
    "                    df_non_vegan_products_ghg_2013[\"Mean.1\"].sum(),\n",
    "                    df_non_vegan_products_ghg_2007[\"Mean.2\"].sum(),\n",
    "                    df_non_vegan_products_acid[\"Mean.3\"].sum(),\n",
    "                    df_non_vegan_products_eutro[\"Mean.4\"].sum(),\n",
    "                    df_non_vegan_products_fresh_water_withdraw[\"Mean.5\"].sum(),\n",
    "                    df_non_vegan_products_stress_water_use[\"Mean.6\"].sum()]\n",
    "yaxvalues = ['(m2/FU)', '(kg CO2eq/FU)', '(kg CO2eq/FU)', '(g SO2eq/FU)', '(g PO43-eq/FU)', '(L/FU)', '(L/FU)']\n",
    "\n",
    "# function to create sunbursts    \n",
    "def create_sunburst_figure(title, values):\n",
    "    colors = ['darkgreen', 'darkred'] * 2  \n",
    "    fig = go.Figure(go.Sunburst(\n",
    "        labels=labels,\n",
    "        parents=parents,\n",
    "        values=values,\n",
    "        marker=dict(colors=colors),\n",
    "    ))\n",
    "    \n",
    "    fig.update_layout(title=title)\n",
    "    return fig\n",
    "\n",
    "categories = ['Land use', 'GHG emission 2013', 'GHG emission 2007', 'Acidification', 'Eutrophication', 'Fresh Water Withdrawal', 'Stress Water Use']\n",
    "\n",
    "labels = [\"Total\", \"Non-vegan\",\"Vegan\",\"Meat\", \"Dairy products\",\"Other non-vegan Products\",\"Vegetables\", \"Fruits\", \"Legumes\", \"Plant-based alternatives\", \"Oils\", \"Other vegan products\"] + list(df_meat_products[\"Product\"]) + list(df_dairy_products[\"Product\"]) + list(df_other_non_vegan_products[\"Product\"]) + list(df_vegetables_products[\"Product\"]) + list(df_fruits_products[\"Product\"]) + list(df_legumes_products[\"Product\"]) + list(df_plant_based_alternatives_products[\"Product\"]) + list(df_oils_products[\"Product\"]) + list(df_others_products[\"Product\"])\n",
    "parents = [\"\", \"Total\",\"Total\"] + [\"Non-vegan\"] * 3 + [\"Vegan\"] * 6 + [\"Meat\"] * len(df_meat_products) + [\"Dairy products\"] * len(df_dairy_products) + [\"Other non-vegan Products\"] * len(df_other_non_vegan_products)+ [\"Vegetables\"] * len(df_vegetables_products) + [\"Fruits\"] * len(df_fruits_products) + [\"Legumes\"] * len(df_legumes_products) + [\"Plant-based alternatives\"] * len(df_plant_based_alternatives_products) + [\"Oils\"] * len(df_oils_products) + [\"Other vegan products\"] * len(df_others_products)\n",
    "\n",
    "# Creating the sunbursts\n",
    "# Land use\n",
    "values = [0] * 12 + list(df_non_vegan_products_land_use[\"Mean\"]) + list(df_vegan_products_land_use[\"Mean\"])\n",
    "data1 = create_sunburst_figure(\"Land use\", values)\n",
    "# GHG emission 2013\n",
    "values = [0] * 12 + list(df_non_vegan_products_ghg_2013[\"Mean.1\"]) + list(df_vegan_products_ghg_2013[\"Mean.1\"])\n",
    "data2 = create_sunburst_figure(\"GHG emission 2013\", values)\n",
    "# GHG emission 2007\n",
    "values = [0] * 12 + list(df_non_vegan_products_ghg_2007[\"Mean.2\"]) + list(df_vegan_products_ghg_2007[\"Mean.2\"])\n",
    "data3 = create_sunburst_figure(\"GHG emission 2007\", values)\n",
    "# Acidification\n",
    "values = [0] * 12 + list(df_non_vegan_products_acid[\"Mean.3\"]) + list(df_vegan_products_acid[\"Mean.3\"])\n",
    "data4 = create_sunburst_figure(\"Acidification\", values)\n",
    "# Eutrophication\n",
    "values = [0] * 12 + list(df_non_vegan_products_eutro[\"Mean.4\"]) + list(df_vegan_products_eutro[\"Mean.4\"])\n",
    "data5 = create_sunburst_figure(\"Eutrophication\", values)\n",
    "# Fresh Water Withdrawal\n",
    "values = [0] * 12 + list(df_non_vegan_products_fresh_water_withdraw[\"Mean.5\"]) + list(df_vegan_products_fresh_water_withdraw[\"Mean.5\"])\n",
    "data6 = create_sunburst_figure(\"Fresh Water Withdrawal\", values)\n",
    "# Stress Water Use\n",
    "values = [0] * 12 + list(df_non_vegan_products_stress_water_use[\"Mean.6\"]) + list(df_vegan_products_stress_water_use[\"Mean.6\"])\n",
    "data7 = create_sunburst_figure(\"Stress Water Use\", values)\n",
    "\n",
    "# Creating the figure\n",
    "specs_list1 = []\n",
    "specs_list2 = []\n",
    "\n",
    "for i in range(len(categories)):\n",
    "    specs_list1.append({'type': 'bar'})\n",
    "for i in range(len(categories)):\n",
    "    specs_list2.append({\"type\": \"sunburst\"})\n",
    "specs_list = [specs_list2, specs_list1]\n",
    "\n",
    "fig = make_subplots(rows=2, cols=len(categories), specs=specs_list, vertical_spacing=0.2)\n",
    "\n",
    "# Creating and adding the bar plots to the figure\n",
    "for category, vegan_value, non_vegan_value in zip(categories, vegan_values, non_vegan_values):\n",
    "    fig.add_trace(go.Bar(\n",
    "        x=['Vegan', 'Non-vegan'],\n",
    "        y=[vegan_value, non_vegan_value],\n",
    "        name=category,\n",
    "        marker_color=['darkgreen', 'darkred']\n",
    "    ), row=2, col=categories.index(category) + 1)\n",
    "\n",
    "    fig.update_xaxes(title_text=category, row=2, col=categories.index(category) + 1)\n",
    "    fig.update_yaxes(title_text=yaxvalues[categories.index(category)], row=2, col=categories.index(category) + 1)\n",
    "\n",
    "# Adding sunbursts to the figure\n",
    "fig.add_trace(data1.data[0], row=1, col=1)\n",
    "fig.add_trace(data2.data[0], row=1, col=2)\n",
    "fig.add_trace(data3.data[0], row=1, col=3)\n",
    "fig.add_trace(data4.data[0], row=1, col=4)\n",
    "fig.add_trace(data5.data[0], row=1, col=5)\n",
    "fig.add_trace(data6.data[0], row=1, col=6)\n",
    "fig.add_trace(data7.data[0], row=1, col=7)\n",
    "\n",
    "fig.update_layout(width = 2250, height=800, showlegend=False)\n",
    "fig.show()"
   ]
  },
  {
   "cell_type": "code",
   "execution_count": null,
   "id": "00e6ad58",
   "metadata": {},
   "outputs": [],
   "source": []
  },
  {
   "cell_type": "code",
   "execution_count": 89,
   "id": "ee4860e0",
   "metadata": {},
   "outputs": [
    {
     "data": {
      "application/vnd.plotly.v1+json": {
       "config": {
        "plotlyServerURL": "https://plot.ly"
       },
       "data": [
        {
         "dimensions": [
          {
           "label": "Categories",
           "values": [
            "meat",
            "meat",
            "meat",
            "meat",
            "meat",
            "meat",
            "meat",
            "dairy",
            "dairy",
            "dairy",
            "other_non_vegan",
            "other_non_vegan",
            "other_non_vegan",
            "grains",
            "grains",
            "grains",
            "grains",
            "vegetables",
            "vegetables",
            "vegetables",
            "vegetables",
            "vegetables",
            "vegetables",
            "vegetables",
            "fruits",
            "fruits",
            "fruits",
            "fruits",
            "fruits",
            "legumes",
            "legumes",
            "legumes",
            "legumes",
            "plant_based_alternatives",
            "plant_based_alternatives",
            "oils",
            "oils",
            "oils",
            "other_vegan",
            "other_vegan"
           ]
          },
          {
           "label": "Land use",
           "values": [
            "Medium",
            "Medium",
            "Low",
            "Medium",
            "Medium",
            "Low",
            "Low",
            "Medium",
            "Low",
            "High",
            "Medium",
            "High",
            "Medium",
            "Low",
            "Medium",
            "High",
            "Medium",
            "High",
            "High",
            "High",
            "Low",
            "Low",
            "Low",
            "Low",
            "Low",
            "Low",
            "Low",
            "Low",
            "Medium",
            "Low",
            "Low",
            "High",
            "High",
            "High",
            "High",
            "High",
            "High",
            "High",
            "Medium",
            "High"
           ]
          },
          {
           "label": "GHG emission 2013",
           "values": [
            "Medium",
            "Medium",
            "Low",
            "Medium",
            "Medium",
            "Low",
            "Low",
            "Medium",
            "Medium",
            "Medium",
            "Low",
            "Low",
            "Medium",
            "Low",
            "Medium",
            "High",
            "High",
            "Medium",
            "Medium",
            "High",
            "Medium",
            "Low",
            "Low",
            "Low",
            "Low",
            "Low",
            "Low",
            "Low",
            "Low",
            "Medium",
            "Low",
            "High",
            "High",
            "High",
            "High",
            "High",
            "High",
            "High",
            "Medium",
            "High"
           ]
          },
          {
           "label": "GHG emission 2007",
           "values": [
            "Medium",
            "Medium",
            "Low",
            "Medium",
            "Medium",
            "Low",
            "Low",
            "Medium",
            "Medium",
            "Medium",
            "Low",
            "Low",
            "Medium",
            "Low",
            "Medium",
            "High",
            "High",
            "Medium",
            "Medium",
            "High",
            "Medium",
            "Low",
            "Low",
            "Low",
            "Low",
            "Low",
            "Low",
            "Low",
            "Low",
            "Medium",
            "Low",
            "High",
            "High",
            "High",
            "High",
            "High",
            "High",
            "High",
            "Medium",
            "High"
           ]
          },
          {
           "label": "Acidification",
           "values": [
            "Medium",
            "Medium",
            "Low",
            "Low",
            "Medium",
            "Low",
            "Low",
            "Medium",
            "Medium",
            "Medium",
            "Low",
            "High",
            "Medium",
            "Low",
            "Low",
            "Medium",
            "Medium",
            "Medium",
            "High",
            "High",
            "Medium",
            "Low",
            "Low",
            "Low",
            "Low",
            "Low",
            "Low",
            "Low",
            "Medium",
            "Medium",
            "Low",
            "High",
            "High",
            "High",
            "High",
            "High",
            "High",
            "High",
            "Medium",
            "High"
           ]
          },
          {
           "label": "Eutrophication",
           "values": [
            "Medium",
            "Low",
            "Low",
            "Medium",
            "High",
            "Low",
            "Low",
            "Medium",
            "Low",
            "Medium",
            "Medium",
            "Medium",
            "Medium",
            "Low",
            "Medium",
            "Medium",
            "Medium",
            "High",
            "Medium",
            "High",
            "Medium",
            "Low",
            "Low",
            "Low",
            "Low",
            "Low",
            "Low",
            "Low",
            "Medium",
            "Low",
            "Low",
            "High",
            "High",
            "High",
            "High",
            "High",
            "High",
            "High",
            "Medium",
            "High"
           ]
          },
          {
           "label": "Fresh Water Withdrawal",
           "values": [
            "High",
            "Medium",
            "Low",
            "Medium",
            "High",
            "Low",
            "Low",
            "Medium",
            "Medium",
            "Medium",
            "Medium",
            "High",
            "High",
            "Low",
            "Low",
            "Medium",
            "Low",
            "High",
            "Medium",
            "High",
            "Medium",
            "Low",
            "Low",
            "Low",
            "Low",
            "Low",
            "Low",
            "Medium",
            "Medium",
            "Low",
            "Low",
            "Low",
            "Medium",
            "High",
            "High",
            "High",
            "High",
            "High",
            "Medium",
            "High"
           ]
          },
          {
           "label": "Stress Water Use",
           "values": [
            "High",
            "Medium",
            "Low",
            "Medium",
            "High",
            "Low",
            "Low",
            "Medium",
            "Medium",
            "Medium",
            "High",
            "High",
            "High",
            "Low",
            "Low",
            "Medium",
            "Low",
            "High",
            "Medium",
            "High",
            "Low",
            "Low",
            "Low",
            "Medium",
            "Low",
            "Low",
            "Low",
            "Medium",
            "Medium",
            "Low",
            "Medium",
            "Low",
            "Low",
            "High",
            "High",
            "High",
            "High",
            "Medium",
            "Medium",
            "High"
           ]
          }
         ],
         "line": {
          "color": [
           "Green",
           "Turquoise",
           "Orange"
          ],
          "colorscale": [
           [
            0,
            "Green"
           ],
           [
            0.5,
            "Turquoise"
           ],
           [
            1,
            "Orange"
           ]
          ]
         },
         "type": "parcats"
        }
       ],
       "layout": {
        "height": 500,
        "template": {
         "data": {
          "bar": [
           {
            "error_x": {
             "color": "#2a3f5f"
            },
            "error_y": {
             "color": "#2a3f5f"
            },
            "marker": {
             "line": {
              "color": "#E5ECF6",
              "width": 0.5
             },
             "pattern": {
              "fillmode": "overlay",
              "size": 10,
              "solidity": 0.2
             }
            },
            "type": "bar"
           }
          ],
          "barpolar": [
           {
            "marker": {
             "line": {
              "color": "#E5ECF6",
              "width": 0.5
             },
             "pattern": {
              "fillmode": "overlay",
              "size": 10,
              "solidity": 0.2
             }
            },
            "type": "barpolar"
           }
          ],
          "carpet": [
           {
            "aaxis": {
             "endlinecolor": "#2a3f5f",
             "gridcolor": "white",
             "linecolor": "white",
             "minorgridcolor": "white",
             "startlinecolor": "#2a3f5f"
            },
            "baxis": {
             "endlinecolor": "#2a3f5f",
             "gridcolor": "white",
             "linecolor": "white",
             "minorgridcolor": "white",
             "startlinecolor": "#2a3f5f"
            },
            "type": "carpet"
           }
          ],
          "choropleth": [
           {
            "colorbar": {
             "outlinewidth": 0,
             "ticks": ""
            },
            "type": "choropleth"
           }
          ],
          "contour": [
           {
            "colorbar": {
             "outlinewidth": 0,
             "ticks": ""
            },
            "colorscale": [
             [
              0,
              "#0d0887"
             ],
             [
              0.1111111111111111,
              "#46039f"
             ],
             [
              0.2222222222222222,
              "#7201a8"
             ],
             [
              0.3333333333333333,
              "#9c179e"
             ],
             [
              0.4444444444444444,
              "#bd3786"
             ],
             [
              0.5555555555555556,
              "#d8576b"
             ],
             [
              0.6666666666666666,
              "#ed7953"
             ],
             [
              0.7777777777777778,
              "#fb9f3a"
             ],
             [
              0.8888888888888888,
              "#fdca26"
             ],
             [
              1,
              "#f0f921"
             ]
            ],
            "type": "contour"
           }
          ],
          "contourcarpet": [
           {
            "colorbar": {
             "outlinewidth": 0,
             "ticks": ""
            },
            "type": "contourcarpet"
           }
          ],
          "heatmap": [
           {
            "colorbar": {
             "outlinewidth": 0,
             "ticks": ""
            },
            "colorscale": [
             [
              0,
              "#0d0887"
             ],
             [
              0.1111111111111111,
              "#46039f"
             ],
             [
              0.2222222222222222,
              "#7201a8"
             ],
             [
              0.3333333333333333,
              "#9c179e"
             ],
             [
              0.4444444444444444,
              "#bd3786"
             ],
             [
              0.5555555555555556,
              "#d8576b"
             ],
             [
              0.6666666666666666,
              "#ed7953"
             ],
             [
              0.7777777777777778,
              "#fb9f3a"
             ],
             [
              0.8888888888888888,
              "#fdca26"
             ],
             [
              1,
              "#f0f921"
             ]
            ],
            "type": "heatmap"
           }
          ],
          "heatmapgl": [
           {
            "colorbar": {
             "outlinewidth": 0,
             "ticks": ""
            },
            "colorscale": [
             [
              0,
              "#0d0887"
             ],
             [
              0.1111111111111111,
              "#46039f"
             ],
             [
              0.2222222222222222,
              "#7201a8"
             ],
             [
              0.3333333333333333,
              "#9c179e"
             ],
             [
              0.4444444444444444,
              "#bd3786"
             ],
             [
              0.5555555555555556,
              "#d8576b"
             ],
             [
              0.6666666666666666,
              "#ed7953"
             ],
             [
              0.7777777777777778,
              "#fb9f3a"
             ],
             [
              0.8888888888888888,
              "#fdca26"
             ],
             [
              1,
              "#f0f921"
             ]
            ],
            "type": "heatmapgl"
           }
          ],
          "histogram": [
           {
            "marker": {
             "pattern": {
              "fillmode": "overlay",
              "size": 10,
              "solidity": 0.2
             }
            },
            "type": "histogram"
           }
          ],
          "histogram2d": [
           {
            "colorbar": {
             "outlinewidth": 0,
             "ticks": ""
            },
            "colorscale": [
             [
              0,
              "#0d0887"
             ],
             [
              0.1111111111111111,
              "#46039f"
             ],
             [
              0.2222222222222222,
              "#7201a8"
             ],
             [
              0.3333333333333333,
              "#9c179e"
             ],
             [
              0.4444444444444444,
              "#bd3786"
             ],
             [
              0.5555555555555556,
              "#d8576b"
             ],
             [
              0.6666666666666666,
              "#ed7953"
             ],
             [
              0.7777777777777778,
              "#fb9f3a"
             ],
             [
              0.8888888888888888,
              "#fdca26"
             ],
             [
              1,
              "#f0f921"
             ]
            ],
            "type": "histogram2d"
           }
          ],
          "histogram2dcontour": [
           {
            "colorbar": {
             "outlinewidth": 0,
             "ticks": ""
            },
            "colorscale": [
             [
              0,
              "#0d0887"
             ],
             [
              0.1111111111111111,
              "#46039f"
             ],
             [
              0.2222222222222222,
              "#7201a8"
             ],
             [
              0.3333333333333333,
              "#9c179e"
             ],
             [
              0.4444444444444444,
              "#bd3786"
             ],
             [
              0.5555555555555556,
              "#d8576b"
             ],
             [
              0.6666666666666666,
              "#ed7953"
             ],
             [
              0.7777777777777778,
              "#fb9f3a"
             ],
             [
              0.8888888888888888,
              "#fdca26"
             ],
             [
              1,
              "#f0f921"
             ]
            ],
            "type": "histogram2dcontour"
           }
          ],
          "mesh3d": [
           {
            "colorbar": {
             "outlinewidth": 0,
             "ticks": ""
            },
            "type": "mesh3d"
           }
          ],
          "parcoords": [
           {
            "line": {
             "colorbar": {
              "outlinewidth": 0,
              "ticks": ""
             }
            },
            "type": "parcoords"
           }
          ],
          "pie": [
           {
            "automargin": true,
            "type": "pie"
           }
          ],
          "scatter": [
           {
            "fillpattern": {
             "fillmode": "overlay",
             "size": 10,
             "solidity": 0.2
            },
            "type": "scatter"
           }
          ],
          "scatter3d": [
           {
            "line": {
             "colorbar": {
              "outlinewidth": 0,
              "ticks": ""
             }
            },
            "marker": {
             "colorbar": {
              "outlinewidth": 0,
              "ticks": ""
             }
            },
            "type": "scatter3d"
           }
          ],
          "scattercarpet": [
           {
            "marker": {
             "colorbar": {
              "outlinewidth": 0,
              "ticks": ""
             }
            },
            "type": "scattercarpet"
           }
          ],
          "scattergeo": [
           {
            "marker": {
             "colorbar": {
              "outlinewidth": 0,
              "ticks": ""
             }
            },
            "type": "scattergeo"
           }
          ],
          "scattergl": [
           {
            "marker": {
             "colorbar": {
              "outlinewidth": 0,
              "ticks": ""
             }
            },
            "type": "scattergl"
           }
          ],
          "scattermapbox": [
           {
            "marker": {
             "colorbar": {
              "outlinewidth": 0,
              "ticks": ""
             }
            },
            "type": "scattermapbox"
           }
          ],
          "scatterpolar": [
           {
            "marker": {
             "colorbar": {
              "outlinewidth": 0,
              "ticks": ""
             }
            },
            "type": "scatterpolar"
           }
          ],
          "scatterpolargl": [
           {
            "marker": {
             "colorbar": {
              "outlinewidth": 0,
              "ticks": ""
             }
            },
            "type": "scatterpolargl"
           }
          ],
          "scatterternary": [
           {
            "marker": {
             "colorbar": {
              "outlinewidth": 0,
              "ticks": ""
             }
            },
            "type": "scatterternary"
           }
          ],
          "surface": [
           {
            "colorbar": {
             "outlinewidth": 0,
             "ticks": ""
            },
            "colorscale": [
             [
              0,
              "#0d0887"
             ],
             [
              0.1111111111111111,
              "#46039f"
             ],
             [
              0.2222222222222222,
              "#7201a8"
             ],
             [
              0.3333333333333333,
              "#9c179e"
             ],
             [
              0.4444444444444444,
              "#bd3786"
             ],
             [
              0.5555555555555556,
              "#d8576b"
             ],
             [
              0.6666666666666666,
              "#ed7953"
             ],
             [
              0.7777777777777778,
              "#fb9f3a"
             ],
             [
              0.8888888888888888,
              "#fdca26"
             ],
             [
              1,
              "#f0f921"
             ]
            ],
            "type": "surface"
           }
          ],
          "table": [
           {
            "cells": {
             "fill": {
              "color": "#EBF0F8"
             },
             "line": {
              "color": "white"
             }
            },
            "header": {
             "fill": {
              "color": "#C8D4E3"
             },
             "line": {
              "color": "white"
             }
            },
            "type": "table"
           }
          ]
         },
         "layout": {
          "annotationdefaults": {
           "arrowcolor": "#2a3f5f",
           "arrowhead": 0,
           "arrowwidth": 1
          },
          "autotypenumbers": "strict",
          "coloraxis": {
           "colorbar": {
            "outlinewidth": 0,
            "ticks": ""
           }
          },
          "colorscale": {
           "diverging": [
            [
             0,
             "#8e0152"
            ],
            [
             0.1,
             "#c51b7d"
            ],
            [
             0.2,
             "#de77ae"
            ],
            [
             0.3,
             "#f1b6da"
            ],
            [
             0.4,
             "#fde0ef"
            ],
            [
             0.5,
             "#f7f7f7"
            ],
            [
             0.6,
             "#e6f5d0"
            ],
            [
             0.7,
             "#b8e186"
            ],
            [
             0.8,
             "#7fbc41"
            ],
            [
             0.9,
             "#4d9221"
            ],
            [
             1,
             "#276419"
            ]
           ],
           "sequential": [
            [
             0,
             "#0d0887"
            ],
            [
             0.1111111111111111,
             "#46039f"
            ],
            [
             0.2222222222222222,
             "#7201a8"
            ],
            [
             0.3333333333333333,
             "#9c179e"
            ],
            [
             0.4444444444444444,
             "#bd3786"
            ],
            [
             0.5555555555555556,
             "#d8576b"
            ],
            [
             0.6666666666666666,
             "#ed7953"
            ],
            [
             0.7777777777777778,
             "#fb9f3a"
            ],
            [
             0.8888888888888888,
             "#fdca26"
            ],
            [
             1,
             "#f0f921"
            ]
           ],
           "sequentialminus": [
            [
             0,
             "#0d0887"
            ],
            [
             0.1111111111111111,
             "#46039f"
            ],
            [
             0.2222222222222222,
             "#7201a8"
            ],
            [
             0.3333333333333333,
             "#9c179e"
            ],
            [
             0.4444444444444444,
             "#bd3786"
            ],
            [
             0.5555555555555556,
             "#d8576b"
            ],
            [
             0.6666666666666666,
             "#ed7953"
            ],
            [
             0.7777777777777778,
             "#fb9f3a"
            ],
            [
             0.8888888888888888,
             "#fdca26"
            ],
            [
             1,
             "#f0f921"
            ]
           ]
          },
          "colorway": [
           "#636efa",
           "#EF553B",
           "#00cc96",
           "#ab63fa",
           "#FFA15A",
           "#19d3f3",
           "#FF6692",
           "#B6E880",
           "#FF97FF",
           "#FECB52"
          ],
          "font": {
           "color": "#2a3f5f"
          },
          "geo": {
           "bgcolor": "white",
           "lakecolor": "white",
           "landcolor": "#E5ECF6",
           "showlakes": true,
           "showland": true,
           "subunitcolor": "white"
          },
          "hoverlabel": {
           "align": "left"
          },
          "hovermode": "closest",
          "mapbox": {
           "style": "light"
          },
          "paper_bgcolor": "white",
          "plot_bgcolor": "#E5ECF6",
          "polar": {
           "angularaxis": {
            "gridcolor": "white",
            "linecolor": "white",
            "ticks": ""
           },
           "bgcolor": "#E5ECF6",
           "radialaxis": {
            "gridcolor": "white",
            "linecolor": "white",
            "ticks": ""
           }
          },
          "scene": {
           "xaxis": {
            "backgroundcolor": "#E5ECF6",
            "gridcolor": "white",
            "gridwidth": 2,
            "linecolor": "white",
            "showbackground": true,
            "ticks": "",
            "zerolinecolor": "white"
           },
           "yaxis": {
            "backgroundcolor": "#E5ECF6",
            "gridcolor": "white",
            "gridwidth": 2,
            "linecolor": "white",
            "showbackground": true,
            "ticks": "",
            "zerolinecolor": "white"
           },
           "zaxis": {
            "backgroundcolor": "#E5ECF6",
            "gridcolor": "white",
            "gridwidth": 2,
            "linecolor": "white",
            "showbackground": true,
            "ticks": "",
            "zerolinecolor": "white"
           }
          },
          "shapedefaults": {
           "line": {
            "color": "#2a3f5f"
           }
          },
          "ternary": {
           "aaxis": {
            "gridcolor": "white",
            "linecolor": "white",
            "ticks": ""
           },
           "baxis": {
            "gridcolor": "white",
            "linecolor": "white",
            "ticks": ""
           },
           "bgcolor": "#E5ECF6",
           "caxis": {
            "gridcolor": "white",
            "linecolor": "white",
            "ticks": ""
           }
          },
          "title": {
           "x": 0.05
          },
          "xaxis": {
           "automargin": true,
           "gridcolor": "white",
           "linecolor": "white",
           "ticks": "",
           "title": {
            "standoff": 15
           },
           "zerolinecolor": "white",
           "zerolinewidth": 2
          },
          "yaxis": {
           "automargin": true,
           "gridcolor": "white",
           "linecolor": "white",
           "ticks": "",
           "title": {
            "standoff": 15
           },
           "zerolinecolor": "white",
           "zerolinewidth": 2
          }
         }
        },
        "title": {
         "text": "analysis of the tips in a restaurant with all variables"
        },
        "width": 1150
       }
      }
     },
     "metadata": {},
     "output_type": "display_data"
    }
   ],
   "source": [
    "import plotly.graph_objs as go\n",
    "import plotly.express as px\n",
    "import matplotlib as plt\n",
    "import pandas as pd\n",
    "import numpy as np\n",
    "import seaborn as sns\n",
    "from ipywidgets import interact, interactive, fixed, interact_manual\n",
    "from ipywidgets import GridspecLayout\n",
    "import ipywidgets as widgets\n",
    "\n",
    "\n",
    "#non-vegan products\n",
    "\n",
    "non_vegan_products = ['Barley (Beer)','Cane Sugar','Milk','Cheese','Eggs','Fish (farmed)','Crustaceans (farmed)','Bovine Meat (beef herd)','Bovine Meat (dairy herd)','Lamb & Mutton','Pig Meat','Poultry Meat']\n",
    "meat_products = ['Bovine Meat (beef herd)', 'Bovine Meat (dairy herd)', 'Lamb & Mutton', 'Pig Meat','Poultry Meat','Fish (farmed)','Crustaceans (farmed)']\n",
    "dairy_products = ['Milk','Cheese','Eggs']\n",
    "other_non_vegan_products = ['Cane Sugar','Crustaceans (farmed)','Barley (Beer)']\n",
    "#vegan products\n",
    "grains_products = ['Wheat & Rye (Bread)', 'Maize (Meal)', 'Oatmeal', 'Rice']\n",
    "vegetables_products = ['Potatoes', 'Cassava', 'Tomatoes', 'Onions & Leeks', 'Root Vegetables', 'Brassicas', 'Other Vegetables']\n",
    "fruits_products = ['Citrus Fruit', 'Bananas', 'Apples', 'Berries & Grapes', 'Other Fruit']\n",
    "legumes_products = ['Other Pulses', 'Peas', 'Nuts', 'Groundnuts']\n",
    "plant_based_alternatives_products = ['Soymilk', 'Tofu']\n",
    "oils_products = ['Soybean Oil', 'Sunflower Oil', 'Olive Oil']\n",
    "other_vegan_products = ['Coffee', 'Dark Chocolate']\n",
    "\n",
    "df_all_products = pd.read_excel(\"dataset1.xls\", sheet_name=\"Results - Retail Weight\", skiprows=2,nrows=43, index_col=None, na_values=[\"NA\"])\n",
    "df = pd.DataFrame()\n",
    "categories = [\"meat_products\", \"dairy_products\", \"other_non_vegan_products\",\"grains_products\", \"vegetables_products\", \"fruits_products\", \"legumes_products\", \"plant_based_alternatives_products\", \"oils_products\",  \"other_vegan_products\"]\n",
    "categories_value = []\n",
    "topics = ['Land use', 'GHG emission 2013', 'GHG emission 2007', 'Acidification', 'Eutrophication', 'Fresh Water Withdrawal', 'Stress Water Use']\n",
    "dimensions = []\n",
    "#print(df_all_products)\n",
    "for category_str in categories:\n",
    "    column = 3\n",
    "    category_name = category_str.lower().replace(\"_products\", \"\")\n",
    "    \n",
    "    category = globals().get(category_str)\n",
    "    products = df_all_products[\"Product\"].isin(category)\n",
    "    dataframe_category = \"df_{}\".format(category_str)\n",
    "    values = df_all_products[products]\n",
    "    locals()[dataframe_category] = values\n",
    "    category_value = [category_name] * len(category)\n",
    "    categories_value.extend(category_value)\n",
    "    for topic in topics:\n",
    "        totals = []\n",
    "        topic = topic.lower().replace(\" \", \"_\")\n",
    "        dataframe_topic = \"df_{}_{}\".format(category_str, topic)\n",
    "        locals()[dataframe_topic]  =  locals()[dataframe_category].iloc[:,[0, column]]\n",
    "        #print(locals()[dataframe_topic])\n",
    "        #print(len(locals()[dataframe_topic].iloc[:, 1].tolist()))\n",
    "        totals = locals()[dataframe_topic].iloc[:, 1].tolist()\n",
    "        dimensions.append({'label': topic, 'values': totals,'categoryorder': 'category ascending'})\n",
    "        column += 6\n",
    "\n",
    "values = [\"Low\",\"Medium\",\"High\"]\n",
    "df[\"Categories\"] = pd.DataFrame(categories_value)\n",
    "dimensions = [{'label': 'Categories','values': df[\"Categories\"]}]\n",
    "num = 3\n",
    "for topic in topics:\n",
    "    topic_name = topic.lower().replace(\" \", \"_\")\n",
    "    dataframe_topic = \"df_{}_{}\".format(category_str, topic_name)\n",
    "    locals()[dataframe_topic]  =  df_all_products.iloc[:,num]\n",
    "    df[topic] = pd.qcut(df_all_products.iloc[:, num], q=3, labels=values, duplicates='raise')\n",
    "    dimension = {'label': topic, 'values': df[topic]}\n",
    "    dimensions.append(dimension)\n",
    "    num += 6\n",
    "#print(df)\n",
    "\n",
    "#print(dimensions)\n",
    "\n",
    "colors = [\"Green\",\"Turquoise\",\"Orange\"]\n",
    "color_non_vegan = \"Red\"\n",
    "non_vegan = [\"meat\", \"dairy\",\"other_non_vegan\"]\n",
    "fig = go.Figure(data=go.Parcats(dimensions=dimensions, line=dict(color=colors, colorscale=colors)))\n",
    "fig.update_layout(\n",
    "    title=\"analysis of the tips in a restaurant with all variables\",\n",
    "    height = 500,\n",
    "    width = 1150\n",
    ")\n",
    "fig.show()\n",
    "        "
   ]
  },
  {
   "cell_type": "code",
   "execution_count": null,
   "id": "8bf4b7e6",
   "metadata": {},
   "outputs": [],
   "source": [
    "#line plot\n",
    "import plotly.graph_objs as go\n",
    "import plotly.express as px\n",
    "import matplotlib as plt\n",
    "import pandas as pd\n",
    "import numpy as np\n",
    "import seaborn as sns\n",
    "from ipywidgets import interact, interactive, fixed, interact_manual\n",
    "from ipywidgets import GridspecLayout\n",
    "import ipywidgets as widgets\n",
    "\n",
    "categories = [\"meat_products\", \"dairy_products\", \"other_non_vegan_products\",\"grains_products\", \"vegetables_products\", \"fruits_products\", \"legumes_products\", \"plant_based_alternatives_products\", \"oils_products\",  \"other_vegan_products\"]\n",
    "topics = ['Land use', 'GHG emission 2013', 'GHG emission 2007', 'Acidification', 'Eutrophication', 'Fresh Water Withdrawal', 'Stress Water Use']\n",
    "dimensions = []\n",
    "for category_str in categories:\n",
    "    totals = []\n",
    "    column = 3\n",
    "    category_name = category_str.lower().replace(\"_products\", \"\")\n",
    "    category = globals().get(category_str)\n",
    "    products = df_all_products[\"Product\"].isin(category)\n",
    "    dataframe_category = \"df_{}\".format(category_str)\n",
    "    values = df_all_products[products]\n",
    "    locals()[dataframe_category] = values\n",
    "    print(category_name)\n",
    "    for topic in topics:\n",
    "        topic = topic.lower().replace(\" \", \"_\")\n",
    "        dataframe_topic = \"df_{}_{}\".format(category_str, topic)\n",
    "        locals()[dataframe_topic]  =  locals()[dataframe_category].iloc[:,[0, column]]\n",
    "        print(locals()[dataframe_topic].iloc[:, 1].sum())\n",
    "        totals.append(locals()[dataframe_topic].iloc[:, 1].sum())\n",
    "        column += 6"
   ]
  },
  {
   "cell_type": "code",
   "execution_count": 8,
   "id": "07e40268",
   "metadata": {},
   "outputs": [
    {
     "name": "stdout",
     "output_type": "stream",
     "text": [
      "  Category  Value1  Value2  Value3\n",
      "0        A      10      15      20\n",
      "1        B      20      25      30\n",
      "2        C      30      35      40\n",
      "3        D      40      45      50\n"
     ]
    },
    {
     "ename": "ValueError",
     "evalue": "\n    Invalid element(s) received for the 'color' property of parcoords.line\n        Invalid elements include: ['A', 'B', 'C', 'D']\n\n    The 'color' property is a color and may be specified as:\n      - A hex string (e.g. '#ff0000')\n      - An rgb/rgba string (e.g. 'rgb(255,0,0)')\n      - An hsl/hsla string (e.g. 'hsl(0,100%,50%)')\n      - An hsv/hsva string (e.g. 'hsv(0,100%,100%)')\n      - A named CSS color:\n            aliceblue, antiquewhite, aqua, aquamarine, azure,\n            beige, bisque, black, blanchedalmond, blue,\n            blueviolet, brown, burlywood, cadetblue,\n            chartreuse, chocolate, coral, cornflowerblue,\n            cornsilk, crimson, cyan, darkblue, darkcyan,\n            darkgoldenrod, darkgray, darkgrey, darkgreen,\n            darkkhaki, darkmagenta, darkolivegreen, darkorange,\n            darkorchid, darkred, darksalmon, darkseagreen,\n            darkslateblue, darkslategray, darkslategrey,\n            darkturquoise, darkviolet, deeppink, deepskyblue,\n            dimgray, dimgrey, dodgerblue, firebrick,\n            floralwhite, forestgreen, fuchsia, gainsboro,\n            ghostwhite, gold, goldenrod, gray, grey, green,\n            greenyellow, honeydew, hotpink, indianred, indigo,\n            ivory, khaki, lavender, lavenderblush, lawngreen,\n            lemonchiffon, lightblue, lightcoral, lightcyan,\n            lightgoldenrodyellow, lightgray, lightgrey,\n            lightgreen, lightpink, lightsalmon, lightseagreen,\n            lightskyblue, lightslategray, lightslategrey,\n            lightsteelblue, lightyellow, lime, limegreen,\n            linen, magenta, maroon, mediumaquamarine,\n            mediumblue, mediumorchid, mediumpurple,\n            mediumseagreen, mediumslateblue, mediumspringgreen,\n            mediumturquoise, mediumvioletred, midnightblue,\n            mintcream, mistyrose, moccasin, navajowhite, navy,\n            oldlace, olive, olivedrab, orange, orangered,\n            orchid, palegoldenrod, palegreen, paleturquoise,\n            palevioletred, papayawhip, peachpuff, peru, pink,\n            plum, powderblue, purple, red, rosybrown,\n            royalblue, rebeccapurple, saddlebrown, salmon,\n            sandybrown, seagreen, seashell, sienna, silver,\n            skyblue, slateblue, slategray, slategrey, snow,\n            springgreen, steelblue, tan, teal, thistle, tomato,\n            turquoise, violet, wheat, white, whitesmoke,\n            yellow, yellowgreen\n      - A number that will be interpreted as a color\n        according to parcoords.line.colorscale\n      - A list or array of any of the above",
     "output_type": "error",
     "traceback": [
      "\u001b[1;31m---------------------------------------------------------------------------\u001b[0m",
      "\u001b[1;31mValueError\u001b[0m                                Traceback (most recent call last)",
      "\u001b[1;32m~\\AppData\\Local\\Temp\\ipykernel_9048\\4011496242.py\u001b[0m in \u001b[0;36m<module>\u001b[1;34m\u001b[0m\n\u001b[0;32m     15\u001b[0m     \u001b[0mline\u001b[0m\u001b[1;33m=\u001b[0m\u001b[0mdict\u001b[0m\u001b[1;33m(\u001b[0m\u001b[0mcolor\u001b[0m\u001b[1;33m=\u001b[0m\u001b[0mdf\u001b[0m\u001b[1;33m[\u001b[0m\u001b[1;34m'Category'\u001b[0m\u001b[1;33m]\u001b[0m\u001b[1;33m,\u001b[0m \u001b[0mcolorscale\u001b[0m\u001b[1;33m=\u001b[0m\u001b[0mcolors\u001b[0m\u001b[1;33m)\u001b[0m\u001b[1;33m,\u001b[0m\u001b[1;33m\u001b[0m\u001b[1;33m\u001b[0m\u001b[0m\n\u001b[0;32m     16\u001b[0m     dimensions=[dict(range=[df[col].min(), df[col].max()],\n\u001b[1;32m---> 17\u001b[1;33m                      label=col, values=df[col]) for col in df.columns[1:]]\n\u001b[0m\u001b[0;32m     18\u001b[0m )\n\u001b[0;32m     19\u001b[0m \u001b[1;33m\u001b[0m\u001b[0m\n",
      "\u001b[1;32mc:\\Users\\mauro\\.conda\\envs\\jupyterbook\\lib\\site-packages\\plotly\\graph_objs\\_parcoords.py\u001b[0m in \u001b[0;36m__init__\u001b[1;34m(self, arg, customdata, customdatasrc, dimensions, dimensiondefaults, domain, ids, idssrc, labelangle, labelfont, labelside, legendgrouptitle, legendrank, legendwidth, line, meta, metasrc, name, rangefont, stream, tickfont, uid, uirevision, unselected, visible, **kwargs)\u001b[0m\n\u001b[0;32m   1241\u001b[0m         \u001b[0m_v\u001b[0m \u001b[1;33m=\u001b[0m \u001b[0mline\u001b[0m \u001b[1;32mif\u001b[0m \u001b[0mline\u001b[0m \u001b[1;32mis\u001b[0m \u001b[1;32mnot\u001b[0m \u001b[1;32mNone\u001b[0m \u001b[1;32melse\u001b[0m \u001b[0m_v\u001b[0m\u001b[1;33m\u001b[0m\u001b[1;33m\u001b[0m\u001b[0m\n\u001b[0;32m   1242\u001b[0m         \u001b[1;32mif\u001b[0m \u001b[0m_v\u001b[0m \u001b[1;32mis\u001b[0m \u001b[1;32mnot\u001b[0m \u001b[1;32mNone\u001b[0m\u001b[1;33m:\u001b[0m\u001b[1;33m\u001b[0m\u001b[1;33m\u001b[0m\u001b[0m\n\u001b[1;32m-> 1243\u001b[1;33m             \u001b[0mself\u001b[0m\u001b[1;33m[\u001b[0m\u001b[1;34m\"line\"\u001b[0m\u001b[1;33m]\u001b[0m \u001b[1;33m=\u001b[0m \u001b[0m_v\u001b[0m\u001b[1;33m\u001b[0m\u001b[1;33m\u001b[0m\u001b[0m\n\u001b[0m\u001b[0;32m   1244\u001b[0m         \u001b[0m_v\u001b[0m \u001b[1;33m=\u001b[0m \u001b[0marg\u001b[0m\u001b[1;33m.\u001b[0m\u001b[0mpop\u001b[0m\u001b[1;33m(\u001b[0m\u001b[1;34m\"meta\"\u001b[0m\u001b[1;33m,\u001b[0m \u001b[1;32mNone\u001b[0m\u001b[1;33m)\u001b[0m\u001b[1;33m\u001b[0m\u001b[1;33m\u001b[0m\u001b[0m\n\u001b[0;32m   1245\u001b[0m         \u001b[0m_v\u001b[0m \u001b[1;33m=\u001b[0m \u001b[0mmeta\u001b[0m \u001b[1;32mif\u001b[0m \u001b[0mmeta\u001b[0m \u001b[1;32mis\u001b[0m \u001b[1;32mnot\u001b[0m \u001b[1;32mNone\u001b[0m \u001b[1;32melse\u001b[0m \u001b[0m_v\u001b[0m\u001b[1;33m\u001b[0m\u001b[1;33m\u001b[0m\u001b[0m\n",
      "\u001b[1;32mc:\\Users\\mauro\\.conda\\envs\\jupyterbook\\lib\\site-packages\\plotly\\basedatatypes.py\u001b[0m in \u001b[0;36m__setitem__\u001b[1;34m(self, prop, value)\u001b[0m\n\u001b[0;32m   4840\u001b[0m                 \u001b[1;31m# ### Handle compound property ###\u001b[0m\u001b[1;33m\u001b[0m\u001b[1;33m\u001b[0m\u001b[1;33m\u001b[0m\u001b[0m\n\u001b[0;32m   4841\u001b[0m                 \u001b[1;32mif\u001b[0m \u001b[0misinstance\u001b[0m\u001b[1;33m(\u001b[0m\u001b[0mvalidator\u001b[0m\u001b[1;33m,\u001b[0m \u001b[0mCompoundValidator\u001b[0m\u001b[1;33m)\u001b[0m\u001b[1;33m:\u001b[0m\u001b[1;33m\u001b[0m\u001b[1;33m\u001b[0m\u001b[0m\n\u001b[1;32m-> 4842\u001b[1;33m                     \u001b[0mself\u001b[0m\u001b[1;33m.\u001b[0m\u001b[0m_set_compound_prop\u001b[0m\u001b[1;33m(\u001b[0m\u001b[0mprop\u001b[0m\u001b[1;33m,\u001b[0m \u001b[0mvalue\u001b[0m\u001b[1;33m)\u001b[0m\u001b[1;33m\u001b[0m\u001b[1;33m\u001b[0m\u001b[0m\n\u001b[0m\u001b[0;32m   4843\u001b[0m \u001b[1;33m\u001b[0m\u001b[0m\n\u001b[0;32m   4844\u001b[0m                 \u001b[1;31m# ### Handle compound array property ###\u001b[0m\u001b[1;33m\u001b[0m\u001b[1;33m\u001b[0m\u001b[1;33m\u001b[0m\u001b[0m\n",
      "\u001b[1;32mc:\\Users\\mauro\\.conda\\envs\\jupyterbook\\lib\\site-packages\\plotly\\basedatatypes.py\u001b[0m in \u001b[0;36m_set_compound_prop\u001b[1;34m(self, prop, val)\u001b[0m\n\u001b[0;32m   5251\u001b[0m         \u001b[1;31m# ------------\u001b[0m\u001b[1;33m\u001b[0m\u001b[1;33m\u001b[0m\u001b[1;33m\u001b[0m\u001b[0m\n\u001b[0;32m   5252\u001b[0m         \u001b[0mvalidator\u001b[0m \u001b[1;33m=\u001b[0m \u001b[0mself\u001b[0m\u001b[1;33m.\u001b[0m\u001b[0m_get_validator\u001b[0m\u001b[1;33m(\u001b[0m\u001b[0mprop\u001b[0m\u001b[1;33m)\u001b[0m\u001b[1;33m\u001b[0m\u001b[1;33m\u001b[0m\u001b[0m\n\u001b[1;32m-> 5253\u001b[1;33m         \u001b[0mval\u001b[0m \u001b[1;33m=\u001b[0m \u001b[0mvalidator\u001b[0m\u001b[1;33m.\u001b[0m\u001b[0mvalidate_coerce\u001b[0m\u001b[1;33m(\u001b[0m\u001b[0mval\u001b[0m\u001b[1;33m,\u001b[0m \u001b[0mskip_invalid\u001b[0m\u001b[1;33m=\u001b[0m\u001b[0mself\u001b[0m\u001b[1;33m.\u001b[0m\u001b[0m_skip_invalid\u001b[0m\u001b[1;33m)\u001b[0m\u001b[1;33m\u001b[0m\u001b[1;33m\u001b[0m\u001b[0m\n\u001b[0m\u001b[0;32m   5254\u001b[0m \u001b[1;33m\u001b[0m\u001b[0m\n\u001b[0;32m   5255\u001b[0m         \u001b[1;31m# Save deep copies of current and new states\u001b[0m\u001b[1;33m\u001b[0m\u001b[1;33m\u001b[0m\u001b[1;33m\u001b[0m\u001b[0m\n",
      "\u001b[1;32mc:\\Users\\mauro\\.conda\\envs\\jupyterbook\\lib\\site-packages\\_plotly_utils\\basevalidators.py\u001b[0m in \u001b[0;36mvalidate_coerce\u001b[1;34m(self, v, skip_invalid, _validate)\u001b[0m\n\u001b[0;32m   2474\u001b[0m \u001b[1;33m\u001b[0m\u001b[0m\n\u001b[0;32m   2475\u001b[0m         \u001b[1;32melif\u001b[0m \u001b[0misinstance\u001b[0m\u001b[1;33m(\u001b[0m\u001b[0mv\u001b[0m\u001b[1;33m,\u001b[0m \u001b[0mdict\u001b[0m\u001b[1;33m)\u001b[0m\u001b[1;33m:\u001b[0m\u001b[1;33m\u001b[0m\u001b[1;33m\u001b[0m\u001b[0m\n\u001b[1;32m-> 2476\u001b[1;33m             \u001b[0mv\u001b[0m \u001b[1;33m=\u001b[0m \u001b[0mself\u001b[0m\u001b[1;33m.\u001b[0m\u001b[0mdata_class\u001b[0m\u001b[1;33m(\u001b[0m\u001b[0mv\u001b[0m\u001b[1;33m,\u001b[0m \u001b[0mskip_invalid\u001b[0m\u001b[1;33m=\u001b[0m\u001b[0mskip_invalid\u001b[0m\u001b[1;33m,\u001b[0m \u001b[0m_validate\u001b[0m\u001b[1;33m=\u001b[0m\u001b[0m_validate\u001b[0m\u001b[1;33m)\u001b[0m\u001b[1;33m\u001b[0m\u001b[1;33m\u001b[0m\u001b[0m\n\u001b[0m\u001b[0;32m   2477\u001b[0m \u001b[1;33m\u001b[0m\u001b[0m\n\u001b[0;32m   2478\u001b[0m         \u001b[1;32melif\u001b[0m \u001b[0misinstance\u001b[0m\u001b[1;33m(\u001b[0m\u001b[0mv\u001b[0m\u001b[1;33m,\u001b[0m \u001b[0mself\u001b[0m\u001b[1;33m.\u001b[0m\u001b[0mdata_class\u001b[0m\u001b[1;33m)\u001b[0m\u001b[1;33m:\u001b[0m\u001b[1;33m\u001b[0m\u001b[1;33m\u001b[0m\u001b[0m\n",
      "\u001b[1;32mc:\\Users\\mauro\\.conda\\envs\\jupyterbook\\lib\\site-packages\\plotly\\graph_objs\\parcoords\\_line.py\u001b[0m in \u001b[0;36m__init__\u001b[1;34m(self, arg, autocolorscale, cauto, cmax, cmid, cmin, color, coloraxis, colorbar, colorscale, colorsrc, reversescale, showscale, **kwargs)\u001b[0m\n\u001b[0;32m    877\u001b[0m         \u001b[0m_v\u001b[0m \u001b[1;33m=\u001b[0m \u001b[0mcolor\u001b[0m \u001b[1;32mif\u001b[0m \u001b[0mcolor\u001b[0m \u001b[1;32mis\u001b[0m \u001b[1;32mnot\u001b[0m \u001b[1;32mNone\u001b[0m \u001b[1;32melse\u001b[0m \u001b[0m_v\u001b[0m\u001b[1;33m\u001b[0m\u001b[1;33m\u001b[0m\u001b[0m\n\u001b[0;32m    878\u001b[0m         \u001b[1;32mif\u001b[0m \u001b[0m_v\u001b[0m \u001b[1;32mis\u001b[0m \u001b[1;32mnot\u001b[0m \u001b[1;32mNone\u001b[0m\u001b[1;33m:\u001b[0m\u001b[1;33m\u001b[0m\u001b[1;33m\u001b[0m\u001b[0m\n\u001b[1;32m--> 879\u001b[1;33m             \u001b[0mself\u001b[0m\u001b[1;33m[\u001b[0m\u001b[1;34m\"color\"\u001b[0m\u001b[1;33m]\u001b[0m \u001b[1;33m=\u001b[0m \u001b[0m_v\u001b[0m\u001b[1;33m\u001b[0m\u001b[1;33m\u001b[0m\u001b[0m\n\u001b[0m\u001b[0;32m    880\u001b[0m         \u001b[0m_v\u001b[0m \u001b[1;33m=\u001b[0m \u001b[0marg\u001b[0m\u001b[1;33m.\u001b[0m\u001b[0mpop\u001b[0m\u001b[1;33m(\u001b[0m\u001b[1;34m\"coloraxis\"\u001b[0m\u001b[1;33m,\u001b[0m \u001b[1;32mNone\u001b[0m\u001b[1;33m)\u001b[0m\u001b[1;33m\u001b[0m\u001b[1;33m\u001b[0m\u001b[0m\n\u001b[0;32m    881\u001b[0m         \u001b[0m_v\u001b[0m \u001b[1;33m=\u001b[0m \u001b[0mcoloraxis\u001b[0m \u001b[1;32mif\u001b[0m \u001b[0mcoloraxis\u001b[0m \u001b[1;32mis\u001b[0m \u001b[1;32mnot\u001b[0m \u001b[1;32mNone\u001b[0m \u001b[1;32melse\u001b[0m \u001b[0m_v\u001b[0m\u001b[1;33m\u001b[0m\u001b[1;33m\u001b[0m\u001b[0m\n",
      "\u001b[1;32mc:\\Users\\mauro\\.conda\\envs\\jupyterbook\\lib\\site-packages\\plotly\\basedatatypes.py\u001b[0m in \u001b[0;36m__setitem__\u001b[1;34m(self, prop, value)\u001b[0m\n\u001b[0;32m   4848\u001b[0m                 \u001b[1;31m# ### Handle simple property ###\u001b[0m\u001b[1;33m\u001b[0m\u001b[1;33m\u001b[0m\u001b[1;33m\u001b[0m\u001b[0m\n\u001b[0;32m   4849\u001b[0m                 \u001b[1;32melse\u001b[0m\u001b[1;33m:\u001b[0m\u001b[1;33m\u001b[0m\u001b[1;33m\u001b[0m\u001b[0m\n\u001b[1;32m-> 4850\u001b[1;33m                     \u001b[0mself\u001b[0m\u001b[1;33m.\u001b[0m\u001b[0m_set_prop\u001b[0m\u001b[1;33m(\u001b[0m\u001b[0mprop\u001b[0m\u001b[1;33m,\u001b[0m \u001b[0mvalue\u001b[0m\u001b[1;33m)\u001b[0m\u001b[1;33m\u001b[0m\u001b[1;33m\u001b[0m\u001b[0m\n\u001b[0m\u001b[0;32m   4851\u001b[0m             \u001b[1;32melse\u001b[0m\u001b[1;33m:\u001b[0m\u001b[1;33m\u001b[0m\u001b[1;33m\u001b[0m\u001b[0m\n\u001b[0;32m   4852\u001b[0m                 \u001b[1;31m# Make sure properties dict is initialized\u001b[0m\u001b[1;33m\u001b[0m\u001b[1;33m\u001b[0m\u001b[1;33m\u001b[0m\u001b[0m\n",
      "\u001b[1;32mc:\\Users\\mauro\\.conda\\envs\\jupyterbook\\lib\\site-packages\\plotly\\basedatatypes.py\u001b[0m in \u001b[0;36m_set_prop\u001b[1;34m(self, prop, val)\u001b[0m\n\u001b[0;32m   5192\u001b[0m                 \u001b[1;32mreturn\u001b[0m\u001b[1;33m\u001b[0m\u001b[1;33m\u001b[0m\u001b[0m\n\u001b[0;32m   5193\u001b[0m             \u001b[1;32melse\u001b[0m\u001b[1;33m:\u001b[0m\u001b[1;33m\u001b[0m\u001b[1;33m\u001b[0m\u001b[0m\n\u001b[1;32m-> 5194\u001b[1;33m                 \u001b[1;32mraise\u001b[0m \u001b[0merr\u001b[0m\u001b[1;33m\u001b[0m\u001b[1;33m\u001b[0m\u001b[0m\n\u001b[0m\u001b[0;32m   5195\u001b[0m \u001b[1;33m\u001b[0m\u001b[0m\n\u001b[0;32m   5196\u001b[0m         \u001b[1;31m# val is None\u001b[0m\u001b[1;33m\u001b[0m\u001b[1;33m\u001b[0m\u001b[1;33m\u001b[0m\u001b[0m\n",
      "\u001b[1;32mc:\\Users\\mauro\\.conda\\envs\\jupyterbook\\lib\\site-packages\\plotly\\basedatatypes.py\u001b[0m in \u001b[0;36m_set_prop\u001b[1;34m(self, prop, val)\u001b[0m\n\u001b[0;32m   5187\u001b[0m \u001b[1;33m\u001b[0m\u001b[0m\n\u001b[0;32m   5188\u001b[0m         \u001b[1;32mtry\u001b[0m\u001b[1;33m:\u001b[0m\u001b[1;33m\u001b[0m\u001b[1;33m\u001b[0m\u001b[0m\n\u001b[1;32m-> 5189\u001b[1;33m             \u001b[0mval\u001b[0m \u001b[1;33m=\u001b[0m \u001b[0mvalidator\u001b[0m\u001b[1;33m.\u001b[0m\u001b[0mvalidate_coerce\u001b[0m\u001b[1;33m(\u001b[0m\u001b[0mval\u001b[0m\u001b[1;33m)\u001b[0m\u001b[1;33m\u001b[0m\u001b[1;33m\u001b[0m\u001b[0m\n\u001b[0m\u001b[0;32m   5190\u001b[0m         \u001b[1;32mexcept\u001b[0m \u001b[0mValueError\u001b[0m \u001b[1;32mas\u001b[0m \u001b[0merr\u001b[0m\u001b[1;33m:\u001b[0m\u001b[1;33m\u001b[0m\u001b[1;33m\u001b[0m\u001b[0m\n\u001b[0;32m   5191\u001b[0m             \u001b[1;32mif\u001b[0m \u001b[0mself\u001b[0m\u001b[1;33m.\u001b[0m\u001b[0m_skip_invalid\u001b[0m\u001b[1;33m:\u001b[0m\u001b[1;33m\u001b[0m\u001b[1;33m\u001b[0m\u001b[0m\n",
      "\u001b[1;32mc:\\Users\\mauro\\.conda\\envs\\jupyterbook\\lib\\site-packages\\_plotly_utils\\basevalidators.py\u001b[0m in \u001b[0;36mvalidate_coerce\u001b[1;34m(self, v, should_raise)\u001b[0m\n\u001b[0;32m   1353\u001b[0m \u001b[1;33m\u001b[0m\u001b[0m\n\u001b[0;32m   1354\u001b[0m                 \u001b[1;32mif\u001b[0m \u001b[0minvalid_els\u001b[0m \u001b[1;32mand\u001b[0m \u001b[0mshould_raise\u001b[0m\u001b[1;33m:\u001b[0m\u001b[1;33m\u001b[0m\u001b[1;33m\u001b[0m\u001b[0m\n\u001b[1;32m-> 1355\u001b[1;33m                     \u001b[0mself\u001b[0m\u001b[1;33m.\u001b[0m\u001b[0mraise_invalid_elements\u001b[0m\u001b[1;33m(\u001b[0m\u001b[0minvalid_els\u001b[0m\u001b[1;33m)\u001b[0m\u001b[1;33m\u001b[0m\u001b[1;33m\u001b[0m\u001b[0m\n\u001b[0m\u001b[0;32m   1356\u001b[0m \u001b[1;33m\u001b[0m\u001b[0m\n\u001b[0;32m   1357\u001b[0m                 \u001b[1;31m# ### Check that elements have valid colors types ###\u001b[0m\u001b[1;33m\u001b[0m\u001b[1;33m\u001b[0m\u001b[1;33m\u001b[0m\u001b[0m\n",
      "\u001b[1;32mc:\\Users\\mauro\\.conda\\envs\\jupyterbook\\lib\\site-packages\\_plotly_utils\\basevalidators.py\u001b[0m in \u001b[0;36mraise_invalid_elements\u001b[1;34m(self, invalid_els)\u001b[0m\n\u001b[0;32m    311\u001b[0m                     \u001b[0mpname\u001b[0m\u001b[1;33m=\u001b[0m\u001b[0mself\u001b[0m\u001b[1;33m.\u001b[0m\u001b[0mparent_name\u001b[0m\u001b[1;33m,\u001b[0m\u001b[1;33m\u001b[0m\u001b[1;33m\u001b[0m\u001b[0m\n\u001b[0;32m    312\u001b[0m                     \u001b[0minvalid\u001b[0m\u001b[1;33m=\u001b[0m\u001b[0minvalid_els\u001b[0m\u001b[1;33m[\u001b[0m\u001b[1;33m:\u001b[0m\u001b[1;36m10\u001b[0m\u001b[1;33m]\u001b[0m\u001b[1;33m,\u001b[0m\u001b[1;33m\u001b[0m\u001b[1;33m\u001b[0m\u001b[0m\n\u001b[1;32m--> 313\u001b[1;33m                     \u001b[0mvalid_clr_desc\u001b[0m\u001b[1;33m=\u001b[0m\u001b[0mself\u001b[0m\u001b[1;33m.\u001b[0m\u001b[0mdescription\u001b[0m\u001b[1;33m(\u001b[0m\u001b[1;33m)\u001b[0m\u001b[1;33m,\u001b[0m\u001b[1;33m\u001b[0m\u001b[1;33m\u001b[0m\u001b[0m\n\u001b[0m\u001b[0;32m    314\u001b[0m                 )\n\u001b[0;32m    315\u001b[0m             )\n",
      "\u001b[1;31mValueError\u001b[0m: \n    Invalid element(s) received for the 'color' property of parcoords.line\n        Invalid elements include: ['A', 'B', 'C', 'D']\n\n    The 'color' property is a color and may be specified as:\n      - A hex string (e.g. '#ff0000')\n      - An rgb/rgba string (e.g. 'rgb(255,0,0)')\n      - An hsl/hsla string (e.g. 'hsl(0,100%,50%)')\n      - An hsv/hsva string (e.g. 'hsv(0,100%,100%)')\n      - A named CSS color:\n            aliceblue, antiquewhite, aqua, aquamarine, azure,\n            beige, bisque, black, blanchedalmond, blue,\n            blueviolet, brown, burlywood, cadetblue,\n            chartreuse, chocolate, coral, cornflowerblue,\n            cornsilk, crimson, cyan, darkblue, darkcyan,\n            darkgoldenrod, darkgray, darkgrey, darkgreen,\n            darkkhaki, darkmagenta, darkolivegreen, darkorange,\n            darkorchid, darkred, darksalmon, darkseagreen,\n            darkslateblue, darkslategray, darkslategrey,\n            darkturquoise, darkviolet, deeppink, deepskyblue,\n            dimgray, dimgrey, dodgerblue, firebrick,\n            floralwhite, forestgreen, fuchsia, gainsboro,\n            ghostwhite, gold, goldenrod, gray, grey, green,\n            greenyellow, honeydew, hotpink, indianred, indigo,\n            ivory, khaki, lavender, lavenderblush, lawngreen,\n            lemonchiffon, lightblue, lightcoral, lightcyan,\n            lightgoldenrodyellow, lightgray, lightgrey,\n            lightgreen, lightpink, lightsalmon, lightseagreen,\n            lightskyblue, lightslategray, lightslategrey,\n            lightsteelblue, lightyellow, lime, limegreen,\n            linen, magenta, maroon, mediumaquamarine,\n            mediumblue, mediumorchid, mediumpurple,\n            mediumseagreen, mediumslateblue, mediumspringgreen,\n            mediumturquoise, mediumvioletred, midnightblue,\n            mintcream, mistyrose, moccasin, navajowhite, navy,\n            oldlace, olive, olivedrab, orange, orangered,\n            orchid, palegoldenrod, palegreen, paleturquoise,\n            palevioletred, papayawhip, peachpuff, peru, pink,\n            plum, powderblue, purple, red, rosybrown,\n            royalblue, rebeccapurple, saddlebrown, salmon,\n            sandybrown, seagreen, seashell, sienna, silver,\n            skyblue, slateblue, slategray, slategrey, snow,\n            springgreen, steelblue, tan, teal, thistle, tomato,\n            turquoise, violet, wheat, white, whitesmoke,\n            yellow, yellowgreen\n      - A number that will be interpreted as a color\n        according to parcoords.line.colorscale\n      - A list or array of any of the above"
     ]
    }
   ],
   "source": [
    "import pandas as pd\n",
    "import plotly.graph_objects as go\n",
    "colors = [\"Green\",\"Turquoise\",\"Orange\"]\n",
    "values = [\"Low\",\"Medium\",\"High\"]\n",
    "\n",
    "\n",
    "data = {'Category': ['A', 'B', 'C', 'D'],\n",
    "        'Value1': [10, 20, 30, 40],\n",
    "        'Value2': [15, 25, 35, 45],\n",
    "        'Value3': [20, 30, 40, 50]}\n",
    "df = pd.DataFrame(data)\n",
    "print(df)\n",
    "\n",
    "trace = go.Parcoords(\n",
    "    line=dict(color=df['Category'], colorscale=colors),\n",
    "    dimensions=[dict(range=[df[col].min(), df[col].max()],\n",
    "                     label=col, values=df[col]) for col in df.columns[1:]]\n",
    ")\n",
    "\n",
    "layout = go.Layout(title='Parallel Coordinates Graph')\n",
    "fig = go.Figure(data=[trace], layout=layout)\n",
    "\n",
    "fig.show()\n"
   ]
  },
  {
   "cell_type": "code",
   "execution_count": 90,
   "id": "bbb19898",
   "metadata": {},
   "outputs": [
    {
     "data": {
      "application/vnd.plotly.v1+json": {
       "config": {
        "plotlyServerURL": "https://plot.ly"
       },
       "data": [
        {
         "dimensions": [
          {
           "label": "Categories",
           "values": [
            "meat",
            "meat",
            "meat",
            "meat",
            "meat",
            "meat",
            "meat",
            "dairy",
            "dairy",
            "dairy",
            "other_non_vegan",
            "other_non_vegan",
            "other_non_vegan",
            "grains",
            "grains",
            "grains",
            "grains",
            "vegetables",
            "vegetables",
            "vegetables",
            "vegetables",
            "vegetables",
            "vegetables",
            "vegetables",
            "fruits",
            "fruits",
            "fruits",
            "fruits",
            "fruits",
            "legumes",
            "legumes",
            "legumes",
            "legumes",
            "plant_based_alternatives",
            "plant_based_alternatives",
            "oils",
            "oils",
            "oils",
            "other_vegan",
            "other_vegan"
           ]
          },
          {
           "label": "Land use",
           "values": [
            "Medium",
            "Medium",
            "High",
            "Medium",
            "Medium",
            "High",
            "High",
            "Medium",
            "High",
            "Low",
            "Medium",
            "Low",
            "Medium",
            "High",
            "Medium",
            "Low",
            "Medium",
            "Low",
            "Low",
            "Low",
            "High",
            "High",
            "High",
            "High",
            "High",
            "High",
            "High",
            "High",
            "Medium",
            "High",
            "High",
            "Low",
            "Low",
            "Low",
            "Low",
            "Low",
            "Low",
            "Low",
            "Medium",
            "Low"
           ]
          },
          {
           "label": "GHG emission 2013",
           "values": [
            "Medium",
            "Medium",
            "High",
            "Medium",
            "Medium",
            "High",
            "High",
            "Medium",
            "Medium",
            "Medium",
            "High",
            "High",
            "Medium",
            "High",
            "Medium",
            "Low",
            "Low",
            "Medium",
            "Medium",
            "Low",
            "Medium",
            "High",
            "High",
            "High",
            "High",
            "High",
            "High",
            "High",
            "High",
            "Medium",
            "High",
            "Low",
            "Low",
            "Low",
            "Low",
            "Low",
            "Low",
            "Low",
            "Medium",
            "Low"
           ]
          },
          {
           "label": "GHG emission 2007",
           "values": [
            "Medium",
            "Medium",
            "High",
            "Medium",
            "Medium",
            "High",
            "High",
            "Medium",
            "Medium",
            "Medium",
            "High",
            "High",
            "Medium",
            "High",
            "Medium",
            "Low",
            "Low",
            "Medium",
            "Medium",
            "Low",
            "Medium",
            "High",
            "High",
            "High",
            "High",
            "High",
            "High",
            "High",
            "High",
            "Medium",
            "High",
            "Low",
            "Low",
            "Low",
            "Low",
            "Low",
            "Low",
            "Low",
            "Medium",
            "Low"
           ]
          },
          {
           "label": "Acidification",
           "values": [
            "Medium",
            "Medium",
            "High",
            "High",
            "Medium",
            "High",
            "High",
            "Medium",
            "Medium",
            "Medium",
            "High",
            "Low",
            "Medium",
            "High",
            "High",
            "Medium",
            "Medium",
            "Medium",
            "Low",
            "Low",
            "Medium",
            "High",
            "High",
            "High",
            "High",
            "High",
            "High",
            "High",
            "Medium",
            "Medium",
            "High",
            "Low",
            "Low",
            "Low",
            "Low",
            "Low",
            "Low",
            "Low",
            "Medium",
            "Low"
           ]
          },
          {
           "label": "Eutrophication",
           "values": [
            "Medium",
            "High",
            "High",
            "Medium",
            "Low",
            "High",
            "High",
            "Medium",
            "High",
            "Medium",
            "Medium",
            "Medium",
            "Medium",
            "High",
            "Medium",
            "Medium",
            "Medium",
            "Low",
            "Medium",
            "Low",
            "Medium",
            "High",
            "High",
            "High",
            "High",
            "High",
            "High",
            "High",
            "Medium",
            "High",
            "High",
            "Low",
            "Low",
            "Low",
            "Low",
            "Low",
            "Low",
            "Low",
            "Medium",
            "Low"
           ]
          },
          {
           "label": "Fresh Water Withdrawal",
           "values": [
            "Low",
            "Medium",
            "High",
            "Medium",
            "Low",
            "High",
            "High",
            "Medium",
            "Medium",
            "Medium",
            "Medium",
            "Low",
            "Low",
            "High",
            "High",
            "Medium",
            "High",
            "Low",
            "Medium",
            "Low",
            "Medium",
            "High",
            "High",
            "High",
            "High",
            "High",
            "High",
            "Medium",
            "Medium",
            "High",
            "High",
            "High",
            "Medium",
            "Low",
            "Low",
            "Low",
            "Low",
            "Low",
            "Medium",
            "Low"
           ]
          },
          {
           "label": "Stress Water Use",
           "values": [
            "Low",
            "Medium",
            "High",
            "Medium",
            "Low",
            "High",
            "High",
            "Medium",
            "Medium",
            "Medium",
            "Low",
            "Low",
            "Low",
            "High",
            "High",
            "Medium",
            "High",
            "Low",
            "Medium",
            "Low",
            "High",
            "High",
            "High",
            "Medium",
            "High",
            "High",
            "High",
            "Medium",
            "Medium",
            "High",
            "Medium",
            "High",
            "High",
            "Low",
            "Low",
            "Low",
            "Low",
            "Medium",
            "Medium",
            "Low"
           ]
          }
         ],
         "line": {
          "color": [
           "Red",
           "Red",
           "Red",
           "Red",
           "Red",
           "Red",
           "Red",
           "Red",
           "Red",
           "Red",
           "Red",
           "Red",
           "Red",
           "green",
           "green",
           "green",
           "green",
           "green",
           "green",
           "green",
           "green",
           "green",
           "green",
           "green",
           "green",
           "green",
           "green",
           "green",
           "green",
           "green",
           "green",
           "green",
           "green",
           "green",
           "green",
           "green",
           "green",
           "green",
           "green",
           "green"
          ],
          "colorscale": [
           [
            0,
            "Red"
           ],
           [
            0.02564102564102564,
            "Red"
           ],
           [
            0.05128205128205128,
            "Red"
           ],
           [
            0.07692307692307693,
            "Red"
           ],
           [
            0.10256410256410256,
            "Red"
           ],
           [
            0.1282051282051282,
            "Red"
           ],
           [
            0.15384615384615385,
            "Red"
           ],
           [
            0.1794871794871795,
            "Red"
           ],
           [
            0.20512820512820512,
            "Red"
           ],
           [
            0.23076923076923078,
            "Red"
           ],
           [
            0.2564102564102564,
            "Red"
           ],
           [
            0.28205128205128205,
            "Red"
           ],
           [
            0.3076923076923077,
            "Red"
           ],
           [
            0.3333333333333333,
            "green"
           ],
           [
            0.358974358974359,
            "green"
           ],
           [
            0.38461538461538464,
            "green"
           ],
           [
            0.41025641025641024,
            "green"
           ],
           [
            0.4358974358974359,
            "green"
           ],
           [
            0.46153846153846156,
            "green"
           ],
           [
            0.48717948717948717,
            "green"
           ],
           [
            0.5128205128205128,
            "green"
           ],
           [
            0.5384615384615384,
            "green"
           ],
           [
            0.5641025641025641,
            "green"
           ],
           [
            0.5897435897435898,
            "green"
           ],
           [
            0.6153846153846154,
            "green"
           ],
           [
            0.6410256410256411,
            "green"
           ],
           [
            0.6666666666666666,
            "green"
           ],
           [
            0.6923076923076923,
            "green"
           ],
           [
            0.717948717948718,
            "green"
           ],
           [
            0.7435897435897436,
            "green"
           ],
           [
            0.7692307692307693,
            "green"
           ],
           [
            0.7948717948717948,
            "green"
           ],
           [
            0.8205128205128205,
            "green"
           ],
           [
            0.8461538461538461,
            "green"
           ],
           [
            0.8717948717948718,
            "green"
           ],
           [
            0.8974358974358975,
            "green"
           ],
           [
            0.9230769230769231,
            "green"
           ],
           [
            0.9487179487179487,
            "green"
           ],
           [
            0.9743589743589743,
            "green"
           ],
           [
            1,
            "green"
           ]
          ]
         },
         "type": "parcats"
        }
       ],
       "layout": {
        "height": 500,
        "template": {
         "data": {
          "bar": [
           {
            "error_x": {
             "color": "#2a3f5f"
            },
            "error_y": {
             "color": "#2a3f5f"
            },
            "marker": {
             "line": {
              "color": "#E5ECF6",
              "width": 0.5
             },
             "pattern": {
              "fillmode": "overlay",
              "size": 10,
              "solidity": 0.2
             }
            },
            "type": "bar"
           }
          ],
          "barpolar": [
           {
            "marker": {
             "line": {
              "color": "#E5ECF6",
              "width": 0.5
             },
             "pattern": {
              "fillmode": "overlay",
              "size": 10,
              "solidity": 0.2
             }
            },
            "type": "barpolar"
           }
          ],
          "carpet": [
           {
            "aaxis": {
             "endlinecolor": "#2a3f5f",
             "gridcolor": "white",
             "linecolor": "white",
             "minorgridcolor": "white",
             "startlinecolor": "#2a3f5f"
            },
            "baxis": {
             "endlinecolor": "#2a3f5f",
             "gridcolor": "white",
             "linecolor": "white",
             "minorgridcolor": "white",
             "startlinecolor": "#2a3f5f"
            },
            "type": "carpet"
           }
          ],
          "choropleth": [
           {
            "colorbar": {
             "outlinewidth": 0,
             "ticks": ""
            },
            "type": "choropleth"
           }
          ],
          "contour": [
           {
            "colorbar": {
             "outlinewidth": 0,
             "ticks": ""
            },
            "colorscale": [
             [
              0,
              "#0d0887"
             ],
             [
              0.1111111111111111,
              "#46039f"
             ],
             [
              0.2222222222222222,
              "#7201a8"
             ],
             [
              0.3333333333333333,
              "#9c179e"
             ],
             [
              0.4444444444444444,
              "#bd3786"
             ],
             [
              0.5555555555555556,
              "#d8576b"
             ],
             [
              0.6666666666666666,
              "#ed7953"
             ],
             [
              0.7777777777777778,
              "#fb9f3a"
             ],
             [
              0.8888888888888888,
              "#fdca26"
             ],
             [
              1,
              "#f0f921"
             ]
            ],
            "type": "contour"
           }
          ],
          "contourcarpet": [
           {
            "colorbar": {
             "outlinewidth": 0,
             "ticks": ""
            },
            "type": "contourcarpet"
           }
          ],
          "heatmap": [
           {
            "colorbar": {
             "outlinewidth": 0,
             "ticks": ""
            },
            "colorscale": [
             [
              0,
              "#0d0887"
             ],
             [
              0.1111111111111111,
              "#46039f"
             ],
             [
              0.2222222222222222,
              "#7201a8"
             ],
             [
              0.3333333333333333,
              "#9c179e"
             ],
             [
              0.4444444444444444,
              "#bd3786"
             ],
             [
              0.5555555555555556,
              "#d8576b"
             ],
             [
              0.6666666666666666,
              "#ed7953"
             ],
             [
              0.7777777777777778,
              "#fb9f3a"
             ],
             [
              0.8888888888888888,
              "#fdca26"
             ],
             [
              1,
              "#f0f921"
             ]
            ],
            "type": "heatmap"
           }
          ],
          "heatmapgl": [
           {
            "colorbar": {
             "outlinewidth": 0,
             "ticks": ""
            },
            "colorscale": [
             [
              0,
              "#0d0887"
             ],
             [
              0.1111111111111111,
              "#46039f"
             ],
             [
              0.2222222222222222,
              "#7201a8"
             ],
             [
              0.3333333333333333,
              "#9c179e"
             ],
             [
              0.4444444444444444,
              "#bd3786"
             ],
             [
              0.5555555555555556,
              "#d8576b"
             ],
             [
              0.6666666666666666,
              "#ed7953"
             ],
             [
              0.7777777777777778,
              "#fb9f3a"
             ],
             [
              0.8888888888888888,
              "#fdca26"
             ],
             [
              1,
              "#f0f921"
             ]
            ],
            "type": "heatmapgl"
           }
          ],
          "histogram": [
           {
            "marker": {
             "pattern": {
              "fillmode": "overlay",
              "size": 10,
              "solidity": 0.2
             }
            },
            "type": "histogram"
           }
          ],
          "histogram2d": [
           {
            "colorbar": {
             "outlinewidth": 0,
             "ticks": ""
            },
            "colorscale": [
             [
              0,
              "#0d0887"
             ],
             [
              0.1111111111111111,
              "#46039f"
             ],
             [
              0.2222222222222222,
              "#7201a8"
             ],
             [
              0.3333333333333333,
              "#9c179e"
             ],
             [
              0.4444444444444444,
              "#bd3786"
             ],
             [
              0.5555555555555556,
              "#d8576b"
             ],
             [
              0.6666666666666666,
              "#ed7953"
             ],
             [
              0.7777777777777778,
              "#fb9f3a"
             ],
             [
              0.8888888888888888,
              "#fdca26"
             ],
             [
              1,
              "#f0f921"
             ]
            ],
            "type": "histogram2d"
           }
          ],
          "histogram2dcontour": [
           {
            "colorbar": {
             "outlinewidth": 0,
             "ticks": ""
            },
            "colorscale": [
             [
              0,
              "#0d0887"
             ],
             [
              0.1111111111111111,
              "#46039f"
             ],
             [
              0.2222222222222222,
              "#7201a8"
             ],
             [
              0.3333333333333333,
              "#9c179e"
             ],
             [
              0.4444444444444444,
              "#bd3786"
             ],
             [
              0.5555555555555556,
              "#d8576b"
             ],
             [
              0.6666666666666666,
              "#ed7953"
             ],
             [
              0.7777777777777778,
              "#fb9f3a"
             ],
             [
              0.8888888888888888,
              "#fdca26"
             ],
             [
              1,
              "#f0f921"
             ]
            ],
            "type": "histogram2dcontour"
           }
          ],
          "mesh3d": [
           {
            "colorbar": {
             "outlinewidth": 0,
             "ticks": ""
            },
            "type": "mesh3d"
           }
          ],
          "parcoords": [
           {
            "line": {
             "colorbar": {
              "outlinewidth": 0,
              "ticks": ""
             }
            },
            "type": "parcoords"
           }
          ],
          "pie": [
           {
            "automargin": true,
            "type": "pie"
           }
          ],
          "scatter": [
           {
            "fillpattern": {
             "fillmode": "overlay",
             "size": 10,
             "solidity": 0.2
            },
            "type": "scatter"
           }
          ],
          "scatter3d": [
           {
            "line": {
             "colorbar": {
              "outlinewidth": 0,
              "ticks": ""
             }
            },
            "marker": {
             "colorbar": {
              "outlinewidth": 0,
              "ticks": ""
             }
            },
            "type": "scatter3d"
           }
          ],
          "scattercarpet": [
           {
            "marker": {
             "colorbar": {
              "outlinewidth": 0,
              "ticks": ""
             }
            },
            "type": "scattercarpet"
           }
          ],
          "scattergeo": [
           {
            "marker": {
             "colorbar": {
              "outlinewidth": 0,
              "ticks": ""
             }
            },
            "type": "scattergeo"
           }
          ],
          "scattergl": [
           {
            "marker": {
             "colorbar": {
              "outlinewidth": 0,
              "ticks": ""
             }
            },
            "type": "scattergl"
           }
          ],
          "scattermapbox": [
           {
            "marker": {
             "colorbar": {
              "outlinewidth": 0,
              "ticks": ""
             }
            },
            "type": "scattermapbox"
           }
          ],
          "scatterpolar": [
           {
            "marker": {
             "colorbar": {
              "outlinewidth": 0,
              "ticks": ""
             }
            },
            "type": "scatterpolar"
           }
          ],
          "scatterpolargl": [
           {
            "marker": {
             "colorbar": {
              "outlinewidth": 0,
              "ticks": ""
             }
            },
            "type": "scatterpolargl"
           }
          ],
          "scatterternary": [
           {
            "marker": {
             "colorbar": {
              "outlinewidth": 0,
              "ticks": ""
             }
            },
            "type": "scatterternary"
           }
          ],
          "surface": [
           {
            "colorbar": {
             "outlinewidth": 0,
             "ticks": ""
            },
            "colorscale": [
             [
              0,
              "#0d0887"
             ],
             [
              0.1111111111111111,
              "#46039f"
             ],
             [
              0.2222222222222222,
              "#7201a8"
             ],
             [
              0.3333333333333333,
              "#9c179e"
             ],
             [
              0.4444444444444444,
              "#bd3786"
             ],
             [
              0.5555555555555556,
              "#d8576b"
             ],
             [
              0.6666666666666666,
              "#ed7953"
             ],
             [
              0.7777777777777778,
              "#fb9f3a"
             ],
             [
              0.8888888888888888,
              "#fdca26"
             ],
             [
              1,
              "#f0f921"
             ]
            ],
            "type": "surface"
           }
          ],
          "table": [
           {
            "cells": {
             "fill": {
              "color": "#EBF0F8"
             },
             "line": {
              "color": "white"
             }
            },
            "header": {
             "fill": {
              "color": "#C8D4E3"
             },
             "line": {
              "color": "white"
             }
            },
            "type": "table"
           }
          ]
         },
         "layout": {
          "annotationdefaults": {
           "arrowcolor": "#2a3f5f",
           "arrowhead": 0,
           "arrowwidth": 1
          },
          "autotypenumbers": "strict",
          "coloraxis": {
           "colorbar": {
            "outlinewidth": 0,
            "ticks": ""
           }
          },
          "colorscale": {
           "diverging": [
            [
             0,
             "#8e0152"
            ],
            [
             0.1,
             "#c51b7d"
            ],
            [
             0.2,
             "#de77ae"
            ],
            [
             0.3,
             "#f1b6da"
            ],
            [
             0.4,
             "#fde0ef"
            ],
            [
             0.5,
             "#f7f7f7"
            ],
            [
             0.6,
             "#e6f5d0"
            ],
            [
             0.7,
             "#b8e186"
            ],
            [
             0.8,
             "#7fbc41"
            ],
            [
             0.9,
             "#4d9221"
            ],
            [
             1,
             "#276419"
            ]
           ],
           "sequential": [
            [
             0,
             "#0d0887"
            ],
            [
             0.1111111111111111,
             "#46039f"
            ],
            [
             0.2222222222222222,
             "#7201a8"
            ],
            [
             0.3333333333333333,
             "#9c179e"
            ],
            [
             0.4444444444444444,
             "#bd3786"
            ],
            [
             0.5555555555555556,
             "#d8576b"
            ],
            [
             0.6666666666666666,
             "#ed7953"
            ],
            [
             0.7777777777777778,
             "#fb9f3a"
            ],
            [
             0.8888888888888888,
             "#fdca26"
            ],
            [
             1,
             "#f0f921"
            ]
           ],
           "sequentialminus": [
            [
             0,
             "#0d0887"
            ],
            [
             0.1111111111111111,
             "#46039f"
            ],
            [
             0.2222222222222222,
             "#7201a8"
            ],
            [
             0.3333333333333333,
             "#9c179e"
            ],
            [
             0.4444444444444444,
             "#bd3786"
            ],
            [
             0.5555555555555556,
             "#d8576b"
            ],
            [
             0.6666666666666666,
             "#ed7953"
            ],
            [
             0.7777777777777778,
             "#fb9f3a"
            ],
            [
             0.8888888888888888,
             "#fdca26"
            ],
            [
             1,
             "#f0f921"
            ]
           ]
          },
          "colorway": [
           "#636efa",
           "#EF553B",
           "#00cc96",
           "#ab63fa",
           "#FFA15A",
           "#19d3f3",
           "#FF6692",
           "#B6E880",
           "#FF97FF",
           "#FECB52"
          ],
          "font": {
           "color": "#2a3f5f"
          },
          "geo": {
           "bgcolor": "white",
           "lakecolor": "white",
           "landcolor": "#E5ECF6",
           "showlakes": true,
           "showland": true,
           "subunitcolor": "white"
          },
          "hoverlabel": {
           "align": "left"
          },
          "hovermode": "closest",
          "mapbox": {
           "style": "light"
          },
          "paper_bgcolor": "white",
          "plot_bgcolor": "#E5ECF6",
          "polar": {
           "angularaxis": {
            "gridcolor": "white",
            "linecolor": "white",
            "ticks": ""
           },
           "bgcolor": "#E5ECF6",
           "radialaxis": {
            "gridcolor": "white",
            "linecolor": "white",
            "ticks": ""
           }
          },
          "scene": {
           "xaxis": {
            "backgroundcolor": "#E5ECF6",
            "gridcolor": "white",
            "gridwidth": 2,
            "linecolor": "white",
            "showbackground": true,
            "ticks": "",
            "zerolinecolor": "white"
           },
           "yaxis": {
            "backgroundcolor": "#E5ECF6",
            "gridcolor": "white",
            "gridwidth": 2,
            "linecolor": "white",
            "showbackground": true,
            "ticks": "",
            "zerolinecolor": "white"
           },
           "zaxis": {
            "backgroundcolor": "#E5ECF6",
            "gridcolor": "white",
            "gridwidth": 2,
            "linecolor": "white",
            "showbackground": true,
            "ticks": "",
            "zerolinecolor": "white"
           }
          },
          "shapedefaults": {
           "line": {
            "color": "#2a3f5f"
           }
          },
          "ternary": {
           "aaxis": {
            "gridcolor": "white",
            "linecolor": "white",
            "ticks": ""
           },
           "baxis": {
            "gridcolor": "white",
            "linecolor": "white",
            "ticks": ""
           },
           "bgcolor": "#E5ECF6",
           "caxis": {
            "gridcolor": "white",
            "linecolor": "white",
            "ticks": ""
           }
          },
          "title": {
           "x": 0.05
          },
          "xaxis": {
           "automargin": true,
           "gridcolor": "white",
           "linecolor": "white",
           "ticks": "",
           "title": {
            "standoff": 15
           },
           "zerolinecolor": "white",
           "zerolinewidth": 2
          },
          "yaxis": {
           "automargin": true,
           "gridcolor": "white",
           "linecolor": "white",
           "ticks": "",
           "title": {
            "standoff": 15
           },
           "zerolinecolor": "white",
           "zerolinewidth": 2
          }
         }
        },
        "title": {
         "text": "Analysis of the tips in a restaurant with all variables"
        },
        "width": 1150
       }
      }
     },
     "metadata": {},
     "output_type": "display_data"
    }
   ],
   "source": [
    "import plotly.graph_objects as go\n",
    "import pandas as pd\n",
    "\n",
    "values = [\"Low\", \"Medium\", \"High\"][::-1]  # Reordered values\n",
    "df[\"Categories\"] = pd.DataFrame(categories_value)\n",
    "dimensions = [{'label': 'Categories', 'values': df[\"Categories\"]}]\n",
    "num = 3\n",
    "\n",
    "for topic in topics:\n",
    "    topic_name = topic.lower().replace(\" \", \"_\")\n",
    "    dataframe_topic = \"df_{}_{}\".format(category_str, topic_name)\n",
    "    locals()[dataframe_topic] = df_all_products.iloc[:, num]\n",
    "    df[topic] = pd.qcut(df_all_products.iloc[:, num], q=3, labels=values, duplicates='raise')\n",
    "    dimension = {'label': topic, 'values': df[topic]}\n",
    "    dimensions.append(dimension)\n",
    "    num += 6\n",
    "\n",
    "colors = []\n",
    "for category in df[\"Categories\"]:\n",
    "    if category in non_vegan:\n",
    "        colors.append(color_non_vegan)\n",
    "    else:\n",
    "        colors.append(\"green\")\n",
    "\n",
    "fig = go.Figure(data=go.Parcats(dimensions=dimensions, line=dict(color=colors, colorscale=colors)))\n",
    "fig.update_layout(\n",
    "    title=\"Analysis of the tips in a restaurant with all variables\",\n",
    "    height=500,\n",
    "    width=1150\n",
    ")\n",
    "fig.show()\n"
   ]
  },
  {
   "cell_type": "code",
   "execution_count": null,
   "id": "10b693d7",
   "metadata": {},
   "outputs": [],
   "source": []
  }
 ],
 "metadata": {
  "kernelspec": {
   "display_name": "Python 3 (ipykernel)",
   "language": "python",
   "name": "python3"
  },
  "language_info": {
   "codemirror_mode": {
    "name": "ipython",
    "version": 3
   },
   "file_extension": ".py",
   "mimetype": "text/x-python",
   "name": "python",
   "nbconvert_exporter": "python",
   "pygments_lexer": "ipython3",
   "version": "3.7.16"
  }
 },
 "nbformat": 4,
 "nbformat_minor": 5
}
