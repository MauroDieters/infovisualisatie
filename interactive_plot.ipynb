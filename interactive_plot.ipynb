{
 "cells": [
  {
   "cell_type": "code",
   "execution_count": 36,
   "id": "bba12f07",
   "metadata": {
    "scrolled": false
   },
   "outputs": [
    {
     "data": {
      "application/vnd.plotly.v1+json": {
       "config": {
        "plotlyServerURL": "https://plot.ly"
       },
       "data": [
        {
         "alignmentgroup": "True",
         "hovertemplate": "Product=%{x}<br>Total=%{y}<extra></extra>",
         "legendgroup": "",
         "marker": {
          "color": "#636efa",
          "pattern": {
           "shape": ""
          }
         },
         "name": "",
         "offsetgroup": "",
         "orientation": "v",
         "showlegend": false,
         "textposition": "auto",
         "type": "bar",
         "x": [
          "Wheat & Rye (Bread)",
          "Maize (Meal)",
          "Barley (Beer)",
          "Oatmeal",
          "Rice",
          "Potatoes",
          "Cassava",
          "Cane Sugar",
          "Beet Sugar",
          "Other Pulses",
          "Peas",
          "Nuts",
          "Groundnuts",
          "Soymilk",
          "Tofu",
          "Soybean Oil",
          "Palm Oil",
          "Sunflower Oil",
          "Rapeseed Oil",
          "Olive Oil",
          "Tomatoes",
          "Onions & Leeks",
          "Root Vegetables",
          "Brassicas",
          "Other Vegetables",
          "Citrus Fruit",
          "Bananas",
          "Apples",
          "Berries & Grapes",
          "Wine",
          "Other Fruit",
          "Coffee",
          "Dark Chocolate",
          "Bovine Meat (beef herd)",
          "Bovine Meat (dairy herd)",
          "Lamb & Mutton",
          "Pig Meat",
          "Poultry Meat",
          "Milk",
          "Cheese",
          "Eggs",
          "Fish (farmed)",
          "Crustaceans (farmed)"
         ],
         "xaxis": "x",
         "y": [
          3.4819999999999998,
          1.6280000000000001,
          0.9400000000000001,
          4.766,
          2.401,
          0.643,
          1.254,
          1.594,
          1.433,
          13.620000000000001,
          6.7379999999999995,
          5.08,
          6.971,
          0.5920000000000001,
          3.154,
          10.174,
          2.4379999999999997,
          17.194,
          10.548,
          28.302,
          0.51,
          0.28500000000000003,
          0.263,
          0.45199999999999996,
          0.31,
          0.675,
          1.23,
          0.49300000000000005,
          1.6400000000000001,
          1.553,
          0.61,
          11.721,
          23.693,
          193.66600000000003,
          25.728,
          223.306,
          10.156,
          7.49,
          8.004000000000001,
          80.642,
          6.049,
          3.378,
          1.429
         ],
         "yaxis": "y"
        }
       ],
       "layout": {
        "barmode": "relative",
        "legend": {
         "tracegroupgap": 0
        },
        "margin": {
         "t": 60
        },
        "template": {
         "data": {
          "bar": [
           {
            "error_x": {
             "color": "#2a3f5f"
            },
            "error_y": {
             "color": "#2a3f5f"
            },
            "marker": {
             "line": {
              "color": "#E5ECF6",
              "width": 0.5
             },
             "pattern": {
              "fillmode": "overlay",
              "size": 10,
              "solidity": 0.2
             }
            },
            "type": "bar"
           }
          ],
          "barpolar": [
           {
            "marker": {
             "line": {
              "color": "#E5ECF6",
              "width": 0.5
             },
             "pattern": {
              "fillmode": "overlay",
              "size": 10,
              "solidity": 0.2
             }
            },
            "type": "barpolar"
           }
          ],
          "carpet": [
           {
            "aaxis": {
             "endlinecolor": "#2a3f5f",
             "gridcolor": "white",
             "linecolor": "white",
             "minorgridcolor": "white",
             "startlinecolor": "#2a3f5f"
            },
            "baxis": {
             "endlinecolor": "#2a3f5f",
             "gridcolor": "white",
             "linecolor": "white",
             "minorgridcolor": "white",
             "startlinecolor": "#2a3f5f"
            },
            "type": "carpet"
           }
          ],
          "choropleth": [
           {
            "colorbar": {
             "outlinewidth": 0,
             "ticks": ""
            },
            "type": "choropleth"
           }
          ],
          "contour": [
           {
            "colorbar": {
             "outlinewidth": 0,
             "ticks": ""
            },
            "colorscale": [
             [
              0,
              "#0d0887"
             ],
             [
              0.1111111111111111,
              "#46039f"
             ],
             [
              0.2222222222222222,
              "#7201a8"
             ],
             [
              0.3333333333333333,
              "#9c179e"
             ],
             [
              0.4444444444444444,
              "#bd3786"
             ],
             [
              0.5555555555555556,
              "#d8576b"
             ],
             [
              0.6666666666666666,
              "#ed7953"
             ],
             [
              0.7777777777777778,
              "#fb9f3a"
             ],
             [
              0.8888888888888888,
              "#fdca26"
             ],
             [
              1,
              "#f0f921"
             ]
            ],
            "type": "contour"
           }
          ],
          "contourcarpet": [
           {
            "colorbar": {
             "outlinewidth": 0,
             "ticks": ""
            },
            "type": "contourcarpet"
           }
          ],
          "heatmap": [
           {
            "colorbar": {
             "outlinewidth": 0,
             "ticks": ""
            },
            "colorscale": [
             [
              0,
              "#0d0887"
             ],
             [
              0.1111111111111111,
              "#46039f"
             ],
             [
              0.2222222222222222,
              "#7201a8"
             ],
             [
              0.3333333333333333,
              "#9c179e"
             ],
             [
              0.4444444444444444,
              "#bd3786"
             ],
             [
              0.5555555555555556,
              "#d8576b"
             ],
             [
              0.6666666666666666,
              "#ed7953"
             ],
             [
              0.7777777777777778,
              "#fb9f3a"
             ],
             [
              0.8888888888888888,
              "#fdca26"
             ],
             [
              1,
              "#f0f921"
             ]
            ],
            "type": "heatmap"
           }
          ],
          "heatmapgl": [
           {
            "colorbar": {
             "outlinewidth": 0,
             "ticks": ""
            },
            "colorscale": [
             [
              0,
              "#0d0887"
             ],
             [
              0.1111111111111111,
              "#46039f"
             ],
             [
              0.2222222222222222,
              "#7201a8"
             ],
             [
              0.3333333333333333,
              "#9c179e"
             ],
             [
              0.4444444444444444,
              "#bd3786"
             ],
             [
              0.5555555555555556,
              "#d8576b"
             ],
             [
              0.6666666666666666,
              "#ed7953"
             ],
             [
              0.7777777777777778,
              "#fb9f3a"
             ],
             [
              0.8888888888888888,
              "#fdca26"
             ],
             [
              1,
              "#f0f921"
             ]
            ],
            "type": "heatmapgl"
           }
          ],
          "histogram": [
           {
            "marker": {
             "pattern": {
              "fillmode": "overlay",
              "size": 10,
              "solidity": 0.2
             }
            },
            "type": "histogram"
           }
          ],
          "histogram2d": [
           {
            "colorbar": {
             "outlinewidth": 0,
             "ticks": ""
            },
            "colorscale": [
             [
              0,
              "#0d0887"
             ],
             [
              0.1111111111111111,
              "#46039f"
             ],
             [
              0.2222222222222222,
              "#7201a8"
             ],
             [
              0.3333333333333333,
              "#9c179e"
             ],
             [
              0.4444444444444444,
              "#bd3786"
             ],
             [
              0.5555555555555556,
              "#d8576b"
             ],
             [
              0.6666666666666666,
              "#ed7953"
             ],
             [
              0.7777777777777778,
              "#fb9f3a"
             ],
             [
              0.8888888888888888,
              "#fdca26"
             ],
             [
              1,
              "#f0f921"
             ]
            ],
            "type": "histogram2d"
           }
          ],
          "histogram2dcontour": [
           {
            "colorbar": {
             "outlinewidth": 0,
             "ticks": ""
            },
            "colorscale": [
             [
              0,
              "#0d0887"
             ],
             [
              0.1111111111111111,
              "#46039f"
             ],
             [
              0.2222222222222222,
              "#7201a8"
             ],
             [
              0.3333333333333333,
              "#9c179e"
             ],
             [
              0.4444444444444444,
              "#bd3786"
             ],
             [
              0.5555555555555556,
              "#d8576b"
             ],
             [
              0.6666666666666666,
              "#ed7953"
             ],
             [
              0.7777777777777778,
              "#fb9f3a"
             ],
             [
              0.8888888888888888,
              "#fdca26"
             ],
             [
              1,
              "#f0f921"
             ]
            ],
            "type": "histogram2dcontour"
           }
          ],
          "mesh3d": [
           {
            "colorbar": {
             "outlinewidth": 0,
             "ticks": ""
            },
            "type": "mesh3d"
           }
          ],
          "parcoords": [
           {
            "line": {
             "colorbar": {
              "outlinewidth": 0,
              "ticks": ""
             }
            },
            "type": "parcoords"
           }
          ],
          "pie": [
           {
            "automargin": true,
            "type": "pie"
           }
          ],
          "scatter": [
           {
            "fillpattern": {
             "fillmode": "overlay",
             "size": 10,
             "solidity": 0.2
            },
            "type": "scatter"
           }
          ],
          "scatter3d": [
           {
            "line": {
             "colorbar": {
              "outlinewidth": 0,
              "ticks": ""
             }
            },
            "marker": {
             "colorbar": {
              "outlinewidth": 0,
              "ticks": ""
             }
            },
            "type": "scatter3d"
           }
          ],
          "scattercarpet": [
           {
            "marker": {
             "colorbar": {
              "outlinewidth": 0,
              "ticks": ""
             }
            },
            "type": "scattercarpet"
           }
          ],
          "scattergeo": [
           {
            "marker": {
             "colorbar": {
              "outlinewidth": 0,
              "ticks": ""
             }
            },
            "type": "scattergeo"
           }
          ],
          "scattergl": [
           {
            "marker": {
             "colorbar": {
              "outlinewidth": 0,
              "ticks": ""
             }
            },
            "type": "scattergl"
           }
          ],
          "scattermapbox": [
           {
            "marker": {
             "colorbar": {
              "outlinewidth": 0,
              "ticks": ""
             }
            },
            "type": "scattermapbox"
           }
          ],
          "scatterpolar": [
           {
            "marker": {
             "colorbar": {
              "outlinewidth": 0,
              "ticks": ""
             }
            },
            "type": "scatterpolar"
           }
          ],
          "scatterpolargl": [
           {
            "marker": {
             "colorbar": {
              "outlinewidth": 0,
              "ticks": ""
             }
            },
            "type": "scatterpolargl"
           }
          ],
          "scatterternary": [
           {
            "marker": {
             "colorbar": {
              "outlinewidth": 0,
              "ticks": ""
             }
            },
            "type": "scatterternary"
           }
          ],
          "surface": [
           {
            "colorbar": {
             "outlinewidth": 0,
             "ticks": ""
            },
            "colorscale": [
             [
              0,
              "#0d0887"
             ],
             [
              0.1111111111111111,
              "#46039f"
             ],
             [
              0.2222222222222222,
              "#7201a8"
             ],
             [
              0.3333333333333333,
              "#9c179e"
             ],
             [
              0.4444444444444444,
              "#bd3786"
             ],
             [
              0.5555555555555556,
              "#d8576b"
             ],
             [
              0.6666666666666666,
              "#ed7953"
             ],
             [
              0.7777777777777778,
              "#fb9f3a"
             ],
             [
              0.8888888888888888,
              "#fdca26"
             ],
             [
              1,
              "#f0f921"
             ]
            ],
            "type": "surface"
           }
          ],
          "table": [
           {
            "cells": {
             "fill": {
              "color": "#EBF0F8"
             },
             "line": {
              "color": "white"
             }
            },
            "header": {
             "fill": {
              "color": "#C8D4E3"
             },
             "line": {
              "color": "white"
             }
            },
            "type": "table"
           }
          ]
         },
         "layout": {
          "annotationdefaults": {
           "arrowcolor": "#2a3f5f",
           "arrowhead": 0,
           "arrowwidth": 1
          },
          "autotypenumbers": "strict",
          "coloraxis": {
           "colorbar": {
            "outlinewidth": 0,
            "ticks": ""
           }
          },
          "colorscale": {
           "diverging": [
            [
             0,
             "#8e0152"
            ],
            [
             0.1,
             "#c51b7d"
            ],
            [
             0.2,
             "#de77ae"
            ],
            [
             0.3,
             "#f1b6da"
            ],
            [
             0.4,
             "#fde0ef"
            ],
            [
             0.5,
             "#f7f7f7"
            ],
            [
             0.6,
             "#e6f5d0"
            ],
            [
             0.7,
             "#b8e186"
            ],
            [
             0.8,
             "#7fbc41"
            ],
            [
             0.9,
             "#4d9221"
            ],
            [
             1,
             "#276419"
            ]
           ],
           "sequential": [
            [
             0,
             "#0d0887"
            ],
            [
             0.1111111111111111,
             "#46039f"
            ],
            [
             0.2222222222222222,
             "#7201a8"
            ],
            [
             0.3333333333333333,
             "#9c179e"
            ],
            [
             0.4444444444444444,
             "#bd3786"
            ],
            [
             0.5555555555555556,
             "#d8576b"
            ],
            [
             0.6666666666666666,
             "#ed7953"
            ],
            [
             0.7777777777777778,
             "#fb9f3a"
            ],
            [
             0.8888888888888888,
             "#fdca26"
            ],
            [
             1,
             "#f0f921"
            ]
           ],
           "sequentialminus": [
            [
             0,
             "#0d0887"
            ],
            [
             0.1111111111111111,
             "#46039f"
            ],
            [
             0.2222222222222222,
             "#7201a8"
            ],
            [
             0.3333333333333333,
             "#9c179e"
            ],
            [
             0.4444444444444444,
             "#bd3786"
            ],
            [
             0.5555555555555556,
             "#d8576b"
            ],
            [
             0.6666666666666666,
             "#ed7953"
            ],
            [
             0.7777777777777778,
             "#fb9f3a"
            ],
            [
             0.8888888888888888,
             "#fdca26"
            ],
            [
             1,
             "#f0f921"
            ]
           ]
          },
          "colorway": [
           "#636efa",
           "#EF553B",
           "#00cc96",
           "#ab63fa",
           "#FFA15A",
           "#19d3f3",
           "#FF6692",
           "#B6E880",
           "#FF97FF",
           "#FECB52"
          ],
          "font": {
           "color": "#2a3f5f"
          },
          "geo": {
           "bgcolor": "white",
           "lakecolor": "white",
           "landcolor": "#E5ECF6",
           "showlakes": true,
           "showland": true,
           "subunitcolor": "white"
          },
          "hoverlabel": {
           "align": "left"
          },
          "hovermode": "closest",
          "mapbox": {
           "style": "light"
          },
          "paper_bgcolor": "white",
          "plot_bgcolor": "#E5ECF6",
          "polar": {
           "angularaxis": {
            "gridcolor": "white",
            "linecolor": "white",
            "ticks": ""
           },
           "bgcolor": "#E5ECF6",
           "radialaxis": {
            "gridcolor": "white",
            "linecolor": "white",
            "ticks": ""
           }
          },
          "scene": {
           "xaxis": {
            "backgroundcolor": "#E5ECF6",
            "gridcolor": "white",
            "gridwidth": 2,
            "linecolor": "white",
            "showbackground": true,
            "ticks": "",
            "zerolinecolor": "white"
           },
           "yaxis": {
            "backgroundcolor": "#E5ECF6",
            "gridcolor": "white",
            "gridwidth": 2,
            "linecolor": "white",
            "showbackground": true,
            "ticks": "",
            "zerolinecolor": "white"
           },
           "zaxis": {
            "backgroundcolor": "#E5ECF6",
            "gridcolor": "white",
            "gridwidth": 2,
            "linecolor": "white",
            "showbackground": true,
            "ticks": "",
            "zerolinecolor": "white"
           }
          },
          "shapedefaults": {
           "line": {
            "color": "#2a3f5f"
           }
          },
          "ternary": {
           "aaxis": {
            "gridcolor": "white",
            "linecolor": "white",
            "ticks": ""
           },
           "baxis": {
            "gridcolor": "white",
            "linecolor": "white",
            "ticks": ""
           },
           "bgcolor": "#E5ECF6",
           "caxis": {
            "gridcolor": "white",
            "linecolor": "white",
            "ticks": ""
           }
          },
          "title": {
           "x": 0.05
          },
          "xaxis": {
           "automargin": true,
           "gridcolor": "white",
           "linecolor": "white",
           "ticks": "",
           "title": {
            "standoff": 15
           },
           "zerolinecolor": "white",
           "zerolinewidth": 2
          },
          "yaxis": {
           "automargin": true,
           "gridcolor": "white",
           "linecolor": "white",
           "ticks": "",
           "title": {
            "standoff": 15
           },
           "zerolinecolor": "white",
           "zerolinewidth": 2
          }
         }
        },
        "updatemenus": [
         {
          "buttons": [
           {
            "args": [
             {
              "x": [
               [
                "Wheat & Rye (Bread)",
                "Maize (Meal)",
                "Barley (Beer)",
                "Oatmeal",
                "Rice",
                "Potatoes",
                "Cassava",
                "Cane Sugar",
                "Beet Sugar",
                "Other Pulses",
                "Peas",
                "Nuts",
                "Groundnuts",
                "Soymilk",
                "Tofu",
                "Soybean Oil",
                "Palm Oil",
                "Sunflower Oil",
                "Rapeseed Oil",
                "Olive Oil",
                "Tomatoes",
                "Onions & Leeks",
                "Root Vegetables",
                "Brassicas",
                "Other Vegetables",
                "Citrus Fruit",
                "Bananas",
                "Apples",
                "Berries & Grapes",
                "Wine",
                "Other Fruit",
                "Coffee",
                "Dark Chocolate",
                "Bovine Meat (beef herd)",
                "Bovine Meat (dairy herd)",
                "Lamb & Mutton",
                "Pig Meat",
                "Poultry Meat",
                "Milk",
                "Cheese",
                "Eggs",
                "Fish (farmed)",
                "Crustaceans (farmed)"
               ]
              ]
             },
             {
              "xaxis": {
               "title": {
                "text": "Product"
               }
              }
             }
            ],
            "label": "Product",
            "method": "update"
           },
           {
            "args": [
             {
              "x": [
               [
                "Wheat & Rye (Bread)",
                "Maize (Meal)",
                "Barley (Beer)",
                "Oatmeal",
                "Rice",
                "Potatoes",
                "Cassava",
                "Cane Sugar",
                "Beet Sugar",
                "Other Pulses",
                "Peas",
                "Nuts",
                "Groundnuts",
                "Soymilk",
                "Tofu",
                "Soybean Oil",
                "Palm Oil",
                "Sunflower Oil",
                "Rapeseed Oil",
                "Olive Oil",
                "Tomatoes",
                "Onions & Leeks",
                "Root Vegetables",
                "Brassicas",
                "Other Vegetables",
                "Citrus Fruit",
                "Bananas",
                "Apples",
                "Berries & Grapes",
                "Wine",
                "Other Fruit",
                "Coffee",
                "Dark Chocolate",
                "Bovine Meat (beef herd)",
                "Bovine Meat (dairy herd)",
                "Lamb & Mutton",
                "Pig Meat",
                "Poultry Meat",
                "Milk",
                "Cheese",
                "Eggs",
                "Fish (farmed)",
                "Crustaceans (farmed)"
               ]
              ]
             },
             {
              "xaxis": {
               "title": {
                "text": "Product"
               }
              }
             }
            ],
            "label": "Product",
            "method": "update"
           },
           {
            "args": [
             {
              "x": [
               [
                "Wheat & Rye (Bread)",
                "Maize (Meal)",
                "Barley (Beer)",
                "Oatmeal",
                "Rice",
                "Potatoes",
                "Cassava",
                "Cane Sugar",
                "Beet Sugar",
                "Other Pulses",
                "Peas",
                "Nuts",
                "Groundnuts",
                "Soymilk",
                "Tofu",
                "Soybean Oil",
                "Palm Oil",
                "Sunflower Oil",
                "Rapeseed Oil",
                "Olive Oil",
                "Tomatoes",
                "Onions & Leeks",
                "Root Vegetables",
                "Brassicas",
                "Other Vegetables",
                "Citrus Fruit",
                "Bananas",
                "Apples",
                "Berries & Grapes",
                "Wine",
                "Other Fruit",
                "Coffee",
                "Dark Chocolate",
                "Bovine Meat (beef herd)",
                "Bovine Meat (dairy herd)",
                "Lamb & Mutton",
                "Pig Meat",
                "Poultry Meat",
                "Milk",
                "Cheese",
                "Eggs",
                "Fish (farmed)",
                "Crustaceans (farmed)"
               ]
              ]
             },
             {
              "xaxis": {
               "title": {
                "text": "Product"
               }
              }
             }
            ],
            "label": "Product",
            "method": "update"
           },
           {
            "args": [
             {
              "x": [
               [
                "Wheat & Rye (Bread)",
                "Maize (Meal)",
                "Barley (Beer)",
                "Oatmeal",
                "Rice",
                "Potatoes",
                "Cassava",
                "Cane Sugar",
                "Beet Sugar",
                "Other Pulses",
                "Peas",
                "Nuts",
                "Groundnuts",
                "Soymilk",
                "Tofu",
                "Soybean Oil",
                "Palm Oil",
                "Sunflower Oil",
                "Rapeseed Oil",
                "Olive Oil",
                "Tomatoes",
                "Onions & Leeks",
                "Root Vegetables",
                "Brassicas",
                "Other Vegetables",
                "Citrus Fruit",
                "Bananas",
                "Apples",
                "Berries & Grapes",
                "Wine",
                "Other Fruit",
                "Coffee",
                "Dark Chocolate",
                "Bovine Meat (beef herd)",
                "Bovine Meat (dairy herd)",
                "Lamb & Mutton",
                "Pig Meat",
                "Poultry Meat",
                "Milk",
                "Cheese",
                "Eggs",
                "Fish (farmed)",
                "Crustaceans (farmed)"
               ]
              ]
             },
             {
              "xaxis": {
               "title": {
                "text": "Product"
               }
              }
             }
            ],
            "label": "Product",
            "method": "update"
           }
          ],
          "x": 0,
          "y": 1.2
         },
         {
          "buttons": [
           {
            "args": [
             {
              "y": [
               [
                2.55,
                1.171,
                0.674,
                3.414,
                2.093,
                0.498,
                0.934,
                1.213,
                1.159,
                9.851,
                5.354,
                4.681,
                5.802,
                0.464,
                2.473,
                7.815,
                2.259,
                13.581,
                8.458,
                27.213,
                0.328,
                0.219,
                0.231,
                0.303,
                0.223,
                0.637,
                1.23,
                0.465,
                0.741,
                1.553,
                0.465,
                10.683,
                18.634,
                20.507,
                10.096,
                9.292,
                7.882,
                5.66,
                1.327,
                12.104,
                4.652,
                2.67,
                1.197
               ]
              ]
             },
             {
              "yaxis": {
               "title": {
                "text": "Arable"
               }
              }
             }
            ],
            "label": "Arable",
            "method": "update"
           },
           {
            "args": [
             {
              "y": [
               [
                0.932,
                0.457,
                0.266,
                1.352,
                0.308,
                0.145,
                0.32,
                0.381,
                0.274,
                3.769,
                1.384,
                0.399,
                1.169,
                0.128,
                0.681,
                2.359,
                0.179,
                3.613,
                2.09,
                1.089,
                0.182,
                0.066,
                0.032,
                0.149,
                0.087,
                0.038,
                0,
                0.028,
                0.899,
                0,
                0.145,
                1.038,
                5.059,
                5.067,
                1.965,
                1.666,
                2.23,
                1.83,
                0.402,
                3.658,
                1.397,
                0.708,
                0.232
               ]
              ]
             },
             {
              "yaxis": {
               "title": {
                "text": "Fallow"
               }
              }
             }
            ],
            "label": "Fallow",
            "method": "update"
           },
           {
            "args": [
             {
              "y": [
               [
                0,
                0,
                0,
                0,
                0,
                0,
                0,
                0,
                0,
                0,
                0,
                0,
                0,
                0,
                0,
                0,
                0,
                0,
                0,
                0,
                0,
                0,
                0,
                0,
                0,
                0,
                0,
                0,
                0,
                0,
                0,
                0,
                0,
                168.092,
                13.667,
                212.348,
                0.044,
                0,
                6.275,
                64.88,
                0,
                0,
                0
               ]
              ]
             },
             {
              "yaxis": {
               "title": {
                "text": "Perm Past"
               }
              }
             }
            ],
            "label": "Perm Past",
            "method": "update"
           },
           {
            "args": [
             {
              "y": [
               [
                3.4819999999999998,
                1.6280000000000001,
                0.9400000000000001,
                4.766,
                2.401,
                0.643,
                1.254,
                1.594,
                1.433,
                13.620000000000001,
                6.7379999999999995,
                5.08,
                6.971,
                0.5920000000000001,
                3.154,
                10.174,
                2.4379999999999997,
                17.194,
                10.548,
                28.302,
                0.51,
                0.28500000000000003,
                0.263,
                0.45199999999999996,
                0.31,
                0.675,
                1.23,
                0.49300000000000005,
                1.6400000000000001,
                1.553,
                0.61,
                11.721,
                23.693,
                193.66600000000003,
                25.728,
                223.306,
                10.156,
                7.49,
                8.004000000000001,
                80.642,
                6.049,
                3.378,
                1.429
               ]
              ]
             },
             {
              "yaxis": {
               "title": {
                "text": "Total"
               }
              }
             }
            ],
            "label": "Total",
            "method": "update"
           }
          ],
          "x": 0.1,
          "y": 1.2
         }
        ],
        "xaxis": {
         "anchor": "y",
         "domain": [
          0,
          1
         ],
         "title": {
          "text": "Product"
         }
        },
        "yaxis": {
         "anchor": "x",
         "domain": [
          0,
          1
         ],
         "title": {
          "text": "Total"
         }
        }
       }
      },
      "text/html": [
       "<div>                            <div id=\"ccc38d8b-26d0-48be-9607-4ad4213d1081\" class=\"plotly-graph-div\" style=\"height:525px; width:100%;\"></div>            <script type=\"text/javascript\">                require([\"plotly\"], function(Plotly) {                    window.PLOTLYENV=window.PLOTLYENV || {};                                    if (document.getElementById(\"ccc38d8b-26d0-48be-9607-4ad4213d1081\")) {                    Plotly.newPlot(                        \"ccc38d8b-26d0-48be-9607-4ad4213d1081\",                        [{\"alignmentgroup\":\"True\",\"hovertemplate\":\"Product=%{x}\\u003cbr\\u003eTotal=%{y}\\u003cextra\\u003e\\u003c\\u002fextra\\u003e\",\"legendgroup\":\"\",\"marker\":{\"color\":\"#636efa\",\"pattern\":{\"shape\":\"\"}},\"name\":\"\",\"offsetgroup\":\"\",\"orientation\":\"v\",\"showlegend\":false,\"textposition\":\"auto\",\"x\":[\"Wheat & Rye (Bread)\",\"Maize (Meal)\",\"Barley (Beer)\",\"Oatmeal\",\"Rice\",\"Potatoes\",\"Cassava\",\"Cane Sugar\",\"Beet Sugar\",\"Other Pulses\",\"Peas\",\"Nuts\",\"Groundnuts\",\"Soymilk\",\"Tofu\",\"Soybean Oil\",\"Palm Oil\",\"Sunflower Oil\",\"Rapeseed Oil\",\"Olive Oil\",\"Tomatoes\",\"Onions & Leeks\",\"Root Vegetables\",\"Brassicas\",\"Other Vegetables\",\"Citrus Fruit\",\"Bananas\",\"Apples\",\"Berries & Grapes\",\"Wine\",\"Other Fruit\",\"Coffee\",\"Dark Chocolate\",\"Bovine Meat (beef herd)\",\"Bovine Meat (dairy herd)\",\"Lamb & Mutton\",\"Pig Meat\",\"Poultry Meat\",\"Milk\",\"Cheese\",\"Eggs\",\"Fish (farmed)\",\"Crustaceans (farmed)\"],\"xaxis\":\"x\",\"y\":[3.4819999999999998,1.6280000000000001,0.9400000000000001,4.766,2.401,0.643,1.254,1.594,1.433,13.620000000000001,6.7379999999999995,5.08,6.971,0.5920000000000001,3.154,10.174,2.4379999999999997,17.194,10.548,28.302,0.51,0.28500000000000003,0.263,0.45199999999999996,0.31,0.675,1.23,0.49300000000000005,1.6400000000000001,1.553,0.61,11.721,23.693,193.66600000000003,25.728,223.306,10.156,7.49,8.004000000000001,80.642,6.049,3.378,1.429],\"yaxis\":\"y\",\"type\":\"bar\"}],                        {\"template\":{\"data\":{\"histogram2dcontour\":[{\"type\":\"histogram2dcontour\",\"colorbar\":{\"outlinewidth\":0,\"ticks\":\"\"},\"colorscale\":[[0.0,\"#0d0887\"],[0.1111111111111111,\"#46039f\"],[0.2222222222222222,\"#7201a8\"],[0.3333333333333333,\"#9c179e\"],[0.4444444444444444,\"#bd3786\"],[0.5555555555555556,\"#d8576b\"],[0.6666666666666666,\"#ed7953\"],[0.7777777777777778,\"#fb9f3a\"],[0.8888888888888888,\"#fdca26\"],[1.0,\"#f0f921\"]]}],\"choropleth\":[{\"type\":\"choropleth\",\"colorbar\":{\"outlinewidth\":0,\"ticks\":\"\"}}],\"histogram2d\":[{\"type\":\"histogram2d\",\"colorbar\":{\"outlinewidth\":0,\"ticks\":\"\"},\"colorscale\":[[0.0,\"#0d0887\"],[0.1111111111111111,\"#46039f\"],[0.2222222222222222,\"#7201a8\"],[0.3333333333333333,\"#9c179e\"],[0.4444444444444444,\"#bd3786\"],[0.5555555555555556,\"#d8576b\"],[0.6666666666666666,\"#ed7953\"],[0.7777777777777778,\"#fb9f3a\"],[0.8888888888888888,\"#fdca26\"],[1.0,\"#f0f921\"]]}],\"heatmap\":[{\"type\":\"heatmap\",\"colorbar\":{\"outlinewidth\":0,\"ticks\":\"\"},\"colorscale\":[[0.0,\"#0d0887\"],[0.1111111111111111,\"#46039f\"],[0.2222222222222222,\"#7201a8\"],[0.3333333333333333,\"#9c179e\"],[0.4444444444444444,\"#bd3786\"],[0.5555555555555556,\"#d8576b\"],[0.6666666666666666,\"#ed7953\"],[0.7777777777777778,\"#fb9f3a\"],[0.8888888888888888,\"#fdca26\"],[1.0,\"#f0f921\"]]}],\"heatmapgl\":[{\"type\":\"heatmapgl\",\"colorbar\":{\"outlinewidth\":0,\"ticks\":\"\"},\"colorscale\":[[0.0,\"#0d0887\"],[0.1111111111111111,\"#46039f\"],[0.2222222222222222,\"#7201a8\"],[0.3333333333333333,\"#9c179e\"],[0.4444444444444444,\"#bd3786\"],[0.5555555555555556,\"#d8576b\"],[0.6666666666666666,\"#ed7953\"],[0.7777777777777778,\"#fb9f3a\"],[0.8888888888888888,\"#fdca26\"],[1.0,\"#f0f921\"]]}],\"contourcarpet\":[{\"type\":\"contourcarpet\",\"colorbar\":{\"outlinewidth\":0,\"ticks\":\"\"}}],\"contour\":[{\"type\":\"contour\",\"colorbar\":{\"outlinewidth\":0,\"ticks\":\"\"},\"colorscale\":[[0.0,\"#0d0887\"],[0.1111111111111111,\"#46039f\"],[0.2222222222222222,\"#7201a8\"],[0.3333333333333333,\"#9c179e\"],[0.4444444444444444,\"#bd3786\"],[0.5555555555555556,\"#d8576b\"],[0.6666666666666666,\"#ed7953\"],[0.7777777777777778,\"#fb9f3a\"],[0.8888888888888888,\"#fdca26\"],[1.0,\"#f0f921\"]]}],\"surface\":[{\"type\":\"surface\",\"colorbar\":{\"outlinewidth\":0,\"ticks\":\"\"},\"colorscale\":[[0.0,\"#0d0887\"],[0.1111111111111111,\"#46039f\"],[0.2222222222222222,\"#7201a8\"],[0.3333333333333333,\"#9c179e\"],[0.4444444444444444,\"#bd3786\"],[0.5555555555555556,\"#d8576b\"],[0.6666666666666666,\"#ed7953\"],[0.7777777777777778,\"#fb9f3a\"],[0.8888888888888888,\"#fdca26\"],[1.0,\"#f0f921\"]]}],\"mesh3d\":[{\"type\":\"mesh3d\",\"colorbar\":{\"outlinewidth\":0,\"ticks\":\"\"}}],\"scatter\":[{\"fillpattern\":{\"fillmode\":\"overlay\",\"size\":10,\"solidity\":0.2},\"type\":\"scatter\"}],\"parcoords\":[{\"type\":\"parcoords\",\"line\":{\"colorbar\":{\"outlinewidth\":0,\"ticks\":\"\"}}}],\"scatterpolargl\":[{\"type\":\"scatterpolargl\",\"marker\":{\"colorbar\":{\"outlinewidth\":0,\"ticks\":\"\"}}}],\"bar\":[{\"error_x\":{\"color\":\"#2a3f5f\"},\"error_y\":{\"color\":\"#2a3f5f\"},\"marker\":{\"line\":{\"color\":\"#E5ECF6\",\"width\":0.5},\"pattern\":{\"fillmode\":\"overlay\",\"size\":10,\"solidity\":0.2}},\"type\":\"bar\"}],\"scattergeo\":[{\"type\":\"scattergeo\",\"marker\":{\"colorbar\":{\"outlinewidth\":0,\"ticks\":\"\"}}}],\"scatterpolar\":[{\"type\":\"scatterpolar\",\"marker\":{\"colorbar\":{\"outlinewidth\":0,\"ticks\":\"\"}}}],\"histogram\":[{\"marker\":{\"pattern\":{\"fillmode\":\"overlay\",\"size\":10,\"solidity\":0.2}},\"type\":\"histogram\"}],\"scattergl\":[{\"type\":\"scattergl\",\"marker\":{\"colorbar\":{\"outlinewidth\":0,\"ticks\":\"\"}}}],\"scatter3d\":[{\"type\":\"scatter3d\",\"line\":{\"colorbar\":{\"outlinewidth\":0,\"ticks\":\"\"}},\"marker\":{\"colorbar\":{\"outlinewidth\":0,\"ticks\":\"\"}}}],\"scattermapbox\":[{\"type\":\"scattermapbox\",\"marker\":{\"colorbar\":{\"outlinewidth\":0,\"ticks\":\"\"}}}],\"scatterternary\":[{\"type\":\"scatterternary\",\"marker\":{\"colorbar\":{\"outlinewidth\":0,\"ticks\":\"\"}}}],\"scattercarpet\":[{\"type\":\"scattercarpet\",\"marker\":{\"colorbar\":{\"outlinewidth\":0,\"ticks\":\"\"}}}],\"carpet\":[{\"aaxis\":{\"endlinecolor\":\"#2a3f5f\",\"gridcolor\":\"white\",\"linecolor\":\"white\",\"minorgridcolor\":\"white\",\"startlinecolor\":\"#2a3f5f\"},\"baxis\":{\"endlinecolor\":\"#2a3f5f\",\"gridcolor\":\"white\",\"linecolor\":\"white\",\"minorgridcolor\":\"white\",\"startlinecolor\":\"#2a3f5f\"},\"type\":\"carpet\"}],\"table\":[{\"cells\":{\"fill\":{\"color\":\"#EBF0F8\"},\"line\":{\"color\":\"white\"}},\"header\":{\"fill\":{\"color\":\"#C8D4E3\"},\"line\":{\"color\":\"white\"}},\"type\":\"table\"}],\"barpolar\":[{\"marker\":{\"line\":{\"color\":\"#E5ECF6\",\"width\":0.5},\"pattern\":{\"fillmode\":\"overlay\",\"size\":10,\"solidity\":0.2}},\"type\":\"barpolar\"}],\"pie\":[{\"automargin\":true,\"type\":\"pie\"}]},\"layout\":{\"autotypenumbers\":\"strict\",\"colorway\":[\"#636efa\",\"#EF553B\",\"#00cc96\",\"#ab63fa\",\"#FFA15A\",\"#19d3f3\",\"#FF6692\",\"#B6E880\",\"#FF97FF\",\"#FECB52\"],\"font\":{\"color\":\"#2a3f5f\"},\"hovermode\":\"closest\",\"hoverlabel\":{\"align\":\"left\"},\"paper_bgcolor\":\"white\",\"plot_bgcolor\":\"#E5ECF6\",\"polar\":{\"bgcolor\":\"#E5ECF6\",\"angularaxis\":{\"gridcolor\":\"white\",\"linecolor\":\"white\",\"ticks\":\"\"},\"radialaxis\":{\"gridcolor\":\"white\",\"linecolor\":\"white\",\"ticks\":\"\"}},\"ternary\":{\"bgcolor\":\"#E5ECF6\",\"aaxis\":{\"gridcolor\":\"white\",\"linecolor\":\"white\",\"ticks\":\"\"},\"baxis\":{\"gridcolor\":\"white\",\"linecolor\":\"white\",\"ticks\":\"\"},\"caxis\":{\"gridcolor\":\"white\",\"linecolor\":\"white\",\"ticks\":\"\"}},\"coloraxis\":{\"colorbar\":{\"outlinewidth\":0,\"ticks\":\"\"}},\"colorscale\":{\"sequential\":[[0.0,\"#0d0887\"],[0.1111111111111111,\"#46039f\"],[0.2222222222222222,\"#7201a8\"],[0.3333333333333333,\"#9c179e\"],[0.4444444444444444,\"#bd3786\"],[0.5555555555555556,\"#d8576b\"],[0.6666666666666666,\"#ed7953\"],[0.7777777777777778,\"#fb9f3a\"],[0.8888888888888888,\"#fdca26\"],[1.0,\"#f0f921\"]],\"sequentialminus\":[[0.0,\"#0d0887\"],[0.1111111111111111,\"#46039f\"],[0.2222222222222222,\"#7201a8\"],[0.3333333333333333,\"#9c179e\"],[0.4444444444444444,\"#bd3786\"],[0.5555555555555556,\"#d8576b\"],[0.6666666666666666,\"#ed7953\"],[0.7777777777777778,\"#fb9f3a\"],[0.8888888888888888,\"#fdca26\"],[1.0,\"#f0f921\"]],\"diverging\":[[0,\"#8e0152\"],[0.1,\"#c51b7d\"],[0.2,\"#de77ae\"],[0.3,\"#f1b6da\"],[0.4,\"#fde0ef\"],[0.5,\"#f7f7f7\"],[0.6,\"#e6f5d0\"],[0.7,\"#b8e186\"],[0.8,\"#7fbc41\"],[0.9,\"#4d9221\"],[1,\"#276419\"]]},\"xaxis\":{\"gridcolor\":\"white\",\"linecolor\":\"white\",\"ticks\":\"\",\"title\":{\"standoff\":15},\"zerolinecolor\":\"white\",\"automargin\":true,\"zerolinewidth\":2},\"yaxis\":{\"gridcolor\":\"white\",\"linecolor\":\"white\",\"ticks\":\"\",\"title\":{\"standoff\":15},\"zerolinecolor\":\"white\",\"automargin\":true,\"zerolinewidth\":2},\"scene\":{\"xaxis\":{\"backgroundcolor\":\"#E5ECF6\",\"gridcolor\":\"white\",\"linecolor\":\"white\",\"showbackground\":true,\"ticks\":\"\",\"zerolinecolor\":\"white\",\"gridwidth\":2},\"yaxis\":{\"backgroundcolor\":\"#E5ECF6\",\"gridcolor\":\"white\",\"linecolor\":\"white\",\"showbackground\":true,\"ticks\":\"\",\"zerolinecolor\":\"white\",\"gridwidth\":2},\"zaxis\":{\"backgroundcolor\":\"#E5ECF6\",\"gridcolor\":\"white\",\"linecolor\":\"white\",\"showbackground\":true,\"ticks\":\"\",\"zerolinecolor\":\"white\",\"gridwidth\":2}},\"shapedefaults\":{\"line\":{\"color\":\"#2a3f5f\"}},\"annotationdefaults\":{\"arrowcolor\":\"#2a3f5f\",\"arrowhead\":0,\"arrowwidth\":1},\"geo\":{\"bgcolor\":\"white\",\"landcolor\":\"#E5ECF6\",\"subunitcolor\":\"white\",\"showland\":true,\"showlakes\":true,\"lakecolor\":\"white\"},\"title\":{\"x\":0.05},\"mapbox\":{\"style\":\"light\"}}},\"xaxis\":{\"anchor\":\"y\",\"domain\":[0.0,1.0],\"title\":{\"text\":\"Product\"}},\"yaxis\":{\"anchor\":\"x\",\"domain\":[0.0,1.0],\"title\":{\"text\":\"Total\"}},\"legend\":{\"tracegroupgap\":0},\"margin\":{\"t\":60},\"barmode\":\"relative\",\"updatemenus\":[{\"buttons\":[{\"args\":[{\"x\":[[\"Wheat & Rye (Bread)\",\"Maize (Meal)\",\"Barley (Beer)\",\"Oatmeal\",\"Rice\",\"Potatoes\",\"Cassava\",\"Cane Sugar\",\"Beet Sugar\",\"Other Pulses\",\"Peas\",\"Nuts\",\"Groundnuts\",\"Soymilk\",\"Tofu\",\"Soybean Oil\",\"Palm Oil\",\"Sunflower Oil\",\"Rapeseed Oil\",\"Olive Oil\",\"Tomatoes\",\"Onions & Leeks\",\"Root Vegetables\",\"Brassicas\",\"Other Vegetables\",\"Citrus Fruit\",\"Bananas\",\"Apples\",\"Berries & Grapes\",\"Wine\",\"Other Fruit\",\"Coffee\",\"Dark Chocolate\",\"Bovine Meat (beef herd)\",\"Bovine Meat (dairy herd)\",\"Lamb & Mutton\",\"Pig Meat\",\"Poultry Meat\",\"Milk\",\"Cheese\",\"Eggs\",\"Fish (farmed)\",\"Crustaceans (farmed)\"]]},{\"xaxis\":{\"title\":{\"text\":\"Product\"}}}],\"label\":\"Product\",\"method\":\"update\"},{\"args\":[{\"x\":[[\"Wheat & Rye (Bread)\",\"Maize (Meal)\",\"Barley (Beer)\",\"Oatmeal\",\"Rice\",\"Potatoes\",\"Cassava\",\"Cane Sugar\",\"Beet Sugar\",\"Other Pulses\",\"Peas\",\"Nuts\",\"Groundnuts\",\"Soymilk\",\"Tofu\",\"Soybean Oil\",\"Palm Oil\",\"Sunflower Oil\",\"Rapeseed Oil\",\"Olive Oil\",\"Tomatoes\",\"Onions & Leeks\",\"Root Vegetables\",\"Brassicas\",\"Other Vegetables\",\"Citrus Fruit\",\"Bananas\",\"Apples\",\"Berries & Grapes\",\"Wine\",\"Other Fruit\",\"Coffee\",\"Dark Chocolate\",\"Bovine Meat (beef herd)\",\"Bovine Meat (dairy herd)\",\"Lamb & Mutton\",\"Pig Meat\",\"Poultry Meat\",\"Milk\",\"Cheese\",\"Eggs\",\"Fish (farmed)\",\"Crustaceans (farmed)\"]]},{\"xaxis\":{\"title\":{\"text\":\"Product\"}}}],\"label\":\"Product\",\"method\":\"update\"},{\"args\":[{\"x\":[[\"Wheat & Rye (Bread)\",\"Maize (Meal)\",\"Barley (Beer)\",\"Oatmeal\",\"Rice\",\"Potatoes\",\"Cassava\",\"Cane Sugar\",\"Beet Sugar\",\"Other Pulses\",\"Peas\",\"Nuts\",\"Groundnuts\",\"Soymilk\",\"Tofu\",\"Soybean Oil\",\"Palm Oil\",\"Sunflower Oil\",\"Rapeseed Oil\",\"Olive Oil\",\"Tomatoes\",\"Onions & Leeks\",\"Root Vegetables\",\"Brassicas\",\"Other Vegetables\",\"Citrus Fruit\",\"Bananas\",\"Apples\",\"Berries & Grapes\",\"Wine\",\"Other Fruit\",\"Coffee\",\"Dark Chocolate\",\"Bovine Meat (beef herd)\",\"Bovine Meat (dairy herd)\",\"Lamb & Mutton\",\"Pig Meat\",\"Poultry Meat\",\"Milk\",\"Cheese\",\"Eggs\",\"Fish (farmed)\",\"Crustaceans (farmed)\"]]},{\"xaxis\":{\"title\":{\"text\":\"Product\"}}}],\"label\":\"Product\",\"method\":\"update\"},{\"args\":[{\"x\":[[\"Wheat & Rye (Bread)\",\"Maize (Meal)\",\"Barley (Beer)\",\"Oatmeal\",\"Rice\",\"Potatoes\",\"Cassava\",\"Cane Sugar\",\"Beet Sugar\",\"Other Pulses\",\"Peas\",\"Nuts\",\"Groundnuts\",\"Soymilk\",\"Tofu\",\"Soybean Oil\",\"Palm Oil\",\"Sunflower Oil\",\"Rapeseed Oil\",\"Olive Oil\",\"Tomatoes\",\"Onions & Leeks\",\"Root Vegetables\",\"Brassicas\",\"Other Vegetables\",\"Citrus Fruit\",\"Bananas\",\"Apples\",\"Berries & Grapes\",\"Wine\",\"Other Fruit\",\"Coffee\",\"Dark Chocolate\",\"Bovine Meat (beef herd)\",\"Bovine Meat (dairy herd)\",\"Lamb & Mutton\",\"Pig Meat\",\"Poultry Meat\",\"Milk\",\"Cheese\",\"Eggs\",\"Fish (farmed)\",\"Crustaceans (farmed)\"]]},{\"xaxis\":{\"title\":{\"text\":\"Product\"}}}],\"label\":\"Product\",\"method\":\"update\"}],\"x\":0,\"y\":1.2},{\"buttons\":[{\"args\":[{\"y\":[[2.55,1.171,0.674,3.414,2.093,0.498,0.934,1.213,1.159,9.851,5.354,4.681,5.802,0.464,2.473,7.815,2.259,13.581,8.458,27.213,0.328,0.219,0.231,0.303,0.223,0.637,1.23,0.465,0.741,1.553,0.465,10.683,18.634,20.507,10.096,9.292,7.882,5.66,1.327,12.104,4.652,2.67,1.197]]},{\"yaxis\":{\"title\":{\"text\":\"Arable\"}}}],\"label\":\"Arable\",\"method\":\"update\"},{\"args\":[{\"y\":[[0.932,0.457,0.266,1.352,0.308,0.145,0.32,0.381,0.274,3.769,1.384,0.399,1.169,0.128,0.681,2.359,0.179,3.613,2.09,1.089,0.182,0.066,0.032,0.149,0.087,0.038,0.0,0.028,0.899,0.0,0.145,1.038,5.059,5.067,1.965,1.666,2.23,1.83,0.402,3.658,1.397,0.708,0.232]]},{\"yaxis\":{\"title\":{\"text\":\"Fallow\"}}}],\"label\":\"Fallow\",\"method\":\"update\"},{\"args\":[{\"y\":[[0.0,0.0,0.0,0.0,0.0,0.0,0.0,0.0,0.0,0.0,0.0,0.0,0.0,0.0,0.0,0.0,0.0,0.0,0.0,0.0,0.0,0.0,0.0,0.0,0.0,0.0,0.0,0.0,0.0,0.0,0.0,0.0,0.0,168.092,13.667,212.348,0.044,0.0,6.275,64.88,0.0,0.0,0.0]]},{\"yaxis\":{\"title\":{\"text\":\"Perm Past\"}}}],\"label\":\"Perm Past\",\"method\":\"update\"},{\"args\":[{\"y\":[[3.4819999999999998,1.6280000000000001,0.9400000000000001,4.766,2.401,0.643,1.254,1.594,1.433,13.620000000000001,6.7379999999999995,5.08,6.971,0.5920000000000001,3.154,10.174,2.4379999999999997,17.194,10.548,28.302,0.51,0.28500000000000003,0.263,0.45199999999999996,0.31,0.675,1.23,0.49300000000000005,1.6400000000000001,1.553,0.61,11.721,23.693,193.66600000000003,25.728,223.306,10.156,7.49,8.004000000000001,80.642,6.049,3.378,1.429]]},{\"yaxis\":{\"title\":{\"text\":\"Total\"}}}],\"label\":\"Total\",\"method\":\"update\"}],\"x\":0.1,\"y\":1.2}]},                        {\"responsive\": true}                    ).then(function(){\n",
       "                            \n",
       "var gd = document.getElementById('ccc38d8b-26d0-48be-9607-4ad4213d1081');\n",
       "var x = new MutationObserver(function (mutations, observer) {{\n",
       "        var display = window.getComputedStyle(gd).display;\n",
       "        if (!display || display === 'none') {{\n",
       "            console.log([gd, 'removed!']);\n",
       "            Plotly.purge(gd);\n",
       "            observer.disconnect();\n",
       "        }}\n",
       "}});\n",
       "\n",
       "// Listen for the removal of the full notebook cells\n",
       "var notebookContainer = gd.closest('#notebook-container');\n",
       "if (notebookContainer) {{\n",
       "    x.observe(notebookContainer, {childList: true});\n",
       "}}\n",
       "\n",
       "// Listen for the clearing of the current output cell\n",
       "var outputEl = gd.closest('.output');\n",
       "if (outputEl) {{\n",
       "    x.observe(outputEl, {childList: true});\n",
       "}}\n",
       "\n",
       "                        })                };                });            </script>        </div>"
      ]
     },
     "metadata": {},
     "output_type": "display_data"
    }
   ],
   "source": [
    "import pandas as pd\n",
    "import numpy as np\n",
    "import plotly.express as px\n",
    "\n",
    "df_land = pd.read_excel('dataset1.xls', sheet_name=2, skiprows=2, nrows=43, usecols=\"A, C:E\")\n",
    "df_land['Total'] = df_land[['Arable', 'Fallow', 'Perm Past']].sum(axis=1)\n",
    "\n",
    "df_ghg = pd.read_excel('dataset1.xls', sheet_name=2, skiprows=2, nrows=43, usecols=\"A, F:L\")\n",
    "df_ghg['Total'] = df_ghg[['LUC', 'Feed', 'Farm', 'Processing', 'Transport', 'Packging', 'Retail']].sum(axis=1)\n",
    "\n",
    "df_eutr = pd.read_excel('dataset1.xls', sheet_name=2, skiprows=2, nrows=43, usecols=\"A, N\")\n",
    "df_fresh = pd.read_excel('dataset1.xls', sheet_name=2, skiprows=2, nrows=43, usecols=\"A, O\")\n",
    "\n",
    "temp = df_land\n",
    "col_list = df_land.columns\n",
    "temp.columns = col_list\n",
    "\n",
    "fig = px.bar(temp, x=\"Product\", y=\"Total\")\n",
    "\n",
    "fig.update_layout(\n",
    "    updatemenus=[\n",
    "        {\n",
    "            \"buttons\": [\n",
    "                {\n",
    "                    \"label\": \"Product\" if axis == \"x\" else c,\n",
    "                    \"method\": \"update\",\n",
    "                    \"args\": [\n",
    "                        {axis: [temp[\"Product\"] if axis == \"x\" else temp[c]]},\n",
    "                        {f\"{axis}axis\": {\"title\": {\"text\": \"Product\" if axis == \"x\" else c}}},\n",
    "                    ],\n",
    "                }\n",
    "                for c in temp.columns[1:]  # Exclude the first column (Product) for y-axis dropdown\n",
    "            ],\n",
    "            \"x\": 0 if axis == \"x\" else 0.1,\n",
    "            \"y\": 1.2,\n",
    "        }\n",
    "        for axis in \"xy\"\n",
    "    ]\n",
    ")\n",
    "\n",
    "fig.show()\n"
   ]
  },
  {
   "cell_type": "code",
   "execution_count": null,
   "id": "ce8d9892",
   "metadata": {},
   "outputs": [],
   "source": []
  }
 ],
 "metadata": {
  "kernelspec": {
   "display_name": "Python 3 (ipykernel)",
   "language": "python",
   "name": "python3"
  },
  "language_info": {
   "codemirror_mode": {
    "name": "ipython",
    "version": 3
   },
   "file_extension": ".py",
   "mimetype": "text/x-python",
   "name": "python",
   "nbconvert_exporter": "python",
   "pygments_lexer": "ipython3",
   "version": "3.11.2"
  }
 },
 "nbformat": 4,
 "nbformat_minor": 5
}
