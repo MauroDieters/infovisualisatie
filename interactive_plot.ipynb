{
 "cells": [
  {
   "cell_type": "code",
   "execution_count": 38,
   "id": "bba12f07",
   "metadata": {
    "scrolled": true
   },
   "outputs": [
    {
     "data": {
      "application/vnd.plotly.v1+json": {
       "config": {
        "plotlyServerURL": "https://plot.ly"
       },
       "data": [
        {
         "alignmentgroup": "True",
         "hovertemplate": "Product=%{x}<br>Total=%{y}<extra></extra>",
         "legendgroup": "",
         "marker": {
          "color": "#636efa",
          "pattern": {
           "shape": ""
          }
         },
         "name": "",
         "offsetgroup": "",
         "orientation": "v",
         "showlegend": false,
         "textposition": "auto",
         "type": "bar",
         "x": [
          "Wheat & Rye (Bread)",
          "Maize (Meal)",
          "Barley (Beer)",
          "Oatmeal",
          "Rice",
          "Potatoes",
          "Cassava",
          "Cane Sugar",
          "Beet Sugar",
          "Other Pulses",
          "Peas",
          "Nuts",
          "Groundnuts",
          "Soymilk",
          "Tofu",
          "Soybean Oil",
          "Palm Oil",
          "Sunflower Oil",
          "Rapeseed Oil",
          "Olive Oil",
          "Tomatoes",
          "Onions & Leeks",
          "Root Vegetables",
          "Brassicas",
          "Other Vegetables",
          "Citrus Fruit",
          "Bananas",
          "Apples",
          "Berries & Grapes",
          "Wine",
          "Other Fruit",
          "Coffee",
          "Dark Chocolate",
          "Bovine Meat (beef herd)",
          "Bovine Meat (dairy herd)",
          "Lamb & Mutton",
          "Pig Meat",
          "Poultry Meat",
          "Milk",
          "Cheese",
          "Eggs",
          "Fish (farmed)",
          "Crustaceans (farmed)"
         ],
         "xaxis": "x",
         "y": [
          3.4819999999999998,
          1.6280000000000001,
          0.9400000000000001,
          4.766,
          2.401,
          0.643,
          1.254,
          1.594,
          1.433,
          13.620000000000001,
          6.7379999999999995,
          5.08,
          6.971,
          0.5920000000000001,
          3.154,
          10.174,
          2.4379999999999997,
          17.194,
          10.548,
          28.302,
          0.51,
          0.28500000000000003,
          0.263,
          0.45199999999999996,
          0.31,
          0.675,
          1.23,
          0.49300000000000005,
          1.6400000000000001,
          1.553,
          0.61,
          11.721,
          23.693,
          193.66600000000003,
          25.728,
          223.306,
          10.156,
          7.49,
          8.004000000000001,
          80.642,
          6.049,
          3.378,
          1.429
         ],
         "yaxis": "y"
        }
       ],
       "layout": {
        "barmode": "relative",
        "font": {
         "family": "Lato, \"Helvetica Neue\", Helvetica, Arial, \"Liberation Sans\", sans-serif",
         "size": 10
        },
        "height": 500,
        "legend": {
         "tracegroupgap": 0
        },
        "margin": {
         "t": 60
        },
        "template": {
         "data": {
          "bar": [
           {
            "error_x": {
             "color": "#2a3f5f"
            },
            "error_y": {
             "color": "#2a3f5f"
            },
            "marker": {
             "line": {
              "color": "#E5ECF6",
              "width": 0.5
             },
             "pattern": {
              "fillmode": "overlay",
              "size": 10,
              "solidity": 0.2
             }
            },
            "type": "bar"
           }
          ],
          "barpolar": [
           {
            "marker": {
             "line": {
              "color": "#E5ECF6",
              "width": 0.5
             },
             "pattern": {
              "fillmode": "overlay",
              "size": 10,
              "solidity": 0.2
             }
            },
            "type": "barpolar"
           }
          ],
          "carpet": [
           {
            "aaxis": {
             "endlinecolor": "#2a3f5f",
             "gridcolor": "white",
             "linecolor": "white",
             "minorgridcolor": "white",
             "startlinecolor": "#2a3f5f"
            },
            "baxis": {
             "endlinecolor": "#2a3f5f",
             "gridcolor": "white",
             "linecolor": "white",
             "minorgridcolor": "white",
             "startlinecolor": "#2a3f5f"
            },
            "type": "carpet"
           }
          ],
          "choropleth": [
           {
            "colorbar": {
             "outlinewidth": 0,
             "ticks": ""
            },
            "type": "choropleth"
           }
          ],
          "contour": [
           {
            "colorbar": {
             "outlinewidth": 0,
             "ticks": ""
            },
            "colorscale": [
             [
              0,
              "#0d0887"
             ],
             [
              0.1111111111111111,
              "#46039f"
             ],
             [
              0.2222222222222222,
              "#7201a8"
             ],
             [
              0.3333333333333333,
              "#9c179e"
             ],
             [
              0.4444444444444444,
              "#bd3786"
             ],
             [
              0.5555555555555556,
              "#d8576b"
             ],
             [
              0.6666666666666666,
              "#ed7953"
             ],
             [
              0.7777777777777778,
              "#fb9f3a"
             ],
             [
              0.8888888888888888,
              "#fdca26"
             ],
             [
              1,
              "#f0f921"
             ]
            ],
            "type": "contour"
           }
          ],
          "contourcarpet": [
           {
            "colorbar": {
             "outlinewidth": 0,
             "ticks": ""
            },
            "type": "contourcarpet"
           }
          ],
          "heatmap": [
           {
            "colorbar": {
             "outlinewidth": 0,
             "ticks": ""
            },
            "colorscale": [
             [
              0,
              "#0d0887"
             ],
             [
              0.1111111111111111,
              "#46039f"
             ],
             [
              0.2222222222222222,
              "#7201a8"
             ],
             [
              0.3333333333333333,
              "#9c179e"
             ],
             [
              0.4444444444444444,
              "#bd3786"
             ],
             [
              0.5555555555555556,
              "#d8576b"
             ],
             [
              0.6666666666666666,
              "#ed7953"
             ],
             [
              0.7777777777777778,
              "#fb9f3a"
             ],
             [
              0.8888888888888888,
              "#fdca26"
             ],
             [
              1,
              "#f0f921"
             ]
            ],
            "type": "heatmap"
           }
          ],
          "heatmapgl": [
           {
            "colorbar": {
             "outlinewidth": 0,
             "ticks": ""
            },
            "colorscale": [
             [
              0,
              "#0d0887"
             ],
             [
              0.1111111111111111,
              "#46039f"
             ],
             [
              0.2222222222222222,
              "#7201a8"
             ],
             [
              0.3333333333333333,
              "#9c179e"
             ],
             [
              0.4444444444444444,
              "#bd3786"
             ],
             [
              0.5555555555555556,
              "#d8576b"
             ],
             [
              0.6666666666666666,
              "#ed7953"
             ],
             [
              0.7777777777777778,
              "#fb9f3a"
             ],
             [
              0.8888888888888888,
              "#fdca26"
             ],
             [
              1,
              "#f0f921"
             ]
            ],
            "type": "heatmapgl"
           }
          ],
          "histogram": [
           {
            "marker": {
             "pattern": {
              "fillmode": "overlay",
              "size": 10,
              "solidity": 0.2
             }
            },
            "type": "histogram"
           }
          ],
          "histogram2d": [
           {
            "colorbar": {
             "outlinewidth": 0,
             "ticks": ""
            },
            "colorscale": [
             [
              0,
              "#0d0887"
             ],
             [
              0.1111111111111111,
              "#46039f"
             ],
             [
              0.2222222222222222,
              "#7201a8"
             ],
             [
              0.3333333333333333,
              "#9c179e"
             ],
             [
              0.4444444444444444,
              "#bd3786"
             ],
             [
              0.5555555555555556,
              "#d8576b"
             ],
             [
              0.6666666666666666,
              "#ed7953"
             ],
             [
              0.7777777777777778,
              "#fb9f3a"
             ],
             [
              0.8888888888888888,
              "#fdca26"
             ],
             [
              1,
              "#f0f921"
             ]
            ],
            "type": "histogram2d"
           }
          ],
          "histogram2dcontour": [
           {
            "colorbar": {
             "outlinewidth": 0,
             "ticks": ""
            },
            "colorscale": [
             [
              0,
              "#0d0887"
             ],
             [
              0.1111111111111111,
              "#46039f"
             ],
             [
              0.2222222222222222,
              "#7201a8"
             ],
             [
              0.3333333333333333,
              "#9c179e"
             ],
             [
              0.4444444444444444,
              "#bd3786"
             ],
             [
              0.5555555555555556,
              "#d8576b"
             ],
             [
              0.6666666666666666,
              "#ed7953"
             ],
             [
              0.7777777777777778,
              "#fb9f3a"
             ],
             [
              0.8888888888888888,
              "#fdca26"
             ],
             [
              1,
              "#f0f921"
             ]
            ],
            "type": "histogram2dcontour"
           }
          ],
          "mesh3d": [
           {
            "colorbar": {
             "outlinewidth": 0,
             "ticks": ""
            },
            "type": "mesh3d"
           }
          ],
          "parcoords": [
           {
            "line": {
             "colorbar": {
              "outlinewidth": 0,
              "ticks": ""
             }
            },
            "type": "parcoords"
           }
          ],
          "pie": [
           {
            "automargin": true,
            "type": "pie"
           }
          ],
          "scatter": [
           {
            "fillpattern": {
             "fillmode": "overlay",
             "size": 10,
             "solidity": 0.2
            },
            "type": "scatter"
           }
          ],
          "scatter3d": [
           {
            "line": {
             "colorbar": {
              "outlinewidth": 0,
              "ticks": ""
             }
            },
            "marker": {
             "colorbar": {
              "outlinewidth": 0,
              "ticks": ""
             }
            },
            "type": "scatter3d"
           }
          ],
          "scattercarpet": [
           {
            "marker": {
             "colorbar": {
              "outlinewidth": 0,
              "ticks": ""
             }
            },
            "type": "scattercarpet"
           }
          ],
          "scattergeo": [
           {
            "marker": {
             "colorbar": {
              "outlinewidth": 0,
              "ticks": ""
             }
            },
            "type": "scattergeo"
           }
          ],
          "scattergl": [
           {
            "marker": {
             "colorbar": {
              "outlinewidth": 0,
              "ticks": ""
             }
            },
            "type": "scattergl"
           }
          ],
          "scattermapbox": [
           {
            "marker": {
             "colorbar": {
              "outlinewidth": 0,
              "ticks": ""
             }
            },
            "type": "scattermapbox"
           }
          ],
          "scatterpolar": [
           {
            "marker": {
             "colorbar": {
              "outlinewidth": 0,
              "ticks": ""
             }
            },
            "type": "scatterpolar"
           }
          ],
          "scatterpolargl": [
           {
            "marker": {
             "colorbar": {
              "outlinewidth": 0,
              "ticks": ""
             }
            },
            "type": "scatterpolargl"
           }
          ],
          "scatterternary": [
           {
            "marker": {
             "colorbar": {
              "outlinewidth": 0,
              "ticks": ""
             }
            },
            "type": "scatterternary"
           }
          ],
          "surface": [
           {
            "colorbar": {
             "outlinewidth": 0,
             "ticks": ""
            },
            "colorscale": [
             [
              0,
              "#0d0887"
             ],
             [
              0.1111111111111111,
              "#46039f"
             ],
             [
              0.2222222222222222,
              "#7201a8"
             ],
             [
              0.3333333333333333,
              "#9c179e"
             ],
             [
              0.4444444444444444,
              "#bd3786"
             ],
             [
              0.5555555555555556,
              "#d8576b"
             ],
             [
              0.6666666666666666,
              "#ed7953"
             ],
             [
              0.7777777777777778,
              "#fb9f3a"
             ],
             [
              0.8888888888888888,
              "#fdca26"
             ],
             [
              1,
              "#f0f921"
             ]
            ],
            "type": "surface"
           }
          ],
          "table": [
           {
            "cells": {
             "fill": {
              "color": "#EBF0F8"
             },
             "line": {
              "color": "white"
             }
            },
            "header": {
             "fill": {
              "color": "#C8D4E3"
             },
             "line": {
              "color": "white"
             }
            },
            "type": "table"
           }
          ]
         },
         "layout": {
          "annotationdefaults": {
           "arrowcolor": "#2a3f5f",
           "arrowhead": 0,
           "arrowwidth": 1
          },
          "autotypenumbers": "strict",
          "coloraxis": {
           "colorbar": {
            "outlinewidth": 0,
            "ticks": ""
           }
          },
          "colorscale": {
           "diverging": [
            [
             0,
             "#8e0152"
            ],
            [
             0.1,
             "#c51b7d"
            ],
            [
             0.2,
             "#de77ae"
            ],
            [
             0.3,
             "#f1b6da"
            ],
            [
             0.4,
             "#fde0ef"
            ],
            [
             0.5,
             "#f7f7f7"
            ],
            [
             0.6,
             "#e6f5d0"
            ],
            [
             0.7,
             "#b8e186"
            ],
            [
             0.8,
             "#7fbc41"
            ],
            [
             0.9,
             "#4d9221"
            ],
            [
             1,
             "#276419"
            ]
           ],
           "sequential": [
            [
             0,
             "#0d0887"
            ],
            [
             0.1111111111111111,
             "#46039f"
            ],
            [
             0.2222222222222222,
             "#7201a8"
            ],
            [
             0.3333333333333333,
             "#9c179e"
            ],
            [
             0.4444444444444444,
             "#bd3786"
            ],
            [
             0.5555555555555556,
             "#d8576b"
            ],
            [
             0.6666666666666666,
             "#ed7953"
            ],
            [
             0.7777777777777778,
             "#fb9f3a"
            ],
            [
             0.8888888888888888,
             "#fdca26"
            ],
            [
             1,
             "#f0f921"
            ]
           ],
           "sequentialminus": [
            [
             0,
             "#0d0887"
            ],
            [
             0.1111111111111111,
             "#46039f"
            ],
            [
             0.2222222222222222,
             "#7201a8"
            ],
            [
             0.3333333333333333,
             "#9c179e"
            ],
            [
             0.4444444444444444,
             "#bd3786"
            ],
            [
             0.5555555555555556,
             "#d8576b"
            ],
            [
             0.6666666666666666,
             "#ed7953"
            ],
            [
             0.7777777777777778,
             "#fb9f3a"
            ],
            [
             0.8888888888888888,
             "#fdca26"
            ],
            [
             1,
             "#f0f921"
            ]
           ]
          },
          "colorway": [
           "#636efa",
           "#EF553B",
           "#00cc96",
           "#ab63fa",
           "#FFA15A",
           "#19d3f3",
           "#FF6692",
           "#B6E880",
           "#FF97FF",
           "#FECB52"
          ],
          "font": {
           "color": "#2a3f5f"
          },
          "geo": {
           "bgcolor": "white",
           "lakecolor": "white",
           "landcolor": "#E5ECF6",
           "showlakes": true,
           "showland": true,
           "subunitcolor": "white"
          },
          "hoverlabel": {
           "align": "left"
          },
          "hovermode": "closest",
          "mapbox": {
           "style": "light"
          },
          "paper_bgcolor": "white",
          "plot_bgcolor": "#E5ECF6",
          "polar": {
           "angularaxis": {
            "gridcolor": "white",
            "linecolor": "white",
            "ticks": ""
           },
           "bgcolor": "#E5ECF6",
           "radialaxis": {
            "gridcolor": "white",
            "linecolor": "white",
            "ticks": ""
           }
          },
          "scene": {
           "xaxis": {
            "backgroundcolor": "#E5ECF6",
            "gridcolor": "white",
            "gridwidth": 2,
            "linecolor": "white",
            "showbackground": true,
            "ticks": "",
            "zerolinecolor": "white"
           },
           "yaxis": {
            "backgroundcolor": "#E5ECF6",
            "gridcolor": "white",
            "gridwidth": 2,
            "linecolor": "white",
            "showbackground": true,
            "ticks": "",
            "zerolinecolor": "white"
           },
           "zaxis": {
            "backgroundcolor": "#E5ECF6",
            "gridcolor": "white",
            "gridwidth": 2,
            "linecolor": "white",
            "showbackground": true,
            "ticks": "",
            "zerolinecolor": "white"
           }
          },
          "shapedefaults": {
           "line": {
            "color": "#2a3f5f"
           }
          },
          "ternary": {
           "aaxis": {
            "gridcolor": "white",
            "linecolor": "white",
            "ticks": ""
           },
           "baxis": {
            "gridcolor": "white",
            "linecolor": "white",
            "ticks": ""
           },
           "bgcolor": "#E5ECF6",
           "caxis": {
            "gridcolor": "white",
            "linecolor": "white",
            "ticks": ""
           }
          },
          "title": {
           "x": 0.05
          },
          "xaxis": {
           "automargin": true,
           "gridcolor": "white",
           "linecolor": "white",
           "ticks": "",
           "title": {
            "standoff": 15
           },
           "zerolinecolor": "white",
           "zerolinewidth": 2
          },
          "yaxis": {
           "automargin": true,
           "gridcolor": "white",
           "linecolor": "white",
           "ticks": "",
           "title": {
            "standoff": 15
           },
           "zerolinecolor": "white",
           "zerolinewidth": 2
          }
         }
        },
        "updatemenus": [
         {
          "buttons": [
           {
            "args": [
             {
              "y": [
               [
                2.55,
                1.171,
                0.674,
                3.414,
                2.093,
                0.498,
                0.934,
                1.213,
                1.159,
                9.851,
                5.354,
                4.681,
                5.802,
                0.464,
                2.473,
                7.815,
                2.259,
                13.581,
                8.458,
                27.213,
                0.328,
                0.219,
                0.231,
                0.303,
                0.223,
                0.637,
                1.23,
                0.465,
                0.741,
                1.553,
                0.465,
                10.683,
                18.634,
                20.507,
                10.096,
                9.292,
                7.882,
                5.66,
                1.327,
                12.104,
                4.652,
                2.67,
                1.197
               ]
              ]
             },
             {
              "yaxis": {
               "title": {
                "text": "Land use: Arable"
               }
              }
             }
            ],
            "label": "Land use: Arable",
            "method": "update"
           },
           {
            "args": [
             {
              "y": [
               [
                0.932,
                0.457,
                0.266,
                1.352,
                0.308,
                0.145,
                0.32,
                0.381,
                0.274,
                3.769,
                1.384,
                0.399,
                1.169,
                0.128,
                0.681,
                2.359,
                0.179,
                3.613,
                2.09,
                1.089,
                0.182,
                0.066,
                0.032,
                0.149,
                0.087,
                0.038,
                0,
                0.028,
                0.899,
                0,
                0.145,
                1.038,
                5.059,
                5.067,
                1.965,
                1.666,
                2.23,
                1.83,
                0.402,
                3.658,
                1.397,
                0.708,
                0.232
               ]
              ]
             },
             {
              "yaxis": {
               "title": {
                "text": "Land use: Fallow"
               }
              }
             }
            ],
            "label": "Land use: Fallow",
            "method": "update"
           },
           {
            "args": [
             {
              "y": [
               [
                0,
                0,
                0,
                0,
                0,
                0,
                0,
                0,
                0,
                0,
                0,
                0,
                0,
                0,
                0,
                0,
                0,
                0,
                0,
                0,
                0,
                0,
                0,
                0,
                0,
                0,
                0,
                0,
                0,
                0,
                0,
                0,
                0,
                168.092,
                13.667,
                212.348,
                0.044,
                0,
                6.275,
                64.88,
                0,
                0,
                0
               ]
              ]
             },
             {
              "yaxis": {
               "title": {
                "text": "Land use: Perm Past"
               }
              }
             }
            ],
            "label": "Land use: Perm Past",
            "method": "update"
           },
           {
            "args": [
             {
              "y": [
               [
                3.4819999999999998,
                1.6280000000000001,
                0.9400000000000001,
                4.766,
                2.401,
                0.643,
                1.254,
                1.594,
                1.433,
                13.620000000000001,
                6.7379999999999995,
                5.08,
                6.971,
                0.5920000000000001,
                3.154,
                10.174,
                2.4379999999999997,
                17.194,
                10.548,
                28.302,
                0.51,
                0.28500000000000003,
                0.263,
                0.45199999999999996,
                0.31,
                0.675,
                1.23,
                0.49300000000000005,
                1.6400000000000001,
                1.553,
                0.61,
                11.721,
                23.693,
                193.66600000000003,
                25.728,
                223.306,
                10.156,
                7.49,
                8.004000000000001,
                80.642,
                6.049,
                3.378,
                1.429
               ]
              ]
             },
             {
              "yaxis": {
               "title": {
                "text": "Land use: Total"
               }
              }
             }
            ],
            "label": "Land use: Total",
            "method": "update"
           },
           {
            "args": [
             {
              "y": [
               [
                0.1,
                0.315,
                0.009,
                0.001,
                -0.022,
                -0.001,
                0.589,
                1.247,
                0,
                0.033,
                0,
                -2.052,
                0.439,
                0.18,
                0.958,
                3.096,
                3.096,
                0.133,
                0.212,
                -0.377,
                0.372,
                0.005,
                0.013,
                0.002,
                0.001,
                -0.146,
                -0.025,
                -0.029,
                0.025,
                -0.061,
                0.126,
                3.688,
                14.308,
                16.278,
                0.906,
                0.468,
                1.535,
                2.54,
                0.495,
                4.455,
                0.709,
                0.534,
                0.206
               ]
              ]
             },
             {
              "yaxis": {
               "title": {
                "text": "Greenhouse gas emissions: LUC"
               }
              }
             }
            ],
            "label": "Greenhouse gas emissions: LUC",
            "method": "update"
           },
           {
            "args": [
             {
              "y": [
               [
                0,
                0,
                0,
                0,
                0,
                0,
                0,
                0,
                0,
                0,
                0,
                0,
                0,
                0,
                0,
                0,
                0,
                0,
                0,
                0,
                0,
                0,
                0,
                0,
                0,
                0,
                0,
                0,
                0,
                0,
                0,
                0,
                0,
                1.878,
                2.508,
                2.37,
                2.94,
                1.775,
                0.236,
                2.346,
                2.2,
                0.819,
                2.51
               ]
              ]
             },
             {
              "yaxis": {
               "title": {
                "text": "Greenhouse gas emissions: Feed"
               }
              }
             }
            ],
            "label": "Greenhouse gas emissions: Feed",
            "method": "update"
           },
           {
            "args": [
             {
              "y": [
               [
                0.847,
                0.475,
                0.176,
                1.37,
                3.553,
                0.193,
                0.22,
                0.485,
                0.536,
                1.089,
                0.717,
                2.126,
                1.425,
                0.093,
                0.495,
                1.519,
                2.107,
                2.148,
                2.343,
                4.272,
                0.704,
                0.211,
                0.154,
                0.278,
                0.174,
                0.307,
                0.266,
                0.225,
                0.722,
                0.626,
                0.369,
                10.386,
                3.706,
                39.388,
                15.689,
                19.508,
                1.694,
                0.672,
                1.458,
                13.059,
                1.317,
                3.598,
                8.379
               ]
              ]
             },
             {
              "yaxis": {
               "title": {
                "text": "Greenhouse gas emissions: Farm"
               }
              }
             }
            ],
            "label": "Greenhouse gas emissions: Farm",
            "method": "update"
           },
           {
            "args": [
             {
              "y": [
               [
                0.217,
                0.052,
                0.128,
                0.042,
                0.065,
                0,
                0,
                0.037,
                0.242,
                0,
                0,
                0.032,
                0.372,
                0.163,
                0.794,
                0.311,
                1.264,
                0.229,
                0.193,
                0.66,
                0.012,
                0,
                0,
                0,
                0.06,
                0,
                0.059,
                0.004,
                0,
                0.139,
                0.015,
                0.592,
                0.185,
                1.269,
                1.108,
                1.111,
                0.284,
                0.44,
                0.149,
                0.738,
                0,
                0.02,
                0
               ]
              ]
             },
             {
              "yaxis": {
               "title": {
                "text": "Greenhouse gas emissions: Processing"
               }
              }
             }
            ],
            "label": "Greenhouse gas emissions: Processing",
            "method": "update"
           },
           {
            "args": [
             {
              "y": [
               [
                0.129,
                0.06,
                0.035,
                0.067,
                0.096,
                0.094,
                0.094,
                0.784,
                0.629,
                0.096,
                0.095,
                0.067,
                0.12,
                0.11,
                0.177,
                0.299,
                0.208,
                0.201,
                0.19,
                0.482,
                0.177,
                0.095,
                0.114,
                0.095,
                0.164,
                0.094,
                0.292,
                0.096,
                0.238,
                0.093,
                0.182,
                0.13,
                0.061,
                0.346,
                0.424,
                0.49,
                0.343,
                0.276,
                0.09,
                0.138,
                0.084,
                0.111,
                0.206
               ]
              ]
             },
             {
              "yaxis": {
               "title": {
                "text": "Greenhouse gas emissions: Transport"
               }
              }
             }
            ],
            "label": "Greenhouse gas emissions: Transport",
            "method": "update"
           },
           {
            "args": [
             {
              "y": [
               [
                0.09,
                0.06,
                0.497,
                0.066,
                0.084,
                0.045,
                0.045,
                0.083,
                0.09,
                0.353,
                0.045,
                0.078,
                0.099,
                0.098,
                0.177,
                0.849,
                0.886,
                0.853,
                0.844,
                0.861,
                0.145,
                0.045,
                0.045,
                0.045,
                0.041,
                0.045,
                0.065,
                0.044,
                0.212,
                0.749,
                0.042,
                1.63,
                0.4,
                0.247,
                0.268,
                0.251,
                0.296,
                0.212,
                0.097,
                0.172,
                0.161,
                0.061,
                0.334
               ]
              ]
             },
             {
              "yaxis": {
               "title": {
                "text": "Greenhouse gas emissions: Packging"
               }
              }
             }
            ],
            "label": "Greenhouse gas emissions: Packging",
            "method": "update"
           },
           {
            "args": [
             {
              "y": [
               [
                0.058,
                0.026,
                0.264,
                0.029,
                0.063,
                0.039,
                0.039,
                0.036,
                0.039,
                0.039,
                0.039,
                0.027,
                0.042,
                0.27,
                0.27,
                0.043,
                0.044,
                0.043,
                0.046,
                0.046,
                0.017,
                0.039,
                0.039,
                0.017,
                0.015,
                0.017,
                0.021,
                0.017,
                0.017,
                0.039,
                0.016,
                0.051,
                0.021,
                0.164,
                0.182,
                0.217,
                0.19,
                0.177,
                0.256,
                0.332,
                0.036,
                0.04,
                0.219
               ]
              ]
             },
             {
              "yaxis": {
               "title": {
                "text": "Greenhouse gas emissions: Retail"
               }
              }
             }
            ],
            "label": "Greenhouse gas emissions: Retail",
            "method": "update"
           },
           {
            "args": [
             {
              "y": [
               [
                1.441,
                0.9880000000000002,
                1.109,
                1.575,
                3.8390000000000004,
                0.37,
                0.987,
                2.672,
                1.536,
                1.6099999999999999,
                0.896,
                0.27799999999999986,
                2.4970000000000003,
                0.914,
                2.871,
                6.117000000000001,
                7.605,
                3.607,
                3.828,
                5.944000000000001,
                1.427,
                0.39499999999999996,
                0.365,
                0.437,
                0.455,
                0.317,
                0.678,
                0.35700000000000004,
                1.214,
                1.5849999999999997,
                0.75,
                16.477,
                18.680999999999997,
                59.56999999999999,
                21.085,
                24.415,
                7.282,
                6.091999999999999,
                2.7809999999999997,
                21.240000000000002,
                4.506999999999999,
                5.182999999999999,
                11.853999999999997
               ]
              ]
             },
             {
              "yaxis": {
               "title": {
                "text": "Greenhouse gas emissions: Total"
               }
              }
             }
            ],
            "label": "Greenhouse gas emissions: Total",
            "method": "update"
           },
           {
            "args": [
             {
              "y": [
               [
                0.00706,
                0.00226,
                0.00211,
                0.00705,
                0.02972,
                0.00255,
                0.00056,
                0.0136,
                0.00437,
                0.01501,
                0.00683,
                0.0088,
                0.01117,
                0.00097,
                0.00553,
                0.01123,
                0.01089,
                0.05061,
                0.01939,
                0.04024,
                0.00481,
                0.0023,
                0.00132,
                0.00414,
                0.00186,
                0.00157,
                0.00225,
                0.00115,
                0.00531,
                0.00402,
                0.00179,
                0.0602,
                0.03061,
                0.17747,
                0.20883,
                0.05965,
                0.04416,
                0.02957,
                0.00934,
                0.08875,
                0.02102,
                0.09207,
                0.09787
               ]
              ]
             },
             {
              "yaxis": {
               "title": {
                "text": "Eutrophication: Total"
               }
              }
             }
            ],
            "label": "Eutrophication: Total",
            "method": "update"
           },
           {
            "args": [
             {
              "y": [
               [
                567,
                120,
                15,
                302,
                1962,
                43,
                0,
                492,
                170,
                364,
                353,
                1914,
                1431,
                26,
                139,
                418,
                7,
                943,
                234,
                2322,
                235,
                11,
                23,
                97,
                83,
                65,
                86,
                140,
                292,
                68,
                119,
                14,
                209,
                871,
                1650,
                1082,
                1073,
                402,
                533,
                4735,
                556,
                1315,
                1394
               ]
              ]
             },
             {
              "yaxis": {
               "title": {
                "text": "Freshwater use: Total"
               }
              }
             }
            ],
            "label": "Freshwater use: Total",
            "method": "update"
           }
          ],
          "x": 0,
          "y": 1.2
         }
        ],
        "width": 1000,
        "xaxis": {
         "anchor": "y",
         "domain": [
          0,
          1
         ],
         "title": {
          "text": "Product"
         }
        },
        "yaxis": {
         "anchor": "x",
         "domain": [
          0,
          1
         ],
         "title": {
          "text": "Total"
         }
        }
       }
      },
      "text/html": [
       "<div>                            <div id=\"978d582c-5fdd-4482-8cd5-eeb2f6ca0f94\" class=\"plotly-graph-div\" style=\"height:500px; width:1000px;\"></div>            <script type=\"text/javascript\">                require([\"plotly\"], function(Plotly) {                    window.PLOTLYENV=window.PLOTLYENV || {};                                    if (document.getElementById(\"978d582c-5fdd-4482-8cd5-eeb2f6ca0f94\")) {                    Plotly.newPlot(                        \"978d582c-5fdd-4482-8cd5-eeb2f6ca0f94\",                        [{\"alignmentgroup\":\"True\",\"hovertemplate\":\"Product=%{x}\\u003cbr\\u003eTotal=%{y}\\u003cextra\\u003e\\u003c\\u002fextra\\u003e\",\"legendgroup\":\"\",\"marker\":{\"color\":\"#636efa\",\"pattern\":{\"shape\":\"\"}},\"name\":\"\",\"offsetgroup\":\"\",\"orientation\":\"v\",\"showlegend\":false,\"textposition\":\"auto\",\"x\":[\"Wheat & Rye (Bread)\",\"Maize (Meal)\",\"Barley (Beer)\",\"Oatmeal\",\"Rice\",\"Potatoes\",\"Cassava\",\"Cane Sugar\",\"Beet Sugar\",\"Other Pulses\",\"Peas\",\"Nuts\",\"Groundnuts\",\"Soymilk\",\"Tofu\",\"Soybean Oil\",\"Palm Oil\",\"Sunflower Oil\",\"Rapeseed Oil\",\"Olive Oil\",\"Tomatoes\",\"Onions & Leeks\",\"Root Vegetables\",\"Brassicas\",\"Other Vegetables\",\"Citrus Fruit\",\"Bananas\",\"Apples\",\"Berries & Grapes\",\"Wine\",\"Other Fruit\",\"Coffee\",\"Dark Chocolate\",\"Bovine Meat (beef herd)\",\"Bovine Meat (dairy herd)\",\"Lamb & Mutton\",\"Pig Meat\",\"Poultry Meat\",\"Milk\",\"Cheese\",\"Eggs\",\"Fish (farmed)\",\"Crustaceans (farmed)\"],\"xaxis\":\"x\",\"y\":[3.4819999999999998,1.6280000000000001,0.9400000000000001,4.766,2.401,0.643,1.254,1.594,1.433,13.620000000000001,6.7379999999999995,5.08,6.971,0.5920000000000001,3.154,10.174,2.4379999999999997,17.194,10.548,28.302,0.51,0.28500000000000003,0.263,0.45199999999999996,0.31,0.675,1.23,0.49300000000000005,1.6400000000000001,1.553,0.61,11.721,23.693,193.66600000000003,25.728,223.306,10.156,7.49,8.004000000000001,80.642,6.049,3.378,1.429],\"yaxis\":\"y\",\"type\":\"bar\"}],                        {\"template\":{\"data\":{\"histogram2dcontour\":[{\"type\":\"histogram2dcontour\",\"colorbar\":{\"outlinewidth\":0,\"ticks\":\"\"},\"colorscale\":[[0.0,\"#0d0887\"],[0.1111111111111111,\"#46039f\"],[0.2222222222222222,\"#7201a8\"],[0.3333333333333333,\"#9c179e\"],[0.4444444444444444,\"#bd3786\"],[0.5555555555555556,\"#d8576b\"],[0.6666666666666666,\"#ed7953\"],[0.7777777777777778,\"#fb9f3a\"],[0.8888888888888888,\"#fdca26\"],[1.0,\"#f0f921\"]]}],\"choropleth\":[{\"type\":\"choropleth\",\"colorbar\":{\"outlinewidth\":0,\"ticks\":\"\"}}],\"histogram2d\":[{\"type\":\"histogram2d\",\"colorbar\":{\"outlinewidth\":0,\"ticks\":\"\"},\"colorscale\":[[0.0,\"#0d0887\"],[0.1111111111111111,\"#46039f\"],[0.2222222222222222,\"#7201a8\"],[0.3333333333333333,\"#9c179e\"],[0.4444444444444444,\"#bd3786\"],[0.5555555555555556,\"#d8576b\"],[0.6666666666666666,\"#ed7953\"],[0.7777777777777778,\"#fb9f3a\"],[0.8888888888888888,\"#fdca26\"],[1.0,\"#f0f921\"]]}],\"heatmap\":[{\"type\":\"heatmap\",\"colorbar\":{\"outlinewidth\":0,\"ticks\":\"\"},\"colorscale\":[[0.0,\"#0d0887\"],[0.1111111111111111,\"#46039f\"],[0.2222222222222222,\"#7201a8\"],[0.3333333333333333,\"#9c179e\"],[0.4444444444444444,\"#bd3786\"],[0.5555555555555556,\"#d8576b\"],[0.6666666666666666,\"#ed7953\"],[0.7777777777777778,\"#fb9f3a\"],[0.8888888888888888,\"#fdca26\"],[1.0,\"#f0f921\"]]}],\"heatmapgl\":[{\"type\":\"heatmapgl\",\"colorbar\":{\"outlinewidth\":0,\"ticks\":\"\"},\"colorscale\":[[0.0,\"#0d0887\"],[0.1111111111111111,\"#46039f\"],[0.2222222222222222,\"#7201a8\"],[0.3333333333333333,\"#9c179e\"],[0.4444444444444444,\"#bd3786\"],[0.5555555555555556,\"#d8576b\"],[0.6666666666666666,\"#ed7953\"],[0.7777777777777778,\"#fb9f3a\"],[0.8888888888888888,\"#fdca26\"],[1.0,\"#f0f921\"]]}],\"contourcarpet\":[{\"type\":\"contourcarpet\",\"colorbar\":{\"outlinewidth\":0,\"ticks\":\"\"}}],\"contour\":[{\"type\":\"contour\",\"colorbar\":{\"outlinewidth\":0,\"ticks\":\"\"},\"colorscale\":[[0.0,\"#0d0887\"],[0.1111111111111111,\"#46039f\"],[0.2222222222222222,\"#7201a8\"],[0.3333333333333333,\"#9c179e\"],[0.4444444444444444,\"#bd3786\"],[0.5555555555555556,\"#d8576b\"],[0.6666666666666666,\"#ed7953\"],[0.7777777777777778,\"#fb9f3a\"],[0.8888888888888888,\"#fdca26\"],[1.0,\"#f0f921\"]]}],\"surface\":[{\"type\":\"surface\",\"colorbar\":{\"outlinewidth\":0,\"ticks\":\"\"},\"colorscale\":[[0.0,\"#0d0887\"],[0.1111111111111111,\"#46039f\"],[0.2222222222222222,\"#7201a8\"],[0.3333333333333333,\"#9c179e\"],[0.4444444444444444,\"#bd3786\"],[0.5555555555555556,\"#d8576b\"],[0.6666666666666666,\"#ed7953\"],[0.7777777777777778,\"#fb9f3a\"],[0.8888888888888888,\"#fdca26\"],[1.0,\"#f0f921\"]]}],\"mesh3d\":[{\"type\":\"mesh3d\",\"colorbar\":{\"outlinewidth\":0,\"ticks\":\"\"}}],\"scatter\":[{\"fillpattern\":{\"fillmode\":\"overlay\",\"size\":10,\"solidity\":0.2},\"type\":\"scatter\"}],\"parcoords\":[{\"type\":\"parcoords\",\"line\":{\"colorbar\":{\"outlinewidth\":0,\"ticks\":\"\"}}}],\"scatterpolargl\":[{\"type\":\"scatterpolargl\",\"marker\":{\"colorbar\":{\"outlinewidth\":0,\"ticks\":\"\"}}}],\"bar\":[{\"error_x\":{\"color\":\"#2a3f5f\"},\"error_y\":{\"color\":\"#2a3f5f\"},\"marker\":{\"line\":{\"color\":\"#E5ECF6\",\"width\":0.5},\"pattern\":{\"fillmode\":\"overlay\",\"size\":10,\"solidity\":0.2}},\"type\":\"bar\"}],\"scattergeo\":[{\"type\":\"scattergeo\",\"marker\":{\"colorbar\":{\"outlinewidth\":0,\"ticks\":\"\"}}}],\"scatterpolar\":[{\"type\":\"scatterpolar\",\"marker\":{\"colorbar\":{\"outlinewidth\":0,\"ticks\":\"\"}}}],\"histogram\":[{\"marker\":{\"pattern\":{\"fillmode\":\"overlay\",\"size\":10,\"solidity\":0.2}},\"type\":\"histogram\"}],\"scattergl\":[{\"type\":\"scattergl\",\"marker\":{\"colorbar\":{\"outlinewidth\":0,\"ticks\":\"\"}}}],\"scatter3d\":[{\"type\":\"scatter3d\",\"line\":{\"colorbar\":{\"outlinewidth\":0,\"ticks\":\"\"}},\"marker\":{\"colorbar\":{\"outlinewidth\":0,\"ticks\":\"\"}}}],\"scattermapbox\":[{\"type\":\"scattermapbox\",\"marker\":{\"colorbar\":{\"outlinewidth\":0,\"ticks\":\"\"}}}],\"scatterternary\":[{\"type\":\"scatterternary\",\"marker\":{\"colorbar\":{\"outlinewidth\":0,\"ticks\":\"\"}}}],\"scattercarpet\":[{\"type\":\"scattercarpet\",\"marker\":{\"colorbar\":{\"outlinewidth\":0,\"ticks\":\"\"}}}],\"carpet\":[{\"aaxis\":{\"endlinecolor\":\"#2a3f5f\",\"gridcolor\":\"white\",\"linecolor\":\"white\",\"minorgridcolor\":\"white\",\"startlinecolor\":\"#2a3f5f\"},\"baxis\":{\"endlinecolor\":\"#2a3f5f\",\"gridcolor\":\"white\",\"linecolor\":\"white\",\"minorgridcolor\":\"white\",\"startlinecolor\":\"#2a3f5f\"},\"type\":\"carpet\"}],\"table\":[{\"cells\":{\"fill\":{\"color\":\"#EBF0F8\"},\"line\":{\"color\":\"white\"}},\"header\":{\"fill\":{\"color\":\"#C8D4E3\"},\"line\":{\"color\":\"white\"}},\"type\":\"table\"}],\"barpolar\":[{\"marker\":{\"line\":{\"color\":\"#E5ECF6\",\"width\":0.5},\"pattern\":{\"fillmode\":\"overlay\",\"size\":10,\"solidity\":0.2}},\"type\":\"barpolar\"}],\"pie\":[{\"automargin\":true,\"type\":\"pie\"}]},\"layout\":{\"autotypenumbers\":\"strict\",\"colorway\":[\"#636efa\",\"#EF553B\",\"#00cc96\",\"#ab63fa\",\"#FFA15A\",\"#19d3f3\",\"#FF6692\",\"#B6E880\",\"#FF97FF\",\"#FECB52\"],\"font\":{\"color\":\"#2a3f5f\"},\"hovermode\":\"closest\",\"hoverlabel\":{\"align\":\"left\"},\"paper_bgcolor\":\"white\",\"plot_bgcolor\":\"#E5ECF6\",\"polar\":{\"bgcolor\":\"#E5ECF6\",\"angularaxis\":{\"gridcolor\":\"white\",\"linecolor\":\"white\",\"ticks\":\"\"},\"radialaxis\":{\"gridcolor\":\"white\",\"linecolor\":\"white\",\"ticks\":\"\"}},\"ternary\":{\"bgcolor\":\"#E5ECF6\",\"aaxis\":{\"gridcolor\":\"white\",\"linecolor\":\"white\",\"ticks\":\"\"},\"baxis\":{\"gridcolor\":\"white\",\"linecolor\":\"white\",\"ticks\":\"\"},\"caxis\":{\"gridcolor\":\"white\",\"linecolor\":\"white\",\"ticks\":\"\"}},\"coloraxis\":{\"colorbar\":{\"outlinewidth\":0,\"ticks\":\"\"}},\"colorscale\":{\"sequential\":[[0.0,\"#0d0887\"],[0.1111111111111111,\"#46039f\"],[0.2222222222222222,\"#7201a8\"],[0.3333333333333333,\"#9c179e\"],[0.4444444444444444,\"#bd3786\"],[0.5555555555555556,\"#d8576b\"],[0.6666666666666666,\"#ed7953\"],[0.7777777777777778,\"#fb9f3a\"],[0.8888888888888888,\"#fdca26\"],[1.0,\"#f0f921\"]],\"sequentialminus\":[[0.0,\"#0d0887\"],[0.1111111111111111,\"#46039f\"],[0.2222222222222222,\"#7201a8\"],[0.3333333333333333,\"#9c179e\"],[0.4444444444444444,\"#bd3786\"],[0.5555555555555556,\"#d8576b\"],[0.6666666666666666,\"#ed7953\"],[0.7777777777777778,\"#fb9f3a\"],[0.8888888888888888,\"#fdca26\"],[1.0,\"#f0f921\"]],\"diverging\":[[0,\"#8e0152\"],[0.1,\"#c51b7d\"],[0.2,\"#de77ae\"],[0.3,\"#f1b6da\"],[0.4,\"#fde0ef\"],[0.5,\"#f7f7f7\"],[0.6,\"#e6f5d0\"],[0.7,\"#b8e186\"],[0.8,\"#7fbc41\"],[0.9,\"#4d9221\"],[1,\"#276419\"]]},\"xaxis\":{\"gridcolor\":\"white\",\"linecolor\":\"white\",\"ticks\":\"\",\"title\":{\"standoff\":15},\"zerolinecolor\":\"white\",\"automargin\":true,\"zerolinewidth\":2},\"yaxis\":{\"gridcolor\":\"white\",\"linecolor\":\"white\",\"ticks\":\"\",\"title\":{\"standoff\":15},\"zerolinecolor\":\"white\",\"automargin\":true,\"zerolinewidth\":2},\"scene\":{\"xaxis\":{\"backgroundcolor\":\"#E5ECF6\",\"gridcolor\":\"white\",\"linecolor\":\"white\",\"showbackground\":true,\"ticks\":\"\",\"zerolinecolor\":\"white\",\"gridwidth\":2},\"yaxis\":{\"backgroundcolor\":\"#E5ECF6\",\"gridcolor\":\"white\",\"linecolor\":\"white\",\"showbackground\":true,\"ticks\":\"\",\"zerolinecolor\":\"white\",\"gridwidth\":2},\"zaxis\":{\"backgroundcolor\":\"#E5ECF6\",\"gridcolor\":\"white\",\"linecolor\":\"white\",\"showbackground\":true,\"ticks\":\"\",\"zerolinecolor\":\"white\",\"gridwidth\":2}},\"shapedefaults\":{\"line\":{\"color\":\"#2a3f5f\"}},\"annotationdefaults\":{\"arrowcolor\":\"#2a3f5f\",\"arrowhead\":0,\"arrowwidth\":1},\"geo\":{\"bgcolor\":\"white\",\"landcolor\":\"#E5ECF6\",\"subunitcolor\":\"white\",\"showland\":true,\"showlakes\":true,\"lakecolor\":\"white\"},\"title\":{\"x\":0.05},\"mapbox\":{\"style\":\"light\"}}},\"xaxis\":{\"anchor\":\"y\",\"domain\":[0.0,1.0],\"title\":{\"text\":\"Product\"}},\"yaxis\":{\"anchor\":\"x\",\"domain\":[0.0,1.0],\"title\":{\"text\":\"Total\"}},\"legend\":{\"tracegroupgap\":0},\"margin\":{\"t\":60},\"barmode\":\"relative\",\"font\":{\"family\":\"Lato, \\\"Helvetica Neue\\\", Helvetica, Arial, \\\"Liberation Sans\\\", sans-serif\",\"size\":10},\"updatemenus\":[{\"buttons\":[{\"args\":[{\"y\":[[2.55,1.171,0.674,3.414,2.093,0.498,0.934,1.213,1.159,9.851,5.354,4.681,5.802,0.464,2.473,7.815,2.259,13.581,8.458,27.213,0.328,0.219,0.231,0.303,0.223,0.637,1.23,0.465,0.741,1.553,0.465,10.683,18.634,20.507,10.096,9.292,7.882,5.66,1.327,12.104,4.652,2.67,1.197]]},{\"yaxis\":{\"title\":{\"text\":\"Land use: Arable\"}}}],\"label\":\"Land use: Arable\",\"method\":\"update\"},{\"args\":[{\"y\":[[0.932,0.457,0.266,1.352,0.308,0.145,0.32,0.381,0.274,3.769,1.384,0.399,1.169,0.128,0.681,2.359,0.179,3.613,2.09,1.089,0.182,0.066,0.032,0.149,0.087,0.038,0.0,0.028,0.899,0.0,0.145,1.038,5.059,5.067,1.965,1.666,2.23,1.83,0.402,3.658,1.397,0.708,0.232]]},{\"yaxis\":{\"title\":{\"text\":\"Land use: Fallow\"}}}],\"label\":\"Land use: Fallow\",\"method\":\"update\"},{\"args\":[{\"y\":[[0.0,0.0,0.0,0.0,0.0,0.0,0.0,0.0,0.0,0.0,0.0,0.0,0.0,0.0,0.0,0.0,0.0,0.0,0.0,0.0,0.0,0.0,0.0,0.0,0.0,0.0,0.0,0.0,0.0,0.0,0.0,0.0,0.0,168.092,13.667,212.348,0.044,0.0,6.275,64.88,0.0,0.0,0.0]]},{\"yaxis\":{\"title\":{\"text\":\"Land use: Perm Past\"}}}],\"label\":\"Land use: Perm Past\",\"method\":\"update\"},{\"args\":[{\"y\":[[3.4819999999999998,1.6280000000000001,0.9400000000000001,4.766,2.401,0.643,1.254,1.594,1.433,13.620000000000001,6.7379999999999995,5.08,6.971,0.5920000000000001,3.154,10.174,2.4379999999999997,17.194,10.548,28.302,0.51,0.28500000000000003,0.263,0.45199999999999996,0.31,0.675,1.23,0.49300000000000005,1.6400000000000001,1.553,0.61,11.721,23.693,193.66600000000003,25.728,223.306,10.156,7.49,8.004000000000001,80.642,6.049,3.378,1.429]]},{\"yaxis\":{\"title\":{\"text\":\"Land use: Total\"}}}],\"label\":\"Land use: Total\",\"method\":\"update\"},{\"args\":[{\"y\":[[0.1,0.315,0.009,0.001,-0.022,-0.001,0.589,1.247,0.0,0.033,0.0,-2.052,0.439,0.18,0.958,3.096,3.096,0.133,0.212,-0.377,0.372,0.005,0.013,0.002,0.001,-0.146,-0.025,-0.029,0.025,-0.061,0.126,3.688,14.308,16.278,0.906,0.468,1.535,2.54,0.495,4.455,0.709,0.534,0.206]]},{\"yaxis\":{\"title\":{\"text\":\"Greenhouse gas emissions: LUC\"}}}],\"label\":\"Greenhouse gas emissions: LUC\",\"method\":\"update\"},{\"args\":[{\"y\":[[0.0,0.0,0.0,0.0,0.0,0.0,0.0,0.0,0.0,0.0,0.0,0.0,0.0,0.0,0.0,0.0,0.0,0.0,0.0,0.0,0.0,0.0,0.0,0.0,0.0,0.0,0.0,0.0,0.0,0.0,0.0,0.0,0.0,1.878,2.508,2.37,2.94,1.775,0.236,2.346,2.2,0.819,2.51]]},{\"yaxis\":{\"title\":{\"text\":\"Greenhouse gas emissions: Feed\"}}}],\"label\":\"Greenhouse gas emissions: Feed\",\"method\":\"update\"},{\"args\":[{\"y\":[[0.847,0.475,0.176,1.37,3.553,0.193,0.22,0.485,0.536,1.089,0.717,2.126,1.425,0.093,0.495,1.519,2.107,2.148,2.343,4.272,0.704,0.211,0.154,0.278,0.174,0.307,0.266,0.225,0.722,0.626,0.369,10.386,3.706,39.388,15.689,19.508,1.694,0.672,1.458,13.059,1.317,3.598,8.379]]},{\"yaxis\":{\"title\":{\"text\":\"Greenhouse gas emissions: Farm\"}}}],\"label\":\"Greenhouse gas emissions: Farm\",\"method\":\"update\"},{\"args\":[{\"y\":[[0.217,0.052,0.128,0.042,0.065,0.0,0.0,0.037,0.242,0.0,0.0,0.032,0.372,0.163,0.794,0.311,1.264,0.229,0.193,0.66,0.012,0.0,0.0,0.0,0.06,0.0,0.059,0.004,0.0,0.139,0.015,0.592,0.185,1.269,1.108,1.111,0.284,0.44,0.149,0.738,0.0,0.02,0.0]]},{\"yaxis\":{\"title\":{\"text\":\"Greenhouse gas emissions: Processing\"}}}],\"label\":\"Greenhouse gas emissions: Processing\",\"method\":\"update\"},{\"args\":[{\"y\":[[0.129,0.06,0.035,0.067,0.096,0.094,0.094,0.784,0.629,0.096,0.095,0.067,0.12,0.11,0.177,0.299,0.208,0.201,0.19,0.482,0.177,0.095,0.114,0.095,0.164,0.094,0.292,0.096,0.238,0.093,0.182,0.13,0.061,0.346,0.424,0.49,0.343,0.276,0.09,0.138,0.084,0.111,0.206]]},{\"yaxis\":{\"title\":{\"text\":\"Greenhouse gas emissions: Transport\"}}}],\"label\":\"Greenhouse gas emissions: Transport\",\"method\":\"update\"},{\"args\":[{\"y\":[[0.09,0.06,0.497,0.066,0.084,0.045,0.045,0.083,0.09,0.353,0.045,0.078,0.099,0.098,0.177,0.849,0.886,0.853,0.844,0.861,0.145,0.045,0.045,0.045,0.041,0.045,0.065,0.044,0.212,0.749,0.042,1.63,0.4,0.247,0.268,0.251,0.296,0.212,0.097,0.172,0.161,0.061,0.334]]},{\"yaxis\":{\"title\":{\"text\":\"Greenhouse gas emissions: Packging\"}}}],\"label\":\"Greenhouse gas emissions: Packging\",\"method\":\"update\"},{\"args\":[{\"y\":[[0.058,0.026,0.264,0.029,0.063,0.039,0.039,0.036,0.039,0.039,0.039,0.027,0.042,0.27,0.27,0.043,0.044,0.043,0.046,0.046,0.017,0.039,0.039,0.017,0.015,0.017,0.021,0.017,0.017,0.039,0.016,0.051,0.021,0.164,0.182,0.217,0.19,0.177,0.256,0.332,0.036,0.04,0.219]]},{\"yaxis\":{\"title\":{\"text\":\"Greenhouse gas emissions: Retail\"}}}],\"label\":\"Greenhouse gas emissions: Retail\",\"method\":\"update\"},{\"args\":[{\"y\":[[1.441,0.9880000000000002,1.109,1.575,3.8390000000000004,0.37,0.987,2.672,1.536,1.6099999999999999,0.896,0.27799999999999986,2.4970000000000003,0.914,2.871,6.117000000000001,7.605,3.607,3.828,5.944000000000001,1.427,0.39499999999999996,0.365,0.437,0.455,0.317,0.678,0.35700000000000004,1.214,1.5849999999999997,0.75,16.477,18.680999999999997,59.56999999999999,21.085,24.415,7.282,6.091999999999999,2.7809999999999997,21.240000000000002,4.506999999999999,5.182999999999999,11.853999999999997]]},{\"yaxis\":{\"title\":{\"text\":\"Greenhouse gas emissions: Total\"}}}],\"label\":\"Greenhouse gas emissions: Total\",\"method\":\"update\"},{\"args\":[{\"y\":[[0.00706,0.00226,0.00211,0.00705,0.02972,0.00255,0.00056,0.0136,0.00437,0.01501,0.00683,0.0088,0.01117,0.00097,0.00553,0.01123,0.01089,0.05061,0.01939,0.04024,0.00481,0.0023,0.00132,0.00414,0.00186,0.00157,0.00225,0.00115,0.00531,0.00402,0.00179,0.0602,0.03061,0.17747,0.20883,0.05965,0.04416,0.02957,0.00934,0.08875,0.02102,0.09207,0.09787]]},{\"yaxis\":{\"title\":{\"text\":\"Eutrophication: Total\"}}}],\"label\":\"Eutrophication: Total\",\"method\":\"update\"},{\"args\":[{\"y\":[[567,120,15,302,1962,43,0,492,170,364,353,1914,1431,26,139,418,7,943,234,2322,235,11,23,97,83,65,86,140,292,68,119,14,209,871,1650,1082,1073,402,533,4735,556,1315,1394]]},{\"yaxis\":{\"title\":{\"text\":\"Freshwater use: Total\"}}}],\"label\":\"Freshwater use: Total\",\"method\":\"update\"}],\"x\":0,\"y\":1.2}],\"width\":1000,\"height\":500},                        {\"responsive\": true}                    ).then(function(){\n",
       "                            \n",
       "var gd = document.getElementById('978d582c-5fdd-4482-8cd5-eeb2f6ca0f94');\n",
       "var x = new MutationObserver(function (mutations, observer) {{\n",
       "        var display = window.getComputedStyle(gd).display;\n",
       "        if (!display || display === 'none') {{\n",
       "            console.log([gd, 'removed!']);\n",
       "            Plotly.purge(gd);\n",
       "            observer.disconnect();\n",
       "        }}\n",
       "}});\n",
       "\n",
       "// Listen for the removal of the full notebook cells\n",
       "var notebookContainer = gd.closest('#notebook-container');\n",
       "if (notebookContainer) {{\n",
       "    x.observe(notebookContainer, {childList: true});\n",
       "}}\n",
       "\n",
       "// Listen for the clearing of the current output cell\n",
       "var outputEl = gd.closest('.output');\n",
       "if (outputEl) {{\n",
       "    x.observe(outputEl, {childList: true});\n",
       "}}\n",
       "\n",
       "                        })                };                });            </script>        </div>"
      ]
     },
     "metadata": {},
     "output_type": "display_data"
    }
   ],
   "source": [
    "import plotly.graph_objs as go\n",
    "import plotly.express as px\n",
    "import pandas as pd\n",
    "\n",
    "df_land = pd.read_excel('dataset1.xls', sheet_name=2, skiprows=2, nrows=43, usecols=\"A, C:E\")\n",
    "df_land['Total'] = df_land[['Arable', 'Fallow', 'Perm Past']].sum(axis=1)\n",
    "\n",
    "df_ghg = pd.read_excel('dataset1.xls', sheet_name=2, skiprows=2, nrows=43, usecols=\"A, F:L\")\n",
    "df_ghg['Total'] = df_ghg[['LUC', 'Feed', 'Farm', 'Processing', 'Transport', 'Packging', 'Retail']].sum(axis=1)\n",
    "\n",
    "df_eutr = pd.read_excel('dataset1.xls', sheet_name=2, skiprows=2, nrows=43, usecols=\"A, N\")\n",
    "df_eutr.rename(columns={\"Total.1\": \"Total\"}, inplace=True)\n",
    "\n",
    "df_fresh = pd.read_excel('dataset1.xls', sheet_name=2, skiprows=2, nrows=43, usecols=\"A, O\")\n",
    "df_fresh.rename(columns={\"Total.2\": \"Total\"}, inplace=True)\n",
    "\n",
    "df_list = [df_land, df_ghg, df_eutr, df_fresh]\n",
    "\n",
    "fig = px.bar(df_land, x=\"Product\", y=\"Total\")\n",
    "\n",
    "updatemenus = [\n",
    "    {\n",
    "        \"buttons\": [\n",
    "            {\n",
    "                \"label\": df_name,\n",
    "                \"method\": \"update\",\n",
    "                \"args\": [\n",
    "                    {\"y\": [df['Total']]},\n",
    "                    {\"yaxis\": {\"title\": {\"text\": df_name}}}\n",
    "                ],\n",
    "            }\n",
    "            for df, df_name in zip(df_list, ['Land use', 'Greenhouse gas emissions', 'Eutrophication', 'Freshwater use'])\n",
    "        ],\n",
    "        \"x\": 0,\n",
    "        \"y\": 1.2,\n",
    "        \"buttons\": [\n",
    "            {\n",
    "                \"label\": f\"{df_name}: {column}\",\n",
    "                \"method\": \"update\",\n",
    "                \"args\": [\n",
    "                    {\"y\": [df[column]]},\n",
    "                    {\"yaxis\": {\"title\": {\"text\": f\"{df_name}: {column}\"}}}\n",
    "                ],\n",
    "            }\n",
    "            for df, df_name in zip(df_list, ['Land use', 'Greenhouse gas emissions', 'Eutrophication', 'Freshwater use'])\n",
    "            for column in df.columns[1:]\n",
    "        ],\n",
    "        \"x\": 0,\n",
    "        \"y\": 1.2,\n",
    "    }\n",
    "]\n",
    "\n",
    "fig.update_layout(updatemenus=updatemenus, \n",
    "        font=dict(family='Lato, \"Helvetica Neue\", Helvetica, Arial, \"Liberation Sans\", sans-serif', size=10),\n",
    "        width=1000, height=500)\n",
    "fig.show()\n"
   ]
  },
  {
   "cell_type": "code",
   "execution_count": null,
   "id": "ce8d9892",
   "metadata": {},
   "outputs": [],
   "source": []
  }
 ],
 "metadata": {
  "kernelspec": {
   "display_name": "Python 3 (ipykernel)",
   "language": "python",
   "name": "python3"
  },
  "language_info": {
   "codemirror_mode": {
    "name": "ipython",
    "version": 3
   },
   "file_extension": ".py",
   "mimetype": "text/x-python",
   "name": "python",
   "nbconvert_exporter": "python",
   "pygments_lexer": "ipython3",
   "version": "3.11.2"
  }
 },
 "nbformat": 4,
 "nbformat_minor": 5
}
