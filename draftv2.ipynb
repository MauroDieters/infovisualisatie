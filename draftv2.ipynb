{
 "cells": [
  {
   "attachments": {},
   "cell_type": "markdown",
   "metadata": {},
   "source": [
    "## Food for thought: how to eat sustainably\n",
    "\n",
    "### Note to reader\n",
    "This is a very rough draft. The order and layout is nowhere near final; some visualizations will be made more compact using subplots and interactivity, some visualizations will be drastically altered or left out entirely.\n",
    "\n",
    "\n",
    "### Introduction\n",
    "\n",
    "In the face of growing concerns about environmental sustainability, understanding the impact of our food choices has become paramount. This data story aims to scientifically examine the sustainability of various food sources, taking into account crucial factors like CO2 emissions, water usage, and the distinction between local and global production. By presenting this information concisely and incorporating charts and plots, our goal is to provide accessible insights that empower individuals to make informed decisions for more sustainable food consumption practices.\n",
    "\n",
    "A significant debate centers around whether local or global food production is more environmentally preferable. Advocates of the local perspective argue that transportation emissions significantly contribute to the carbon footprint of our food. They stress the importance of reducing the distance between farm and table to enhance sustainability. Conversely, proponents of the global perspective emphasize evaluating the environmental impact of different food types, such as animal products versus plant-based alternatives. Metrics like calories or protein produced per unit of emissions are considered crucial in this evaluation.\n",
    "\n",
    "To comprehensively assess the sustainability of food sources, this data story will analyze a range of common options. Environmental impact will be examined across multiple dimensions, including CO2 emissions, water usage, and the balance between local and non-local production.\n",
    "\n",
    "### Dataset and preprocessing\n",
    "\n",
    "The dataset we used can be downloaded from https://www.science.org/doi/10.1126/science.aaq0216. It is called 'aaq0216_datas1.xls'. The dataset encompasses variables such as land use (in m2), greenhouse gas emissions (in kg CO2-eq), eutrophication (in kg PO43-eq) and freshwater (in liters), for 43 different agricultural products. The dataset is an xls file containing multiple Excel sheets. \n",
    "\n",
    "To look at the global totals of Greenhouse gas emissions for each product, for example, we can look at the following dataframe:"
   ]
  },
  {
   "cell_type": "code",
   "execution_count": 7,
   "metadata": {},
   "outputs": [],
   "source": [
    "import plotly.graph_objs as go\n",
    "import plotly.express as px\n",
    "import matplotlib as plt\n",
    "import pandas as pd\n",
    "import numpy as np\n",
    "import seaborn as sns\n",
    "from plotly.subplots import make_subplots\n",
    "from ipywidgets import interact, interactive, fixed, interact_manual\n",
    "from ipywidgets import GridspecLayout\n",
    "import ipywidgets as widgets\n",
    "\n",
    "layout = go.Layout(\n",
    "        font=dict(\n",
    "        family=\"\"\"\"Lato, \"Helvetica Neue\", Helvetica, Arial, \"Liberation Sans\", sans-serif\"\"\",\n",
    "        ),\n",
    "        title=dict(font=dict(size=24)),\n",
    "        newshape_label_padding=8,\n",
    "        margin_pad=5,\n",
    "        legend=dict(font=dict(size=14)),\n",
    "    )\n",
    "\n",
    "df_ghg = pd.read_excel('dataset1.xls', sheet_name=2, skiprows=2, nrows=43, usecols=\"A, F:L\")\n",
    "df_ghg['Total'] = df_ghg[['LUC', 'Feed', 'Farm', 'Processing', 'Transport', 'Packging', 'Retail']].sum(axis=1)\n",
    "df_ghg.head()\n",
    "\n",
    "\n",
    "# helper functions \n",
    "\n",
    "def get_traceindex(category, fig):\n",
    "    for i, trace in enumerate(fig.data):\n",
    "        if trace.name == category:\n",
    "            return i\n",
    "    raise ValueError(f'No trace with name \"{category}\" found in figure')"
   ]
  },
  {
   "attachments": {},
   "cell_type": "markdown",
   "metadata": {},
   "source": [
    "Here, we can see that the greenhouse gas emissions are divided into different stages of the production and distribution of the product. We added another column to see the total amount of greenhouse gas emissions, as that is often the most important metric to compare."
   ]
  },
  {
   "attachments": {},
   "cell_type": "markdown",
   "metadata": {},
   "source": [
    "### Brief description of arguments (only for draft)\n",
    "Debate 1: Emissions vs Other Factors\n",
    "\n",
    "Perspective 1: Greenhouse Gas Emissions\n",
    "- Argument 1: Emphasizing the Carbon Footprint\n",
    "  - This argument highlights the importance of considering greenhouse gas emissions as the primary sustainability factor when evaluating food sources.\n",
    "- Argument 2: Comparative Emissions Analysis\n",
    "  - This argument suggests comparing the emissions produced by different food sources to identify the most environmentally friendly options.\n",
    "- Visualization 1: Amount of freshwater withdrawals per nutritional units\n",
    "  - This visualization illustrates the disparity in water usage per nutritional unit across various food sources, highlighting the substantial water footprint associated with nuts and cheese compared to plant-based alternatives. It supports the argument that emissions should be a primary consideration when evaluating sustainability.\n",
    "\n",
    "Perspective 2: Multiple Sustainability Factors\n",
    "- Argument 1: Holistic Sustainability Assessment\n",
    "  - This argument advocates for considering factors beyond emissions, such as land use, in order to assess the overall sustainability of food sources.\n",
    "- Argument 2: Environmental Impact Analysis\n",
    "  - This argument emphasizes the need for a comprehensive evaluation of food production's broader environmental consequences.\n",
    "- The plan is for Visualisation 3 to support this perspective.\n",
    "\n",
    "Debate 2: Global vs Local Sourcing\n",
    "\n",
    "Perspective 1: Importance of Local Production\n",
    "- Argument 1: Emissions from Food Transportation\n",
    "  - This argument highlights the significant emissions generated during the transportation of food and advocates for reducing them through local sourcing.\n",
    "- Argument 2: Total Emissions Reduction\n",
    "  - This argument asserts that prioritizing local production can contribute to a substantial reduction in the overall emissions associated with food consumption.\n",
    "- Visualization 4: Scatter plot of global production and greenhouse gas emissions\n",
    "  - This visualization demonstrates the correlation between high global production and lower emissions per kilogram, supporting the argument that producing food locally can help reduce emissions.\n",
    "- Visualization 5: Bar chart of transport emissions per product\n",
    "  - This visualization highlights the significant CO2 costs associated with food transport, supporting the argument that sourcing locally can reduce emissions. However, it may require further refinement to enhance its effectiveness.\n",
    "\n",
    "Perspective 2: Food Type Matters\n",
    "- Argument 1: Evaluation of Food Choices\n",
    "  - This argument emphasizes the importance of considering the type of food consumed, particularly distinguishing between animal-based and plant-based products.\n",
    "- Argument 2: Transport Emissions Comparison\n",
    "  - This argument suggests evaluating the emissions associated with food transport in order to make informed choices about sourcing.\n",
    "- Visualization 2: Sunburst figures of vegan vs non-vegan emissions\n",
    "  - These figures visually depict the stark contrast in land use and greenhouse gas emissions between vegan and non-vegan products. By showcasing the impact of food choices on multiple sustainability factors, it supports the argument that evaluating the type of food consumed is essential.\n",
    "- Visualization 6: Animated bar chart of transport emissions per product compared to other types of emissions\n",
    "  - This visualization demonstrates the proportion of greenhouse gas emissions attributed to transport for each food type, emphasizing that transport emissions constitute a small portion of the total emissions. It supports the argument that the type of food consumed is more crucial than the sourcing location.\n",
    "\n",
    "Visualizations:\n",
    "- Visualization 1: Amount of freshwater withdrawals per nutritional units\n",
    "- Visualization 2: Sunburst figures of vegan vs non-vegan emissions\n",
    "- Visualization 3: Currently aimed at exploration (not linked to specific arguments)\n",
    "- Visualization 4: Scatter plot of global production and greenhouse gas emissions\n",
    "- Visualization 5: Bar chart of transport emissions per product\n",
    "- Visualization 6: Animated bar chart of transport emissions per product compared to other types of emissions\n",
    "\n",
    "We have focused until now on working with visualizations and exploring the data; hence, the various perspectives have gotten less attention so far. We'll follow the data where it leads us."
   ]
  },
  {
   "attachments": {},
   "cell_type": "markdown",
   "metadata": {},
   "source": [
    "#### Visualisations\n",
    "\n",
    "##### Visualisation 1: bar charts of the amount of freshwater used for each product, measured in liters per NU (nutritional unit) or FU (fixture unit)\n",
    "\n",
    "* Certain food groups, like animal products, require much more freshwater to produce than other groups like vegetables, per nutritional unit.\n",
    "* Thus, it is more efficient to produce certain food groups than others in terms of freshwater.\n",
    "* This supports the perspective that different food groups have varying environmental impact, and our food choices could greatly assist in environmental sustainability."
   ]
  },
  {
   "cell_type": "code",
   "execution_count": 13,
   "metadata": {
    "jupyter": {
     "source_hidden": true
    }
   },
   "outputs": [
    {
     "data": {
      "application/vnd.plotly.v1+json": {
       "config": {
        "plotlyServerURL": "https://plot.ly"
       },
       "data": [
        {
         "marker": {
          "color": "darkblue"
         },
         "name": "starchy",
         "type": "bar",
         "width": 0.7,
         "x": [
          "Wheat & Rye (Bread)",
          "Maize (Meal)",
          "Barley (Beer)",
          "Oatmeal",
          "Rice",
          "Potatoes",
          "Cassava"
         ],
         "y": [
          647.5,
          215.7,
          17.1,
          482.4,
          2248.4,
          59.1,
          0
         ]
        },
        {
         "marker": {
          "color": "magenta"
         },
         "name": "sugars",
         "type": "bar",
         "width": 0.7,
         "x": [
          "Cane Sugar",
          "Beet Sugar",
          "Other Pulses"
         ],
         "y": [
          620.1,
          217.7,
          435.7
         ]
        },
        {
         "marker": {
          "color": "brown"
         },
         "name": "legume",
         "type": "bar",
         "width": 0.7,
         "x": [
          "Peas",
          "Nuts",
          "Groundnuts"
         ],
         "y": [
          396.6,
          4133.8,
          1852.3
         ]
        },
        {
         "marker": {
          "color": "purple"
         },
         "name": "vegan alt",
         "type": "bar",
         "width": 0.7,
         "x": [
          "Soymilk",
          "Tofu"
         ],
         "y": [
          27.8,
          148.6
         ]
        },
        {
         "marker": {
          "color": "black"
         },
         "name": "oils",
         "type": "bar",
         "width": 0.7,
         "x": [
          "Soybean Oil",
          "Palm Oil",
          "Sunflower Oil",
          "Rapeseed Oil",
          "Olive Oil"
         ],
         "y": [
          414.6,
          6.4,
          1007.9,
          237.7,
          2141.8
         ]
        },
        {
         "marker": {
          "color": "green"
         },
         "name": "vegetables",
         "type": "bar",
         "width": 0.7,
         "x": [
          "Tomatoes",
          "Onions & Leeks",
          "Root Vegetables",
          "Brassicas",
          "Other Vegetables"
         ],
         "y": [
          369.8,
          14.3,
          28.4,
          119.4,
          102.5
         ]
        },
        {
         "marker": {
          "color": "orange"
         },
         "name": "fruits",
         "type": "bar",
         "width": 0.7,
         "x": [
          "Citrus Fruit",
          "Bananas",
          "Apples",
          "Berries & Grapes",
          "Wine",
          "Other Fruit"
         ],
         "y": [
          82.7,
          114.5,
          180.1,
          419.6,
          78.9,
          153.5
         ]
        },
        {
         "marker": {
          "color": "gold"
         },
         "name": "proc nuts",
         "type": "bar",
         "width": 0.7,
         "x": [
          "Coffee",
          "Dark Chocolate"
         ],
         "y": [
          25.9,
          540.6
         ]
        },
        {
         "marker": {
          "color": "red"
         },
         "name": "meat",
         "type": "bar",
         "width": 0.7,
         "x": [
          "Bovine Meat (beef herd)",
          "Bovine Meat (dairy herd)",
          "Lamb & Mutton",
          "Pig Meat",
          "Poultry Meat"
         ],
         "y": [
          1451.2,
          2714.3,
          1802.8,
          1795.8,
          660
         ]
        },
        {
         "marker": {
          "color": "grey"
         },
         "name": "animal prod",
         "type": "bar",
         "width": 0.7,
         "x": [
          "Milk",
          "Cheese",
          "Eggs"
         ],
         "y": [
          628.2,
          5605.2,
          577.7
         ]
        },
        {
         "marker": {
          "color": "blue"
         },
         "name": "fish",
         "type": "bar",
         "width": 0.7,
         "x": [
          "Fish (farmed)",
          "Crustaceans (farmed)"
         ],
         "y": [
          3691.3,
          3515.4
         ]
        },
        {
         "marker": {
          "color": "darkblue"
         },
         "name": "starchy",
         "type": "bar",
         "visible": false,
         "width": 0.7,
         "x": [
          "Wheat & Rye (Bread)",
          "Maize (Meal)",
          "Barley (Beer)",
          "Oatmeal",
          "Rice",
          "Potatoes",
          "Cassava"
         ],
         "y": [
          242.02621732646065,
          47.69485903814262,
          3.4200000000000004,
          183.91155165840638,
          609.9837221920782,
          80.73770491803279,
          0
         ]
        },
        {
         "marker": {
          "color": "magenta"
         },
         "name": "sugars",
         "type": "bar",
         "visible": false,
         "width": 0.7,
         "x": [
          "Cane Sugar",
          "Beet Sugar",
          "Other Pulses"
         ],
         "y": [
          620.1,
          217.7,
          203.50303596450257
         ]
        },
        {
         "marker": {
          "color": "brown"
         },
         "name": "legume",
         "type": "bar",
         "visible": false,
         "width": 0.7,
         "x": [
          "Peas",
          "Nuts",
          "Groundnuts"
         ],
         "y": [
          178.4878487848785,
          2531.4145744029393,
          707.5248281130634
         ]
        },
        {
         "marker": {
          "color": "purple"
         },
         "name": "vegan alt",
         "type": "bar",
         "visible": false,
         "width": 0.7,
         "x": [
          "Soymilk",
          "Tofu"
         ],
         "y": [
          27.8,
          92.87499999999999
         ]
        },
        {
         "marker": {
          "color": "black"
         },
         "name": "oils",
         "type": "bar",
         "visible": false,
         "width": 0.7,
         "x": [
          "Soybean Oil",
          "Palm Oil",
          "Sunflower Oil",
          "Rapeseed Oil",
          "Olive Oil"
         ],
         "y": [
          414.6,
          6.4,
          1007.9,
          237.7,
          2141.8
         ]
        },
        {
         "marker": {
          "color": "green"
         },
         "name": "vegetables",
         "type": "bar",
         "visible": false,
         "width": 0.7,
         "x": [
          "Tomatoes",
          "Onions & Leeks",
          "Root Vegetables",
          "Brassicas",
          "Other Vegetables"
         ],
         "y": [
          369.8,
          14.3,
          28.4,
          119.4,
          102.5
         ]
        },
        {
         "marker": {
          "color": "orange"
         },
         "name": "fruits",
         "type": "bar",
         "visible": false,
         "width": 0.7,
         "x": [
          "Citrus Fruit",
          "Bananas",
          "Apples",
          "Berries & Grapes",
          "Wine",
          "Other Fruit"
         ],
         "y": [
          82.7,
          114.5,
          180.1,
          419.6,
          6.312,
          153.5
         ]
        },
        {
         "marker": {
          "color": "gold"
         },
         "name": "proc nuts",
         "type": "bar",
         "visible": false,
         "width": 0.7,
         "x": [
          "Coffee",
          "Dark Chocolate"
         ],
         "y": [
          0.38849999999999996,
          27.03
         ]
        },
        {
         "marker": {
          "color": "red"
         },
         "name": "meat",
         "type": "bar",
         "visible": false,
         "width": 0.7,
         "x": [
          "Bovine Meat (beef herd)",
          "Bovine Meat (dairy herd)",
          "Lamb & Mutton",
          "Pig Meat",
          "Poultry Meat"
         ],
         "y": [
          727.7833500501505,
          1375.0253292806485,
          900.9495252373813,
          1109.8887515451174,
          381.0623556581986
         ]
        },
        {
         "marker": {
          "color": "grey"
         },
         "name": "animal prod",
         "type": "bar",
         "visible": false,
         "width": 0.7,
         "x": [
          "Milk",
          "Cheese",
          "Eggs"
         ],
         "y": [
          628.2,
          2538.586956521739,
          520.6380677721702
         ]
        },
        {
         "marker": {
          "color": "blue"
         },
         "name": "fish",
         "type": "bar",
         "visible": false,
         "width": 0.7,
         "x": [
          "Fish (farmed)",
          "Crustaceans (farmed)"
         ],
         "y": [
          1618.636263977198,
          2380.094786729858
         ]
        }
       ],
       "layout": {
        "barmode": "group",
        "legend": {
         "bgcolor": "rgba(255, 255, 255, 0.7)",
         "bordercolor": "black",
         "borderwidth": 1,
         "font": {
          "color": "black",
          "family": "Arial",
          "size": 12
         },
         "title": {
          "text": "Legend"
         },
         "x": 1.1,
         "y": 1
        },
        "template": {
         "data": {
          "bar": [
           {
            "error_x": {
             "color": "#2a3f5f"
            },
            "error_y": {
             "color": "#2a3f5f"
            },
            "marker": {
             "line": {
              "color": "#E5ECF6",
              "width": 0.5
             },
             "pattern": {
              "fillmode": "overlay",
              "size": 10,
              "solidity": 0.2
             }
            },
            "type": "bar"
           }
          ],
          "barpolar": [
           {
            "marker": {
             "line": {
              "color": "#E5ECF6",
              "width": 0.5
             },
             "pattern": {
              "fillmode": "overlay",
              "size": 10,
              "solidity": 0.2
             }
            },
            "type": "barpolar"
           }
          ],
          "carpet": [
           {
            "aaxis": {
             "endlinecolor": "#2a3f5f",
             "gridcolor": "white",
             "linecolor": "white",
             "minorgridcolor": "white",
             "startlinecolor": "#2a3f5f"
            },
            "baxis": {
             "endlinecolor": "#2a3f5f",
             "gridcolor": "white",
             "linecolor": "white",
             "minorgridcolor": "white",
             "startlinecolor": "#2a3f5f"
            },
            "type": "carpet"
           }
          ],
          "choropleth": [
           {
            "colorbar": {
             "outlinewidth": 0,
             "ticks": ""
            },
            "type": "choropleth"
           }
          ],
          "contour": [
           {
            "colorbar": {
             "outlinewidth": 0,
             "ticks": ""
            },
            "colorscale": [
             [
              0,
              "#0d0887"
             ],
             [
              0.1111111111111111,
              "#46039f"
             ],
             [
              0.2222222222222222,
              "#7201a8"
             ],
             [
              0.3333333333333333,
              "#9c179e"
             ],
             [
              0.4444444444444444,
              "#bd3786"
             ],
             [
              0.5555555555555556,
              "#d8576b"
             ],
             [
              0.6666666666666666,
              "#ed7953"
             ],
             [
              0.7777777777777778,
              "#fb9f3a"
             ],
             [
              0.8888888888888888,
              "#fdca26"
             ],
             [
              1,
              "#f0f921"
             ]
            ],
            "type": "contour"
           }
          ],
          "contourcarpet": [
           {
            "colorbar": {
             "outlinewidth": 0,
             "ticks": ""
            },
            "type": "contourcarpet"
           }
          ],
          "heatmap": [
           {
            "colorbar": {
             "outlinewidth": 0,
             "ticks": ""
            },
            "colorscale": [
             [
              0,
              "#0d0887"
             ],
             [
              0.1111111111111111,
              "#46039f"
             ],
             [
              0.2222222222222222,
              "#7201a8"
             ],
             [
              0.3333333333333333,
              "#9c179e"
             ],
             [
              0.4444444444444444,
              "#bd3786"
             ],
             [
              0.5555555555555556,
              "#d8576b"
             ],
             [
              0.6666666666666666,
              "#ed7953"
             ],
             [
              0.7777777777777778,
              "#fb9f3a"
             ],
             [
              0.8888888888888888,
              "#fdca26"
             ],
             [
              1,
              "#f0f921"
             ]
            ],
            "type": "heatmap"
           }
          ],
          "heatmapgl": [
           {
            "colorbar": {
             "outlinewidth": 0,
             "ticks": ""
            },
            "colorscale": [
             [
              0,
              "#0d0887"
             ],
             [
              0.1111111111111111,
              "#46039f"
             ],
             [
              0.2222222222222222,
              "#7201a8"
             ],
             [
              0.3333333333333333,
              "#9c179e"
             ],
             [
              0.4444444444444444,
              "#bd3786"
             ],
             [
              0.5555555555555556,
              "#d8576b"
             ],
             [
              0.6666666666666666,
              "#ed7953"
             ],
             [
              0.7777777777777778,
              "#fb9f3a"
             ],
             [
              0.8888888888888888,
              "#fdca26"
             ],
             [
              1,
              "#f0f921"
             ]
            ],
            "type": "heatmapgl"
           }
          ],
          "histogram": [
           {
            "marker": {
             "pattern": {
              "fillmode": "overlay",
              "size": 10,
              "solidity": 0.2
             }
            },
            "type": "histogram"
           }
          ],
          "histogram2d": [
           {
            "colorbar": {
             "outlinewidth": 0,
             "ticks": ""
            },
            "colorscale": [
             [
              0,
              "#0d0887"
             ],
             [
              0.1111111111111111,
              "#46039f"
             ],
             [
              0.2222222222222222,
              "#7201a8"
             ],
             [
              0.3333333333333333,
              "#9c179e"
             ],
             [
              0.4444444444444444,
              "#bd3786"
             ],
             [
              0.5555555555555556,
              "#d8576b"
             ],
             [
              0.6666666666666666,
              "#ed7953"
             ],
             [
              0.7777777777777778,
              "#fb9f3a"
             ],
             [
              0.8888888888888888,
              "#fdca26"
             ],
             [
              1,
              "#f0f921"
             ]
            ],
            "type": "histogram2d"
           }
          ],
          "histogram2dcontour": [
           {
            "colorbar": {
             "outlinewidth": 0,
             "ticks": ""
            },
            "colorscale": [
             [
              0,
              "#0d0887"
             ],
             [
              0.1111111111111111,
              "#46039f"
             ],
             [
              0.2222222222222222,
              "#7201a8"
             ],
             [
              0.3333333333333333,
              "#9c179e"
             ],
             [
              0.4444444444444444,
              "#bd3786"
             ],
             [
              0.5555555555555556,
              "#d8576b"
             ],
             [
              0.6666666666666666,
              "#ed7953"
             ],
             [
              0.7777777777777778,
              "#fb9f3a"
             ],
             [
              0.8888888888888888,
              "#fdca26"
             ],
             [
              1,
              "#f0f921"
             ]
            ],
            "type": "histogram2dcontour"
           }
          ],
          "mesh3d": [
           {
            "colorbar": {
             "outlinewidth": 0,
             "ticks": ""
            },
            "type": "mesh3d"
           }
          ],
          "parcoords": [
           {
            "line": {
             "colorbar": {
              "outlinewidth": 0,
              "ticks": ""
             }
            },
            "type": "parcoords"
           }
          ],
          "pie": [
           {
            "automargin": true,
            "type": "pie"
           }
          ],
          "scatter": [
           {
            "fillpattern": {
             "fillmode": "overlay",
             "size": 10,
             "solidity": 0.2
            },
            "type": "scatter"
           }
          ],
          "scatter3d": [
           {
            "line": {
             "colorbar": {
              "outlinewidth": 0,
              "ticks": ""
             }
            },
            "marker": {
             "colorbar": {
              "outlinewidth": 0,
              "ticks": ""
             }
            },
            "type": "scatter3d"
           }
          ],
          "scattercarpet": [
           {
            "marker": {
             "colorbar": {
              "outlinewidth": 0,
              "ticks": ""
             }
            },
            "type": "scattercarpet"
           }
          ],
          "scattergeo": [
           {
            "marker": {
             "colorbar": {
              "outlinewidth": 0,
              "ticks": ""
             }
            },
            "type": "scattergeo"
           }
          ],
          "scattergl": [
           {
            "marker": {
             "colorbar": {
              "outlinewidth": 0,
              "ticks": ""
             }
            },
            "type": "scattergl"
           }
          ],
          "scattermapbox": [
           {
            "marker": {
             "colorbar": {
              "outlinewidth": 0,
              "ticks": ""
             }
            },
            "type": "scattermapbox"
           }
          ],
          "scatterpolar": [
           {
            "marker": {
             "colorbar": {
              "outlinewidth": 0,
              "ticks": ""
             }
            },
            "type": "scatterpolar"
           }
          ],
          "scatterpolargl": [
           {
            "marker": {
             "colorbar": {
              "outlinewidth": 0,
              "ticks": ""
             }
            },
            "type": "scatterpolargl"
           }
          ],
          "scatterternary": [
           {
            "marker": {
             "colorbar": {
              "outlinewidth": 0,
              "ticks": ""
             }
            },
            "type": "scatterternary"
           }
          ],
          "surface": [
           {
            "colorbar": {
             "outlinewidth": 0,
             "ticks": ""
            },
            "colorscale": [
             [
              0,
              "#0d0887"
             ],
             [
              0.1111111111111111,
              "#46039f"
             ],
             [
              0.2222222222222222,
              "#7201a8"
             ],
             [
              0.3333333333333333,
              "#9c179e"
             ],
             [
              0.4444444444444444,
              "#bd3786"
             ],
             [
              0.5555555555555556,
              "#d8576b"
             ],
             [
              0.6666666666666666,
              "#ed7953"
             ],
             [
              0.7777777777777778,
              "#fb9f3a"
             ],
             [
              0.8888888888888888,
              "#fdca26"
             ],
             [
              1,
              "#f0f921"
             ]
            ],
            "type": "surface"
           }
          ],
          "table": [
           {
            "cells": {
             "fill": {
              "color": "#EBF0F8"
             },
             "line": {
              "color": "white"
             }
            },
            "header": {
             "fill": {
              "color": "#C8D4E3"
             },
             "line": {
              "color": "white"
             }
            },
            "type": "table"
           }
          ]
         },
         "layout": {
          "annotationdefaults": {
           "arrowcolor": "#2a3f5f",
           "arrowhead": 0,
           "arrowwidth": 1
          },
          "autotypenumbers": "strict",
          "coloraxis": {
           "colorbar": {
            "outlinewidth": 0,
            "ticks": ""
           }
          },
          "colorscale": {
           "diverging": [
            [
             0,
             "#8e0152"
            ],
            [
             0.1,
             "#c51b7d"
            ],
            [
             0.2,
             "#de77ae"
            ],
            [
             0.3,
             "#f1b6da"
            ],
            [
             0.4,
             "#fde0ef"
            ],
            [
             0.5,
             "#f7f7f7"
            ],
            [
             0.6,
             "#e6f5d0"
            ],
            [
             0.7,
             "#b8e186"
            ],
            [
             0.8,
             "#7fbc41"
            ],
            [
             0.9,
             "#4d9221"
            ],
            [
             1,
             "#276419"
            ]
           ],
           "sequential": [
            [
             0,
             "#0d0887"
            ],
            [
             0.1111111111111111,
             "#46039f"
            ],
            [
             0.2222222222222222,
             "#7201a8"
            ],
            [
             0.3333333333333333,
             "#9c179e"
            ],
            [
             0.4444444444444444,
             "#bd3786"
            ],
            [
             0.5555555555555556,
             "#d8576b"
            ],
            [
             0.6666666666666666,
             "#ed7953"
            ],
            [
             0.7777777777777778,
             "#fb9f3a"
            ],
            [
             0.8888888888888888,
             "#fdca26"
            ],
            [
             1,
             "#f0f921"
            ]
           ],
           "sequentialminus": [
            [
             0,
             "#0d0887"
            ],
            [
             0.1111111111111111,
             "#46039f"
            ],
            [
             0.2222222222222222,
             "#7201a8"
            ],
            [
             0.3333333333333333,
             "#9c179e"
            ],
            [
             0.4444444444444444,
             "#bd3786"
            ],
            [
             0.5555555555555556,
             "#d8576b"
            ],
            [
             0.6666666666666666,
             "#ed7953"
            ],
            [
             0.7777777777777778,
             "#fb9f3a"
            ],
            [
             0.8888888888888888,
             "#fdca26"
            ],
            [
             1,
             "#f0f921"
            ]
           ]
          },
          "colorway": [
           "#636efa",
           "#EF553B",
           "#00cc96",
           "#ab63fa",
           "#FFA15A",
           "#19d3f3",
           "#FF6692",
           "#B6E880",
           "#FF97FF",
           "#FECB52"
          ],
          "font": {
           "color": "#2a3f5f"
          },
          "geo": {
           "bgcolor": "white",
           "lakecolor": "white",
           "landcolor": "#E5ECF6",
           "showlakes": true,
           "showland": true,
           "subunitcolor": "white"
          },
          "hoverlabel": {
           "align": "left"
          },
          "hovermode": "closest",
          "mapbox": {
           "style": "light"
          },
          "paper_bgcolor": "white",
          "plot_bgcolor": "#E5ECF6",
          "polar": {
           "angularaxis": {
            "gridcolor": "white",
            "linecolor": "white",
            "ticks": ""
           },
           "bgcolor": "#E5ECF6",
           "radialaxis": {
            "gridcolor": "white",
            "linecolor": "white",
            "ticks": ""
           }
          },
          "scene": {
           "xaxis": {
            "backgroundcolor": "#E5ECF6",
            "gridcolor": "white",
            "gridwidth": 2,
            "linecolor": "white",
            "showbackground": true,
            "ticks": "",
            "zerolinecolor": "white"
           },
           "yaxis": {
            "backgroundcolor": "#E5ECF6",
            "gridcolor": "white",
            "gridwidth": 2,
            "linecolor": "white",
            "showbackground": true,
            "ticks": "",
            "zerolinecolor": "white"
           },
           "zaxis": {
            "backgroundcolor": "#E5ECF6",
            "gridcolor": "white",
            "gridwidth": 2,
            "linecolor": "white",
            "showbackground": true,
            "ticks": "",
            "zerolinecolor": "white"
           }
          },
          "shapedefaults": {
           "line": {
            "color": "#2a3f5f"
           }
          },
          "ternary": {
           "aaxis": {
            "gridcolor": "white",
            "linecolor": "white",
            "ticks": ""
           },
           "baxis": {
            "gridcolor": "white",
            "linecolor": "white",
            "ticks": ""
           },
           "bgcolor": "#E5ECF6",
           "caxis": {
            "gridcolor": "white",
            "linecolor": "white",
            "ticks": ""
           }
          },
          "title": {
           "x": 0.05
          },
          "xaxis": {
           "automargin": true,
           "gridcolor": "white",
           "linecolor": "white",
           "ticks": "",
           "title": {
            "standoff": 15
           },
           "zerolinecolor": "white",
           "zerolinewidth": 2
          },
          "yaxis": {
           "automargin": true,
           "gridcolor": "white",
           "linecolor": "white",
           "ticks": "",
           "title": {
            "standoff": 15
           },
           "zerolinecolor": "white",
           "zerolinewidth": 2
          }
         }
        },
        "title": {
         "text": "Average Freshwater Withdrawals (L/NU)",
         "x": 0.5
        },
        "updatemenus": [
         {
          "active": 0,
          "buttons": [
           {
            "args": [
             {
              "visible": [
               true,
               true,
               true,
               true,
               true,
               true,
               true,
               true,
               true,
               true,
               true,
               false,
               false,
               false,
               false,
               false,
               false,
               false,
               false,
               false,
               false,
               false
              ]
             },
             {
              "title.text": "Average Freshwater Withdrawals (L/NU)"
             }
            ],
            "label": "Liters per Nutritional unit",
            "method": "update"
           },
           {
            "args": [
             {
              "visible": [
               false,
               false,
               false,
               false,
               false,
               false,
               false,
               false,
               false,
               false,
               false,
               true,
               true,
               true,
               true,
               true,
               true,
               true,
               true,
               true,
               true,
               true
              ]
             },
             {
              "title.text": "Average Freshwater Withdrawals (L/FU)"
             }
            ],
            "label": "Liters per Fixture unit",
            "method": "update"
           }
          ],
          "x": 0.1,
          "y": 1.2
         }
        ]
       }
      }
     },
     "metadata": {},
     "output_type": "display_data"
    }
   ],
   "source": [
    "df_land = pd.read_excel('dataset1.xls', sheet_name=0, skiprows=2,nrows=43)\n",
    "df_land1 = pd.read_excel('dataset1.xls', sheet_name=1, skiprows=2,nrows=43)\n",
    "names= ['starchy', 'sugars', 'legume', 'vegan alt', 'oils', 'vegetables', 'fruits','proc nuts', 'meat', 'animal prod', 'fish']\n",
    "colors = ['darkblue', 'magenta', 'brown', 'purple', 'black', 'green', 'orange','gold', 'red', 'grey', 'blue']\n",
    "types = [\n",
    "list(df_land['Product'][:7]),\n",
    "list(df_land['Product'][7:10]),\n",
    "list(df_land['Product'][10:13]),\n",
    "list(df_land['Product'][13:15]),\n",
    "list(df_land['Product'][15:20]),\n",
    "list(df_land['Product'][20:25]),\n",
    "list(df_land['Product'][25:31]),\n",
    "list(df_land['Product'][31:33]),\n",
    "list(df_land['Product'][33:38]),\n",
    "list(df_land['Product'][38:41]),\n",
    "list(df_land['Product'][41:])]\n",
    "values = [\n",
    "list(df_land['Mean.5'][:7]),\n",
    "list(df_land['Mean.5'][7:10]),\n",
    "list(df_land['Mean.5'][10:13]),\n",
    "list(df_land['Mean.5'][13:15]),\n",
    "list(df_land['Mean.5'][15:20]),\n",
    "list(df_land['Mean.5'][20:25]),\n",
    "list(df_land['Mean.5'][25:31]),\n",
    "list(df_land['Mean.5'][31:33]),\n",
    "list(df_land['Mean.5'][33:38]),\n",
    "list(df_land['Mean.5'][38:41]),\n",
    "list(df_land['Mean.5'][41:])]\n",
    "types1 = [\n",
    "list(df_land1['Product'][:7]),\n",
    "list(df_land1['Product'][7:10]),\n",
    "list(df_land1['Product'][10:13]),\n",
    "list(df_land1['Product'][13:15]),\n",
    "list(df_land1['Product'][15:20]),\n",
    "list(df_land1['Product'][20:25]),\n",
    "list(df_land1['Product'][25:31]),\n",
    "list(df_land1['Product'][31:33]),\n",
    "list(df_land1['Product'][33:38]),\n",
    "list(df_land1['Product'][38:41]),\n",
    "list(df_land1['Product'][41:])]\n",
    "values1 = [\n",
    "list(df_land1['Mean.5'][:7]),\n",
    "list(df_land1['Mean.5'][7:10]),\n",
    "list(df_land1['Mean.5'][10:13]),\n",
    "list(df_land1['Mean.5'][13:15]),\n",
    "list(df_land1['Mean.5'][15:20]),\n",
    "list(df_land1['Mean.5'][20:25]),\n",
    "list(df_land1['Mean.5'][25:31]),\n",
    "list(df_land1['Mean.5'][31:33]),\n",
    "list(df_land1['Mean.5'][33:38]),\n",
    "list(df_land1['Mean.5'][38:41]),\n",
    "list(df_land1['Mean.5'][41:])]\n",
    "# Create the first bar trace\n",
    "trace1 = go.Bar(\n",
    "    x=types[0],\n",
    "    y=values[0],\n",
    "    name=names[0],\n",
    "    marker=dict(color=colors[0]),\n",
    "    width=0.7\n",
    ")\n",
    "trace2 = go.Bar(\n",
    "    x=types[1],\n",
    "    y=values[1],\n",
    "    name=names[1],\n",
    "    marker=dict(color=colors[1]),\n",
    "    width=0.7\n",
    ")\n",
    "trace3 = go.Bar(\n",
    "    x=types[2],\n",
    "    y=values[2],\n",
    "    name=names[2],\n",
    "    marker=dict(color=colors[2]),\n",
    "    width=0.7\n",
    ")\n",
    "trace4 = go.Bar(\n",
    "    x=types[3],\n",
    "    y=values[3],\n",
    "    name=names[3],\n",
    "    marker=dict(color=colors[3]),\n",
    "    width=0.7\n",
    ")\n",
    "trace5 = go.Bar(\n",
    "    x=types[4],\n",
    "    y=values[4],\n",
    "    name=names[4],\n",
    "    marker=dict(color=colors[4]),\n",
    "    width=0.7\n",
    ")\n",
    "trace6 = go.Bar(\n",
    "    x=types[5],\n",
    "    y=values[5],\n",
    "    name=names[5],\n",
    "    marker=dict(color=colors[5]),\n",
    "    width=0.7\n",
    ")\n",
    "trace7 = go.Bar(\n",
    "    x=types[6],\n",
    "    y=values[6],\n",
    "    name=names[6],\n",
    "    marker=dict(color=colors[6]),\n",
    "    width=0.7\n",
    ")\n",
    "trace8 = go.Bar(\n",
    "    x=types[7],\n",
    "    y=values[7],\n",
    "    name=names[7],\n",
    "    marker=dict(color=colors[7]),\n",
    "    width=0.7\n",
    ")\n",
    "trace9 = go.Bar(\n",
    "    x=types[8],\n",
    "    y=values[8],\n",
    "    name=names[8],\n",
    "    marker=dict(color=colors[8]),\n",
    "    width=0.7\n",
    ")\n",
    "trace10 = go.Bar(\n",
    "    x=types[9],\n",
    "    y=values[9],\n",
    "    name=names[9],\n",
    "    marker=dict(color=colors[9]),\n",
    "    width=0.7\n",
    ")\n",
    "trace11 = go.Bar(\n",
    "    x=types[10],\n",
    "    y=values[10],\n",
    "    name=names[10],\n",
    "    marker=dict(color=colors[10]),\n",
    "    width=0.7\n",
    ")\n",
    "trace12 = go.Bar(\n",
    "    x=types1[0],\n",
    "    y=values1[0],\n",
    "    name=names[0],\n",
    "    marker=dict(color=colors[0]),\n",
    "    width=0.7,\n",
    "    visible=False  # Set visible to False\n",
    ")\n",
    "\n",
    "trace13 = go.Bar(\n",
    "    x=types1[1],\n",
    "    y=values1[1],\n",
    "    name=names[1],\n",
    "    marker=dict(color=colors[1]),\n",
    "    width=0.7,\n",
    "    visible=False  # Set visible to False\n",
    ")\n",
    "\n",
    "trace14 = go.Bar(\n",
    "    x=types1[2],\n",
    "    y=values1[2],\n",
    "    name=names[2],\n",
    "    marker=dict(color=colors[2]),\n",
    "    width=0.7,\n",
    "    visible=False  # Set visible to False\n",
    ")\n",
    "\n",
    "trace15 = go.Bar(\n",
    "    x=types1[3],\n",
    "    y=values1[3],\n",
    "    name=names[3],\n",
    "    marker=dict(color=colors[3]),\n",
    "    width=0.7,\n",
    "    visible=False  # Set visible to False\n",
    ")\n",
    "\n",
    "trace16 = go.Bar(\n",
    "    x=types1[4],\n",
    "    y=values1[4],\n",
    "    name=names[4],\n",
    "    marker=dict(color=colors[4]),\n",
    "    width=0.7,\n",
    "    visible=False  # Set visible to False\n",
    ")\n",
    "\n",
    "trace17 = go.Bar(\n",
    "    x=types1[5],\n",
    "    y=values1[5],\n",
    "    name=names[5],\n",
    "    marker=dict(color=colors[5]),\n",
    "    width=0.7,\n",
    "    visible=False  # Set visible to False\n",
    ")\n",
    "\n",
    "trace18 = go.Bar(\n",
    "    x=types1[6],\n",
    "    y=values1[6],\n",
    "    name=names[6],\n",
    "    marker=dict(color=colors[6]),\n",
    "    width=0.7,\n",
    "    visible=False  # Set visible to False\n",
    ")\n",
    "\n",
    "trace19 = go.Bar(\n",
    "    x=types1[7],\n",
    "    y=values1[7],\n",
    "    name=names[7],\n",
    "    marker=dict(color=colors[7]),\n",
    "    width=0.7,\n",
    "    visible=False  # Set visible to False\n",
    ")\n",
    "\n",
    "trace20 = go.Bar(\n",
    "    x=types1[8],\n",
    "    y=values1[8],\n",
    "    name=names[8],\n",
    "    marker=dict(color=colors[8]),\n",
    "    width=0.7,\n",
    "    visible=False  # Set visible to False\n",
    ")\n",
    "\n",
    "trace21 = go.Bar(\n",
    "    x=types1[9],\n",
    "    y=values1[9],\n",
    "    name=names[9],\n",
    "    marker=dict(color=colors[9]),\n",
    "    width=0.7,\n",
    "    visible=False  # Set visible to False\n",
    ")\n",
    "\n",
    "trace22 = go.Bar(\n",
    "    x=types1[10],\n",
    "    y=values1[10],\n",
    "    name=names[10],\n",
    "    marker=dict(color=colors[10]),\n",
    "    width=0.7,\n",
    "    visible=False  # Set visible to False\n",
    ")\n",
    "\n",
    "\n",
    "\n",
    "\n",
    "\n",
    "\n",
    "\n",
    "\n",
    "\n",
    "# Create the data array\n",
    "data = [trace1, trace2, trace3,trace4,trace5, trace6, trace7,trace8,trace9, trace10,trace11]\n",
    "\n",
    "# Create the layout with an interactive legend\n",
    "update_menus = [\n",
    "    dict(\n",
    "        buttons=[\n",
    "            dict(\n",
    "                label=\"Liters per Nutritional unit\",\n",
    "                method=\"update\",\n",
    "                args=[\n",
    "                    {\"visible\": [True] * 11 + [False] * 11},\n",
    "                    {'title.text': 'Average Freshwater Withdrawals (L/NU)'}  # Update the title here\n",
    "                ]\n",
    "            ),\n",
    "            dict(\n",
    "                label=\"Liters per Fixture unit\",\n",
    "                method=\"update\",\n",
    "                args=[\n",
    "                    {\"visible\": [False] * 11 + [True] * 11},\n",
    "                    {'title.text': 'Average Freshwater Withdrawals (L/FU)'}  # Update the title here\n",
    "                ]\n",
    "            )\n",
    "        ],\n",
    "        active=0,\n",
    "        y=1.2,\n",
    "        x=0.1\n",
    "    )\n",
    "]\n",
    "\n",
    "# Create the layout with an interactive legend\n",
    "layout = go.Layout(\n",
    "    title='Average Freshwater Withdrawals (L/NU)',  # Set the initial title\n",
    "    title_x=0.5,\n",
    "    barmode='group',\n",
    "    legend=dict(\n",
    "        title='Legend',\n",
    "        x=1.1,\n",
    "        y=1.0,\n",
    "        bgcolor='rgba(255, 255, 255, 0.7)',\n",
    "        bordercolor='black',\n",
    "        borderwidth=1,\n",
    "        font=dict(\n",
    "            family='Arial',\n",
    "            size=12,\n",
    "            color='black'\n",
    "        )\n",
    "    ),\n",
    "    updatemenus=update_menus,  # Corrected attribute name\n",
    ")\n",
    "# Create the figure\n",
    "data = [trace1, trace2, trace3, trace4, trace5, trace6, trace7, trace8, trace9, trace10, trace11,\n",
    "          trace12, trace13, trace14, trace15, trace16, trace17, trace18, trace19, trace20, trace21, trace22]\n",
    "fig = go.Figure(data=data, layout=layout)\n",
    "fig.show()"
   ]
  },
  {
   "attachments": {},
   "cell_type": "markdown",
   "metadata": {},
   "source": [
    "#### fig1: Amount of freshwater withdrawals per nutritional units\n",
    "\n",
    "In figure 1 you can see the different amount of liters water used per nutritional unit. In the figure you can also see that nuts and cheese use alot of water for the amount of nutritions that they give when eating them. Most of the meat substitutes are made from wheat, soy and different kinds of fungi(https://www.milieucentraal.nl/eten-en-drinken/milieubewust-eten/vleesvervangers/). The figure shows that there is a substantial difference between amount of water used for the different kinds of meat and the water usage from wheat and soymilk. This shows that there is also a large difference in the amount of water used between meat and plant based products. "
   ]
  },
  {
   "cell_type": "code",
   "execution_count": null,
   "metadata": {
    "jupyter": {
     "source_hidden": true
    }
   },
   "outputs": [],
   "source": []
  },
  {
   "attachments": {},
   "cell_type": "markdown",
   "metadata": {},
   "source": [
    "#### fig1.5: Amount of freshwater withdrawals per Fixture unit"
   ]
  },
  {
   "cell_type": "code",
   "execution_count": 14,
   "metadata": {
    "jupyter": {
     "source_hidden": true
    }
   },
   "outputs": [],
   "source": [
    "#Mauro\n",
    "non_vegan_products = ['Barley (Beer)','Cane Sugar','Milk','Cheese','Eggs','Fish (farmed)','Crustaceans (farmed)','Bovine Meat (beef herd)','Bovine Meat (dairy herd)','Lamb & Mutton','Pig Meat','Poultry Meat']\n",
    "meat_products = ['Bovine Meat (beef herd)', 'Bovine Meat (dairy herd)', 'Lamb & Mutton', 'Pig Meat','Poultry Meat','Fish (farmed)','Crustaceans (farmed)']\n",
    "dairy_products = ['Milk','Cheese','Eggs']\n",
    "other_non_vegan_products = ['Cane Sugar','Crustaceans (farmed)','Barley (Beer)']\n",
    "\n",
    "df_all_products = pd.read_excel(\"dataset1.xls\", sheet_name=\"Results - Retail Weight\", skiprows=2,nrows=43, index_col=None, na_values=[\"NA\"])\n",
    "\n",
    "#non vegan products\n",
    "non_vegan = df_all_products[\"Product\"].isin(non_vegan_products)\n",
    "meat = df_all_products[\"Product\"].isin(meat_products)\n",
    "dairy = df_all_products[\"Product\"].isin(dairy_products)\n",
    "other_non_vegan = df_all_products[\"Product\"].isin(other_non_vegan_products)\n",
    "\n",
    "df_non_vegan_products = df_all_products[non_vegan]\n",
    "df_meat_products = df_all_products[meat]\n",
    "df_dairy_products = df_all_products[dairy]\n",
    "df_other_non_vegan_products = df_all_products[other_non_vegan]\n",
    "\n",
    "#non vegan\n",
    "df_non_vegan_products_land_use = df_non_vegan_products.iloc[:, [0, 3]]\n",
    "df_non_vegan_products_ghg_2013 = df_non_vegan_products.iloc[:, [0, 9]]\n",
    "df_non_vegan_products_ghg_2007 = df_non_vegan_products.iloc[:, [0, 15]]\n",
    "df_non_vegan_products_acid = df_non_vegan_products.iloc[:, [0, 21]]\n",
    "df_non_vegan_products_eutro = df_non_vegan_products.iloc[:, [0, 27]]\n",
    "df_non_vegan_products_fresh_water_withdraw = df_non_vegan_products.iloc[:, [0, 33]]\n",
    "df_non_vegan_products_stress_water_use = df_non_vegan_products.iloc[:, [0, 39]]\n",
    "\n",
    "#meat products\n",
    "df_meat_products_land_use = df_meat_products.iloc[:, [0, 3]]\n",
    "df_meat_products_ghg_2013 = df_meat_products.iloc[:, [0, 9]]\n",
    "df_meat_products_ghg_2007 = df_meat_products.iloc[:, [0, 15]]\n",
    "df_meat_products_acid = df_meat_products.iloc[:, [0, 21]]\n",
    "df_meat_products_eutro = df_meat_products.iloc[:, [0, 27]]\n",
    "df_meat_products_fresh_water_withdraw = df_meat_products.iloc[:, [0, 33]]\n",
    "df_meat_products_stress_water_use = df_meat_products.iloc[:, [0, 39]]\n",
    "#dairy\n",
    "df_dairy_products_land_use = df_dairy_products.iloc[:, [0, 3]]\n",
    "df_dairy_products_ghg_2013 = df_dairy_products.iloc[:, [0, 9]]\n",
    "df_dairy_products_ghg_2007 = df_dairy_products.iloc[:, [0, 15]]\n",
    "df_dairy_products_acid = df_dairy_products.iloc[:, [0, 21]]\n",
    "df_dairy_products_eutro = df_dairy_products.iloc[:, [0, 27]]\n",
    "df_dairy_products_fresh_water_withdraw = df_dairy_products.iloc[:, [0, 33]]\n",
    "df_dairy_products_stress_water_use = df_dairy_products.iloc[:, [0, 39]]\n",
    "\n",
    "#other non vegan\n",
    "df_other_non_vegan_products_land_use = df_other_non_vegan_products.iloc[:, [0, 3]]\n",
    "df_other_non_vegan_products_ghg_2013 = df_other_non_vegan_products.iloc[:, [0, 9]]\n",
    "df_other_non_vegan_products_ghg_2007 = df_other_non_vegan_products.iloc[:, [0, 15]]\n",
    "df_other_non_vegan_products_acid = df_other_non_vegan_products.iloc[:, [0, 21]]\n",
    "df_other_non_vegan_products_eutro = df_other_non_vegan_products.iloc[:, [0, 27]]\n",
    "df_other_non_vegan_products_fresh_water_withdraw = df_other_non_vegan_products.iloc[:, [0, 33]]\n",
    "df_other_non_vegan_products_stress_water_use = df_other_non_vegan_products.iloc[:, [0, 39]]\n",
    "\n",
    "\n",
    "#vegan products\n",
    "grains_products = ['Wheat & Rye (Bread)', 'Maize (Meal)', 'Oatmeal', 'Rice']\n",
    "vegetables_products = ['Potatoes', 'Cassava', 'Tomatoes', 'Onions & Leeks', 'Root Vegetables', 'Brassicas', 'Other Vegetables']\n",
    "fruits_products = ['Citrus Fruit', 'Bananas', 'Apples', 'Berries & Grapes', 'Other Fruit']\n",
    "legumes_products = ['Other Pulses', 'Peas', 'Nuts', 'Groundnuts']\n",
    "plant_based_alternatives_products = ['Soymilk', 'Tofu']\n",
    "oils_products = ['Soybean Oil', 'Sunflower Oil', 'Olive Oil']\n",
    "others_products = ['Coffee', 'Dark Chocolate']\n",
    "\n",
    "vegan = ~df_all_products['Product'].isin(non_vegan_products)\n",
    "grains = df_all_products[\"Product\"].isin(grains_products)\n",
    "vegetables = df_all_products[\"Product\"].isin(vegetables_products)\n",
    "fruits = df_all_products[\"Product\"].isin(fruits_products)\n",
    "legumes = df_all_products[\"Product\"].isin(legumes_products)\n",
    "plant_based_alternatives = df_all_products[\"Product\"].isin(plant_based_alternatives_products)\n",
    "oils = df_all_products[\"Product\"].isin(oils_products)\n",
    "others = df_all_products[\"Product\"].isin(others_products)\n",
    "\n",
    "\n",
    "df_vegan_products = df_all_products[vegan]\n",
    "df_grains_products = df_all_products[grains]\n",
    "df_vegetables_products = df_all_products[vegetables]\n",
    "df_fruits_products = df_all_products[fruits]\n",
    "df_legumes_products = df_all_products[legumes]\n",
    "df_plant_based_alternatives_products = df_all_products[plant_based_alternatives]\n",
    "df_oils_products = df_all_products[oils]\n",
    "df_others_products = df_all_products[others]\n",
    "\n",
    "#vegan\n",
    "df_vegan_products_land_use = df_vegan_products.iloc[:, [0, 3]]\n",
    "df_vegan_products_ghg_2013 = df_vegan_products.iloc[:, [0, 9]]\n",
    "df_vegan_products_ghg_2007 = df_vegan_products.iloc[:, [0, 15]]\n",
    "df_vegan_products_acid = df_vegan_products.iloc[:, [0, 21]]\n",
    "df_vegan_products_eutro = df_vegan_products.iloc[:, [0, 27]]\n",
    "df_vegan_products_fresh_water_withdraw = df_vegan_products.iloc[:, [0, 33]]\n",
    "df_vegan_products_stress_water_use = df_vegan_products.iloc[:, [0, 39]]\n",
    "\n",
    "\n",
    "\n"
   ]
  },
  {
   "attachments": {},
   "cell_type": "markdown",
   "metadata": {},
   "source": [
    "##### Visualisation 2: sunburst charts that show the division of the ecological footprint between vegan and non-vegan products\n",
    "* Overall meat is the biggest contributor to a large ecological footprint\n",
    "* Lamb & mutton are the overall biggest contributer\n",
    "* the non-vegan products have an ecological foot print that is about ten times larger then the vegan products\n"
   ]
  },
  {
   "cell_type": "code",
   "execution_count": 65,
   "metadata": {
    "jupyter": {
     "source_hidden": true
    }
   },
   "outputs": [
    {
     "data": {
      "application/vnd.plotly.v1+json": {
       "config": {
        "plotlyServerURL": "https://plot.ly"
       },
       "data": [
        {
         "marker": {
          "color": [
           "darkgreen",
           "darkred"
          ]
         },
         "name": "Land use",
         "type": "bar",
         "x": [
          "Vegan",
          "Non-vegan"
         ],
         "xaxis": "x",
         "y": [
          240.06,
          886.38
         ],
         "yaxis": "y"
        },
        {
         "marker": {
          "color": [
           "darkgreen",
           "darkred"
          ]
         },
         "name": "GHG emission",
         "type": "bar",
         "x": [
          "Vegan",
          "Non-vegan"
         ],
         "xaxis": "x2",
         "y": [
          136.08,
          271.25999999999993
         ],
         "yaxis": "y2"
        },
        {
         "marker": {
          "color": [
           "darkgreen",
           "darkred"
          ]
         },
         "name": "Acidification",
         "type": "bar",
         "x": [
          "Vegan",
          "Non-vegan"
         ],
         "xaxis": "x3",
         "y": [
          133.32,
          237.76999999999998
         ],
         "yaxis": "y3"
        },
        {
         "marker": {
          "color": [
           "darkgreen",
           "darkred"
          ]
         },
         "name": "Eutrophication",
         "type": "bar",
         "x": [
          "Vegan",
          "Non-vegan"
         ],
         "xaxis": "x5",
         "y": [
          530.22,
          1509.3300000000002
         ],
         "yaxis": "y5"
        },
        {
         "marker": {
          "color": [
           "darkgreen",
           "darkred"
          ]
         },
         "name": "Fresh Water Withdrawal",
         "type": "bar",
         "x": [
          "Vegan",
          "Non-vegan"
         ],
         "xaxis": "x6",
         "y": [
          498.98999999999995,
          1501.28
         ],
         "yaxis": "y6"
        },
        {
         "marker": {
          "color": [
           "darkgreen",
           "darkred"
          ]
         },
         "name": "Stress Water Use",
         "type": "bar",
         "x": [
          "Vegan",
          "Non-vegan"
         ],
         "xaxis": "x7",
         "y": [
          16904.2,
          23079.100000000002
         ],
         "yaxis": "y7"
        }
       ],
       "layout": {
        "height": 800,
        "showlegend": false,
        "template": {
         "data": {
          "bar": [
           {
            "error_x": {
             "color": "#2a3f5f"
            },
            "error_y": {
             "color": "#2a3f5f"
            },
            "marker": {
             "line": {
              "color": "#E5ECF6",
              "width": 0.5
             },
             "pattern": {
              "fillmode": "overlay",
              "size": 10,
              "solidity": 0.2
             }
            },
            "type": "bar"
           }
          ],
          "barpolar": [
           {
            "marker": {
             "line": {
              "color": "#E5ECF6",
              "width": 0.5
             },
             "pattern": {
              "fillmode": "overlay",
              "size": 10,
              "solidity": 0.2
             }
            },
            "type": "barpolar"
           }
          ],
          "carpet": [
           {
            "aaxis": {
             "endlinecolor": "#2a3f5f",
             "gridcolor": "white",
             "linecolor": "white",
             "minorgridcolor": "white",
             "startlinecolor": "#2a3f5f"
            },
            "baxis": {
             "endlinecolor": "#2a3f5f",
             "gridcolor": "white",
             "linecolor": "white",
             "minorgridcolor": "white",
             "startlinecolor": "#2a3f5f"
            },
            "type": "carpet"
           }
          ],
          "choropleth": [
           {
            "colorbar": {
             "outlinewidth": 0,
             "ticks": ""
            },
            "type": "choropleth"
           }
          ],
          "contour": [
           {
            "colorbar": {
             "outlinewidth": 0,
             "ticks": ""
            },
            "colorscale": [
             [
              0,
              "#0d0887"
             ],
             [
              0.1111111111111111,
              "#46039f"
             ],
             [
              0.2222222222222222,
              "#7201a8"
             ],
             [
              0.3333333333333333,
              "#9c179e"
             ],
             [
              0.4444444444444444,
              "#bd3786"
             ],
             [
              0.5555555555555556,
              "#d8576b"
             ],
             [
              0.6666666666666666,
              "#ed7953"
             ],
             [
              0.7777777777777778,
              "#fb9f3a"
             ],
             [
              0.8888888888888888,
              "#fdca26"
             ],
             [
              1,
              "#f0f921"
             ]
            ],
            "type": "contour"
           }
          ],
          "contourcarpet": [
           {
            "colorbar": {
             "outlinewidth": 0,
             "ticks": ""
            },
            "type": "contourcarpet"
           }
          ],
          "heatmap": [
           {
            "colorbar": {
             "outlinewidth": 0,
             "ticks": ""
            },
            "colorscale": [
             [
              0,
              "#0d0887"
             ],
             [
              0.1111111111111111,
              "#46039f"
             ],
             [
              0.2222222222222222,
              "#7201a8"
             ],
             [
              0.3333333333333333,
              "#9c179e"
             ],
             [
              0.4444444444444444,
              "#bd3786"
             ],
             [
              0.5555555555555556,
              "#d8576b"
             ],
             [
              0.6666666666666666,
              "#ed7953"
             ],
             [
              0.7777777777777778,
              "#fb9f3a"
             ],
             [
              0.8888888888888888,
              "#fdca26"
             ],
             [
              1,
              "#f0f921"
             ]
            ],
            "type": "heatmap"
           }
          ],
          "heatmapgl": [
           {
            "colorbar": {
             "outlinewidth": 0,
             "ticks": ""
            },
            "colorscale": [
             [
              0,
              "#0d0887"
             ],
             [
              0.1111111111111111,
              "#46039f"
             ],
             [
              0.2222222222222222,
              "#7201a8"
             ],
             [
              0.3333333333333333,
              "#9c179e"
             ],
             [
              0.4444444444444444,
              "#bd3786"
             ],
             [
              0.5555555555555556,
              "#d8576b"
             ],
             [
              0.6666666666666666,
              "#ed7953"
             ],
             [
              0.7777777777777778,
              "#fb9f3a"
             ],
             [
              0.8888888888888888,
              "#fdca26"
             ],
             [
              1,
              "#f0f921"
             ]
            ],
            "type": "heatmapgl"
           }
          ],
          "histogram": [
           {
            "marker": {
             "pattern": {
              "fillmode": "overlay",
              "size": 10,
              "solidity": 0.2
             }
            },
            "type": "histogram"
           }
          ],
          "histogram2d": [
           {
            "colorbar": {
             "outlinewidth": 0,
             "ticks": ""
            },
            "colorscale": [
             [
              0,
              "#0d0887"
             ],
             [
              0.1111111111111111,
              "#46039f"
             ],
             [
              0.2222222222222222,
              "#7201a8"
             ],
             [
              0.3333333333333333,
              "#9c179e"
             ],
             [
              0.4444444444444444,
              "#bd3786"
             ],
             [
              0.5555555555555556,
              "#d8576b"
             ],
             [
              0.6666666666666666,
              "#ed7953"
             ],
             [
              0.7777777777777778,
              "#fb9f3a"
             ],
             [
              0.8888888888888888,
              "#fdca26"
             ],
             [
              1,
              "#f0f921"
             ]
            ],
            "type": "histogram2d"
           }
          ],
          "histogram2dcontour": [
           {
            "colorbar": {
             "outlinewidth": 0,
             "ticks": ""
            },
            "colorscale": [
             [
              0,
              "#0d0887"
             ],
             [
              0.1111111111111111,
              "#46039f"
             ],
             [
              0.2222222222222222,
              "#7201a8"
             ],
             [
              0.3333333333333333,
              "#9c179e"
             ],
             [
              0.4444444444444444,
              "#bd3786"
             ],
             [
              0.5555555555555556,
              "#d8576b"
             ],
             [
              0.6666666666666666,
              "#ed7953"
             ],
             [
              0.7777777777777778,
              "#fb9f3a"
             ],
             [
              0.8888888888888888,
              "#fdca26"
             ],
             [
              1,
              "#f0f921"
             ]
            ],
            "type": "histogram2dcontour"
           }
          ],
          "mesh3d": [
           {
            "colorbar": {
             "outlinewidth": 0,
             "ticks": ""
            },
            "type": "mesh3d"
           }
          ],
          "parcoords": [
           {
            "line": {
             "colorbar": {
              "outlinewidth": 0,
              "ticks": ""
             }
            },
            "type": "parcoords"
           }
          ],
          "pie": [
           {
            "automargin": true,
            "type": "pie"
           }
          ],
          "scatter": [
           {
            "fillpattern": {
             "fillmode": "overlay",
             "size": 10,
             "solidity": 0.2
            },
            "type": "scatter"
           }
          ],
          "scatter3d": [
           {
            "line": {
             "colorbar": {
              "outlinewidth": 0,
              "ticks": ""
             }
            },
            "marker": {
             "colorbar": {
              "outlinewidth": 0,
              "ticks": ""
             }
            },
            "type": "scatter3d"
           }
          ],
          "scattercarpet": [
           {
            "marker": {
             "colorbar": {
              "outlinewidth": 0,
              "ticks": ""
             }
            },
            "type": "scattercarpet"
           }
          ],
          "scattergeo": [
           {
            "marker": {
             "colorbar": {
              "outlinewidth": 0,
              "ticks": ""
             }
            },
            "type": "scattergeo"
           }
          ],
          "scattergl": [
           {
            "marker": {
             "colorbar": {
              "outlinewidth": 0,
              "ticks": ""
             }
            },
            "type": "scattergl"
           }
          ],
          "scattermapbox": [
           {
            "marker": {
             "colorbar": {
              "outlinewidth": 0,
              "ticks": ""
             }
            },
            "type": "scattermapbox"
           }
          ],
          "scatterpolar": [
           {
            "marker": {
             "colorbar": {
              "outlinewidth": 0,
              "ticks": ""
             }
            },
            "type": "scatterpolar"
           }
          ],
          "scatterpolargl": [
           {
            "marker": {
             "colorbar": {
              "outlinewidth": 0,
              "ticks": ""
             }
            },
            "type": "scatterpolargl"
           }
          ],
          "scatterternary": [
           {
            "marker": {
             "colorbar": {
              "outlinewidth": 0,
              "ticks": ""
             }
            },
            "type": "scatterternary"
           }
          ],
          "surface": [
           {
            "colorbar": {
             "outlinewidth": 0,
             "ticks": ""
            },
            "colorscale": [
             [
              0,
              "#0d0887"
             ],
             [
              0.1111111111111111,
              "#46039f"
             ],
             [
              0.2222222222222222,
              "#7201a8"
             ],
             [
              0.3333333333333333,
              "#9c179e"
             ],
             [
              0.4444444444444444,
              "#bd3786"
             ],
             [
              0.5555555555555556,
              "#d8576b"
             ],
             [
              0.6666666666666666,
              "#ed7953"
             ],
             [
              0.7777777777777778,
              "#fb9f3a"
             ],
             [
              0.8888888888888888,
              "#fdca26"
             ],
             [
              1,
              "#f0f921"
             ]
            ],
            "type": "surface"
           }
          ],
          "table": [
           {
            "cells": {
             "fill": {
              "color": "#EBF0F8"
             },
             "line": {
              "color": "white"
             }
            },
            "header": {
             "fill": {
              "color": "#C8D4E3"
             },
             "line": {
              "color": "white"
             }
            },
            "type": "table"
           }
          ]
         },
         "layout": {
          "annotationdefaults": {
           "arrowcolor": "#2a3f5f",
           "arrowhead": 0,
           "arrowwidth": 1
          },
          "autotypenumbers": "strict",
          "coloraxis": {
           "colorbar": {
            "outlinewidth": 0,
            "ticks": ""
           }
          },
          "colorscale": {
           "diverging": [
            [
             0,
             "#8e0152"
            ],
            [
             0.1,
             "#c51b7d"
            ],
            [
             0.2,
             "#de77ae"
            ],
            [
             0.3,
             "#f1b6da"
            ],
            [
             0.4,
             "#fde0ef"
            ],
            [
             0.5,
             "#f7f7f7"
            ],
            [
             0.6,
             "#e6f5d0"
            ],
            [
             0.7,
             "#b8e186"
            ],
            [
             0.8,
             "#7fbc41"
            ],
            [
             0.9,
             "#4d9221"
            ],
            [
             1,
             "#276419"
            ]
           ],
           "sequential": [
            [
             0,
             "#0d0887"
            ],
            [
             0.1111111111111111,
             "#46039f"
            ],
            [
             0.2222222222222222,
             "#7201a8"
            ],
            [
             0.3333333333333333,
             "#9c179e"
            ],
            [
             0.4444444444444444,
             "#bd3786"
            ],
            [
             0.5555555555555556,
             "#d8576b"
            ],
            [
             0.6666666666666666,
             "#ed7953"
            ],
            [
             0.7777777777777778,
             "#fb9f3a"
            ],
            [
             0.8888888888888888,
             "#fdca26"
            ],
            [
             1,
             "#f0f921"
            ]
           ],
           "sequentialminus": [
            [
             0,
             "#0d0887"
            ],
            [
             0.1111111111111111,
             "#46039f"
            ],
            [
             0.2222222222222222,
             "#7201a8"
            ],
            [
             0.3333333333333333,
             "#9c179e"
            ],
            [
             0.4444444444444444,
             "#bd3786"
            ],
            [
             0.5555555555555556,
             "#d8576b"
            ],
            [
             0.6666666666666666,
             "#ed7953"
            ],
            [
             0.7777777777777778,
             "#fb9f3a"
            ],
            [
             0.8888888888888888,
             "#fdca26"
            ],
            [
             1,
             "#f0f921"
            ]
           ]
          },
          "colorway": [
           "#636efa",
           "#EF553B",
           "#00cc96",
           "#ab63fa",
           "#FFA15A",
           "#19d3f3",
           "#FF6692",
           "#B6E880",
           "#FF97FF",
           "#FECB52"
          ],
          "font": {
           "color": "#2a3f5f"
          },
          "geo": {
           "bgcolor": "white",
           "lakecolor": "white",
           "landcolor": "#E5ECF6",
           "showlakes": true,
           "showland": true,
           "subunitcolor": "white"
          },
          "hoverlabel": {
           "align": "left"
          },
          "hovermode": "closest",
          "mapbox": {
           "style": "light"
          },
          "paper_bgcolor": "white",
          "plot_bgcolor": "#E5ECF6",
          "polar": {
           "angularaxis": {
            "gridcolor": "white",
            "linecolor": "white",
            "ticks": ""
           },
           "bgcolor": "#E5ECF6",
           "radialaxis": {
            "gridcolor": "white",
            "linecolor": "white",
            "ticks": ""
           }
          },
          "scene": {
           "xaxis": {
            "backgroundcolor": "#E5ECF6",
            "gridcolor": "white",
            "gridwidth": 2,
            "linecolor": "white",
            "showbackground": true,
            "ticks": "",
            "zerolinecolor": "white"
           },
           "yaxis": {
            "backgroundcolor": "#E5ECF6",
            "gridcolor": "white",
            "gridwidth": 2,
            "linecolor": "white",
            "showbackground": true,
            "ticks": "",
            "zerolinecolor": "white"
           },
           "zaxis": {
            "backgroundcolor": "#E5ECF6",
            "gridcolor": "white",
            "gridwidth": 2,
            "linecolor": "white",
            "showbackground": true,
            "ticks": "",
            "zerolinecolor": "white"
           }
          },
          "shapedefaults": {
           "line": {
            "color": "#2a3f5f"
           }
          },
          "ternary": {
           "aaxis": {
            "gridcolor": "white",
            "linecolor": "white",
            "ticks": ""
           },
           "baxis": {
            "gridcolor": "white",
            "linecolor": "white",
            "ticks": ""
           },
           "bgcolor": "#E5ECF6",
           "caxis": {
            "gridcolor": "white",
            "linecolor": "white",
            "ticks": ""
           }
          },
          "title": {
           "x": 0.05
          },
          "xaxis": {
           "automargin": true,
           "gridcolor": "white",
           "linecolor": "white",
           "ticks": "",
           "title": {
            "standoff": 15
           },
           "zerolinecolor": "white",
           "zerolinewidth": 2
          },
          "yaxis": {
           "automargin": true,
           "gridcolor": "white",
           "linecolor": "white",
           "ticks": "",
           "title": {
            "standoff": 15
           },
           "zerolinecolor": "white",
           "zerolinewidth": 2
          }
         }
        },
        "xaxis": {
         "anchor": "y",
         "domain": [
          0,
          0.2125
         ],
         "title": {
          "text": "Land use"
         }
        },
        "xaxis2": {
         "anchor": "y2",
         "domain": [
          0.2625,
          0.475
         ],
         "title": {
          "text": "GHG emission"
         }
        },
        "xaxis3": {
         "anchor": "y3",
         "domain": [
          0.525,
          0.7375
         ],
         "title": {
          "text": "Acidification"
         }
        },
        "xaxis4": {
         "anchor": "y4",
         "domain": [
          0.7875,
          1
         ]
        },
        "xaxis5": {
         "anchor": "y5",
         "domain": [
          0,
          0.2125
         ],
         "title": {
          "text": "Eutrophication"
         }
        },
        "xaxis6": {
         "anchor": "y6",
         "domain": [
          0.2625,
          0.475
         ],
         "title": {
          "text": "Fresh Water Withdrawal"
         }
        },
        "xaxis7": {
         "anchor": "y7",
         "domain": [
          0.525,
          0.7375
         ],
         "title": {
          "text": "Stress Water Use"
         }
        },
        "xaxis8": {
         "anchor": "y8",
         "domain": [
          0.7875,
          1
         ]
        },
        "yaxis": {
         "anchor": "x",
         "domain": [
          0.6000000000000001,
          1
         ],
         "title": {
          "text": "(m2/FU)"
         }
        },
        "yaxis2": {
         "anchor": "x2",
         "domain": [
          0.6000000000000001,
          1
         ],
         "title": {
          "text": "(kg CO2eq/FU)"
         }
        },
        "yaxis3": {
         "anchor": "x3",
         "domain": [
          0.6000000000000001,
          1
         ],
         "title": {
          "text": "(kg CO2eq/FU)"
         }
        },
        "yaxis4": {
         "anchor": "x4",
         "domain": [
          0.6000000000000001,
          1
         ]
        },
        "yaxis5": {
         "anchor": "x5",
         "domain": [
          0,
          0.4
         ],
         "title": {
          "text": "(g SO2eq/FU)"
         }
        },
        "yaxis6": {
         "anchor": "x6",
         "domain": [
          0,
          0.4
         ],
         "title": {
          "text": "(g PO43-eq/FU)"
         }
        },
        "yaxis7": {
         "anchor": "x7",
         "domain": [
          0,
          0.4
         ],
         "title": {
          "text": "(L/FU)"
         }
        },
        "yaxis8": {
         "anchor": "x8",
         "domain": [
          0,
          0.4
         ]
        }
       }
      }
     },
     "metadata": {},
     "output_type": "display_data"
    }
   ],
   "source": [
    "# Define the data for the bar plots\n",
    "categories = ['Land use', 'GHG emission', 'Acidification', 'Eutrophication', 'Fresh Water Withdrawal', 'Stress Water Use']\n",
    "vegan_values = [df_vegan_products_land_use[\"Mean\"].sum(),\n",
    "                df_vegan_products_ghg_2013[\"Mean.1\"].sum(),\n",
    "                df_vegan_products_ghg_2007[\"Mean.2\"].sum(),\n",
    "                df_vegan_products_acid[\"Mean.3\"].sum(),\n",
    "                df_vegan_products_eutro[\"Mean.4\"].sum(),\n",
    "                df_vegan_products_fresh_water_withdraw[\"Mean.5\"].sum(),\n",
    "                df_vegan_products_stress_water_use[\"Mean.6\"].sum()]\n",
    "non_vegan_values = [df_non_vegan_products_land_use[\"Mean\"].sum(),\n",
    "                    df_non_vegan_products_ghg_2013[\"Mean.1\"].sum(),\n",
    "                    df_non_vegan_products_ghg_2007[\"Mean.2\"].sum(),\n",
    "                    df_non_vegan_products_acid[\"Mean.3\"].sum(),\n",
    "                    df_non_vegan_products_eutro[\"Mean.4\"].sum(),\n",
    "                    df_non_vegan_products_fresh_water_withdraw[\"Mean.5\"].sum(),\n",
    "                    df_non_vegan_products_stress_water_use[\"Mean.6\"].sum()]\n",
    "yaxvalues = ['(m2/FU)', '(kg CO2eq/FU)', '(kg CO2eq/FU)', '(g SO2eq/FU)', '(g PO43-eq/FU)', '(L/FU)', '(L/FU)']\n",
    "\n",
    "\n",
    "labels = [\"\", \"Non-vegan\", \"Vegan\"] + list(df_non_vegan_products[\"Product\"]) + list(df_vegan_products[\"Product\"])\n",
    "parents = [\"\", \"\", \"\"] + [\"Non-vegan\"] * len(df_non_vegan_products) + [\"Vegan\"] * len(df_vegan_products)\n",
    "\n",
    "# Creating the figure\n",
    "specs_list1 = [{'type': 'bar'},{'type': 'bar'},{'type': 'bar'},{'type': 'bar'},]\n",
    "specs_list = [specs_list1, specs_list1]\n",
    "\n",
    "fig = make_subplots(rows=2, cols=4, specs=specs_list, vertical_spacing=0.2)\n",
    "\n",
    "# Creating and adding the bar plots to the figure\n",
    "i = 0\n",
    "for category, vegan_value, non_vegan_value in zip(categories, vegan_values, non_vegan_values):\n",
    "    i += 1\n",
    "    if i < 4:\n",
    "        fig.add_trace(go.Bar(\n",
    "            x=['Vegan', 'Non-vegan'],\n",
    "            y=[vegan_value, non_vegan_value],\n",
    "            name=category,\n",
    "            marker_color=['darkgreen', 'darkred']\n",
    "        ), row=1, col=categories.index(category) + 1)\n",
    "        fig.update_xaxes(title_text=category, row=1, col=categories.index(category) + 1)\n",
    "        fig.update_yaxes(title_text=yaxvalues[categories.index(category)], row=1, col=categories.index(category) + 1)\n",
    "    else:\n",
    "        fig.add_trace(go.Bar(\n",
    "            x=['Vegan', 'Non-vegan'],\n",
    "            y=[vegan_value, non_vegan_value],\n",
    "            name=category,\n",
    "            marker_color=['darkgreen', 'darkred']\n",
    "        ), row=2, col=categories.index(category) - 2)\n",
    "\n",
    "        fig.update_xaxes(title_text=category, row=2, col=categories.index(category) - 2)\n",
    "        fig.update_yaxes(title_text=yaxvalues[categories.index(category)], row=2, col=categories.index(category) - 2)\n",
    "\n",
    "fig.update_layout(height=800, showlegend=False)\n",
    "fig.show()"
   ]
  },
  {
   "attachments": {},
   "cell_type": "markdown",
   "metadata": {},
   "source": [
    "#### fig2: Sunburst figures of vegan vs non-vegan emissions\n",
    "\n",
    "These figures show the significant difference in land use and greenhouse gas emissions between vegan and non-vegan products. In all cases, square meters per fixture unit is used for land use, and kg CO2 equivalent per fixture unit is used for GHG emissions.\n",
    "\n",
    "The figures are meant to support the perspective that the type of food matters more than the sourcing; we need to evaluate what\n",
    "it is we eat, not necessarily where it’s from."
   ]
  },
  {
   "attachments": {},
   "cell_type": "markdown",
   "metadata": {},
   "source": [
    "##### Visualisation 3: interactive bar chart with dropdown menu\n",
    "* The interactive bar chart provides a comprehensive view of the important aspects of the ecological footprint of various products\n",
    "* The chart's interactivity allows users to dynamically visualize and compare the ecological footprint of various products across different metrics.\n",
    "* Within each category, users can further explore specific aspects by selecting from a dropdown menu.\n"
   ]
  },
  {
   "cell_type": "code",
   "execution_count": null,
   "metadata": {},
   "outputs": [
    {
     "data": {
      "application/vnd.plotly.v1+json": {
       "config": {
        "plotlyServerURL": "https://plot.ly"
       },
       "data": [
        {
         "dimensions": [
          {
           "categoryarray": [
            "low",
            "medium",
            "high"
           ],
           "categoryorder": "array",
           "label": "Land Use",
           "values": [
            "medium",
            "medium",
            "low",
            "medium",
            "medium",
            "low",
            "low",
            "medium",
            "low",
            "high",
            "medium",
            "medium",
            "medium",
            "low",
            "medium",
            "high",
            "medium",
            "high",
            "high",
            "high",
            "low",
            "low",
            "low",
            "low",
            "low",
            "low",
            "low",
            "low",
            "medium",
            "medium",
            "low",
            "high",
            "high",
            "high",
            "high",
            "high",
            "high",
            "high",
            "high",
            "high",
            "medium",
            "medium",
            "low"
           ]
          },
          {
           "categoryarray": [
            "low",
            "medium",
            "high"
           ],
           "categoryorder": "array",
           "label": "Eutrophication",
           "values": [
            "medium",
            "low",
            "low",
            "medium",
            "high",
            "low",
            "low",
            "medium",
            "low",
            "medium",
            "medium",
            "medium",
            "medium",
            "low",
            "medium",
            "medium",
            "medium",
            "high",
            "medium",
            "high",
            "medium",
            "low",
            "low",
            "low",
            "low",
            "low",
            "low",
            "low",
            "medium",
            "low",
            "low",
            "high",
            "high",
            "high",
            "high",
            "high",
            "high",
            "high",
            "medium",
            "high",
            "high",
            "high",
            "high"
           ]
          },
          {
           "categoryarray": [
            "low",
            "medium",
            "high"
           ],
           "categoryorder": "array",
           "label": "Freshwater Use",
           "values": [
            "high",
            "low",
            "low",
            "medium",
            "high",
            "low",
            "low",
            "medium",
            "medium",
            "medium",
            "medium",
            "high",
            "high",
            "low",
            "medium",
            "medium",
            "low",
            "high",
            "medium",
            "high",
            "medium",
            "low",
            "low",
            "low",
            "low",
            "low",
            "low",
            "medium",
            "medium",
            "low",
            "low",
            "low",
            "medium",
            "high",
            "high",
            "high",
            "high",
            "medium",
            "medium",
            "high",
            "high",
            "high",
            "high"
           ]
          },
          {
           "categoryarray": [
            "low",
            "medium",
            "high"
           ],
           "categoryorder": "array",
           "label": "GHG Emissions",
           "values": [
            "medium",
            "low",
            "low",
            "medium",
            "medium",
            "low",
            "low",
            "medium",
            "medium",
            "medium",
            "low",
            "low",
            "medium",
            "low",
            "medium",
            "high",
            "high",
            "medium",
            "medium",
            "high",
            "medium",
            "low",
            "low",
            "low",
            "low",
            "low",
            "low",
            "low",
            "medium",
            "medium",
            "low",
            "high",
            "high",
            "high",
            "high",
            "high",
            "high",
            "high",
            "medium",
            "high",
            "high",
            "high",
            "high"
           ]
          }
         ],
         "line": {
          "color": [
           "mediumseagreen",
           "lightsteelblue",
           "lightsteelblue",
           "mediumseagreen",
           "mediumseagreen",
           "lightsteelblue",
           "lightsteelblue",
           "mediumseagreen",
           "mediumseagreen",
           "mediumseagreen",
           "lightsteelblue",
           "lightsteelblue",
           "mediumseagreen",
           "lightsteelblue",
           "mediumseagreen",
           "salmon",
           "salmon",
           "mediumseagreen",
           "mediumseagreen",
           "salmon",
           "mediumseagreen",
           "lightsteelblue",
           "lightsteelblue",
           "lightsteelblue",
           "lightsteelblue",
           "lightsteelblue",
           "lightsteelblue",
           "lightsteelblue",
           "mediumseagreen",
           "mediumseagreen",
           "lightsteelblue",
           "salmon",
           "salmon",
           "salmon",
           "salmon",
           "salmon",
           "salmon",
           "salmon",
           "mediumseagreen",
           "salmon",
           "salmon",
           "salmon",
           "salmon"
          ]
         },
         "type": "parcats"
        }
       ],
       "layout": {
        "template": {
         "data": {
          "bar": [
           {
            "error_x": {
             "color": "#2a3f5f"
            },
            "error_y": {
             "color": "#2a3f5f"
            },
            "marker": {
             "line": {
              "color": "#E5ECF6",
              "width": 0.5
             },
             "pattern": {
              "fillmode": "overlay",
              "size": 10,
              "solidity": 0.2
             }
            },
            "type": "bar"
           }
          ],
          "barpolar": [
           {
            "marker": {
             "line": {
              "color": "#E5ECF6",
              "width": 0.5
             },
             "pattern": {
              "fillmode": "overlay",
              "size": 10,
              "solidity": 0.2
             }
            },
            "type": "barpolar"
           }
          ],
          "carpet": [
           {
            "aaxis": {
             "endlinecolor": "#2a3f5f",
             "gridcolor": "white",
             "linecolor": "white",
             "minorgridcolor": "white",
             "startlinecolor": "#2a3f5f"
            },
            "baxis": {
             "endlinecolor": "#2a3f5f",
             "gridcolor": "white",
             "linecolor": "white",
             "minorgridcolor": "white",
             "startlinecolor": "#2a3f5f"
            },
            "type": "carpet"
           }
          ],
          "choropleth": [
           {
            "colorbar": {
             "outlinewidth": 0,
             "ticks": ""
            },
            "type": "choropleth"
           }
          ],
          "contour": [
           {
            "colorbar": {
             "outlinewidth": 0,
             "ticks": ""
            },
            "colorscale": [
             [
              0,
              "#0d0887"
             ],
             [
              0.1111111111111111,
              "#46039f"
             ],
             [
              0.2222222222222222,
              "#7201a8"
             ],
             [
              0.3333333333333333,
              "#9c179e"
             ],
             [
              0.4444444444444444,
              "#bd3786"
             ],
             [
              0.5555555555555556,
              "#d8576b"
             ],
             [
              0.6666666666666666,
              "#ed7953"
             ],
             [
              0.7777777777777778,
              "#fb9f3a"
             ],
             [
              0.8888888888888888,
              "#fdca26"
             ],
             [
              1,
              "#f0f921"
             ]
            ],
            "type": "contour"
           }
          ],
          "contourcarpet": [
           {
            "colorbar": {
             "outlinewidth": 0,
             "ticks": ""
            },
            "type": "contourcarpet"
           }
          ],
          "heatmap": [
           {
            "colorbar": {
             "outlinewidth": 0,
             "ticks": ""
            },
            "colorscale": [
             [
              0,
              "#0d0887"
             ],
             [
              0.1111111111111111,
              "#46039f"
             ],
             [
              0.2222222222222222,
              "#7201a8"
             ],
             [
              0.3333333333333333,
              "#9c179e"
             ],
             [
              0.4444444444444444,
              "#bd3786"
             ],
             [
              0.5555555555555556,
              "#d8576b"
             ],
             [
              0.6666666666666666,
              "#ed7953"
             ],
             [
              0.7777777777777778,
              "#fb9f3a"
             ],
             [
              0.8888888888888888,
              "#fdca26"
             ],
             [
              1,
              "#f0f921"
             ]
            ],
            "type": "heatmap"
           }
          ],
          "heatmapgl": [
           {
            "colorbar": {
             "outlinewidth": 0,
             "ticks": ""
            },
            "colorscale": [
             [
              0,
              "#0d0887"
             ],
             [
              0.1111111111111111,
              "#46039f"
             ],
             [
              0.2222222222222222,
              "#7201a8"
             ],
             [
              0.3333333333333333,
              "#9c179e"
             ],
             [
              0.4444444444444444,
              "#bd3786"
             ],
             [
              0.5555555555555556,
              "#d8576b"
             ],
             [
              0.6666666666666666,
              "#ed7953"
             ],
             [
              0.7777777777777778,
              "#fb9f3a"
             ],
             [
              0.8888888888888888,
              "#fdca26"
             ],
             [
              1,
              "#f0f921"
             ]
            ],
            "type": "heatmapgl"
           }
          ],
          "histogram": [
           {
            "marker": {
             "pattern": {
              "fillmode": "overlay",
              "size": 10,
              "solidity": 0.2
             }
            },
            "type": "histogram"
           }
          ],
          "histogram2d": [
           {
            "colorbar": {
             "outlinewidth": 0,
             "ticks": ""
            },
            "colorscale": [
             [
              0,
              "#0d0887"
             ],
             [
              0.1111111111111111,
              "#46039f"
             ],
             [
              0.2222222222222222,
              "#7201a8"
             ],
             [
              0.3333333333333333,
              "#9c179e"
             ],
             [
              0.4444444444444444,
              "#bd3786"
             ],
             [
              0.5555555555555556,
              "#d8576b"
             ],
             [
              0.6666666666666666,
              "#ed7953"
             ],
             [
              0.7777777777777778,
              "#fb9f3a"
             ],
             [
              0.8888888888888888,
              "#fdca26"
             ],
             [
              1,
              "#f0f921"
             ]
            ],
            "type": "histogram2d"
           }
          ],
          "histogram2dcontour": [
           {
            "colorbar": {
             "outlinewidth": 0,
             "ticks": ""
            },
            "colorscale": [
             [
              0,
              "#0d0887"
             ],
             [
              0.1111111111111111,
              "#46039f"
             ],
             [
              0.2222222222222222,
              "#7201a8"
             ],
             [
              0.3333333333333333,
              "#9c179e"
             ],
             [
              0.4444444444444444,
              "#bd3786"
             ],
             [
              0.5555555555555556,
              "#d8576b"
             ],
             [
              0.6666666666666666,
              "#ed7953"
             ],
             [
              0.7777777777777778,
              "#fb9f3a"
             ],
             [
              0.8888888888888888,
              "#fdca26"
             ],
             [
              1,
              "#f0f921"
             ]
            ],
            "type": "histogram2dcontour"
           }
          ],
          "mesh3d": [
           {
            "colorbar": {
             "outlinewidth": 0,
             "ticks": ""
            },
            "type": "mesh3d"
           }
          ],
          "parcoords": [
           {
            "line": {
             "colorbar": {
              "outlinewidth": 0,
              "ticks": ""
             }
            },
            "type": "parcoords"
           }
          ],
          "pie": [
           {
            "automargin": true,
            "type": "pie"
           }
          ],
          "scatter": [
           {
            "fillpattern": {
             "fillmode": "overlay",
             "size": 10,
             "solidity": 0.2
            },
            "type": "scatter"
           }
          ],
          "scatter3d": [
           {
            "line": {
             "colorbar": {
              "outlinewidth": 0,
              "ticks": ""
             }
            },
            "marker": {
             "colorbar": {
              "outlinewidth": 0,
              "ticks": ""
             }
            },
            "type": "scatter3d"
           }
          ],
          "scattercarpet": [
           {
            "marker": {
             "colorbar": {
              "outlinewidth": 0,
              "ticks": ""
             }
            },
            "type": "scattercarpet"
           }
          ],
          "scattergeo": [
           {
            "marker": {
             "colorbar": {
              "outlinewidth": 0,
              "ticks": ""
             }
            },
            "type": "scattergeo"
           }
          ],
          "scattergl": [
           {
            "marker": {
             "colorbar": {
              "outlinewidth": 0,
              "ticks": ""
             }
            },
            "type": "scattergl"
           }
          ],
          "scattermapbox": [
           {
            "marker": {
             "colorbar": {
              "outlinewidth": 0,
              "ticks": ""
             }
            },
            "type": "scattermapbox"
           }
          ],
          "scatterpolar": [
           {
            "marker": {
             "colorbar": {
              "outlinewidth": 0,
              "ticks": ""
             }
            },
            "type": "scatterpolar"
           }
          ],
          "scatterpolargl": [
           {
            "marker": {
             "colorbar": {
              "outlinewidth": 0,
              "ticks": ""
             }
            },
            "type": "scatterpolargl"
           }
          ],
          "scatterternary": [
           {
            "marker": {
             "colorbar": {
              "outlinewidth": 0,
              "ticks": ""
             }
            },
            "type": "scatterternary"
           }
          ],
          "surface": [
           {
            "colorbar": {
             "outlinewidth": 0,
             "ticks": ""
            },
            "colorscale": [
             [
              0,
              "#0d0887"
             ],
             [
              0.1111111111111111,
              "#46039f"
             ],
             [
              0.2222222222222222,
              "#7201a8"
             ],
             [
              0.3333333333333333,
              "#9c179e"
             ],
             [
              0.4444444444444444,
              "#bd3786"
             ],
             [
              0.5555555555555556,
              "#d8576b"
             ],
             [
              0.6666666666666666,
              "#ed7953"
             ],
             [
              0.7777777777777778,
              "#fb9f3a"
             ],
             [
              0.8888888888888888,
              "#fdca26"
             ],
             [
              1,
              "#f0f921"
             ]
            ],
            "type": "surface"
           }
          ],
          "table": [
           {
            "cells": {
             "fill": {
              "color": "#EBF0F8"
             },
             "line": {
              "color": "white"
             }
            },
            "header": {
             "fill": {
              "color": "#C8D4E3"
             },
             "line": {
              "color": "white"
             }
            },
            "type": "table"
           }
          ]
         },
         "layout": {
          "annotationdefaults": {
           "arrowcolor": "#2a3f5f",
           "arrowhead": 0,
           "arrowwidth": 1
          },
          "autotypenumbers": "strict",
          "coloraxis": {
           "colorbar": {
            "outlinewidth": 0,
            "ticks": ""
           }
          },
          "colorscale": {
           "diverging": [
            [
             0,
             "#8e0152"
            ],
            [
             0.1,
             "#c51b7d"
            ],
            [
             0.2,
             "#de77ae"
            ],
            [
             0.3,
             "#f1b6da"
            ],
            [
             0.4,
             "#fde0ef"
            ],
            [
             0.5,
             "#f7f7f7"
            ],
            [
             0.6,
             "#e6f5d0"
            ],
            [
             0.7,
             "#b8e186"
            ],
            [
             0.8,
             "#7fbc41"
            ],
            [
             0.9,
             "#4d9221"
            ],
            [
             1,
             "#276419"
            ]
           ],
           "sequential": [
            [
             0,
             "#0d0887"
            ],
            [
             0.1111111111111111,
             "#46039f"
            ],
            [
             0.2222222222222222,
             "#7201a8"
            ],
            [
             0.3333333333333333,
             "#9c179e"
            ],
            [
             0.4444444444444444,
             "#bd3786"
            ],
            [
             0.5555555555555556,
             "#d8576b"
            ],
            [
             0.6666666666666666,
             "#ed7953"
            ],
            [
             0.7777777777777778,
             "#fb9f3a"
            ],
            [
             0.8888888888888888,
             "#fdca26"
            ],
            [
             1,
             "#f0f921"
            ]
           ],
           "sequentialminus": [
            [
             0,
             "#0d0887"
            ],
            [
             0.1111111111111111,
             "#46039f"
            ],
            [
             0.2222222222222222,
             "#7201a8"
            ],
            [
             0.3333333333333333,
             "#9c179e"
            ],
            [
             0.4444444444444444,
             "#bd3786"
            ],
            [
             0.5555555555555556,
             "#d8576b"
            ],
            [
             0.6666666666666666,
             "#ed7953"
            ],
            [
             0.7777777777777778,
             "#fb9f3a"
            ],
            [
             0.8888888888888888,
             "#fdca26"
            ],
            [
             1,
             "#f0f921"
            ]
           ]
          },
          "colorway": [
           "#636efa",
           "#EF553B",
           "#00cc96",
           "#ab63fa",
           "#FFA15A",
           "#19d3f3",
           "#FF6692",
           "#B6E880",
           "#FF97FF",
           "#FECB52"
          ],
          "font": {
           "color": "#2a3f5f"
          },
          "geo": {
           "bgcolor": "white",
           "lakecolor": "white",
           "landcolor": "#E5ECF6",
           "showlakes": true,
           "showland": true,
           "subunitcolor": "white"
          },
          "hoverlabel": {
           "align": "left"
          },
          "hovermode": "closest",
          "mapbox": {
           "style": "light"
          },
          "paper_bgcolor": "white",
          "plot_bgcolor": "#E5ECF6",
          "polar": {
           "angularaxis": {
            "gridcolor": "white",
            "linecolor": "white",
            "ticks": ""
           },
           "bgcolor": "#E5ECF6",
           "radialaxis": {
            "gridcolor": "white",
            "linecolor": "white",
            "ticks": ""
           }
          },
          "scene": {
           "xaxis": {
            "backgroundcolor": "#E5ECF6",
            "gridcolor": "white",
            "gridwidth": 2,
            "linecolor": "white",
            "showbackground": true,
            "ticks": "",
            "zerolinecolor": "white"
           },
           "yaxis": {
            "backgroundcolor": "#E5ECF6",
            "gridcolor": "white",
            "gridwidth": 2,
            "linecolor": "white",
            "showbackground": true,
            "ticks": "",
            "zerolinecolor": "white"
           },
           "zaxis": {
            "backgroundcolor": "#E5ECF6",
            "gridcolor": "white",
            "gridwidth": 2,
            "linecolor": "white",
            "showbackground": true,
            "ticks": "",
            "zerolinecolor": "white"
           }
          },
          "shapedefaults": {
           "line": {
            "color": "#2a3f5f"
           }
          },
          "ternary": {
           "aaxis": {
            "gridcolor": "white",
            "linecolor": "white",
            "ticks": ""
           },
           "baxis": {
            "gridcolor": "white",
            "linecolor": "white",
            "ticks": ""
           },
           "bgcolor": "#E5ECF6",
           "caxis": {
            "gridcolor": "white",
            "linecolor": "white",
            "ticks": ""
           }
          },
          "title": {
           "x": 0.05
          },
          "xaxis": {
           "automargin": true,
           "gridcolor": "white",
           "linecolor": "white",
           "ticks": "",
           "title": {
            "standoff": 15
           },
           "zerolinecolor": "white",
           "zerolinewidth": 2
          },
          "yaxis": {
           "automargin": true,
           "gridcolor": "white",
           "linecolor": "white",
           "ticks": "",
           "title": {
            "standoff": 15
           },
           "zerolinecolor": "white",
           "zerolinewidth": 2
          }
         }
        },
        "title": {
         "text": "Analysis of Environmental Factors"
        }
       }
      }
     },
     "metadata": {},
     "output_type": "display_data"
    }
   ],
   "source": [
    "df_land = pd.read_excel('dataset1.xls', sheet_name=2, skiprows=2, nrows=43, usecols=\"A, C:E\")\n",
    "df_land['Total'] = df_land[['Arable', 'Fallow', 'Perm Past']].sum(axis=1)\n",
    "\n",
    "df_ghg = pd.read_excel('dataset1.xls', sheet_name=2, skiprows=2, nrows=43, usecols=\"A, F:L\")\n",
    "df_ghg['Total'] = df_ghg[['LUC', 'Feed', 'Farm', 'Processing', 'Transport', 'Packging', 'Retail']].sum(axis=1)\n",
    "\n",
    "df_eutr = pd.read_excel('dataset1.xls', sheet_name=2, skiprows=2, nrows=43, usecols=\"A, N\")\n",
    "df_eutr.rename(columns={\"Total.1\": \"Total\"}, inplace=True)\n",
    "\n",
    "df_fresh = pd.read_excel('dataset1.xls', sheet_name=2, skiprows=2, nrows=43, usecols=\"A, O\")\n",
    "df_fresh.rename(columns={\"Total.2\": \"Total\"}, inplace=True)\n",
    "\n",
    "# Combine the dataframes into a single dataframe\n",
    "df_combined = pd.concat([df_land['Total'], df_ghg['Total'], df_eutr['Total'], df_fresh['Total']], axis=1)\n",
    "df_combined.columns = ['Land Use', 'GHG Emissions', 'Eutrophication', 'Freshwater Use']\n",
    "\n",
    "# Define custom colors for GHG Emissions\n",
    "color_mapping = {'low': 'lightsteelblue', 'medium': 'mediumseagreen', 'high': 'salmon'}\n",
    "df_combined[df_combined.columns] = df_combined[df_combined.columns].apply(lambda x: pd.qcut(x, q=3, labels=['low', 'medium', 'high']))\n",
    "colors = [color_mapping[category] for category in df_combined['GHG Emissions']]\n",
    "\n",
    "# Create Parallel categories plot\n",
    "dimensions = [\n",
    "    go.parcats.Dimension(values=df_combined['Land Use'], label='Land Use', categoryorder='array', categoryarray=['low', 'medium', 'high']),\n",
    "    go.parcats.Dimension(values=df_combined['Eutrophication'], label='Eutrophication', categoryorder='array', categoryarray=['low', 'medium', 'high']),\n",
    "    go.parcats.Dimension(values=df_combined['Freshwater Use'], label='Freshwater Use', categoryorder='array', categoryarray=['low', 'medium', 'high']),\n",
    "    go.parcats.Dimension(values=df_combined['GHG Emissions'], label='GHG Emissions', categoryorder='array', categoryarray=['low', 'medium', 'high'])\n",
    "]\n",
    "\n",
    "parcats_trace = go.Parcats(dimensions=dimensions, line={'color': colors})\n",
    "\n",
    "fig = go.Figure(data=parcats_trace)\n",
    "fig.update_layout(title='Analysis of Environmental Factors')\n",
    "fig.show()\n"
   ]
  },
  {
   "attachments": {},
   "cell_type": "markdown",
   "metadata": {},
   "source": [
    "#### fig3: Parallel categories plot"
   ]
  },
  {
   "attachments": {},
   "cell_type": "markdown",
   "metadata": {},
   "source": [
    "#### Visualization 4 - Emissions vs Global production"
   ]
  },
  {
   "cell_type": "code",
   "execution_count": null,
   "metadata": {
    "jupyter": {
     "source_hidden": true
    }
   },
   "outputs": [],
   "source": [
    "standard_discrete = px.colors.qualitative.T10\n",
    "\n",
    "df_per_product = pd.read_excel('dataset1.xls', sheet_name=2, skiprows=2, nrows=70, usecols=\"A, F:L\")\n",
    "df_per_product = df_per_product.rename(columns={'LUC': 'Land Use Change', 'Packging': 'Packaging'})\n",
    "\n",
    "df = df_per_product[0:43].copy()\n",
    "df['Total'] = df.iloc[:, 1:].sum(axis=1)\n",
    "# display(df)\n",
    "df = df.sort_values(by='Total')\n",
    "\n",
    "# display(df.Product)\n",
    "\n",
    "df_melted = pd.melt(df, id_vars='Product', value_vars=['Land Use Change', 'Feed', 'Farm', 'Processing', 'Transport', 'Packaging', 'Retail'], var_name='Stage', value_name='Emissions')\n",
    "\n",
    "# Reshape the DataFrame into a \"long\" format\n",
    "df_melted = pd.melt(df, id_vars='Product', value_vars=['Land Use Change', 'Feed', 'Farm', 'Processing', 'Transport', 'Packaging', 'Retail'], var_name='Stage', value_name='Emissions')\n"
   ]
  },
  {
   "cell_type": "code",
   "execution_count": null,
   "metadata": {
    "jupyter": {
     "source_hidden": true
    }
   },
   "outputs": [
    {
     "data": {
      "text/plain": [
       "['Total emissions',\n",
       " 'Acidification',\n",
       " 'Eutrophication',\n",
       " 'Freshwater',\n",
       " 'Stress-weighted water usage']"
      ]
     },
     "metadata": {},
     "output_type": "display_data"
    },
    {
     "data": {
      "application/vnd.plotly.v1+json": {
       "config": {
        "plotlyServerURL": "https://plot.ly"
       },
       "data": [
        {
         "customdata": [
          [
           "Wheat & Rye (Bread)"
          ],
          [
           "Maize (Meal)"
          ],
          [
           "Barley (Beer)"
          ],
          [
           "Oatmeal"
          ],
          [
           "Rice"
          ],
          [
           "Potatoes"
          ],
          [
           "Cassava"
          ],
          [
           "Cane Sugar"
          ],
          [
           "Beet Sugar"
          ],
          [
           "Other Pulses"
          ],
          [
           "Peas"
          ],
          [
           "Nuts"
          ],
          [
           "Groundnuts"
          ],
          [
           "Soymilk"
          ],
          [
           "Tofu"
          ],
          [
           "Soybean Oil"
          ],
          [
           "Palm Oil"
          ],
          [
           "Sunflower Oil"
          ],
          [
           "Rapeseed Oil"
          ],
          [
           "Olive Oil"
          ],
          [
           "Tomatoes"
          ],
          [
           "Onions & Leeks"
          ],
          [
           "Root Vegetables"
          ],
          [
           "Brassicas"
          ],
          [
           "Other Vegetables"
          ],
          [
           "Citrus Fruit"
          ],
          [
           "Bananas"
          ],
          [
           "Apples"
          ],
          [
           "Berries & Grapes"
          ],
          [
           "Wine"
          ],
          [
           "Other Fruit"
          ],
          [
           "Coffee"
          ],
          [
           "Dark Chocolate"
          ],
          [
           "Bovine Meat (beef herd)"
          ],
          [
           "Bovine Meat (dairy herd)"
          ],
          [
           "Lamb & Mutton"
          ],
          [
           "Pig Meat"
          ],
          [
           "Poultry Meat"
          ],
          [
           "Milk"
          ],
          [
           "Cheese"
          ],
          [
           "Eggs"
          ],
          [
           "Fish (farmed)"
          ],
          [
           "Crustaceans (farmed)"
          ]
         ],
         "hoverinfo": "name+x+y",
         "hovertemplate": "Amount produced=%{x}<br>Total emissions=%{y}<br>labeled=%{text}<br>Product=%{customdata[0]}<extra></extra>",
         "legendgroup": "",
         "marker": {
          "color": [
           0,
           0,
           0,
           0,
           0,
           0,
           0,
           0,
           0,
           0,
           0,
           0,
           0,
           0,
           0,
           0,
           0,
           0,
           0,
           0,
           0,
           0,
           0,
           0,
           0,
           0,
           0,
           0,
           0,
           0,
           0,
           0,
           0,
           2,
           2,
           2,
           2,
           2,
           1,
           1,
           1,
           3,
           3
          ],
          "colorscale": [
           [
            0,
            "green"
           ],
           [
            0.33,
            "orange"
           ],
           [
            0.66,
            "red"
           ],
           [
            1,
            "blue"
           ]
          ],
          "opacity": [
           0.35,
           0.35,
           0.35,
           0.35,
           0.8,
           0.8,
           0.35,
           0.35,
           0.35,
           0.35,
           0.35,
           0.8,
           0.35,
           0.8,
           0.35,
           0.35,
           0.35,
           0.35,
           0.35,
           0.8,
           0.35,
           0.35,
           0.35,
           0.35,
           0.35,
           0.35,
           0.8,
           0.8,
           0.35,
           0.35,
           0.35,
           0.35,
           0.8,
           0.8,
           0.35,
           0.8,
           0.35,
           0.8,
           0.8,
           0.8,
           0.8,
           0.8,
           0.35
          ],
          "size": 10,
          "symbol": "circle"
         },
         "mode": "markers+text",
         "name": "",
         "orientation": "v",
         "showlegend": false,
         "text": [
          null,
          null,
          null,
          null,
          "Rice",
          "Potatoes",
          null,
          null,
          null,
          null,
          null,
          "Nuts",
          null,
          "Soymilk",
          null,
          null,
          null,
          null,
          null,
          "Olive Oil",
          null,
          null,
          null,
          null,
          null,
          null,
          "Bananas",
          "Apples",
          null,
          null,
          null,
          null,
          "Dark Chocolate",
          "Bovine Meat (beef herd)",
          null,
          "Lamb & Mutton",
          null,
          "Poultry Meat",
          "Milk",
          "Cheese",
          "Eggs",
          "Fish (farmed)",
          null
         ],
         "textfont": {
          "size": 13
         },
         "textposition": "top center",
         "type": "scatter",
         "x": [
          482152,
          194554,
          206523,
          4463,
          397780,
          332343,
          173814,
          141702,
          34038,
          42765,
          6026,
          15296,
          11827,
          33318,
          11853,
          24148,
          16691,
          9554,
          10311,
          2997,
          148957,
          77927,
          35154,
          77045,
          654375,
          127923,
          128971,
          75781,
          67079,
          26013,
          210650,
          7778,
          4416,
          40571,
          31425,
          14195,
          112892,
          96439,
          470267,
          21191,
          63489,
          45223,
          10633
         ],
         "xaxis": "x",
         "y": [
          1.441,
          0.9880000000000002,
          1.109,
          1.575,
          3.8390000000000004,
          0.37,
          0.987,
          2.672,
          1.536,
          1.6099999999999999,
          0.896,
          0.27799999999999986,
          2.4970000000000003,
          0.914,
          2.871,
          6.117000000000001,
          7.605,
          3.607,
          3.828,
          5.944000000000001,
          1.427,
          0.39499999999999996,
          0.365,
          0.437,
          0.455,
          0.317,
          0.678,
          0.35700000000000004,
          1.214,
          1.5849999999999997,
          0.75,
          16.477,
          18.680999999999997,
          59.56999999999999,
          21.085,
          24.415,
          7.282,
          6.091999999999999,
          2.7809999999999997,
          21.240000000000002,
          4.506999999999999,
          5.182999999999999,
          11.853999999999997
         ],
         "yaxis": "y"
        }
       ],
       "layout": {
        "height": 500,
        "legend": {
         "tracegroupgap": 0
        },
        "template": {
         "data": {
          "bar": [
           {
            "error_x": {
             "color": "#2a3f5f"
            },
            "error_y": {
             "color": "#2a3f5f"
            },
            "marker": {
             "line": {
              "color": "#E5ECF6",
              "width": 0.5
             },
             "pattern": {
              "fillmode": "overlay",
              "size": 10,
              "solidity": 0.2
             }
            },
            "type": "bar"
           }
          ],
          "barpolar": [
           {
            "marker": {
             "line": {
              "color": "#E5ECF6",
              "width": 0.5
             },
             "pattern": {
              "fillmode": "overlay",
              "size": 10,
              "solidity": 0.2
             }
            },
            "type": "barpolar"
           }
          ],
          "carpet": [
           {
            "aaxis": {
             "endlinecolor": "#2a3f5f",
             "gridcolor": "white",
             "linecolor": "white",
             "minorgridcolor": "white",
             "startlinecolor": "#2a3f5f"
            },
            "baxis": {
             "endlinecolor": "#2a3f5f",
             "gridcolor": "white",
             "linecolor": "white",
             "minorgridcolor": "white",
             "startlinecolor": "#2a3f5f"
            },
            "type": "carpet"
           }
          ],
          "choropleth": [
           {
            "colorbar": {
             "outlinewidth": 0,
             "ticks": ""
            },
            "type": "choropleth"
           }
          ],
          "contour": [
           {
            "colorbar": {
             "outlinewidth": 0,
             "ticks": ""
            },
            "colorscale": [
             [
              0,
              "#0d0887"
             ],
             [
              0.1111111111111111,
              "#46039f"
             ],
             [
              0.2222222222222222,
              "#7201a8"
             ],
             [
              0.3333333333333333,
              "#9c179e"
             ],
             [
              0.4444444444444444,
              "#bd3786"
             ],
             [
              0.5555555555555556,
              "#d8576b"
             ],
             [
              0.6666666666666666,
              "#ed7953"
             ],
             [
              0.7777777777777778,
              "#fb9f3a"
             ],
             [
              0.8888888888888888,
              "#fdca26"
             ],
             [
              1,
              "#f0f921"
             ]
            ],
            "type": "contour"
           }
          ],
          "contourcarpet": [
           {
            "colorbar": {
             "outlinewidth": 0,
             "ticks": ""
            },
            "type": "contourcarpet"
           }
          ],
          "heatmap": [
           {
            "colorbar": {
             "outlinewidth": 0,
             "ticks": ""
            },
            "colorscale": [
             [
              0,
              "#0d0887"
             ],
             [
              0.1111111111111111,
              "#46039f"
             ],
             [
              0.2222222222222222,
              "#7201a8"
             ],
             [
              0.3333333333333333,
              "#9c179e"
             ],
             [
              0.4444444444444444,
              "#bd3786"
             ],
             [
              0.5555555555555556,
              "#d8576b"
             ],
             [
              0.6666666666666666,
              "#ed7953"
             ],
             [
              0.7777777777777778,
              "#fb9f3a"
             ],
             [
              0.8888888888888888,
              "#fdca26"
             ],
             [
              1,
              "#f0f921"
             ]
            ],
            "type": "heatmap"
           }
          ],
          "heatmapgl": [
           {
            "colorbar": {
             "outlinewidth": 0,
             "ticks": ""
            },
            "colorscale": [
             [
              0,
              "#0d0887"
             ],
             [
              0.1111111111111111,
              "#46039f"
             ],
             [
              0.2222222222222222,
              "#7201a8"
             ],
             [
              0.3333333333333333,
              "#9c179e"
             ],
             [
              0.4444444444444444,
              "#bd3786"
             ],
             [
              0.5555555555555556,
              "#d8576b"
             ],
             [
              0.6666666666666666,
              "#ed7953"
             ],
             [
              0.7777777777777778,
              "#fb9f3a"
             ],
             [
              0.8888888888888888,
              "#fdca26"
             ],
             [
              1,
              "#f0f921"
             ]
            ],
            "type": "heatmapgl"
           }
          ],
          "histogram": [
           {
            "marker": {
             "pattern": {
              "fillmode": "overlay",
              "size": 10,
              "solidity": 0.2
             }
            },
            "type": "histogram"
           }
          ],
          "histogram2d": [
           {
            "colorbar": {
             "outlinewidth": 0,
             "ticks": ""
            },
            "colorscale": [
             [
              0,
              "#0d0887"
             ],
             [
              0.1111111111111111,
              "#46039f"
             ],
             [
              0.2222222222222222,
              "#7201a8"
             ],
             [
              0.3333333333333333,
              "#9c179e"
             ],
             [
              0.4444444444444444,
              "#bd3786"
             ],
             [
              0.5555555555555556,
              "#d8576b"
             ],
             [
              0.6666666666666666,
              "#ed7953"
             ],
             [
              0.7777777777777778,
              "#fb9f3a"
             ],
             [
              0.8888888888888888,
              "#fdca26"
             ],
             [
              1,
              "#f0f921"
             ]
            ],
            "type": "histogram2d"
           }
          ],
          "histogram2dcontour": [
           {
            "colorbar": {
             "outlinewidth": 0,
             "ticks": ""
            },
            "colorscale": [
             [
              0,
              "#0d0887"
             ],
             [
              0.1111111111111111,
              "#46039f"
             ],
             [
              0.2222222222222222,
              "#7201a8"
             ],
             [
              0.3333333333333333,
              "#9c179e"
             ],
             [
              0.4444444444444444,
              "#bd3786"
             ],
             [
              0.5555555555555556,
              "#d8576b"
             ],
             [
              0.6666666666666666,
              "#ed7953"
             ],
             [
              0.7777777777777778,
              "#fb9f3a"
             ],
             [
              0.8888888888888888,
              "#fdca26"
             ],
             [
              1,
              "#f0f921"
             ]
            ],
            "type": "histogram2dcontour"
           }
          ],
          "mesh3d": [
           {
            "colorbar": {
             "outlinewidth": 0,
             "ticks": ""
            },
            "type": "mesh3d"
           }
          ],
          "parcoords": [
           {
            "line": {
             "colorbar": {
              "outlinewidth": 0,
              "ticks": ""
             }
            },
            "type": "parcoords"
           }
          ],
          "pie": [
           {
            "automargin": true,
            "type": "pie"
           }
          ],
          "scatter": [
           {
            "fillpattern": {
             "fillmode": "overlay",
             "size": 10,
             "solidity": 0.2
            },
            "type": "scatter"
           }
          ],
          "scatter3d": [
           {
            "line": {
             "colorbar": {
              "outlinewidth": 0,
              "ticks": ""
             }
            },
            "marker": {
             "colorbar": {
              "outlinewidth": 0,
              "ticks": ""
             }
            },
            "type": "scatter3d"
           }
          ],
          "scattercarpet": [
           {
            "marker": {
             "colorbar": {
              "outlinewidth": 0,
              "ticks": ""
             }
            },
            "type": "scattercarpet"
           }
          ],
          "scattergeo": [
           {
            "marker": {
             "colorbar": {
              "outlinewidth": 0,
              "ticks": ""
             }
            },
            "type": "scattergeo"
           }
          ],
          "scattergl": [
           {
            "marker": {
             "colorbar": {
              "outlinewidth": 0,
              "ticks": ""
             }
            },
            "type": "scattergl"
           }
          ],
          "scattermapbox": [
           {
            "marker": {
             "colorbar": {
              "outlinewidth": 0,
              "ticks": ""
             }
            },
            "type": "scattermapbox"
           }
          ],
          "scatterpolar": [
           {
            "marker": {
             "colorbar": {
              "outlinewidth": 0,
              "ticks": ""
             }
            },
            "type": "scatterpolar"
           }
          ],
          "scatterpolargl": [
           {
            "marker": {
             "colorbar": {
              "outlinewidth": 0,
              "ticks": ""
             }
            },
            "type": "scatterpolargl"
           }
          ],
          "scatterternary": [
           {
            "marker": {
             "colorbar": {
              "outlinewidth": 0,
              "ticks": ""
             }
            },
            "type": "scatterternary"
           }
          ],
          "surface": [
           {
            "colorbar": {
             "outlinewidth": 0,
             "ticks": ""
            },
            "colorscale": [
             [
              0,
              "#0d0887"
             ],
             [
              0.1111111111111111,
              "#46039f"
             ],
             [
              0.2222222222222222,
              "#7201a8"
             ],
             [
              0.3333333333333333,
              "#9c179e"
             ],
             [
              0.4444444444444444,
              "#bd3786"
             ],
             [
              0.5555555555555556,
              "#d8576b"
             ],
             [
              0.6666666666666666,
              "#ed7953"
             ],
             [
              0.7777777777777778,
              "#fb9f3a"
             ],
             [
              0.8888888888888888,
              "#fdca26"
             ],
             [
              1,
              "#f0f921"
             ]
            ],
            "type": "surface"
           }
          ],
          "table": [
           {
            "cells": {
             "fill": {
              "color": "#EBF0F8"
             },
             "line": {
              "color": "white"
             }
            },
            "header": {
             "fill": {
              "color": "#C8D4E3"
             },
             "line": {
              "color": "white"
             }
            },
            "type": "table"
           }
          ]
         },
         "layout": {
          "annotationdefaults": {
           "arrowcolor": "#2a3f5f",
           "arrowhead": 0,
           "arrowwidth": 1
          },
          "autotypenumbers": "strict",
          "coloraxis": {
           "colorbar": {
            "outlinewidth": 0,
            "ticks": ""
           }
          },
          "colorscale": {
           "diverging": [
            [
             0,
             "#8e0152"
            ],
            [
             0.1,
             "#c51b7d"
            ],
            [
             0.2,
             "#de77ae"
            ],
            [
             0.3,
             "#f1b6da"
            ],
            [
             0.4,
             "#fde0ef"
            ],
            [
             0.5,
             "#f7f7f7"
            ],
            [
             0.6,
             "#e6f5d0"
            ],
            [
             0.7,
             "#b8e186"
            ],
            [
             0.8,
             "#7fbc41"
            ],
            [
             0.9,
             "#4d9221"
            ],
            [
             1,
             "#276419"
            ]
           ],
           "sequential": [
            [
             0,
             "#0d0887"
            ],
            [
             0.1111111111111111,
             "#46039f"
            ],
            [
             0.2222222222222222,
             "#7201a8"
            ],
            [
             0.3333333333333333,
             "#9c179e"
            ],
            [
             0.4444444444444444,
             "#bd3786"
            ],
            [
             0.5555555555555556,
             "#d8576b"
            ],
            [
             0.6666666666666666,
             "#ed7953"
            ],
            [
             0.7777777777777778,
             "#fb9f3a"
            ],
            [
             0.8888888888888888,
             "#fdca26"
            ],
            [
             1,
             "#f0f921"
            ]
           ],
           "sequentialminus": [
            [
             0,
             "#0d0887"
            ],
            [
             0.1111111111111111,
             "#46039f"
            ],
            [
             0.2222222222222222,
             "#7201a8"
            ],
            [
             0.3333333333333333,
             "#9c179e"
            ],
            [
             0.4444444444444444,
             "#bd3786"
            ],
            [
             0.5555555555555556,
             "#d8576b"
            ],
            [
             0.6666666666666666,
             "#ed7953"
            ],
            [
             0.7777777777777778,
             "#fb9f3a"
            ],
            [
             0.8888888888888888,
             "#fdca26"
            ],
            [
             1,
             "#f0f921"
            ]
           ]
          },
          "colorway": [
           "#636efa",
           "#EF553B",
           "#00cc96",
           "#ab63fa",
           "#FFA15A",
           "#19d3f3",
           "#FF6692",
           "#B6E880",
           "#FF97FF",
           "#FECB52"
          ],
          "font": {
           "color": "#2a3f5f"
          },
          "geo": {
           "bgcolor": "white",
           "lakecolor": "white",
           "landcolor": "#E5ECF6",
           "showlakes": true,
           "showland": true,
           "subunitcolor": "white"
          },
          "hoverlabel": {
           "align": "left"
          },
          "hovermode": "closest",
          "mapbox": {
           "style": "light"
          },
          "paper_bgcolor": "white",
          "plot_bgcolor": "#E5ECF6",
          "polar": {
           "angularaxis": {
            "gridcolor": "white",
            "linecolor": "white",
            "ticks": ""
           },
           "bgcolor": "#E5ECF6",
           "radialaxis": {
            "gridcolor": "white",
            "linecolor": "white",
            "ticks": ""
           }
          },
          "scene": {
           "xaxis": {
            "backgroundcolor": "#E5ECF6",
            "gridcolor": "white",
            "gridwidth": 2,
            "linecolor": "white",
            "showbackground": true,
            "ticks": "",
            "zerolinecolor": "white"
           },
           "yaxis": {
            "backgroundcolor": "#E5ECF6",
            "gridcolor": "white",
            "gridwidth": 2,
            "linecolor": "white",
            "showbackground": true,
            "ticks": "",
            "zerolinecolor": "white"
           },
           "zaxis": {
            "backgroundcolor": "#E5ECF6",
            "gridcolor": "white",
            "gridwidth": 2,
            "linecolor": "white",
            "showbackground": true,
            "ticks": "",
            "zerolinecolor": "white"
           }
          },
          "shapedefaults": {
           "line": {
            "color": "#2a3f5f"
           }
          },
          "ternary": {
           "aaxis": {
            "gridcolor": "white",
            "linecolor": "white",
            "ticks": ""
           },
           "baxis": {
            "gridcolor": "white",
            "linecolor": "white",
            "ticks": ""
           },
           "bgcolor": "#E5ECF6",
           "caxis": {
            "gridcolor": "white",
            "linecolor": "white",
            "ticks": ""
           }
          },
          "title": {
           "x": 0.05
          },
          "xaxis": {
           "automargin": true,
           "gridcolor": "white",
           "linecolor": "white",
           "ticks": "",
           "title": {
            "standoff": 15
           },
           "zerolinecolor": "white",
           "zerolinewidth": 2
          },
          "yaxis": {
           "automargin": true,
           "gridcolor": "white",
           "linecolor": "white",
           "ticks": "",
           "title": {
            "standoff": 15
           },
           "zerolinecolor": "white",
           "zerolinewidth": 2
          }
         }
        },
        "title": {
         "text": "GHG impact and global production",
         "x": 0.5
        },
        "updatemenus": [
         {
          "buttons": [
           {
            "args": [
             {
              "y": [
               [
                1.441,
                0.9880000000000002,
                1.109,
                1.575,
                3.8390000000000004,
                0.37,
                0.987,
                2.672,
                1.536,
                1.6099999999999999,
                0.896,
                0.27799999999999986,
                2.4970000000000003,
                0.914,
                2.871,
                6.117000000000001,
                7.605,
                3.607,
                3.828,
                5.944000000000001,
                1.427,
                0.39499999999999996,
                0.365,
                0.437,
                0.455,
                0.317,
                0.678,
                0.35700000000000004,
                1.214,
                1.5849999999999997,
                0.75,
                16.477,
                18.680999999999997,
                59.56999999999999,
                21.085,
                24.415,
                7.282,
                6.091999999999999,
                2.7809999999999997,
                21.240000000000002,
                4.506999999999999,
                5.182999999999999,
                11.853999999999997
               ]
              ]
             },
             {
              "yaxis": {
               "title": {
                "text": "Total emissions"
               }
              }
             }
            ],
            "label": "Total emissions",
            "method": "update"
           },
           {
            "args": [
             {
              "y": [
               [
                0.01209,
                0.00673,
                0.00612,
                0.00697,
                0.02357,
                0.00323,
                0.00298,
                0.01537,
                0.01076,
                0.01913,
                0.00759,
                0.01904,
                0.01792,
                0.0025,
                0.00625,
                0.0157,
                0.01832,
                0.02735,
                0.0288,
                0.04108,
                0.01143,
                0.00304,
                0.00253,
                0.00686,
                0.00531,
                0.00306,
                0.00469,
                0.00291,
                0.00989,
                0.01128,
                0.00438,
                0.04608,
                0.01659,
                0.18929,
                0.20946,
                0.08726,
                0.08265,
                0.06439,
                0.01766,
                0.14894,
                0.05182,
                0.025,
                0.05977
               ]
              ]
             },
             {
              "yaxis": {
               "title": {
                "text": "Acidification"
               }
              }
             }
            ],
            "label": "Acidification",
            "method": "update"
           },
           {
            "args": [
             {
              "y": [
               [
                0.00706,
                0.00226,
                0.00211,
                0.00705,
                0.02972,
                0.00255,
                0.00056,
                0.0136,
                0.00437,
                0.01501,
                0.00683,
                0.0088,
                0.01117,
                0.00097,
                0.00553,
                0.01123,
                0.01089,
                0.05061,
                0.01939,
                0.04024,
                0.00481,
                0.0023,
                0.00132,
                0.00414,
                0.00186,
                0.00157,
                0.00225,
                0.00115,
                0.00531,
                0.00402,
                0.00179,
                0.0602,
                0.03061,
                0.17747,
                0.20883,
                0.05965,
                0.04416,
                0.02957,
                0.00934,
                0.08875,
                0.02102,
                0.09207,
                0.09787
               ]
              ]
             },
             {
              "yaxis": {
               "title": {
                "text": "Eutrophication"
               }
              }
             }
            ],
            "label": "Eutrophication",
            "method": "update"
           },
           {
            "args": [
             {
              "y": [
               [
                567,
                120,
                15,
                302,
                1962,
                43,
                0,
                492,
                170,
                364,
                353,
                1914,
                1431,
                26,
                139,
                418,
                7,
                943,
                234,
                2322,
                235,
                11,
                23,
                97,
                83,
                65,
                86,
                140,
                292,
                68,
                119,
                14,
                209,
                871,
                1650,
                1082,
                1073,
                402,
                533,
                4735,
                556,
                1315,
                1394
               ]
              ]
             },
             {
              "yaxis": {
               "title": {
                "text": "Freshwater"
               }
              }
             }
            ],
            "label": "Freshwater",
            "method": "update"
           },
           {
            "args": [
             {
              "y": [
               [
                28918,
                6007,
                604,
                11774,
                43275,
                2027,
                0,
                13096,
                7413,
                18670,
                24856,
                106382,
                48147,
                894,
                4785,
                15039,
                37,
                34064,
                10412,
                192719,
                4013,
                746,
                776,
                6878,
                3958,
                3678,
                491,
                10007,
                15180,
                1003,
                7771,
                182,
                1097,
                21163,
                75339,
                85193,
                40028,
                8828,
                16951,
                155464,
                17315,
                13691,
                50685
               ]
              ]
             },
             {
              "yaxis": {
               "title": {
                "text": "Stress-weighted water usage"
               }
              }
             }
            ],
            "label": "Stress-weighted water usage",
            "method": "update"
           }
          ],
          "x": 0,
          "y": 1.2
         }
        ],
        "xaxis": {
         "anchor": "y",
         "domain": [
          0,
          1
         ],
         "title": {
          "text": "Global production (tonnes)"
         },
         "type": "log"
        },
        "yaxis": {
         "anchor": "x",
         "domain": [
          0,
          1
         ],
         "title": {
          "text": "Emissions (kg CO2eq / kg)"
         }
        }
       }
      }
     },
     "metadata": {},
     "output_type": "display_data"
    }
   ],
   "source": [
    "df_cat = pd.read_excel('dataset1.xls', sheet_name=2, skiprows=2, nrows=43, usecols=\"A:B, F:L\")\n",
    "df_cat = df_cat.rename(columns={'LUC': 'Land Use Change', 'Packging': 'Packaging', \"Food and Waste ('000 t, 2009-11 avg.)\": 'Amount produced'})\n",
    "df_cat['Total emissions'] = df_cat.iloc[:, 2:].sum(axis=1)\n",
    "df_cat = pd.concat([df_cat, pd.read_excel('dataset1.xls', sheet_name=2, skiprows=2, nrows=43, usecols=\"M:P\")], axis=1)\n",
    "df_cat = df_cat.rename(columns={'Total': 'Acidification', 'Total.1': 'Eutrophication', 'Total.2': 'Freshwater', 'Total.3': 'Stress-weighted water usage'})\n",
    "\n",
    "\n",
    "\n",
    "\n",
    "\n",
    "# assigns categories\n",
    "df_cat['Type'] = 'Crops'\n",
    "df_cat.loc[33:37, 'Type'] = 'Meat'\n",
    "df_cat.loc[38:40, 'Type'] = 'Dairy'\n",
    "df_cat.loc[41:42, 'Type'] = 'Seafood'\n",
    "\n",
    "\n",
    "highlighted = ['Olive Oil', 'Bovine Meat (beef herd)', 'Cheese', 'Lamb & Mutton', 'Dark Chocolate', 'Fish (farmed)', 'Eggs', 'Poultry Meat', 'Milk', 'Potatoes', 'Milk', 'Rice', 'Soymilk', 'Nuts', 'Bananas', 'Apples']\n",
    "\n",
    "\n",
    "# creates subcategory for labels\n",
    "df_cat['labeled'] = df_cat['Product'].where(df_cat['Product'].isin(highlighted))\n",
    "\n",
    "\n",
    "\n",
    "fig = px.scatter(\n",
    "    df_cat, \n",
    "    x=\"Amount produced\",\n",
    "    y=\"Total emissions\",\n",
    "    log_x=True,\n",
    "    height=500,\n",
    "    text='labeled',\n",
    "    # log_y=True,\n",
    "    # size=\"Total impact\",\n",
    "    size_max=60,\n",
    "    hover_data=['Product'],\n",
    "    title=\"GHG impact and global production\"\n",
    "    )\n",
    "\n",
    "df_filtered = df_cat[df_cat['Product'].isin(highlighted)]\n",
    "\n",
    "annotation= [{\n",
    "    'x': np.log10(df_cat.loc[df_cat['Product'] == name, 'Amount produced'].iloc[0]),\n",
    "    'y': df_cat.loc[df['Product'] == name, 'Total emissions'].iloc[0],\n",
    "    'text': name,  # text\n",
    "    'showarrow': True,  # would you want to see arrow\n",
    "} for name in highlighted]\n",
    "\n",
    "\n",
    "updatemenus = [\n",
    "    {\n",
    "        \"buttons\": [\n",
    "            {\n",
    "                \"label\": col,\n",
    "                \"method\": \"update\",\n",
    "                \"args\": [\n",
    "                    {\"y\": [df_cat[col]]},\n",
    "                    {\"yaxis\": {\"title\": {\"text\": col}}}\n",
    "                ],\n",
    "            }\n",
    "            for col in list(df_cat.loc[:, 'Total emissions': 'Stress-weighted water usage'].columns)\n",
    "        ],\n",
    "        \"x\": 0,\n",
    "        \"y\": 1.2,\n",
    "    }\n",
    "]\n",
    "\n",
    "\n",
    "\n",
    "\n",
    "\n",
    "fig.update_layout(updatemenus=updatemenus, title_x=0.5, yaxis_title='Emissions (kg CO2eq / kg)', xaxis_title='Global production (tonnes)')\n",
    "\n",
    "\n",
    "\n",
    "\n",
    "\n",
    "fig.update_traces(marker={\n",
    "        \"color\": pd.Categorical(df_cat[\"Type\"]).codes,\n",
    "        \"colorscale\": [(0,\"green\"), (0.33,\"orange\"), (0.66,\"red\"), (1,\"blue\")]\n",
    "    },\n",
    "    marker_size=10,\n",
    "    marker_opacity=df_cat['labeled'].notnull().map({True: 0.8, False: 0.35}).values,\n",
    "    textposition=\"top center\",\n",
    "    hoverinfo=\"name+x+y\",\n",
    "    textfont={'size': 13}\n",
    ")\n",
    "\n",
    "\n",
    "\n",
    "\n",
    "\n",
    "def add_label(name, df, figure):\n",
    "    figure.add_annotation(\n",
    "        x=np.log10(df.loc[df['Product'] == name, 'Amount produced'].iloc[0]),\n",
    "        y=df.loc[df['Product'] == name, 'Total emissions'].iloc[0],\n",
    "        text=name,\n",
    "        showarrow=True,\n",
    "        yshift=5\n",
    "    )\n",
    "\n",
    "\n",
    "def add_labels(names, df, figure):\n",
    "    for name in names:\n",
    "        add_label(name, df, figure)\n",
    "# add_labels(highlighted, df_cat, fig)\n",
    "\n",
    "display(list(df_cat.loc[:, 'Total emissions': 'Stress-weighted water usage'].columns))\n",
    "\n",
    "fig.show()\n",
    "\n",
    "# f = df_cat.loc[:, 'Acidification': 'Total emissions']\n",
    "\n",
    "# display(f'{f.columns[1]}')\n",
    "for col in df_cat.loc[:, 'Acidification': 'Total emissions']:\n",
    "    print(df_cat[col])\n",
    "\n"
   ]
  },
  {
   "attachments": {},
   "cell_type": "markdown",
   "metadata": {},
   "source": [
    "#### fig4: Scatter plot of global production (in tonnes) and greenhouse gas emissions (in kg CO2eq / kg)\n",
    "\n",
    "This scatter plot shows that high global production and low emissions per kg are highly correlated. This figure is meant to support the perspective that it matters a lot whether you produce food locally or globally; the emissions\n",
    "produced during transport are significant, and a huge factor in the total emissions of the\n",
    "food we consume."
   ]
  },
  {
   "attachments": {},
   "cell_type": "markdown",
   "metadata": {},
   "source": [
    "#### Visualisation 5 - Transport emissions"
   ]
  },
  {
   "cell_type": "code",
   "execution_count": null,
   "metadata": {
    "jupyter": {
     "source_hidden": true
    }
   },
   "outputs": [
    {
     "data": {
      "application/vnd.plotly.v1+json": {
       "config": {
        "plotlyServerURL": "https://plot.ly"
       },
       "data": [
        {
         "alignmentgroup": "True",
         "hovertemplate": "Transport=%{x}<br>Product=%{y}<extra></extra>",
         "legendgroup": "",
         "marker": {
          "color": "#636efa",
          "pattern": {
           "shape": ""
          }
         },
         "name": "",
         "offsetgroup": "",
         "orientation": "h",
         "showlegend": false,
         "textposition": "auto",
         "type": "bar",
         "x": [
          0.035,
          0.06,
          0.061,
          0.067,
          0.067,
          0.084,
          0.09,
          0.093,
          0.094,
          0.094,
          0.094,
          0.095,
          0.095,
          0.095,
          0.096,
          0.096,
          0.096,
          0.11,
          0.111,
          0.114,
          0.12,
          0.129,
          0.13,
          0.138,
          0.164,
          0.177,
          0.177,
          0.182,
          0.19,
          0.201,
          0.206,
          0.208,
          0.238,
          0.276,
          0.292,
          0.299,
          0.343,
          0.346,
          0.424,
          0.482,
          0.49,
          0.629,
          0.784
         ],
         "xaxis": "x",
         "y": [
          "Barley (Beer)",
          "Maize (Meal)",
          "Dark Chocolate",
          "Nuts",
          "Oatmeal",
          "Eggs",
          "Milk",
          "Wine",
          "Citrus Fruit",
          "Potatoes",
          "Cassava",
          "Onions & Leeks",
          "Brassicas",
          "Peas",
          "Rice",
          "Other Pulses",
          "Apples",
          "Soymilk",
          "Fish (farmed)",
          "Root Vegetables",
          "Groundnuts",
          "Wheat & Rye (Bread)",
          "Coffee",
          "Cheese",
          "Other Vegetables",
          "Tomatoes",
          "Tofu",
          "Other Fruit",
          "Rapeseed Oil",
          "Sunflower Oil",
          "Crustaceans (farmed)",
          "Palm Oil",
          "Berries & Grapes",
          "Poultry Meat",
          "Bananas",
          "Soybean Oil",
          "Pig Meat",
          "Bovine Meat (beef herd)",
          "Bovine Meat (dairy herd)",
          "Olive Oil",
          "Lamb & Mutton",
          "Beet Sugar",
          "Cane Sugar"
         ],
         "yaxis": "y"
        }
       ],
       "layout": {
        "barmode": "relative",
        "height": 800,
        "legend": {
         "tracegroupgap": 0
        },
        "template": {
         "data": {
          "bar": [
           {
            "error_x": {
             "color": "#2a3f5f"
            },
            "error_y": {
             "color": "#2a3f5f"
            },
            "marker": {
             "line": {
              "color": "#E5ECF6",
              "width": 0.5
             },
             "pattern": {
              "fillmode": "overlay",
              "size": 10,
              "solidity": 0.2
             }
            },
            "type": "bar"
           }
          ],
          "barpolar": [
           {
            "marker": {
             "line": {
              "color": "#E5ECF6",
              "width": 0.5
             },
             "pattern": {
              "fillmode": "overlay",
              "size": 10,
              "solidity": 0.2
             }
            },
            "type": "barpolar"
           }
          ],
          "carpet": [
           {
            "aaxis": {
             "endlinecolor": "#2a3f5f",
             "gridcolor": "white",
             "linecolor": "white",
             "minorgridcolor": "white",
             "startlinecolor": "#2a3f5f"
            },
            "baxis": {
             "endlinecolor": "#2a3f5f",
             "gridcolor": "white",
             "linecolor": "white",
             "minorgridcolor": "white",
             "startlinecolor": "#2a3f5f"
            },
            "type": "carpet"
           }
          ],
          "choropleth": [
           {
            "colorbar": {
             "outlinewidth": 0,
             "ticks": ""
            },
            "type": "choropleth"
           }
          ],
          "contour": [
           {
            "colorbar": {
             "outlinewidth": 0,
             "ticks": ""
            },
            "colorscale": [
             [
              0,
              "#0d0887"
             ],
             [
              0.1111111111111111,
              "#46039f"
             ],
             [
              0.2222222222222222,
              "#7201a8"
             ],
             [
              0.3333333333333333,
              "#9c179e"
             ],
             [
              0.4444444444444444,
              "#bd3786"
             ],
             [
              0.5555555555555556,
              "#d8576b"
             ],
             [
              0.6666666666666666,
              "#ed7953"
             ],
             [
              0.7777777777777778,
              "#fb9f3a"
             ],
             [
              0.8888888888888888,
              "#fdca26"
             ],
             [
              1,
              "#f0f921"
             ]
            ],
            "type": "contour"
           }
          ],
          "contourcarpet": [
           {
            "colorbar": {
             "outlinewidth": 0,
             "ticks": ""
            },
            "type": "contourcarpet"
           }
          ],
          "heatmap": [
           {
            "colorbar": {
             "outlinewidth": 0,
             "ticks": ""
            },
            "colorscale": [
             [
              0,
              "#0d0887"
             ],
             [
              0.1111111111111111,
              "#46039f"
             ],
             [
              0.2222222222222222,
              "#7201a8"
             ],
             [
              0.3333333333333333,
              "#9c179e"
             ],
             [
              0.4444444444444444,
              "#bd3786"
             ],
             [
              0.5555555555555556,
              "#d8576b"
             ],
             [
              0.6666666666666666,
              "#ed7953"
             ],
             [
              0.7777777777777778,
              "#fb9f3a"
             ],
             [
              0.8888888888888888,
              "#fdca26"
             ],
             [
              1,
              "#f0f921"
             ]
            ],
            "type": "heatmap"
           }
          ],
          "heatmapgl": [
           {
            "colorbar": {
             "outlinewidth": 0,
             "ticks": ""
            },
            "colorscale": [
             [
              0,
              "#0d0887"
             ],
             [
              0.1111111111111111,
              "#46039f"
             ],
             [
              0.2222222222222222,
              "#7201a8"
             ],
             [
              0.3333333333333333,
              "#9c179e"
             ],
             [
              0.4444444444444444,
              "#bd3786"
             ],
             [
              0.5555555555555556,
              "#d8576b"
             ],
             [
              0.6666666666666666,
              "#ed7953"
             ],
             [
              0.7777777777777778,
              "#fb9f3a"
             ],
             [
              0.8888888888888888,
              "#fdca26"
             ],
             [
              1,
              "#f0f921"
             ]
            ],
            "type": "heatmapgl"
           }
          ],
          "histogram": [
           {
            "marker": {
             "pattern": {
              "fillmode": "overlay",
              "size": 10,
              "solidity": 0.2
             }
            },
            "type": "histogram"
           }
          ],
          "histogram2d": [
           {
            "colorbar": {
             "outlinewidth": 0,
             "ticks": ""
            },
            "colorscale": [
             [
              0,
              "#0d0887"
             ],
             [
              0.1111111111111111,
              "#46039f"
             ],
             [
              0.2222222222222222,
              "#7201a8"
             ],
             [
              0.3333333333333333,
              "#9c179e"
             ],
             [
              0.4444444444444444,
              "#bd3786"
             ],
             [
              0.5555555555555556,
              "#d8576b"
             ],
             [
              0.6666666666666666,
              "#ed7953"
             ],
             [
              0.7777777777777778,
              "#fb9f3a"
             ],
             [
              0.8888888888888888,
              "#fdca26"
             ],
             [
              1,
              "#f0f921"
             ]
            ],
            "type": "histogram2d"
           }
          ],
          "histogram2dcontour": [
           {
            "colorbar": {
             "outlinewidth": 0,
             "ticks": ""
            },
            "colorscale": [
             [
              0,
              "#0d0887"
             ],
             [
              0.1111111111111111,
              "#46039f"
             ],
             [
              0.2222222222222222,
              "#7201a8"
             ],
             [
              0.3333333333333333,
              "#9c179e"
             ],
             [
              0.4444444444444444,
              "#bd3786"
             ],
             [
              0.5555555555555556,
              "#d8576b"
             ],
             [
              0.6666666666666666,
              "#ed7953"
             ],
             [
              0.7777777777777778,
              "#fb9f3a"
             ],
             [
              0.8888888888888888,
              "#fdca26"
             ],
             [
              1,
              "#f0f921"
             ]
            ],
            "type": "histogram2dcontour"
           }
          ],
          "mesh3d": [
           {
            "colorbar": {
             "outlinewidth": 0,
             "ticks": ""
            },
            "type": "mesh3d"
           }
          ],
          "parcoords": [
           {
            "line": {
             "colorbar": {
              "outlinewidth": 0,
              "ticks": ""
             }
            },
            "type": "parcoords"
           }
          ],
          "pie": [
           {
            "automargin": true,
            "type": "pie"
           }
          ],
          "scatter": [
           {
            "fillpattern": {
             "fillmode": "overlay",
             "size": 10,
             "solidity": 0.2
            },
            "type": "scatter"
           }
          ],
          "scatter3d": [
           {
            "line": {
             "colorbar": {
              "outlinewidth": 0,
              "ticks": ""
             }
            },
            "marker": {
             "colorbar": {
              "outlinewidth": 0,
              "ticks": ""
             }
            },
            "type": "scatter3d"
           }
          ],
          "scattercarpet": [
           {
            "marker": {
             "colorbar": {
              "outlinewidth": 0,
              "ticks": ""
             }
            },
            "type": "scattercarpet"
           }
          ],
          "scattergeo": [
           {
            "marker": {
             "colorbar": {
              "outlinewidth": 0,
              "ticks": ""
             }
            },
            "type": "scattergeo"
           }
          ],
          "scattergl": [
           {
            "marker": {
             "colorbar": {
              "outlinewidth": 0,
              "ticks": ""
             }
            },
            "type": "scattergl"
           }
          ],
          "scattermapbox": [
           {
            "marker": {
             "colorbar": {
              "outlinewidth": 0,
              "ticks": ""
             }
            },
            "type": "scattermapbox"
           }
          ],
          "scatterpolar": [
           {
            "marker": {
             "colorbar": {
              "outlinewidth": 0,
              "ticks": ""
             }
            },
            "type": "scatterpolar"
           }
          ],
          "scatterpolargl": [
           {
            "marker": {
             "colorbar": {
              "outlinewidth": 0,
              "ticks": ""
             }
            },
            "type": "scatterpolargl"
           }
          ],
          "scatterternary": [
           {
            "marker": {
             "colorbar": {
              "outlinewidth": 0,
              "ticks": ""
             }
            },
            "type": "scatterternary"
           }
          ],
          "surface": [
           {
            "colorbar": {
             "outlinewidth": 0,
             "ticks": ""
            },
            "colorscale": [
             [
              0,
              "#0d0887"
             ],
             [
              0.1111111111111111,
              "#46039f"
             ],
             [
              0.2222222222222222,
              "#7201a8"
             ],
             [
              0.3333333333333333,
              "#9c179e"
             ],
             [
              0.4444444444444444,
              "#bd3786"
             ],
             [
              0.5555555555555556,
              "#d8576b"
             ],
             [
              0.6666666666666666,
              "#ed7953"
             ],
             [
              0.7777777777777778,
              "#fb9f3a"
             ],
             [
              0.8888888888888888,
              "#fdca26"
             ],
             [
              1,
              "#f0f921"
             ]
            ],
            "type": "surface"
           }
          ],
          "table": [
           {
            "cells": {
             "fill": {
              "color": "#EBF0F8"
             },
             "line": {
              "color": "white"
             }
            },
            "header": {
             "fill": {
              "color": "#C8D4E3"
             },
             "line": {
              "color": "white"
             }
            },
            "type": "table"
           }
          ]
         },
         "layout": {
          "annotationdefaults": {
           "arrowcolor": "#2a3f5f",
           "arrowhead": 0,
           "arrowwidth": 1
          },
          "autotypenumbers": "strict",
          "coloraxis": {
           "colorbar": {
            "outlinewidth": 0,
            "ticks": ""
           }
          },
          "colorscale": {
           "diverging": [
            [
             0,
             "#8e0152"
            ],
            [
             0.1,
             "#c51b7d"
            ],
            [
             0.2,
             "#de77ae"
            ],
            [
             0.3,
             "#f1b6da"
            ],
            [
             0.4,
             "#fde0ef"
            ],
            [
             0.5,
             "#f7f7f7"
            ],
            [
             0.6,
             "#e6f5d0"
            ],
            [
             0.7,
             "#b8e186"
            ],
            [
             0.8,
             "#7fbc41"
            ],
            [
             0.9,
             "#4d9221"
            ],
            [
             1,
             "#276419"
            ]
           ],
           "sequential": [
            [
             0,
             "#0d0887"
            ],
            [
             0.1111111111111111,
             "#46039f"
            ],
            [
             0.2222222222222222,
             "#7201a8"
            ],
            [
             0.3333333333333333,
             "#9c179e"
            ],
            [
             0.4444444444444444,
             "#bd3786"
            ],
            [
             0.5555555555555556,
             "#d8576b"
            ],
            [
             0.6666666666666666,
             "#ed7953"
            ],
            [
             0.7777777777777778,
             "#fb9f3a"
            ],
            [
             0.8888888888888888,
             "#fdca26"
            ],
            [
             1,
             "#f0f921"
            ]
           ],
           "sequentialminus": [
            [
             0,
             "#0d0887"
            ],
            [
             0.1111111111111111,
             "#46039f"
            ],
            [
             0.2222222222222222,
             "#7201a8"
            ],
            [
             0.3333333333333333,
             "#9c179e"
            ],
            [
             0.4444444444444444,
             "#bd3786"
            ],
            [
             0.5555555555555556,
             "#d8576b"
            ],
            [
             0.6666666666666666,
             "#ed7953"
            ],
            [
             0.7777777777777778,
             "#fb9f3a"
            ],
            [
             0.8888888888888888,
             "#fdca26"
            ],
            [
             1,
             "#f0f921"
            ]
           ]
          },
          "colorway": [
           "#636efa",
           "#EF553B",
           "#00cc96",
           "#ab63fa",
           "#FFA15A",
           "#19d3f3",
           "#FF6692",
           "#B6E880",
           "#FF97FF",
           "#FECB52"
          ],
          "font": {
           "color": "#2a3f5f"
          },
          "geo": {
           "bgcolor": "white",
           "lakecolor": "white",
           "landcolor": "#E5ECF6",
           "showlakes": true,
           "showland": true,
           "subunitcolor": "white"
          },
          "hoverlabel": {
           "align": "left"
          },
          "hovermode": "closest",
          "mapbox": {
           "style": "light"
          },
          "paper_bgcolor": "white",
          "plot_bgcolor": "#E5ECF6",
          "polar": {
           "angularaxis": {
            "gridcolor": "white",
            "linecolor": "white",
            "ticks": ""
           },
           "bgcolor": "#E5ECF6",
           "radialaxis": {
            "gridcolor": "white",
            "linecolor": "white",
            "ticks": ""
           }
          },
          "scene": {
           "xaxis": {
            "backgroundcolor": "#E5ECF6",
            "gridcolor": "white",
            "gridwidth": 2,
            "linecolor": "white",
            "showbackground": true,
            "ticks": "",
            "zerolinecolor": "white"
           },
           "yaxis": {
            "backgroundcolor": "#E5ECF6",
            "gridcolor": "white",
            "gridwidth": 2,
            "linecolor": "white",
            "showbackground": true,
            "ticks": "",
            "zerolinecolor": "white"
           },
           "zaxis": {
            "backgroundcolor": "#E5ECF6",
            "gridcolor": "white",
            "gridwidth": 2,
            "linecolor": "white",
            "showbackground": true,
            "ticks": "",
            "zerolinecolor": "white"
           }
          },
          "shapedefaults": {
           "line": {
            "color": "#2a3f5f"
           }
          },
          "ternary": {
           "aaxis": {
            "gridcolor": "white",
            "linecolor": "white",
            "ticks": ""
           },
           "baxis": {
            "gridcolor": "white",
            "linecolor": "white",
            "ticks": ""
           },
           "bgcolor": "#E5ECF6",
           "caxis": {
            "gridcolor": "white",
            "linecolor": "white",
            "ticks": ""
           }
          },
          "title": {
           "x": 0.05
          },
          "xaxis": {
           "automargin": true,
           "gridcolor": "white",
           "linecolor": "white",
           "ticks": "",
           "title": {
            "standoff": 15
           },
           "zerolinecolor": "white",
           "zerolinewidth": 2
          },
          "yaxis": {
           "automargin": true,
           "gridcolor": "white",
           "linecolor": "white",
           "ticks": "",
           "title": {
            "standoff": 15
           },
           "zerolinecolor": "white",
           "zerolinewidth": 2
          }
         }
        },
        "title": {
         "text": "Transport emissions per product"
        },
        "xaxis": {
         "anchor": "y",
         "domain": [
          0,
          1
         ],
         "title": {
          "text": "Transport"
         }
        },
        "yaxis": {
         "anchor": "x",
         "domain": [
          0,
          1
         ],
         "title": {
          "text": "Product"
         }
        }
       }
      }
     },
     "metadata": {},
     "output_type": "display_data"
    }
   ],
   "source": [
    "df_transport = df.sort_values(by='Transport')\n",
    "\n",
    "fig1 = px.bar(df_transport,\n",
    "    y='Product',\n",
    "    x='Transport',\n",
    "    height=800,\n",
    "    title=\"Transport emissions per product\")\n",
    "\n",
    "fig1.show()"
   ]
  },
  {
   "attachments": {},
   "cell_type": "markdown",
   "metadata": {},
   "source": [
    "#### fig5: Bar chart of transport emissions per product\n",
    "This is meant to show there a significant CO2 costs associated with transport, and is meant to support the perspective that it matters a lot whether you produce food locally or globally; the emissions\n",
    "produced during transport are significant. However, this obviously needs some work."
   ]
  },
  {
   "attachments": {},
   "cell_type": "markdown",
   "metadata": {},
   "source": [
    "#### Visualization 6 - Some perspective"
   ]
  },
  {
   "cell_type": "code",
   "execution_count": null,
   "metadata": {
    "jupyter": {
     "source_hidden": true
    }
   },
   "outputs": [
    {
     "name": "stdout",
     "output_type": "stream",
     "text": [
      "['#1f77b4', '#ff7f0e', '#2ca02c', '#d62728', '#9467bd', '#8c564b', '#e377c2', '#7f7f7f', '#bcbd22', '#17becf']\n"
     ]
    },
    {
     "data": {
      "application/vnd.plotly.v1+json": {
       "config": {
        "plotlyServerURL": "https://plot.ly"
       },
       "data": [
        {
         "alignmentgroup": "True",
         "hovertemplate": "Stage=Land Use Change<br>Emissions=%{x}<br>Product=%{y}<extra></extra>",
         "legendgroup": "Land Use Change",
         "marker": {
          "color": "#4C78A8",
          "pattern": {
           "shape": ""
          }
         },
         "name": "Land Use Change",
         "offsetgroup": "Land Use Change",
         "orientation": "h",
         "showlegend": true,
         "textposition": "auto",
         "type": "bar",
         "x": [
          -2.052,
          -0.146,
          -0.029,
          0.013,
          -0.001,
          0.005,
          0.002,
          0.001,
          -0.025,
          0.126,
          0,
          0.18,
          0.589,
          0.315,
          0.009,
          0.025,
          0.372,
          0.1,
          0,
          0.001,
          -0.061,
          0.033,
          0.439,
          1.247,
          0.495,
          0.958,
          0.133,
          0.212,
          -0.022,
          0.709,
          0.534,
          -0.377,
          2.54,
          3.096,
          1.535,
          3.096,
          0.206,
          3.688,
          14.308,
          0.906,
          4.455,
          0.468,
          16.278
         ],
         "xaxis": "x",
         "y": [
          "Nuts",
          "Citrus Fruit",
          "Apples",
          "Root Vegetables",
          "Potatoes",
          "Onions & Leeks",
          "Brassicas",
          "Other Vegetables",
          "Bananas",
          "Other Fruit",
          "Peas",
          "Soymilk",
          "Cassava",
          "Maize (Meal)",
          "Barley (Beer)",
          "Berries & Grapes",
          "Tomatoes",
          "Wheat & Rye (Bread)",
          "Beet Sugar",
          "Oatmeal",
          "Wine",
          "Other Pulses",
          "Groundnuts",
          "Cane Sugar",
          "Milk",
          "Tofu",
          "Sunflower Oil",
          "Rapeseed Oil",
          "Rice",
          "Eggs",
          "Fish (farmed)",
          "Olive Oil",
          "Poultry Meat",
          "Soybean Oil",
          "Pig Meat",
          "Palm Oil",
          "Crustaceans (farmed)",
          "Coffee",
          "Dark Chocolate",
          "Bovine Meat (dairy herd)",
          "Cheese",
          "Lamb & Mutton",
          "Bovine Meat (beef herd)"
         ],
         "yaxis": "y"
        },
        {
         "alignmentgroup": "True",
         "hovertemplate": "Stage=Feed<br>Emissions=%{x}<br>Product=%{y}<extra></extra>",
         "legendgroup": "Feed",
         "marker": {
          "color": "#F58518",
          "pattern": {
           "shape": ""
          }
         },
         "name": "Feed",
         "offsetgroup": "Feed",
         "orientation": "h",
         "showlegend": true,
         "textposition": "auto",
         "type": "bar",
         "x": [
          0,
          0,
          0,
          0,
          0,
          0,
          0,
          0,
          0,
          0,
          0,
          0,
          0,
          0,
          0,
          0,
          0,
          0,
          0,
          0,
          0,
          0,
          0,
          0,
          0.236,
          0,
          0,
          0,
          0,
          2.2,
          0.819,
          0,
          1.775,
          0,
          2.94,
          0,
          2.51,
          0,
          0,
          2.508,
          2.346,
          2.37,
          1.878
         ],
         "xaxis": "x",
         "y": [
          "Nuts",
          "Citrus Fruit",
          "Apples",
          "Root Vegetables",
          "Potatoes",
          "Onions & Leeks",
          "Brassicas",
          "Other Vegetables",
          "Bananas",
          "Other Fruit",
          "Peas",
          "Soymilk",
          "Cassava",
          "Maize (Meal)",
          "Barley (Beer)",
          "Berries & Grapes",
          "Tomatoes",
          "Wheat & Rye (Bread)",
          "Beet Sugar",
          "Oatmeal",
          "Wine",
          "Other Pulses",
          "Groundnuts",
          "Cane Sugar",
          "Milk",
          "Tofu",
          "Sunflower Oil",
          "Rapeseed Oil",
          "Rice",
          "Eggs",
          "Fish (farmed)",
          "Olive Oil",
          "Poultry Meat",
          "Soybean Oil",
          "Pig Meat",
          "Palm Oil",
          "Crustaceans (farmed)",
          "Coffee",
          "Dark Chocolate",
          "Bovine Meat (dairy herd)",
          "Cheese",
          "Lamb & Mutton",
          "Bovine Meat (beef herd)"
         ],
         "yaxis": "y"
        },
        {
         "alignmentgroup": "True",
         "hovertemplate": "Stage=Farm<br>Emissions=%{x}<br>Product=%{y}<extra></extra>",
         "legendgroup": "Farm",
         "marker": {
          "color": "#E45756",
          "pattern": {
           "shape": ""
          }
         },
         "name": "Farm",
         "offsetgroup": "Farm",
         "orientation": "h",
         "showlegend": true,
         "textposition": "auto",
         "type": "bar",
         "x": [
          2.126,
          0.307,
          0.225,
          0.154,
          0.193,
          0.211,
          0.278,
          0.174,
          0.266,
          0.369,
          0.717,
          0.093,
          0.22,
          0.475,
          0.176,
          0.722,
          0.704,
          0.847,
          0.536,
          1.37,
          0.626,
          1.089,
          1.425,
          0.485,
          1.458,
          0.495,
          2.148,
          2.343,
          3.553,
          1.317,
          3.598,
          4.272,
          0.672,
          1.519,
          1.694,
          2.107,
          8.379,
          10.386,
          3.706,
          15.689,
          13.059,
          19.508,
          39.388
         ],
         "xaxis": "x",
         "y": [
          "Nuts",
          "Citrus Fruit",
          "Apples",
          "Root Vegetables",
          "Potatoes",
          "Onions & Leeks",
          "Brassicas",
          "Other Vegetables",
          "Bananas",
          "Other Fruit",
          "Peas",
          "Soymilk",
          "Cassava",
          "Maize (Meal)",
          "Barley (Beer)",
          "Berries & Grapes",
          "Tomatoes",
          "Wheat & Rye (Bread)",
          "Beet Sugar",
          "Oatmeal",
          "Wine",
          "Other Pulses",
          "Groundnuts",
          "Cane Sugar",
          "Milk",
          "Tofu",
          "Sunflower Oil",
          "Rapeseed Oil",
          "Rice",
          "Eggs",
          "Fish (farmed)",
          "Olive Oil",
          "Poultry Meat",
          "Soybean Oil",
          "Pig Meat",
          "Palm Oil",
          "Crustaceans (farmed)",
          "Coffee",
          "Dark Chocolate",
          "Bovine Meat (dairy herd)",
          "Cheese",
          "Lamb & Mutton",
          "Bovine Meat (beef herd)"
         ],
         "yaxis": "y"
        },
        {
         "alignmentgroup": "True",
         "hovertemplate": "Stage=Processing<br>Emissions=%{x}<br>Product=%{y}<extra></extra>",
         "legendgroup": "Processing",
         "marker": {
          "color": "#72B7B2",
          "pattern": {
           "shape": ""
          }
         },
         "name": "Processing",
         "offsetgroup": "Processing",
         "orientation": "h",
         "showlegend": true,
         "textposition": "auto",
         "type": "bar",
         "x": [
          0.032,
          0,
          0.004,
          0,
          0,
          0,
          0,
          0.06,
          0.059,
          0.015,
          0,
          0.163,
          0,
          0.052,
          0.128,
          0,
          0.012,
          0.217,
          0.242,
          0.042,
          0.139,
          0,
          0.372,
          0.037,
          0.149,
          0.794,
          0.229,
          0.193,
          0.065,
          0,
          0.02,
          0.66,
          0.44,
          0.311,
          0.284,
          1.264,
          0,
          0.592,
          0.185,
          1.108,
          0.738,
          1.111,
          1.269
         ],
         "xaxis": "x",
         "y": [
          "Nuts",
          "Citrus Fruit",
          "Apples",
          "Root Vegetables",
          "Potatoes",
          "Onions & Leeks",
          "Brassicas",
          "Other Vegetables",
          "Bananas",
          "Other Fruit",
          "Peas",
          "Soymilk",
          "Cassava",
          "Maize (Meal)",
          "Barley (Beer)",
          "Berries & Grapes",
          "Tomatoes",
          "Wheat & Rye (Bread)",
          "Beet Sugar",
          "Oatmeal",
          "Wine",
          "Other Pulses",
          "Groundnuts",
          "Cane Sugar",
          "Milk",
          "Tofu",
          "Sunflower Oil",
          "Rapeseed Oil",
          "Rice",
          "Eggs",
          "Fish (farmed)",
          "Olive Oil",
          "Poultry Meat",
          "Soybean Oil",
          "Pig Meat",
          "Palm Oil",
          "Crustaceans (farmed)",
          "Coffee",
          "Dark Chocolate",
          "Bovine Meat (dairy herd)",
          "Cheese",
          "Lamb & Mutton",
          "Bovine Meat (beef herd)"
         ],
         "yaxis": "y"
        },
        {
         "alignmentgroup": "True",
         "hovertemplate": "Stage=Transport<br>Emissions=%{x}<br>Product=%{y}<extra></extra>",
         "legendgroup": "Transport",
         "marker": {
          "color": "#54A24B",
          "pattern": {
           "shape": ""
          }
         },
         "name": "Transport",
         "offsetgroup": "Transport",
         "orientation": "h",
         "showlegend": true,
         "textposition": "auto",
         "type": "bar",
         "x": [
          0.067,
          0.094,
          0.096,
          0.114,
          0.094,
          0.095,
          0.095,
          0.164,
          0.292,
          0.182,
          0.095,
          0.11,
          0.094,
          0.06,
          0.035,
          0.238,
          0.177,
          0.129,
          0.629,
          0.067,
          0.093,
          0.096,
          0.12,
          0.784,
          0.09,
          0.177,
          0.201,
          0.19,
          0.096,
          0.084,
          0.111,
          0.482,
          0.276,
          0.299,
          0.343,
          0.208,
          0.206,
          0.13,
          0.061,
          0.424,
          0.138,
          0.49,
          0.346
         ],
         "xaxis": "x",
         "y": [
          "Nuts",
          "Citrus Fruit",
          "Apples",
          "Root Vegetables",
          "Potatoes",
          "Onions & Leeks",
          "Brassicas",
          "Other Vegetables",
          "Bananas",
          "Other Fruit",
          "Peas",
          "Soymilk",
          "Cassava",
          "Maize (Meal)",
          "Barley (Beer)",
          "Berries & Grapes",
          "Tomatoes",
          "Wheat & Rye (Bread)",
          "Beet Sugar",
          "Oatmeal",
          "Wine",
          "Other Pulses",
          "Groundnuts",
          "Cane Sugar",
          "Milk",
          "Tofu",
          "Sunflower Oil",
          "Rapeseed Oil",
          "Rice",
          "Eggs",
          "Fish (farmed)",
          "Olive Oil",
          "Poultry Meat",
          "Soybean Oil",
          "Pig Meat",
          "Palm Oil",
          "Crustaceans (farmed)",
          "Coffee",
          "Dark Chocolate",
          "Bovine Meat (dairy herd)",
          "Cheese",
          "Lamb & Mutton",
          "Bovine Meat (beef herd)"
         ],
         "yaxis": "y"
        },
        {
         "alignmentgroup": "True",
         "hovertemplate": "Stage=Packaging<br>Emissions=%{x}<br>Product=%{y}<extra></extra>",
         "legendgroup": "Packaging",
         "marker": {
          "color": "#EECA3B",
          "pattern": {
           "shape": ""
          }
         },
         "name": "Packaging",
         "offsetgroup": "Packaging",
         "orientation": "h",
         "showlegend": true,
         "textposition": "auto",
         "type": "bar",
         "x": [
          0.078,
          0.045,
          0.044,
          0.045,
          0.045,
          0.045,
          0.045,
          0.041,
          0.065,
          0.042,
          0.045,
          0.098,
          0.045,
          0.06,
          0.497,
          0.212,
          0.145,
          0.09,
          0.09,
          0.066,
          0.749,
          0.353,
          0.099,
          0.083,
          0.097,
          0.177,
          0.853,
          0.844,
          0.084,
          0.161,
          0.061,
          0.861,
          0.212,
          0.849,
          0.296,
          0.886,
          0.334,
          1.63,
          0.4,
          0.268,
          0.172,
          0.251,
          0.247
         ],
         "xaxis": "x",
         "y": [
          "Nuts",
          "Citrus Fruit",
          "Apples",
          "Root Vegetables",
          "Potatoes",
          "Onions & Leeks",
          "Brassicas",
          "Other Vegetables",
          "Bananas",
          "Other Fruit",
          "Peas",
          "Soymilk",
          "Cassava",
          "Maize (Meal)",
          "Barley (Beer)",
          "Berries & Grapes",
          "Tomatoes",
          "Wheat & Rye (Bread)",
          "Beet Sugar",
          "Oatmeal",
          "Wine",
          "Other Pulses",
          "Groundnuts",
          "Cane Sugar",
          "Milk",
          "Tofu",
          "Sunflower Oil",
          "Rapeseed Oil",
          "Rice",
          "Eggs",
          "Fish (farmed)",
          "Olive Oil",
          "Poultry Meat",
          "Soybean Oil",
          "Pig Meat",
          "Palm Oil",
          "Crustaceans (farmed)",
          "Coffee",
          "Dark Chocolate",
          "Bovine Meat (dairy herd)",
          "Cheese",
          "Lamb & Mutton",
          "Bovine Meat (beef herd)"
         ],
         "yaxis": "y"
        },
        {
         "alignmentgroup": "True",
         "hovertemplate": "Stage=Retail<br>Emissions=%{x}<br>Product=%{y}<extra></extra>",
         "legendgroup": "Retail",
         "marker": {
          "color": "#B279A2",
          "pattern": {
           "shape": ""
          }
         },
         "name": "Retail",
         "offsetgroup": "Retail",
         "orientation": "h",
         "showlegend": true,
         "textposition": "auto",
         "type": "bar",
         "x": [
          0.027,
          0.017,
          0.017,
          0.039,
          0.039,
          0.039,
          0.017,
          0.015,
          0.021,
          0.016,
          0.039,
          0.27,
          0.039,
          0.026,
          0.264,
          0.017,
          0.017,
          0.058,
          0.039,
          0.029,
          0.039,
          0.039,
          0.042,
          0.036,
          0.256,
          0.27,
          0.043,
          0.046,
          0.063,
          0.036,
          0.04,
          0.046,
          0.177,
          0.043,
          0.19,
          0.044,
          0.219,
          0.051,
          0.021,
          0.182,
          0.332,
          0.217,
          0.164
         ],
         "xaxis": "x",
         "y": [
          "Nuts",
          "Citrus Fruit",
          "Apples",
          "Root Vegetables",
          "Potatoes",
          "Onions & Leeks",
          "Brassicas",
          "Other Vegetables",
          "Bananas",
          "Other Fruit",
          "Peas",
          "Soymilk",
          "Cassava",
          "Maize (Meal)",
          "Barley (Beer)",
          "Berries & Grapes",
          "Tomatoes",
          "Wheat & Rye (Bread)",
          "Beet Sugar",
          "Oatmeal",
          "Wine",
          "Other Pulses",
          "Groundnuts",
          "Cane Sugar",
          "Milk",
          "Tofu",
          "Sunflower Oil",
          "Rapeseed Oil",
          "Rice",
          "Eggs",
          "Fish (farmed)",
          "Olive Oil",
          "Poultry Meat",
          "Soybean Oil",
          "Pig Meat",
          "Palm Oil",
          "Crustaceans (farmed)",
          "Coffee",
          "Dark Chocolate",
          "Bovine Meat (dairy herd)",
          "Cheese",
          "Lamb & Mutton",
          "Bovine Meat (beef herd)"
         ],
         "yaxis": "y"
        },
        {
         "marker": {
          "color": "black",
          "size": 7,
          "symbol": "line-ns-open"
         },
         "mode": "markers",
         "name": "Total",
         "type": "scatter",
         "x": [
          0.27799999999999986,
          0.317,
          0.35700000000000004,
          0.365,
          0.37,
          0.39499999999999996,
          0.437,
          0.455,
          0.678,
          0.75,
          0.896,
          0.914,
          0.987,
          0.9880000000000002,
          1.109,
          1.214,
          1.427,
          1.441,
          1.536,
          1.575,
          1.5849999999999997,
          1.6099999999999999,
          2.4970000000000003,
          2.672,
          2.7809999999999997,
          2.871,
          3.607,
          3.828,
          3.8390000000000004,
          4.506999999999999,
          5.182999999999999,
          5.944000000000001,
          6.091999999999999,
          6.117000000000001,
          7.282,
          7.605,
          11.853999999999997,
          16.477,
          18.680999999999997,
          21.085,
          21.240000000000002,
          24.415,
          59.56999999999999
         ],
         "y": [
          "Nuts",
          "Citrus Fruit",
          "Apples",
          "Root Vegetables",
          "Potatoes",
          "Onions & Leeks",
          "Brassicas",
          "Other Vegetables",
          "Bananas",
          "Other Fruit",
          "Peas",
          "Soymilk",
          "Cassava",
          "Maize (Meal)",
          "Barley (Beer)",
          "Berries & Grapes",
          "Tomatoes",
          "Wheat & Rye (Bread)",
          "Beet Sugar",
          "Oatmeal",
          "Wine",
          "Other Pulses",
          "Groundnuts",
          "Cane Sugar",
          "Milk",
          "Tofu",
          "Sunflower Oil",
          "Rapeseed Oil",
          "Rice",
          "Eggs",
          "Fish (farmed)",
          "Olive Oil",
          "Poultry Meat",
          "Soybean Oil",
          "Pig Meat",
          "Palm Oil",
          "Crustaceans (farmed)",
          "Coffee",
          "Dark Chocolate",
          "Bovine Meat (dairy herd)",
          "Cheese",
          "Lamb & Mutton",
          "Bovine Meat (beef herd)"
         ]
        }
       ],
       "frames": [
        {
         "data": [
          {
           "marker": {
            "opacity": 1
           },
           "type": "bar"
          },
          {
           "marker": {
            "opacity": 1
           },
           "type": "bar"
          },
          {
           "marker": {
            "opacity": 1
           },
           "type": "bar"
          },
          {
           "marker": {
            "opacity": 1
           },
           "type": "bar"
          },
          {
           "marker": {
            "opacity": 1
           },
           "type": "bar"
          },
          {
           "marker": {
            "opacity": 1
           },
           "type": "bar"
          },
          {
           "marker": {
            "opacity": 1
           },
           "type": "bar"
          }
         ]
        },
        {
         "data": [
          {
           "marker": {
            "opacity": 0.9
           },
           "type": "bar"
          },
          {
           "marker": {
            "opacity": 0.9
           },
           "type": "bar"
          },
          {
           "marker": {
            "opacity": 0.9
           },
           "type": "bar"
          },
          {
           "marker": {
            "opacity": 0.9
           },
           "type": "bar"
          },
          {
           "marker": {
            "opacity": 1
           },
           "type": "bar"
          },
          {
           "marker": {
            "opacity": 0.9
           },
           "type": "bar"
          },
          {
           "marker": {
            "opacity": 0.9
           },
           "type": "bar"
          }
         ]
        },
        {
         "data": [
          {
           "marker": {
            "opacity": 0.8
           },
           "type": "bar"
          },
          {
           "marker": {
            "opacity": 0.8
           },
           "type": "bar"
          },
          {
           "marker": {
            "opacity": 0.8
           },
           "type": "bar"
          },
          {
           "marker": {
            "opacity": 0.8
           },
           "type": "bar"
          },
          {
           "marker": {
            "opacity": 1
           },
           "type": "bar"
          },
          {
           "marker": {
            "opacity": 0.8
           },
           "type": "bar"
          },
          {
           "marker": {
            "opacity": 0.8
           },
           "type": "bar"
          }
         ]
        },
        {
         "data": [
          {
           "marker": {
            "opacity": 0.7
           },
           "type": "bar"
          },
          {
           "marker": {
            "opacity": 0.7
           },
           "type": "bar"
          },
          {
           "marker": {
            "opacity": 0.7
           },
           "type": "bar"
          },
          {
           "marker": {
            "opacity": 0.7
           },
           "type": "bar"
          },
          {
           "marker": {
            "opacity": 1
           },
           "type": "bar"
          },
          {
           "marker": {
            "opacity": 0.7
           },
           "type": "bar"
          },
          {
           "marker": {
            "opacity": 0.7
           },
           "type": "bar"
          }
         ]
        },
        {
         "data": [
          {
           "marker": {
            "opacity": 0.6
           },
           "type": "bar"
          },
          {
           "marker": {
            "opacity": 0.6
           },
           "type": "bar"
          },
          {
           "marker": {
            "opacity": 0.6
           },
           "type": "bar"
          },
          {
           "marker": {
            "opacity": 0.6
           },
           "type": "bar"
          },
          {
           "marker": {
            "opacity": 1
           },
           "type": "bar"
          },
          {
           "marker": {
            "opacity": 0.6
           },
           "type": "bar"
          },
          {
           "marker": {
            "opacity": 0.6
           },
           "type": "bar"
          }
         ]
        },
        {
         "data": [
          {
           "marker": {
            "opacity": 0.5
           },
           "type": "bar"
          },
          {
           "marker": {
            "opacity": 0.5
           },
           "type": "bar"
          },
          {
           "marker": {
            "opacity": 0.5
           },
           "type": "bar"
          },
          {
           "marker": {
            "opacity": 0.5
           },
           "type": "bar"
          },
          {
           "marker": {
            "opacity": 1
           },
           "type": "bar"
          },
          {
           "marker": {
            "opacity": 0.5
           },
           "type": "bar"
          },
          {
           "marker": {
            "opacity": 0.5
           },
           "type": "bar"
          }
         ]
        },
        {
         "data": [
          {
           "marker": {
            "opacity": 0.4
           },
           "type": "bar"
          },
          {
           "marker": {
            "opacity": 0.4
           },
           "type": "bar"
          },
          {
           "marker": {
            "opacity": 0.4
           },
           "type": "bar"
          },
          {
           "marker": {
            "opacity": 0.4
           },
           "type": "bar"
          },
          {
           "marker": {
            "opacity": 1
           },
           "type": "bar"
          },
          {
           "marker": {
            "opacity": 0.4
           },
           "type": "bar"
          },
          {
           "marker": {
            "opacity": 0.4
           },
           "type": "bar"
          }
         ]
        },
        {
         "data": [
          {
           "marker": {
            "opacity": 0.3
           },
           "type": "bar"
          },
          {
           "marker": {
            "opacity": 0.3
           },
           "type": "bar"
          },
          {
           "marker": {
            "opacity": 0.3
           },
           "type": "bar"
          },
          {
           "marker": {
            "opacity": 0.3
           },
           "type": "bar"
          },
          {
           "marker": {
            "opacity": 1
           },
           "type": "bar"
          },
          {
           "marker": {
            "opacity": 0.3
           },
           "type": "bar"
          },
          {
           "marker": {
            "opacity": 0.3
           },
           "type": "bar"
          }
         ]
        },
        {
         "data": [
          {
           "marker": {
            "opacity": 0.2
           },
           "type": "bar"
          },
          {
           "marker": {
            "opacity": 0.2
           },
           "type": "bar"
          },
          {
           "marker": {
            "opacity": 0.2
           },
           "type": "bar"
          },
          {
           "marker": {
            "opacity": 0.2
           },
           "type": "bar"
          },
          {
           "marker": {
            "opacity": 1
           },
           "type": "bar"
          },
          {
           "marker": {
            "opacity": 0.2
           },
           "type": "bar"
          },
          {
           "marker": {
            "opacity": 0.2
           },
           "type": "bar"
          }
         ]
        },
        {
         "data": [
          {
           "marker": {
            "opacity": 0.1
           },
           "type": "bar"
          },
          {
           "marker": {
            "opacity": 0.1
           },
           "type": "bar"
          },
          {
           "marker": {
            "opacity": 0.1
           },
           "type": "bar"
          },
          {
           "marker": {
            "opacity": 0.1
           },
           "type": "bar"
          },
          {
           "marker": {
            "opacity": 1
           },
           "type": "bar"
          },
          {
           "marker": {
            "opacity": 0.1
           },
           "type": "bar"
          },
          {
           "marker": {
            "opacity": 0.1
           },
           "type": "bar"
          }
         ]
        }
       ],
       "layout": {
        "barmode": "group",
        "height": 800,
        "legend": {
         "bgcolor": "rgba(255, 255, 255, 0.7)",
         "bordercolor": "black",
         "borderwidth": 1,
         "font": {
          "color": "black",
          "family": "Arial",
          "size": 12
         },
         "orientation": "h",
         "title": {
          "text": "Legend"
         },
         "tracegroupgap": 0,
         "x": -0.06,
         "xanchor": "left",
         "y": 1.2,
         "yanchor": "top"
        },
        "template": {
         "data": {
          "bar": [
           {
            "error_x": {
             "color": "#2a3f5f"
            },
            "error_y": {
             "color": "#2a3f5f"
            },
            "marker": {
             "line": {
              "color": "#E5ECF6",
              "width": 0.5
             },
             "pattern": {
              "fillmode": "overlay",
              "size": 10,
              "solidity": 0.2
             }
            },
            "type": "bar"
           }
          ],
          "barpolar": [
           {
            "marker": {
             "line": {
              "color": "#E5ECF6",
              "width": 0.5
             },
             "pattern": {
              "fillmode": "overlay",
              "size": 10,
              "solidity": 0.2
             }
            },
            "type": "barpolar"
           }
          ],
          "carpet": [
           {
            "aaxis": {
             "endlinecolor": "#2a3f5f",
             "gridcolor": "white",
             "linecolor": "white",
             "minorgridcolor": "white",
             "startlinecolor": "#2a3f5f"
            },
            "baxis": {
             "endlinecolor": "#2a3f5f",
             "gridcolor": "white",
             "linecolor": "white",
             "minorgridcolor": "white",
             "startlinecolor": "#2a3f5f"
            },
            "type": "carpet"
           }
          ],
          "choropleth": [
           {
            "colorbar": {
             "outlinewidth": 0,
             "ticks": ""
            },
            "type": "choropleth"
           }
          ],
          "contour": [
           {
            "colorbar": {
             "outlinewidth": 0,
             "ticks": ""
            },
            "colorscale": [
             [
              0,
              "#0d0887"
             ],
             [
              0.1111111111111111,
              "#46039f"
             ],
             [
              0.2222222222222222,
              "#7201a8"
             ],
             [
              0.3333333333333333,
              "#9c179e"
             ],
             [
              0.4444444444444444,
              "#bd3786"
             ],
             [
              0.5555555555555556,
              "#d8576b"
             ],
             [
              0.6666666666666666,
              "#ed7953"
             ],
             [
              0.7777777777777778,
              "#fb9f3a"
             ],
             [
              0.8888888888888888,
              "#fdca26"
             ],
             [
              1,
              "#f0f921"
             ]
            ],
            "type": "contour"
           }
          ],
          "contourcarpet": [
           {
            "colorbar": {
             "outlinewidth": 0,
             "ticks": ""
            },
            "type": "contourcarpet"
           }
          ],
          "heatmap": [
           {
            "colorbar": {
             "outlinewidth": 0,
             "ticks": ""
            },
            "colorscale": [
             [
              0,
              "#0d0887"
             ],
             [
              0.1111111111111111,
              "#46039f"
             ],
             [
              0.2222222222222222,
              "#7201a8"
             ],
             [
              0.3333333333333333,
              "#9c179e"
             ],
             [
              0.4444444444444444,
              "#bd3786"
             ],
             [
              0.5555555555555556,
              "#d8576b"
             ],
             [
              0.6666666666666666,
              "#ed7953"
             ],
             [
              0.7777777777777778,
              "#fb9f3a"
             ],
             [
              0.8888888888888888,
              "#fdca26"
             ],
             [
              1,
              "#f0f921"
             ]
            ],
            "type": "heatmap"
           }
          ],
          "heatmapgl": [
           {
            "colorbar": {
             "outlinewidth": 0,
             "ticks": ""
            },
            "colorscale": [
             [
              0,
              "#0d0887"
             ],
             [
              0.1111111111111111,
              "#46039f"
             ],
             [
              0.2222222222222222,
              "#7201a8"
             ],
             [
              0.3333333333333333,
              "#9c179e"
             ],
             [
              0.4444444444444444,
              "#bd3786"
             ],
             [
              0.5555555555555556,
              "#d8576b"
             ],
             [
              0.6666666666666666,
              "#ed7953"
             ],
             [
              0.7777777777777778,
              "#fb9f3a"
             ],
             [
              0.8888888888888888,
              "#fdca26"
             ],
             [
              1,
              "#f0f921"
             ]
            ],
            "type": "heatmapgl"
           }
          ],
          "histogram": [
           {
            "marker": {
             "pattern": {
              "fillmode": "overlay",
              "size": 10,
              "solidity": 0.2
             }
            },
            "type": "histogram"
           }
          ],
          "histogram2d": [
           {
            "colorbar": {
             "outlinewidth": 0,
             "ticks": ""
            },
            "colorscale": [
             [
              0,
              "#0d0887"
             ],
             [
              0.1111111111111111,
              "#46039f"
             ],
             [
              0.2222222222222222,
              "#7201a8"
             ],
             [
              0.3333333333333333,
              "#9c179e"
             ],
             [
              0.4444444444444444,
              "#bd3786"
             ],
             [
              0.5555555555555556,
              "#d8576b"
             ],
             [
              0.6666666666666666,
              "#ed7953"
             ],
             [
              0.7777777777777778,
              "#fb9f3a"
             ],
             [
              0.8888888888888888,
              "#fdca26"
             ],
             [
              1,
              "#f0f921"
             ]
            ],
            "type": "histogram2d"
           }
          ],
          "histogram2dcontour": [
           {
            "colorbar": {
             "outlinewidth": 0,
             "ticks": ""
            },
            "colorscale": [
             [
              0,
              "#0d0887"
             ],
             [
              0.1111111111111111,
              "#46039f"
             ],
             [
              0.2222222222222222,
              "#7201a8"
             ],
             [
              0.3333333333333333,
              "#9c179e"
             ],
             [
              0.4444444444444444,
              "#bd3786"
             ],
             [
              0.5555555555555556,
              "#d8576b"
             ],
             [
              0.6666666666666666,
              "#ed7953"
             ],
             [
              0.7777777777777778,
              "#fb9f3a"
             ],
             [
              0.8888888888888888,
              "#fdca26"
             ],
             [
              1,
              "#f0f921"
             ]
            ],
            "type": "histogram2dcontour"
           }
          ],
          "mesh3d": [
           {
            "colorbar": {
             "outlinewidth": 0,
             "ticks": ""
            },
            "type": "mesh3d"
           }
          ],
          "parcoords": [
           {
            "line": {
             "colorbar": {
              "outlinewidth": 0,
              "ticks": ""
             }
            },
            "type": "parcoords"
           }
          ],
          "pie": [
           {
            "automargin": true,
            "type": "pie"
           }
          ],
          "scatter": [
           {
            "fillpattern": {
             "fillmode": "overlay",
             "size": 10,
             "solidity": 0.2
            },
            "type": "scatter"
           }
          ],
          "scatter3d": [
           {
            "line": {
             "colorbar": {
              "outlinewidth": 0,
              "ticks": ""
             }
            },
            "marker": {
             "colorbar": {
              "outlinewidth": 0,
              "ticks": ""
             }
            },
            "type": "scatter3d"
           }
          ],
          "scattercarpet": [
           {
            "marker": {
             "colorbar": {
              "outlinewidth": 0,
              "ticks": ""
             }
            },
            "type": "scattercarpet"
           }
          ],
          "scattergeo": [
           {
            "marker": {
             "colorbar": {
              "outlinewidth": 0,
              "ticks": ""
             }
            },
            "type": "scattergeo"
           }
          ],
          "scattergl": [
           {
            "marker": {
             "colorbar": {
              "outlinewidth": 0,
              "ticks": ""
             }
            },
            "type": "scattergl"
           }
          ],
          "scattermapbox": [
           {
            "marker": {
             "colorbar": {
              "outlinewidth": 0,
              "ticks": ""
             }
            },
            "type": "scattermapbox"
           }
          ],
          "scatterpolar": [
           {
            "marker": {
             "colorbar": {
              "outlinewidth": 0,
              "ticks": ""
             }
            },
            "type": "scatterpolar"
           }
          ],
          "scatterpolargl": [
           {
            "marker": {
             "colorbar": {
              "outlinewidth": 0,
              "ticks": ""
             }
            },
            "type": "scatterpolargl"
           }
          ],
          "scatterternary": [
           {
            "marker": {
             "colorbar": {
              "outlinewidth": 0,
              "ticks": ""
             }
            },
            "type": "scatterternary"
           }
          ],
          "surface": [
           {
            "colorbar": {
             "outlinewidth": 0,
             "ticks": ""
            },
            "colorscale": [
             [
              0,
              "#0d0887"
             ],
             [
              0.1111111111111111,
              "#46039f"
             ],
             [
              0.2222222222222222,
              "#7201a8"
             ],
             [
              0.3333333333333333,
              "#9c179e"
             ],
             [
              0.4444444444444444,
              "#bd3786"
             ],
             [
              0.5555555555555556,
              "#d8576b"
             ],
             [
              0.6666666666666666,
              "#ed7953"
             ],
             [
              0.7777777777777778,
              "#fb9f3a"
             ],
             [
              0.8888888888888888,
              "#fdca26"
             ],
             [
              1,
              "#f0f921"
             ]
            ],
            "type": "surface"
           }
          ],
          "table": [
           {
            "cells": {
             "fill": {
              "color": "#EBF0F8"
             },
             "line": {
              "color": "white"
             }
            },
            "header": {
             "fill": {
              "color": "#C8D4E3"
             },
             "line": {
              "color": "white"
             }
            },
            "type": "table"
           }
          ]
         },
         "layout": {
          "annotationdefaults": {
           "arrowcolor": "#2a3f5f",
           "arrowhead": 0,
           "arrowwidth": 1
          },
          "autotypenumbers": "strict",
          "coloraxis": {
           "colorbar": {
            "outlinewidth": 0,
            "ticks": ""
           }
          },
          "colorscale": {
           "diverging": [
            [
             0,
             "#8e0152"
            ],
            [
             0.1,
             "#c51b7d"
            ],
            [
             0.2,
             "#de77ae"
            ],
            [
             0.3,
             "#f1b6da"
            ],
            [
             0.4,
             "#fde0ef"
            ],
            [
             0.5,
             "#f7f7f7"
            ],
            [
             0.6,
             "#e6f5d0"
            ],
            [
             0.7,
             "#b8e186"
            ],
            [
             0.8,
             "#7fbc41"
            ],
            [
             0.9,
             "#4d9221"
            ],
            [
             1,
             "#276419"
            ]
           ],
           "sequential": [
            [
             0,
             "#0d0887"
            ],
            [
             0.1111111111111111,
             "#46039f"
            ],
            [
             0.2222222222222222,
             "#7201a8"
            ],
            [
             0.3333333333333333,
             "#9c179e"
            ],
            [
             0.4444444444444444,
             "#bd3786"
            ],
            [
             0.5555555555555556,
             "#d8576b"
            ],
            [
             0.6666666666666666,
             "#ed7953"
            ],
            [
             0.7777777777777778,
             "#fb9f3a"
            ],
            [
             0.8888888888888888,
             "#fdca26"
            ],
            [
             1,
             "#f0f921"
            ]
           ],
           "sequentialminus": [
            [
             0,
             "#0d0887"
            ],
            [
             0.1111111111111111,
             "#46039f"
            ],
            [
             0.2222222222222222,
             "#7201a8"
            ],
            [
             0.3333333333333333,
             "#9c179e"
            ],
            [
             0.4444444444444444,
             "#bd3786"
            ],
            [
             0.5555555555555556,
             "#d8576b"
            ],
            [
             0.6666666666666666,
             "#ed7953"
            ],
            [
             0.7777777777777778,
             "#fb9f3a"
            ],
            [
             0.8888888888888888,
             "#fdca26"
            ],
            [
             1,
             "#f0f921"
            ]
           ]
          },
          "colorway": [
           "#636efa",
           "#EF553B",
           "#00cc96",
           "#ab63fa",
           "#FFA15A",
           "#19d3f3",
           "#FF6692",
           "#B6E880",
           "#FF97FF",
           "#FECB52"
          ],
          "font": {
           "color": "#2a3f5f"
          },
          "geo": {
           "bgcolor": "white",
           "lakecolor": "white",
           "landcolor": "#E5ECF6",
           "showlakes": true,
           "showland": true,
           "subunitcolor": "white"
          },
          "hoverlabel": {
           "align": "left"
          },
          "hovermode": "closest",
          "mapbox": {
           "style": "light"
          },
          "paper_bgcolor": "white",
          "plot_bgcolor": "#E5ECF6",
          "polar": {
           "angularaxis": {
            "gridcolor": "white",
            "linecolor": "white",
            "ticks": ""
           },
           "bgcolor": "#E5ECF6",
           "radialaxis": {
            "gridcolor": "white",
            "linecolor": "white",
            "ticks": ""
           }
          },
          "scene": {
           "xaxis": {
            "backgroundcolor": "#E5ECF6",
            "gridcolor": "white",
            "gridwidth": 2,
            "linecolor": "white",
            "showbackground": true,
            "ticks": "",
            "zerolinecolor": "white"
           },
           "yaxis": {
            "backgroundcolor": "#E5ECF6",
            "gridcolor": "white",
            "gridwidth": 2,
            "linecolor": "white",
            "showbackground": true,
            "ticks": "",
            "zerolinecolor": "white"
           },
           "zaxis": {
            "backgroundcolor": "#E5ECF6",
            "gridcolor": "white",
            "gridwidth": 2,
            "linecolor": "white",
            "showbackground": true,
            "ticks": "",
            "zerolinecolor": "white"
           }
          },
          "shapedefaults": {
           "line": {
            "color": "#2a3f5f"
           }
          },
          "ternary": {
           "aaxis": {
            "gridcolor": "white",
            "linecolor": "white",
            "ticks": ""
           },
           "baxis": {
            "gridcolor": "white",
            "linecolor": "white",
            "ticks": ""
           },
           "bgcolor": "#E5ECF6",
           "caxis": {
            "gridcolor": "white",
            "linecolor": "white",
            "ticks": ""
           }
          },
          "title": {
           "x": 0.05
          },
          "xaxis": {
           "automargin": true,
           "gridcolor": "white",
           "linecolor": "white",
           "ticks": "",
           "title": {
            "standoff": 15
           },
           "zerolinecolor": "white",
           "zerolinewidth": 2
          },
          "yaxis": {
           "automargin": true,
           "gridcolor": "white",
           "linecolor": "white",
           "ticks": "",
           "title": {
            "standoff": 15
           },
           "zerolinecolor": "white",
           "zerolinewidth": 2
          }
         }
        },
        "title": {
         "text": "Interactive Legend for Bar Plot"
        },
        "updatemenus": [
         {
          "buttons": [
           {
            "args": [
             null,
             {
              "frame": {
               "duration": 5
              },
              "transition": {
               "duration": 100
              }
             }
            ],
            "label": "Play",
            "method": "animate"
           },
           {
            "args": [
             {
              "marker.opacity": 1
             },
             [
              0,
              1,
              2,
              3,
              4,
              5,
              6
             ]
            ],
            "label": "Reset",
            "method": "restyle"
           }
          ],
          "direction": "left",
          "showactive": true,
          "type": "buttons",
          "x": 1,
          "xanchor": "right",
          "y": 1.09,
          "yanchor": "top"
         }
        ],
        "xaxis": {
         "anchor": "y",
         "domain": [
          0,
          1
         ],
         "title": {
          "text": "Emissions"
         }
        },
        "yaxis": {
         "anchor": "x",
         "domain": [
          0,
          1
         ],
         "title": {
          "text": "Product"
         }
        }
       }
      }
     },
     "metadata": {},
     "output_type": "display_data"
    }
   ],
   "source": [
    "# updatemenus = [dict(\n",
    "#     type='buttons',\n",
    "#     showactive=True,\n",
    "#     xanchor='right',\n",
    "#     yanchor='top',\n",
    "#     x=1,\n",
    "#     y=1.09,\n",
    "#     pad=dict(l=20, r=20),\n",
    "#     buttons=[dict(\n",
    "#         label='Higlight Transport',\n",
    "#         method='restyle',\n",
    "#         args2=[{'marker.opacity': 0.1}, [i for i in range(len(fig.data)) if i != get_traceindex('Transport', fig)]],\n",
    "#         args=[{'marker.opacity': 1}, list(range(len(fig.data)))]\n",
    "#     )]\n",
    "# )]\n",
    "#  buttons=[dict(\n",
    "#         label='Play',\n",
    "#         method='animate',\n",
    "#         args=[None, dict(frame=dict(duration=100), transition=dict(duration=200))]\n",
    "#     )]\n",
    "\n",
    "print(sns.color_palette(\"tab10\").as_hex())\n",
    "# Create a horizontal stacked bar plot using plotly.express\n",
    "fig = px.bar(df_melted,\n",
    "             y='Product',\n",
    "             x='Emissions',\n",
    "             color='Stage',\n",
    "             height=800,\n",
    "             color_discrete_sequence=standard_discrete,\n",
    "             title=\"Greenhouse gas emissions per food type over the supply chain\")\n",
    "\n",
    "\n",
    "frames = [go.Frame(data=[go.Bar(marker=dict(opacity=opacity)) if i != get_traceindex('Transport', fig) else go.Bar(marker=dict(opacity=1)) for i in range(len(fig.data))]) for opacity in [1, 0.9, 0.8, 0.7, 0.6, 0.5, 0.4, 0.3, 0.2, 0.1]]\n",
    "\n",
    "updatemenus = [dict(\n",
    "    type='buttons',\n",
    "    showactive=True,\n",
    "    xanchor='right',\n",
    "    yanchor='top',\n",
    "    x=1,\n",
    "    y=1.09,\n",
    "    direction=\"left\",\n",
    "    buttons=[\n",
    "    dict(\n",
    "        label='Play',\n",
    "        method='animate',\n",
    "        args=[None, dict(frame=dict(duration=5), transition=dict(duration=100))]\n",
    "    ),\n",
    "    dict(\n",
    "        label='Reset',\n",
    "        method='restyle',\n",
    "        args=[{'marker.opacity': 1}, list(range(len(fig.data)))]    )\n",
    "]\n",
    ")]\n",
    "\n",
    "\n",
    "\n",
    "\n",
    "fig.update_traces()\n",
    "\n",
    "fig.update_layout(barmode='relative')\n",
    "\n",
    "fig.add_scatter(y=df['Product'], x=df['Total'], mode='markers', name='Total', marker=dict(symbol='line-ns-open', color=\"black\", size=7))\n",
    "\n",
    "fig.update_layout(layout,        \n",
    "        legend=dict(\n",
    "        orientation=\"h\",\n",
    "        yanchor=\"top\",\n",
    "        y=1.2,\n",
    "        xanchor=\"left\",\n",
    "        x=-0.06),\n",
    "        updatemenus=updatemenus\n",
    ")\n",
    "\n",
    "\n",
    "# fig.layout.updatemenus[0].buttons[0].args[1][\"frame\"][\"duration\"] = 2000\n",
    "\n",
    "\n",
    "\n",
    "fig.frames = frames\n",
    "\n",
    "\n",
    "# fig.updatemenus[0].buttons[0].args[1] = dict(frame=dict(duration=1000), transition=dict(duration=500))\n",
    "\n",
    "\n",
    "fig.show()\n",
    "\n",
    "\n"
   ]
  },
  {
   "attachments": {},
   "cell_type": "markdown",
   "metadata": {},
   "source": [
    "#### fig6: Animated bar chart of transport emissions per product compared to other types of emissions\n",
    "\n",
    "This figure shows what part of the greenhouse gas emissions for each food type is caused by transport of the product. The figure is meant to show that transport is a tiny portion of the total greenhouse gas emissions, and supports the perspective that the type of food matters more than the sourcing; we need to evaluate what\n",
    "it is we eat, not necessarily where it’s from.\n",
    "\n",
    "A pie chart more concretely shows the relative (total) CO2 impact of transport:"
   ]
  },
  {
   "cell_type": "code",
   "execution_count": null,
   "metadata": {
    "jupyter": {
     "source_hidden": true
    }
   },
   "outputs": [
    {
     "data": {
      "text/plain": [
       "Product            Food Total (M ha; Gg; km3)\n",
       "Land Use Change                    2379469.67\n",
       "Feed                              1098394.985\n",
       "Farm                              7463342.423\n",
       "Processing                         604297.515\n",
       "Transport                          801403.803\n",
       "Packaging                           626870.68\n",
       "Retail                             394202.635\n",
       "Name: 55, dtype: object"
      ]
     },
     "metadata": {},
     "output_type": "display_data"
    },
    {
     "data": {
      "application/vnd.plotly.v1+json": {
       "config": {
        "plotlyServerURL": "https://plot.ly"
       },
       "data": [
        {
         "domain": {
          "x": [
           0,
           1
          ],
          "y": [
           0,
           1
          ]
         },
         "hole": 0.3,
         "hovertemplate": "label=%{label}<br>value=%{value}<extra></extra>",
         "labels": [
          "Land Use Change",
          "Feed",
          "Farm",
          "Processing",
          "Transport",
          "Packaging",
          "Retail"
         ],
         "legendgroup": "",
         "marker": {
          "colors": [
           "#4C78A8",
           "#F58518",
           "#E45756",
           "#72B7B2",
           "#54A24B",
           "#EECA3B",
           "#B279A2",
           "#FF9DA6",
           "#9D755D",
           "#BAB0AC"
          ],
          "line": {
           "color": "#000000",
           "width": 2
          }
         },
         "name": "",
         "showlegend": false,
         "textinfo": "label+percent",
         "textposition": "outside",
         "type": "pie",
         "values": [
          2379469.6699999995,
          1098394.985,
          7463342.423,
          604297.5149999999,
          801403.8030000002,
          626870.6799999999,
          394202.63499999995
         ]
        }
       ],
       "layout": {
        "height": 600,
        "legend": {
         "tracegroupgap": 0
        },
        "template": {
         "data": {
          "bar": [
           {
            "error_x": {
             "color": "#2a3f5f"
            },
            "error_y": {
             "color": "#2a3f5f"
            },
            "marker": {
             "line": {
              "color": "#E5ECF6",
              "width": 0.5
             },
             "pattern": {
              "fillmode": "overlay",
              "size": 10,
              "solidity": 0.2
             }
            },
            "type": "bar"
           }
          ],
          "barpolar": [
           {
            "marker": {
             "line": {
              "color": "#E5ECF6",
              "width": 0.5
             },
             "pattern": {
              "fillmode": "overlay",
              "size": 10,
              "solidity": 0.2
             }
            },
            "type": "barpolar"
           }
          ],
          "carpet": [
           {
            "aaxis": {
             "endlinecolor": "#2a3f5f",
             "gridcolor": "white",
             "linecolor": "white",
             "minorgridcolor": "white",
             "startlinecolor": "#2a3f5f"
            },
            "baxis": {
             "endlinecolor": "#2a3f5f",
             "gridcolor": "white",
             "linecolor": "white",
             "minorgridcolor": "white",
             "startlinecolor": "#2a3f5f"
            },
            "type": "carpet"
           }
          ],
          "choropleth": [
           {
            "colorbar": {
             "outlinewidth": 0,
             "ticks": ""
            },
            "type": "choropleth"
           }
          ],
          "contour": [
           {
            "colorbar": {
             "outlinewidth": 0,
             "ticks": ""
            },
            "colorscale": [
             [
              0,
              "#0d0887"
             ],
             [
              0.1111111111111111,
              "#46039f"
             ],
             [
              0.2222222222222222,
              "#7201a8"
             ],
             [
              0.3333333333333333,
              "#9c179e"
             ],
             [
              0.4444444444444444,
              "#bd3786"
             ],
             [
              0.5555555555555556,
              "#d8576b"
             ],
             [
              0.6666666666666666,
              "#ed7953"
             ],
             [
              0.7777777777777778,
              "#fb9f3a"
             ],
             [
              0.8888888888888888,
              "#fdca26"
             ],
             [
              1,
              "#f0f921"
             ]
            ],
            "type": "contour"
           }
          ],
          "contourcarpet": [
           {
            "colorbar": {
             "outlinewidth": 0,
             "ticks": ""
            },
            "type": "contourcarpet"
           }
          ],
          "heatmap": [
           {
            "colorbar": {
             "outlinewidth": 0,
             "ticks": ""
            },
            "colorscale": [
             [
              0,
              "#0d0887"
             ],
             [
              0.1111111111111111,
              "#46039f"
             ],
             [
              0.2222222222222222,
              "#7201a8"
             ],
             [
              0.3333333333333333,
              "#9c179e"
             ],
             [
              0.4444444444444444,
              "#bd3786"
             ],
             [
              0.5555555555555556,
              "#d8576b"
             ],
             [
              0.6666666666666666,
              "#ed7953"
             ],
             [
              0.7777777777777778,
              "#fb9f3a"
             ],
             [
              0.8888888888888888,
              "#fdca26"
             ],
             [
              1,
              "#f0f921"
             ]
            ],
            "type": "heatmap"
           }
          ],
          "heatmapgl": [
           {
            "colorbar": {
             "outlinewidth": 0,
             "ticks": ""
            },
            "colorscale": [
             [
              0,
              "#0d0887"
             ],
             [
              0.1111111111111111,
              "#46039f"
             ],
             [
              0.2222222222222222,
              "#7201a8"
             ],
             [
              0.3333333333333333,
              "#9c179e"
             ],
             [
              0.4444444444444444,
              "#bd3786"
             ],
             [
              0.5555555555555556,
              "#d8576b"
             ],
             [
              0.6666666666666666,
              "#ed7953"
             ],
             [
              0.7777777777777778,
              "#fb9f3a"
             ],
             [
              0.8888888888888888,
              "#fdca26"
             ],
             [
              1,
              "#f0f921"
             ]
            ],
            "type": "heatmapgl"
           }
          ],
          "histogram": [
           {
            "marker": {
             "pattern": {
              "fillmode": "overlay",
              "size": 10,
              "solidity": 0.2
             }
            },
            "type": "histogram"
           }
          ],
          "histogram2d": [
           {
            "colorbar": {
             "outlinewidth": 0,
             "ticks": ""
            },
            "colorscale": [
             [
              0,
              "#0d0887"
             ],
             [
              0.1111111111111111,
              "#46039f"
             ],
             [
              0.2222222222222222,
              "#7201a8"
             ],
             [
              0.3333333333333333,
              "#9c179e"
             ],
             [
              0.4444444444444444,
              "#bd3786"
             ],
             [
              0.5555555555555556,
              "#d8576b"
             ],
             [
              0.6666666666666666,
              "#ed7953"
             ],
             [
              0.7777777777777778,
              "#fb9f3a"
             ],
             [
              0.8888888888888888,
              "#fdca26"
             ],
             [
              1,
              "#f0f921"
             ]
            ],
            "type": "histogram2d"
           }
          ],
          "histogram2dcontour": [
           {
            "colorbar": {
             "outlinewidth": 0,
             "ticks": ""
            },
            "colorscale": [
             [
              0,
              "#0d0887"
             ],
             [
              0.1111111111111111,
              "#46039f"
             ],
             [
              0.2222222222222222,
              "#7201a8"
             ],
             [
              0.3333333333333333,
              "#9c179e"
             ],
             [
              0.4444444444444444,
              "#bd3786"
             ],
             [
              0.5555555555555556,
              "#d8576b"
             ],
             [
              0.6666666666666666,
              "#ed7953"
             ],
             [
              0.7777777777777778,
              "#fb9f3a"
             ],
             [
              0.8888888888888888,
              "#fdca26"
             ],
             [
              1,
              "#f0f921"
             ]
            ],
            "type": "histogram2dcontour"
           }
          ],
          "mesh3d": [
           {
            "colorbar": {
             "outlinewidth": 0,
             "ticks": ""
            },
            "type": "mesh3d"
           }
          ],
          "parcoords": [
           {
            "line": {
             "colorbar": {
              "outlinewidth": 0,
              "ticks": ""
             }
            },
            "type": "parcoords"
           }
          ],
          "pie": [
           {
            "automargin": true,
            "type": "pie"
           }
          ],
          "scatter": [
           {
            "fillpattern": {
             "fillmode": "overlay",
             "size": 10,
             "solidity": 0.2
            },
            "type": "scatter"
           }
          ],
          "scatter3d": [
           {
            "line": {
             "colorbar": {
              "outlinewidth": 0,
              "ticks": ""
             }
            },
            "marker": {
             "colorbar": {
              "outlinewidth": 0,
              "ticks": ""
             }
            },
            "type": "scatter3d"
           }
          ],
          "scattercarpet": [
           {
            "marker": {
             "colorbar": {
              "outlinewidth": 0,
              "ticks": ""
             }
            },
            "type": "scattercarpet"
           }
          ],
          "scattergeo": [
           {
            "marker": {
             "colorbar": {
              "outlinewidth": 0,
              "ticks": ""
             }
            },
            "type": "scattergeo"
           }
          ],
          "scattergl": [
           {
            "marker": {
             "colorbar": {
              "outlinewidth": 0,
              "ticks": ""
             }
            },
            "type": "scattergl"
           }
          ],
          "scattermapbox": [
           {
            "marker": {
             "colorbar": {
              "outlinewidth": 0,
              "ticks": ""
             }
            },
            "type": "scattermapbox"
           }
          ],
          "scatterpolar": [
           {
            "marker": {
             "colorbar": {
              "outlinewidth": 0,
              "ticks": ""
             }
            },
            "type": "scatterpolar"
           }
          ],
          "scatterpolargl": [
           {
            "marker": {
             "colorbar": {
              "outlinewidth": 0,
              "ticks": ""
             }
            },
            "type": "scatterpolargl"
           }
          ],
          "scatterternary": [
           {
            "marker": {
             "colorbar": {
              "outlinewidth": 0,
              "ticks": ""
             }
            },
            "type": "scatterternary"
           }
          ],
          "surface": [
           {
            "colorbar": {
             "outlinewidth": 0,
             "ticks": ""
            },
            "colorscale": [
             [
              0,
              "#0d0887"
             ],
             [
              0.1111111111111111,
              "#46039f"
             ],
             [
              0.2222222222222222,
              "#7201a8"
             ],
             [
              0.3333333333333333,
              "#9c179e"
             ],
             [
              0.4444444444444444,
              "#bd3786"
             ],
             [
              0.5555555555555556,
              "#d8576b"
             ],
             [
              0.6666666666666666,
              "#ed7953"
             ],
             [
              0.7777777777777778,
              "#fb9f3a"
             ],
             [
              0.8888888888888888,
              "#fdca26"
             ],
             [
              1,
              "#f0f921"
             ]
            ],
            "type": "surface"
           }
          ],
          "table": [
           {
            "cells": {
             "fill": {
              "color": "#EBF0F8"
             },
             "line": {
              "color": "white"
             }
            },
            "header": {
             "fill": {
              "color": "#C8D4E3"
             },
             "line": {
              "color": "white"
             }
            },
            "type": "table"
           }
          ]
         },
         "layout": {
          "annotationdefaults": {
           "arrowcolor": "#2a3f5f",
           "arrowhead": 0,
           "arrowwidth": 1
          },
          "autotypenumbers": "strict",
          "coloraxis": {
           "colorbar": {
            "outlinewidth": 0,
            "ticks": ""
           }
          },
          "colorscale": {
           "diverging": [
            [
             0,
             "#8e0152"
            ],
            [
             0.1,
             "#c51b7d"
            ],
            [
             0.2,
             "#de77ae"
            ],
            [
             0.3,
             "#f1b6da"
            ],
            [
             0.4,
             "#fde0ef"
            ],
            [
             0.5,
             "#f7f7f7"
            ],
            [
             0.6,
             "#e6f5d0"
            ],
            [
             0.7,
             "#b8e186"
            ],
            [
             0.8,
             "#7fbc41"
            ],
            [
             0.9,
             "#4d9221"
            ],
            [
             1,
             "#276419"
            ]
           ],
           "sequential": [
            [
             0,
             "#0d0887"
            ],
            [
             0.1111111111111111,
             "#46039f"
            ],
            [
             0.2222222222222222,
             "#7201a8"
            ],
            [
             0.3333333333333333,
             "#9c179e"
            ],
            [
             0.4444444444444444,
             "#bd3786"
            ],
            [
             0.5555555555555556,
             "#d8576b"
            ],
            [
             0.6666666666666666,
             "#ed7953"
            ],
            [
             0.7777777777777778,
             "#fb9f3a"
            ],
            [
             0.8888888888888888,
             "#fdca26"
            ],
            [
             1,
             "#f0f921"
            ]
           ],
           "sequentialminus": [
            [
             0,
             "#0d0887"
            ],
            [
             0.1111111111111111,
             "#46039f"
            ],
            [
             0.2222222222222222,
             "#7201a8"
            ],
            [
             0.3333333333333333,
             "#9c179e"
            ],
            [
             0.4444444444444444,
             "#bd3786"
            ],
            [
             0.5555555555555556,
             "#d8576b"
            ],
            [
             0.6666666666666666,
             "#ed7953"
            ],
            [
             0.7777777777777778,
             "#fb9f3a"
            ],
            [
             0.8888888888888888,
             "#fdca26"
            ],
            [
             1,
             "#f0f921"
            ]
           ]
          },
          "colorway": [
           "#636efa",
           "#EF553B",
           "#00cc96",
           "#ab63fa",
           "#FFA15A",
           "#19d3f3",
           "#FF6692",
           "#B6E880",
           "#FF97FF",
           "#FECB52"
          ],
          "font": {
           "color": "#2a3f5f"
          },
          "geo": {
           "bgcolor": "white",
           "lakecolor": "white",
           "landcolor": "#E5ECF6",
           "showlakes": true,
           "showland": true,
           "subunitcolor": "white"
          },
          "hoverlabel": {
           "align": "left"
          },
          "hovermode": "closest",
          "mapbox": {
           "style": "light"
          },
          "paper_bgcolor": "white",
          "plot_bgcolor": "#E5ECF6",
          "polar": {
           "angularaxis": {
            "gridcolor": "white",
            "linecolor": "white",
            "ticks": ""
           },
           "bgcolor": "#E5ECF6",
           "radialaxis": {
            "gridcolor": "white",
            "linecolor": "white",
            "ticks": ""
           }
          },
          "scene": {
           "xaxis": {
            "backgroundcolor": "#E5ECF6",
            "gridcolor": "white",
            "gridwidth": 2,
            "linecolor": "white",
            "showbackground": true,
            "ticks": "",
            "zerolinecolor": "white"
           },
           "yaxis": {
            "backgroundcolor": "#E5ECF6",
            "gridcolor": "white",
            "gridwidth": 2,
            "linecolor": "white",
            "showbackground": true,
            "ticks": "",
            "zerolinecolor": "white"
           },
           "zaxis": {
            "backgroundcolor": "#E5ECF6",
            "gridcolor": "white",
            "gridwidth": 2,
            "linecolor": "white",
            "showbackground": true,
            "ticks": "",
            "zerolinecolor": "white"
           }
          },
          "shapedefaults": {
           "line": {
            "color": "#2a3f5f"
           }
          },
          "ternary": {
           "aaxis": {
            "gridcolor": "white",
            "linecolor": "white",
            "ticks": ""
           },
           "baxis": {
            "gridcolor": "white",
            "linecolor": "white",
            "ticks": ""
           },
           "bgcolor": "#E5ECF6",
           "caxis": {
            "gridcolor": "white",
            "linecolor": "white",
            "ticks": ""
           }
          },
          "title": {
           "x": 0.05
          },
          "xaxis": {
           "automargin": true,
           "gridcolor": "white",
           "linecolor": "white",
           "ticks": "",
           "title": {
            "standoff": 15
           },
           "zerolinecolor": "white",
           "zerolinewidth": 2
          },
          "yaxis": {
           "automargin": true,
           "gridcolor": "white",
           "linecolor": "white",
           "ticks": "",
           "title": {
            "standoff": 15
           },
           "zerolinecolor": "white",
           "zerolinewidth": 2
          }
         }
        },
        "title": {
         "text": "Percentage of total GHG emissions by part of supply chain"
        }
       }
      }
     },
     "metadata": {},
     "output_type": "display_data"
    }
   ],
   "source": [
    "df2 = df_per_product.iloc[55]\n",
    "display(df2)\n",
    "fig = px.pie(df2, values=df2.values[1:], names=df2.index[1:], hole=.3, height=600, title='Percentage of total GHG emissions by part of supply chain')\n",
    "fig.update_traces(textposition='outside', textinfo='label+percent', marker=dict(colors=standard_discrete, line=dict(color='#000000', width=2)), showlegend=False)\n",
    "fig.show()"
   ]
  },
  {
   "attachments": {},
   "cell_type": "markdown",
   "metadata": {},
   "source": [
    "#### fig6.5: Pie chart of the total greenhouse gas emissions divided into each part of the supply chain"
   ]
  },
  {
   "attachments": {},
   "cell_type": "markdown",
   "metadata": {},
   "source": [
    "### Reflection\n",
    "\n",
    "following feedback session"
   ]
  },
  {
   "attachments": {},
   "cell_type": "markdown",
   "metadata": {},
   "source": [
    "### Work distribution"
   ]
  },
  {
   "attachments": {},
   "cell_type": "markdown",
   "metadata": {},
   "source": []
  },
  {
   "cell_type": "code",
   "execution_count": null,
   "metadata": {},
   "outputs": [],
   "source": []
  }
 ],
 "metadata": {
  "kernelspec": {
   "display_name": "Python 3 (ipykernel)",
   "language": "python",
   "name": "python3"
  },
  "language_info": {
   "codemirror_mode": {
    "name": "ipython",
    "version": 3
   },
   "file_extension": ".py",
   "mimetype": "text/x-python",
   "name": "python",
   "nbconvert_exporter": "python",
   "pygments_lexer": "ipython3",
   "version": "3.11.3"
  },
  "vscode": {
   "interpreter": {
    "hash": "4b120d14bf374f8a133e4f665cf490f9e10f3a5a495a65bc2a97ae6ed3eac095"
   }
  }
 },
 "nbformat": 4,
 "nbformat_minor": 4
}
